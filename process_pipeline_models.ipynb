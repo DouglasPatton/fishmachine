{
 "cells": [
  {
   "cell_type": "code",
   "execution_count": 1,
   "metadata": {},
   "outputs": [],
   "source": [
    "import os\n",
    "import logging, logging.handlers\n",
    "logdir=os.path.join(os.getcwd(),'log')\n",
    "if not os.path.exists(logdir): os.mkdir(logdir)\n",
    "handlername=os.path.join(logdir,__name__)\n",
    "logging.basicConfig(\n",
    "    handlers=[logging.handlers.RotatingFileHandler(handlername, maxBytes=10**7, backupCount=100)],\n",
    "    level=logging.DEBUG,\n",
    "    format=\"[%(asctime)s] %(levelname)s [%(name)s.%(funcName)s:%(lineno)d] %(message)s\",\n",
    "    datefmt='%Y-%m-%dT%H:%M:%S')\n",
    "logger=logging.getLogger(handlername)"
   ]
  },
  {
   "cell_type": "code",
   "execution_count": 2,
   "metadata": {},
   "outputs": [
    {
     "name": "stdout",
     "output_type": "stream",
     "text": [
      "/home/dp/gits2/kernelkernel/results\n"
     ]
    }
   ],
   "source": [
    "import os\n",
    "import kernelcompare as kc\n",
    "#from importlib import reload\n",
    "import os\n",
    "networkdir=os.path.join('o:','public','dpatton','kernel')\n",
    "'o:/public/dpatton/kernel'\n",
    "cwd=os.getcwd()\n",
    "#cwd='/home/dp/gits2/kernelkernel'\n",
    "resultsdir=os.path.join(cwd, 'results') \n",
    "print(resultsdir)\n",
    "test=kc.KernelCompare(directory=resultsdir)"
   ]
  },
  {
   "cell_type": "code",
   "execution_count": 3,
   "metadata": {},
   "outputs": [],
   "source": [
    "pathlist=test.recursive_build_model_save_pathlist(resultsdir)"
   ]
  },
  {
   "cell_type": "code",
   "execution_count": 4,
   "metadata": {},
   "outputs": [
    {
     "data": {
      "text/plain": [
       "340201"
      ]
     },
     "execution_count": 4,
     "metadata": {},
     "output_type": "execute_result"
    }
   ],
   "source": [
    "len(pathlist)"
   ]
  },
  {
   "cell_type": "code",
   "execution_count": 5,
   "metadata": {},
   "outputs": [],
   "source": [
    "#overwrite_tup=('modeldict:hyper_param_form_dict:Ndiff_exponent','ball_-5_5')\n",
    "overwrite_tup=('opt_settings_dict:method','Nelder-Mead')\n",
    "\n",
    "optiondict_NM={\n",
    "            'xatol':0.05,\n",
    "            'fatol':.0001,\n",
    "            'adaptive':False,\n",
    "            'maxiter':100\n",
    "            }\n",
    "overwrite_tup2=('opt_settings_dict:options',optiondict_NM)"
   ]
  },
  {
   "cell_type": "code",
   "execution_count": 6,
   "metadata": {},
   "outputs": [
    {
     "name": "stdout",
     "output_type": "stream",
     "text": [
      "0.0%, 2.9000000000000004%, 5.8999999999999995%, 8.799999999999999%, 11.799999999999999%, 14.7%, 17.599999999999998%, 20.599999999999998%, 23.5%, 26.5%, 29.4%, 32.300000000000004%, 35.3%, 38.2%, 41.199999999999996%, 44.1%, 47.0%, 50.0%, 52.900000000000006%, 55.800000000000004%, 58.8%, 61.7%, 64.7%, 67.60000000000001%, 70.5%, 73.5%, 76.4%, 79.4%, 82.3%, 85.2%, 88.2%, 91.10000000000001%, 94.1%, 97.0%, 99.9%, "
     ]
    }
   ],
   "source": [
    "I=len(pathlist)\n",
    "for i,path in enumerate(pathlist):\n",
    "    try:\n",
    "        test.overwrite_savedict(path,[overwrite_tup,overwrite_tup2],verbose=0,overwrite=1)\n",
    "        \n",
    "        if not i%10000: print(f'{round((i+1)/I,3)*100}%',end=', ')\n",
    "    except:\n",
    "        test.logger.exception('')\n",
    "    "
   ]
  },
  {
   "cell_type": "code",
   "execution_count": null,
   "metadata": {},
   "outputs": [],
   "source": []
  }
 ],
 "metadata": {
  "kernelspec": {
   "display_name": "Python 3",
   "language": "python",
   "name": "python3"
  },
  "language_info": {
   "codemirror_mode": {
    "name": "ipython",
    "version": 3
   },
   "file_extension": ".py",
   "mimetype": "text/x-python",
   "name": "python",
   "nbconvert_exporter": "python",
   "pygments_lexer": "ipython3",
   "version": "3.7.6"
  }
 },
 "nbformat": 4,
 "nbformat_minor": 4
}
