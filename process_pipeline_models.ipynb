{
 "cells": [
  {
   "cell_type": "code",
   "execution_count": 1,
   "metadata": {},
   "outputs": [],
   "source": [
    "import os\n",
    "import logging, logging.handlers\n",
    "logdir=os.path.join(os.getcwd(),'log')\n",
    "if not os.path.exists(logdir): os.mkdir(logdir)\n",
    "handlername=os.path.join(logdir,__name__)\n",
    "logging.basicConfig(\n",
    "    handlers=[logging.handlers.RotatingFileHandler(handlername, maxBytes=10**7, backupCount=100)],\n",
    "    level=logging.DEBUG,\n",
    "    format=\"[%(asctime)s] %(levelname)s [%(name)s.%(funcName)s:%(lineno)d] %(message)s\",\n",
    "    datefmt='%Y-%m-%dT%H:%M:%S')\n",
    "logger=logging.getLogger(handlername)"
   ]
  },
  {
   "cell_type": "code",
   "execution_count": 2,
   "metadata": {},
   "outputs": [
    {
     "name": "stdout",
     "output_type": "stream",
     "text": [
      "/home/dp/gits2/kernelkernel/results\n"
     ]
    }
   ],
   "source": [
    "import os\n",
    "import kernelcompare as kc\n",
    "#from importlib import reload\n",
    "import os\n",
    "networkdir=os.path.join('o:','public','dpatton','kernel')\n",
    "'o:/public/dpatton/kernel'\n",
    "cwd=os.getcwd()\n",
    "#cwd='/home/dp/gits2/kernelkernel'\n",
    "resultsdir=os.path.join(cwd, 'results') \n",
    "print(resultsdir)\n",
    "test=kc.KernelCompare(directory=resultsdir)"
   ]
  },
  {
   "cell_type": "code",
   "execution_count": 3,
   "metadata": {},
   "outputs": [],
   "source": [
    "pathlist=test.recursive_build_model_save_pathlist(resultsdir)"
   ]
  },
  {
   "cell_type": "code",
   "execution_count": 4,
   "metadata": {},
   "outputs": [
    {
     "data": {
      "text/plain": [
       "280896"
      ]
     },
     "execution_count": 4,
     "metadata": {},
     "output_type": "execute_result"
    }
   ],
   "source": [
    "len(pathlist)"
   ]
  },
  {
   "cell_type": "code",
   "execution_count": 5,
   "metadata": {},
   "outputs": [],
   "source": [
    "\"\"\"overwritetup_list=[\n",
    "    ('modeldict:hyper_param_form_dict:Ndiff_exponent','ball_-5_5'),\n",
    "    ('params:Ndiff_exponent:const','ball_-5_5')\n",
    "]\"\"\"\n",
    "#overwrite_tup=('opt_settings_dict:method','Nelder-Mead')\n",
    "\n",
    "'''optiondict_NM={\n",
    "            'xatol':0.05,\n",
    "            'fatol':.0001,\n",
    "            'adaptive':False,\n",
    "            'maxiter':100\n",
    "            }\n",
    "overwrite_tup2=('opt_settings_dict:options',optiondict_NM)\n",
    "overwritetup_list=[overwrite_tup,overwrite_tup2]'''\n",
    "\n",
    "overwrite_tup=('opt_settings_dict:method','Powell')\n",
    "\n",
    "optiondict_p={'maxiter':4}\n",
    "overwrite_tup2=('opt_settings_dict:options',optiondict_p)\n",
    "overwritetup_list=[overwrite_tup,overwrite_tup2]\n",
    "\n",
    "\n"
   ]
  },
  {
   "cell_type": "code",
   "execution_count": 6,
   "metadata": {},
   "outputs": [
    {
     "name": "stdout",
     "output_type": "stream",
     "text": [
      "0.0%, 3.5999999999999996%, 7.1%, 10.7%, 14.2%, 17.8%, 21.4%, 24.9%, 28.499999999999996%, 32.0%, 35.6%, 39.2%, 42.699999999999996%, 46.300000000000004%, 49.8%, 53.400000000000006%, 56.99999999999999%, 60.5%, 64.1%, 67.60000000000001%, 71.2%, 74.8%, 78.3%, 81.89999999999999%, 85.39999999999999%, 89.0%, 92.60000000000001%, 96.1%, 99.7%, "
     ]
    }
   ],
   "source": [
    "I=len(pathlist)\n",
    "for i,path in enumerate(pathlist):\n",
    "    try:\n",
    "        test.overwrite_savedict(path,overwritetup_list,verbose=0,overwrite=1)\n",
    "        \n",
    "        if not i%10000: print(f'{round((i+1)/I,3)*100}%',end=', ')\n",
    "    except:\n",
    "        test.logger.exception('')\n",
    "    "
   ]
  },
  {
   "cell_type": "code",
   "execution_count": null,
   "metadata": {},
   "outputs": [],
   "source": []
  }
 ],
 "metadata": {
  "kernelspec": {
   "display_name": "Python 3",
   "language": "python",
   "name": "python3"
  },
  "language_info": {
   "codemirror_mode": {
    "name": "ipython",
    "version": 3
   },
   "file_extension": ".py",
   "mimetype": "text/x-python",
   "name": "python",
   "nbconvert_exporter": "python",
   "pygments_lexer": "ipython3",
   "version": "3.7.6"
  }
 },
 "nbformat": 4,
 "nbformat_minor": 4
}
