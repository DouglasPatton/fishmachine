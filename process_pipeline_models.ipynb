{
 "cells": [
  {
   "cell_type": "code",
   "execution_count": null,
   "metadata": {},
   "outputs": [],
   "source": [
    "import os\n",
    "import logging, logging.handlers\n",
    "logdir=os.path.join(os.getcwd(),'log')\n",
    "if not os.path.exists(logdir): os.mkdir(logdir)\n",
    "handlername=os.path.join(logdir,__name__)\n",
    "logging.basicConfig(\n",
    "    handlers=[logging.handlers.RotatingFileHandler(handlername, maxBytes=10**7, backupCount=100)],\n",
    "    level=logging.DEBUG,\n",
    "    format=\"[%(asctime)s] %(levelname)s [%(name)s.%(funcName)s:%(lineno)d] %(message)s\",\n",
    "    datefmt='%Y-%m-%dT%H:%M:%S')"
   ]
  },
  {
   "cell_type": "code",
   "execution_count": 2,
   "metadata": {},
   "outputs": [
    {
     "name": "stdout",
     "output_type": "stream",
     "text": [
      "/home/dp/gits2/kernelkernel/results\n"
     ]
    }
   ],
   "source": [
    "import os\n",
    "import kernelcompare as kc\n",
    "#from importlib import reload\n",
    "import os\n",
    "networkdir=os.path.join('o:','public','dpatton','kernel')\n",
    "'o:/public/dpatton/kernel'\n",
    "cwd=os.getcwd()\n",
    "#cwd='/home/dp/gits2/kernelkernel'\n",
    "resultsdir=os.path.join(cwd, 'results') \n",
    "print(resultsdir)\n",
    "test=kc.KernelCompare(directory=resultsdir)"
   ]
  },
  {
   "cell_type": "code",
   "execution_count": 3,
   "metadata": {},
   "outputs": [],
   "source": [
    "pathlist=test.recursive_build_model_save_pathlist(resultsdir)"
   ]
  },
  {
   "cell_type": "code",
   "execution_count": 4,
   "metadata": {},
   "outputs": [
    {
     "data": {
      "text/plain": [
       "340201"
      ]
     },
     "execution_count": 4,
     "metadata": {},
     "output_type": "execute_result"
    }
   ],
   "source": [
    "len(pathlist)"
   ]
  },
  {
   "cell_type": "code",
   "execution_count": 5,
   "metadata": {},
   "outputs": [],
   "source": [
    "overwrite_tup=('modeldict:hyper_param_form_dict:Ndiff_exponent','ball_-5_5')\n"
   ]
  },
  {
   "cell_type": "code",
   "execution_count": 6,
   "metadata": {},
   "outputs": [
    {
     "name": "stdout",
     "output_type": "stream",
     "text": [
      "0.0%, 0.029%, 0.059%, 0.088%, 0.118%, 0.147%, 0.176%, 0.206%, 0.235%, 0.265%, 0.294%, 0.323%, 0.353%, 0.382%, 0.412%, 0.441%, 0.47%, 0.5%, 0.529%, 0.558%, 0.588%, 0.617%, 0.647%, 0.676%, 0.705%, 0.735%, 0.764%, 0.794%, 0.823%, 0.852%, 0.882%, 0.911%, 0.941%, 0.97%, 0.999%, "
     ]
    }
   ],
   "source": [
    "I=len(pathlist)\n",
    "for i,path in enumerate(pathlist):\n",
    "    try:\n",
    "        test.overwrite_savedict(path,overwrite_tup,verbose=0,overwrite=1)\n",
    "        if not i%10000: print(f'{round((i+1)/I,3)}%',end=', ')\n",
    "    except:\n",
    "        self.logger.exception('')\n",
    "    "
   ]
  },
  {
   "cell_type": "code",
   "execution_count": null,
   "metadata": {},
   "outputs": [],
   "source": []
  }
 ],
 "metadata": {
  "kernelspec": {
   "display_name": "Python 3",
   "language": "python",
   "name": "python3"
  },
  "language_info": {
   "codemirror_mode": {
    "name": "ipython",
    "version": 3
   },
   "file_extension": ".py",
   "mimetype": "text/x-python",
   "name": "python",
   "nbconvert_exporter": "python",
   "pygments_lexer": "ipython3",
   "version": "3.7.6"
  }
 },
 "nbformat": 4,
 "nbformat_minor": 4
}
