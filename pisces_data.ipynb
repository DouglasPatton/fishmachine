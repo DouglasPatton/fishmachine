{
 "cells": [
  {
   "cell_type": "code",
   "execution_count": 1,
   "metadata": {},
   "outputs": [],
   "source": [
    "import pisces_data_huc12 as pdh12"
   ]
  },
  {
   "cell_type": "code",
   "execution_count": 2,
   "metadata": {},
   "outputs": [],
   "source": [
    "datatool=pdh12.DataTool()"
   ]
  },
  {
   "cell_type": "code",
   "execution_count": 3,
   "metadata": {},
   "outputs": [
    {
     "name": "stdout",
     "output_type": "stream",
     "text": [
      "opening C:\\Users\\DPatton\\gits2\\kernelkernel\\data_tool\\NHDplus.data with length:2968706 and type:<class 'pandas.core.frame.DataFrame'>\n"
     ]
    }
   ],
   "source": [
    "datatool.getNHDplus()"
   ]
  },
  {
   "cell_type": "code",
   "execution_count": 4,
   "metadata": {},
   "outputs": [],
   "source": [
    "#varlist=['COMID','HUC12','REACHCODE','TOHUC','Length']\n",
    "#[datatool.dbf[var].tolist()[0] for var in varlist]"
   ]
  },
  {
   "cell_type": "code",
   "execution_count": 5,
   "metadata": {},
   "outputs": [],
   "source": [
    "#type(datatool.NHDplus['COMID'][0])"
   ]
  },
  {
   "cell_type": "code",
   "execution_count": 6,
   "metadata": {},
   "outputs": [],
   "source": [
    "#[ky for ky in datatool.dbf]"
   ]
  },
  {
   "cell_type": "code",
   "execution_count": 7,
   "metadata": {},
   "outputs": [
    {
     "name": "stdout",
     "output_type": "stream",
     "text": [
      "opening C:\\Users\\DPatton\\gits2\\kernelkernel\\data_tool\\specieslist with length:7 and type:<class 'tuple'>\n"
     ]
    }
   ],
   "source": [
    "datatool.buildspecieslist()\n"
   ]
  },
  {
   "cell_type": "code",
   "execution_count": 8,
   "metadata": {},
   "outputs": [
    {
     "name": "stdout",
     "output_type": "stream",
     "text": [
      "opening C:\\Users\\DPatton\\gits2\\kernelkernel\\data_tool\\comidlist with length:2 and has first item length: 39073 and type:<class 'list'>\n"
     ]
    }
   ],
   "source": [
    "datatool.buildCOMIDlist()\n"
   ]
  },
  {
   "cell_type": "code",
   "execution_count": null,
   "metadata": {},
   "outputs": [
    {
     "name": "stdout",
     "output_type": "stream",
     "text": [
      "C:\\Users\\DPatton\\gits2\\kernelkernel\\data_tool\\sidedatacomid_dict does not exist, building COMID site info\n",
      "opening siteinfo.csv with length:39073 and type:<class 'list'>\n",
      "1.0 % ,fail-rate: 0.0 % 2.0 % ,fail-rate: 0.0 % 3.0 % ,fail-rate: 0.0 % 4.0 % ,fail-rate: 0.0 % 5.0 % ,fail-rate: 0.0 % 6.0 % ,fail-rate: 0.0 % 7.0 % ,fail-rate: 0.0 % 8.0 % ,fail-rate: 0.0 % 9.0 % ,fail-rate: 0.0 % 10.0 % ,fail-rate: 0.0 % 11.0 % ,fail-rate: 0.0 % 12.0 % ,fail-rate: 0.0 % 13.0 % ,fail-rate: 0.0 % 14.0 % ,fail-rate: 0.0 % 15.0 % ,fail-rate: 0.0 % 16.0 % ,fail-rate: 0.0 % 17.0 % ,fail-rate: 0.0 % 18.0 % ,fail-rate: 0.0 % 19.0 % ,fail-rate: 0.0 % 20.0 % ,fail-rate: 0.0 % 21.0 % ,fail-rate: 0.0 % 22.0 % ,fail-rate: 0.0 % 23.0 % ,fail-rate: 0.0 % 24.0 % ,fail-rate: 0.0 % 25.0 % ,fail-rate: 0.0 % 26.0 % ,fail-rate: 0.0 % 27.0 % ,fail-rate: 0.0 % 28.0 % ,fail-rate: 0.0 % 29.0 % ,fail-rate: 0.0 % 30.0 % ,fail-rate: 0.0 % 31.0 % ,fail-rate: 0.0 % 32.0 % ,fail-rate: 0.0 % 33.0 % ,fail-rate: 0.0 % 34.0 % ,fail-rate: 0.0 % 35.0 % ,fail-rate: 0.0 % 36.0 % ,fail-rate: 0.0 % 37.0 % ,fail-rate: 0.0 % 38.0 % ,fail-rate: 0.0 % 39.0 % ,fail-rate: 0.0 % "
     ]
    }
   ],
   "source": [
    "datatool.buildCOMIDsiteinfo()\n"
   ]
  },
  {
   "cell_type": "code",
   "execution_count": null,
   "metadata": {},
   "outputs": [],
   "source": [
    "'10003816' in datatool.NHDplus['COMID'].tolist()"
   ]
  },
  {
   "cell_type": "code",
   "execution_count": null,
   "metadata": {},
   "outputs": [],
   "source": [
    "print('self.huc12findfail:',self.huc12findfail)\n",
    "print('self.comidsiteinfofindfail:',self.comidsiteinfofindfail)"
   ]
  },
  {
   "cell_type": "code",
   "execution_count": null,
   "metadata": {},
   "outputs": [],
   "source": [
    "#datatool.buildspeciesdata01_file()"
   ]
  }
 ],
 "metadata": {
  "kernelspec": {
   "display_name": "Python 3",
   "language": "python",
   "name": "python3"
  },
  "language_info": {
   "codemirror_mode": {
    "name": "ipython",
    "version": 3
   },
   "file_extension": ".py",
   "mimetype": "text/x-python",
   "name": "python",
   "nbconvert_exporter": "python",
   "pygments_lexer": "ipython3",
   "version": "3.7.4"
  }
 },
 "nbformat": 4,
 "nbformat_minor": 4
}
