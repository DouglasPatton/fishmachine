{
 "cells": [
  {
   "cell_type": "code",
   "execution_count": 1,
   "metadata": {},
   "outputs": [],
   "source": [
    "import pisces_data_huc12 as pdh12"
   ]
  },
  {
   "cell_type": "code",
   "execution_count": 2,
   "metadata": {},
   "outputs": [
    {
     "data": {
      "text/plain": [
       "'import importlib\\nimportlib.reload(pdh12)'"
      ]
     },
     "execution_count": 2,
     "metadata": {},
     "output_type": "execute_result"
    }
   ],
   "source": [
    "'''import importlib\n",
    "importlib.reload(pdh12)'''"
   ]
  },
  {
   "cell_type": "code",
   "execution_count": 3,
   "metadata": {},
   "outputs": [
    {
     "name": "stdout",
     "output_type": "stream",
     "text": [
      "streamcat data directory: /home/dp/gits/kernelkernel/../sc_data\n"
     ]
    }
   ],
   "source": [
    "datatool=pdh12.PiscesDataTool()"
   ]
  },
  {
   "cell_type": "code",
   "execution_count": 4,
   "metadata": {},
   "outputs": [
    {
     "name": "stdout",
     "output_type": "stream",
     "text": [
      "opening surveydata.csv with length:347981 and type:<class 'list'>\n",
      "[{'genus_species': 'cyprinus carpio', 'lat_dd': '33.47634212', 'lon_dd': '-114.6053022', 'HUC': '15030104', 'COMID': '10003816.A'}, {'genus_species': 'ictalurus punctatus', 'lat_dd': '33.47634212', 'lon_dd': '-114.6053022', 'HUC': '15030104', 'COMID': '10003816.A'}, {'genus_species': 'lepomis macrochirus', 'lat_dd': '33.47634212', 'lon_dd': '-114.6053022', 'HUC': '15030104', 'COMID': '10003816.A'}, {'genus_species': 'micropterus dolomieu', 'lat_dd': '33.47634212', 'lon_dd': '-114.6053022', 'HUC': '15030104', 'COMID': '10003816.A'}, {'genus_species': 'micropterus salmoides', 'lat_dd': '33.47634212', 'lon_dd': '-114.6053022', 'HUC': '15030104', 'COMID': '10003816.A'}]\n"
     ]
    }
   ],
   "source": [
    "datatool.getfishdata()"
   ]
  },
  {
   "cell_type": "code",
   "execution_count": 5,
   "metadata": {},
   "outputs": [
    {
     "name": "stdout",
     "output_type": "stream",
     "text": [
      "opening siteinfo.csv with length:39073 and type:<class 'list'>\n",
      "[{'COMID': '12664.A', 'HUC8': '10190006', 'WA': '31.0599', 'Elev': '1558.498368', 'BMMI': '', 'IWI': '0.142121814', 'Slope': '0.00376068'}, {'COMID': '13584.A', 'HUC8': '10190006', 'WA': '103.8159', 'Elev': '3230.255404', 'BMMI': '', 'IWI': '0.247456983', 'Slope': '0.04717076'}, {'COMID': '79368.A', 'HUC8': '3090206', 'WA': '300.6252', 'Elev': '1.480710958', 'BMMI': '0.226666667', 'IWI': '0.700217294', 'Slope': '0.00001'}, {'COMID': '89748.A', 'HUC8': '3090202', 'WA': '7984.0449', 'Elev': '3.225136491', 'BMMI': '', 'IWI': '0.305446198', 'Slope': '0.00001'}, {'COMID': '89748.B', 'HUC8': '3090202', 'WA': '7984.0449', 'Elev': '3.225136491', 'BMMI': '', 'IWI': '0.305446198', 'Slope': '0.00001'}]\n"
     ]
    }
   ],
   "source": [
    "datatool.getsitedata()"
   ]
  },
  {
   "cell_type": "code",
   "execution_count": 6,
   "metadata": {},
   "outputs": [
    {
     "name": "stdout",
     "output_type": "stream",
     "text": [
      "opening fishhucs.csv with length:99612 and type:<class 'list'>\n",
      "[{'Scientific_name': 'acantharchus pomotis', 'Common_name': 'mud sunfish', 'ID': '1', 'HUC': '2030103', 'Provenance': 'NS'}, {'Scientific_name': 'acantharchus pomotis', 'Common_name': 'mud sunfish', 'ID': '1', 'HUC': '2030104', 'Provenance': 'NS'}, {'Scientific_name': 'acantharchus pomotis', 'Common_name': 'mud sunfish', 'ID': '1', 'HUC': '2030105', 'Provenance': 'NS'}, {'Scientific_name': 'acantharchus pomotis', 'Common_name': 'mud sunfish', 'ID': '1', 'HUC': '2040105', 'Provenance': 'NS'}, {'Scientific_name': 'acantharchus pomotis', 'Common_name': 'mud sunfish', 'ID': '1', 'HUC': '2040201', 'Provenance': 'NS'}]\n"
     ]
    }
   ],
   "source": [
    "datatool.getfishhucs()"
   ]
  },
  {
   "cell_type": "code",
   "execution_count": 7,
   "metadata": {},
   "outputs": [
    {
     "name": "stderr",
     "output_type": "stream",
     "text": [
      "IOPub data rate exceeded.\n",
      "The notebook server will temporarily stop sending output\n",
      "to the client in order to avoid crashing it.\n",
      "To change this limit, set the config variable\n",
      "`--NotebookApp.iopub_data_rate_limit`.\n",
      "\n",
      "Current values:\n",
      "NotebookApp.iopub_data_rate_limit=1000000.0 (bytes/sec)\n",
      "NotebookApp.rate_limit_window=3.0 (secs)\n",
      "\n"
     ]
    }
   ],
   "source": [
    "datatool.gethucdata()"
   ]
  },
  {
   "cell_type": "code",
   "execution_count": 8,
   "metadata": {},
   "outputs": [],
   "source": [
    "datatool.getNHDplus()"
   ]
  },
  {
   "cell_type": "code",
   "execution_count": 9,
   "metadata": {},
   "outputs": [
    {
     "data": {
      "text/plain": [
       "numpy.str_"
      ]
     },
     "execution_count": 9,
     "metadata": {},
     "output_type": "execute_result"
    }
   ],
   "source": [
    "type(datatool.gt.huc12comiddict[list(datatool.gt.huc12comiddict.keys())[0]][0])"
   ]
  },
  {
   "cell_type": "code",
   "execution_count": null,
   "metadata": {},
   "outputs": [],
   "source": [
    "\n"
   ]
  },
  {
   "cell_type": "code",
   "execution_count": 10,
   "metadata": {},
   "outputs": [
    {
     "name": "stdout",
     "output_type": "stream",
     "text": [
      "opening /home/dp/gits/kernelkernel/data_tool/specieslistfiles with length:7 and type:<class 'tuple'>\n"
     ]
    }
   ],
   "source": [
    "datatool.buildspecieslist()\n"
   ]
  },
  {
   "cell_type": "code",
   "execution_count": null,
   "metadata": {},
   "outputs": [],
   "source": []
  },
  {
   "cell_type": "code",
   "execution_count": null,
   "metadata": {},
   "outputs": [],
   "source": []
  },
  {
   "cell_type": "code",
   "execution_count": 11,
   "metadata": {},
   "outputs": [
    {
     "name": "stdout",
     "output_type": "stream",
     "text": [
      "opening /home/dp/gits/kernelkernel/data_tool/specieshuc8files with length:4 and type:<class 'tuple'>\n"
     ]
    }
   ],
   "source": [
    "datatool.buildspecieshuc8list()"
   ]
  },
  {
   "cell_type": "code",
   "execution_count": 12,
   "metadata": {},
   "outputs": [
    {
     "name": "stdout",
     "output_type": "stream",
     "text": [
      "opening /home/dp/gits/kernelkernel/data_tool/comidlist with length:2 and has first item length: 28741 and type:<class 'list'>\n"
     ]
    }
   ],
   "source": [
    "datatool.buildCOMIDlist()\n"
   ]
  },
  {
   "cell_type": "code",
   "execution_count": 13,
   "metadata": {},
   "outputs": [
    {
     "data": {
      "text/plain": [
       "['6844185',\n",
       " '4547936',\n",
       " '22106533',\n",
       " '3704214',\n",
       " '10219478',\n",
       " '15984681',\n",
       " '17914871',\n",
       " '13296038',\n",
       " '13133151',\n",
       " '19649546']"
      ]
     },
     "execution_count": 13,
     "metadata": {},
     "output_type": "execute_result"
    }
   ],
   "source": [
    "datatool.comidlist[0:10]"
   ]
  },
  {
   "cell_type": "code",
   "execution_count": 14,
   "metadata": {},
   "outputs": [
    {
     "name": "stdout",
     "output_type": "stream",
     "text": [
      "opening /home/dp/gits/kernelkernel/data_tool/sitedatacomid_dict with length:4 and has first item length: 28521 and type:<class 'dict'>\n"
     ]
    }
   ],
   "source": [
    "datatool.buildCOMIDsiteinfo()\n"
   ]
  },
  {
   "cell_type": "code",
   "execution_count": null,
   "metadata": {},
   "outputs": [],
   "source": []
  },
  {
   "cell_type": "code",
   "execution_count": null,
   "metadata": {},
   "outputs": [
    {
     "name": "stdout",
     "output_type": "stream",
     "text": [
      "idx:73. idx:240.0%,. 0.0%idx:1629.8%,. ,0.0%idx:2159.9%19.6%,. ,,9.3%0.0%29.5%19.9%,,,,9.4%,18.7%18.8%idx:34429.8%39.3%. ,,,0.0%,28.0%39.8%,28.2%,,8.7%37.3%,idx:42549.1%49.7%,,,. ,37.6%17.4%0.0%46.7%idx:49659.7%58.9%,,,,. ,,26.1%47.1%,56.0%idx:521,34.8%7.9%. ,,68.8%43.5%65.3%,,,52.2%,60.9%,56.5%,69.6%,78.3%,,87.0%74.7%,0.0%15.8%69.6%95.7%,,,,,,7.1%84.0%,93.3%,78.6%,65.9%23.7%88.4%,14.3%,,75.3%21.4%,98.2%,84.7%,94.1%,79.6%,,,31.6%28.6%,,35.7%,39.5%42.9%,,50.0%47.4%,,57.1%,64.3%89.5%55.3%,,,71.4%,78.6%63.2%,99.5%,,85.7%,92.9%,71.1%,78.9%,86.8%,94.7%,idx:426. 0.0%,9.0%,17.9%,26.9%,35.9%idx:526,44.9%. ,53.8%0.0%,,62.8%,71.8%9.3%,80.8%,89.7%,98.7%,,18.6%,27.9%,37.2%,46.5%,55.8%,65.1%,74.4%,83.7%,93.0%,idx:232. 0.0%,6.2%,12.5%,18.8%,25.0%,31.2%,37.5%,43.8%,50.0%,56.2%,62.5%,68.8%,75.0%,81.2%,87.5%,93.8%,idx:201. 0.0%,10.0%,20.0%,30.0%,40.0%,50.0%,60.0%,70.0%,80.0%,90.0%,idx:445. 0.0%,9.3%,18.6%,27.9%,37.2%,46.5%,55.8%,65.1%,74.4%,83.7%,93.0%,idx:30. 0.0%,9.9%,19.9%,29.8%,39.8%,49.7%,59.6%,69.6%,79.5%,89.5%,99.4%,idx:74. 0.0%,9.8%,19.7%,29.5%,39.4%,49.2%,59.0%,68.9%,78.7%,88.6%,98.4%,idx:47. 0.0%,9.9%,19.8%,29.7%,39.6%,49.5%,59.4%,69.3%,79.2%,89.1%,99.0%,"
     ]
    }
   ],
   "source": [
    "datatool.buildspeciesdata01_file()"
   ]
  },
  {
   "cell_type": "code",
   "execution_count": null,
   "metadata": {},
   "outputs": [],
   "source": [
    "datatool.missingvals\n"
   ]
  },
  {
   "cell_type": "code",
   "execution_count": null,
   "metadata": {},
   "outputs": [],
   "source": []
  },
  {
   "cell_type": "code",
   "execution_count": null,
   "metadata": {},
   "outputs": [],
   "source": []
  },
  {
   "cell_type": "code",
   "execution_count": null,
   "metadata": {},
   "outputs": [],
   "source": []
  }
 ],
 "metadata": {
  "kernelspec": {
   "display_name": "Python 3",
   "language": "python",
   "name": "python3"
  },
  "language_info": {
   "codemirror_mode": {
    "name": "ipython",
    "version": 3
   },
   "file_extension": ".py",
   "mimetype": "text/x-python",
   "name": "python",
   "nbconvert_exporter": "python",
   "pygments_lexer": "ipython3",
   "version": "3.8.2"
  }
 },
 "nbformat": 4,
 "nbformat_minor": 4
}
