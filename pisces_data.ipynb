{
 "cells": [
  {
   "cell_type": "code",
   "execution_count": 1,
   "metadata": {},
   "outputs": [],
   "source": [
    "import pisces_data_huc12 as pdh12"
   ]
  },
  {
   "cell_type": "code",
   "execution_count": 2,
   "metadata": {},
   "outputs": [],
   "source": [
    "datatool=pdh12.DataTool()"
   ]
  },
  {
   "cell_type": "code",
   "execution_count": 3,
   "metadata": {},
   "outputs": [
    {
     "name": "stdout",
     "output_type": "stream",
     "text": [
      "opening surveydata.csv with length:347981 and type:<class 'list'>\n",
      "[OrderedDict([('genus_species', 'cyprinus carpio'), ('lat_dd', '33.47634212'), ('lon_dd', '-114.6053022'), ('HUC', '15030104'), ('COMID', '10003816.A')]), OrderedDict([('genus_species', 'ictalurus punctatus'), ('lat_dd', '33.47634212'), ('lon_dd', '-114.6053022'), ('HUC', '15030104'), ('COMID', '10003816.A')]), OrderedDict([('genus_species', 'lepomis macrochirus'), ('lat_dd', '33.47634212'), ('lon_dd', '-114.6053022'), ('HUC', '15030104'), ('COMID', '10003816.A')]), OrderedDict([('genus_species', 'micropterus dolomieu'), ('lat_dd', '33.47634212'), ('lon_dd', '-114.6053022'), ('HUC', '15030104'), ('COMID', '10003816.A')]), OrderedDict([('genus_species', 'micropterus salmoides'), ('lat_dd', '33.47634212'), ('lon_dd', '-114.6053022'), ('HUC', '15030104'), ('COMID', '10003816.A')])]\n"
     ]
    }
   ],
   "source": [
    "datatool.getfishdata()"
   ]
  },
  {
   "cell_type": "code",
   "execution_count": 4,
   "metadata": {},
   "outputs": [
    {
     "name": "stdout",
     "output_type": "stream",
     "text": [
      "opening siteinfo.csv with length:39073 and type:<class 'list'>\n",
      "[OrderedDict([('COMID', '12664.A'), ('HUC8', '10190006'), ('WA', '31.0599'), ('Elev', '1558.498368'), ('BMMI', ''), ('IWI', '0.142121814'), ('Slope', '0.00376068')]), OrderedDict([('COMID', '13584.A'), ('HUC8', '10190006'), ('WA', '103.8159'), ('Elev', '3230.255404'), ('BMMI', ''), ('IWI', '0.247456983'), ('Slope', '0.04717076')]), OrderedDict([('COMID', '79368.A'), ('HUC8', '3090206'), ('WA', '300.6252'), ('Elev', '1.480710958'), ('BMMI', '0.226666667'), ('IWI', '0.700217294'), ('Slope', '0.00001')]), OrderedDict([('COMID', '89748.A'), ('HUC8', '3090202'), ('WA', '7984.0449'), ('Elev', '3.225136491'), ('BMMI', ''), ('IWI', '0.305446198'), ('Slope', '0.00001')]), OrderedDict([('COMID', '89748.B'), ('HUC8', '3090202'), ('WA', '7984.0449'), ('Elev', '3.225136491'), ('BMMI', ''), ('IWI', '0.305446198'), ('Slope', '0.00001')])]\n"
     ]
    }
   ],
   "source": [
    "datatool.getsitedata()"
   ]
  },
  {
   "cell_type": "code",
   "execution_count": 5,
   "metadata": {},
   "outputs": [
    {
     "name": "stdout",
     "output_type": "stream",
     "text": [
      "opening fishhucs.csv with length:99612 and type:<class 'list'>\n",
      "[OrderedDict([('Scientific_name', 'acantharchus pomotis'), ('Common_name', 'mud sunfish'), ('ID', '1'), ('HUC', '2030103'), ('Provenance', 'NS')]), OrderedDict([('Scientific_name', 'acantharchus pomotis'), ('Common_name', 'mud sunfish'), ('ID', '1'), ('HUC', '2030104'), ('Provenance', 'NS')]), OrderedDict([('Scientific_name', 'acantharchus pomotis'), ('Common_name', 'mud sunfish'), ('ID', '1'), ('HUC', '2030105'), ('Provenance', 'NS')]), OrderedDict([('Scientific_name', 'acantharchus pomotis'), ('Common_name', 'mud sunfish'), ('ID', '1'), ('HUC', '2040105'), ('Provenance', 'NS')]), OrderedDict([('Scientific_name', 'acantharchus pomotis'), ('Common_name', 'mud sunfish'), ('ID', '1'), ('HUC', '2040201'), ('Provenance', 'NS')])]\n"
     ]
    }
   ],
   "source": [
    "datatool.getfishhucs()"
   ]
  },
  {
   "cell_type": "code",
   "execution_count": 6,
   "metadata": {},
   "outputs": [
    {
     "name": "stdout",
     "output_type": "stream",
     "text": [
      "opening C:\\Users\\DPatton\\gits3\\kernelkernel\\data_tool\\NHDplus.data with length:2968706 and type:<class 'pandas.core.frame.DataFrame'>\n",
      "           COMID         HUC12       REACHCODE         TOHUC       Length\n",
      "0        6712081  010400020910  01040002000162  010400021005   634.137222\n",
      "1        6712083  010400020910  01040002000163  010400021005  1807.060164\n",
      "2        6712085  010400020908  01040002000164  010400020910  2065.504156\n",
      "3        6712077  010400020908  01040002000165  010400020910  3943.881141\n",
      "4        6712065  010400020908  01040002000166  010400020910   490.857440\n",
      "...          ...           ...             ...           ...          ...\n",
      "2968701  7961217  180200040208  18020004001376  180200040403     0.000000\n",
      "2968702  7961213  180200040208  18020004001378  180200040403     0.000000\n",
      "2968703  7961211  180200040208  18020004001379  180200040403     0.000000\n",
      "2968704  7961205  180200040208  18020004001382  180200040403     0.000000\n",
      "2968705  7961225  180200040208  18020004001387  180200040403     0.000000\n",
      "\n",
      "[2968706 rows x 5 columns]\n",
      "opening C:\\Users\\DPatton\\gits3\\kernelkernel\\data_tool\\NHDplus.data with length:2968706 and type:<class 'pandas.core.frame.DataFrame'>\n",
      "           COMID         HUC12       REACHCODE         TOHUC       Length\n",
      "0        6712081  010400020910  01040002000162  010400021005   634.137222\n",
      "1        6712083  010400020910  01040002000163  010400021005  1807.060164\n",
      "2        6712085  010400020908  01040002000164  010400020910  2065.504156\n",
      "3        6712077  010400020908  01040002000165  010400020910  3943.881141\n",
      "4        6712065  010400020908  01040002000166  010400020910   490.857440\n",
      "...          ...           ...             ...           ...          ...\n",
      "2968701  7961217  180200040208  18020004001376  180200040403     0.000000\n",
      "2968702  7961213  180200040208  18020004001378  180200040403     0.000000\n",
      "2968703  7961211  180200040208  18020004001379  180200040403     0.000000\n",
      "2968704  7961205  180200040208  18020004001382  180200040403     0.000000\n",
      "2968705  7961225  180200040208  18020004001387  180200040403     0.000000\n",
      "\n",
      "[2968706 rows x 5 columns]\n"
     ]
    }
   ],
   "source": [
    "datatool.gethucdata()"
   ]
  },
  {
   "cell_type": "code",
   "execution_count": 7,
   "metadata": {},
   "outputs": [
    {
     "name": "stdout",
     "output_type": "stream",
     "text": [
      "opening C:\\Users\\DPatton\\gits3\\kernelkernel\\data_tool\\specieslist with length:7 and type:<class 'tuple'>\n"
     ]
    }
   ],
   "source": [
    "datatool.buildspecieslist()\n"
   ]
  },
  {
   "cell_type": "code",
   "execution_count": 8,
   "metadata": {},
   "outputs": [
    {
     "name": "stdout",
     "output_type": "stream",
     "text": [
      "opening C:\\Users\\DPatton\\gits3\\kernelkernel\\data_tool\\comidlist with length:2 and has first item length: 347981 and type:<class 'list'>\n"
     ]
    }
   ],
   "source": [
    "datatool.buildCOMIDlist()\n"
   ]
  },
  {
   "cell_type": "code",
   "execution_count": null,
   "metadata": {},
   "outputs": [
    {
     "name": "stdout",
     "output_type": "stream",
     "text": [
      "C:\\Users\\DPatton\\gits3\\kernelkernel\\data_tool\\sitedatacomid_dict does not exist, building COMID site info\n",
      "[0, 69596, 139192, 208788, 278384, 347981]\n",
      "pool starting at 1578511451.5686026\n"
     ]
    }
   ],
   "source": [
    "datatool.buildCOMIDsiteinfo()\n"
   ]
  },
  {
   "cell_type": "code",
   "execution_count": null,
   "metadata": {},
   "outputs": [],
   "source": [
    "datatool.outlist[0][2]"
   ]
  },
  {
   "cell_type": "code",
   "execution_count": null,
   "metadata": {},
   "outputs": [],
   "source": [
    "type(datatool.sitedatacomid_dict)\n",
    "keylist=[key for key in datatool.sitedatacomid_dict]\n",
    "print(len(keylist))\n",
    "print(keylist[0])\n",
    "print(datatool.sitedatacomid_dict[keylist[0]])\n",
    "print(datatool.sitedatacomid_dict['10003816.A'])\n",
    "print(datatool.sitedatacomid_dict['6712081'])"
   ]
  },
  {
   "cell_type": "code",
   "execution_count": null,
   "metadata": {},
   "outputs": [],
   "source": []
  },
  {
   "cell_type": "code",
   "execution_count": null,
   "metadata": {},
   "outputs": [],
   "source": [
    "datatool.buildspeciesdata01_file()"
   ]
  }
 ],
 "metadata": {
  "kernelspec": {
   "display_name": "Python 3",
   "language": "python",
   "name": "python3"
  },
  "language_info": {
   "codemirror_mode": {
    "name": "ipython",
    "version": 3
   },
   "file_extension": ".py",
   "mimetype": "text/x-python",
   "name": "python",
   "nbconvert_exporter": "python",
   "pygments_lexer": "ipython3",
   "version": "3.7.4"
  }
 },
 "nbformat": 4,
 "nbformat_minor": 4
}
