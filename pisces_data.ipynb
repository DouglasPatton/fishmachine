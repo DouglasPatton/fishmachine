{
 "cells": [
  {
   "cell_type": "code",
   "execution_count": 1,
   "metadata": {},
   "outputs": [],
   "source": [
    "import pisces_data_huc12 as pdh12"
   ]
  },
  {
   "cell_type": "code",
   "execution_count": 2,
   "metadata": {},
   "outputs": [
    {
     "data": {
      "text/plain": [
       "'import importlib\\nimportlib.reload(pdh12)'"
      ]
     },
     "execution_count": 2,
     "metadata": {},
     "output_type": "execute_result"
    }
   ],
   "source": [
    "'''import importlib\n",
    "importlib.reload(pdh12)'''"
   ]
  },
  {
   "cell_type": "code",
   "execution_count": 3,
   "metadata": {},
   "outputs": [
    {
     "name": "stdout",
     "output_type": "stream",
     "text": [
      "streamcat data directory: /home/dp/gits/kernelkernel/../sc_data\n"
     ]
    }
   ],
   "source": [
    "datatool=pdh12.PiscesDataTool()"
   ]
  },
  {
   "cell_type": "code",
   "execution_count": 4,
   "metadata": {},
   "outputs": [
    {
     "name": "stdout",
     "output_type": "stream",
     "text": [
      "opening surveydata.csv with length:347981 and type:<class 'list'>\n",
      "[{'genus_species': 'cyprinus carpio', 'lat_dd': '33.47634212', 'lon_dd': '-114.6053022', 'HUC': '15030104', 'COMID': '10003816.A'}, {'genus_species': 'ictalurus punctatus', 'lat_dd': '33.47634212', 'lon_dd': '-114.6053022', 'HUC': '15030104', 'COMID': '10003816.A'}, {'genus_species': 'lepomis macrochirus', 'lat_dd': '33.47634212', 'lon_dd': '-114.6053022', 'HUC': '15030104', 'COMID': '10003816.A'}, {'genus_species': 'micropterus dolomieu', 'lat_dd': '33.47634212', 'lon_dd': '-114.6053022', 'HUC': '15030104', 'COMID': '10003816.A'}, {'genus_species': 'micropterus salmoides', 'lat_dd': '33.47634212', 'lon_dd': '-114.6053022', 'HUC': '15030104', 'COMID': '10003816.A'}]\n"
     ]
    }
   ],
   "source": [
    "datatool.getfishdata()"
   ]
  },
  {
   "cell_type": "code",
   "execution_count": 5,
   "metadata": {},
   "outputs": [
    {
     "name": "stdout",
     "output_type": "stream",
     "text": [
      "opening siteinfo.csv with length:39073 and type:<class 'list'>\n",
      "[{'COMID': '12664.A', 'HUC8': '10190006', 'WA': '31.0599', 'Elev': '1558.498368', 'BMMI': '', 'IWI': '0.142121814', 'Slope': '0.00376068'}, {'COMID': '13584.A', 'HUC8': '10190006', 'WA': '103.8159', 'Elev': '3230.255404', 'BMMI': '', 'IWI': '0.247456983', 'Slope': '0.04717076'}, {'COMID': '79368.A', 'HUC8': '3090206', 'WA': '300.6252', 'Elev': '1.480710958', 'BMMI': '0.226666667', 'IWI': '0.700217294', 'Slope': '0.00001'}, {'COMID': '89748.A', 'HUC8': '3090202', 'WA': '7984.0449', 'Elev': '3.225136491', 'BMMI': '', 'IWI': '0.305446198', 'Slope': '0.00001'}, {'COMID': '89748.B', 'HUC8': '3090202', 'WA': '7984.0449', 'Elev': '3.225136491', 'BMMI': '', 'IWI': '0.305446198', 'Slope': '0.00001'}]\n"
     ]
    }
   ],
   "source": [
    "datatool.getsitedata()"
   ]
  },
  {
   "cell_type": "code",
   "execution_count": 6,
   "metadata": {},
   "outputs": [
    {
     "name": "stdout",
     "output_type": "stream",
     "text": [
      "opening fishhucs.csv with length:99612 and type:<class 'list'>\n",
      "[{'Scientific_name': 'acantharchus pomotis', 'Common_name': 'mud sunfish', 'ID': '1', 'HUC': '2030103', 'Provenance': 'NS'}, {'Scientific_name': 'acantharchus pomotis', 'Common_name': 'mud sunfish', 'ID': '1', 'HUC': '2030104', 'Provenance': 'NS'}, {'Scientific_name': 'acantharchus pomotis', 'Common_name': 'mud sunfish', 'ID': '1', 'HUC': '2030105', 'Provenance': 'NS'}, {'Scientific_name': 'acantharchus pomotis', 'Common_name': 'mud sunfish', 'ID': '1', 'HUC': '2040105', 'Provenance': 'NS'}, {'Scientific_name': 'acantharchus pomotis', 'Common_name': 'mud sunfish', 'ID': '1', 'HUC': '2040201', 'Provenance': 'NS'}]\n"
     ]
    }
   ],
   "source": [
    "datatool.getfishhucs()"
   ]
  },
  {
   "cell_type": "code",
   "execution_count": 7,
   "metadata": {},
   "outputs": [
    {
     "name": "stderr",
     "output_type": "stream",
     "text": [
      "IOPub data rate exceeded.\n",
      "The notebook server will temporarily stop sending output\n",
      "to the client in order to avoid crashing it.\n",
      "To change this limit, set the config variable\n",
      "`--NotebookApp.iopub_data_rate_limit`.\n",
      "\n",
      "Current values:\n",
      "NotebookApp.iopub_data_rate_limit=1000000.0 (bytes/sec)\n",
      "NotebookApp.rate_limit_window=3.0 (secs)\n",
      "\n"
     ]
    }
   ],
   "source": [
    "datatool.gethucdata()"
   ]
  },
  {
   "cell_type": "code",
   "execution_count": 8,
   "metadata": {},
   "outputs": [],
   "source": [
    "datatool.getNHDplus()"
   ]
  },
  {
   "cell_type": "code",
   "execution_count": 9,
   "metadata": {},
   "outputs": [
    {
     "data": {
      "text/plain": [
       "numpy.str_"
      ]
     },
     "execution_count": 9,
     "metadata": {},
     "output_type": "execute_result"
    }
   ],
   "source": [
    "type(datatool.gt.huc12comiddict[list(datatool.gt.huc12comiddict.keys())[0]][0])"
   ]
  },
  {
   "cell_type": "code",
   "execution_count": null,
   "metadata": {},
   "outputs": [],
   "source": [
    "\n"
   ]
  },
  {
   "cell_type": "code",
   "execution_count": 10,
   "metadata": {},
   "outputs": [
    {
     "name": "stdout",
     "output_type": "stream",
     "text": [
      "opening /home/dp/gits/kernelkernel/data_tool/specieslistfiles with length:7 and type:<class 'tuple'>\n"
     ]
    }
   ],
   "source": [
    "datatool.buildspecieslist()\n"
   ]
  },
  {
   "cell_type": "code",
   "execution_count": null,
   "metadata": {},
   "outputs": [],
   "source": []
  },
  {
   "cell_type": "code",
   "execution_count": null,
   "metadata": {},
   "outputs": [],
   "source": []
  },
  {
   "cell_type": "code",
   "execution_count": 11,
   "metadata": {},
   "outputs": [
    {
     "name": "stdout",
     "output_type": "stream",
     "text": [
      "opening /home/dp/gits/kernelkernel/data_tool/specieshuc8files with length:4 and type:<class 'tuple'>\n"
     ]
    }
   ],
   "source": [
    "datatool.buildspecieshuc8list()"
   ]
  },
  {
   "cell_type": "code",
   "execution_count": 12,
   "metadata": {},
   "outputs": [
    {
     "name": "stdout",
     "output_type": "stream",
     "text": [
      "opening /home/dp/gits/kernelkernel/data_tool/comidlist with length:2 and has first item length: 28741 and type:<class 'list'>\n"
     ]
    }
   ],
   "source": [
    "datatool.buildCOMIDlist()\n"
   ]
  },
  {
   "cell_type": "code",
   "execution_count": 13,
   "metadata": {},
   "outputs": [
    {
     "data": {
      "text/plain": [
       "['6844185',\n",
       " '4547936',\n",
       " '22106533',\n",
       " '3704214',\n",
       " '10219478',\n",
       " '15984681',\n",
       " '17914871',\n",
       " '13296038',\n",
       " '13133151',\n",
       " '19649546']"
      ]
     },
     "execution_count": 13,
     "metadata": {},
     "output_type": "execute_result"
    }
   ],
   "source": [
    "datatool.comidlist[0:10]"
   ]
  },
  {
   "cell_type": "code",
   "execution_count": 14,
   "metadata": {},
   "outputs": [
    {
     "name": "stdout",
     "output_type": "stream",
     "text": [
      "opening /home/dp/gits/kernelkernel/data_tool/sitedatacomid_dict with length:4 and has first item length: 28521 and type:<class 'dict'>\n"
     ]
    }
   ],
   "source": [
    "datatool.buildCOMIDsiteinfo()\n"
   ]
  },
  {
   "cell_type": "code",
   "execution_count": null,
   "metadata": {},
   "outputs": [],
   "source": []
  },
  {
   "cell_type": "code",
   "execution_count": null,
   "metadata": {},
   "outputs": [
    {
     "name": "stdout",
     "output_type": "stream",
     "text": [
      "pool starting at 1600182603.553816\n"
     ]
    }
   ],
   "source": [
    "datatool.buildspeciesdata01_file()"
   ]
  },
  {
   "cell_type": "code",
   "execution_count": null,
   "metadata": {},
   "outputs": [],
   "source": [
    "datatool.missingvals\n"
   ]
  },
  {
   "cell_type": "code",
   "execution_count": null,
   "metadata": {},
   "outputs": [],
   "source": []
  }
 ],
 "metadata": {
  "kernelspec": {
   "display_name": "Python 3",
   "language": "python",
   "name": "python3"
  },
  "language_info": {
   "codemirror_mode": {
    "name": "ipython",
    "version": 3
   },
   "file_extension": ".py",
   "mimetype": "text/x-python",
   "name": "python",
   "nbconvert_exporter": "python",
   "pygments_lexer": "ipython3",
   "version": "3.8.2"
  }
 },
 "nbformat": 4,
 "nbformat_minor": 4
}
