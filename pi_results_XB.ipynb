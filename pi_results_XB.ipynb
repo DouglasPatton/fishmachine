{
 "cells": [
  {
   "cell_type": "code",
   "execution_count": null,
   "metadata": {},
   "outputs": [],
   "source": []
  },
  {
   "cell_type": "code",
   "execution_count": 1,
   "metadata": {},
   "outputs": [
    {
     "data": {
      "text/plain": [
       "'/home/dp/hdd/gits/kernelkernel'"
      ]
     },
     "execution_count": 1,
     "metadata": {},
     "output_type": "execute_result"
    }
   ],
   "source": [
    "from os import getcwd;getcwd()"
   ]
  },
  {
   "cell_type": "code",
   "execution_count": 2,
   "metadata": {},
   "outputs": [],
   "source": [
    "from pi_results import PiResults"
   ]
  },
  {
   "cell_type": "code",
   "execution_count": 3,
   "metadata": {},
   "outputs": [],
   "source": [
    "import numpy as np\n",
    "import pandas as pd"
   ]
  },
  {
   "cell_type": "code",
   "execution_count": 4,
   "metadata": {},
   "outputs": [],
   "source": [
    "pr=PiResults()\n"
   ]
  },
  {
   "cell_type": "code",
   "execution_count": 5,
   "metadata": {},
   "outputs": [],
   "source": [
    "#pr.build_X_train_df(rebuild=1)"
   ]
  },
  {
   "cell_type": "code",
   "execution_count": 6,
   "metadata": {},
   "outputs": [],
   "source": [
    "sws=[None,'even']#how to weight species when aggregating. None is \n",
    "znfs=[False,True]"
   ]
  },
  {
   "cell_type": "code",
   "execution_count": 7,
   "metadata": {},
   "outputs": [
    {
     "data": {
      "text/plain": [
       "\"for z in znfs:\\n    for s in sws:\\n        \\n        print(f'z={z} and s={s}')\\n        pr.build_wt_comid_feature_importance(rebuild=1,return_weights=True,zzzno_fish=z,spec_wt=s,fit_scorer='f1_micro') #if rebuild=int, rebuild goes back int steps, if True, goes back all steps\\n        #pr.scale_coef_by_X(spec_wt=s,zzzno_fish=z)\""
      ]
     },
     "execution_count": 7,
     "metadata": {},
     "output_type": "execute_result"
    }
   ],
   "source": [
    "\"\"\"for z in znfs:\n",
    "    for s in sws:\n",
    "        \n",
    "        print(f'z={z} and s={s}')\n",
    "        pr.build_wt_comid_feature_importance(rebuild=1,return_weights=True,zzzno_fish=z,spec_wt=s,fit_scorer='f1_micro') #if rebuild=int, rebuild goes back int steps, if True, goes back all steps\n",
    "        #pr.scale_coef_by_X(spec_wt=s,zzzno_fish=z)\"\"\""
   ]
  },
  {
   "cell_type": "code",
   "execution_count": 8,
   "metadata": {},
   "outputs": [
    {
     "name": "stdout",
     "output_type": "stream",
     "text": [
      "z=False and s=None\n",
      "z=False and s=even\n",
      "z=True and s=even\n"
     ]
    }
   ],
   "source": [
    "for z in znfs:\n",
    "    for s in sws:\n",
    "        \n",
    "        print(f'z={z} and s={s}')\n",
    "        #pr.build_wt_comid_feature_importance(rebuild=1,return_weights=True,zzzno_fish=z,spec_wt=s,fit_scorer='f1_micro') #if rebuild=int, rebuild goes back int steps, if True, goes back all steps\n",
    "        pr.scale_coef_by_X(spec_wt=s,zzzno_fish=z)"
   ]
  },
  {
   "cell_type": "code",
   "execution_count": null,
   "metadata": {},
   "outputs": [],
   "source": []
  }
 ],
 "metadata": {
  "kernelspec": {
   "display_name": "Python 3",
   "language": "python",
   "name": "python3"
  },
  "language_info": {
   "codemirror_mode": {
    "name": "ipython",
    "version": 3
   },
   "file_extension": ".py",
   "mimetype": "text/x-python",
   "name": "python",
   "nbconvert_exporter": "python",
   "pygments_lexer": "ipython3",
   "version": "3.8.2"
  }
 },
 "nbformat": 4,
 "nbformat_minor": 4
}
