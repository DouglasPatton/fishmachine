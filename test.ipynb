{
 "cells": [
  {
   "cell_type": "code",
   "execution_count": null,
   "metadata": {},
   "outputs": [],
   "source": [
    "import os\n",
    "thisdir=os.getcwd()\n",
    "#print(os.listdir(\"../..\"))\n",
    "#print(os.path.exists(\"..\"))\n",
    "i=0\n",
    "\n",
    "for (dirpath,dirnames,filenames) in os.walk(thisdir):\n",
    "    print(i)\n",
    "    print(dirpath)\n",
    "    print(dirnames)\n",
    "    print(filenames)\n",
    "    i+=1\n"
   ]
  },
  {
   "cell_type": "code",
   "execution_count": 16,
   "metadata": {},
   "outputs": [
    {
     "data": {
      "text/plain": [
       "2"
      ]
     },
     "execution_count": 16,
     "metadata": {},
     "output_type": "execute_result"
    }
   ],
   "source": [
    "a={'b':1,'c':2}\n",
    "len(a)"
   ]
  },
  {
   "cell_type": "code",
   "execution_count": 15,
   "metadata": {},
   "outputs": [
    {
     "name": "stdout",
     "output_type": "stream",
     "text": [
      "['a', ['cde']]\n"
     ]
    }
   ],
   "source": [
    "a='a'\n",
    "b='b'\n",
    "alist=[a]\n",
    "alist.append(['cde'])\n",
    "print(alist)"
   ]
  },
  {
   "cell_type": "code",
   "execution_count": 5,
   "metadata": {},
   "outputs": [
    {
     "data": {
      "text/plain": [
       "3"
      ]
     },
     "execution_count": 5,
     "metadata": {},
     "output_type": "execute_result"
    }
   ],
   "source": [
    "round(3.2)"
   ]
  },
  {
   "cell_type": "code",
   "execution_count": 10,
   "metadata": {},
   "outputs": [
    {
     "name": "stdout",
     "output_type": "stream",
     "text": [
      "1 b 1\n"
     ]
    }
   ],
   "source": [
    "a=1;b=3\n",
    "print(a,'b %d' % a)"
   ]
  },
  {
   "cell_type": "code",
   "execution_count": 3,
   "metadata": {},
   "outputs": [],
   "source": [
    "a=3\n",
    "try:a\n",
    "except:print('no')"
   ]
  },
  {
   "cell_type": "code",
   "execution_count": 4,
   "metadata": {},
   "outputs": [
    {
     "data": {
      "text/plain": [
       "False"
      ]
     },
     "execution_count": 4,
     "metadata": {},
     "output_type": "execute_result"
    }
   ],
   "source": [
    "any([])"
   ]
  },
  {
   "cell_type": "code",
   "execution_count": 7,
   "metadata": {},
   "outputs": [
    {
     "data": {
      "text/plain": [
       "True"
      ]
     },
     "execution_count": 7,
     "metadata": {},
     "output_type": "execute_result"
    }
   ],
   "source": [
    "'b' in ['a','b']"
   ]
  },
  {
   "cell_type": "code",
   "execution_count": 9,
   "metadata": {},
   "outputs": [
    {
     "data": {
      "text/plain": [
       "array([[1., 1., 1., 1., 1., 1., 1., 1., 1., 1.],\n",
       "       [1., 1., 1., 1., 1., 1., 1., 1., 1., 1.]])"
      ]
     },
     "execution_count": 9,
     "metadata": {},
     "output_type": "execute_result"
    }
   ],
   "source": [
    "import numpy as np\n",
    "np.mean([1,2,3])\n",
    "np.ones((10,2)).T"
   ]
  },
  {
   "cell_type": "code",
   "execution_count": 7,
   "metadata": {},
   "outputs": [
    {
     "name": "stdout",
     "output_type": "stream",
     "text": [
      "[[[ 0  8]\n",
      "  [16 24]]\n",
      "\n",
      " [[32 40]\n",
      "  [48 56]]]\n",
      "[[[ 0  8]\n",
      "  [16 24]]\n",
      "\n",
      " [[32 40]\n",
      "  [48 56]]]\n"
     ]
    }
   ],
   "source": [
    "import numpy as np\n",
    "#np.linspace(-4,4,9)\n",
    "#print(np.log(np.exp(1)))\n",
    "\n",
    "b=np.arange(64).reshape([2,2,2,2,2,2])\n",
    "print(b[:,:,:,0,0,0])\n",
    "print(b[...,0,0,0])"
   ]
  },
  {
   "cell_type": "code",
   "execution_count": 13,
   "metadata": {},
   "outputs": [
    {
     "name": "stdout",
     "output_type": "stream",
     "text": [
      "[-8.         -7.05273004 -6.21762513 -5.48140394 -4.83235778 -4.26016436\n",
      " -3.75572364 -3.31101312 -2.91896021 -2.5733298  -2.26862504 -2.\n",
      " -1.76318251 -1.55440628 -1.37035098 -1.20808944 -1.06504109  1.06504109\n",
      "  1.20808944  1.37035098  1.55440628  1.76318251  2.          2.26862504\n",
      "  2.5733298   2.91896021  3.31101312  3.75572364  4.26016436  4.83235778\n",
      "  5.48140394  6.21762513  7.05273004  8.        ]\n"
     ]
    }
   ],
   "source": [
    "count=34\n",
    "gridrange=8\n",
    "log_gridrange=np.log(gridrange)\n",
    "log_grid=np.linspace(-log_gridrange,log_gridrange,count)\n",
    "grid=np.concatenate((-np.exp(-log_grid[log_grid<0]),log_grid[log_grid==0],np.exp(log_grid[log_grid>0])),axis=0)\n",
    "print(grid)"
   ]
  },
  {
   "cell_type": "code",
   "execution_count": 25,
   "metadata": {},
   "outputs": [
    {
     "name": "stdout",
     "output_type": "stream",
     "text": [
      "[-8.         -6.1688433  -4.75682846 -3.66801617 -2.82842712 -2.18101547\n",
      " -1.68179283 -1.29683955 -1.         -0.77110541 -0.59460356 -0.45850202\n",
      " -0.35355339 -0.27262693 -0.2102241  -0.16210494 -0.125       0.\n",
      "  0.125       0.16210494  0.2102241   0.27262693  0.35355339  0.45850202\n",
      "  0.59460356  0.77110541  1.          1.29683955  1.68179283  2.18101547\n",
      "  2.82842712  3.66801617  4.75682846  6.1688433   8.        ]\n",
      "[1.8311567  1.41201484 1.08881229 0.83958905 0.64741166 0.49922263\n",
      " 0.38495328 0.29683955 0.22889459 0.17650186 0.13610154 0.10494863\n",
      " 0.08092646 0.06240283 0.04811916 0.03710494 0.125      0.125\n",
      " 0.03710494 0.04811916 0.06240283 0.08092646 0.10494863 0.13610154\n",
      " 0.17650186 0.22889459 0.29683955 0.38495328 0.49922263 0.64741166\n",
      " 0.83958905 1.08881229 1.41201484 1.8311567 ]\n"
     ]
    }
   ],
   "source": [
    "count=35\n",
    "gridrange=8\n",
    "log_gridrange=np.log(gridrange)\n",
    "log_grid=np.linspace(-log_gridrange,log_gridrange,count//2)\n",
    "if count%2==1: zerolist=np.array([0])\n",
    "else:zerolist=np.array([])\n",
    "halfgrid=np.exp(log_grid)\n",
    "grid=np.concatenate((-halfgrid[::-1],zerolist,halfgrid),axis=0)\n",
    "print(grid)\n",
    "print(np.diff(grid))"
   ]
  },
  {
   "cell_type": "code",
   "execution_count": 43,
   "metadata": {},
   "outputs": [
    {
     "name": "stdout",
     "output_type": "stream",
     "text": [
      "[-5.         -4.53070811 -4.09812204 -3.69937082 -3.33180806 -2.99299433\n",
      " -2.68068102 -2.3927954  -2.12742684 -1.88281417 -1.65733395 -1.44948974\n",
      " -1.25790213 -1.08129961 -0.91851011 -0.76845323 -0.63013311 -0.50263174\n",
      " -0.38510292 -0.27676666 -0.17690396 -0.08485204  0.          0.08485204\n",
      "  0.17690396  0.27676666  0.38510292  0.50263174  0.63013311  0.76845323\n",
      "  0.91851011  1.08129961  1.25790213  1.44948974  1.65733395  1.88281417\n",
      "  2.12742684  2.3927954   2.68068102  2.99299433  3.33180806  3.69937082\n",
      "  4.09812204  4.53070811  5.        ]\n",
      "(45,)\n",
      "[0.46929189 0.43258607 0.39875122 0.36756277 0.33881373 0.31231331\n",
      " 0.28788562 0.26536856 0.24461267 0.22548022 0.20784421 0.19158761\n",
      " 0.17660252 0.1627895  0.15005687 0.13832013 0.12750137 0.11752881\n",
      " 0.10833626 0.09986271 0.09205191 0.08485204 0.08485204 0.09205191\n",
      " 0.09986271 0.10833626 0.11752881 0.12750137 0.13832013 0.15005687\n",
      " 0.1627895  0.17660252 0.19158761 0.20784421 0.22548022 0.24461267\n",
      " 0.26536856 0.28788562 0.31231331 0.33881373 0.36756277 0.39875122\n",
      " 0.43258607 0.46929189]\n"
     ]
    }
   ],
   "source": [
    "count=44\n",
    "gridrange=5\n",
    "log_gridrange=np.log(gridrange+1)\n",
    "log_grid=np.linspace(0,log_gridrange,(count+2)//2)\n",
    "halfgrid=np.exp(log_grid[1:])-1\n",
    "grid=np.concatenate((-halfgrid[::-1],np.array([0]),halfgrid),axis=0)\n",
    "print(grid)\n",
    "print(grid.shape)\n",
    "print(np.diff(grid))"
   ]
  },
  {
   "cell_type": "code",
   "execution_count": null,
   "metadata": {},
   "outputs": [],
   "source": [
    "a=[1,2,[[3,4],4]]\n",
    "aa=[1,2,[[3,2],4]]\n",
    "b=[4,5,6]\n",
    "c=[a,b]\n",
    "d=[b,a]\n",
    "e=[c,d]\n",
    "f=[ii for i in e for ii in i]\n",
    "print(e)\n",
    "print(f)\n",
    "print(a==aa)\n",
    "print(all([a[i]==aa[i] for i in range(len(a))]))"
   ]
  },
  {
   "cell_type": "code",
   "execution_count": null,
   "metadata": {},
   "outputs": [],
   "source": [
    "all(a)==all(aa)"
   ]
  },
  {
   "cell_type": "code",
   "execution_count": null,
   "metadata": {},
   "outputs": [],
   "source": [
    "a=()\n",
    "b=a+(1,)\n",
    "b"
   ]
  },
  {
   "cell_type": "code",
   "execution_count": null,
   "metadata": {},
   "outputs": [],
   "source": [
    "dict==list\n"
   ]
  },
  {
   "cell_type": "code",
   "execution_count": null,
   "metadata": {},
   "outputs": [],
   "source": [
    "import datetime\n",
    "datetime.datetime.strptime(None,\"%Y%m%d-%H%M%S\")   \n",
    "print('a'\n",
    "     'b')"
   ]
  },
  {
   "cell_type": "code",
   "execution_count": null,
   "metadata": {},
   "outputs": [],
   "source": [
    "from copy import deepcopy\n",
    "a={'a':np.arange(2)}\n",
    "b={'a':np.arange(3)}\n",
    "c=all(a)==all(b)\n",
    "print(c)"
   ]
  },
  {
   "cell_type": "code",
   "execution_count": null,
   "metadata": {},
   "outputs": [],
   "source": [
    "import os\n",
    "os.path.exists(os.getcwd())\n"
   ]
  },
  {
   "cell_type": "code",
   "execution_count": null,
   "metadata": {},
   "outputs": [],
   "source": [
    "print(all([True,False]))"
   ]
  },
  {
   "cell_type": "code",
   "execution_count": null,
   "metadata": {},
   "outputs": [],
   "source": [
    "from copy import deepcopy\n",
    "c=[2,3]\n",
    "adoubledict={'test_string':c}\n",
    "string='test_string'\n",
    "new_dict={string:adoubledict[string]}\n",
    "print(new_dict)\n",
    "a=deepcopy(new_dict)\n",
    "b=new_dict.copy()\n",
    "c.append(4)\n",
    "print(new_dict)\n",
    "print(a)\n",
    "print(b)"
   ]
  },
  {
   "cell_type": "code",
   "execution_count": null,
   "metadata": {},
   "outputs": [],
   "source": [
    "from time import strftime\n",
    "now=strftime(\"%Y%m%d-%H%M%S\")\n",
    "print(now)"
   ]
  },
  {
   "cell_type": "code",
   "execution_count": null,
   "metadata": {},
   "outputs": [],
   "source": [
    "import os\n",
    "#os.listdir()\n",
    "b=None\n",
    "#os.listdir(None)\n",
    "os.chdir(os.path.join('c:/users/','dpatton','documents'))\n",
    "os.listdir(None)"
   ]
  },
  {
   "cell_type": "code",
   "execution_count": null,
   "metadata": {},
   "outputs": [],
   "source": [
    "import os\n",
    "os.chdir('o:/public/dpatton/')\n",
    "os.getcwd()"
   ]
  },
  {
   "cell_type": "code",
   "execution_count": null,
   "metadata": {},
   "outputs": [],
   "source": [
    "a=([],1)\n",
    "a[0].append(2)\n",
    "a"
   ]
  },
  {
   "cell_type": "code",
   "execution_count": null,
   "metadata": {},
   "outputs": [],
   "source": [
    "a=[1]\n",
    "a.append(a.append(2))\n",
    "print(a)"
   ]
  },
  {
   "cell_type": "code",
   "execution_count": 6,
   "metadata": {},
   "outputs": [
    {
     "name": "stdout",
     "output_type": "stream",
     "text": [
      "{'a': [1, 2, 3]}\n"
     ]
    },
    {
     "ename": "TypeError",
     "evalue": "'dict_items' object is not subscriptable",
     "output_type": "error",
     "traceback": [
      "\u001b[1;31m---------------------------------------------------------------------------\u001b[0m",
      "\u001b[1;31mTypeError\u001b[0m                                 Traceback (most recent call last)",
      "\u001b[1;32m<ipython-input-6-9a79f32aa339>\u001b[0m in \u001b[0;36m<module>\u001b[1;34m\u001b[0m\n\u001b[0;32m      2\u001b[0m \u001b[0mb\u001b[0m\u001b[1;33m[\u001b[0m\u001b[1;34m'a'\u001b[0m\u001b[1;33m]\u001b[0m\u001b[1;33m.\u001b[0m\u001b[0mappend\u001b[0m\u001b[1;33m(\u001b[0m\u001b[1;36m3\u001b[0m\u001b[1;33m)\u001b[0m\u001b[1;33m\u001b[0m\u001b[1;33m\u001b[0m\u001b[0m\n\u001b[0;32m      3\u001b[0m \u001b[0mprint\u001b[0m\u001b[1;33m(\u001b[0m\u001b[0mb\u001b[0m\u001b[1;33m)\u001b[0m\u001b[1;33m\u001b[0m\u001b[1;33m\u001b[0m\u001b[0m\n\u001b[1;32m----> 4\u001b[1;33m \u001b[0mb\u001b[0m\u001b[1;33m.\u001b[0m\u001b[0mitems\u001b[0m\u001b[1;33m(\u001b[0m\u001b[1;33m)\u001b[0m\u001b[1;33m[\u001b[0m\u001b[1;36m0\u001b[0m\u001b[1;33m]\u001b[0m\u001b[1;33m\u001b[0m\u001b[1;33m\u001b[0m\u001b[0m\n\u001b[0m",
      "\u001b[1;31mTypeError\u001b[0m: 'dict_items' object is not subscriptable"
     ]
    }
   ],
   "source": [
    "b={'a':[1,2]}\n",
    "b['a'].append(3)\n",
    "print(b)\n",
    "b.items()[0]"
   ]
  },
  {
   "cell_type": "code",
   "execution_count": null,
   "metadata": {},
   "outputs": [],
   "source": [
    "import numpy as np\n",
    "np.round(np.log(1001),0)\n",
    "np.abs(-1)"
   ]
  },
  {
   "cell_type": "code",
   "execution_count": null,
   "metadata": {},
   "outputs": [],
   "source": [
    "a=None\n",
    "def printor(b):\n",
    "    if b==None or b.lower()=='yes':\n",
    "        print('boom')\n",
    "printor(None)\n",
    "printor('Yes')"
   ]
  },
  {
   "cell_type": "code",
   "execution_count": null,
   "metadata": {},
   "outputs": [],
   "source": [
    "[0]*2"
   ]
  },
  {
   "cell_type": "code",
   "execution_count": null,
   "metadata": {},
   "outputs": [],
   "source": [
    "a=[1,2,3]\n",
    "print(a[-99:])"
   ]
  },
  {
   "cell_type": "code",
   "execution_count": null,
   "metadata": {},
   "outputs": [],
   "source": [
    "a=[1,2,3]\n",
    "print(a)\n",
    "b=a.copy()\n",
    "b[0]=99\n",
    "print(a)\n",
    "a[True,True,False]"
   ]
  },
  {
   "cell_type": "code",
   "execution_count": null,
   "metadata": {},
   "outputs": [],
   "source": [
    "a={'b':1,'c':2}\n",
    "d=a.copy()\n",
    "d['b']=None\n",
    "print(a)"
   ]
  },
  {
   "cell_type": "code",
   "execution_count": null,
   "metadata": {},
   "outputs": [],
   "source": [
    "import numpy as np\n",
    "from time import strftime\n",
    "timestr = strftime(\"%Y%m%d-%H%M%S\")\n",
    "print(timestr)\n",
    "np.arange(10**9)\n",
    "timestr = strftime(\"%Y%m%d-%H%M%S\")\n",
    "print(timestr)"
   ]
  },
  {
   "cell_type": "code",
   "execution_count": null,
   "metadata": {},
   "outputs": [],
   "source": [
    "print(run1.optimizedict)\n",
    "partial_newdict={'hyper_param_dict':{'Ndiff_exponent':'boom!'}}\n",
    "altereddict=run1.do_dict_override(run1.optimizedict,partial_newdict)\n",
    "print(altereddict)"
   ]
  },
  {
   "cell_type": "code",
   "execution_count": null,
   "metadata": {},
   "outputs": [],
   "source": [
    "import numpy as np\n",
    "a=[i for i in range(2,0,-1)]\n",
    "print(str(a)+'test\\n'+'test2')\n",
    "b=[i+3 for i in a]\n",
    "print(b)\n",
    "amax=max(a)\n",
    "print(a.index(amax))"
   ]
  },
  {
   "cell_type": "code",
   "execution_count": null,
   "metadata": {},
   "outputs": [],
   "source": [
    "print(type('a'))"
   ]
  },
  {
   "cell_type": "code",
   "execution_count": null,
   "metadata": {},
   "outputs": [],
   "source": [
    "import data_gen as dg\n",
    "gen_params=2\n",
    "data1=dg.data_gen(data_shape=(500,gen_params),seed=1,ftype='quadratic',evar=3)\n",
    "#xdata=data1.x[:,:-1]#drop last x\n",
    "size=65\n",
    "xdata=data1.x[0:size,:gen_params+1]\n",
    "ydata=data1.y[0:size]\n",
    "y=ydata\n",
    "xfull=xdata\n",
    "x=xdata[:,1:] #drop first column of x (all 1's)\n",
    "e=data1.e\n",
    "n,p=x.shape\n",
    "print(x.shape)\n",
    "print(f'xdata.shape{xdata.shape}')\n",
    "\n",
    "xvalidate=data1.x[100:500,1:]\n",
    "yvalidate=data1.y[100:500]"
   ]
  },
  {
   "cell_type": "code",
   "execution_count": null,
   "metadata": {},
   "outputs": [],
   "source": [
    "a=np.arange(64).reshape(4,4,4)\n",
    "b=np.transpose(a,[1,0,2])\n",
    "c=np.transpose(b,[1,0,2])\n",
    "a-c"
   ]
  },
  {
   "cell_type": "code",
   "execution_count": null,
   "metadata": {},
   "outputs": [],
   "source": [
    "a_tup=(1,2,3)\n",
    "a_tup_list=list(a_tup)\n",
    "print(a_tup_list)\n",
    "a_tup_again=tuple(a_tup_list)\n",
    "print(a_tup_again)"
   ]
  },
  {
   "cell_type": "code",
   "execution_count": null,
   "metadata": {},
   "outputs": [],
   "source": [
    "b=[:]"
   ]
  },
  {
   "cell_type": "code",
   "execution_count": null,
   "metadata": {},
   "outputs": [],
   "source": [
    "a=np.arange(64).reshape(4,4,4)\n",
    "print(a)\n",
    "b=(slice(None),[0,],slice(None))\n",
    "print(a[b].shape)\n",
    "c=(None,0,slice(None))\n",
    "print(a[c].shape)"
   ]
  },
  {
   "cell_type": "code",
   "execution_count": null,
   "metadata": {},
   "outputs": [],
   "source": [
    "Ndiff_start=2\n",
    "this_depth_mask=np.arange(64).reshape(4,4,4)\n",
    "mask_select=list((slice(None),)*this_depth_mask.ndim)\n",
    "for dim in range(Ndiff_start-1,0,-1):\n",
    "    mask_select[dim]=[0,]\n",
    "mask_tup=tuple(mask_select)\n",
    "this_depth_mask=this_depth_mask[mask_tup]\n",
    "print(this_depth_mask.shape)"
   ]
  },
  {
   "cell_type": "code",
   "execution_count": null,
   "metadata": {},
   "outputs": [],
   "source": []
  },
  {
   "cell_type": "code",
   "execution_count": null,
   "metadata": {},
   "outputs": [],
   "source": [
    "import mykern as mk\n",
    "a=np.linspace(1,10,10)\n",
    "b=np.linspace(1,10,3)\n",
    "tooltest=mk.kNdtool()\n",
    "c=tooltest.makediffmat_itoj(a,b)\n",
    "print(c)"
   ]
  },
  {
   "cell_type": "code",
   "execution_count": null,
   "metadata": {},
   "outputs": [],
   "source": [
    "a=tooltest.MY_KDE_gridprep_smalln(40,6)\n",
    "a.shape"
   ]
  },
  {
   "cell_type": "code",
   "execution_count": null,
   "metadata": {},
   "outputs": [],
   "source": [
    "a=np.linspace(1,4,4)\n",
    "aa=np.meshgrid(a,100*a)\n",
    "\n",
    "b=np.concatenate(aa)\n",
    "print(b.shape)\n",
    "b.reshape()"
   ]
  },
  {
   "cell_type": "code",
   "execution_count": null,
   "metadata": {},
   "outputs": [],
   "source": [
    "a=np.tile(np.arange(4)[:,None],[4,1])\n",
    "b=np.repeat(np.arange(16).reshape(4,4),4,axis=0)\n",
    "c=np.concatenate((a,b),axis=1)\n",
    "print(c)"
   ]
  },
  {
   "cell_type": "code",
   "execution_count": 1,
   "metadata": {},
   "outputs": [
    {
     "data": {
      "text/plain": [
       "(3, 2, 1)"
      ]
     },
     "execution_count": 1,
     "metadata": {},
     "output_type": "execute_result"
    }
   ],
   "source": [
    "a=(3,2)\n",
    "b=a+(1,)\n",
    "b"
   ]
  },
  {
   "cell_type": "code",
   "execution_count": 2,
   "metadata": {},
   "outputs": [
    {
     "ename": "AttributeError",
     "evalue": "'tuple' object has no attribute 'sum'",
     "output_type": "error",
     "traceback": [
      "\u001b[1;31m---------------------------------------------------------------------------\u001b[0m",
      "\u001b[1;31mAttributeError\u001b[0m                            Traceback (most recent call last)",
      "\u001b[1;32m<ipython-input-2-5625bf30d0a3>\u001b[0m in \u001b[0;36m<module>\u001b[1;34m\u001b[0m\n\u001b[1;32m----> 1\u001b[1;33m \u001b[0mb\u001b[0m\u001b[1;33m.\u001b[0m\u001b[0msum\u001b[0m\u001b[1;33m(\u001b[0m\u001b[1;33m)\u001b[0m\u001b[1;33m\u001b[0m\u001b[1;33m\u001b[0m\u001b[0m\n\u001b[0m",
      "\u001b[1;31mAttributeError\u001b[0m: 'tuple' object has no attribute 'sum'"
     ]
    }
   ],
   "source": [
    "b.sum()"
   ]
  },
  {
   "cell_type": "code",
   "execution_count": 3,
   "metadata": {},
   "outputs": [
    {
     "ename": "AttributeError",
     "evalue": "'list' object has no attribute 'sum'",
     "output_type": "error",
     "traceback": [
      "\u001b[1;31m---------------------------------------------------------------------------\u001b[0m",
      "\u001b[1;31mAttributeError\u001b[0m                            Traceback (most recent call last)",
      "\u001b[1;32m<ipython-input-3-d1ca33270831>\u001b[0m in \u001b[0;36m<module>\u001b[1;34m\u001b[0m\n\u001b[0;32m      1\u001b[0m \u001b[0ma\u001b[0m\u001b[1;33m=\u001b[0m\u001b[1;33m[\u001b[0m\u001b[1;36m1\u001b[0m\u001b[1;33m,\u001b[0m\u001b[1;36m2\u001b[0m\u001b[1;33m,\u001b[0m\u001b[1;36m3\u001b[0m\u001b[1;33m]\u001b[0m\u001b[1;33m\u001b[0m\u001b[1;33m\u001b[0m\u001b[0m\n\u001b[1;32m----> 2\u001b[1;33m \u001b[0ma\u001b[0m\u001b[1;33m.\u001b[0m\u001b[0msum\u001b[0m\u001b[1;33m(\u001b[0m\u001b[1;33m)\u001b[0m\u001b[1;33m\u001b[0m\u001b[1;33m\u001b[0m\u001b[0m\n\u001b[0m",
      "\u001b[1;31mAttributeError\u001b[0m: 'list' object has no attribute 'sum'"
     ]
    }
   ],
   "source": [
    "a=[1,2,3]\n",
    "a.sum()"
   ]
  },
  {
   "cell_type": "code",
   "execution_count": 4,
   "metadata": {},
   "outputs": [
    {
     "data": {
      "text/plain": [
       "6"
      ]
     },
     "execution_count": 4,
     "metadata": {},
     "output_type": "execute_result"
    }
   ],
   "source": [
    "sum(a)"
   ]
  },
  {
   "cell_type": "code",
   "execution_count": 5,
   "metadata": {},
   "outputs": [
    {
     "ename": "TypeError",
     "evalue": "unsupported operand type(s) for +: 'int' and 'list'",
     "output_type": "error",
     "traceback": [
      "\u001b[1;31m---------------------------------------------------------------------------\u001b[0m",
      "\u001b[1;31mTypeError\u001b[0m                                 Traceback (most recent call last)",
      "\u001b[1;32m<ipython-input-5-257f03d52744>\u001b[0m in \u001b[0;36m<module>\u001b[1;34m\u001b[0m\n\u001b[0;32m      1\u001b[0m \u001b[0mb\u001b[0m\u001b[1;33m=\u001b[0m\u001b[1;33m[\u001b[0m\u001b[0ma\u001b[0m\u001b[1;33m,\u001b[0m\u001b[1;36m1\u001b[0m\u001b[1;33m]\u001b[0m\u001b[1;33m\u001b[0m\u001b[1;33m\u001b[0m\u001b[0m\n\u001b[1;32m----> 2\u001b[1;33m \u001b[0msum\u001b[0m\u001b[1;33m(\u001b[0m\u001b[0mb\u001b[0m\u001b[1;33m)\u001b[0m\u001b[1;33m\u001b[0m\u001b[1;33m\u001b[0m\u001b[0m\n\u001b[0m",
      "\u001b[1;31mTypeError\u001b[0m: unsupported operand type(s) for +: 'int' and 'list'"
     ]
    }
   ],
   "source": [
    "b=[a,1]\n",
    "sum(b)"
   ]
  },
  {
   "cell_type": "code",
   "execution_count": null,
   "metadata": {},
   "outputs": [],
   "source": []
  }
 ],
 "metadata": {
  "kernelspec": {
   "display_name": "Python 3",
   "language": "python",
   "name": "python3"
  },
  "language_info": {
   "codemirror_mode": {
    "name": "ipython",
    "version": 3
   },
   "file_extension": ".py",
   "mimetype": "text/x-python",
   "name": "python",
   "nbconvert_exporter": "python",
   "pygments_lexer": "ipython3",
   "version": "3.7.4"
  },
  "pycharm": {
   "stem_cell": {
    "cell_type": "raw",
    "metadata": {
     "collapsed": false
    },
    "source": []
   }
  }
 },
 "nbformat": 4,
 "nbformat_minor": 4
}
