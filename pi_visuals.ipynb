{
 "cells": [
  {
   "cell_type": "markdown",
   "metadata": {
    "slideshow": {
     "slide_type": "notes"
    }
   },
   "source": [
    "# ideas\n",
    " -confusion matrix with heat maps instead of numbers\n",
    "  - normalize across the models for comparability\n",
    " -coeffient maps for linear models\n",
    "  - rank coefficients across all species\n",
    "  - show most important positive coeffient magnitude \n",
    " -grouped coefficient maps for any model\n",
    "  - use spearman rank order correlations to group x variables and do permutation importance by group of columns instead of by column \n",
    "   - i.e., a post-fit version of this: https://scikit-learn.org/stable/auto_examples/inspection/plot_permutation_importance_multicollinear.html\n",
    " -"
   ]
  },
  {
   "cell_type": "markdown",
   "metadata": {
    "slideshow": {
     "slide_type": "slide"
    }
   },
   "source": [
    "# Presentation\n"
   ]
  },
  {
   "cell_type": "code",
   "execution_count": null,
   "metadata": {
    "slideshow": {
     "slide_type": "skip"
    }
   },
   "outputs": [],
   "source": [
    "from pi_map import Mapper\n",
    "mpr=Mapper()"
   ]
  },
  {
   "cell_type": "markdown",
   "metadata": {
    "slideshow": {
     "slide_type": "slide"
    }
   },
   "source": [
    "# First approach\n",
    "## the data\n",
    "### generation process\n",
    "sample of comids shocked, fish inventoried\n",
    "### binarization\n",
    "for each species, \n",
    "presence/absence defined for relevant huc8's"
   ]
  },
  {
   "cell_type": "code",
   "execution_count": null,
   "metadata": {
    "slideshow": {
     "slide_type": "fragment"
    }
   },
   "outputs": [],
   "source": [
    "mpr.plot_y01(huc_level=8)"
   ]
  },
  {
   "cell_type": "markdown",
   "metadata": {
    "slideshow": {
     "slide_type": "slide"
    }
   },
   "source": [
    "\n"
   ]
  },
  {
   "cell_type": "markdown",
   "metadata": {},
   "source": [
    "# First approach\n",
    "## the model\n",
    "### For each species\n",
    " - \n",
    " - The model\n",
    "   - presence(0,1) $= y = f(X_{comid})$\n",
    " - 5-- species\n",
    " - 5 estimators\n",
    "   - 3 families: logistic reg, SVM, gradient boosting\n",
    " - scorers/loss functions\n",
    " - Streamcat predictors\n",
    "   - condensed from 5__ to 270 variables\n",
    "   - NLCD years averaged\n",
    "   - meta data dropped\n",
    "    "
   ]
  },
  {
   "cell_type": "code",
   "execution_count": 3,
   "metadata": {
    "slideshow": {
     "slide_type": "slide"
    }
   },
   "outputs": [],
   "source": [
    "# First approach\n",
    "## Results\n",
    "### comparison of estimators\n"
   ]
  },
  {
   "cell_type": "markdown",
   "metadata": {
    "slideshow": {
     "slide_type": "subslide"
    }
   },
   "source": [
    "#### challenges\n",
    "imbalanced data -> weighted scoring\n",
    " - Insert Histogram of class-share/ymean\n",
    "variable sample size\n",
    " - Insert Histogram or other graph of $n_{species}$"
   ]
  },
  {
   "cell_type": "code",
   "execution_count": null,
   "metadata": {},
   "outputs": [],
   "source": []
  },
  {
   "cell_type": "code",
   "execution_count": null,
   "metadata": {},
   "outputs": [],
   "source": []
  },
  {
   "cell_type": "code",
   "execution_count": null,
   "metadata": {},
   "outputs": [],
   "source": []
  },
  {
   "cell_type": "code",
   "execution_count": null,
   "metadata": {},
   "outputs": [],
   "source": []
  },
  {
   "cell_type": "code",
   "execution_count": null,
   "metadata": {},
   "outputs": [],
   "source": []
  },
  {
   "cell_type": "markdown",
   "metadata": {},
   "source": [
    "## Sources\n",
    "https://towardsdatascience.com/a-practical-guide-to-interpreting-and-visualising-support-vector-machines-97d2a5b0564e\n",
    "svm's, kernels, imbalanced models, citation\n",
    "https://www3.nd.edu/~rwilliam/stats3/L04.pdf\n",
    "destandardization of logistic regression coefficients \n",
    "https://www.jmlr.org/papers/volume9/koo08a/koo08a.pdf\n",
    "SVM coefficients"
   ]
  },
  {
   "cell_type": "code",
   "execution_count": null,
   "metadata": {},
   "outputs": [],
   "source": []
  }
 ],
 "metadata": {
  "kernelspec": {
   "display_name": "Python 3",
   "language": "python",
   "name": "python3"
  },
  "language_info": {
   "codemirror_mode": {
    "name": "ipython",
    "version": 3
   },
   "file_extension": ".py",
   "mimetype": "text/x-python",
   "name": "python",
   "nbconvert_exporter": "python",
   "pygments_lexer": "ipython3",
   "version": "3.8.2"
  }
 },
 "nbformat": 4,
 "nbformat_minor": 4
}
