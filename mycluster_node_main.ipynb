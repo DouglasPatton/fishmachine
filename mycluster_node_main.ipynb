{
 "cells": [
  {
   "cell_type": "code",
   "execution_count": 1,
   "metadata": {},
   "outputs": [],
   "source": [
    "import mycluster\n",
    "\n",
    "\n"
   ]
  },
  {
   "cell_type": "code",
   "execution_count": null,
   "metadata": {},
   "outputs": [
    {
     "name": "stdout",
     "output_type": "stream",
     "text": [
      "here []\n",
      "no models found when merging\n",
      "mydir:{mydir} doesn't exist, so creating it\n",
      "node1 ischecking for jobs\n",
      "namelist:[('node1', [('20191115-162848', 'created')])],myname:node1\n",
      "namelist:[('node1', [('20191115-162848', 'created'), ('20191115-162850', 'accepted')])],myname:node1\n",
      "here []\n",
      "no models found when merging\n",
      "saved_filename is condensed_model_save, but does not seem to exist\n",
      "--------------no matching models found----------\n",
      "param_valdict:{'Ndiff_exponent': array([0.3, 0.3]), 'x_bandscale': array([1., 1.]), 'outer_x_bw': array([2.7]), 'outer_y_bw': array([2.2]), 'Ndiff_depth_bw': array([0.5, 0.5]), 'y_bandscale': array([1.5])}\n",
      "setup_fixed_or_free_paramdict:{'Ndiff_exponent': {'fixed_or_free': 'free', 'const': 'free', 'location_idx': (0, 2)}, 'x_bandscale': {'fixed_or_free': 'free', 'const': 'non-neg', 'location_idx': (2, 4)}, 'Ndiff_depth_bw': {'fixed_or_free': 'free', 'const': 'non-neg', 'location_idx': (4, 6)}, 'outer_x_bw': {'fixed_or_free': 'free', 'const': 'non-neg', 'location_idx': (6, 7)}, 'outer_y_bw': {'fixed_or_free': 'free', 'const': 'non-neg', 'location_idx': (7, 8)}, 'y_bandscale': {'fixed_or_free': 'free', 'const': 'non-neg', 'location_idx': (8, 9)}, 'free_params': 'outside', 'fixed_params': array([], dtype=float64)}\n",
      "modeldict:{'Ndiff_type': 'recursive', 'param_count': 2, 'Ndiff_start': 1, 'max_bw_Ndiff': 2, 'normalize_Ndiffwtsum': 'own_n', 'xkern_grid': 'no', 'ykern_grid': 61, 'outer_kern': 'gaussian', 'Ndiff_bw_kern': 'rbfkern', 'outer_x_bw_form': 'one_for_all', 'regression_model': 'NW', 'product_kern_norm': 'self', 'hyper_param_form_dict': {'Ndiff_exponent': 'free', 'x_bandscale': 'non-neg', 'Ndiff_depth_bw': 'non-neg', 'outer_x_bw': 'non-neg', 'outer_y_bw': 'non-neg', 'y_bandscale': 'non-neg'}}\n",
      "free_params added to dict. free_params:[0.3 0.3 1.  1.  0.5 0.5 2.7 2.2 1.5]\n",
      "saved to model_save at about 20191115-163035 with mse=31.690650528752812\n",
      "free_params added to dict. free_params:[0.315 0.3   1.    1.    0.5   0.5   2.7   2.2   1.5  ]\n"
     ]
    }
   ],
   "source": [
    "mycluster.run_cluster(mytype='node1')"
   ]
  }
 ],
 "metadata": {
  "kernelspec": {
   "display_name": "Python 3",
   "language": "python",
   "name": "python3"
  },
  "language_info": {
   "codemirror_mode": {
    "name": "ipython",
    "version": 3
   },
   "file_extension": ".py",
   "mimetype": "text/x-python",
   "name": "python",
   "nbconvert_exporter": "python",
   "pygments_lexer": "ipython3",
   "version": "3.7.4"
  }
 },
 "nbformat": 4,
 "nbformat_minor": 4
}
