{
 "cells": [
  {
   "cell_type": "code",
   "execution_count": 1,
   "metadata": {},
   "outputs": [],
   "source": [
    "import mycluster\n",
    "\n",
    "\n"
   ]
  },
  {
   "cell_type": "code",
   "execution_count": 2,
   "metadata": {},
   "outputs": [
    {
     "name": "stdout",
     "output_type": "stream",
     "text": [
      "here ['model_save']\n",
      "only 1 model_save file found, and saved_condensed_list is empty, so no merge completed\n",
      "mydir:{mydir} doesn't exist, so creating it\n",
      "node11 ischecking for jobs\n",
      "Traceback (most recent call last):\n",
      "  File \"C:\\Users\\DPatton\\gits\\kernelkernel\\mycluster.py\", line 216, in check_for_opt_job\n",
      "    with open(my_job_file,'rb') as myjob_save:\n",
      "FileNotFoundError: [Errno 2] No such file or directory: 'C:/users/dpatton/gits/test/node11/node11_job'\n",
      "\n",
      "Traceback (most recent call last):\n",
      "  File \"C:\\Users\\DPatton\\gits\\kernelkernel\\mycluster.py\", line 216, in check_for_opt_job\n",
      "    with open(my_job_file,'rb') as myjob_save:\n",
      "FileNotFoundError: [Errno 2] No such file or directory: 'C:/users/dpatton/gits/test/node11/node11_job'\n",
      "\n",
      "namelist:[('node1', [('20191115-160801', 'created'), ('20191115-160806', 'accepted'), ('20191115-160811', 'starting'), ('20191115-160811', 'finished')]), ('node11', [('20191115-160832', 'created')])],myname:node11\n",
      "namelist:[('node1', [('20191115-160801', 'created'), ('20191115-160806', 'accepted'), ('20191115-160811', 'starting'), ('20191115-160811', 'finished')]), ('node11', [('20191115-160832', 'created'), ('20191115-160837', 'accepted')])],myname:node11\n",
      "here []\n",
      "no models found when merging\n",
      "saved_filename is condensed_model_save, but does not seem to exist\n",
      "--------------no matching models found----------\n",
      "param_valdict:{'Ndiff_exponent': array([0.3, 0.3]), 'x_bandscale': array([1., 1.]), 'outer_x_bw': array([2.7]), 'outer_y_bw': array([2.2]), 'Ndiff_depth_bw': array([0.5, 0.5]), 'y_bandscale': array([1.5])}\n",
      "setup_fixed_or_free_paramdict:{'Ndiff_exponent': {'fixed_or_free': 'free', 'const': 'free', 'location_idx': (0, 2)}, 'x_bandscale': {'fixed_or_free': 'free', 'const': 'non-neg', 'location_idx': (2, 4)}, 'Ndiff_depth_bw': {'fixed_or_free': 'free', 'const': 'non-neg', 'location_idx': (4, 6)}, 'outer_x_bw': {'fixed_or_free': 'free', 'const': 'non-neg', 'location_idx': (6, 7)}, 'outer_y_bw': {'fixed_or_free': 'free', 'const': 'non-neg', 'location_idx': (7, 8)}, 'y_bandscale': {'fixed_or_free': 'free', 'const': 'non-neg', 'location_idx': (8, 9)}, 'free_params': 'outside', 'fixed_params': array([], dtype=float64)}\n",
      "modeldict:{'Ndiff_type': 'recursive', 'param_count': 2, 'Ndiff_start': 1, 'max_bw_Ndiff': 2, 'normalize_Ndiffwtsum': 'own_n', 'xkern_grid': 'no', 'ykern_grid': 61, 'outer_kern': 'gaussian', 'Ndiff_bw_kern': 'rbfkern', 'outer_x_bw_form': 'one_for_all', 'regression_model': 'NW', 'product_kern_norm': 'self', 'hyper_param_form_dict': {'Ndiff_exponent': 'free', 'x_bandscale': 'non-neg', 'Ndiff_depth_bw': 'non-neg', 'outer_x_bw': 'non-neg', 'outer_y_bw': 'non-neg', 'y_bandscale': 'non-neg'}}\n",
      "free_params added to dict. free_params:[0.3 0.3 1.  1.  0.5 0.5 2.7 2.2 1.5]\n",
      "saved to model_save at about 20191115-161021 with mse=31.690650528752812\n",
      "free_params added to dict. free_params:[0.315 0.3   1.    1.    0.5   0.5   2.7   2.2   1.5  ]\n",
      "Traceback (most recent call last):\n",
      "  File \"C:\\Users\\DPatton\\gits\\kernelkernel\\mycluster.py\", line 195, in runnode\n",
      "    kernelcompare.KernelCompare(directory=mydir).run_model_as_node(my_optimizedict,my_datagen_dict,force_start_params=0)\n",
      "  File \"C:\\Users\\DPatton\\gits\\kernelkernel\\kernelcompare.py\", line 571, in run_model_as_node\n",
      "    self.do_monte_opt(optimizedict,datagen_dict,force_start_params=force_start_params)\n",
      "  File \"C:\\Users\\DPatton\\gits\\kernelkernel\\kernelcompare.py\", line 37, in do_monte_opt\n",
      "    mk.optimize_free_params(y,x,optimizedict)\n",
      "  File \"C:\\Users\\DPatton\\gits\\kernelkernel\\mykern.py\", line 681, in __init__\n",
      "    self.minimize_obj=minimize(self.MY_KDEpredictMSE, free_params, args=args_tuple, method=method, options=opt_method_options)\n",
      "  File \"C:\\Users\\DPatton\\AppData\\Local\\Continuum\\anaconda3\\lib\\site-packages\\scipy\\optimize\\_minimize.py\", line 588, in minimize\n",
      "    return _minimize_neldermead(fun, x0, args, callback, **options)\n",
      "  File \"C:\\Users\\DPatton\\AppData\\Local\\Continuum\\anaconda3\\lib\\site-packages\\scipy\\optimize\\optimize.py\", line 585, in _minimize_neldermead\n",
      "    fsim[k] = func(sim[k])\n",
      "  File \"C:\\Users\\DPatton\\AppData\\Local\\Continuum\\anaconda3\\lib\\site-packages\\scipy\\optimize\\optimize.py\", line 326, in function_wrapper\n",
      "    return function(*(wrapper_args + args))\n",
      "  File \"C:\\Users\\DPatton\\gits\\kernelkernel\\mykern.py\", line 461, in MY_KDEpredictMSE\n",
      "    yhat_un_std=self.MY_KDEpredict(yin,yout,xin,xpr,modeldict,fixed_or_free_paramdict)\n",
      "  File \"C:\\Users\\DPatton\\gits\\kernelkernel\\mykern.py\", line 558, in MY_KDEpredict\n",
      "    ybw = self.BWmaker(max_bw_Ndiff, fixed_or_free_paramdict, diffdict['ydiffdict'],modeldict,'y')\n",
      "  File \"C:\\Users\\DPatton\\gits\\kernelkernel\\mykern.py\", line 160, in BWmaker\n",
      "    this_depth_bw=self.Ndiff_recursive(this_depth_masked_data,deeper_depth_bw,this_depth_exponent,this_depth_bw_param,Ndiff_bw_kern,normalize)\n",
      "  File \"C:\\Users\\DPatton\\gits\\kernelkernel\\mykern.py\", line 85, in Ndiff_recursive\n",
      "    self.do_bw_kern(Ndiff_bw_kern, masked_data,deeper_bw),normalize),Ndiff_exp                   )\n",
      "  File \"C:\\Users\\DPatton\\gits\\kernelkernel\\mykern.py\", line 182, in do_bw_kern\n",
      "    return self.gkernh(maskeddata, Ndiff_depth_bw_param)#parameters already collapsed, so this will be rbf\n",
      "  File \"C:\\Users\\DPatton\\gits\\kernelkernel\\mykern.py\", line 187, in gkernh\n",
      "    numerator=np.ma.exp(-np.ma.power(x/(h*2), 2))\n",
      "  File \"C:\\Users\\DPatton\\AppData\\Local\\Continuum\\anaconda3\\lib\\site-packages\\numpy\\ma\\core.py\", line 6666, in power\n",
      "    result = np.where(m, fa, umath.power(fa, fb)).view(basetype)\n",
      "KeyboardInterrupt\n",
      "\n",
      "namelist:[('node1', [('20191115-160801', 'created'), ('20191115-160806', 'accepted'), ('20191115-160811', 'starting'), ('20191115-160811', 'finished')]), ('node11', [('20191115-160832', 'created'), ('20191115-160837', 'accepted'), ('20191115-160842', 'starting')])],myname:node11\n"
     ]
    },
    {
     "data": {
      "text/plain": [
       "<mycluster.run_cluster at 0x1f56ae45cc8>"
      ]
     },
     "execution_count": 2,
     "metadata": {},
     "output_type": "execute_result"
    }
   ],
   "source": [
    "mycluster.run_cluster(mytype='node1')"
   ]
  }
 ],
 "metadata": {
  "kernelspec": {
   "display_name": "Python 3",
   "language": "python",
   "name": "python3"
  },
  "language_info": {
   "codemirror_mode": {
    "name": "ipython",
    "version": 3
   },
   "file_extension": ".py",
   "mimetype": "text/x-python",
   "name": "python",
   "nbconvert_exporter": "python",
   "pygments_lexer": "ipython3",
   "version": "3.7.4"
  }
 },
 "nbformat": 4,
 "nbformat_minor": 4
}
