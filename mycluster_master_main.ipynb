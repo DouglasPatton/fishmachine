{
 "cells": [
  {
   "cell_type": "code",
   "execution_count": 1,
   "metadata": {},
   "outputs": [],
   "source": [
    "import mycluster\n",
    "#import kernelcompare as kc"
   ]
  },
  {
   "cell_type": "code",
   "execution_count": null,
   "metadata": {},
   "outputs": [],
   "source": []
  },
  {
   "cell_type": "code",
   "execution_count": 2,
   "metadata": {},
   "outputs": [],
   "source": [
    "Ndiff_type_variations=('modeldict:Ndiff_type',['recursive','product'])\n",
    "max_bw_Ndiff_variations=('modeldict:max_bw_Ndiff',[2,3])\n",
    "Ndiff_start_variations=('modeldict:Ndiff_start',[1,2])\n",
    "\n",
    "product_kern_norm_variations=('modeldict:product_kern_norm',['self','own_n'])#include None too?\n",
    "normalize_Ndiffwtsum_variations=('modeldict:normalize_Ndiffwtsum',['own_n','across'])\n",
    "optdict_variation_list=[Ndiff_type_variations,max_bw_Ndiff_variations,Ndiff_start_variations,product_kern_norm_variations,normalize_Ndiffwtsum_variations]\n",
    "\n"
   ]
  },
  {
   "cell_type": "code",
   "execution_count": 3,
   "metadata": {},
   "outputs": [],
   "source": [
    "#a reminder of the options:\n",
    "#datagen_dict={'train_n':60,'n':200, 'param_count':param_count,'seed':1, 'ftype':'linear', 'evar':1}\n",
    "#datagen_variation_list=[test.build_quadratic_datagen_dict_override()] \n",
    "\n",
    "#train_n_variations=('train_n',[30])#so I don't crash my 10 year old laptop at home\n",
    "train_n_variations=('train_n',[30,45,60])\n",
    "ykern_grid_variations=('ykern_grid',[31,46,61])\n",
    "ftype_variations=('ftype',['linear','quadratic'])\n",
    "param_count_variations=('param_count',[1,2])\n",
    "#need to add block capability to datagen so we can repeat optimization with new training data.\n",
    "\n",
    "datagen_variation_list=[train_n_variations,ftype_variations,param_count_variations]\n",
    "\n"
   ]
  },
  {
   "cell_type": "code",
   "execution_count": 4,
   "metadata": {},
   "outputs": [],
   "source": [
    "Ndiff_type_variations=('modeldict:Ndiff_type',['recursive','product'])\n",
    "optdict_variation_list=[Ndiff_type_variations]\n",
    "\n",
    "\n",
    "train_n_variations=('train_n',[30,35])\n",
    "datagen_variation_list=[train_n_variations]"
   ]
  },
  {
   "cell_type": "code",
   "execution_count": 5,
   "metadata": {},
   "outputs": [
    {
     "name": "stdout",
     "output_type": "stream",
     "text": [
      "self.savedirectoryC:\\Users\\DPatton\\gits\\kernelkernel\\cluster_test\n",
      "dict_combo_list has 2 variations to run\n",
      "len(datagen_dict_list):2\n",
      "dict_combo_list has 2 variations to run\n",
      "dict_combo_list has 2 variations to run\n",
      "Traceback (most recent call last):\n",
      "  File \"C:\\Users\\DPatton\\gits\\kernelkernel\\mycluster.py\", line 289, in getnamelist\n",
      "    with open(os.path.join(self.savedirectory,'namelist'),'rb') as namelist:\n",
      "FileNotFoundError: [Errno 2] No such file or directory: 'C:\\\\Users\\\\DPatton\\\\gits\\\\kernelkernel\\\\cluster_test\\\\namelist'\n",
      "\n",
      "Traceback (most recent call last):\n",
      "  File \"C:\\Users\\DPatton\\gits\\kernelkernel\\mycluster.py\", line 427, in check_node_job_status\n",
      "    with open(nodes_job_filename,'rb') as saved_job_file:\n",
      "FileNotFoundError: [Errno 2] No such file or directory: 'C:\\\\Users\\\\DPatton\\\\gits\\\\kernelkernel\\\\cluster_test\\\\T3600node\\\\T3600node_job'\n",
      "\n",
      "about to setup the job for node:('T3600node', [('20191119-101010', 'ready for job'), ('20191119-101010', 'ready for job')])\n",
      "job setup for node:T3600node\n",
      "newjob has jobdict:{'optimizedict': {'opt_settings_dict': {'method': 'Nelder-Mead', 'options': {'xatol': 0.1, 'fatol': 0.5, 'adaptive': True}, 'mse_threshold': 2, 'help_start': 1, 'partial_match': 1}, 'hyper_param_dict': {'Ndiff_exponent': array([0.3, 0.3]), 'x_bandscale': array([1., 1.]), 'outer_x_bw': array([2.7]), 'outer_y_bw': array([2.2]), 'Ndiff_depth_bw': array([0.5, 0.5]), 'y_bandscale': array([1.5])}, 'modeldict': {'Ndiff_type': 'recursive', 'param_count': 2, 'Ndiff_start': 1, 'max_bw_Ndiff': 2, 'normalize_Ndiffwtsum': 'own_n', 'xkern_grid': 'no', 'ykern_grid': 61, 'outer_kern': 'gaussian', 'Ndiff_bw_kern': 'rbfkern', 'outer_x_bw_form': 'one_for_all', 'regression_model': 'NW', 'product_kern_norm': 'self', 'hyper_param_form_dict': {'Ndiff_exponent': 'free', 'x_bandscale': 'non-neg', 'Ndiff_depth_bw': 'non-neg', 'outer_x_bw': 'non-neg', 'outer_y_bw': 'non-neg', 'y_bandscale': 'non-neg'}}}, 'datagen_dict': {'train_n': 30, 'n': 200, 'param_count': 2, 'seed': 1, 'ftype': 'linear', 'evar': 1}, 'node_status': [('20191119-101020', 'ready for node')]}\n",
      "Traceback (most recent call last):\n",
      "  File \"C:\\Users\\DPatton\\gits\\kernelkernel\\mycluster.py\", line 252, in activitycheck\n",
      "  File \"C:\\Users\\DPatton\\AppData\\Local\\Continuum\\anaconda3\\lib\\encodings\\cp1252.py\", line 23, in decode\n",
      "    return codecs.charmap_decode(input,self.errors,decoding_table)[0]\n",
      "UnicodeDecodeError: 'charmap' codec can't decode byte 0x8d in position 306: character maps to <undefined>\n",
      "\n"
     ]
    },
    {
     "ename": "TypeError",
     "evalue": "'<' not supported between instances of 'NoneType' and 'datetime.timedelta'",
     "output_type": "error",
     "traceback": [
      "\u001b[1;31m---------------------------------------------------------------------------\u001b[0m",
      "\u001b[1;31mTypeError\u001b[0m                                 Traceback (most recent call last)",
      "\u001b[1;32m<ipython-input-5-e420305c3337>\u001b[0m in \u001b[0;36m<module>\u001b[1;34m\u001b[0m\n\u001b[0;32m      1\u001b[0m \u001b[1;31m#opt_model_variation_list=\u001b[0m\u001b[1;33m\u001b[0m\u001b[1;33m\u001b[0m\u001b[1;33m\u001b[0m\u001b[0m\n\u001b[1;32m----> 2\u001b[1;33m \u001b[0mmycluster\u001b[0m\u001b[1;33m.\u001b[0m\u001b[0mrun_cluster\u001b[0m\u001b[1;33m(\u001b[0m\u001b[0mmytype\u001b[0m\u001b[1;33m=\u001b[0m\u001b[1;34m'master'\u001b[0m\u001b[1;33m,\u001b[0m\u001b[0moptdict_variation_list\u001b[0m\u001b[1;33m=\u001b[0m\u001b[0moptdict_variation_list\u001b[0m\u001b[1;33m,\u001b[0m\u001b[0mdatagen_variation_list\u001b[0m\u001b[1;33m=\u001b[0m\u001b[0mdatagen_variation_list\u001b[0m\u001b[1;33m,\u001b[0m\u001b[0mlocal_test\u001b[0m\u001b[1;33m=\u001b[0m\u001b[1;34m'yes'\u001b[0m\u001b[1;33m)\u001b[0m\u001b[1;33m\u001b[0m\u001b[1;33m\u001b[0m\u001b[0m\n\u001b[0m",
      "\u001b[1;32m~\\gits\\kernelkernel\\mycluster.py\u001b[0m in \u001b[0;36m__init__\u001b[1;34m(self, mytype, optdict_variation_list, datagen_variation_list, local_test)\u001b[0m\n\u001b[0;32m     41\u001b[0m         \u001b[0mprint\u001b[0m\u001b[1;33m(\u001b[0m\u001b[1;34mf'self.savedirectory{self.savedirectory}'\u001b[0m\u001b[1;33m)\u001b[0m\u001b[1;33m\u001b[0m\u001b[1;33m\u001b[0m\u001b[0m\n\u001b[0;32m     42\u001b[0m         \u001b[0mkernelcompare\u001b[0m\u001b[1;33m.\u001b[0m\u001b[0mKernelCompare\u001b[0m\u001b[1;33m.\u001b[0m\u001b[0m__init__\u001b[0m\u001b[1;33m(\u001b[0m\u001b[0mself\u001b[0m\u001b[1;33m,\u001b[0m\u001b[0mself\u001b[0m\u001b[1;33m.\u001b[0m\u001b[0msavedirectory\u001b[0m\u001b[1;33m)\u001b[0m\u001b[1;33m\u001b[0m\u001b[1;33m\u001b[0m\u001b[0m\n\u001b[1;32m---> 43\u001b[1;33m         \u001b[0mself\u001b[0m\u001b[1;33m.\u001b[0m\u001b[0minitialize\u001b[0m\u001b[1;33m(\u001b[0m\u001b[0mmytype\u001b[0m\u001b[1;33m,\u001b[0m\u001b[0moptdict_variation_list\u001b[0m\u001b[1;33m=\u001b[0m\u001b[0moptdict_variation_list\u001b[0m\u001b[1;33m,\u001b[0m\u001b[0mdatagen_variation_list\u001b[0m\u001b[1;33m=\u001b[0m\u001b[0mdatagen_variation_list\u001b[0m\u001b[1;33m)\u001b[0m\u001b[1;33m\u001b[0m\u001b[1;33m\u001b[0m\u001b[0m\n\u001b[0m\u001b[0;32m     44\u001b[0m \u001b[1;33m\u001b[0m\u001b[0m\n\u001b[0;32m     45\u001b[0m \u001b[1;33m\u001b[0m\u001b[0m\n",
      "\u001b[1;32m~\\gits\\kernelkernel\\mycluster.py\u001b[0m in \u001b[0;36minitialize\u001b[1;34m(self, mytype, optdict_variation_list, datagen_variation_list)\u001b[0m\n\u001b[0;32m     65\u001b[0m         \u001b[0mos\u001b[0m\u001b[1;33m.\u001b[0m\u001b[0mchdir\u001b[0m\u001b[1;33m(\u001b[0m\u001b[0mself\u001b[0m\u001b[1;33m.\u001b[0m\u001b[0msavedirectory\u001b[0m\u001b[1;33m)\u001b[0m\u001b[1;33m\u001b[0m\u001b[1;33m\u001b[0m\u001b[0m\n\u001b[0;32m     66\u001b[0m         \u001b[1;32mif\u001b[0m \u001b[0mmytype\u001b[0m\u001b[1;33m==\u001b[0m\u001b[1;34m\"master\"\u001b[0m\u001b[1;33m:\u001b[0m\u001b[1;33m\u001b[0m\u001b[1;33m\u001b[0m\u001b[0m\n\u001b[1;32m---> 67\u001b[1;33m             \u001b[0mself\u001b[0m\u001b[1;33m.\u001b[0m\u001b[0mrunmaster\u001b[0m\u001b[1;33m(\u001b[0m\u001b[0moptdict_variation_list\u001b[0m\u001b[1;33m,\u001b[0m\u001b[0mdatagen_variation_list\u001b[0m\u001b[1;33m)\u001b[0m\u001b[1;33m\u001b[0m\u001b[1;33m\u001b[0m\u001b[0m\n\u001b[0m\u001b[0;32m     68\u001b[0m         \u001b[1;32melse\u001b[0m\u001b[1;33m:\u001b[0m\u001b[1;33m\u001b[0m\u001b[1;33m\u001b[0m\u001b[0m\n\u001b[0;32m     69\u001b[0m             \u001b[0mmyname\u001b[0m\u001b[1;33m=\u001b[0m\u001b[0mmytype\u001b[0m\u001b[1;33m\u001b[0m\u001b[1;33m\u001b[0m\u001b[0m\n",
      "\u001b[1;32m~\\gits\\kernelkernel\\mycluster.py\u001b[0m in \u001b[0;36mrunmaster\u001b[1;34m(self, optdict_variation_list, datagen_variation_list)\u001b[0m\n\u001b[0;32m    111\u001b[0m \u001b[1;33m\u001b[0m\u001b[0m\n\u001b[0;32m    112\u001b[0m \u001b[1;33m\u001b[0m\u001b[0m\n\u001b[1;32m--> 113\u001b[1;33m             \u001b[0mself\u001b[0m\u001b[1;33m.\u001b[0m\u001b[0mrebuild_current_namelist\u001b[0m\u001b[1;33m(\u001b[0m\u001b[1;33m)\u001b[0m\u001b[1;31m#get rid of the old names that are inactive\u001b[0m\u001b[1;33m\u001b[0m\u001b[1;33m\u001b[0m\u001b[0m\n\u001b[0m\u001b[0;32m    114\u001b[0m             \u001b[0mnamelist\u001b[0m\u001b[1;33m=\u001b[0m\u001b[0mself\u001b[0m\u001b[1;33m.\u001b[0m\u001b[0mgetnamelist\u001b[0m\u001b[1;33m(\u001b[0m\u001b[1;33m)\u001b[0m\u001b[1;33m\u001b[0m\u001b[1;33m\u001b[0m\u001b[0m\n\u001b[0;32m    115\u001b[0m             \u001b[0mreadynamelist\u001b[0m\u001b[1;33m=\u001b[0m\u001b[0mself\u001b[0m\u001b[1;33m.\u001b[0m\u001b[0mgetreadynames\u001b[0m\u001b[1;33m(\u001b[0m\u001b[0mnamelist\u001b[0m\u001b[1;33m)\u001b[0m\u001b[1;33m\u001b[0m\u001b[1;33m\u001b[0m\u001b[0m\n",
      "\u001b[1;32m~\\gits\\kernelkernel\\mycluster.py\u001b[0m in \u001b[0;36mrebuild_current_namelist\u001b[1;34m(self)\u001b[0m\n\u001b[0;32m    220\u001b[0m \u001b[1;33m\u001b[0m\u001b[0m\n\u001b[0;32m    221\u001b[0m         \u001b[1;32mreturn\u001b[0m\u001b[1;33m\u001b[0m\u001b[1;33m\u001b[0m\u001b[0m\n\u001b[1;32m--> 222\u001b[1;33m \u001b[1;33m\u001b[0m\u001b[0m\n\u001b[0m\u001b[0;32m    223\u001b[0m \u001b[1;33m\u001b[0m\u001b[0m\n\u001b[0;32m    224\u001b[0m     \u001b[1;32mdef\u001b[0m \u001b[0mrebuild_current_namelist\u001b[0m\u001b[1;33m(\u001b[0m\u001b[0mself\u001b[0m\u001b[1;33m)\u001b[0m\u001b[1;33m:\u001b[0m\u001b[1;33m\u001b[0m\u001b[1;33m\u001b[0m\u001b[0m\n",
      "\u001b[1;32m~\\gits\\kernelkernel\\mycluster.py\u001b[0m in \u001b[0;36m<listcomp>\u001b[1;34m(.0)\u001b[0m\n\u001b[0;32m    220\u001b[0m \u001b[1;33m\u001b[0m\u001b[0m\n\u001b[0;32m    221\u001b[0m         \u001b[1;32mreturn\u001b[0m\u001b[1;33m\u001b[0m\u001b[1;33m\u001b[0m\u001b[0m\n\u001b[1;32m--> 222\u001b[1;33m \u001b[1;33m\u001b[0m\u001b[0m\n\u001b[0m\u001b[0;32m    223\u001b[0m \u001b[1;33m\u001b[0m\u001b[0m\n\u001b[0;32m    224\u001b[0m     \u001b[1;32mdef\u001b[0m \u001b[0mrebuild_current_namelist\u001b[0m\u001b[1;33m(\u001b[0m\u001b[0mself\u001b[0m\u001b[1;33m)\u001b[0m\u001b[1;33m:\u001b[0m\u001b[1;33m\u001b[0m\u001b[1;33m\u001b[0m\u001b[0m\n",
      "\u001b[1;31mTypeError\u001b[0m: '<' not supported between instances of 'NoneType' and 'datetime.timedelta'"
     ]
    }
   ],
   "source": [
    "#opt_model_variation_list=\n",
    "mycluster.run_cluster(mytype='master',optdict_variation_list=optdict_variation_list,datagen_variation_list=datagen_variation_list,local_test='yes')"
   ]
  },
  {
   "cell_type": "code",
   "execution_count": null,
   "metadata": {},
   "outputs": [],
   "source": []
  },
  {
   "cell_type": "code",
   "execution_count": null,
   "metadata": {},
   "outputs": [],
   "source": []
  }
 ],
 "metadata": {
  "kernelspec": {
   "display_name": "Python 3",
   "language": "python",
   "name": "python3"
  },
  "language_info": {
   "codemirror_mode": {
    "name": "ipython",
    "version": 3
   },
   "file_extension": ".py",
   "mimetype": "text/x-python",
   "name": "python",
   "nbconvert_exporter": "python",
   "pygments_lexer": "ipython3",
   "version": "3.7.4"
  }
 },
 "nbformat": 4,
 "nbformat_minor": 4
}
