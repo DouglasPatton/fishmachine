{
 "cells": [
  {
   "cell_type": "code",
   "execution_count": 3,
   "metadata": {},
   "outputs": [],
   "source": [
    "import mycluster"
   ]
  },
  {
   "cell_type": "code",
   "execution_count": null,
   "metadata": {},
   "outputs": [],
   "source": [
    "data_gen_variation_list=[test.build_quadratic_datagen_dict_override()]\n",
    "\n",
    "Ndiff_type_variations=('modeldict:Ndiff_type',['recursive','product'])\n",
    "max_bw_Ndiff_variations=('modeldict:max_bw_Ndiff',[2])\n",
    "Ndiff_start_variations=('modeldict:Ndiff_start',[0])\n",
    "product_kern_norm_variations=('modeldict:product_kern_norm',['self','own_n'])#include None too?\n",
    "normalize_Ndiffwtsum_variations=('modeldict:normalize_Ndiffwtsum',['own_n','across'])\n",
    "opt_model_variation_list=[Ndiff_type_variations,max_bw_Ndiff_variations,Ndiff_start_variations]\n"
   ]
  },
  {
   "cell_type": "code",
   "execution_count": null,
   "metadata": {},
   "outputs": [],
   "source": [
    "opt_model_variation_list=\n",
    "mycluster.run_cluster(mytype='master')"
   ]
  }
 ],
 "metadata": {
  "kernelspec": {
   "display_name": "Python 3",
   "language": "python",
   "name": "python3"
  },
  "language_info": {
   "codemirror_mode": {
    "name": "ipython",
    "version": 3
   },
   "file_extension": ".py",
   "mimetype": "text/x-python",
   "name": "python",
   "nbconvert_exporter": "python",
   "pygments_lexer": "ipython3",
   "version": "3.7.4"
  }
 },
 "nbformat": 4,
 "nbformat_minor": 4
}
