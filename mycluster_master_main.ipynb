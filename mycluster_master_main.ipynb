{
 "cells": [
  {
   "cell_type": "code",
   "execution_count": 1,
   "metadata": {},
   "outputs": [],
   "source": [
    "import mycluster\n",
    "import kernelcompare as kc"
   ]
  },
  {
   "cell_type": "code",
   "execution_count": 2,
   "metadata": {},
   "outputs": [
    {
     "name": "stdout",
     "output_type": "stream",
     "text": [
      "here []\n",
      "no models found when merging\n"
     ]
    }
   ],
   "source": [
    "data_gen_variation_list=[kc.KernelCompare().build_quadratic_datagen_dict_override()]\n",
    "\n",
    "Ndiff_type_variations=('modeldict:Ndiff_type',['recursive','product'])\n",
    "max_bw_Ndiff_variations=('modeldict:max_bw_Ndiff',[2])\n",
    "Ndiff_start_variations=('modeldict:Ndiff_start',[0])\n",
    "product_kern_norm_variations=('modeldict:product_kern_norm',['self','own_n'])#include None too?\n",
    "normalize_Ndiffwtsum_variations=('modeldict:normalize_Ndiffwtsum',['own_n','across'])\n",
    "optdict_variation_list=[Ndiff_type_variations,max_bw_Ndiff_variations,Ndiff_start_variations]\n"
   ]
  },
  {
   "cell_type": "code",
   "execution_count": 3,
   "metadata": {},
   "outputs": [
    {
     "name": "stdout",
     "output_type": "stream",
     "text": [
      "here ['model_save']\n",
      "only 1 model_save file found, and saved_condensed_list is empty, so no merge completed\n",
      "------no start value overrides encountered------\n",
      "newoptimizedict1{'opt_settings_dict': {'method': 'Nelder-Mead', 'options': {'xatol': 0.001, 'fatol': 0.1, 'adaptive': True}, 'help_start': 1, 'partial_match': 1}, 'hyper_param_dict': {'Ndiff_exponent': array([0.3, 0.3]), 'x_bandscale': array([1., 1.]), 'outer_x_bw': array([2.7]), 'outer_y_bw': array([2.2]), 'Ndiff_depth_bw': array([0.5, 0.5]), 'y_bandscale': array([1.5])}, 'modeldict': {'Ndiff_type': 'product', 'param_count': 2, 'Ndiff_start': 1, 'max_bw_Ndiff': 2, 'normalize_Ndiffwtsum': 'own_n', 'xkern_grid': 'no', 'ykern_grid': 61, 'outer_kern': 'gaussian', 'Ndiff_bw_kern': 'rbfkern', 'outer_x_bw_form': 'one_for_all', 'regression_model': 'NW', 'product_kern_norm': 'self', 'hyper_param_form_dict': {'Ndiff_exponent': 'free', 'x_bandscale': 'non-neg', 'Ndiff_depth_bw': 'non-neg', 'outer_x_bw': 'non-neg', 'outer_y_bw': 'non-neg', 'y_bandscale': 'non-neg'}}}\n",
      "------no start value overrides encountered------\n",
      "newoptimizedict1{'opt_settings_dict': {'method': 'Nelder-Mead', 'options': {'xatol': 0.001, 'fatol': 0.1, 'adaptive': True}, 'help_start': 1, 'partial_match': 1}, 'hyper_param_dict': {'Ndiff_exponent': array([0.3, 0.3]), 'x_bandscale': array([1., 1.]), 'outer_x_bw': array([2.7]), 'outer_y_bw': array([2.2]), 'Ndiff_depth_bw': array([0.5, 0.5]), 'y_bandscale': array([1.5])}, 'modeldict': {'Ndiff_type': 'product', 'param_count': 2, 'Ndiff_start': 1, 'max_bw_Ndiff': 2, 'normalize_Ndiffwtsum': 'own_n', 'xkern_grid': 'no', 'ykern_grid': 61, 'outer_kern': 'gaussian', 'Ndiff_bw_kern': 'rbfkern', 'outer_x_bw_form': 'one_for_all', 'regression_model': 'NW', 'product_kern_norm': 'self', 'hyper_param_form_dict': {'Ndiff_exponent': 'free', 'x_bandscale': 'non-neg', 'Ndiff_depth_bw': 'non-neg', 'outer_x_bw': 'non-neg', 'outer_y_bw': 'non-neg', 'y_bandscale': 'non-neg'}}}\n",
      "check_node_job_status found: nodes_jobdict[\"status\"]:[('20191115-160805', 'ready for node'), ('20191115-160806', 'accepted'), ('20191115-160811', 'starting'), ('20191115-160811', 'finished')]\n",
      "nodesjob_dict['node_status'][-1]:('20191115-160811', 'finished')\n",
      "job_time:20191115-160811,job_status:finished\n",
      "Traceback (most recent call last):\n",
      "  File \"C:\\Users\\DPatton\\gits\\kernelkernel\\mycluster.py\", line 271, in check_node_job_status\n",
      "    with open(nodes_job_filename,'rb') as saved_job_file:\n",
      "FileNotFoundError: [Errno 2] No such file or directory: 'C:/users/dpatton/gits/test/node11/node11_job'\n",
      "\n",
      "job_time:20191115-160836,job_status:no file found\n",
      "about to setup the job for node:('node11', [('20191115-160832', 'created')])\n",
      "job setup for node:node11\n",
      "check_node_job_status found: nodes_jobdict[\"status\"]:[('20191115-160805', 'ready for node'), ('20191115-160806', 'accepted'), ('20191115-160811', 'starting'), ('20191115-160811', 'finished')]\n",
      "nodesjob_dict['node_status'][-1]:('20191115-160811', 'finished')\n",
      "job_time:20191115-160811,job_status:finished\n",
      "check_node_job_status found: nodes_jobdict[\"status\"]:[('20191115-160836', 'ready for node'), ('20191115-160837', 'accepted')]\n",
      "nodesjob_dict['node_status'][-1]:('20191115-160837', 'accepted')\n",
      "job_time:20191115-160837,job_status:accepted\n",
      "check_node_job_status found: nodes_jobdict[\"status\"]:[('20191115-160805', 'ready for node'), ('20191115-160806', 'accepted'), ('20191115-160811', 'starting'), ('20191115-160811', 'finished')]\n",
      "nodesjob_dict['node_status'][-1]:('20191115-160811', 'finished')\n",
      "job_time:20191115-160811,job_status:finished\n",
      "check_node_job_status found: nodes_jobdict[\"status\"]:[('20191115-160836', 'ready for node'), ('20191115-160837', 'accepted'), ('20191115-160842', 'starting')]\n",
      "nodesjob_dict['node_status'][-1]:('20191115-160842', 'starting')\n",
      "job_time:20191115-160842,job_status:starting\n",
      "check_node_job_status found: nodes_jobdict[\"status\"]:[('20191115-160805', 'ready for node'), ('20191115-160806', 'accepted'), ('20191115-160811', 'starting'), ('20191115-160811', 'finished')]\n",
      "nodesjob_dict['node_status'][-1]:('20191115-160811', 'finished')\n",
      "job_time:20191115-160811,job_status:finished\n",
      "check_node_job_status found: nodes_jobdict[\"status\"]:[('20191115-160836', 'ready for node'), ('20191115-160837', 'accepted'), ('20191115-160842', 'starting')]\n",
      "nodesjob_dict['node_status'][-1]:('20191115-160842', 'starting')\n",
      "job_time:20191115-160842,job_status:starting\n",
      "Traceback (most recent call last):\n",
      "  File \"C:\\Users\\DPatton\\gits\\kernelkernel\\mycluster.py\", line 63, in runmaster\n",
      "    job_time,job_status=self.check_node_job_status(name[0],time=1)\n",
      "  File \"C:\\Users\\DPatton\\gits\\kernelkernel\\mycluster.py\", line 266, in check_node_job_status\n",
      "    os.chdir(nodes_dir)\n",
      "FileNotFoundError: [WinError 2] The system cannot find the file specified: 'C:/users/dpatton/gits/test/node1/'\n",
      "\n",
      "check_node_job_status found: nodes_jobdict[\"status\"]:[('20191115-160836', 'ready for node'), ('20191115-160837', 'accepted'), ('20191115-160842', 'starting')]\n",
      "nodesjob_dict['node_status'][-1]:('20191115-160842', 'starting')\n",
      "job_time:20191115-160842,job_status:starting\n",
      "Traceback (most recent call last):\n",
      "  File \"C:\\Users\\DPatton\\gits\\kernelkernel\\mycluster.py\", line 63, in runmaster\n",
      "    job_time,job_status=self.check_node_job_status(name[0],time=1)\n",
      "  File \"C:\\Users\\DPatton\\gits\\kernelkernel\\mycluster.py\", line 266, in check_node_job_status\n",
      "    os.chdir(nodes_dir)\n",
      "FileNotFoundError: [WinError 2] The system cannot find the file specified: 'C:/users/dpatton/gits/test/node1/'\n",
      "\n",
      "check_node_job_status found: nodes_jobdict[\"status\"]:[('20191115-160836', 'ready for node'), ('20191115-160837', 'accepted'), ('20191115-160842', 'starting')]\n",
      "nodesjob_dict['node_status'][-1]:('20191115-160842', 'starting')\n",
      "job_time:20191115-160842,job_status:starting\n",
      "Traceback (most recent call last):\n",
      "  File \"C:\\Users\\DPatton\\gits\\kernelkernel\\mycluster.py\", line 63, in runmaster\n",
      "    job_time,job_status=self.check_node_job_status(name[0],time=1)\n",
      "  File \"C:\\Users\\DPatton\\gits\\kernelkernel\\mycluster.py\", line 266, in check_node_job_status\n",
      "    os.chdir(nodes_dir)\n",
      "FileNotFoundError: [WinError 2] The system cannot find the file specified: 'C:/users/dpatton/gits/test/node1/'\n",
      "\n",
      "check_node_job_status found: nodes_jobdict[\"status\"]:[('20191115-160836', 'ready for node'), ('20191115-160837', 'accepted'), ('20191115-160842', 'starting')]\n",
      "nodesjob_dict['node_status'][-1]:('20191115-160842', 'starting')\n",
      "job_time:20191115-160842,job_status:starting\n",
      "Traceback (most recent call last):\n",
      "  File \"C:\\Users\\DPatton\\gits\\kernelkernel\\mycluster.py\", line 63, in runmaster\n",
      "    job_time,job_status=self.check_node_job_status(name[0],time=1)\n",
      "  File \"C:\\Users\\DPatton\\gits\\kernelkernel\\mycluster.py\", line 266, in check_node_job_status\n",
      "    os.chdir(nodes_dir)\n",
      "FileNotFoundError: [WinError 2] The system cannot find the file specified: 'C:/users/dpatton/gits/test/node1/'\n",
      "\n",
      "check_node_job_status found: nodes_jobdict[\"status\"]:[('20191115-160836', 'ready for node'), ('20191115-160837', 'accepted'), ('20191115-160842', 'starting')]\n",
      "nodesjob_dict['node_status'][-1]:('20191115-160842', 'starting')\n",
      "job_time:20191115-160842,job_status:starting\n",
      "Traceback (most recent call last):\n",
      "  File \"C:\\Users\\DPatton\\gits\\kernelkernel\\mycluster.py\", line 63, in runmaster\n",
      "    job_time,job_status=self.check_node_job_status(name[0],time=1)\n",
      "  File \"C:\\Users\\DPatton\\gits\\kernelkernel\\mycluster.py\", line 266, in check_node_job_status\n",
      "    os.chdir(nodes_dir)\n",
      "FileNotFoundError: [WinError 2] The system cannot find the file specified: 'C:/users/dpatton/gits/test/node1/'\n",
      "\n",
      "check_node_job_status found: nodes_jobdict[\"status\"]:[('20191115-160836', 'ready for node'), ('20191115-160837', 'accepted'), ('20191115-160842', 'starting')]\n",
      "nodesjob_dict['node_status'][-1]:('20191115-160842', 'starting')\n",
      "job_time:20191115-160842,job_status:starting\n",
      "Traceback (most recent call last):\n",
      "  File \"C:\\Users\\DPatton\\gits\\kernelkernel\\mycluster.py\", line 63, in runmaster\n",
      "    job_time,job_status=self.check_node_job_status(name[0],time=1)\n",
      "  File \"C:\\Users\\DPatton\\gits\\kernelkernel\\mycluster.py\", line 266, in check_node_job_status\n",
      "    os.chdir(nodes_dir)\n",
      "FileNotFoundError: [WinError 2] The system cannot find the file specified: 'C:/users/dpatton/gits/test/node1/'\n",
      "\n",
      "check_node_job_status found: nodes_jobdict[\"status\"]:[('20191115-160836', 'ready for node'), ('20191115-160837', 'accepted'), ('20191115-160842', 'starting')]\n",
      "nodesjob_dict['node_status'][-1]:('20191115-160842', 'starting')\n",
      "job_time:20191115-160842,job_status:starting\n",
      "Traceback (most recent call last):\n",
      "  File \"C:\\Users\\DPatton\\gits\\kernelkernel\\mycluster.py\", line 63, in runmaster\n",
      "    job_time,job_status=self.check_node_job_status(name[0],time=1)\n",
      "  File \"C:\\Users\\DPatton\\gits\\kernelkernel\\mycluster.py\", line 266, in check_node_job_status\n",
      "    os.chdir(nodes_dir)\n",
      "FileNotFoundError: [WinError 2] The system cannot find the file specified: 'C:/users/dpatton/gits/test/node1/'\n",
      "\n",
      "check_node_job_status found: nodes_jobdict[\"status\"]:[('20191115-160836', 'ready for node'), ('20191115-160837', 'accepted'), ('20191115-160842', 'starting')]\n",
      "nodesjob_dict['node_status'][-1]:('20191115-160842', 'starting')\n",
      "job_time:20191115-160842,job_status:starting\n",
      "Traceback (most recent call last):\n",
      "  File \"C:\\Users\\DPatton\\gits\\kernelkernel\\mycluster.py\", line 63, in runmaster\n",
      "    job_time,job_status=self.check_node_job_status(name[0],time=1)\n",
      "  File \"C:\\Users\\DPatton\\gits\\kernelkernel\\mycluster.py\", line 266, in check_node_job_status\n",
      "    os.chdir(nodes_dir)\n",
      "FileNotFoundError: [WinError 2] The system cannot find the file specified: 'C:/users/dpatton/gits/test/node1/'\n",
      "\n",
      "check_node_job_status found: nodes_jobdict[\"status\"]:[('20191115-160836', 'ready for node'), ('20191115-160837', 'accepted'), ('20191115-160842', 'starting')]\n",
      "nodesjob_dict['node_status'][-1]:('20191115-160842', 'starting')\n",
      "job_time:20191115-160842,job_status:starting\n"
     ]
    },
    {
     "ename": "KeyboardInterrupt",
     "evalue": "",
     "output_type": "error",
     "traceback": [
      "\u001b[1;31m---------------------------------------------------------------------------\u001b[0m",
      "\u001b[1;31mKeyboardInterrupt\u001b[0m                         Traceback (most recent call last)",
      "\u001b[1;32m<ipython-input-3-38df625f3d21>\u001b[0m in \u001b[0;36m<module>\u001b[1;34m\u001b[0m\n\u001b[0;32m      1\u001b[0m \u001b[1;31m#opt_model_variation_list=\u001b[0m\u001b[1;33m\u001b[0m\u001b[1;33m\u001b[0m\u001b[1;33m\u001b[0m\u001b[0m\n\u001b[1;32m----> 2\u001b[1;33m \u001b[0mmycluster\u001b[0m\u001b[1;33m.\u001b[0m\u001b[0mrun_cluster\u001b[0m\u001b[1;33m(\u001b[0m\u001b[0mmytype\u001b[0m\u001b[1;33m=\u001b[0m\u001b[1;34m'master'\u001b[0m\u001b[1;33m,\u001b[0m\u001b[0moptdict_variation_list\u001b[0m\u001b[1;33m=\u001b[0m\u001b[0moptdict_variation_list\u001b[0m\u001b[1;33m)\u001b[0m\u001b[1;33m\u001b[0m\u001b[1;33m\u001b[0m\u001b[0m\n\u001b[0m",
      "\u001b[1;32m~\\gits\\kernelkernel\\mycluster.py\u001b[0m in \u001b[0;36m__init__\u001b[1;34m(self, mytype, optdict_variation_list, data_gen_variation_list)\u001b[0m\n\u001b[0;32m     15\u001b[0m         \u001b[1;31m#self.savedirectory='O:/Public/DPatton/kernel/'\u001b[0m\u001b[1;33m\u001b[0m\u001b[1;33m\u001b[0m\u001b[1;33m\u001b[0m\u001b[0m\n\u001b[0;32m     16\u001b[0m         \u001b[0mkernelcompare\u001b[0m\u001b[1;33m.\u001b[0m\u001b[0mKernelCompare\u001b[0m\u001b[1;33m.\u001b[0m\u001b[0m__init__\u001b[0m\u001b[1;33m(\u001b[0m\u001b[0mself\u001b[0m\u001b[1;33m,\u001b[0m\u001b[0mself\u001b[0m\u001b[1;33m.\u001b[0m\u001b[0msavedirectory\u001b[0m\u001b[1;33m)\u001b[0m\u001b[1;33m\u001b[0m\u001b[1;33m\u001b[0m\u001b[0m\n\u001b[1;32m---> 17\u001b[1;33m         \u001b[0mself\u001b[0m\u001b[1;33m.\u001b[0m\u001b[0minitialize\u001b[0m\u001b[1;33m(\u001b[0m\u001b[0mmytype\u001b[0m\u001b[1;33m,\u001b[0m\u001b[0moptdict_variation_list\u001b[0m\u001b[1;33m=\u001b[0m\u001b[0moptdict_variation_list\u001b[0m\u001b[1;33m,\u001b[0m\u001b[0mdata_gen_variation_list\u001b[0m\u001b[1;33m=\u001b[0m\u001b[0mdata_gen_variation_list\u001b[0m\u001b[1;33m)\u001b[0m\u001b[1;33m\u001b[0m\u001b[1;33m\u001b[0m\u001b[0m\n\u001b[0m\u001b[0;32m     18\u001b[0m \u001b[1;33m\u001b[0m\u001b[0m\n\u001b[0;32m     19\u001b[0m \u001b[1;33m\u001b[0m\u001b[0m\n",
      "\u001b[1;32m~\\gits\\kernelkernel\\mycluster.py\u001b[0m in \u001b[0;36minitialize\u001b[1;34m(self, mytype, optdict_variation_list, data_gen_variation_list)\u001b[0m\n\u001b[0;32m     21\u001b[0m         \u001b[0mos\u001b[0m\u001b[1;33m.\u001b[0m\u001b[0mchdir\u001b[0m\u001b[1;33m(\u001b[0m\u001b[0mself\u001b[0m\u001b[1;33m.\u001b[0m\u001b[0msavedirectory\u001b[0m\u001b[1;33m)\u001b[0m\u001b[1;33m\u001b[0m\u001b[1;33m\u001b[0m\u001b[0m\n\u001b[0;32m     22\u001b[0m         \u001b[1;32mif\u001b[0m \u001b[0mmytype\u001b[0m\u001b[1;33m==\u001b[0m\u001b[1;34m\"master\"\u001b[0m\u001b[1;33m:\u001b[0m\u001b[1;33m\u001b[0m\u001b[1;33m\u001b[0m\u001b[0m\n\u001b[1;32m---> 23\u001b[1;33m             \u001b[0mself\u001b[0m\u001b[1;33m.\u001b[0m\u001b[0mrunmaster\u001b[0m\u001b[1;33m(\u001b[0m\u001b[0moptdict_variation_list\u001b[0m\u001b[1;33m,\u001b[0m\u001b[0mdata_gen_variation_list\u001b[0m\u001b[1;33m)\u001b[0m\u001b[1;33m\u001b[0m\u001b[1;33m\u001b[0m\u001b[0m\n\u001b[0m\u001b[0;32m     24\u001b[0m         \u001b[1;32melse\u001b[0m\u001b[1;33m:\u001b[0m\u001b[1;33m\u001b[0m\u001b[1;33m\u001b[0m\u001b[0m\n\u001b[0;32m     25\u001b[0m             \u001b[0mmyname\u001b[0m\u001b[1;33m=\u001b[0m\u001b[0mmytype\u001b[0m\u001b[1;33m\u001b[0m\u001b[1;33m\u001b[0m\u001b[0m\n",
      "\u001b[1;32m~\\gits\\kernelkernel\\mycluster.py\u001b[0m in \u001b[0;36mrunmaster\u001b[1;34m(self, optdict_variation_list, data_gen_variation_list)\u001b[0m\n\u001b[0;32m     90\u001b[0m                     \u001b[1;31m#print(Exception)\u001b[0m\u001b[1;33m\u001b[0m\u001b[1;33m\u001b[0m\u001b[1;33m\u001b[0m\u001b[0m\n\u001b[0;32m     91\u001b[0m                     \u001b[1;31m#print(f'status check for_node named:{name} has failed')\u001b[0m\u001b[1;33m\u001b[0m\u001b[1;33m\u001b[0m\u001b[1;33m\u001b[0m\u001b[0m\n\u001b[1;32m---> 92\u001b[1;33m             \u001b[0msleep\u001b[0m\u001b[1;33m(\u001b[0m\u001b[1;36m3\u001b[0m\u001b[1;33m)\u001b[0m\u001b[1;33m\u001b[0m\u001b[1;33m\u001b[0m\u001b[0m\n\u001b[0m\u001b[0;32m     93\u001b[0m \u001b[1;33m\u001b[0m\u001b[0m\n\u001b[0;32m     94\u001b[0m         \u001b[1;32massert\u001b[0m \u001b[0mi\u001b[0m\u001b[1;33m==\u001b[0m\u001b[0mmodel_run_count\u001b[0m\u001b[1;33m,\u001b[0m \u001b[1;34mf\"i={i}but model_run_count={model_run_count}\"\u001b[0m\u001b[1;33m\u001b[0m\u001b[1;33m\u001b[0m\u001b[0m\n",
      "\u001b[1;31mKeyboardInterrupt\u001b[0m: "
     ]
    }
   ],
   "source": [
    "#opt_model_variation_list=\n",
    "mycluster.run_cluster(mytype='master',optdict_variation_list=optdict_variation_list)"
   ]
  },
  {
   "cell_type": "code",
   "execution_count": null,
   "metadata": {},
   "outputs": [],
   "source": []
  }
 ],
 "metadata": {
  "kernelspec": {
   "display_name": "Python 3",
   "language": "python",
   "name": "python3"
  },
  "language_info": {
   "codemirror_mode": {
    "name": "ipython",
    "version": 3
   },
   "file_extension": ".py",
   "mimetype": "text/x-python",
   "name": "python",
   "nbconvert_exporter": "python",
   "pygments_lexer": "ipython3",
   "version": "3.7.4"
  }
 },
 "nbformat": 4,
 "nbformat_minor": 4
}
