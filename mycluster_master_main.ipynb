{
 "cells": [
  {
   "cell_type": "code",
   "execution_count": 1,
   "metadata": {},
   "outputs": [],
   "source": [
    "import mycluster\n",
    "import kernelcompare as kc"
   ]
  },
  {
   "cell_type": "code",
   "execution_count": null,
   "metadata": {},
   "outputs": [],
   "source": []
  },
  {
   "cell_type": "code",
   "execution_count": 2,
   "metadata": {},
   "outputs": [],
   "source": [
    "Ndiff_type_variations=('modeldict:Ndiff_type',['recursive','product'])\n",
    "max_bw_Ndiff_variations=('modeldict:max_bw_Ndiff',[2,3])\n",
    "Ndiff_start_variations=('modeldict:Ndiff_start',[1,2])\n",
    "\n",
    "product_kern_norm_variations=('modeldict:product_kern_norm',['self','own_n'])#include None too?\n",
    "normalize_Ndiffwtsum_variations=('modeldict:normalize_Ndiffwtsum',['own_n','across'])\n",
    "optdict_variation_list=[Ndiff_type_variations,max_bw_Ndiff_variations,Ndiff_start_variations,product_kern_norm_variations,normalize_Ndiffwtsum_variations]\n",
    "\n"
   ]
  },
  {
   "cell_type": "code",
   "execution_count": 3,
   "metadata": {},
   "outputs": [],
   "source": [
    "#a reminder of the options:\n",
    "#datagen_dict={'train_n':60,'n':200, 'param_count':param_count,'seed':1, 'ftype':'linear', 'evar':1}\n",
    "#datagen_variation_list=[test.build_quadratic_datagen_dict_override()] \n",
    "\n",
    "#train_n_variations=('train_n',[30])#so I don't crash my 10 year old laptop at home\n",
    "train_n_variations=('train_n',[30,45,60])\n",
    "ykern_grid_variations=('ykern_grid',[31,46,61])\n",
    "ftype_variations=('ftype',['linear','quadratic'])\n",
    "param_count_variations=('param_count',[1,2])\n",
    "#need to add block capability to datagen so we can repeat optimization with new training data.\n",
    "\n",
    "datagen_variation_list=[train_n_variations,ftype_variations,param_count_variations]\n",
    "\n"
   ]
  },
  {
   "cell_type": "code",
   "execution_count": null,
   "metadata": {},
   "outputs": [
    {
     "name": "stdout",
     "output_type": "stream",
     "text": [
      "dict_combo_list has 12 variations to run\n",
      "len(datagen_dict_list):12\n",
      "dict_combo_list has 32 variations to run\n",
      "dict_combo_list has 32 variations to run\n",
      "dict_combo_list has 32 variations to run\n",
      "dict_combo_list has 32 variations to run\n",
      "dict_combo_list has 32 variations to run\n",
      "dict_combo_list has 32 variations to run\n",
      "dict_combo_list has 32 variations to run\n",
      "dict_combo_list has 32 variations to run\n",
      "dict_combo_list has 32 variations to run\n",
      "dict_combo_list has 32 variations to run\n",
      "dict_combo_list has 32 variations to run\n",
      "dict_combo_list has 32 variations to run\n",
      "Traceback (most recent call last):\n",
      "  File \"C:\\Users\\DPatton\\gits\\kernelkernel\\mycluster.py\", line 236, in getnamelist\n",
      "    with open('namelist','rb') as namelist:\n",
      "FileNotFoundError: [Errno 2] No such file or directory: 'namelist'\n",
      "\n",
      "Traceback (most recent call last):\n",
      "  File \"C:\\Users\\DPatton\\gits\\kernelkernel\\mycluster.py\", line 363, in check_node_job_status\n",
      "    with open(nodes_job_filename,'rb') as saved_job_file:\n",
      "FileNotFoundError: [Errno 2] No such file or directory: 'C:\\\\Users\\\\DPatton\\\\gits\\\\kernelkernel\\\\cluster_test\\\\node1\\\\node1_job'\n",
      "\n",
      "job_time:20191118-151154,job_status:no file found\n",
      "about to setup the job for node:('node1', [('20191118-151153', 'created')])\n",
      "job setup for node:node1\n",
      "job_time:20191118-151159,job_status:starting\n",
      "job_time:20191118-151159,job_status:starting\n",
      "job_time:20191118-151159,job_status:starting\n",
      "job_time:20191118-151159,job_status:starting\n",
      "job_time:20191118-151159,job_status:starting\n",
      "job_time:20191118-151159,job_status:starting\n",
      "job_time:20191118-151159,job_status:starting\n",
      "job_time:20191118-151159,job_status:starting\n",
      "Traceback (most recent call last):\n",
      "  File \"C:\\Users\\DPatton\\gits\\kernelkernel\\mycluster.py\", line 363, in check_node_job_status\n",
      "    with open(nodes_job_filename,'rb') as saved_job_file:\n",
      "FileNotFoundError: [Errno 2] No such file or directory: 'C:\\\\Users\\\\DPatton\\\\gits\\\\kernelkernel\\\\cluster_test\\\\node2\\\\node2_job'\n",
      "\n",
      "job_time:20191118-151252,job_status:no file found\n",
      "about to setup the job for node:('node2', [('20191118-151249', 'created')])\n",
      "job setup for node:node2\n",
      "job_time:20191118-151159,job_status:starting\n",
      "job_time:20191118-151257,job_status:starting\n",
      "[WinError 32] The process cannot access the file because it is being used by another process: 'node1'\n",
      "job_time:20191118-151257,job_status:starting\n",
      "job_time:20191118-151257,job_status:starting\n",
      "job_time:20191118-151257,job_status:starting\n",
      "job_time:20191118-151257,job_status:starting\n",
      "job_time:20191118-151257,job_status:starting\n",
      "[WinError 32] The process cannot access the file because it is being used by another process: 'node2'\n",
      "Traceback (most recent call last):\n",
      "  File \"C:\\Users\\DPatton\\gits\\kernelkernel\\mycluster.py\", line 363, in check_node_job_status\n",
      "    with open(nodes_job_filename,'rb') as saved_job_file:\n",
      "FileNotFoundError: [Errno 2] No such file or directory: 'C:\\\\Users\\\\DPatton\\\\gits\\\\kernelkernel\\\\cluster_test\\\\node\\\\node_job'\n",
      "\n",
      "job_time:20191118-151440,job_status:no file found\n",
      "about to setup the job for node:('node', [('20191118-151433', 'created')])\n",
      "job setup for node:node\n",
      "job_time:20191118-151446,job_status:starting\n",
      "job_time:20191118-151446,job_status:starting\n",
      "job_time:20191118-151446,job_status:starting\n",
      "job_time:20191118-151446,job_status:starting\n",
      "job_time:20191118-151446,job_status:starting\n",
      "[WinError 32] The process cannot access the file because it is being used by another process: 'node'\n"
     ]
    }
   ],
   "source": [
    "#opt_model_variation_list=\n",
    "mycluster.run_cluster(mytype='master',optdict_variation_list=optdict_variation_list,datagen_variation_list=datagen_variation_list)"
   ]
  },
  {
   "cell_type": "code",
   "execution_count": null,
   "metadata": {},
   "outputs": [],
   "source": []
  }
 ],
 "metadata": {
  "kernelspec": {
   "display_name": "Python 3",
   "language": "python",
   "name": "python3"
  },
  "language_info": {
   "codemirror_mode": {
    "name": "ipython",
    "version": 3
   },
   "file_extension": ".py",
   "mimetype": "text/x-python",
   "name": "python",
   "nbconvert_exporter": "python",
   "pygments_lexer": "ipython3",
   "version": "3.7.4"
  }
 },
 "nbformat": 4,
 "nbformat_minor": 4
}
