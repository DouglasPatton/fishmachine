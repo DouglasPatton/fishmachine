{
 "cells": [
  {
   "cell_type": "markdown",
   "metadata": {},
   "source": [
    "### kernel density estimation and kernel regression for prediction\n",
    "This notebook is my first attempt to write down the ddiff and dddiff models that I have been working on"
   ]
  },
  {
   "cell_type": "markdown",
   "metadata": {},
   "source": [
    "mixed recursive/iterative approach (rather than vectorized approach that is harder to generalize\n",
    "- create separate submodules for KDE and KDreg\n",
    "    - develop a system for storing differenced but unweighted data and the appropriate mask to lessen memory usage. \n",
    "        -1's or 0's depending on i/j/k/l/.... values\n",
    "    - figure out the deepest level requested by the user and levels that are less deep are just slices of the deeper model. \n",
    "        -scout out the tree to build the differenced dataset. \n",
    "          \n",
    "        \n",
    " plot and compare\n",
    "on synthetic data, 1, 2, 3+ mixed distributions\n",
    "1d - Ndiff vs gaussian kernel vs kernel_tunneling\n",
    "2d -  \n",
    "\n",
    "\n",
    "multidimensional x problem\n",
    "e.g., parameter treatment\n",
    "\"product kernel approach\" vs l2 \"el two\" (radial basis?)distance "
   ]
  },
  {
   "cell_type": "markdown",
   "metadata": {},
   "source": [
    "#### generate a simple linear dataset y=xb+e\n",
    "##### store validation data from same dataset too"
   ]
  },
  {
   "cell_type": "markdown",
   "metadata": {
    "pycharm": {
     "name": "#%% md\n"
    }
   },
   "source": [
    "### create modeldict\n",
    "- 'loss_function': \n",
    "  - 'mse'\n",
    "  - cross_mse\n",
    "  - cross_msei\n",
    "  - batch_crossval\n",
    "  - batchnorm_crossval\n",
    "- 'Ndiff_type': refers to the mathematical form of Ndiff\n",
    "  - 'product'-Ndiff1 multiplied by Ndiff2\n",
    "  - 'recursive'-Ndiff1's bw is Ndiff 2\n",
    "- max_bw_Ndiff: is the depth of Ndiffs applied in estimating the bandwidth.\n",
    "- 'normalize_Ndiffwtsum':\n",
    "  - 'across' means sum across own level of kernelized-Ndiffs and divide by that sum (CDF approach)\n",
    "  - 'own_n' means for (n+k)diff where n+K=max_bw_Ndiff\n",
    "- 'NWnorm\n",
    "  - 'across1' prior to 1/15 when mistake identified in summation dimension for NWnorm across\n",
    "  - 'across' correct implementation, where for each prediciton, the sum of the weights applied to the yout is normalized to 1.\n",
    "  - 'none'\n",
    "- Ndiff_bw_kern:\n",
    "  - rbfkern means use the radial basis function kernel\n",
    "  - 'product' means use product kernel like as in liu and yang eq1. \n",
    "- 'regression_model':\n",
    "  - 'NW' means use nadaraya-watson kernel regression\n",
    "  - 'NW-rbf' means use NW but calculate p(y,x) using rbf kernel rather than product kernel\n",
    "  - 'NW-rbf2' means NW-rbf plus euclidean distance logic (i.e. subtraction) for p(y,x)/p(y)\n",
    "  - 'full_logit' means local logit with all variables entering linearly\n",
    "  - 'rbf_logit' means local logit with 1 parameters: scaled l2 norm centered on zero \n",
    " (globally or by i?). Is this a new idea?\n",
    "- outer_x_bw_form: if x is separated into blocks of rvars that are combined within a block using rbf kernel, \n",
    "  - 'one_for_all' - use same hx bw for all blocks\n",
    "  - 'one_per_block' - each block or rvars gets an hx (not developed)\n",
    "- ykerngrid_form\n",
    "  - ('even',4),then create 'ykern_grid' evnely spaced values from -4 to 4 \n",
    "  - ('exp',4), then create'ykern_grid' exponentially spaced (more near zero) values from -4 to 4\n",
    "  - ('binary') a continuous spread of 'ykern_grid' values from 0 to 1, inclusive\n",
    "- ykern_grid\n",
    "  - 'no' means use original data points (self is masked when predicting self)\n",
    "  - an integer specifies the number of values to use in 'ykerngrid_form'\n",
    "- xkern_grid\n",
    "  - much like ykern_grid, but used less frequently since x's are typically pre-specified\n",
    "- product_kern_norm: when multiplying kernels across random variables, this parameter determines if each random variable has its kernels normalized before the product or not\n",
    "  - 'self' means each random variable has its kernels divided by the sum of kernels across the nout axis (the number of possibile values y is averaged over, whose probabilities sum to 1)\n",
    "  - 'own_n' means same as self, but divided by count of non-masked items in second to last, nout lenght dimension\n",
    "  - 'none' means no normalization prior to taking products across rvar kernels\n",
    "- hyper_param_form_dict is a nested dictionary\n",
    "  - Ndiff_exponent is the exponent wrapped around typically a sum of kernels for each Ndiff level \n",
    "after level 1 (i.e., (i-j) or centered, obvious/conventional level.)\n",
    "  - x_bandscale is the parameter specific to each variable (each x in X) used for prediction (y)\n",
    "  - Ndiff_depth_bw is used as the kernel's bandwidth (h) at each level of Ndiff including at level 1 \n",
    "  - outer_x_bw vanilla bandwidth for the rbf or product kernel\n",
    "  - outer_y_bw vanilla bandwidth for y"
   ]
  },
  {
   "cell_type": "code",
   "execution_count": 1,
   "metadata": {},
   "outputs": [],
   "source": [
    "import os\n",
    "import kernelcompare as kc\n",
    "#from importlib import reload\n",
    "networkdir='o:/public/dpatton/kernel'\n",
    "mydir=os.getcwd()\n",
    "#mydir2=os.path.join(mydir,\"old models without datagen\")\n",
    "test=kc.KernelCompare(directory=mydir)"
   ]
  },
  {
   "cell_type": "code",
   "execution_count": 2,
   "metadata": {},
   "outputs": [
    {
     "data": {
      "text/plain": [
       "{'source': 'pisces',\n",
       " 'batch_n': 32,\n",
       " 'batchcount': 10,\n",
       " 'sample_replace': 'no',\n",
       " 'species': 'all',\n",
       " 'missing': 'drop_row',\n",
       " 'floatselecttup': (2, 3, 5, 6),\n",
       " 'spatialselecttup': (8,),\n",
       " 'param_count': 5}"
      ]
     },
     "execution_count": 2,
     "metadata": {},
     "output_type": "execute_result"
    }
   ],
   "source": [
    "pisces_datagen_dict=test.setdata('pisces')\n",
    "pisces_datagen_dict"
   ]
  },
  {
   "cell_type": "code",
   "execution_count": 3,
   "metadata": {},
   "outputs": [],
   "source": [
    "n=32\n",
    "ykerngrid_form_variations=('modeldict:ykerngrid_form',[('binary',)])\n",
    "lossfn_variations=('modeldict:loss_function',['batchnorm_crossval'])\n",
    "#lossfn_variations=('modeldict:loss_function',['batch_crossval'])\n",
    "#lossfn_variations=('modeldict:loss_function',['mse'])\n",
    "#Ndiff_type_variations=('modeldict:Ndiff_type',['recursive'])\n",
    "Ndiff_type_variations=('modeldict:Ndiff_type',['product'])\n",
    "max_bw_Ndiff_variations=('modeldict:max_bw_Ndiff',[2])\n",
    "NWnorm_variations=('modeldict:NWnorm',['none'])\n",
    "Ndiff_start_variations=('modeldict:Ndiff_start',[1])\n",
    "ykern_grid_variations=('modeldict:ykern_grid',[2])\n",
    "standardization_variations=('modeldict:std_data',[([],'float')])\n",
    "regression_model_variations=('modeldict:regression_model',['NW-rbf'])\n",
    "#product_kern_norm_variations=('modeldict:product_kern_norm',['self','own_n'])#include None too?\n",
    "#normalize_Ndiffwtsum_variations=('modeldict:normalize_Ndiffwtsum',['own_n','across'])\n",
    "optdict_variation_list=[NWnorm_variations,\n",
    "                        ykerngrid_form_variations, \n",
    "                        lossfn_variations,\n",
    "                        regression_model_variations,\n",
    "                        Ndiff_type_variations,\n",
    "                        ykern_grid_variations,\n",
    "                        max_bw_Ndiff_variations,\n",
    "                        standardization_variations,\n",
    "                        Ndiff_start_variations\n",
    "                       ]  #,product_kern_norm_variations,normalize_Ndiffwtsum_variations]\n",
    "\n",
    "\n"
   ]
  },
  {
   "cell_type": "code",
   "execution_count": 4,
   "metadata": {},
   "outputs": [],
   "source": [
    "\n",
    "\n",
    "#species_variations=('species',[4,5])\n",
    "batch_n_variations=('batch_n',[n])\n",
    "datagen_variation_list=[batch_n_variations]\n"
   ]
  },
  {
   "cell_type": "code",
   "execution_count": 5,
   "metadata": {},
   "outputs": [
    {
     "name": "stdout",
     "output_type": "stream",
     "text": [
      "opening C:\\Users\\DPatton\\gits\\kernelkernel\\data_tool\\specieslistfiles with length:7 and type:<class 'tuple'>\n",
      "len(datagen_dict_list):565\n"
     ]
    },
    {
     "data": {
      "text/plain": [
       "\"print(f'len(testrun){len(testrun)}')\\nprint(f'testrun[0]{testrun[0:2]}')\\nprint('--------------')\\nprint(f'testrun[-1]{testrun[-4:]}')\""
      ]
     },
     "execution_count": 5,
     "metadata": {},
     "output_type": "execute_result"
    }
   ],
   "source": [
    "testrun=test.prep_model_list(optdict_variation_list=optdict_variation_list,datagen_variation_list=datagen_variation_list,datagen_dict=pisces_datagen_dict,verbose=0)\n",
    "'''print(f'len(testrun){len(testrun)}')\n",
    "print(f'testrun[0]{testrun[0:2]}')\n",
    "print('--------------')\n",
    "print(f'testrun[-1]{testrun[-4:]}')'''"
   ]
  },
  {
   "cell_type": "code",
   "execution_count": null,
   "metadata": {
    "pycharm": {
     "is_executing": false,
     "name": "#%%\n"
    }
   },
   "outputs": [
    {
     "name": "stdout",
     "output_type": "stream",
     "text": [
      "~~~~~~~run number:201`~~~~~~~\n",
      "a_rundict{'optimizedict': {'opt_settings_dict': {'method': 'Nelder-Mead', 'options': {'xatol': 0.5, 'fatol': 1, 'adaptive': True}, 'help_start': 1, 'partial_match': 1}, 'hyper_param_dict': {'Ndiff_exponent': array([0.0001, 0.0001]), 'x_bandscale': array([1., 1., 1., 1., 1.]), 'outer_x_bw': array([2.7]), 'outer_y_bw': array([2.2]), 'Ndiff_depth_bw': array([0.5, 0.5]), 'y_bandscale': array([1.])}, 'modeldict': {'std_data': ([], 'float'), 'loss_function': 'batchnorm_crossval', 'Ndiff_type': 'product', 'param_count': 5, 'Ndiff_start': 1, 'max_bw_Ndiff': 2, 'normalize_Ndiffwtsum': 'own_n', 'NWnorm': 'none', 'xkern_grid': 'no', 'ykern_grid': 2, 'outer_kern': 'gaussian', 'Ndiff_bw_kern': 'rbfkern', 'outer_x_bw_form': 'one_for_all', 'regression_model': 'NW-rbf', 'product_kern_norm': 'self', 'hyper_param_form_dict': {'Ndiff_exponent': 'free', 'x_bandscale': 'non-neg', 'Ndiff_depth_bw': 'non-neg', 'outer_x_bw': 'non-neg', 'outer_y_bw': 'non-neg', 'y_bandscale': 'fixed'}, 'species': 'anchoa mitchilli', 'ykerngrid_form': ('binary',)}}, 'datagen_dict': {'source': 'pisces', 'batch_n': 32, 'batchcount': 10, 'sample_replace': 'no', 'species': 'anchoa mitchilli', 'missing': 'drop_row', 'floatselecttup': (2, 3, 5, 6), 'spatialselecttup': (8,), 'param_count': 5}}\n",
      "opening C:\\Users\\DPatton\\gits\\kernelkernel\\data_tool\\specieslistfiles with length:7 and type:<class 'tuple'>\n",
      "<class 'list'>\n",
      "<class 'list'>\n",
      "species_n: 317\n",
      "self.xvarname_list: ['WA', 'Elev', 'IWI', 'Slope', 'HUC12(spatial)']\n",
      "ydatashape: (32,) xdatashape: (32, 5)\n",
      "ydatashape: (32,) xdatashape: (32, 5)\n",
      "ydatashape: (32,) xdatashape: (32, 5)\n",
      "ydatashape: (32,) xdatashape: (32, 5)\n",
      "ydatashape: (32,) xdatashape: (32, 5)\n",
      "ydatashape: (32,) xdatashape: (32, 5)\n",
      "ydatashape: (32,) xdatashape: (32, 5)\n",
      "ydatashape: (32,) xdatashape: (32, 5)\n",
      "ydatashape: (32,) xdatashape: (32, 5)\n",
      "ydatashape: (32,) xdatashape: (32, 5)\n",
      "end 320 fullbatchbatch_n 320\n",
      "datagen_dict:{'source': 'pisces', 'batch_n': 32, 'batchcount': 10, 'sample_replace': 'no', 'species': 'anchoa mitchilli', 'missing': 'drop_row', 'floatselecttup': (2, 3, 5, 6), 'spatialselecttup': (8,), 'param_count': 5} for directory,C:\\Users\\DPatton\\gits\\kernelkernel\n",
      "INFO <PID 19224:MainProcess> myKernLogger.__init__(): optimizedict for None:{'opt_settings_dict': {'method': 'Nelder-Mead', 'options': {'xatol': 0.5, 'fatol': 1, 'adaptive': True}, 'help_start': 1, 'partial_match': 1}, 'hyper_param_dict': {'Ndiff_exponent': array([0.0001, 0.0001]), 'x_bandscale': array([1., 1., 1., 1., 1.]), 'outer_x_bw': array([2.7]), 'outer_y_bw': array([2.2]), 'Ndiff_depth_bw': array([0.5, 0.5]), 'y_bandscale': array([1.])}, 'modeldict': {'std_data': ([], 'float'), 'loss_function': 'batchnorm_crossval', 'Ndiff_type': 'product', 'param_count': 5, 'Ndiff_start': 1, 'max_bw_Ndiff': 2, 'normalize_Ndiffwtsum': 'own_n', 'NWnorm': 'none', 'xkern_grid': 'no', 'ykern_grid': 2, 'outer_kern': 'gaussian', 'Ndiff_bw_kern': 'rbfkern', 'outer_x_bw_form': 'one_for_all', 'regression_model': 'NW-rbf', 'product_kern_norm': 'self', 'hyper_param_form_dict': {'Ndiff_exponent': 'free', 'x_bandscale': 'non-neg', 'Ndiff_depth_bw': 'non-neg', 'outer_x_bw': 'non-neg', 'outer_y_bw': 'non-neg', 'y_bandscale': 'fixed'}, 'species': 'anchoa mitchilli', 'ykerngrid_form': ('binary',)}, 'datagen_dict': {'source': 'pisces', 'batch_n': 32, 'batchcount': 10, 'sample_replace': 'no', 'species': 'anchoa mitchilli', 'missing': 'drop_row', 'floatselecttup': (2, 3, 5, 6), 'spatialselecttup': (8,), 'param_count': 5}}\n",
      "param_valdict:{'Ndiff_exponent': array([0.0001, 0.0001]), 'x_bandscale': array([1., 1., 1., 1., 1.]), 'outer_x_bw': array([2.7]), 'outer_y_bw': array([2.2]), 'Ndiff_depth_bw': array([0.5, 0.5]), 'y_bandscale': array([1.])}\n",
      "INFO <PID 19224:MainProcess> myKernLogger.setup_fixed_or_free(): setup_fixed_or_free_paramdict:{'Ndiff_exponent': {'fixed_or_free': 'free', 'const': 'free', 'location_idx': (0, 2)}, 'x_bandscale': {'fixed_or_free': 'free', 'const': 'non-neg', 'location_idx': (2, 7)}, 'Ndiff_depth_bw': {'fixed_or_free': 'free', 'const': 'non-neg', 'location_idx': (7, 9)}, 'outer_x_bw': {'fixed_or_free': 'free', 'const': 'non-neg', 'location_idx': (9, 10)}, 'outer_y_bw': {'fixed_or_free': 'free', 'const': 'non-neg', 'location_idx': (10, 11)}, 'y_bandscale': {'fixed_or_free': 'fixed', 'const': 'fixed', 'location_idx': (0, 1)}, 'free_params': 'outside', 'fixed_params': array([1.])}\n",
      "self.npr 288\n",
      "mykern modeldict:{'std_data': ([], 'float'), 'loss_function': 'batchnorm_crossval', 'Ndiff_type': 'product', 'param_count': 5, 'Ndiff_start': 1, 'max_bw_Ndiff': 2, 'normalize_Ndiffwtsum': 'own_n', 'NWnorm': 'none', 'xkern_grid': 'no', 'ykern_grid': 2, 'outer_kern': 'gaussian', 'Ndiff_bw_kern': 'rbfkern', 'outer_x_bw_form': 'one_for_all', 'regression_model': 'NW-rbf', 'product_kern_norm': 'self', 'hyper_param_form_dict': {'Ndiff_exponent': 'free', 'x_bandscale': 'non-neg', 'Ndiff_depth_bw': 'non-neg', 'outer_x_bw': 'non-neg', 'outer_y_bw': 'non-neg', 'y_bandscale': 'fixed'}, 'species': 'anchoa mitchilli', 'ykerngrid_form': ('binary',)}\n",
      "self.batchbatchcount 1\n",
      "batchbatchidx: 0\n",
      "time between saves for None is 0:01:15\n",
      "saved to C:\\Users\\DPatton\\gits\\kernelkernel\\model_save at about 20200128-103834 with mse=0.1295675504192765\n",
      "self.batchbatchcount 1\n",
      "batchbatchidx: 0\n",
      "time between saves for None is 0:00:24\n",
      "saved to C:\\Users\\DPatton\\gits\\kernelkernel\\model_save at about 20200128-103858 with mse=0.12956702566301898\n",
      "self.batchbatchcount 1\n",
      "batchbatchidx: 0\n",
      "time between saves for None is 0:00:24\n",
      "saved to C:\\Users\\DPatton\\gits\\kernelkernel\\model_save at about 20200128-103922 with mse=0.12956702566301898\n",
      "self.batchbatchcount 1\n",
      "batchbatchidx: 0\n",
      "time between saves for None is 0:00:24\n",
      "saved to C:\\Users\\DPatton\\gits\\kernelkernel\\model_save at about 20200128-103946 with mse=0.12956755040202741\n",
      "self.batchbatchcount 1\n",
      "batchbatchidx: 0\n",
      "time between saves for None is 0:00:23\n",
      "saved to C:\\Users\\DPatton\\gits\\kernelkernel\\model_save at about 20200128-104009 with mse=0.12956819330612462\n",
      "self.batchbatchcount 1\n",
      "batchbatchidx: 0\n",
      "traceback for run 201\n",
      "Traceback (most recent call last):\n",
      "  File \"<ipython-input-6-a06b675e0c81>\", line 14, in <module>\n",
      "    test.do_monte_opt(optimizedict,datagen_dict,force_start_params=1)\n",
      "  File \"C:\\Users\\DPatton\\gits\\kernelkernel\\kernelcompare.py\", line 52, in do_monte_opt\n",
      "    mk.optimize_free_params(datagen_obj,optimizedict,savedir=self.kc_savedirectory,myname=self.name)\n",
      "  File \"C:\\Users\\DPatton\\gits\\kernelkernel\\mykern.py\", line 994, in __init__\n",
      "    self.minimize_obj=minimize(self.MY_KDEpredictMSE, free_params, args=args_tuple, method=method, options=opt_method_options)\n",
      "  File \"C:\\Users\\DPatton\\AppData\\Local\\Continuum\\anaconda3\\lib\\site-packages\\scipy\\optimize\\_minimize.py\", line 588, in minimize\n",
      "    return _minimize_neldermead(fun, x0, args, callback, **options)\n",
      "  File \"C:\\Users\\DPatton\\AppData\\Local\\Continuum\\anaconda3\\lib\\site-packages\\scipy\\optimize\\optimize.py\", line 585, in _minimize_neldermead\n",
      "    fsim[k] = func(sim[k])\n",
      "  File \"C:\\Users\\DPatton\\AppData\\Local\\Continuum\\anaconda3\\lib\\site-packages\\scipy\\optimize\\optimize.py\", line 326, in function_wrapper\n",
      "    return function(*(wrapper_args + args))\n",
      "  File \"C:\\Users\\DPatton\\gits\\kernelkernel\\mykern.py\", line 704, in MY_KDEpredictMSE\n",
      "    yhat_unstd_outtup_list=pool.map(self.MPwrapperKDEpredict,arglistlist)\n",
      "  File \"C:\\Users\\DPatton\\AppData\\Local\\Continuum\\anaconda3\\lib\\multiprocessing\\pool.py\", line 268, in map\n",
      "    return self._map_async(func, iterable, mapstar, chunksize).get()\n",
      "  File \"C:\\Users\\DPatton\\AppData\\Local\\Continuum\\anaconda3\\lib\\multiprocessing\\pool.py\", line 651, in get\n",
      "    self.wait(timeout)\n",
      "  File \"C:\\Users\\DPatton\\AppData\\Local\\Continuum\\anaconda3\\lib\\multiprocessing\\pool.py\", line 648, in wait\n",
      "    self._event.wait(timeout)\n",
      "  File \"C:\\Users\\DPatton\\AppData\\Local\\Continuum\\anaconda3\\lib\\threading.py\", line 552, in wait\n",
      "    signaled = self._cond.wait(timeout)\n",
      "  File \"C:\\Users\\DPatton\\AppData\\Local\\Continuum\\anaconda3\\lib\\threading.py\", line 296, in wait\n",
      "    waiter.acquire()\n",
      "KeyboardInterrupt\n",
      "\n",
      "~~~~~~~run number:202`~~~~~~~\n",
      "a_rundict{'optimizedict': {'opt_settings_dict': {'method': 'Nelder-Mead', 'options': {'xatol': 0.5, 'fatol': 1, 'adaptive': True}, 'help_start': 1, 'partial_match': 1}, 'hyper_param_dict': {'Ndiff_exponent': array([0.0001, 0.0001]), 'x_bandscale': array([1., 1., 1., 1., 1.]), 'outer_x_bw': array([2.7]), 'outer_y_bw': array([2.2]), 'Ndiff_depth_bw': array([0.5, 0.5]), 'y_bandscale': array([1.])}, 'modeldict': {'std_data': ([], 'float'), 'loss_function': 'batchnorm_crossval', 'Ndiff_type': 'product', 'param_count': 5, 'Ndiff_start': 1, 'max_bw_Ndiff': 2, 'normalize_Ndiffwtsum': 'own_n', 'NWnorm': 'none', 'xkern_grid': 'no', 'ykern_grid': 2, 'outer_kern': 'gaussian', 'Ndiff_bw_kern': 'rbfkern', 'outer_x_bw_form': 'one_for_all', 'regression_model': 'NW-rbf', 'product_kern_norm': 'self', 'hyper_param_form_dict': {'Ndiff_exponent': 'free', 'x_bandscale': 'non-neg', 'Ndiff_depth_bw': 'non-neg', 'outer_x_bw': 'non-neg', 'outer_y_bw': 'non-neg', 'y_bandscale': 'fixed'}, 'species': 'elops saurus', 'ykerngrid_form': ('binary',)}}, 'datagen_dict': {'source': 'pisces', 'batch_n': 32, 'batchcount': 10, 'sample_replace': 'no', 'species': 'elops saurus', 'missing': 'drop_row', 'floatselecttup': (2, 3, 5, 6), 'spatialselecttup': (8,), 'param_count': 5}}\n",
      "opening C:\\Users\\DPatton\\gits\\kernelkernel\\data_tool\\specieslistfiles with length:7 and type:<class 'tuple'>\n",
      "<class 'list'>\n",
      "<class 'list'>\n",
      "species_n: 47\n",
      "self.xvarname_list: ['WA', 'Elev', 'IWI', 'Slope', 'HUC12(spatial)']\n",
      "traceback for run 202\n",
      "Traceback (most recent call last):\n",
      "  File \"<ipython-input-6-a06b675e0c81>\", line 14, in <module>\n",
      "    test.do_monte_opt(optimizedict,datagen_dict,force_start_params=1)\n",
      "  File \"C:\\Users\\DPatton\\gits\\kernelkernel\\kernelcompare.py\", line 44, in do_monte_opt\n",
      "    datagen_obj=dg.datagen(datagen_dict)\n",
      "  File \"C:\\Users\\DPatton\\gits\\kernelkernel\\datagen.py\", line 72, in __init__\n",
      "    self.gen_piscesdata01(seed,batch_n,batchcount,sample_replace,missing,species,floatselecttup,spatialselecttup)\n",
      "  File \"C:\\Users\\DPatton\\gits\\kernelkernel\\datagen.py\", line 131, in gen_piscesdata01\n",
      "    self.genpiscesbatchbatchlist(self.ydataarray,self.xdataarray,batch_n,batchcount,sample_replace,missing)\n",
      "  File \"C:\\Users\\DPatton\\gits\\kernelkernel\\datagen.py\", line 172, in genpiscesbatchbatchlist\n",
      "    assert len(selectlist)==fullbatchbatch_n\n",
      "AssertionError\n",
      "\n",
      "~~~~~~~run number:203`~~~~~~~\n",
      "a_rundict{'optimizedict': {'opt_settings_dict': {'method': 'Nelder-Mead', 'options': {'xatol': 0.5, 'fatol': 1, 'adaptive': True}, 'help_start': 1, 'partial_match': 1}, 'hyper_param_dict': {'Ndiff_exponent': array([0.0001, 0.0001]), 'x_bandscale': array([1., 1., 1., 1., 1.]), 'outer_x_bw': array([2.7]), 'outer_y_bw': array([2.2]), 'Ndiff_depth_bw': array([0.5, 0.5]), 'y_bandscale': array([1.])}, 'modeldict': {'std_data': ([], 'float'), 'loss_function': 'batchnorm_crossval', 'Ndiff_type': 'product', 'param_count': 5, 'Ndiff_start': 1, 'max_bw_Ndiff': 2, 'normalize_Ndiffwtsum': 'own_n', 'NWnorm': 'none', 'xkern_grid': 'no', 'ykern_grid': 2, 'outer_kern': 'gaussian', 'Ndiff_bw_kern': 'rbfkern', 'outer_x_bw_form': 'one_for_all', 'regression_model': 'NW-rbf', 'product_kern_norm': 'self', 'hyper_param_form_dict': {'Ndiff_exponent': 'free', 'x_bandscale': 'non-neg', 'Ndiff_depth_bw': 'non-neg', 'outer_x_bw': 'non-neg', 'outer_y_bw': 'non-neg', 'y_bandscale': 'fixed'}, 'species': 'fundulus seminolis', 'ykerngrid_form': ('binary',)}}, 'datagen_dict': {'source': 'pisces', 'batch_n': 32, 'batchcount': 10, 'sample_replace': 'no', 'species': 'fundulus seminolis', 'missing': 'drop_row', 'floatselecttup': (2, 3, 5, 6), 'spatialselecttup': (8,), 'param_count': 5}}\n",
      "opening C:\\Users\\DPatton\\gits\\kernelkernel\\data_tool\\specieslistfiles with length:7 and type:<class 'tuple'>\n",
      "<class 'list'>\n",
      "<class 'list'>\n",
      "species_n: 143\n",
      "self.xvarname_list: ['WA', 'Elev', 'IWI', 'Slope', 'HUC12(spatial)']\n",
      "traceback for run 203\n",
      "Traceback (most recent call last):\n",
      "  File \"<ipython-input-6-a06b675e0c81>\", line 14, in <module>\n",
      "    test.do_monte_opt(optimizedict,datagen_dict,force_start_params=1)\n",
      "  File \"C:\\Users\\DPatton\\gits\\kernelkernel\\kernelcompare.py\", line 44, in do_monte_opt\n",
      "    datagen_obj=dg.datagen(datagen_dict)\n",
      "  File \"C:\\Users\\DPatton\\gits\\kernelkernel\\datagen.py\", line 72, in __init__\n",
      "    self.gen_piscesdata01(seed,batch_n,batchcount,sample_replace,missing,species,floatselecttup,spatialselecttup)\n",
      "  File \"C:\\Users\\DPatton\\gits\\kernelkernel\\datagen.py\", line 131, in gen_piscesdata01\n",
      "    self.genpiscesbatchbatchlist(self.ydataarray,self.xdataarray,batch_n,batchcount,sample_replace,missing)\n",
      "  File \"C:\\Users\\DPatton\\gits\\kernelkernel\\datagen.py\", line 172, in genpiscesbatchbatchlist\n",
      "    assert len(selectlist)==fullbatchbatch_n\n",
      "AssertionError\n",
      "\n",
      "~~~~~~~run number:204`~~~~~~~\n",
      "a_rundict{'optimizedict': {'opt_settings_dict': {'method': 'Nelder-Mead', 'options': {'xatol': 0.5, 'fatol': 1, 'adaptive': True}, 'help_start': 1, 'partial_match': 1}, 'hyper_param_dict': {'Ndiff_exponent': array([0.0001, 0.0001]), 'x_bandscale': array([1., 1., 1., 1., 1.]), 'outer_x_bw': array([2.7]), 'outer_y_bw': array([2.2]), 'Ndiff_depth_bw': array([0.5, 0.5]), 'y_bandscale': array([1.])}, 'modeldict': {'std_data': ([], 'float'), 'loss_function': 'batchnorm_crossval', 'Ndiff_type': 'product', 'param_count': 5, 'Ndiff_start': 1, 'max_bw_Ndiff': 2, 'normalize_Ndiffwtsum': 'own_n', 'NWnorm': 'none', 'xkern_grid': 'no', 'ykern_grid': 2, 'outer_kern': 'gaussian', 'Ndiff_bw_kern': 'rbfkern', 'outer_x_bw_form': 'one_for_all', 'regression_model': 'NW-rbf', 'product_kern_norm': 'self', 'hyper_param_form_dict': {'Ndiff_exponent': 'free', 'x_bandscale': 'non-neg', 'Ndiff_depth_bw': 'non-neg', 'outer_x_bw': 'non-neg', 'outer_y_bw': 'non-neg', 'y_bandscale': 'fixed'}, 'species': 'jordanella floridae', 'ykerngrid_form': ('binary',)}}, 'datagen_dict': {'source': 'pisces', 'batch_n': 32, 'batchcount': 10, 'sample_replace': 'no', 'species': 'jordanella floridae', 'missing': 'drop_row', 'floatselecttup': (2, 3, 5, 6), 'spatialselecttup': (8,), 'param_count': 5}}\n",
      "opening C:\\Users\\DPatton\\gits\\kernelkernel\\data_tool\\specieslistfiles with length:7 and type:<class 'tuple'>\n",
      "<class 'list'>\n",
      "<class 'list'>\n",
      "species_n: 140\n",
      "self.xvarname_list: ['WA', 'Elev', 'IWI', 'Slope', 'HUC12(spatial)']\n",
      "traceback for run 204\n",
      "Traceback (most recent call last):\n",
      "  File \"<ipython-input-6-a06b675e0c81>\", line 14, in <module>\n",
      "    test.do_monte_opt(optimizedict,datagen_dict,force_start_params=1)\n",
      "  File \"C:\\Users\\DPatton\\gits\\kernelkernel\\kernelcompare.py\", line 44, in do_monte_opt\n",
      "    datagen_obj=dg.datagen(datagen_dict)\n",
      "  File \"C:\\Users\\DPatton\\gits\\kernelkernel\\datagen.py\", line 72, in __init__\n",
      "    self.gen_piscesdata01(seed,batch_n,batchcount,sample_replace,missing,species,floatselecttup,spatialselecttup)\n",
      "  File \"C:\\Users\\DPatton\\gits\\kernelkernel\\datagen.py\", line 131, in gen_piscesdata01\n",
      "    self.genpiscesbatchbatchlist(self.ydataarray,self.xdataarray,batch_n,batchcount,sample_replace,missing)\n",
      "  File \"C:\\Users\\DPatton\\gits\\kernelkernel\\datagen.py\", line 172, in genpiscesbatchbatchlist\n",
      "    assert len(selectlist)==fullbatchbatch_n\n",
      "AssertionError\n",
      "\n",
      "~~~~~~~run number:205`~~~~~~~\n",
      "a_rundict{'optimizedict': {'opt_settings_dict': {'method': 'Nelder-Mead', 'options': {'xatol': 0.5, 'fatol': 1, 'adaptive': True}, 'help_start': 1, 'partial_match': 1}, 'hyper_param_dict': {'Ndiff_exponent': array([0.0001, 0.0001]), 'x_bandscale': array([1., 1., 1., 1., 1.]), 'outer_x_bw': array([2.7]), 'outer_y_bw': array([2.2]), 'Ndiff_depth_bw': array([0.5, 0.5]), 'y_bandscale': array([1.])}, 'modeldict': {'std_data': ([], 'float'), 'loss_function': 'batchnorm_crossval', 'Ndiff_type': 'product', 'param_count': 5, 'Ndiff_start': 1, 'max_bw_Ndiff': 2, 'normalize_Ndiffwtsum': 'own_n', 'NWnorm': 'none', 'xkern_grid': 'no', 'ykern_grid': 2, 'outer_kern': 'gaussian', 'Ndiff_bw_kern': 'rbfkern', 'outer_x_bw_form': 'one_for_all', 'regression_model': 'NW-rbf', 'product_kern_norm': 'self', 'hyper_param_form_dict': {'Ndiff_exponent': 'free', 'x_bandscale': 'non-neg', 'Ndiff_depth_bw': 'non-neg', 'outer_x_bw': 'non-neg', 'outer_y_bw': 'non-neg', 'y_bandscale': 'fixed'}, 'species': 'lepisosteus platyrhincus', 'ykerngrid_form': ('binary',)}}, 'datagen_dict': {'source': 'pisces', 'batch_n': 32, 'batchcount': 10, 'sample_replace': 'no', 'species': 'lepisosteus platyrhincus', 'missing': 'drop_row', 'floatselecttup': (2, 3, 5, 6), 'spatialselecttup': (8,), 'param_count': 5}}\n",
      "opening C:\\Users\\DPatton\\gits\\kernelkernel\\data_tool\\specieslistfiles with length:7 and type:<class 'tuple'>\n",
      "<class 'list'>\n",
      "<class 'list'>\n",
      "species_n: 432\n",
      "self.xvarname_list: ['WA', 'Elev', 'IWI', 'Slope', 'HUC12(spatial)']\n",
      "ydatashape: (32,) xdatashape: (32, 5)\n",
      "ydatashape: (32,) xdatashape: (32, 5)\n",
      "ydatashape: (32,) xdatashape: (32, 5)\n",
      "ydatashape: (32,) xdatashape: (32, 5)\n",
      "ydatashape: (32,) xdatashape: (32, 5)\n",
      "ydatashape: (32,) xdatashape: (32, 5)\n",
      "ydatashape: (32,) xdatashape: (32, 5)\n",
      "ydatashape: (32,) xdatashape: (32, 5)\n",
      "ydatashape: (32,) xdatashape: (32, 5)\n",
      "ydatashape: (32,) xdatashape: (32, 5)\n",
      "ydatashape: (32,) xdatashape: (32, 5)\n",
      "ydatashape: (32,) xdatashape: (32, 5)\n",
      "ydatashape: (32,) xdatashape: (32, 5)\n",
      "ydatashape: (32,) xdatashape: (32, 5)\n",
      "ydatashape: (32,) xdatashape: (32, 5)\n",
      "ydatashape: (32,) xdatashape: (32, 5)\n",
      "ydatashape: (32,) xdatashape: (32, 5)\n",
      "ydatashape: (32,) xdatashape: (32, 5)\n",
      "ydatashape: (32,) xdatashape: (32, 5)\n",
      "ydatashape: (32,) xdatashape: (32, 5)\n",
      "end 640 fullbatchbatch_n 640\n",
      "datagen_dict:{'source': 'pisces', 'batch_n': 32, 'batchcount': 10, 'sample_replace': 'no', 'species': 'lepisosteus platyrhincus', 'missing': 'drop_row', 'floatselecttup': (2, 3, 5, 6), 'spatialselecttup': (8,), 'param_count': 5} for directory,C:\\Users\\DPatton\\gits\\kernelkernel\n",
      "INFO <PID 19224:MainProcess> myKernLogger.__init__(): optimizedict for None:{'opt_settings_dict': {'method': 'Nelder-Mead', 'options': {'xatol': 0.5, 'fatol': 1, 'adaptive': True}, 'help_start': 1, 'partial_match': 1}, 'hyper_param_dict': {'Ndiff_exponent': array([0.0001, 0.0001]), 'x_bandscale': array([1., 1., 1., 1., 1.]), 'outer_x_bw': array([2.7]), 'outer_y_bw': array([2.2]), 'Ndiff_depth_bw': array([0.5, 0.5]), 'y_bandscale': array([1.])}, 'modeldict': {'std_data': ([], 'float'), 'loss_function': 'batchnorm_crossval', 'Ndiff_type': 'product', 'param_count': 5, 'Ndiff_start': 1, 'max_bw_Ndiff': 2, 'normalize_Ndiffwtsum': 'own_n', 'NWnorm': 'none', 'xkern_grid': 'no', 'ykern_grid': 2, 'outer_kern': 'gaussian', 'Ndiff_bw_kern': 'rbfkern', 'outer_x_bw_form': 'one_for_all', 'regression_model': 'NW-rbf', 'product_kern_norm': 'self', 'hyper_param_form_dict': {'Ndiff_exponent': 'free', 'x_bandscale': 'non-neg', 'Ndiff_depth_bw': 'non-neg', 'outer_x_bw': 'non-neg', 'outer_y_bw': 'non-neg', 'y_bandscale': 'fixed'}, 'species': 'lepisosteus platyrhincus', 'ykerngrid_form': ('binary',)}, 'datagen_dict': {'source': 'pisces', 'batch_n': 32, 'batchcount': 10, 'sample_replace': 'no', 'species': 'lepisosteus platyrhincus', 'missing': 'drop_row', 'floatselecttup': (2, 3, 5, 6), 'spatialselecttup': (8,), 'param_count': 5}}\n",
      "param_valdict:{'Ndiff_exponent': array([0.0001, 0.0001]), 'x_bandscale': array([1., 1., 1., 1., 1.]), 'outer_x_bw': array([2.7]), 'outer_y_bw': array([2.2]), 'Ndiff_depth_bw': array([0.5, 0.5]), 'y_bandscale': array([1.])}\n",
      "INFO <PID 19224:MainProcess> myKernLogger.setup_fixed_or_free(): setup_fixed_or_free_paramdict:{'Ndiff_exponent': {'fixed_or_free': 'free', 'const': 'free', 'location_idx': (0, 2)}, 'x_bandscale': {'fixed_or_free': 'free', 'const': 'non-neg', 'location_idx': (2, 7)}, 'Ndiff_depth_bw': {'fixed_or_free': 'free', 'const': 'non-neg', 'location_idx': (7, 9)}, 'outer_x_bw': {'fixed_or_free': 'free', 'const': 'non-neg', 'location_idx': (9, 10)}, 'outer_y_bw': {'fixed_or_free': 'free', 'const': 'non-neg', 'location_idx': (10, 11)}, 'y_bandscale': {'fixed_or_free': 'fixed', 'const': 'fixed', 'location_idx': (0, 1)}, 'free_params': 'outside', 'fixed_params': array([1.])}\n",
      "self.npr 288\n",
      "mykern modeldict:{'std_data': ([], 'float'), 'loss_function': 'batchnorm_crossval', 'Ndiff_type': 'product', 'param_count': 5, 'Ndiff_start': 1, 'max_bw_Ndiff': 2, 'normalize_Ndiffwtsum': 'own_n', 'NWnorm': 'none', 'xkern_grid': 'no', 'ykern_grid': 2, 'outer_kern': 'gaussian', 'Ndiff_bw_kern': 'rbfkern', 'outer_x_bw_form': 'one_for_all', 'regression_model': 'NW-rbf', 'product_kern_norm': 'self', 'hyper_param_form_dict': {'Ndiff_exponent': 'free', 'x_bandscale': 'non-neg', 'Ndiff_depth_bw': 'non-neg', 'outer_x_bw': 'non-neg', 'outer_y_bw': 'non-neg', 'y_bandscale': 'fixed'}, 'species': 'lepisosteus platyrhincus', 'ykerngrid_form': ('binary',)}\n",
      "self.batchbatchcount 2\n",
      "batchbatchidx: 0\n",
      "batchbatchidx: 1\n"
     ]
    }
   ],
   "source": [
    "import traceback\n",
    "#from random import shuffle\n",
    "#shuffle(testrun)\n",
    "#testrun=testrun[-1::]\n",
    "#a_rundict=testrun[100]#this produced the Ndiff_exponent error for recursive Ndiff\n",
    "for idx in range(201,565,1):#len(testrun)):\n",
    "    print(f'~~~~~~~run number:{idx}`~~~~~~~')\n",
    "    a_rundict=testrun[idx]\n",
    "    print(f'a_rundict{a_rundict}')\n",
    "    optimizedict=a_rundict['optimizedict']\n",
    "    datagen_dict=a_rundict['datagen_dict']\n",
    "\n",
    "    try:\n",
    "        test.do_monte_opt(optimizedict,datagen_dict,force_start_params=1)\n",
    "        test.open_condense_resave('model_save',verbose=0)\n",
    "        test.merge_and_condense_saved_models(merge_directory=None,save_directory=None,condense=None,verbose=None)\n",
    "    except:\n",
    "        print('traceback for run',idx)\n",
    "        print(traceback.format_exc())\n"
   ]
  },
  {
   "cell_type": "code",
   "execution_count": null,
   "metadata": {},
   "outputs": [],
   "source": []
  }
 ],
 "metadata": {
  "kernelspec": {
   "display_name": "Python 3",
   "language": "python",
   "name": "python3"
  },
  "language_info": {
   "codemirror_mode": {
    "name": "ipython",
    "version": 3
   },
   "file_extension": ".py",
   "mimetype": "text/x-python",
   "name": "python",
   "nbconvert_exporter": "python",
   "pygments_lexer": "ipython3",
   "version": "3.7.4"
  },
  "pycharm": {
   "stem_cell": {
    "cell_type": "raw",
    "metadata": {
     "collapsed": false
    },
    "source": []
   }
  }
 },
 "nbformat": 4,
 "nbformat_minor": 4
}
