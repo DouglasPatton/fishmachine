{
 "cells": [
  {
   "cell_type": "markdown",
   "metadata": {},
   "source": [
    "### kernel density estimation and kernel regression for prediction\n",
    "This notebook is my first attempt to write down the ddiff and dddiff models that I have been working on"
   ]
  },
  {
   "cell_type": "markdown",
   "metadata": {},
   "source": [
    "mixed recursive/iterative approach (rather than vectorized approach that is harder to generalize\n",
    "- create separate submodules for KDE and KDreg\n",
    "    - develop a system for storing differenced but unweighted data and the appropriate mask to lessen memory usage. \n",
    "        -1's or 0's depending on i/j/k/l/.... values\n",
    "    - figure out the deepest level requested by the user and levels that are less deep are just slices of the deeper model. \n",
    "        -scout out the tree to build the differenced dataset. \n",
    "          \n",
    "        \n",
    " plot and compare\n",
    "on synthetic data, 1, 2, 3+ mixed distributions\n",
    "1d - Ndiff vs gaussian kernel vs kernel_tunneling\n",
    "2d -  \n",
    "\n",
    "\n",
    "multidimensional x problem\n",
    "e.g., parameter treatment\n",
    "\"product kernel approach\" vs l2 \"el two\" (radial basis?)distance "
   ]
  },
  {
   "cell_type": "markdown",
   "metadata": {},
   "source": [
    "#### generate a simple linear dataset y=xb+e\n",
    "##### store validation data from same dataset too"
   ]
  },
  {
   "cell_type": "markdown",
   "metadata": {
    "pycharm": {
     "name": "#%% md\n"
    }
   },
   "source": [
    "### create modeldict\n",
    "- 'loss_function': \n",
    "  - 'mse'\n",
    "  - cross_mse\n",
    "  - cross_msei\n",
    "  - batch_crossval\n",
    "  - batchnorm_crossval\n",
    "- 'Ndiff_type': refers to the mathematical form of Ndiff\n",
    "  - 'product'-Ndiff1 multiplied by Ndiff2\n",
    "  - 'recursive'-Ndiff1's bw is Ndiff 2\n",
    "- max_bw_Ndiff: is the depth of Ndiffs applied in estimating the bandwidth.\n",
    "- 'normalize_Ndiffwtsum':\n",
    "  - 'across' means sum across own level of kernelized-Ndiffs and divide by that sum (CDF approach)\n",
    "  - 'own_n' means for (n+k)diff where n+K=max_bw_Ndiff\n",
    "- 'NWnorm\n",
    "  - 'across1' prior to 1/15 when mistake identified in summation dimension for NWnorm across\n",
    "  - 'across' correct implementation, where for each prediciton, the sum of the weights applied to the yout is normalized to 1.\n",
    "  - 'none'\n",
    "- Ndiff_bw_kern:\n",
    "  - rbfkern means use the radial basis function kernel\n",
    "  - 'product' means use product kernel like as in liu and yang eq1. \n",
    "- 'regression_model':\n",
    "  - 'NW' means use nadaraya-watson kernel regression\n",
    "  - 'NW-rbf' means use NW but calculate p(y,x) using rbf kernel rather than product kernel\n",
    "  - 'NW-rbf2' means NW-rbf plus euclidean distance logic (i.e. subtraction) for p(y,x)/p(y)\n",
    "  - 'full_logit' means local logit with all variables entering linearly\n",
    "  - 'rbf_logit' means local logit with 1 parameters: scaled l2 norm centered on zero \n",
    " (globally or by i?). Is this a new idea?\n",
    "- outer_x_bw_form: if x is separated into blocks of rvars that are combined within a block using rbf kernel, \n",
    "  - 'one_for_all' - use same hx bw for all blocks\n",
    "  - 'one_per_block' - each block or rvars gets an hx (not developed)\n",
    "- ykerngrid_form\n",
    "  - ('even',4),then create 'ykern_grid' evnely spaced values from -4 to 4 \n",
    "  - ('exp',4), then create'ykern_grid' exponentially spaced (more near zero) values from -4 to 4\n",
    "  - ('binary') a continuous spread of 'ykern_grid' values from 0 to 1, inclusive\n",
    "- ykern_grid\n",
    "  - 'no' means use original data points (self is masked when predicting self)\n",
    "  - an integer specifies the number of values to use in 'ykerngrid_form'\n",
    "- xkern_grid\n",
    "  - much like ykern_grid, but used less frequently since x's are typically pre-specified\n",
    "- product_kern_norm: when multiplying kernels across random variables, this parameter determines if each random variable has its kernels normalized before the product or not\n",
    "  - 'self' means each random variable has its kernels divided by the sum of kernels across the nout axis (the number of possibile values y is averaged over, whose probabilities sum to 1)\n",
    "  - 'own_n' means same as self, but divided by count of non-masked items in second to last, nout lenght dimension\n",
    "  - 'none' means no normalization prior to taking products across rvar kernels\n",
    "- hyper_param_form_dict is a nested dictionary\n",
    "  - Ndiff_exponent is the exponent wrapped around typically a sum of kernels for each Ndiff level \n",
    "after level 1 (i.e., (i-j) or centered, obvious/conventional level.)\n",
    "  - x_bandscale is the parameter specific to each variable (each x in X) used for prediction (y)\n",
    "  - Ndiff_depth_bw is used as the kernel's bandwidth (h) at each level of Ndiff including at level 1 \n",
    "  - outer_x_bw vanilla bandwidth for the rbf or product kernel\n",
    "  - outer_y_bw vanilla bandwidth for y"
   ]
  },
  {
   "cell_type": "code",
   "execution_count": 1,
   "metadata": {},
   "outputs": [],
   "source": [
    "import os\n",
    "import kernelcompare as kc\n",
    "#from importlib import reload\n",
    "networkdir='o:/public/dpatton/kernel'\n",
    "mydir=os.getcwd()\n",
    "#mydir2=os.path.join(mydir,\"old models without datagen\")\n",
    "test=kc.KernelCompare(directory=mydir)"
   ]
  },
  {
   "cell_type": "code",
   "execution_count": 2,
   "metadata": {},
   "outputs": [
    {
     "data": {
      "text/plain": [
       "{'source': 'pisces',\n",
       " 'batch_n': 32,\n",
       " 'batchcount': 10,\n",
       " 'sample_replace': 'no',\n",
       " 'species': 'all',\n",
       " 'missing': 'drop_row',\n",
       " 'floatselecttup': (2, 3, 5, 6),\n",
       " 'spatialselecttup': (8,),\n",
       " 'param_count': 5}"
      ]
     },
     "execution_count": 2,
     "metadata": {},
     "output_type": "execute_result"
    }
   ],
   "source": [
    "pisces_datagen_dict=test.setdata('pisces')\n",
    "pisces_datagen_dict"
   ]
  },
  {
   "cell_type": "code",
   "execution_count": 3,
   "metadata": {},
   "outputs": [],
   "source": [
    "n=32\n",
    "ykerngrid_form_variations=('modeldict:ykerngrid_form',[('binary')])\n",
    "lossfn_variations=('modeldict:loss_function',['batchnorm_crossval'])\n",
    "#lossfn_variations=('modeldict:loss_function',['batch_crossval'])\n",
    "#lossfn_variations=('modeldict:loss_function',['mse'])\n",
    "#Ndiff_type_variations=('modeldict:Ndiff_type',['recursive'])\n",
    "Ndiff_type_variations=('modeldict:Ndiff_type',['product'])\n",
    "max_bw_Ndiff_variations=('modeldict:max_bw_Ndiff',[2])\n",
    "NWnorm_variations=('modeldict:NWnorm',['none'])\n",
    "Ndiff_start_variations=('modeldict:Ndiff_start',[1])\n",
    "ykern_grid_variations=('modeldict:ykern_grid',[2])\n",
    "regression_model_variations=('modeldict:regression_model',['NW-rbf'])\n",
    "#product_kern_norm_variations=('modeldict:product_kern_norm',['self','own_n'])#include None too?\n",
    "#normalize_Ndiffwtsum_variations=('modeldict:normalize_Ndiffwtsum',['own_n','across'])\n",
    "optdict_variation_list=[NWnorm_variations,\n",
    "                        ykerngrid_form_variations, \n",
    "                        lossfn_variations,\n",
    "                        regression_model_variations,\n",
    "                        Ndiff_type_variations,\n",
    "                        ykern_grid_variations,\n",
    "                        max_bw_Ndiff_variations,\n",
    "                        Ndiff_start_variations\n",
    "                       ]  #,product_kern_norm_variations,normalize_Ndiffwtsum_variations]\n",
    "\n",
    "\n"
   ]
  },
  {
   "cell_type": "code",
   "execution_count": 4,
   "metadata": {},
   "outputs": [],
   "source": [
    "\n",
    "\n",
    "\n",
    "batch_n_variations=('batch_n',[n])\n",
    "datagen_variation_list=[batch_n_variations]\n"
   ]
  },
  {
   "cell_type": "code",
   "execution_count": 5,
   "metadata": {},
   "outputs": [
    {
     "name": "stdout",
     "output_type": "stream",
     "text": [
      "opening C:\\Users\\DPatton\\gits\\kernelkernel\\data_tool\\specieslistfiles with length:7 and type:<class 'tuple'>\n",
      "before-datagen_variation_list:[('batch_n', [32])]\n",
      "after-datagen_variation_list:[('batch_n', [32]), ('species', ['cyprinus carpio', 'ictalurus punctatus', 'lepomis macrochirus', 'micropterus dolomieu', 'micropterus salmoides', 'pylodictis olivaris', 'ameiurus melas', 'cyprinella lutrensis', 'lepomis cyanellus', 'pimephales promelas', 'lepomis microlophus', 'catostomus clarkii', 'rhinichthys osculus', 'salmo trutta', 'zzzno fish', 'oncorhynchus clarkii', 'catostomus discobolus', 'catostomus platyrhynchus', 'oncorhynchus clarkii pleuriticus', 'salvelinus fontinalis', 'catostomus commersonii', 'oncorhynchus mykiss', 'prosopium williamsoni', 'cottus bairdii', 'aphredoderus sayanus', 'centrarchus macropterus', 'enneacanthus gloriosus', 'esox americanus americanus', 'perca flavescens', 'umbra pygmaea', 'anguilla rostrata', 'erimyzon oblongus', 'esox niger', 'lepomis gibbosus', 'ameiurus natalis', 'lepomis auritus', 'lepomis gulosus', 'notemigonus crysoleucas', 'noturus gyrinus', 'semotilus corporalis', 'etheostoma olmstedi', 'nocomis leptocephalus', 'notropis procne', 'pimephales notatus', 'semotilus atromaculatus', 'gambusia holbrooki', 'acantharchus pomotis', 'ameiurus nebulosus', 'clinostomus funduloides', 'noturus insignis', 'cyprinella analostana', 'lampetra aepyptera', 'ambloplites rupestris', 'campostoma anomalum', 'cyprinella spiloptera', 'dorosoma cepedianum', 'esox americanus vermiculatus', 'etheostoma blennioides', 'etheostoma nigrum', 'etheostoma spectabile', 'hypentelium nigricans', 'lepomis megalotis', 'luxilus chrysocephalus', 'minytrema melanops', 'moxostoma erythrurum', 'nocomis biguttatus', 'notropis buccatus', 'notropis photogenis', 'notropis stramineus', 'noturus flavus', 'noturus miurus', 'percina caprodes', 'phenacobius mirabilis', 'amia calva', 'aplodinotus grunniens', 'carpiodes carpio', 'carpiodes velifer', 'ctenopharyngodon idella', 'hiodon tergisus', 'hybognathus nuchalis', 'hypophthalmichthys molitrix', 'ictiobus bubalus', 'ictiobus cyprinellus', 'lepisosteus osseus', 'lepisosteus platostomus', 'macrhybopsis storeriana', 'micropterus punctulatus', 'moxostoma anisurum', 'moxostoma macrolepidotum', 'notropis atherinoides', 'notropis blennius', 'notropis volucellus', 'pimephales vigilax', 'pomoxis annularis', 'scaphirhynchus platorynchus', 'cyprinella venusta', 'etheostoma asprigene', 'etheostoma chlorosoma', 'etheostoma gracile', 'etheostoma histrio', 'fundulus notatus', 'gambusia affinis', 'lepisosteus oculatus', 'lepomis punctatus', 'lythrurus fumeus', 'notropis atrocaudalis', 'percina carbonaria', 'percina sciera', 'pomoxis nigromaculatus', 'catostomus ardens', 'rhinichthys cataractae', 'richardsonius balteatus', 'cottus cognatus', 'rhinichthys atratulus', 'salmo salar', 'petromyzon marinus', 'opsopoeodus emiliae', 'percina maculata', 'acipenser fulvescens', 'lythrurus umbratilis', 'cyprinella whipplei', 'campostoma oligolepis', 'etheostoma flabellare', 'dorosoma petenense', 'lepomis humilis', 'percina phoxocephala', 'noturus exilis', 'elassoma zonatum', 'etheostoma squamiceps', 'fundulus olivaceus', 'labidesthes sicculus', 'lythrurus fasciolaris', 'etheostoma caeruleum', 'rhinichthys obtusus', 'ameiurus catus', 'cottus carolinae', 'etheostoma flavum', 'etheostoma occidentale', 'forbesichthys agassizii', 'hemitremia flammea', 'etheostoma crossopterum', 'etheostoma simoterum', 'nocomis effusus', 'etheostoma rufilineatum', 'etheostoma zonale', 'fundulus catenatus', 'hybopsis amblops', 'moxostoma carinatum', 'cyprinella galactura', 'moxostoma duquesnei', 'alosa chrysochloris', 'erimystax dissimilis', 'erimystax insignis', 'etheostoma stigmaeum', 'moxostoma breviceps', 'notropis micropteryx', 'ictalurus furcatus', 'notropis rubellus', 'chrosomus erythrogaster', 'etheostoma atripinne', 'nocomis micropogon', 'etheostoma tippecanoe', 'ameiurus platycephalus', 'etheostoma virgatum', 'notropis boops', 'etheostoma proeliare', 'notropis chalybaeus', 'micropterus coosae', 'notropis telescopus', 'etheostoma sanguifluum', 'etheostoma lawrencei', 'etheostoma obeyense', 'etheostoma coosae', 'chrosomus cumberlandensis', 'etheostoma kennicotti', 'etheostoma sagitta', 'etheostoma baileyi', 'etheostoma susanae', 'lethenteron appendix', 'sander vitreus', 'carpiodes cyprinus', 'atractosteus spatula', 'clinostomus elongatus', 'margariscus margarita', 'luxilus cornutus', 'esox lucius', 'percopsis omiscomaycus', 'exoglossum laurae', 'etheostoma camurum', 'etheostoma variatum', 'exoglossum maxillingua', 'percina evides', 'esox masquinongy', 'percina macrocephala', 'ichthyomyzon bdellium', 'umbra limi', 'percina copelandi', 'hiodon alosoides', 'fundulus heteroclitus', 'morone saxatilis', 'lota lota', 'anchoa mitchilli', 'elops saurus', 'fundulus seminolis', 'jordanella floridae', 'lepisosteus platyrhincus', 'lucania goodei', 'menidia beryllina', 'mugil cephalus', 'notropis maculatus', 'notropis petersoni', 'poecilia latipinna', 'strongylura marina', 'trinectes maculatus', 'morone chrysops', 'ammocrypta pellucida', 'sander canadensis', 'oncorhynchus clarkii utah', 'ictiobus niger', 'catostomus catostomus', 'fundulus diaphanus', 'ichthyomyzon castaneus', 'noturus eleutherus', 'chrosomus eos', 'moxostoma valenciennesi', 'hybognathus hankinsoni', 'culaea inconstans', 'carassius auratus', 'notropis cummingsae', 'noturus leptacanthus', 'percina nigrofasciata', 'pteronotropis hypselopterus', 'ameiurus serracanthus', 'cyprinella leedsi', 'etheostoma fusiforme', 'etheostoma swaini', 'hybopsis winchelli', 'ichthyomyzon gagei', 'lepomis marginatus', 'micropterus notius', 'notropis texanus', 'elassoma evergladei', 'erimyzon sucetta', 'paralichthys lethostigma', 'gila atraria', 'etheostoma serrifer', 'notropis amoenus', 'percina roanoka', 'hybognathus regius', 'luxilus cerasinus', 'notropis hudsonius', 'luxilus albeolus', 'chologaster cornuta', 'enneacanthus obesus', 'notropis altipinnis', 'fundulus lineolatus', 'morone americana', 'ameiurus brunneus', 'campostoma pauciradii', 'etheostoma inscriptum', 'hybopsis rubrifrons', 'moxostoma rupiscartes', 'notropis lutipinnis', 'cyprinella callisema', 'cyprinella xaenura', 'moxostoma collapsum', 'moxostoma lachneri', 'lythrurus matutinus', 'moxostoma cervinum', 'moxostoma pappillosum', 'percina nevisense', 'etheostoma vitreum', 'lythrurus ardens', 'ambloplites cavifrons', 'nocomis raneyi', 'etheostoma hopkinsi', 'cyprinella nivea', 'etheostoma thalassinum', 'notropis scepticus', 'etheostoma fricksium', 'pteronotropis stonei', 'hybognathus hayi', 'notropis amplamala', 'notropis shumardi', 'etheostoma oophylax', 'etheostoma zonistium', 'etheostoma smithi', 'percina vigil', 'noturus nocturnus', 'etheostoma blennius', 'notropis leuciodus', 'noturus hildebrandi', 'notropis ariommus', 'percina shumardi', 'noturus phaeus', 'percina kathae', 'lythrurus lirus', 'percina burtoni', 'etheostoma pyrrhogaster', 'cyprinella camura', 'morone mississippiensis', 'etheostoma lynceum', 'etheostoma parvipinne', 'notropis dorsalis', 'etheostoma lepidum', 'moxostoma congestum', 'notropis amabilis', 'astyanax mexicanus', 'herichthys cyanoguttatum', 'micropterus treculii', 'cyprinella lepida', 'cyprinella proserpina', 'dionda serena', 'lepomis miniatus', 'catostomus tahoensis', 'richardsonius egregius', 'etheostoma artesiae', 'fundulus chrysotus', 'lepidomeda copei', 'poecilia formosa', 'oreochromis aureus', 'pteronotropis signipinnis', 'chrosomus oreas', 'oncorhynchus clarkii bouvieri', 'platygobio gracilis', 'percina peltata', 'alosa sapidissima', 'heterandria formosa', 'etheostoma exile', 'cycleptus elongatus', 'notropis wickliffi', 'notropis longirostris', 'syngnathus scovelli', 'etheostoma whipplei', 'lepomis symmetricus', 'moxostoma poecilurum', 'notropis sabinae', 'catostomus columbianus', 'catostomus macrocheilus', 'alosa pseudoharengus', 'hybognathus placitus', 'notropis buchanani', 'orthodon microlepidotus', 'hybopsis amnis', 'ammocrypta vivax', 'hybognathus argyritis', 'notropis alborus', 'cottus girardi', 'cottus caeruleomentum', 'fundulus zebrinus', 'luxilus coccogenis', 'notropis spectrunculus', 'cottus chattahoochee', 'ambloplites ariommus', 'etheostoma punctulatum', 'notropis greenei', 'percina nasuta', 'luxilus pilsbryi', 'noturus albater', 'etheostoma euzonum', 'notropis nubilus', 'luxilus zonatus', 'erimystax harryi', 'ambloplites constellatus', 'etheostoma juliae', 'notropis percobromus', 'cottus hypselurus', 'etheostoma autumnale', 'etheostoma duryi', 'macrhybopsis aestivalis', 'notropis heterolepis', 'cottus beldingii', 'neogobius melanostomus', 'ichthyomyzon unicuspis', 'chrosomus neogaeus', 'cyprinella labrosa', 'cyprinella pyrrhomelas', 'etheostoma flabellare brevispina', 'hybopsis hypsinotus', 'notropis chlorocephalus', 'cyprinella zanema', 'cyprinella chloristia', 'percina crassa', 'notropis chiliticus', 'catostomus occidentalis', 'cottus gulosus', 'hesperoleucus symmetricus', 'hysterocarpus traskii', 'mylopharodon conocephalus', 'ptychocheilus grandis', 'oncorhynchus tshawytscha', 'nocomis platyrhynchus', 'phenacobius teretulus', 'notropis scabriceps', 'notropis albizonatus', 'etheostoma cinereum', 'etheostoma orientale', 'ichthyomyzon greeleyi', 'notropis heterodon', 'etheostoma microperca', 'oncorhynchus kisutch', 'couesius plumbeus', 'gasterosteus aculeatus', 'pungitius pungitius', 'ichthyomyzon fossor', 'cyprinella trichroistia', 'etheostoma brevirostrum', 'etheostoma jordani', 'hypentelium etowanum', 'notropis stilbius', 'notropis xaenocephalus', 'cyprinella callistia', 'fundulus stellifer', 'notropis asperifrons', 'percina palmaris', 'phenacobius catostomus', 'notropis chrosomus', 'hybopsis lineapunctata', 'etheostoma ramseyi', 'catostomus latipinnis', 'gila robusta', 'percina macrolepida', 'oncorhynchus clarkii behnkei', 'salvelinus namaycush', 'oncorhynchus mykiss gairdneri', 'etheostoma forbesi', 'ammocrypta clara', 'crystallaria asprella', 'fundulus dispar', 'notropis anogenus', 'erimystax x-punctatus', 'oncorhynchus nerka', 'misgurnus anguillicaudatus', 'notropis bairdi', 'cyprinodon rubrofluviatilis', 'macrhybopsis australis', 'macrhybopsis hyostoma', 'notropis potteri', 'notropis buccula', 'notropis oxyrhynchus', 'fundulus sciadicus', 'campostoma spadiceum', 'fundulus kansae', 'notropis ammophilus', 'hypophthalmichthys nobilis', 'ammocrypta beani', 'moxostoma robustum', 'alosa aestivalis', 'etheostoma swannanoa', 'notropis rubricroceus', 'phenacobius uranops', 'etheostoma podostemone', 'chrosomus tennesseensis', 'etheostoma jessiae', 'etheostoma vulneratum', 'percina aurantiaca', 'cottus asper', 'lavinia exilicauda', 'fundulus blairae', 'etheostoma luteovinctum', 'etheostoma collettei', 'erimyzon tenuis', 'etheostoma barrenense', 'etheostoma radiosum', 'nocomis asper', 'etheostoma cragini', 'pimephales tenellus', 'notropis bifrenatus', 'percina notogramma', 'scardinius erythrophthalmus', 'lythrurus roseipinnis', 'noturus funebris', 'fundulus notti', 'menidia audens', 'cyprinella venusta cercostigma', 'etheostoma tallapoosae', 'cottus tallapoosae', 'cyprinella gibbsi', 'etheostoma chuckwachatte', 'lythrurus bellus', 'luxilus zonistius', 'semotilus thoreauianus', 'agosia chrysogaster', 'macrhybopsis marconis', 'lucania parva', 'dormitator maculatus', 'alosa alabamae', 'percina aurora', 'percina suttkusi', 'micropterus cataractae', 'etheostoma edwini', 'clarias batrachus', 'fundulus grandis', 'gila pandora', 'polyodon spathula', 'notropis baileyi', 'Ammocrypta meridiana', 'etheostoma lachneri', 'etheostoma rupestre', 'cyprinella callitaenia', 'erimonax monachus', 'etheostoma etnieri', 'etheostoma colorosum', 'etheostoma nigripinne', 'etheostoma douglasi', 'percina oxyrhynchus', 'etheostoma chlorobranchium', 'phenacobius crassilabrum', 'etheostoma acuticeps', 'percina squamata', 'etheostoma tennesseense', 'noturus elegans', 'etheostoma gutselli', 'enneacanthus chaetodon', 'entesphenus tridentatus', 'moxostoma sp. apalachicola redhorse', 'notropis hypsilepis', 'catostomus insignis', 'luxilus cardinalis', 'notropis harperi', 'lythrurus atrapiculus', 'ammocrypta bifascia', 'etheostoma mihileze', 'pteronotropis merlini', 'etheostoma davisoni', 'noturus lachneri', 'apeltes quadracus', 'percina uranidea', 'cottus aleuticus', 'fundulus confluentus', 'percina austroperca', 'cottus confusus', 'ptychocheilus oregonensis', 'pteronotropis grandipinnis', 'salvelinus confluentus', 'cottus rhotheus', 'acrocheilus alutaceus', 'pteronotropis euryzonus', 'cottus leiopomus', 'rhinichthys falcatus', 'cottus perplexus', 'lampetra richardsoni', 'cottus klamathensis', 'notropis girardi', 'notropis ortenburgeri', 'lythrurus snelsoni', 'etheostoma maculatum', 'etheostoma rafinesquei', 'etheostoma barbouri', 'etheostoma bellum', 'percina stictogaster', 'percina gymnocephala', 'thoburnia rhothoeca', 'notropis suttkusi', 'percina pantherina', 'etheostoma kanawhae', 'tilapia mariae', 'etheostoma longimanum', 'hypentelium roanokense', 'moxostoma ariommum', 'percina rex', 'fundulus rathbuni', 'etheostoma collis', 'semotilus lumbee', 'etheostoma mariae'])]\n",
      "datagen_dict:{'source': 'pisces', 'batch_n': 32, 'batchcount': 10, 'sample_replace': 'no', 'species': 'all', 'missing': 'drop_row', 'floatselecttup': (2, 3, 5, 6), 'spatialselecttup': (8,), 'param_count': 5}, datagen_variation_list:[('batch_n', [32]), ('species', ['cyprinus carpio', 'ictalurus punctatus', 'lepomis macrochirus', 'micropterus dolomieu', 'micropterus salmoides', 'pylodictis olivaris', 'ameiurus melas', 'cyprinella lutrensis', 'lepomis cyanellus', 'pimephales promelas', 'lepomis microlophus', 'catostomus clarkii', 'rhinichthys osculus', 'salmo trutta', 'zzzno fish', 'oncorhynchus clarkii', 'catostomus discobolus', 'catostomus platyrhynchus', 'oncorhynchus clarkii pleuriticus', 'salvelinus fontinalis', 'catostomus commersonii', 'oncorhynchus mykiss', 'prosopium williamsoni', 'cottus bairdii', 'aphredoderus sayanus', 'centrarchus macropterus', 'enneacanthus gloriosus', 'esox americanus americanus', 'perca flavescens', 'umbra pygmaea', 'anguilla rostrata', 'erimyzon oblongus', 'esox niger', 'lepomis gibbosus', 'ameiurus natalis', 'lepomis auritus', 'lepomis gulosus', 'notemigonus crysoleucas', 'noturus gyrinus', 'semotilus corporalis', 'etheostoma olmstedi', 'nocomis leptocephalus', 'notropis procne', 'pimephales notatus', 'semotilus atromaculatus', 'gambusia holbrooki', 'acantharchus pomotis', 'ameiurus nebulosus', 'clinostomus funduloides', 'noturus insignis', 'cyprinella analostana', 'lampetra aepyptera', 'ambloplites rupestris', 'campostoma anomalum', 'cyprinella spiloptera', 'dorosoma cepedianum', 'esox americanus vermiculatus', 'etheostoma blennioides', 'etheostoma nigrum', 'etheostoma spectabile', 'hypentelium nigricans', 'lepomis megalotis', 'luxilus chrysocephalus', 'minytrema melanops', 'moxostoma erythrurum', 'nocomis biguttatus', 'notropis buccatus', 'notropis photogenis', 'notropis stramineus', 'noturus flavus', 'noturus miurus', 'percina caprodes', 'phenacobius mirabilis', 'amia calva', 'aplodinotus grunniens', 'carpiodes carpio', 'carpiodes velifer', 'ctenopharyngodon idella', 'hiodon tergisus', 'hybognathus nuchalis', 'hypophthalmichthys molitrix', 'ictiobus bubalus', 'ictiobus cyprinellus', 'lepisosteus osseus', 'lepisosteus platostomus', 'macrhybopsis storeriana', 'micropterus punctulatus', 'moxostoma anisurum', 'moxostoma macrolepidotum', 'notropis atherinoides', 'notropis blennius', 'notropis volucellus', 'pimephales vigilax', 'pomoxis annularis', 'scaphirhynchus platorynchus', 'cyprinella venusta', 'etheostoma asprigene', 'etheostoma chlorosoma', 'etheostoma gracile', 'etheostoma histrio', 'fundulus notatus', 'gambusia affinis', 'lepisosteus oculatus', 'lepomis punctatus', 'lythrurus fumeus', 'notropis atrocaudalis', 'percina carbonaria', 'percina sciera', 'pomoxis nigromaculatus', 'catostomus ardens', 'rhinichthys cataractae', 'richardsonius balteatus', 'cottus cognatus', 'rhinichthys atratulus', 'salmo salar', 'petromyzon marinus', 'opsopoeodus emiliae', 'percina maculata', 'acipenser fulvescens', 'lythrurus umbratilis', 'cyprinella whipplei', 'campostoma oligolepis', 'etheostoma flabellare', 'dorosoma petenense', 'lepomis humilis', 'percina phoxocephala', 'noturus exilis', 'elassoma zonatum', 'etheostoma squamiceps', 'fundulus olivaceus', 'labidesthes sicculus', 'lythrurus fasciolaris', 'etheostoma caeruleum', 'rhinichthys obtusus', 'ameiurus catus', 'cottus carolinae', 'etheostoma flavum', 'etheostoma occidentale', 'forbesichthys agassizii', 'hemitremia flammea', 'etheostoma crossopterum', 'etheostoma simoterum', 'nocomis effusus', 'etheostoma rufilineatum', 'etheostoma zonale', 'fundulus catenatus', 'hybopsis amblops', 'moxostoma carinatum', 'cyprinella galactura', 'moxostoma duquesnei', 'alosa chrysochloris', 'erimystax dissimilis', 'erimystax insignis', 'etheostoma stigmaeum', 'moxostoma breviceps', 'notropis micropteryx', 'ictalurus furcatus', 'notropis rubellus', 'chrosomus erythrogaster', 'etheostoma atripinne', 'nocomis micropogon', 'etheostoma tippecanoe', 'ameiurus platycephalus', 'etheostoma virgatum', 'notropis boops', 'etheostoma proeliare', 'notropis chalybaeus', 'micropterus coosae', 'notropis telescopus', 'etheostoma sanguifluum', 'etheostoma lawrencei', 'etheostoma obeyense', 'etheostoma coosae', 'chrosomus cumberlandensis', 'etheostoma kennicotti', 'etheostoma sagitta', 'etheostoma baileyi', 'etheostoma susanae', 'lethenteron appendix', 'sander vitreus', 'carpiodes cyprinus', 'atractosteus spatula', 'clinostomus elongatus', 'margariscus margarita', 'luxilus cornutus', 'esox lucius', 'percopsis omiscomaycus', 'exoglossum laurae', 'etheostoma camurum', 'etheostoma variatum', 'exoglossum maxillingua', 'percina evides', 'esox masquinongy', 'percina macrocephala', 'ichthyomyzon bdellium', 'umbra limi', 'percina copelandi', 'hiodon alosoides', 'fundulus heteroclitus', 'morone saxatilis', 'lota lota', 'anchoa mitchilli', 'elops saurus', 'fundulus seminolis', 'jordanella floridae', 'lepisosteus platyrhincus', 'lucania goodei', 'menidia beryllina', 'mugil cephalus', 'notropis maculatus', 'notropis petersoni', 'poecilia latipinna', 'strongylura marina', 'trinectes maculatus', 'morone chrysops', 'ammocrypta pellucida', 'sander canadensis', 'oncorhynchus clarkii utah', 'ictiobus niger', 'catostomus catostomus', 'fundulus diaphanus', 'ichthyomyzon castaneus', 'noturus eleutherus', 'chrosomus eos', 'moxostoma valenciennesi', 'hybognathus hankinsoni', 'culaea inconstans', 'carassius auratus', 'notropis cummingsae', 'noturus leptacanthus', 'percina nigrofasciata', 'pteronotropis hypselopterus', 'ameiurus serracanthus', 'cyprinella leedsi', 'etheostoma fusiforme', 'etheostoma swaini', 'hybopsis winchelli', 'ichthyomyzon gagei', 'lepomis marginatus', 'micropterus notius', 'notropis texanus', 'elassoma evergladei', 'erimyzon sucetta', 'paralichthys lethostigma', 'gila atraria', 'etheostoma serrifer', 'notropis amoenus', 'percina roanoka', 'hybognathus regius', 'luxilus cerasinus', 'notropis hudsonius', 'luxilus albeolus', 'chologaster cornuta', 'enneacanthus obesus', 'notropis altipinnis', 'fundulus lineolatus', 'morone americana', 'ameiurus brunneus', 'campostoma pauciradii', 'etheostoma inscriptum', 'hybopsis rubrifrons', 'moxostoma rupiscartes', 'notropis lutipinnis', 'cyprinella callisema', 'cyprinella xaenura', 'moxostoma collapsum', 'moxostoma lachneri', 'lythrurus matutinus', 'moxostoma cervinum', 'moxostoma pappillosum', 'percina nevisense', 'etheostoma vitreum', 'lythrurus ardens', 'ambloplites cavifrons', 'nocomis raneyi', 'etheostoma hopkinsi', 'cyprinella nivea', 'etheostoma thalassinum', 'notropis scepticus', 'etheostoma fricksium', 'pteronotropis stonei', 'hybognathus hayi', 'notropis amplamala', 'notropis shumardi', 'etheostoma oophylax', 'etheostoma zonistium', 'etheostoma smithi', 'percina vigil', 'noturus nocturnus', 'etheostoma blennius', 'notropis leuciodus', 'noturus hildebrandi', 'notropis ariommus', 'percina shumardi', 'noturus phaeus', 'percina kathae', 'lythrurus lirus', 'percina burtoni', 'etheostoma pyrrhogaster', 'cyprinella camura', 'morone mississippiensis', 'etheostoma lynceum', 'etheostoma parvipinne', 'notropis dorsalis', 'etheostoma lepidum', 'moxostoma congestum', 'notropis amabilis', 'astyanax mexicanus', 'herichthys cyanoguttatum', 'micropterus treculii', 'cyprinella lepida', 'cyprinella proserpina', 'dionda serena', 'lepomis miniatus', 'catostomus tahoensis', 'richardsonius egregius', 'etheostoma artesiae', 'fundulus chrysotus', 'lepidomeda copei', 'poecilia formosa', 'oreochromis aureus', 'pteronotropis signipinnis', 'chrosomus oreas', 'oncorhynchus clarkii bouvieri', 'platygobio gracilis', 'percina peltata', 'alosa sapidissima', 'heterandria formosa', 'etheostoma exile', 'cycleptus elongatus', 'notropis wickliffi', 'notropis longirostris', 'syngnathus scovelli', 'etheostoma whipplei', 'lepomis symmetricus', 'moxostoma poecilurum', 'notropis sabinae', 'catostomus columbianus', 'catostomus macrocheilus', 'alosa pseudoharengus', 'hybognathus placitus', 'notropis buchanani', 'orthodon microlepidotus', 'hybopsis amnis', 'ammocrypta vivax', 'hybognathus argyritis', 'notropis alborus', 'cottus girardi', 'cottus caeruleomentum', 'fundulus zebrinus', 'luxilus coccogenis', 'notropis spectrunculus', 'cottus chattahoochee', 'ambloplites ariommus', 'etheostoma punctulatum', 'notropis greenei', 'percina nasuta', 'luxilus pilsbryi', 'noturus albater', 'etheostoma euzonum', 'notropis nubilus', 'luxilus zonatus', 'erimystax harryi', 'ambloplites constellatus', 'etheostoma juliae', 'notropis percobromus', 'cottus hypselurus', 'etheostoma autumnale', 'etheostoma duryi', 'macrhybopsis aestivalis', 'notropis heterolepis', 'cottus beldingii', 'neogobius melanostomus', 'ichthyomyzon unicuspis', 'chrosomus neogaeus', 'cyprinella labrosa', 'cyprinella pyrrhomelas', 'etheostoma flabellare brevispina', 'hybopsis hypsinotus', 'notropis chlorocephalus', 'cyprinella zanema', 'cyprinella chloristia', 'percina crassa', 'notropis chiliticus', 'catostomus occidentalis', 'cottus gulosus', 'hesperoleucus symmetricus', 'hysterocarpus traskii', 'mylopharodon conocephalus', 'ptychocheilus grandis', 'oncorhynchus tshawytscha', 'nocomis platyrhynchus', 'phenacobius teretulus', 'notropis scabriceps', 'notropis albizonatus', 'etheostoma cinereum', 'etheostoma orientale', 'ichthyomyzon greeleyi', 'notropis heterodon', 'etheostoma microperca', 'oncorhynchus kisutch', 'couesius plumbeus', 'gasterosteus aculeatus', 'pungitius pungitius', 'ichthyomyzon fossor', 'cyprinella trichroistia', 'etheostoma brevirostrum', 'etheostoma jordani', 'hypentelium etowanum', 'notropis stilbius', 'notropis xaenocephalus', 'cyprinella callistia', 'fundulus stellifer', 'notropis asperifrons', 'percina palmaris', 'phenacobius catostomus', 'notropis chrosomus', 'hybopsis lineapunctata', 'etheostoma ramseyi', 'catostomus latipinnis', 'gila robusta', 'percina macrolepida', 'oncorhynchus clarkii behnkei', 'salvelinus namaycush', 'oncorhynchus mykiss gairdneri', 'etheostoma forbesi', 'ammocrypta clara', 'crystallaria asprella', 'fundulus dispar', 'notropis anogenus', 'erimystax x-punctatus', 'oncorhynchus nerka', 'misgurnus anguillicaudatus', 'notropis bairdi', 'cyprinodon rubrofluviatilis', 'macrhybopsis australis', 'macrhybopsis hyostoma', 'notropis potteri', 'notropis buccula', 'notropis oxyrhynchus', 'fundulus sciadicus', 'campostoma spadiceum', 'fundulus kansae', 'notropis ammophilus', 'hypophthalmichthys nobilis', 'ammocrypta beani', 'moxostoma robustum', 'alosa aestivalis', 'etheostoma swannanoa', 'notropis rubricroceus', 'phenacobius uranops', 'etheostoma podostemone', 'chrosomus tennesseensis', 'etheostoma jessiae', 'etheostoma vulneratum', 'percina aurantiaca', 'cottus asper', 'lavinia exilicauda', 'fundulus blairae', 'etheostoma luteovinctum', 'etheostoma collettei', 'erimyzon tenuis', 'etheostoma barrenense', 'etheostoma radiosum', 'nocomis asper', 'etheostoma cragini', 'pimephales tenellus', 'notropis bifrenatus', 'percina notogramma', 'scardinius erythrophthalmus', 'lythrurus roseipinnis', 'noturus funebris', 'fundulus notti', 'menidia audens', 'cyprinella venusta cercostigma', 'etheostoma tallapoosae', 'cottus tallapoosae', 'cyprinella gibbsi', 'etheostoma chuckwachatte', 'lythrurus bellus', 'luxilus zonistius', 'semotilus thoreauianus', 'agosia chrysogaster', 'macrhybopsis marconis', 'lucania parva', 'dormitator maculatus', 'alosa alabamae', 'percina aurora', 'percina suttkusi', 'micropterus cataractae', 'etheostoma edwini', 'clarias batrachus', 'fundulus grandis', 'gila pandora', 'polyodon spathula', 'notropis baileyi', 'Ammocrypta meridiana', 'etheostoma lachneri', 'etheostoma rupestre', 'cyprinella callitaenia', 'erimonax monachus', 'etheostoma etnieri', 'etheostoma colorosum', 'etheostoma nigripinne', 'etheostoma douglasi', 'percina oxyrhynchus', 'etheostoma chlorobranchium', 'phenacobius crassilabrum', 'etheostoma acuticeps', 'percina squamata', 'etheostoma tennesseense', 'noturus elegans', 'etheostoma gutselli', 'enneacanthus chaetodon', 'entesphenus tridentatus', 'moxostoma sp. apalachicola redhorse', 'notropis hypsilepis', 'catostomus insignis', 'luxilus cardinalis', 'notropis harperi', 'lythrurus atrapiculus', 'ammocrypta bifascia', 'etheostoma mihileze', 'pteronotropis merlini', 'etheostoma davisoni', 'noturus lachneri', 'apeltes quadracus', 'percina uranidea', 'cottus aleuticus', 'fundulus confluentus', 'percina austroperca', 'cottus confusus', 'ptychocheilus oregonensis', 'pteronotropis grandipinnis', 'salvelinus confluentus', 'cottus rhotheus', 'acrocheilus alutaceus', 'pteronotropis euryzonus', 'cottus leiopomus', 'rhinichthys falcatus', 'cottus perplexus', 'lampetra richardsoni', 'cottus klamathensis', 'notropis girardi', 'notropis ortenburgeri', 'lythrurus snelsoni', 'etheostoma maculatum', 'etheostoma rafinesquei', 'etheostoma barbouri', 'etheostoma bellum', 'percina stictogaster', 'percina gymnocephala', 'thoburnia rhothoeca', 'notropis suttkusi', 'percina pantherina', 'etheostoma kanawhae', 'tilapia mariae', 'etheostoma longimanum', 'hypentelium roanokense', 'moxostoma ariommum', 'percina rex', 'fundulus rathbuni', 'etheostoma collis', 'semotilus lumbee', 'etheostoma mariae'])]\n",
      "len(datagen_dict_list):565\n"
     ]
    },
    {
     "data": {
      "text/plain": [
       "\"print(f'len(testrun){len(testrun)}')\\nprint(f'testrun[0]{testrun[0:2]}')\\nprint('--------------')\\nprint(f'testrun[-1]{testrun[-4:]}')\""
      ]
     },
     "execution_count": 5,
     "metadata": {},
     "output_type": "execute_result"
    }
   ],
   "source": [
    "testrun=test.prep_model_list(optdict_variation_list=optdict_variation_list,datagen_variation_list=datagen_variation_list,datagen_dict=pisces_datagen_dict,verbose=0)\n",
    "'''print(f'len(testrun){len(testrun)}')\n",
    "print(f'testrun[0]{testrun[0:2]}')\n",
    "print('--------------')\n",
    "print(f'testrun[-1]{testrun[-4:]}')'''"
   ]
  },
  {
   "cell_type": "code",
   "execution_count": 6,
   "metadata": {
    "pycharm": {
     "is_executing": false,
     "name": "#%%\n"
    }
   },
   "outputs": [
    {
     "name": "stdout",
     "output_type": "stream",
     "text": [
      "~~~~~~~run number:0`~~~~~~~\n",
      "a_rundict{'optimizedict': {'opt_settings_dict': {'method': 'Nelder-Mead', 'options': {'xatol': 0.5, 'fatol': 1, 'adaptive': True}, 'help_start': 1, 'partial_match': 1}, 'hyper_param_dict': {'Ndiff_exponent': array([0.3, 0.3]), 'x_bandscale': array([1., 1., 1., 1., 1.]), 'outer_x_bw': array([2.7]), 'outer_y_bw': array([2.2]), 'Ndiff_depth_bw': array([0.5, 0.5]), 'y_bandscale': array([1.])}, 'modeldict': {'std_data': 'all', 'loss_function': 'batchnorm_crossval', 'Ndiff_type': 'product', 'param_count': 5, 'Ndiff_start': 1, 'max_bw_Ndiff': 2, 'normalize_Ndiffwtsum': 'own_n', 'NWnorm': 'none', 'xkern_grid': 'no', 'ykern_grid': 2, 'outer_kern': 'gaussian', 'Ndiff_bw_kern': 'rbfkern', 'outer_x_bw_form': 'one_for_all', 'regression_model': 'NW-rbf', 'product_kern_norm': 'self', 'hyper_param_form_dict': {'Ndiff_exponent': 'free', 'x_bandscale': 'non-neg', 'Ndiff_depth_bw': 'non-neg', 'outer_x_bw': 'non-neg', 'outer_y_bw': 'non-neg', 'y_bandscale': 'fixed'}, 'ykerngrid_form': 'binary'}}, 'datagen_dict': {'source': 'pisces', 'batch_n': 32, 'batchcount': 10, 'sample_replace': 'no', 'species': 'cyprinus carpio', 'missing': 'drop_row', 'floatselecttup': (2, 3, 5, 6), 'spatialselecttup': (8,), 'param_count': 5}}\n",
      "opening C:\\Users\\DPatton\\gits\\kernelkernel\\data_tool\\specieslistfiles with length:7 and type:<class 'tuple'>\n",
      "<class 'list'>\n",
      "<class 'list'>\n",
      "self.xvarname_list: ['WA', 'Elev', 'IWI', 'Slope', 'HUC12(spatial)']\n",
      "self.ydataarray [1 1 0 ... 0 0 0] <class 'numpy.ndarray'>\n",
      "selectlist None\n",
      "traceback for run 0\n",
      "Traceback (most recent call last):\n",
      "  File \"<ipython-input-6-1cc48031263c>\", line 14, in <module>\n",
      "    test.do_monte_opt(optimizedict,datagen_dict,force_start_params=0)\n",
      "  File \"C:\\Users\\DPatton\\gits\\kernelkernel\\kernelcompare.py\", line 44, in do_monte_opt\n",
      "    datagen_obj=dg.datagen(datagen_dict)\n",
      "  File \"C:\\Users\\DPatton\\gits\\kernelkernel\\datagen.py\", line 69, in __init__\n",
      "    self.gen_piscesdata01(seed,batch_n,batchcount,sample_replace,missing,species,floatselecttup,spatialselecttup)\n",
      "  File \"C:\\Users\\DPatton\\gits\\kernelkernel\\datagen.py\", line 127, in gen_piscesdata01\n",
      "    self.genpiscesbatchbatchlist(self.ydataarray,self.xdataarray,batch_n,batchcount,sample_replace,missing)\n",
      "  File \"C:\\Users\\DPatton\\gits\\kernelkernel\\datagen.py\", line 164, in genpiscesbatchbatchlist\n",
      "    selectfill=shuffle(selectlist[:fullbatchbatch_n-batchsize].copy())#fill in the missing values with items that aren't in that batch\n",
      "TypeError: 'NoneType' object is not subscriptable\n",
      "\n"
     ]
    }
   ],
   "source": [
    "import traceback\n",
    "#from random import shuffle\n",
    "#shuffle(testrun)\n",
    "#testrun=testrun[-1::]\n",
    "#a_rundict=testrun[100]#this produced the Ndiff_exponent error for recursive Ndiff\n",
    "for idx in range(1):#len(testrun)):\n",
    "    print(f'~~~~~~~run number:{idx}`~~~~~~~')\n",
    "    a_rundict=testrun[idx]\n",
    "    print(f'a_rundict{a_rundict}')\n",
    "    optimizedict=a_rundict['optimizedict']\n",
    "    datagen_dict=a_rundict['datagen_dict']\n",
    "\n",
    "    try:\n",
    "        test.do_monte_opt(optimizedict,datagen_dict,force_start_params=0)\n",
    "        test.open_condense_resave('model_save',verbose=0)\n",
    "        test.merge_and_condense_saved_models(merge_directory=None,save_directory=None,condense=None,verbose=None)\n",
    "    except:\n",
    "        print('traceback for run',idx)\n",
    "        print(traceback.format_exc())\n"
   ]
  },
  {
   "cell_type": "code",
   "execution_count": null,
   "metadata": {},
   "outputs": [],
   "source": []
  }
 ],
 "metadata": {
  "kernelspec": {
   "display_name": "Python 3",
   "language": "python",
   "name": "python3"
  },
  "language_info": {
   "codemirror_mode": {
    "name": "ipython",
    "version": 3
   },
   "file_extension": ".py",
   "mimetype": "text/x-python",
   "name": "python",
   "nbconvert_exporter": "python",
   "pygments_lexer": "ipython3",
   "version": "3.7.4"
  },
  "pycharm": {
   "stem_cell": {
    "cell_type": "raw",
    "metadata": {
     "collapsed": false
    },
    "source": []
   }
  }
 },
 "nbformat": 4,
 "nbformat_minor": 4
}
