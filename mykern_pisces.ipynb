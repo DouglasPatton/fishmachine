{
 "cells": [
  {
   "cell_type": "markdown",
   "metadata": {},
   "source": [
    "### kernel density estimation and kernel regression for prediction\n",
    "This notebook is my first attempt to write down the ddiff and dddiff models that I have been working on"
   ]
  },
  {
   "cell_type": "markdown",
   "metadata": {},
   "source": [
    "mixed recursive/iterative approach (rather than vectorized approach that is harder to generalize\n",
    "- create separate submodules for KDE and KDreg\n",
    "    - develop a system for storing differenced but unweighted data and the appropriate mask to lessen memory usage. \n",
    "        -1's or 0's depending on i/j/k/l/.... values\n",
    "    - figure out the deepest level requested by the user and levels that are less deep are just slices of the deeper model. \n",
    "        -scout out the tree to build the differenced dataset. \n",
    "          \n",
    "        \n",
    " plot and compare\n",
    "on synthetic data, 1, 2, 3+ mixed distributions\n",
    "1d - Ndiff vs gaussian kernel vs kernel_tunneling\n",
    "2d -  \n",
    "\n",
    "\n",
    "multidimensional x problem\n",
    "e.g., parameter treatment\n",
    "\"product kernel approach\" vs l2 \"el two\" (radial basis?)distance "
   ]
  },
  {
   "cell_type": "markdown",
   "metadata": {},
   "source": [
    "#### generate a simple linear dataset y=xb+e\n",
    "##### store validation data from same dataset too"
   ]
  },
  {
   "cell_type": "markdown",
   "metadata": {
    "pycharm": {
     "name": "#%% md\n"
    }
   },
   "source": [
    "### create modeldict\n",
    "- 'loss_function': \n",
    "  - 'mse'\n",
    "  - cross_mse\n",
    "  - cross_msei\n",
    "  - batch_crossval\n",
    "  - batchnorm_crossval\n",
    "- 'Ndiff_type': refers to the mathematical form of Ndiff\n",
    "  - 'product'-Ndiff1 multiplied by Ndiff2\n",
    "  - 'recursive'-Ndiff1's bw is Ndiff 2\n",
    "- max_bw_Ndiff: is the depth of Ndiffs applied in estimating the bandwidth.\n",
    "- 'normalize_Ndiffwtsum':\n",
    "  - 'across' means sum across own level of kernelized-Ndiffs and divide by that sum (CDF approach)\n",
    "  - 'own_n' means for (n+k)diff where n+K=max_bw_Ndiff\n",
    "- 'NWnorm\n",
    "  - 'across1' prior to 1/15 when mistake identified in summation dimension for NWnorm across\n",
    "  - 'across' correct implementation, where for each prediciton, the sum of the weights applied to the yout is normalized to 1.\n",
    "  - 'none'\n",
    "- Ndiff_bw_kern:\n",
    "  - rbfkern means use the radial basis function kernel\n",
    "  - 'product' means use product kernel like as in liu and yang eq1. \n",
    "- 'regression_model':\n",
    "  - 'NW' means use nadaraya-watson kernel regression\n",
    "  - 'NW-rbf' means use NW but calculate p(y,x) using rbf kernel rather than product kernel\n",
    "  - 'NW-rbf2' means NW-rbf plus euclidean distance logic (i.e. subtraction) for p(y,x)/p(y)\n",
    "  - 'full_logit' means local logit with all variables entering linearly\n",
    "  - 'rbf_logit' means local logit with 1 parameters: scaled l2 norm centered on zero \n",
    " (globally or by i?). Is this a new idea?\n",
    "- outer_x_bw_form: if x is separated into blocks of rvars that are combined within a block using rbf kernel, \n",
    "  - 'one_for_all' - use same hx bw for all blocks\n",
    "  - 'one_per_block' - each block or rvars gets an hx (not developed)\n",
    "- ykerngrid_form\n",
    "  - ('even',4),then create 'ykern_grid' evnely spaced values from -4 to 4 \n",
    "  - ('exp',4), then create'ykern_grid' exponentially spaced (more near zero) values from -4 to 4\n",
    "  - ('binary') a continuous spread of 'ykern_grid' values from 0 to 1, inclusive\n",
    "- ykern_grid\n",
    "  - 'no' means use original data points (self is masked when predicting self)\n",
    "  - an integer specifies the number of values to use in 'ykerngrid_form'\n",
    "- xkern_grid\n",
    "  - much like ykern_grid, but used less frequently since x's are typically pre-specified\n",
    "- product_kern_norm: when multiplying kernels across random variables, this parameter determines if each random variable has its kernels normalized before the product or not\n",
    "  - 'self' means each random variable has its kernels divided by the sum of kernels across the nout axis (the number of possibile values y is averaged over, whose probabilities sum to 1)\n",
    "  - 'own_n' means same as self, but divided by count of non-masked items in second to last, nout lenght dimension\n",
    "  - 'none' means no normalization prior to taking products across rvar kernels\n",
    "- hyper_param_form_dict is a nested dictionary\n",
    "  - Ndiff_exponent is the exponent wrapped around typically a sum of kernels for each Ndiff level \n",
    "after level 1 (i.e., (i-j) or centered, obvious/conventional level.)\n",
    "  - x_bandscale is the parameter specific to each variable (each x in X) used for prediction (y)\n",
    "  - Ndiff_depth_bw is used as the kernel's bandwidth (h) at each level of Ndiff including at level 1 \n",
    "  - outer_x_bw vanilla bandwidth for the rbf or product kernel\n",
    "  - outer_y_bw vanilla bandwidth for y"
   ]
  },
  {
   "cell_type": "code",
   "execution_count": 1,
   "metadata": {},
   "outputs": [],
   "source": [
    "import os\n",
    "import kernelcompare as kc\n",
    "#from importlib import reload\n",
    "networkdir='o:/public/dpatton/kernel'\n",
    "mydir=os.getcwd()\n",
    "#mydir2=os.path.join(mydir,\"old models without datagen\")\n",
    "test=kc.KernelCompare(directory=mydir)"
   ]
  },
  {
   "cell_type": "code",
   "execution_count": 2,
   "metadata": {},
   "outputs": [
    {
     "data": {
      "text/plain": [
       "{'source': 'pisces',\n",
       " 'batch_n': 32,\n",
       " 'batchcount': 10,\n",
       " 'sample_replace': 'no',\n",
       " 'species': 'all',\n",
       " 'missing': 'drop_row',\n",
       " 'floatselecttup': (2, 3, 5, 6),\n",
       " 'spatialselecttup': (8,),\n",
       " 'param_count': 5}"
      ]
     },
     "execution_count": 2,
     "metadata": {},
     "output_type": "execute_result"
    }
   ],
   "source": [
    "pisces_datagen_dict=test.setdata('pisces')\n",
    "pisces_datagen_dict"
   ]
  },
  {
   "cell_type": "code",
   "execution_count": 3,
   "metadata": {},
   "outputs": [],
   "source": [
    "n=32\n",
    "ykerngrid_form_variations=('modeldict:ykerngrid_form',[('binary',)])\n",
    "lossfn_variations=('modeldict:loss_function',['batchnorm_crossval'])\n",
    "#lossfn_variations=('modeldict:loss_function',['batch_crossval'])\n",
    "#lossfn_variations=('modeldict:loss_function',['mse'])\n",
    "#Ndiff_type_variations=('modeldict:Ndiff_type',['recursive'])\n",
    "Ndiff_type_variations=('modeldict:Ndiff_type',['product'])\n",
    "max_bw_Ndiff_variations=('modeldict:max_bw_Ndiff',[2])\n",
    "NWnorm_variations=('modeldict:NWnorm',['none'])\n",
    "Ndiff_start_variations=('modeldict:Ndiff_start',[1])\n",
    "ykern_grid_variations=('modeldict:ykern_grid',[2])\n",
    "standardization_variations=('modeldict:std_data',[([],'float')])\n",
    "regression_model_variations=('modeldict:regression_model',['NW-rbf'])\n",
    "#product_kern_norm_variations=('modeldict:product_kern_norm',['self','own_n'])#include None too?\n",
    "#normalize_Ndiffwtsum_variations=('modeldict:normalize_Ndiffwtsum',['own_n','across'])\n",
    "optdict_variation_list=[NWnorm_variations,\n",
    "                        ykerngrid_form_variations, \n",
    "                        lossfn_variations,\n",
    "                        regression_model_variations,\n",
    "                        Ndiff_type_variations,\n",
    "                        ykern_grid_variations,\n",
    "                        max_bw_Ndiff_variations,\n",
    "                        standardization_variations,\n",
    "                        Ndiff_start_variations\n",
    "                       ]  #,product_kern_norm_variations,normalize_Ndiffwtsum_variations]\n",
    "\n",
    "\n"
   ]
  },
  {
   "cell_type": "code",
   "execution_count": 4,
   "metadata": {},
   "outputs": [],
   "source": [
    "\n",
    "\n",
    "\n",
    "batch_n_variations=('batch_n',[n])\n",
    "datagen_variation_list=[batch_n_variations]\n"
   ]
  },
  {
   "cell_type": "code",
   "execution_count": 5,
   "metadata": {},
   "outputs": [
    {
     "name": "stdout",
     "output_type": "stream",
     "text": [
      "opening C:\\Users\\DPatton\\gits\\kernelkernel\\data_tool\\specieslistfiles with length:7 and type:<class 'tuple'>\n",
      "len(datagen_dict_list):565\n"
     ]
    },
    {
     "data": {
      "text/plain": [
       "\"print(f'len(testrun){len(testrun)}')\\nprint(f'testrun[0]{testrun[0:2]}')\\nprint('--------------')\\nprint(f'testrun[-1]{testrun[-4:]}')\""
      ]
     },
     "execution_count": 5,
     "metadata": {},
     "output_type": "execute_result"
    }
   ],
   "source": [
    "testrun=test.prep_model_list(optdict_variation_list=optdict_variation_list,datagen_variation_list=datagen_variation_list,datagen_dict=pisces_datagen_dict,verbose=0)\n",
    "'''print(f'len(testrun){len(testrun)}')\n",
    "print(f'testrun[0]{testrun[0:2]}')\n",
    "print('--------------')\n",
    "print(f'testrun[-1]{testrun[-4:]}')'''"
   ]
  },
  {
   "cell_type": "code",
   "execution_count": 6,
   "metadata": {
    "pycharm": {
     "is_executing": false,
     "name": "#%%\n"
    }
   },
   "outputs": [
    {
     "name": "stdout",
     "output_type": "stream",
     "text": [
      "~~~~~~~run number:0`~~~~~~~\n",
      "a_rundict{'optimizedict': {'opt_settings_dict': {'method': 'Nelder-Mead', 'options': {'xatol': 0.5, 'fatol': 1, 'adaptive': True}, 'help_start': 1, 'partial_match': 1}, 'hyper_param_dict': {'Ndiff_exponent': array([0.3, 0.3]), 'x_bandscale': array([1., 1., 1., 1., 1.]), 'outer_x_bw': array([2.7]), 'outer_y_bw': array([2.2]), 'Ndiff_depth_bw': array([0.5, 0.5]), 'y_bandscale': array([1.])}, 'modeldict': {'std_data': ([], 'float'), 'loss_function': 'batchnorm_crossval', 'Ndiff_type': 'product', 'param_count': 5, 'Ndiff_start': 1, 'max_bw_Ndiff': 2, 'normalize_Ndiffwtsum': 'own_n', 'NWnorm': 'none', 'xkern_grid': 'no', 'ykern_grid': 2, 'outer_kern': 'gaussian', 'Ndiff_bw_kern': 'rbfkern', 'outer_x_bw_form': 'one_for_all', 'regression_model': 'NW-rbf', 'product_kern_norm': 'self', 'hyper_param_form_dict': {'Ndiff_exponent': 'free', 'x_bandscale': 'non-neg', 'Ndiff_depth_bw': 'non-neg', 'outer_x_bw': 'non-neg', 'outer_y_bw': 'non-neg', 'y_bandscale': 'fixed'}, 'ykerngrid_form': ('binary',)}}, 'datagen_dict': {'source': 'pisces', 'batch_n': 32, 'batchcount': 10, 'sample_replace': 'no', 'species': 'cyprinus carpio', 'missing': 'drop_row', 'floatselecttup': (2, 3, 5, 6), 'spatialselecttup': (8,), 'param_count': 5}}\n",
      "opening C:\\Users\\DPatton\\gits\\kernelkernel\\data_tool\\specieslistfiles with length:7 and type:<class 'tuple'>\n",
      "<class 'list'>\n",
      "<class 'list'>\n",
      "self.xvarname_list: ['WA', 'Elev', 'IWI', 'Slope', 'HUC12(spatial)']\n",
      "self.ydataarray [1 1 0 ... 0 0 0] <class 'numpy.ndarray'>\n",
      "datagen_dict:{'source': 'pisces', 'batch_n': 32, 'batchcount': 10, 'sample_replace': 'no', 'species': 'cyprinus carpio', 'missing': 'drop_row', 'floatselecttup': (2, 3, 5, 6), 'spatialselecttup': (8,), 'param_count': 5} for directory,C:\\Users\\DPatton\\gits\\kernelkernel\n",
      "INFO <PID 2244:MainProcess> myKernLogger.__init__(): optimizedict for None:{'opt_settings_dict': {'method': 'Nelder-Mead', 'options': {'xatol': 0.5, 'fatol': 1, 'adaptive': True}, 'help_start': 1, 'partial_match': 1}, 'hyper_param_dict': {'Ndiff_exponent': array([0.3, 0.3]), 'x_bandscale': array([1., 1., 1., 1., 1.]), 'outer_x_bw': array([2.7]), 'outer_y_bw': array([2.2]), 'Ndiff_depth_bw': array([0.5, 0.5]), 'y_bandscale': array([1.])}, 'modeldict': {'std_data': ([], 'float'), 'loss_function': 'batchnorm_crossval', 'Ndiff_type': 'product', 'param_count': 5, 'Ndiff_start': 1, 'max_bw_Ndiff': 2, 'normalize_Ndiffwtsum': 'own_n', 'NWnorm': 'none', 'xkern_grid': 'no', 'ykern_grid': 2, 'outer_kern': 'gaussian', 'Ndiff_bw_kern': 'rbfkern', 'outer_x_bw_form': 'one_for_all', 'regression_model': 'NW-rbf', 'product_kern_norm': 'self', 'hyper_param_form_dict': {'Ndiff_exponent': 'free', 'x_bandscale': 'non-neg', 'Ndiff_depth_bw': 'non-neg', 'outer_x_bw': 'non-neg', 'outer_y_bw': 'non-neg', 'y_bandscale': 'fixed'}, 'ykerngrid_form': ('binary',)}, 'datagen_dict': {'source': 'pisces', 'batch_n': 32, 'batchcount': 10, 'sample_replace': 'no', 'species': 'cyprinus carpio', 'missing': 'drop_row', 'floatselecttup': (2, 3, 5, 6), 'spatialselecttup': (8,), 'param_count': 5}}\n",
      "param_valdict:{'Ndiff_exponent': array([0.3, 0.3]), 'x_bandscale': array([1., 1., 1., 1., 1.]), 'outer_x_bw': array([2.7]), 'outer_y_bw': array([2.2]), 'Ndiff_depth_bw': array([0.5, 0.5]), 'y_bandscale': array([1.])}\n",
      "setup_fixed_or_free_paramdict:{'Ndiff_exponent': {'fixed_or_free': 'free', 'const': 'free', 'location_idx': (0, 2)}, 'x_bandscale': {'fixed_or_free': 'free', 'const': 'non-neg', 'location_idx': (2, 7)}, 'Ndiff_depth_bw': {'fixed_or_free': 'free', 'const': 'non-neg', 'location_idx': (7, 9)}, 'outer_x_bw': {'fixed_or_free': 'free', 'const': 'non-neg', 'location_idx': (9, 10)}, 'outer_y_bw': {'fixed_or_free': 'free', 'const': 'non-neg', 'location_idx': (10, 11)}, 'y_bandscale': {'fixed_or_free': 'fixed', 'const': 'fixed', 'location_idx': (0, 1)}, 'free_params': 'outside', 'fixed_params': array([1.])}\n",
      "self.npr 288\n",
      "mykern modeldict:{'std_data': ([], 'float'), 'loss_function': 'batchnorm_crossval', 'Ndiff_type': 'product', 'param_count': 5, 'Ndiff_start': 1, 'max_bw_Ndiff': 2, 'normalize_Ndiffwtsum': 'own_n', 'NWnorm': 'none', 'xkern_grid': 'no', 'ykern_grid': 2, 'outer_kern': 'gaussian', 'Ndiff_bw_kern': 'rbfkern', 'outer_x_bw_form': 'one_for_all', 'regression_model': 'NW-rbf', 'product_kern_norm': 'self', 'hyper_param_form_dict': {'Ndiff_exponent': 'free', 'x_bandscale': 'non-neg', 'Ndiff_depth_bw': 'non-neg', 'outer_x_bw': 'non-neg', 'outer_y_bw': 'non-neg', 'y_bandscale': 'fixed'}, 'ykerngrid_form': ('binary',)}\n",
      "arglist inside wrapper is:::::::[array([1, 1, 0, 1, 1, 1, 1, 0, 0, 0, 0, 0, 0, 0, 1, 1, 0, 0, 0, 0, 1, 1,\n",
      "       0, 0, 0, 0, 0, 0, 0, 0, 0, 0], dtype=uint8), array([0., 1.]), array([[ 3.00653958e+00, -5.73253694e-02, -7.08650771e-02,\n",
      "        -7.08710456e-02,  1.05727791e+06],\n",
      "       [ 7.76592437e+02,  2.46656834e+00, -9.47745050e-01,\n",
      "        -9.49265860e-01,  2.66858074e+08],\n",
      "       [ 3.02713187e+03,  9.57084184e+02, -4.75054140e-01,\n",
      "        -2.20653020e+00,  2.24355817e+11],\n",
      "       [ 1.65547547e+05,  9.57629288e+03,  1.10324988e+01,\n",
      "        -5.13302344e-01,  2.28563060e+12],\n",
      "       [ 3.32291700e+02,  3.64058723e+02,  1.93917978e-01,\n",
      "         6.69110000e-04,  1.02901010e+11],\n",
      "       [ 1.45911600e+03,  3.51896064e+02,  2.45471569e-01,\n",
      "         3.08520000e-04,  1.02901010e+11],\n",
      "       [ 2.92367700e+02,  3.68006665e+02,  1.77034086e-01,\n",
      "         1.00000000e-05,  1.02901010e+11],\n",
      "       [ 2.67858000e+01,  3.33221465e+02,  4.14452736e-01,\n",
      "         9.83530000e-04,  1.02901011e+11],\n",
      "       [ 7.18497000e+01,  2.75397127e+02,  3.07063234e-01,\n",
      "         5.37321000e-03,  5.14010102e+10],\n",
      "       [ 9.55800000e+00,  2.21915694e+02,  3.49519960e-01,\n",
      "         1.58747300e-02,  5.14010101e+10],\n",
      "       [ 9.33300000e+00,  2.52780180e+02,  2.30083017e-01,\n",
      "         1.71825200e-02,  5.14010101e+10],\n",
      "       [ 1.76571000e+01,  2.56639274e+02,  1.97204659e-01,\n",
      "         1.33189700e-02,  5.14010101e+10],\n",
      "       [ 7.13223000e+01,  2.37595608e+02,  2.89507119e-01,\n",
      "         2.08091000e-03,  5.14010103e+10],\n",
      "       [ 2.20905000e+01,  2.42184034e+02,  2.96936285e-01,\n",
      "         1.08838100e-02,  5.14010103e+10],\n",
      "       [ 8.21952000e+01,  2.62571548e+02,  2.27865062e-01,\n",
      "         2.33154000e-03,  5.14010101e+10],\n",
      "       [ 6.07176000e+01,  1.42939941e+02,  3.38955919e-01,\n",
      "         1.06981000e-03,  5.14010109e+10],\n",
      "       [ 6.62274000e+01,  1.78310859e+02,  2.05313334e-01,\n",
      "         1.91462000e-03,  5.14010109e+10],\n",
      "       [ 2.65500000e+01,  2.66500975e+02,  2.51460333e-01,\n",
      "         1.24600000e-04,  5.14010101e+10],\n",
      "       [ 2.36346425e+05,  3.99294790e+02,  7.51312614e-01,\n",
      "         1.00000000e-05,  5.14010109e+10],\n",
      "       [ 4.31127000e+01,  1.91302016e+02,  8.84569353e-01,\n",
      "         2.52205000e-03,  5.13020603e+10],\n",
      "       [ 6.35283000e+01,  2.02300200e+02,  2.12777563e-01,\n",
      "         1.98528000e-03,  5.13020602e+10],\n",
      "       [ 1.00336500e+02,  1.93440868e+02,  8.56156538e-01,\n",
      "         1.44624000e-03,  5.13020602e+10],\n",
      "       [ 4.29795000e+01,  2.12143569e+02,  9.02418866e-01,\n",
      "         1.22137000e-03,  5.13020601e+10],\n",
      "       [ 4.63608000e+01,  2.11380886e+02,  6.06566487e-01,\n",
      "         2.14452000e-03,  5.13020601e+10],\n",
      "       [ 1.09353600e+02,  1.91993000e+02,  7.05662758e-01,\n",
      "         2.53554000e-03,  5.13020602e+10],\n",
      "       [ 3.27315600e+02,  2.17532342e+02,  7.92905032e-01,\n",
      "         7.20290000e-04,  5.13020602e+10],\n",
      "       [ 5.35158000e+02,  2.05533439e+02,  7.49934355e-01,\n",
      "         2.81665000e-03,  5.13020602e+10],\n",
      "       [ 2.29135500e+02,  2.26344951e+02,  8.35720439e-01,\n",
      "         1.29360000e-03,  5.13020601e+10],\n",
      "       [ 2.64224700e+02,  1.93447679e+02,  7.67024550e-01,\n",
      "         9.72350000e-04,  5.13020603e+10],\n",
      "       [ 8.55162900e+02,  2.09548817e+02,  7.67756068e-01,\n",
      "         1.00000000e-05,  5.13020602e+10],\n",
      "       [ 2.28537000e+01,  1.91989074e+02,  2.07852972e-01,\n",
      "         1.53406000e-03,  5.13020602e+10],\n",
      "       [ 3.10757400e+02,  2.17704821e+02,  8.38248096e-01,\n",
      "         1.69732000e-03,  5.13020602e+10]]), array([[-7.08714914e-02, -7.08715378e-02, -7.08715479e-02,\n",
      "        -7.08715480e-02,  2.46769884e+00],\n",
      "       [-9.50921769e-01, -9.50352134e-01, -9.50949132e-01,\n",
      "        -9.50951547e-01,  1.61721951e+05],\n",
      "       [ 3.92391883e+03,  3.80171925e+03,  1.47221867e+00,\n",
      "        -1.18593407e+01,  9.85033610e+11],\n",
      "       ...,\n",
      "       [ 1.12572000e+01,  5.18532176e+02,  8.95465991e-01,\n",
      "         3.06200200e-02,  5.01000301e+10],\n",
      "       [ 4.24206000e+01,  4.88315186e+02,  1.87042699e-01,\n",
      "         5.52610000e-03,  5.01000306e+10],\n",
      "       [ 2.78487000e+01,  4.88091368e+02,  3.57882734e-01,\n",
      "         5.15463000e-03,  5.01000306e+10]]), {'std_data': ([], 'float'), 'loss_function': 'batchnorm_crossval', 'Ndiff_type': 'product', 'param_count': 5, 'Ndiff_start': 1, 'max_bw_Ndiff': 2, 'normalize_Ndiffwtsum': 'own_n', 'NWnorm': 'none', 'xkern_grid': 'no', 'ykern_grid': 2, 'outer_kern': 'gaussian', 'Ndiff_bw_kern': 'rbfkern', 'outer_x_bw_form': 'one_for_all', 'regression_model': 'NW-rbf', 'product_kern_norm': 'self', 'hyper_param_form_dict': {'Ndiff_exponent': 'free', 'x_bandscale': 'non-neg', 'Ndiff_depth_bw': 'non-neg', 'outer_x_bw': 'non-neg', 'outer_y_bw': 'non-neg', 'y_bandscale': 'fixed'}, 'ykerngrid_form': ('binary',)}, {'Ndiff_exponent': {'fixed_or_free': 'free', 'const': 'free', 'location_idx': (0, 2)}, 'x_bandscale': {'fixed_or_free': 'free', 'const': 'non-neg', 'location_idx': (2, 7)}, 'Ndiff_depth_bw': {'fixed_or_free': 'free', 'const': 'non-neg', 'location_idx': (7, 9)}, 'outer_x_bw': {'fixed_or_free': 'free', 'const': 'non-neg', 'location_idx': (9, 10)}, 'outer_y_bw': {'fixed_or_free': 'free', 'const': 'non-neg', 'location_idx': (10, 11)}, 'y_bandscale': {'fixed_or_free': 'fixed', 'const': 'fixed', 'location_idx': (0, 1)}, 'free_params': array([0.3, 0.3, 1. , 1. , 1. , 1. , 1. , 0.5, 0.5, 2.7, 2.2]), 'fixed_params': array([1.])}]\n",
      "traceback for run 0\n",
      "Traceback (most recent call last):\n",
      "  File \"<ipython-input-6-b9a3915d384e>\", line 14, in <module>\n",
      "    test.do_monte_opt(optimizedict,datagen_dict,force_start_params=1)\n",
      "  File \"C:\\Users\\DPatton\\gits\\kernelkernel\\kernelcompare.py\", line 52, in do_monte_opt\n",
      "    mk.optimize_free_params(datagen_obj,optimizedict,savedir=self.kc_savedirectory,myname=self.name)\n",
      "  File \"C:\\Users\\DPatton\\gits\\kernelkernel\\mykern.py\", line 962, in __init__\n",
      "    self.minimize_obj=minimize(self.MY_KDEpredictMSE, free_params, args=args_tuple, method=method, options=opt_method_options)\n",
      "  File \"C:\\Users\\DPatton\\AppData\\Local\\Continuum\\anaconda3\\lib\\site-packages\\scipy\\optimize\\_minimize.py\", line 588, in minimize\n",
      "    return _minimize_neldermead(fun, x0, args, callback, **options)\n",
      "  File \"C:\\Users\\DPatton\\AppData\\Local\\Continuum\\anaconda3\\lib\\site-packages\\scipy\\optimize\\optimize.py\", line 585, in _minimize_neldermead\n",
      "    fsim[k] = func(sim[k])\n",
      "  File \"C:\\Users\\DPatton\\AppData\\Local\\Continuum\\anaconda3\\lib\\site-packages\\scipy\\optimize\\optimize.py\", line 326, in function_wrapper\n",
      "    return function(*(wrapper_args + args))\n",
      "  File \"C:\\Users\\DPatton\\gits\\kernelkernel\\mykern.py\", line 685, in MY_KDEpredictMSE\n",
      "    result_tup=self.MPwrapperKDEpredict(arglistlist[i])\n",
      "  File \"C:\\Users\\DPatton\\gits\\kernelkernel\\mykern.py\", line 772, in MPwrapperKDEpredict\n",
      "    KDEpredict_tup=self.MY_KDEpredict(yin, yout, xin, xpr, modeldict, fixed_or_free_paramdict)\n",
      "  File \"C:\\Users\\DPatton\\gits\\kernelkernel\\mykern.py\", line 374, in MY_KDEpredict\n",
      "    outdiffs_scaled_l2norm=np.power(np.sum(np.power(self.makediffmat_itoj(xin,xpr,spatial=spatial)*x_bandscale_params,2),axis=2),.5)\n",
      "  File \"C:\\Users\\DPatton\\gits\\kernelkernel\\mykern.py\", line 129, in makediffmat_itoj\n",
      "    diffs[:,:,-1]=self.my0log(diffs[:,:,-1])\n",
      "  File \"C:\\Users\\DPatton\\gits\\kernelkernel\\mykern.py\", line 139, in my0log\n",
      "    arraylist.append(np.round(np.log(i)),0)\n",
      "TypeError: append() takes exactly one argument (2 given)\n",
      "\n"
     ]
    }
   ],
   "source": [
    "import traceback\n",
    "#from random import shuffle\n",
    "#shuffle(testrun)\n",
    "#testrun=testrun[-1::]\n",
    "#a_rundict=testrun[100]#this produced the Ndiff_exponent error for recursive Ndiff\n",
    "for idx in range(1):#len(testrun)):\n",
    "    print(f'~~~~~~~run number:{idx}`~~~~~~~')\n",
    "    a_rundict=testrun[idx]\n",
    "    print(f'a_rundict{a_rundict}')\n",
    "    optimizedict=a_rundict['optimizedict']\n",
    "    datagen_dict=a_rundict['datagen_dict']\n",
    "\n",
    "    try:\n",
    "        test.do_monte_opt(optimizedict,datagen_dict,force_start_params=1)\n",
    "        test.open_condense_resave('model_save',verbose=0)\n",
    "        test.merge_and_condense_saved_models(merge_directory=None,save_directory=None,condense=None,verbose=None)\n",
    "    except:\n",
    "        print('traceback for run',idx)\n",
    "        print(traceback.format_exc())\n"
   ]
  },
  {
   "cell_type": "code",
   "execution_count": null,
   "metadata": {},
   "outputs": [],
   "source": []
  }
 ],
 "metadata": {
  "kernelspec": {
   "display_name": "Python 3",
   "language": "python",
   "name": "python3"
  },
  "language_info": {
   "codemirror_mode": {
    "name": "ipython",
    "version": 3
   },
   "file_extension": ".py",
   "mimetype": "text/x-python",
   "name": "python",
   "nbconvert_exporter": "python",
   "pygments_lexer": "ipython3",
   "version": "3.7.4"
  },
  "pycharm": {
   "stem_cell": {
    "cell_type": "raw",
    "metadata": {
     "collapsed": false
    },
    "source": []
   }
  }
 },
 "nbformat": 4,
 "nbformat_minor": 4
}
