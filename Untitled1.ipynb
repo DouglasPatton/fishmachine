{
 "cells": [
  {
   "cell_type": "code",
   "execution_count": 1,
   "metadata": {},
   "outputs": [],
   "source": [
    "import numpy as np\n",
    "from sklearn.model_selection import RepeatedStratifiedKFold"
   ]
  },
  {
   "cell_type": "code",
   "execution_count": 22,
   "metadata": {},
   "outputs": [],
   "source": [
    "class datatest:\n",
    "    def __init__(self):\n",
    "        self.max_maxbatchbatchcount=3\n",
    "    \n",
    "    def gendata(self, ydataarray,xdataarray,batch_n,batchcount,min_y=1):\n",
    "        # test data already removed\n",
    "        n=ydataarray.shape[0]; p=xdataarray.shape[1]\n",
    "        ycount=ydataarray.sum()\n",
    "        if ycount/n<0.5:\n",
    "            order=1 # if we're worried about not enough 1's\n",
    "        else:\n",
    "            order=-1\n",
    "            ycount=n-ycount # if we're worried about not enough 0's\n",
    "        splits=-(-n//batch_n)\n",
    "        if not min_y is None:\n",
    "            if min_y<1:\n",
    "                min_y=int(batch_n*min_y)\n",
    "            \n",
    "            if ycount<splits*min_y:\n",
    "                splits=-(-ycount//min_y)\n",
    "            if batchcount>splits:\n",
    "                batchcount=splits\n",
    "        print('splits',splits,'batchcount',batchcount)\n",
    "        batchbatchcount=self.max_maxbatchbatchcount\n",
    "        batchbatchlist=[[[] for b in range(batchcount)] for _ in range(batchbatchcount)]\n",
    "        RSKF=RepeatedStratifiedKFold(n_splits=splits , n_repeats=batchbatchcount)\n",
    "        i=0;j=0\n",
    "        for train_index,test_index in RSKF.split(xdataarray,ydataarray):\n",
    "\n",
    "            ydata_ij=ydataarray[test_index]\n",
    "            sortidx=np.argsort(ydata_ij)[::-order][:batch_n] # order is 1 if we're woried about including enough 1's \n",
    "            yselect=ydata_ij\n",
    "            batchbatchlist[i][j]=(ydata_ij[sortidx],xdataarray[test_index[sortidx],:])\n",
    "            j+=1\n",
    "            if j==batchcount:\n",
    "                i+=1;j=0\n",
    "                if i==batchbatchcount:\n",
    "                    break\n",
    "        batchsize=batch_n*batchcount\n",
    "        self.batchcount=batchcount\n",
    "        #self.expand_datagen_dict('batchcount',self.batchcount)\n",
    "        self.batchbatchcount=batchbatchcount\n",
    "        #self.expand_datagen_dict('batchbatchcount',self.batchbatchcount)\n",
    "        fullbatchbatch_n=batchbatchcount*batchsize\n",
    "        self.fullbatchbatch_n=fullbatchbatch_n\n",
    "        #self.expand_datagen_dict('fullbatchbatch_n',self.fullbatchbatch_n)\n",
    "        self.yx_tupbatchbatch=batchbatchlist"
   ]
  },
  {
   "cell_type": "code",
   "execution_count": 23,
   "metadata": {},
   "outputs": [],
   "source": [
    "dt=datatest()"
   ]
  },
  {
   "cell_type": "code",
   "execution_count": 28,
   "metadata": {},
   "outputs": [
    {
     "name": "stdout",
     "output_type": "stream",
     "text": [
      "splits 2 batchcount 2\n"
     ]
    }
   ],
   "source": [
    "n=1000\n",
    "batch_n=20\n",
    "batchcount=4\n",
    "ones=20\n",
    "zeros=n-ones\n",
    "y=np.array([1]*ones+[0]*zeros)\n",
    "x=np.arange(n)[:,None]\n",
    "dt.gendata(y,x,batch_n,batchcount,min_y=0.5)"
   ]
  },
  {
   "cell_type": "code",
   "execution_count": 29,
   "metadata": {},
   "outputs": [
    {
     "data": {
      "text/plain": [
       "[0.5, 0.5, 0.5, 0.5, 0.5, 0.5]"
      ]
     },
     "execution_count": 29,
     "metadata": {},
     "output_type": "execute_result"
    }
   ],
   "source": [
    "[sum(tup[0])/len(tup[0])  for blist in dt.yx_tupbatchbatch for tup in blist]"
   ]
  },
  {
   "cell_type": "code",
   "execution_count": null,
   "metadata": {},
   "outputs": [],
   "source": []
  },
  {
   "cell_type": "code",
   "execution_count": null,
   "metadata": {},
   "outputs": [],
   "source": []
  }
 ],
 "metadata": {
  "kernelspec": {
   "display_name": "Python 3",
   "language": "python",
   "name": "python3"
  },
  "language_info": {
   "codemirror_mode": {
    "name": "ipython",
    "version": 3
   },
   "file_extension": ".py",
   "mimetype": "text/x-python",
   "name": "python",
   "nbconvert_exporter": "python",
   "pygments_lexer": "ipython3",
   "version": "3.7.6"
  }
 },
 "nbformat": 4,
 "nbformat_minor": 4
}
