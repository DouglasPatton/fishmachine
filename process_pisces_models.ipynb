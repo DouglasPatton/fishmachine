{
 "cells": [
  {
   "cell_type": "code",
   "execution_count": 1,
   "metadata": {},
   "outputs": [],
   "source": [
    "import kernelcompare as kc\n",
    "import os"
   ]
  },
  {
   "cell_type": "code",
   "execution_count": 2,
   "metadata": {},
   "outputs": [],
   "source": [
    "networkdir=os.path.join('o:','public','dpatton','kernel')\n",
    "'o:/public/dpatton/kernel'\n",
    "mydir2='c://users//dpatton//gits//model_collection_march4'\n",
    "mydirpath=mydir2"
   ]
  },
  {
   "cell_type": "code",
   "execution_count": 3,
   "metadata": {},
   "outputs": [
    {
     "name": "stdout",
     "output_type": "stream",
     "text": [
      "working\n",
      "here3\n"
     ]
    }
   ],
   "source": [
    "test=kc.KernelCompare(directory=mydirpath)"
   ]
  },
  {
   "cell_type": "code",
   "execution_count": null,
   "metadata": {},
   "outputs": [
    {
     "name": "stdout",
     "output_type": "stream",
     "text": [
      "writing new_model_list length:571 to newfile:<_io.BufferedWriter name='c://users//dpatton//gits//model_collection_march4\\\\species-notropis stilbius_model_merge_save'>\n",
      "writing new_model_list length:1043 to newfile:<_io.BufferedWriter name='c://users//dpatton//gits//model_collection_march4\\\\species-scardinius erythrophthalmus_model_merge_save'>\n",
      "writing new_model_list length:515 to newfile:<_io.BufferedWriter name='c://users//dpatton//gits//model_collection_march4\\\\species-ambloplites ariommus_model_merge_save'>\n",
      "writing new_model_list length:445 to newfile:<_io.BufferedWriter name='c://users//dpatton//gits//model_collection_march4\\\\species-ambloplites cavifrons_model_merge_save'>\n",
      "writing new_model_list length:2043 to newfile:<_io.BufferedWriter name='c://users//dpatton//gits//model_collection_march4\\\\species-ameiurus brunneus_model_merge_save'>\n",
      "writing new_model_list length:7475 to newfile:<_io.BufferedWriter name='c://users//dpatton//gits//model_collection_march4\\\\species-amia calva_model_merge_save'>\n",
      "writing new_model_list length:733 to newfile:<_io.BufferedWriter name='c://users//dpatton//gits//model_collection_march4\\\\species-ammocrypta beani_model_merge_save'>\n",
      "writing new_model_list length:481 to newfile:<_io.BufferedWriter name='c://users//dpatton//gits//model_collection_march4\\\\species-anchoa mitchilli_model_merge_save'>\n",
      "writing new_model_list length:535 to newfile:<_io.BufferedWriter name='c://users//dpatton//gits//model_collection_march4\\\\species-atractosteus spatula_model_merge_save'>\n",
      "writing new_model_list length:325 to newfile:<_io.BufferedWriter name='c://users//dpatton//gits//model_collection_march4\\\\species-campostoma anomalum_model_merge_save'>\n",
      "writing new_model_list length:385 to newfile:<_io.BufferedWriter name='c://users//dpatton//gits//model_collection_march4\\\\species-campostoma oligolepis_model_merge_save'>\n",
      "writing new_model_list length:449 to newfile:<_io.BufferedWriter name='c://users//dpatton//gits//model_collection_march4\\\\species-campostoma spadiceum_model_merge_save'>\n",
      "writing new_model_list length:419 to newfile:<_io.BufferedWriter name='c://users//dpatton//gits//model_collection_march4\\\\species-catostomus ardens_model_merge_save'>\n",
      "writing new_model_list length:15 to newfile:<_io.BufferedWriter name='c://users//dpatton//gits//model_collection_march4\\\\species-catostomus commersonii_model_merge_save'>\n",
      "writing new_model_list length:529 to newfile:<_io.BufferedWriter name='c://users//dpatton//gits//model_collection_march4\\\\species-catostomus platyrhynchus_model_merge_save'>\n",
      "writing new_model_list length:593 to newfile:<_io.BufferedWriter name='c://users//dpatton//gits//model_collection_march4\\\\species-centrarchus macropterus_model_merge_save'>\n",
      "writing new_model_list length:407 to newfile:<_io.BufferedWriter name='c://users//dpatton//gits//model_collection_march4\\\\species-chrosomus cumberlandensis_model_merge_save'>\n",
      "writing new_model_list length:441 to newfile:<_io.BufferedWriter name='c://users//dpatton//gits//model_collection_march4\\\\species-couesius plumbeus_model_merge_save'>\n",
      "writing new_model_list length:401 to newfile:<_io.BufferedWriter name='c://users//dpatton//gits//model_collection_march4\\\\species-ctenopharyngodon idella_model_merge_save'>\n",
      "writing new_model_list length:2517 to newfile:<_io.BufferedWriter name='c://users//dpatton//gits//model_collection_march4\\\\species-cycleptus elongatus_model_merge_save'>\n",
      "writing new_model_list length:15 to newfile:<_io.BufferedWriter name='c://users//dpatton//gits//model_collection_march4\\\\species-cyprinella analostana_model_merge_save'>\n",
      "writing new_model_list length:519 to newfile:<_io.BufferedWriter name='c://users//dpatton//gits//model_collection_march4\\\\species-cyprinella chloristia_model_merge_save'>\n",
      "writing new_model_list length:459 to newfile:<_io.BufferedWriter name='c://users//dpatton//gits//model_collection_march4\\\\species-cyprinella leedsi_model_merge_save'>\n"
     ]
    }
   ],
   "source": [
    "test.process_pisces_models(mydir2)"
   ]
  },
  {
   "cell_type": "code",
   "execution_count": null,
   "metadata": {},
   "outputs": [],
   "source": []
  }
 ],
 "metadata": {
  "kernelspec": {
   "display_name": "Python 3",
   "language": "python",
   "name": "python3"
  },
  "language_info": {
   "codemirror_mode": {
    "name": "ipython",
    "version": 3
   },
   "file_extension": ".py",
   "mimetype": "text/x-python",
   "name": "python",
   "nbconvert_exporter": "python",
   "pygments_lexer": "ipython3",
   "version": "3.7.4"
  }
 },
 "nbformat": 4,
 "nbformat_minor": 4
}
