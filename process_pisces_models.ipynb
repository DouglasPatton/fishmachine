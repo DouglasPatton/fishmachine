{
 "cells": [
  {
   "cell_type": "code",
   "execution_count": 1,
   "metadata": {},
   "outputs": [],
   "source": [
    "import kernelcompare as kc\n",
    "import os"
   ]
  },
  {
   "cell_type": "code",
   "execution_count": 2,
   "metadata": {},
   "outputs": [],
   "source": [
    "networkdir=os.path.join('o:','public','dpatton','kernel')\n",
    "'o:/public/dpatton/kernel'\n",
    "mydir2='c://users//dpatton//gits//merge3-9_11am'\n",
    "mydirpath=mydir2"
   ]
  },
  {
   "cell_type": "code",
   "execution_count": 3,
   "metadata": {},
   "outputs": [
    {
     "name": "stdout",
     "output_type": "stream",
     "text": [
      "working\n",
      "here3\n"
     ]
    }
   ],
   "source": [
    "test=kc.KernelCompare(directory=mydirpath)"
   ]
  },
  {
   "cell_type": "code",
   "execution_count": null,
   "metadata": {},
   "outputs": [
    {
     "name": "stdout",
     "output_type": "stream",
     "text": [
      "writing new_model_list length:385 to newfile:<_io.BufferedWriter name='c://users//dpatton//gits//merge3-9_11am\\\\species-acrocheilus alutaceus_model_merge_save'>\n",
      "writing new_model_list length:385 to newfile:<_io.BufferedWriter name='c://users//dpatton//gits//merge3-9_11am\\\\species-alosa aestivalis_model_merge_save'>\n",
      "writing new_model_list length:385 to newfile:<_io.BufferedWriter name='c://users//dpatton//gits//merge3-9_11am\\\\species-alosa alabamae_model_merge_save'>\n",
      "writing new_model_list length:119 to newfile:<_io.BufferedWriter name='c://users//dpatton//gits//merge3-9_11am\\\\species-alosa pseudoharengus_model_merge_save'>\n",
      "writing new_model_list length:135 to newfile:<_io.BufferedWriter name='c://users//dpatton//gits//merge3-9_11am\\\\species-ambloplites ariommus_model_merge_save'>\n",
      "writing new_model_list length:89 to newfile:<_io.BufferedWriter name='c://users//dpatton//gits//merge3-9_11am\\\\species-ambloplites constellatus_model_merge_save'>\n",
      "writing new_model_list length:385 to newfile:<_io.BufferedWriter name='c://users//dpatton//gits//merge3-9_11am\\\\species-ammocrypta beani_model_merge_save'>\n",
      "writing new_model_list length:385 to newfile:<_io.BufferedWriter name='c://users//dpatton//gits//merge3-9_11am\\\\species-ammocrypta bifascia_model_merge_save'>\n",
      "writing new_model_list length:385 to newfile:<_io.BufferedWriter name='c://users//dpatton//gits//merge3-9_11am\\\\species-ammocrypta clara_model_merge_save'>\n",
      "writing new_model_list length:137 to newfile:<_io.BufferedWriter name='c://users//dpatton//gits//merge3-9_11am\\\\species-ammocrypta vivax_model_merge_save'>\n",
      "writing new_model_list length:385 to newfile:<_io.BufferedWriter name='c://users//dpatton//gits//merge3-9_11am\\\\species-apeltes quadracus_model_merge_save'>\n",
      "writing new_model_list length:385 to newfile:<_io.BufferedWriter name='c://users//dpatton//gits//merge3-9_11am\\\\species-campostoma spadiceum_model_merge_save'>\n",
      "writing new_model_list length:69 to newfile:<_io.BufferedWriter name='c://users//dpatton//gits//merge3-9_11am\\\\species-catostomus columbianus_model_merge_save'>\n",
      "writing new_model_list length:391 to newfile:<_io.BufferedWriter name='c://users//dpatton//gits//merge3-9_11am\\\\species-catostomus latipinnis_model_merge_save'>\n",
      "writing new_model_list length:85 to newfile:<_io.BufferedWriter name='c://users//dpatton//gits//merge3-9_11am\\\\species-catostomus macrocheilus_model_merge_save'>\n",
      "writing new_model_list length:385 to newfile:<_io.BufferedWriter name='c://users//dpatton//gits//merge3-9_11am\\\\species-catostomus occidentalis_model_merge_save'>\n",
      "writing new_model_list length:385 to newfile:<_io.BufferedWriter name='c://users//dpatton//gits//merge3-9_11am\\\\species-chrosomus neogaeus_model_merge_save'>\n",
      "writing new_model_list length:385 to newfile:<_io.BufferedWriter name='c://users//dpatton//gits//merge3-9_11am\\\\species-chrosomus tennesseensis_model_merge_save'>\n",
      "writing new_model_list length:385 to newfile:<_io.BufferedWriter name='c://users//dpatton//gits//merge3-9_11am\\\\species-cottus aleuticus_model_merge_save'>\n",
      "writing new_model_list length:385 to newfile:<_io.BufferedWriter name='c://users//dpatton//gits//merge3-9_11am\\\\species-cottus asper_model_merge_save'>\n",
      "writing new_model_list length:385 to newfile:<_io.BufferedWriter name='c://users//dpatton//gits//merge3-9_11am\\\\species-cottus beldingii_model_merge_save'>\n",
      "writing new_model_list length:139 to newfile:<_io.BufferedWriter name='c://users//dpatton//gits//merge3-9_11am\\\\species-cottus caeruleomentum_model_merge_save'>\n",
      "writing new_model_list length:123 to newfile:<_io.BufferedWriter name='c://users//dpatton//gits//merge3-9_11am\\\\species-cottus chattahoochee_model_merge_save'>\n",
      "writing new_model_list length:385 to newfile:<_io.BufferedWriter name='c://users//dpatton//gits//merge3-9_11am\\\\species-cottus confusus_model_merge_save'>\n",
      "writing new_model_list length:141 to newfile:<_io.BufferedWriter name='c://users//dpatton//gits//merge3-9_11am\\\\species-cottus girardi_model_merge_save'>\n",
      "writing new_model_list length:385 to newfile:<_io.BufferedWriter name='c://users//dpatton//gits//merge3-9_11am\\\\species-cottus gulosus_model_merge_save'>\n",
      "writing new_model_list length:61 to newfile:<_io.BufferedWriter name='c://users//dpatton//gits//merge3-9_11am\\\\species-cottus hypselurus_model_merge_save'>\n",
      "writing new_model_list length:385 to newfile:<_io.BufferedWriter name='c://users//dpatton//gits//merge3-9_11am\\\\species-cottus perplexus_model_merge_save'>\n",
      "writing new_model_list length:385 to newfile:<_io.BufferedWriter name='c://users//dpatton//gits//merge3-9_11am\\\\species-cottus rhotheus_model_merge_save'>\n",
      "writing new_model_list length:385 to newfile:<_io.BufferedWriter name='c://users//dpatton//gits//merge3-9_11am\\\\species-couesius plumbeus_model_merge_save'>\n"
     ]
    }
   ],
   "source": [
    "test.process_pisces_models(mydir2)"
   ]
  },
  {
   "cell_type": "code",
   "execution_count": null,
   "metadata": {},
   "outputs": [],
   "source": []
  }
 ],
 "metadata": {
  "kernelspec": {
   "display_name": "Python 3",
   "language": "python",
   "name": "python3"
  },
  "language_info": {
   "codemirror_mode": {
    "name": "ipython",
    "version": 3
   },
   "file_extension": ".py",
   "mimetype": "text/x-python",
   "name": "python",
   "nbconvert_exporter": "python",
   "pygments_lexer": "ipython3",
   "version": "3.7.4"
  }
 },
 "nbformat": 4,
 "nbformat_minor": 4
}
