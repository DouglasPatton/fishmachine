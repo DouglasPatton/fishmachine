{
 "cells": [
  {
   "cell_type": "code",
   "execution_count": 1,
   "metadata": {},
   "outputs": [],
   "source": [
    "import kernelcompare as kc\n",
    "import os"
   ]
  },
  {
   "cell_type": "code",
   "execution_count": 2,
   "metadata": {},
   "outputs": [],
   "source": [
    "networkdir=os.path.join('o:','public','dpatton','kernel')\n",
    "'o:/public/dpatton/kernel'\n",
    "mydir2='c:/users/dpatton/gits/model collection 3-12_8am'\n",
    "mydir2='/home/douglas/gits/model_collection_0/'\n",
    "mydirpath=mydir2"
   ]
  },
  {
   "cell_type": "code",
   "execution_count": 3,
   "metadata": {},
   "outputs": [],
   "source": [
    "test=kc.KernelCompare(directory=mydirpath)"
   ]
  },
  {
   "cell_type": "code",
   "execution_count": 4,
   "metadata": {},
   "outputs": [],
   "source": [
    "test.process_pisces_models(mydir2)"
   ]
  },
  {
   "cell_type": "code",
   "execution_count": 5,
   "metadata": {},
   "outputs": [],
   "source": [
    "shortlist=['modeldict:species:val',\n",
    "           'modeldict:Ndiff_type',\n",
    "           'datagen_dict:xvarnamelist:val',\n",
    "           'params:free_params:val',\n",
    "           'params:fixed_params:val',\n",
    "           'mse:val',\n",
    "           'naivemse:val',\n",
    "           'modeldict:normalize_Ndiffwtsum:val',\n",
    "           'modeldict:NWnorm:val',\n",
    "           'modeldict:product_kern_norm:val',\n",
    "           'params:Ndiff_exponent:location_idx:val',\n",
    "           'params:x_bandscale:location_idx:val',\n",
    "           'params:Ndiff_depth_bw:location_idx:val',\n",
    "           'params:outer_x_bw:location_idx:val',\n",
    "           'params:outer_y_bw:location_idx:val',\n",
    "           'params:y_bandscale:location_idx:val',\n",
    "           'binary_y_result:val'\n",
    "           \n",
    "          ]\n",
    "#shortlist=[]"
   ]
  },
  {
   "cell_type": "code",
   "execution_count": 6,
   "metadata": {},
   "outputs": [],
   "source": [
    "test.print_pisces_all_species_model_merge_dict(shortlist=shortlist)"
   ]
  },
  {
   "cell_type": "code",
   "execution_count": null,
   "metadata": {},
   "outputs": [],
   "source": []
  }
 ],
 "metadata": {
  "kernelspec": {
   "display_name": "Python 3",
   "language": "python",
   "name": "python3"
  },
  "language_info": {
   "codemirror_mode": {
    "name": "ipython",
    "version": 3
   },
   "file_extension": ".py",
   "mimetype": "text/x-python",
   "name": "python",
   "nbconvert_exporter": "python",
   "pygments_lexer": "ipython3",
   "version": "3.7.4"
  }
 },
 "nbformat": 4,
 "nbformat_minor": 4
}
