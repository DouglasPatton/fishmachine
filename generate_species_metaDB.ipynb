{
 "cells": [
  {
   "cell_type": "code",
   "execution_count": 1,
   "metadata": {},
   "outputs": [],
   "source": [
    "import datagen as dg\n",
    "import numpy as np\n",
    "from pisces_data_huc12 import PiscesDataTool as pdt\n",
    "import traceback\n",
    "from pisces_params import PiSetup\n",
    "from pi_db_tool import DBTool as dbt"
   ]
  },
  {
   "cell_type": "code",
   "execution_count": 2,
   "metadata": {},
   "outputs": [],
   "source": [
    "species_list=pdt().returnspecieslist()"
   ]
  },
  {
   "cell_type": "code",
   "execution_count": 3,
   "metadata": {},
   "outputs": [],
   "source": [
    "params=PiSetup()\n",
    "datagen_dict=params.datagen_dict_template\n",
    "datagen_dict['min_sample']=0\n",
    "datagen_dict['min_1count']=0"
   ]
  },
  {
   "cell_type": "code",
   "execution_count": 4,
   "metadata": {},
   "outputs": [],
   "source": [
    "all_spec_metadict_list=[]\n",
    "m_db=dbt().metadataDBdict()\n",
    "for spec in species_list[:]:\n",
    "    if not spec in m_db:\n",
    "        print(f'building meta for {spec}')\n",
    "        try:\n",
    "            datagen_dict['species']=spec\n",
    "            data_obj=dg.dataGenerator(datagen_dict)\n",
    "            metadict=data_obj.make_metadict()\n",
    "            all_spec_metadict_list.append({spec:metadict})\n",
    "        except:\n",
    "            print(traceback.format_exc())"
   ]
  },
  {
   "cell_type": "code",
   "execution_count": 5,
   "metadata": {},
   "outputs": [
    {
     "ename": "SyntaxError",
     "evalue": "invalid syntax (<ipython-input-5-60215a10e730>, line 1)",
     "output_type": "error",
     "traceback": [
      "\u001b[0;36m  File \u001b[0;32m\"<ipython-input-5-60215a10e730>\"\u001b[0;36m, line \u001b[0;32m1\u001b[0m\n\u001b[0;31m    -\u001b[0m\n\u001b[0m     ^\u001b[0m\n\u001b[0;31mSyntaxError\u001b[0m\u001b[0;31m:\u001b[0m invalid syntax\n"
     ]
    }
   ],
   "source": [
    "-"
   ]
  },
  {
   "cell_type": "code",
   "execution_count": 2,
   "metadata": {},
   "outputs": [],
   "source": [
    "db=dbt().metadataDBdict # pass as callable"
   ]
  },
  {
   "cell_type": "code",
   "execution_count": null,
   "metadata": {},
   "outputs": [],
   "source": [
    "dbt.addToDBDict(all_spec_metadict_list,db=db)"
   ]
  },
  {
   "cell_type": "code",
   "execution_count": null,
   "metadata": {},
   "outputs": [],
   "source": [
    "db_check={**dbt.metadataDBdict() }"
   ]
  },
  {
   "cell_type": "code",
   "execution_count": null,
   "metadata": {},
   "outputs": [],
   "source": [
    "[(key,metadict['n']) for key,metadict in db_check.items()]"
   ]
  },
  {
   "cell_type": "code",
   "execution_count": null,
   "metadata": {},
   "outputs": [],
   "source": [
    "all_spec_metadict_list"
   ]
  },
  {
   "cell_type": "code",
   "execution_count": null,
   "metadata": {},
   "outputs": [],
   "source": [
    "imax=3;i=0\n",
    "for key,val in db().items():\n",
    "    i+=1\n",
    "    if i>imax:break\n",
    "    print(key,val['X'])"
   ]
  },
  {
   "cell_type": "code",
   "execution_count": 4,
   "metadata": {},
   "outputs": [
    {
     "name": "stdout",
     "output_type": "stream",
     "text": [
      "{'X_train_std': AgKffactCat      0.084557\n",
      "AgKffactWs       0.082519\n",
      "Al2O3Cat         4.219737\n",
      "Al2O3Ws          4.045784\n",
      "BFICat          13.868881\n",
      "                  ...    \n",
      "WetIndexCat    138.522702\n",
      "WetIndexWs     109.614877\n",
      "WtDepCat        40.688217\n",
      "WtDepWs         37.258915\n",
      "prG_BMMI         0.165521\n",
      "Length: 270, dtype: float64, 'X_train_mean': AgKffactCat      0.078162\n",
      "AgKffactWs       0.081857\n",
      "Al2O3Cat         9.070142\n",
      "Al2O3Ws          9.084789\n",
      "BFICat          48.211112\n",
      "                  ...    \n",
      "WetIndexCat    798.088738\n",
      "WetIndexWs     768.610971\n",
      "WtDepCat       138.478961\n",
      "WtDepWs        141.592783\n",
      "prG_BMMI         0.452033\n",
      "Length: 270, dtype: float64, 'y_train_mean': 0.10924804843077904, 'ymean': 0.10924804843077904, 'n': 25108, 'xvars': ['AgKffactCat', 'AgKffactWs', 'Al2O3Cat', 'Al2O3Ws', 'BFICat', 'BFIWs', 'CBNFCat', 'CBNFWs', 'CCHEM_v2_1', 'CCONN_v2_1', 'CHABT_v2_1', 'CHYD_v2_1', 'CSED_v2_1', 'CTEMP_v2_1', 'CaOCat', 'CaOWs', 'CanalDensCat', 'CanalDensWs', 'ClayCat', 'ClayWs', 'CoalMineDensCat', 'CoalMineDensWs', 'CompStrgthCat', 'CompStrgthWs', 'DamDensCat', 'DamDensWs', 'DamNIDStorCat', 'DamNIDStorWs', 'DamNrmStorCat', 'DamNrmStorWs', 'Elev', 'ElevCat', 'ElevWs', 'Fe2O3Cat', 'Fe2O3Ws', 'FertCat', 'FertWs', 'HUDenCatRp100_avg', 'HUDenCat_avg', 'HUDenWsRp100_avg', 'HUDenWs_avg', 'HydrlCondCat', 'HydrlCondWs', 'ICI_v2_1', 'IWI_v2_1', 'InorgNWetDep_Cat_avg', 'InorgNWetDep_Ws_avg', 'K2OCat', 'K2OWs', 'KffactCat', 'KffactWs', 'Length', 'MAST__avg', 'MSST__avg', 'MWST__avg', 'ManureCat', 'ManureWs', 'MgOCat', 'MgOWs', 'MineDensCat', 'MineDensCatRp100', 'MineDensWs', 'MineDensWsRp100', 'NABD_DensCat', 'NABD_DensWs', 'NABD_NIDStorCat', 'NABD_NIDStorWs', 'NABD_NrmStorCat', 'NABD_NrmStorWs', 'NCat', 'NH4_Cat_avg', 'NH4_Ws_avg', 'NO3_Cat_avg', 'NO3_Ws_avg', 'NPDESDensCat', 'NPDESDensCatRp100', 'NPDESDensWs', 'NPDESDensWsRp100', 'NWs', 'Na2OCat', 'Na2OWs', 'OmCat', 'OmWs', 'P2O5Cat', 'P2O5Ws', 'PctAgSlp10Cat_avg', 'PctAgSlp10Ws_avg', 'PctAgSlp20Cat_avg', 'PctAgSlp20Ws_avg', 'PctAlkIntruVolCat', 'PctAlkIntruVolWs', 'PctAlluvCoastCat', 'PctAlluvCoastWs', 'PctBlCatRp100_avg', 'PctBlCat_avg', 'PctBlWsRp100_avg', 'PctBlWs_avg', 'PctCarbResidCat', 'PctCarbResidWs', 'PctCoastCrsCat', 'PctCoastCrsWs', 'PctColluvSedCat', 'PctColluvSedWs', 'PctConifCatRp100_avg', 'PctConifCat_avg', 'PctConifWsRp100_avg', 'PctConifWs_avg', 'PctCropCatRp100_avg', 'PctCropCat_avg', 'PctCropWsRp100_avg', 'PctCropWs_avg', 'PctDecidCatRp100_avg', 'PctDecidCat_avg', 'PctDecidWsRp100_avg', 'PctDecidWs_avg', 'PctEolCrsCat', 'PctEolCrsWs', 'PctEolFineCat', 'PctEolFineWs', 'PctExtruVolCat', 'PctExtruVolWs', 'PctFireCatRp100_avg', 'PctFireCat_avg', 'PctFireWsRp100_avg', 'PctFireWs_avg', 'PctFrstLossCatRp100_avg', 'PctFrstLossCat_avg', 'PctFrstLossWsRp100_avg', 'PctFrstLossWs_avg', 'PctGlacLakeCrsCat', 'PctGlacLakeCrsWs', 'PctGlacLakeFineCat', 'PctGlacLakeFineWs', 'PctGlacTilClayCat', 'PctGlacTilClayWs', 'PctGlacTilCrsCat', 'PctGlacTilCrsWs', 'PctGlacTilLoamCat', 'PctGlacTilLoamWs', 'PctGrsCatRp100_avg', 'PctGrsCat_avg', 'PctGrsWsRp100_avg', 'PctGrsWs_avg', 'PctHayCatRp100_avg', 'PctHayCat_avg', 'PctHayWsRp100_avg', 'PctHayWs_avg', 'PctHbWetCatRp100_avg', 'PctHbWetCat_avg', 'PctHbWetWsRp100_avg', 'PctHbWetWs_avg', 'PctHydricCat', 'PctHydricWs', 'PctIceCatRp100_avg', 'PctIceCat_avg', 'PctIceWsRp100_avg', 'PctIceWs_avg', 'PctImpCatRp100_avg', 'PctImpCat_avg', 'PctImpWsRp100_avg', 'PctImpWs_avg', 'PctMxFstCatRp100_avg', 'PctMxFstCat_avg', 'PctMxFstWsRp100_avg', 'PctMxFstWs_avg', 'PctNonAgIntrodManagVegCat', 'PctNonAgIntrodManagVegCatRp100', 'PctNonAgIntrodManagVegWs', 'PctNonAgIntrodManagVegWsRp100', 'PctNonCarbResidCat', 'PctNonCarbResidWs', 'PctOwCatRp100_avg', 'PctOwCat_avg', 'PctOwWsRp100_avg', 'PctOwWs_avg', 'PctSalLakeCat', 'PctSalLakeWs', 'PctShrbCatRp100_avg', 'PctShrbCat_avg', 'PctShrbWsRp100_avg', 'PctShrbWs_avg', 'PctSilicicCat', 'PctSilicicWs', 'PctUrbHiCatRp100_avg', 'PctUrbHiCat_avg', 'PctUrbHiWsRp100_avg', 'PctUrbHiWs_avg', 'PctUrbLoCatRp100_avg', 'PctUrbLoCat_avg', 'PctUrbLoWsRp100_avg', 'PctUrbLoWs_avg', 'PctUrbMdCatRp100_avg', 'PctUrbMdCat_avg', 'PctUrbMdWsRp100_avg', 'PctUrbMdWs_avg', 'PctUrbOpCatRp100_avg', 'PctUrbOpCat_avg', 'PctUrbOpWsRp100_avg', 'PctUrbOpWs_avg', 'PctWaterCat', 'PctWaterWs', 'PctWdWetCatRp100_avg', 'PctWdWetCat_avg', 'PctWdWetWsRp100_avg', 'PctWdWetWs_avg', 'PermCat', 'PermWs', 'Pestic97Cat', 'Pestic97Ws', 'PopDenCatRp100_avg', 'PopDenCat_avg', 'PopDenWsRp100_avg', 'PopDenWs_avg', 'Precip08Cat', 'Precip08Ws', 'Precip09Cat', 'Precip09Ws', 'Precip8110Cat', 'Precip8110Ws', 'RckDepCat', 'RckDepWs', 'RdCrsCat', 'RdCrsSlpWtdCat', 'RdCrsSlpWtdWs', 'RdCrsWs', 'RdDensCat', 'RdDensCatRp100', 'RdDensWs', 'RdDensWsRp100', 'RunoffCat', 'RunoffWs', 'SCat', 'SN_Cat_avg', 'SN_Ws_avg', 'SWs', 'SandCat', 'SandWs', 'SiO2Cat', 'SiO2Ws', 'Slope', 'SuperfundDensCat', 'SuperfundDensCatRp100', 'SuperfundDensWs', 'SuperfundDensWsRp100', 'TRIDensCat', 'TRIDensCatRp100', 'TRIDensWs', 'TRIDensWsRp100', 'Tmax8110Cat', 'Tmax8110Ws', 'Tmean08Cat', 'Tmean08Ws', 'Tmean09Cat', 'Tmean09Ws', 'Tmean8110Cat', 'Tmean8110Ws', 'Tmin8110Cat', 'Tmin8110Ws', 'WA', 'WCHEM_v2_1', 'WCONN_v2_1', 'WHABT_v2_1', 'WHYD_v2_1', 'WSED_v2_1', 'WTEMP_v2_1', 'WetIndexCat', 'WetIndexWs', 'WtDepCat', 'WtDepWs', 'prG_BMMI'], 'df_describe':            presence   AgKffactCat    AgKffactWs      Al2O3Cat       Al2O3Ws  \\\n",
      "count  25108.000000  25105.000000  25108.000000  25098.000000  25108.000000   \n",
      "mean       0.109248      0.078162      0.081857      9.070142      9.084789   \n",
      "std        0.311956      0.084557      0.082519      4.219737      4.045784   \n",
      "min        0.000000      0.000000      0.000000      0.160000      0.160000   \n",
      "25%        0.000000      0.004168      0.009963      6.096599      6.125706   \n",
      "50%        0.000000      0.047444      0.055738      9.033824      8.983689   \n",
      "75%        0.000000      0.131052      0.133735     12.815844     12.676575   \n",
      "max        1.000000      0.440577      0.443946     25.799999     25.799999   \n",
      "\n",
      "             BFICat         BFIWs       CBNFCat        CBNFWs    CCHEM_v2_1  \\\n",
      "count  25106.000000  25108.000000  25108.000000  25108.000000  25108.000000   \n",
      "mean      48.211112     48.478346      5.671539      5.952562      0.669288   \n",
      "std       13.868881     13.594202      8.234191      8.412166      0.168340   \n",
      "min        2.000000      6.299566      0.000000      0.000000      0.245108   \n",
      "25%       39.000000     39.035968      0.126292      0.296843      0.512132   \n",
      "50%       49.000000     49.499953      1.831427      2.145871      0.693201   \n",
      "75%       58.788973     58.776975      8.021367      8.353817      0.821137   \n",
      "max       88.150322     87.426973     78.067797     61.009093      0.951871   \n",
      "\n",
      "       ...    WCONN_v2_1    WHABT_v2_1     WHYD_v2_1     WSED_v2_1  \\\n",
      "count  ...  25108.000000  25108.000000  25108.000000  25108.000000   \n",
      "mean   ...      0.958668      0.943640      0.950735      0.963919   \n",
      "std    ...      0.031159      0.037683      0.041768      0.023214   \n",
      "min    ...      0.813772      0.791022      0.819160      0.824803   \n",
      "25%    ...      0.938115      0.916516      0.922055      0.948002   \n",
      "50%    ...      0.963905      0.947411      0.958462      0.965970   \n",
      "75%    ...      0.985202      0.977010      0.988838      0.983860   \n",
      "max    ...      1.000000      0.999996      1.000000      1.000000   \n",
      "\n",
      "         WTEMP_v2_1   WetIndexCat    WetIndexWs      WtDepCat       WtDepWs  \\\n",
      "count  25108.000000  25108.000000  25108.000000  25089.000000  25108.000000   \n",
      "mean       0.939452    798.088738    768.610971    138.478961    141.592783   \n",
      "std        0.044050    138.522702    109.614877     40.688217     37.258915   \n",
      "min        0.751697    433.231076    533.570178      0.000000      0.000000   \n",
      "25%        0.907494    707.091188    693.592337    111.630000    114.153633   \n",
      "50%        0.944537    777.732495    758.365966    148.663396    151.485718   \n",
      "75%        0.978059    872.488160    835.377682    174.862953    175.258523   \n",
      "max        1.000000   2345.500000   1615.214987    184.029110    183.790000   \n",
      "\n",
      "           prG_BMMI  \n",
      "count  23067.000000  \n",
      "mean       0.452033  \n",
      "std        0.165521  \n",
      "min        0.036333  \n",
      "25%        0.328667  \n",
      "50%        0.451000  \n",
      "75%        0.576333  \n",
      "max        0.945333  \n",
      "\n",
      "[8 rows x 272 columns]}\n"
     ]
    }
   ],
   "source": [
    "mdb=db()\n",
    "specs=list(mdb.keys())\n",
    "for spec in specs[:1]:\n",
    "    print(mdb[spec])"
   ]
  },
  {
   "cell_type": "code",
   "execution_count": null,
   "metadata": {},
   "outputs": [],
   "source": []
  }
 ],
 "metadata": {
  "kernelspec": {
   "display_name": "Python 3",
   "language": "python",
   "name": "python3"
  },
  "language_info": {
   "codemirror_mode": {
    "name": "ipython",
    "version": 3
   },
   "file_extension": ".py",
   "mimetype": "text/x-python",
   "name": "python",
   "nbconvert_exporter": "python",
   "pygments_lexer": "ipython3",
   "version": "3.8.2"
  }
 },
 "nbformat": 4,
 "nbformat_minor": 4
}
