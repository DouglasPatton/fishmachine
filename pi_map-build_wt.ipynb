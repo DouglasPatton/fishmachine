{
 "cells": [
  {
   "cell_type": "code",
   "execution_count": 1,
   "metadata": {},
   "outputs": [],
   "source": [
    "from pi_map import Mapper"
   ]
  },
  {
   "cell_type": "code",
   "execution_count": 2,
   "metadata": {},
   "outputs": [],
   "source": [
    "import pandas as pd"
   ]
  },
  {
   "cell_type": "code",
   "execution_count": 3,
   "metadata": {},
   "outputs": [],
   "source": [
    "import numpy as np"
   ]
  },
  {
   "cell_type": "code",
   "execution_count": 4,
   "metadata": {},
   "outputs": [],
   "source": [
    "import matplotlib.pyplot as plt\n",
    "from mpl_toolkits.axes_grid1 import make_axes_locatable"
   ]
  },
  {
   "cell_type": "code",
   "execution_count": 5,
   "metadata": {},
   "outputs": [],
   "source": [
    "from time import time"
   ]
  },
  {
   "cell_type": "code",
   "execution_count": 6,
   "metadata": {},
   "outputs": [],
   "source": [
    "mpr=Mapper()"
   ]
  },
  {
   "cell_type": "code",
   "execution_count": null,
   "metadata": {},
   "outputs": [],
   "source": []
  },
  {
   "cell_type": "code",
   "execution_count": 7,
   "metadata": {},
   "outputs": [
    {
     "name": "stdout",
     "output_type": "stream",
     "text": [
      "starting 10 procs\n",
      "multiprocessing complete\n",
      "concatenating dflist\n",
      "runtime: 3.1349785923957825 min.\n"
     ]
    }
   ],
   "source": [
    "start=time()\n",
    "wtd_coef_df=mpr.build_wt_comid_feature_importance(rebuild=1,zzzno_fish=False,spec_wt=None,fit_scorer='f1_micro') #if rebuild=int, rebuild goes back int steps, if True, goes back all steps\n",
    "end=time()\n",
    "print(f'runtime: {(end-start)/60} min.')"
   ]
  },
  {
   "cell_type": "code",
   "execution_count": 9,
   "metadata": {},
   "outputs": [
    {
     "data": {
      "text/html": [
       "<div>\n",
       "<style scoped>\n",
       "    .dataframe tbody tr th:only-of-type {\n",
       "        vertical-align: middle;\n",
       "    }\n",
       "\n",
       "    .dataframe tbody tr th {\n",
       "        vertical-align: top;\n",
       "    }\n",
       "\n",
       "    .dataframe thead th {\n",
       "        text-align: right;\n",
       "    }\n",
       "</style>\n",
       "<table border=\"1\" class=\"dataframe\">\n",
       "  <thead>\n",
       "    <tr style=\"text-align: right;\">\n",
       "      <th>var</th>\n",
       "      <th>AgKffactCat</th>\n",
       "      <th>AgKffactWs</th>\n",
       "      <th>Al2O3Cat</th>\n",
       "      <th>Al2O3Ws</th>\n",
       "      <th>BFICat</th>\n",
       "      <th>BFIWs</th>\n",
       "      <th>CBNFCat</th>\n",
       "      <th>CBNFWs</th>\n",
       "      <th>CCHEM_v2_1</th>\n",
       "      <th>CCONN_v2_1</th>\n",
       "      <th>...</th>\n",
       "      <th>WCONN_v2_1</th>\n",
       "      <th>WHABT_v2_1</th>\n",
       "      <th>WHYD_v2_1</th>\n",
       "      <th>WSED_v2_1</th>\n",
       "      <th>WTEMP_v2_1</th>\n",
       "      <th>WetIndexCat</th>\n",
       "      <th>WetIndexWs</th>\n",
       "      <th>WtDepCat</th>\n",
       "      <th>WtDepWs</th>\n",
       "      <th>prG_BMMI</th>\n",
       "    </tr>\n",
       "    <tr>\n",
       "      <th>HUC12</th>\n",
       "      <th></th>\n",
       "      <th></th>\n",
       "      <th></th>\n",
       "      <th></th>\n",
       "      <th></th>\n",
       "      <th></th>\n",
       "      <th></th>\n",
       "      <th></th>\n",
       "      <th></th>\n",
       "      <th></th>\n",
       "      <th></th>\n",
       "      <th></th>\n",
       "      <th></th>\n",
       "      <th></th>\n",
       "      <th></th>\n",
       "      <th></th>\n",
       "      <th></th>\n",
       "      <th></th>\n",
       "      <th></th>\n",
       "      <th></th>\n",
       "      <th></th>\n",
       "    </tr>\n",
       "  </thead>\n",
       "  <tbody>\n",
       "    <tr>\n",
       "      <th>120903010202</th>\n",
       "      <td>-0.001636</td>\n",
       "      <td>-0.147065</td>\n",
       "      <td>-0.099511</td>\n",
       "      <td>0.067165</td>\n",
       "      <td>-0.059312</td>\n",
       "      <td>0.137375</td>\n",
       "      <td>-0.026537</td>\n",
       "      <td>0.062752</td>\n",
       "      <td>-0.028147</td>\n",
       "      <td>0.034631</td>\n",
       "      <td>...</td>\n",
       "      <td>0.039861</td>\n",
       "      <td>0.035276</td>\n",
       "      <td>0.063052</td>\n",
       "      <td>-0.127880</td>\n",
       "      <td>-0.020419</td>\n",
       "      <td>0.006985</td>\n",
       "      <td>0.034098</td>\n",
       "      <td>-0.039289</td>\n",
       "      <td>-0.033819</td>\n",
       "      <td>0.013773</td>\n",
       "    </tr>\n",
       "    <tr>\n",
       "      <th>120903010712</th>\n",
       "      <td>-0.014384</td>\n",
       "      <td>-0.166113</td>\n",
       "      <td>-0.119722</td>\n",
       "      <td>0.034267</td>\n",
       "      <td>-0.061884</td>\n",
       "      <td>0.161488</td>\n",
       "      <td>-0.000957</td>\n",
       "      <td>0.025631</td>\n",
       "      <td>-0.040648</td>\n",
       "      <td>0.051704</td>\n",
       "      <td>...</td>\n",
       "      <td>0.035174</td>\n",
       "      <td>-0.016515</td>\n",
       "      <td>0.073571</td>\n",
       "      <td>-0.109901</td>\n",
       "      <td>-0.051458</td>\n",
       "      <td>0.010438</td>\n",
       "      <td>0.036171</td>\n",
       "      <td>-0.019522</td>\n",
       "      <td>-0.029779</td>\n",
       "      <td>0.016784</td>\n",
       "    </tr>\n",
       "    <tr>\n",
       "      <th>121002010111</th>\n",
       "      <td>0.010466</td>\n",
       "      <td>-0.153522</td>\n",
       "      <td>-0.070665</td>\n",
       "      <td>0.036600</td>\n",
       "      <td>-0.004870</td>\n",
       "      <td>0.167426</td>\n",
       "      <td>-0.055143</td>\n",
       "      <td>0.046792</td>\n",
       "      <td>0.005648</td>\n",
       "      <td>0.030611</td>\n",
       "      <td>...</td>\n",
       "      <td>0.090939</td>\n",
       "      <td>0.016955</td>\n",
       "      <td>0.106715</td>\n",
       "      <td>-0.109242</td>\n",
       "      <td>-0.058835</td>\n",
       "      <td>0.014248</td>\n",
       "      <td>-0.013069</td>\n",
       "      <td>-0.056340</td>\n",
       "      <td>-0.029158</td>\n",
       "      <td>0.028151</td>\n",
       "    </tr>\n",
       "    <tr>\n",
       "      <th>121002010405</th>\n",
       "      <td>-0.025815</td>\n",
       "      <td>-0.229821</td>\n",
       "      <td>-0.066335</td>\n",
       "      <td>0.034173</td>\n",
       "      <td>-0.015152</td>\n",
       "      <td>0.155243</td>\n",
       "      <td>-0.024757</td>\n",
       "      <td>0.034659</td>\n",
       "      <td>-0.003960</td>\n",
       "      <td>0.029911</td>\n",
       "      <td>...</td>\n",
       "      <td>0.020302</td>\n",
       "      <td>-0.015269</td>\n",
       "      <td>0.068795</td>\n",
       "      <td>-0.136193</td>\n",
       "      <td>-0.042052</td>\n",
       "      <td>-0.008922</td>\n",
       "      <td>-0.005992</td>\n",
       "      <td>-0.070469</td>\n",
       "      <td>0.001131</td>\n",
       "      <td>0.006762</td>\n",
       "    </tr>\n",
       "    <tr>\n",
       "      <th>121002020111</th>\n",
       "      <td>-0.033541</td>\n",
       "      <td>-0.062029</td>\n",
       "      <td>-0.154043</td>\n",
       "      <td>0.068029</td>\n",
       "      <td>-0.045663</td>\n",
       "      <td>0.153467</td>\n",
       "      <td>0.006906</td>\n",
       "      <td>0.024318</td>\n",
       "      <td>-0.038600</td>\n",
       "      <td>0.076976</td>\n",
       "      <td>...</td>\n",
       "      <td>0.000142</td>\n",
       "      <td>0.063567</td>\n",
       "      <td>0.078187</td>\n",
       "      <td>-0.111022</td>\n",
       "      <td>-0.094797</td>\n",
       "      <td>-0.029442</td>\n",
       "      <td>0.026542</td>\n",
       "      <td>-0.039981</td>\n",
       "      <td>0.006380</td>\n",
       "      <td>0.051766</td>\n",
       "    </tr>\n",
       "    <tr>\n",
       "      <th>...</th>\n",
       "      <td>...</td>\n",
       "      <td>...</td>\n",
       "      <td>...</td>\n",
       "      <td>...</td>\n",
       "      <td>...</td>\n",
       "      <td>...</td>\n",
       "      <td>...</td>\n",
       "      <td>...</td>\n",
       "      <td>...</td>\n",
       "      <td>...</td>\n",
       "      <td>...</td>\n",
       "      <td>...</td>\n",
       "      <td>...</td>\n",
       "      <td>...</td>\n",
       "      <td>...</td>\n",
       "      <td>...</td>\n",
       "      <td>...</td>\n",
       "      <td>...</td>\n",
       "      <td>...</td>\n",
       "      <td>...</td>\n",
       "      <td>...</td>\n",
       "    </tr>\n",
       "    <tr>\n",
       "      <th>071300040404</th>\n",
       "      <td>-0.019307</td>\n",
       "      <td>-0.147214</td>\n",
       "      <td>-0.091022</td>\n",
       "      <td>0.111545</td>\n",
       "      <td>-0.056614</td>\n",
       "      <td>0.107840</td>\n",
       "      <td>-0.006788</td>\n",
       "      <td>0.072920</td>\n",
       "      <td>0.020588</td>\n",
       "      <td>0.017084</td>\n",
       "      <td>...</td>\n",
       "      <td>-0.020373</td>\n",
       "      <td>-0.059707</td>\n",
       "      <td>-0.007507</td>\n",
       "      <td>-0.040405</td>\n",
       "      <td>0.053065</td>\n",
       "      <td>-0.010563</td>\n",
       "      <td>-0.024664</td>\n",
       "      <td>-0.005511</td>\n",
       "      <td>-0.055051</td>\n",
       "      <td>0.087771</td>\n",
       "    </tr>\n",
       "    <tr>\n",
       "      <th>071300040808</th>\n",
       "      <td>-0.016475</td>\n",
       "      <td>-0.202098</td>\n",
       "      <td>-0.126089</td>\n",
       "      <td>0.099986</td>\n",
       "      <td>-0.030442</td>\n",
       "      <td>0.133457</td>\n",
       "      <td>0.007127</td>\n",
       "      <td>0.073586</td>\n",
       "      <td>-0.020128</td>\n",
       "      <td>0.006585</td>\n",
       "      <td>...</td>\n",
       "      <td>0.005223</td>\n",
       "      <td>-0.096216</td>\n",
       "      <td>0.025018</td>\n",
       "      <td>-0.122649</td>\n",
       "      <td>0.081569</td>\n",
       "      <td>-0.025831</td>\n",
       "      <td>0.004583</td>\n",
       "      <td>-0.009627</td>\n",
       "      <td>-0.058527</td>\n",
       "      <td>0.086227</td>\n",
       "    </tr>\n",
       "    <tr>\n",
       "      <th>071300060404</th>\n",
       "      <td>0.025866</td>\n",
       "      <td>-0.164215</td>\n",
       "      <td>-0.119978</td>\n",
       "      <td>0.103947</td>\n",
       "      <td>-0.008845</td>\n",
       "      <td>0.158322</td>\n",
       "      <td>-0.003654</td>\n",
       "      <td>0.114638</td>\n",
       "      <td>0.077283</td>\n",
       "      <td>0.070025</td>\n",
       "      <td>...</td>\n",
       "      <td>-0.018798</td>\n",
       "      <td>-0.043498</td>\n",
       "      <td>0.043233</td>\n",
       "      <td>-0.047790</td>\n",
       "      <td>0.018123</td>\n",
       "      <td>-0.004496</td>\n",
       "      <td>-0.031452</td>\n",
       "      <td>-0.043799</td>\n",
       "      <td>-0.049050</td>\n",
       "      <td>0.065005</td>\n",
       "    </tr>\n",
       "    <tr>\n",
       "      <th>071300070101</th>\n",
       "      <td>0.017993</td>\n",
       "      <td>-0.152944</td>\n",
       "      <td>-0.048842</td>\n",
       "      <td>0.137720</td>\n",
       "      <td>0.024907</td>\n",
       "      <td>0.134972</td>\n",
       "      <td>0.007966</td>\n",
       "      <td>0.083855</td>\n",
       "      <td>0.004411</td>\n",
       "      <td>0.050217</td>\n",
       "      <td>...</td>\n",
       "      <td>-0.006042</td>\n",
       "      <td>-0.087217</td>\n",
       "      <td>0.042531</td>\n",
       "      <td>-0.043598</td>\n",
       "      <td>-0.012703</td>\n",
       "      <td>0.007975</td>\n",
       "      <td>0.032024</td>\n",
       "      <td>-0.035370</td>\n",
       "      <td>-0.047214</td>\n",
       "      <td>0.071884</td>\n",
       "    </tr>\n",
       "    <tr>\n",
       "      <th>071300070401</th>\n",
       "      <td>0.039498</td>\n",
       "      <td>-0.104269</td>\n",
       "      <td>-0.054806</td>\n",
       "      <td>0.106203</td>\n",
       "      <td>0.036245</td>\n",
       "      <td>0.115751</td>\n",
       "      <td>0.003589</td>\n",
       "      <td>0.100029</td>\n",
       "      <td>0.024722</td>\n",
       "      <td>0.084071</td>\n",
       "      <td>...</td>\n",
       "      <td>-0.002879</td>\n",
       "      <td>-0.051372</td>\n",
       "      <td>0.060171</td>\n",
       "      <td>-0.045926</td>\n",
       "      <td>0.033678</td>\n",
       "      <td>-0.004870</td>\n",
       "      <td>-0.015618</td>\n",
       "      <td>-0.015342</td>\n",
       "      <td>-0.052985</td>\n",
       "      <td>0.061103</td>\n",
       "    </tr>\n",
       "  </tbody>\n",
       "</table>\n",
       "<p>11848 rows × 270 columns</p>\n",
       "</div>"
      ],
      "text/plain": [
       "var           AgKffactCat  AgKffactWs  Al2O3Cat   Al2O3Ws    BFICat     BFIWs  \\\n",
       "HUC12                                                                           \n",
       "120903010202    -0.001636   -0.147065 -0.099511  0.067165 -0.059312  0.137375   \n",
       "120903010712    -0.014384   -0.166113 -0.119722  0.034267 -0.061884  0.161488   \n",
       "121002010111     0.010466   -0.153522 -0.070665  0.036600 -0.004870  0.167426   \n",
       "121002010405    -0.025815   -0.229821 -0.066335  0.034173 -0.015152  0.155243   \n",
       "121002020111    -0.033541   -0.062029 -0.154043  0.068029 -0.045663  0.153467   \n",
       "...                   ...         ...       ...       ...       ...       ...   \n",
       "071300040404    -0.019307   -0.147214 -0.091022  0.111545 -0.056614  0.107840   \n",
       "071300040808    -0.016475   -0.202098 -0.126089  0.099986 -0.030442  0.133457   \n",
       "071300060404     0.025866   -0.164215 -0.119978  0.103947 -0.008845  0.158322   \n",
       "071300070101     0.017993   -0.152944 -0.048842  0.137720  0.024907  0.134972   \n",
       "071300070401     0.039498   -0.104269 -0.054806  0.106203  0.036245  0.115751   \n",
       "\n",
       "var            CBNFCat    CBNFWs  CCHEM_v2_1  CCONN_v2_1  ...  WCONN_v2_1  \\\n",
       "HUC12                                                     ...               \n",
       "120903010202 -0.026537  0.062752   -0.028147    0.034631  ...    0.039861   \n",
       "120903010712 -0.000957  0.025631   -0.040648    0.051704  ...    0.035174   \n",
       "121002010111 -0.055143  0.046792    0.005648    0.030611  ...    0.090939   \n",
       "121002010405 -0.024757  0.034659   -0.003960    0.029911  ...    0.020302   \n",
       "121002020111  0.006906  0.024318   -0.038600    0.076976  ...    0.000142   \n",
       "...                ...       ...         ...         ...  ...         ...   \n",
       "071300040404 -0.006788  0.072920    0.020588    0.017084  ...   -0.020373   \n",
       "071300040808  0.007127  0.073586   -0.020128    0.006585  ...    0.005223   \n",
       "071300060404 -0.003654  0.114638    0.077283    0.070025  ...   -0.018798   \n",
       "071300070101  0.007966  0.083855    0.004411    0.050217  ...   -0.006042   \n",
       "071300070401  0.003589  0.100029    0.024722    0.084071  ...   -0.002879   \n",
       "\n",
       "var           WHABT_v2_1  WHYD_v2_1  WSED_v2_1  WTEMP_v2_1  WetIndexCat  \\\n",
       "HUC12                                                                     \n",
       "120903010202    0.035276   0.063052  -0.127880   -0.020419     0.006985   \n",
       "120903010712   -0.016515   0.073571  -0.109901   -0.051458     0.010438   \n",
       "121002010111    0.016955   0.106715  -0.109242   -0.058835     0.014248   \n",
       "121002010405   -0.015269   0.068795  -0.136193   -0.042052    -0.008922   \n",
       "121002020111    0.063567   0.078187  -0.111022   -0.094797    -0.029442   \n",
       "...                  ...        ...        ...         ...          ...   \n",
       "071300040404   -0.059707  -0.007507  -0.040405    0.053065    -0.010563   \n",
       "071300040808   -0.096216   0.025018  -0.122649    0.081569    -0.025831   \n",
       "071300060404   -0.043498   0.043233  -0.047790    0.018123    -0.004496   \n",
       "071300070101   -0.087217   0.042531  -0.043598   -0.012703     0.007975   \n",
       "071300070401   -0.051372   0.060171  -0.045926    0.033678    -0.004870   \n",
       "\n",
       "var           WetIndexWs  WtDepCat   WtDepWs  prG_BMMI  \n",
       "HUC12                                                   \n",
       "120903010202    0.034098 -0.039289 -0.033819  0.013773  \n",
       "120903010712    0.036171 -0.019522 -0.029779  0.016784  \n",
       "121002010111   -0.013069 -0.056340 -0.029158  0.028151  \n",
       "121002010405   -0.005992 -0.070469  0.001131  0.006762  \n",
       "121002020111    0.026542 -0.039981  0.006380  0.051766  \n",
       "...                  ...       ...       ...       ...  \n",
       "071300040404   -0.024664 -0.005511 -0.055051  0.087771  \n",
       "071300040808    0.004583 -0.009627 -0.058527  0.086227  \n",
       "071300060404   -0.031452 -0.043799 -0.049050  0.065005  \n",
       "071300070101    0.032024 -0.035370 -0.047214  0.071884  \n",
       "071300070401   -0.015618 -0.015342 -0.052985  0.061103  \n",
       "\n",
       "[11848 rows x 270 columns]"
      ]
     },
     "execution_count": 9,
     "metadata": {},
     "output_type": "execute_result"
    }
   ],
   "source": [
    "wtd_coef_df"
   ]
  },
  {
   "cell_type": "code",
   "execution_count": 8,
   "metadata": {},
   "outputs": [
    {
     "ename": "SyntaxError",
     "evalue": "invalid syntax (<ipython-input-8-60215a10e730>, line 1)",
     "output_type": "error",
     "traceback": [
      "\u001b[0;36m  File \u001b[0;32m\"<ipython-input-8-60215a10e730>\"\u001b[0;36m, line \u001b[0;32m1\u001b[0m\n\u001b[0;31m    -\u001b[0m\n\u001b[0m     ^\u001b[0m\n\u001b[0;31mSyntaxError\u001b[0m\u001b[0;31m:\u001b[0m invalid syntax\n"
     ]
    }
   ],
   "source": [
    "-"
   ]
  },
  {
   "cell_type": "code",
   "execution_count": null,
   "metadata": {},
   "outputs": [],
   "source": [
    "mch=mpr.mch_list[0]"
   ]
  },
  {
   "cell_type": "code",
   "execution_count": null,
   "metadata": {},
   "outputs": [],
   "source": [
    "mch.hucwt_varwt_coef"
   ]
  },
  {
   "cell_type": "code",
   "execution_count": null,
   "metadata": {},
   "outputs": [],
   "source": [
    "varwt_coef=mch.varwt_coef\n",
    "normwt_huc=mch.normwt_huc"
   ]
  },
  {
   "cell_type": "code",
   "execution_count": null,
   "metadata": {},
   "outputs": [],
   "source": [
    "varwt_coef.shape,normwt_huc.shape"
   ]
  },
  {
   "cell_type": "code",
   "execution_count": null,
   "metadata": {},
   "outputs": [],
   "source": [
    "normwt_huc"
   ]
  },
  {
   "cell_type": "code",
   "execution_count": null,
   "metadata": {},
   "outputs": [],
   "source": [
    "varwt_coef"
   ]
  },
  {
   "cell_type": "code",
   "execution_count": null,
   "metadata": {},
   "outputs": [],
   "source": [
    "wt2_coef=varwt_coef.mul(normwt_huc.values,axis=0)\n",
    "wt2_coef"
   ]
  },
  {
   "cell_type": "code",
   "execution_count": null,
   "metadata": {},
   "outputs": [],
   "source": []
  },
  {
   "cell_type": "code",
   "execution_count": null,
   "metadata": {},
   "outputs": [],
   "source": [
    "mch.wt2_coef"
   ]
  },
  {
   "cell_type": "code",
   "execution_count": null,
   "metadata": {},
   "outputs": [],
   "source": [
    "mch.wt"
   ]
  },
  {
   "cell_type": "code",
   "execution_count": null,
   "metadata": {},
   "outputs": [],
   "source": [
    "mch.coef_df"
   ]
  },
  {
   "cell_type": "code",
   "execution_count": null,
   "metadata": {},
   "outputs": [],
   "source": [
    "mch.wt"
   ]
  },
  {
   "cell_type": "code",
   "execution_count": null,
   "metadata": {},
   "outputs": [],
   "source": [
    "sorder=np.argsort(mch.wt.sum(axis=1))\n",
    "mch.wt.iloc[sorder[-20:]]"
   ]
  },
  {
   "cell_type": "code",
   "execution_count": null,
   "metadata": {},
   "outputs": [],
   "source": [
    "coef_df=mch.coef_df\n",
    "\n",
    "normwt_var=mch.normwt_var"
   ]
  },
  {
   "cell_type": "code",
   "execution_count": null,
   "metadata": {},
   "outputs": [],
   "source": [
    "coef_df.columns.levels[0]"
   ]
  },
  {
   "cell_type": "code",
   "execution_count": null,
   "metadata": {},
   "outputs": [],
   "source": [
    "normwt_var"
   ]
  },
  {
   "cell_type": "code",
   "execution_count": null,
   "metadata": {},
   "outputs": [],
   "source": [
    "mch.normwt_huc"
   ]
  },
  {
   "cell_type": "code",
   "execution_count": null,
   "metadata": {},
   "outputs": [],
   "source": [
    "\n",
    "coef_df,normwt_var=coef_df.align(normwt_var,axis=0,join='right')\n",
    "coef_df,normwt_var=coef_df.align(normwt_var,axis=1)\n"
   ]
  },
  {
   "cell_type": "code",
   "execution_count": null,
   "metadata": {},
   "outputs": [],
   "source": []
  },
  {
   "cell_type": "code",
   "execution_count": null,
   "metadata": {},
   "outputs": [],
   "source": [
    "wt_coef=coef_df.mul(normwt_var,axis=0)\n",
    "wt_coef"
   ]
  },
  {
   "cell_type": "code",
   "execution_count": null,
   "metadata": {},
   "outputs": [],
   "source": [
    "wt_coef.iloc[:40]"
   ]
  },
  {
   "cell_type": "code",
   "execution_count": null,
   "metadata": {},
   "outputs": [],
   "source": [
    "mch.varwt_coef"
   ]
  },
  {
   "cell_type": "code",
   "execution_count": null,
   "metadata": {},
   "outputs": [],
   "source": [
    "mpr.result\n"
   ]
  },
  {
   "cell_type": "code",
   "execution_count": null,
   "metadata": {},
   "outputs": [],
   "source": []
  },
  {
   "cell_type": "code",
   "execution_count": null,
   "metadata": {},
   "outputs": [],
   "source": []
  },
  {
   "cell_type": "code",
   "execution_count": null,
   "metadata": {},
   "outputs": [],
   "source": []
  },
  {
   "cell_type": "code",
   "execution_count": null,
   "metadata": {},
   "outputs": [],
   "source": [
    "coef_mean=mpr.coef_df.mean(axis=1,level='var').mean(axis=0)"
   ]
  },
  {
   "cell_type": "code",
   "execution_count": null,
   "metadata": {},
   "outputs": [],
   "source": [
    "order=np.argsort(coef_mean)\n",
    "coef_mean.iloc[order]\n",
    "\n",
    "\n"
   ]
  },
  {
   "cell_type": "code",
   "execution_count": null,
   "metadata": {},
   "outputs": [],
   "source": [
    "mpr.scor_select"
   ]
  },
  {
   "cell_type": "code",
   "execution_count": null,
   "metadata": {},
   "outputs": [],
   "source": []
  },
  {
   "cell_type": "code",
   "execution_count": null,
   "metadata": {},
   "outputs": [],
   "source": []
  },
  {
   "cell_type": "code",
   "execution_count": null,
   "metadata": {},
   "outputs": [],
   "source": [
    "coef_df=mpr.coef_df\n",
    "scor_select=mpr.scor_select"
   ]
  },
  {
   "cell_type": "code",
   "execution_count": null,
   "metadata": {},
   "outputs": [],
   "source": [
    "scor_select.shape,scor_a.shape"
   ]
  },
  {
   "cell_type": "code",
   "execution_count": null,
   "metadata": {},
   "outputs": [],
   "source": [
    "coef_a,scor_a=coef_df.align(scor_select,axis=1)"
   ]
  },
  {
   "cell_type": "code",
   "execution_count": null,
   "metadata": {},
   "outputs": [],
   "source": [
    "coef_df.shape,coef_a.shape\n"
   ]
  },
  {
   "cell_type": "code",
   "execution_count": null,
   "metadata": {},
   "outputs": [],
   "source": [
    "coef_df.subtract(coef_a,axis=0).sum().sum()"
   ]
  },
  {
   "cell_type": "code",
   "execution_count": null,
   "metadata": {},
   "outputs": [],
   "source": [
    "wtd_coef_df"
   ]
  },
  {
   "cell_type": "code",
   "execution_count": null,
   "metadata": {},
   "outputs": [],
   "source": [
    "mpr.results"
   ]
  },
  {
   "cell_type": "code",
   "execution_count": null,
   "metadata": {},
   "outputs": [],
   "source": [
    "mpr.coef_df"
   ]
  },
  {
   "cell_type": "code",
   "execution_count": null,
   "metadata": {},
   "outputs": [],
   "source": [
    "mch.huc12_adiff_scor#.loc[(slice(None),slice(None),'010100020104',slice(None)),:]"
   ]
  },
  {
   "cell_type": "code",
   "execution_count": null,
   "metadata": {},
   "outputs": [],
   "source": [
    "mch.wt"
   ]
  },
  {
   "cell_type": "code",
   "execution_count": null,
   "metadata": {},
   "outputs": [],
   "source": [
    "huc12_adiff_scor=mpr.mch_list[0].adiff_scor_chunk.loc[(slice(None),huc12,slice(None),slice(None)),:]"
   ]
  },
  {
   "cell_type": "code",
   "execution_count": null,
   "metadata": {},
   "outputs": [],
   "source": [
    "diffscor_a,fitscor=huc12_adiff_scor.align(mch.fitscor,axis=0,join='left')"
   ]
  },
  {
   "cell_type": "code",
   "execution_count": null,
   "metadata": {},
   "outputs": [],
   "source": [
    "fitscor\n"
   ]
  },
  {
   "cell_type": "code",
   "execution_count": null,
   "metadata": {},
   "outputs": [],
   "source": [
    "mch=mpr.mch_list[0]"
   ]
  },
  {
   "cell_type": "code",
   "execution_count": null,
   "metadata": {},
   "outputs": [],
   "source": [
    "huc12=mch.huc12list[0]"
   ]
  },
  {
   "cell_type": "code",
   "execution_count": null,
   "metadata": {},
   "outputs": [],
   "source": [
    "mch.huc12_adiff_scor"
   ]
  },
  {
   "cell_type": "code",
   "execution_count": null,
   "metadata": {},
   "outputs": [],
   "source": [
    "mch.adiff_scor_chunk.loc[(slice(None),huc12,slice(None),slice(None)),:]"
   ]
  },
  {
   "cell_type": "code",
   "execution_count": null,
   "metadata": {},
   "outputs": [],
   "source": []
  },
  {
   "cell_type": "code",
   "execution_count": null,
   "metadata": {},
   "outputs": [],
   "source": [
    "mpr.scor_a"
   ]
  },
  {
   "cell_type": "code",
   "execution_count": null,
   "metadata": {},
   "outputs": [],
   "source": [
    "dflist"
   ]
  },
  {
   "cell_type": "code",
   "execution_count": null,
   "metadata": {},
   "outputs": [],
   "source": [
    "y=mpr.y;yhat=mpr.yhat"
   ]
  },
  {
   "cell_type": "code",
   "execution_count": null,
   "metadata": {},
   "outputs": [],
   "source": [
    "-"
   ]
  },
  {
   "cell_type": "code",
   "execution_count": null,
   "metadata": {},
   "outputs": [],
   "source": [
    "y.iloc[-20:]"
   ]
  },
  {
   "cell_type": "code",
   "execution_count": null,
   "metadata": {},
   "outputs": [],
   "source": [
    "yhat.iloc[-20:]"
   ]
  },
  {
   "cell_type": "code",
   "execution_count": null,
   "metadata": {},
   "outputs": [],
   "source": [
    "yhat_a,y_a=yhat.align(y,axis=0)"
   ]
  },
  {
   "cell_type": "code",
   "execution_count": null,
   "metadata": {},
   "outputs": [],
   "source": [
    "yhat_aa,y_aa=yhat_a.align(y_a,axis=1,level='var')\n"
   ]
  },
  {
   "cell_type": "code",
   "execution_count": null,
   "metadata": {},
   "outputs": [],
   "source": [
    "diff=yhat_aa.subtract(y_aa)"
   ]
  },
  {
   "cell_type": "code",
   "execution_count": null,
   "metadata": {},
   "outputs": [],
   "source": [
    "diff2=(yhat_a-y_a.values)"
   ]
  },
  {
   "cell_type": "code",
   "execution_count": null,
   "metadata": {},
   "outputs": [],
   "source": [
    "ddiff=diff-diff2"
   ]
  },
  {
   "cell_type": "code",
   "execution_count": null,
   "metadata": {},
   "outputs": [],
   "source": [
    "adiff_scor=np.exp(yhat_a.subtract(y_a.values,axis=0).abs().mul(-1)) # a for abs"
   ]
  },
  {
   "cell_type": "code",
   "execution_count": null,
   "metadata": {},
   "outputs": [],
   "source": [
    "adiff_scor.head()"
   ]
  },
  {
   "cell_type": "code",
   "execution_count": null,
   "metadata": {},
   "outputs": [],
   "source": [
    "diff.iloc[-20:]"
   ]
  },
  {
   "cell_type": "code",
   "execution_count": null,
   "metadata": {},
   "outputs": [],
   "source": [
    "adiff_scor=mpr.adiff_scor\n",
    "coef_df=mpr.coef_df"
   ]
  },
  {
   "cell_type": "code",
   "execution_count": null,
   "metadata": {},
   "outputs": [],
   "source": [
    "#diffscor_coefscor=adiff_scor.join(coef_df)"
   ]
  },
  {
   "cell_type": "code",
   "execution_count": null,
   "metadata": {},
   "outputs": [],
   "source": [
    "adiff_scor.head(40)"
   ]
  },
  {
   "cell_type": "code",
   "execution_count": null,
   "metadata": {},
   "outputs": [],
   "source": []
  },
  {
   "cell_type": "code",
   "execution_count": null,
   "metadata": {},
   "outputs": [],
   "source": [
    "wtd_coef_df"
   ]
  },
  {
   "cell_type": "code",
   "execution_count": null,
   "metadata": {},
   "outputs": [],
   "source": [
    "scor_select=mpr.scor_select"
   ]
  },
  {
   "cell_type": "code",
   "execution_count": null,
   "metadata": {},
   "outputs": [],
   "source": [
    "scor_select.columns=scor_select.columns.droplevel('var')"
   ]
  },
  {
   "cell_type": "code",
   "execution_count": null,
   "metadata": {},
   "outputs": [],
   "source": [
    "coef_a,scor_a=coef_df.align(scor_select,axis=1)"
   ]
  },
  {
   "cell_type": "code",
   "execution_count": null,
   "metadata": {},
   "outputs": [],
   "source": [
    "scor_a.shape"
   ]
  },
  {
   "cell_type": "code",
   "execution_count": null,
   "metadata": {},
   "outputs": [],
   "source": [
    "normed_scor=scor_a.divide(scor_a.sum(axis=1,level='var'),axis=0)"
   ]
  },
  {
   "cell_type": "code",
   "execution_count": null,
   "metadata": {},
   "outputs": [],
   "source": [
    "normed_scor.shape"
   ]
  },
  {
   "cell_type": "code",
   "execution_count": null,
   "metadata": {},
   "outputs": [],
   "source": [
    "coef_df=mpr.coef_df"
   ]
  },
  {
   "cell_type": "code",
   "execution_count": null,
   "metadata": {},
   "outputs": [],
   "source": [
    "scor_a.shape,normed_scor.shape"
   ]
  },
  {
   "cell_type": "code",
   "execution_count": null,
   "metadata": {},
   "outputs": [],
   "source": []
  },
  {
   "cell_type": "code",
   "execution_count": null,
   "metadata": {},
   "outputs": [],
   "source": [
    "#coef_a,scor_a=coef_df.align(normed_scor,axis=1,)"
   ]
  },
  {
   "cell_type": "code",
   "execution_count": null,
   "metadata": {},
   "outputs": [],
   "source": [
    "scor_wtd_coef=coef_a.multiply(normed_scor,axis=0)"
   ]
  },
  {
   "cell_type": "code",
   "execution_count": null,
   "metadata": {},
   "outputs": [],
   "source": [
    "scor_wtd_coef.sum(axis=1,level='var')"
   ]
  },
  {
   "cell_type": "code",
   "execution_count": null,
   "metadata": {},
   "outputs": [],
   "source": [
    "coef_a"
   ]
  },
  {
   "cell_type": "code",
   "execution_count": null,
   "metadata": {},
   "outputs": [],
   "source": [
    "scor_wtd_coef.sum(axis=1,level='var').mean(axis=0)"
   ]
  },
  {
   "cell_type": "code",
   "execution_count": null,
   "metadata": {},
   "outputs": [],
   "source": []
  },
  {
   "cell_type": "code",
   "execution_count": null,
   "metadata": {},
   "outputs": [],
   "source": [
    "assert False,'pause'"
   ]
  },
  {
   "cell_type": "code",
   "execution_count": null,
   "metadata": {},
   "outputs": [],
   "source": [
    "#self.y=y;self.yhat=yhat\n",
    "y=mpr.y;yhat=mpr.yhat\n",
    "yhat_a,y_a=yhat.align(y,axis=0)\n"
   ]
  },
  {
   "cell_type": "code",
   "execution_count": null,
   "metadata": {},
   "outputs": [],
   "source": [
    "y_a"
   ]
  },
  {
   "cell_type": "code",
   "execution_count": null,
   "metadata": {},
   "outputs": [],
   "source": [
    "adiff_scor=yhat_a.subtract(y_a.values,axis=0) # a for abs"
   ]
  },
  {
   "cell_type": "code",
   "execution_count": null,
   "metadata": {},
   "outputs": [],
   "source": [
    "adiff_scor"
   ]
  },
  {
   "cell_type": "code",
   "execution_count": null,
   "metadata": {},
   "outputs": [],
   "source": [
    "wtd_coef_df=mpr.wtd_coef_df"
   ]
  },
  {
   "cell_type": "code",
   "execution_count": null,
   "metadata": {},
   "outputs": [],
   "source": [
    "scorwtd_coef_df=mpr.scorwtd_coef_df\n"
   ]
  },
  {
   "cell_type": "code",
   "execution_count": null,
   "metadata": {},
   "outputs": [],
   "source": [
    "print(list(scorwtd_coef_df.columns.levels[0]))"
   ]
  },
  {
   "cell_type": "code",
   "execution_count": null,
   "metadata": {},
   "outputs": [],
   "source": [
    "adiff.dtypes"
   ]
  },
  {
   "cell_type": "code",
   "execution_count": null,
   "metadata": {},
   "outputs": [],
   "source": [
    "#scorwtd_coef_df_a,adiff_a=scorwtd_coef_df.align(adiff,axis=0,join='right')"
   ]
  },
  {
   "cell_type": "code",
   "execution_count": null,
   "metadata": {},
   "outputs": [],
   "source": [
    "wtd_coef_df=scorwtd_coef_df.multiply(adiff,axis=0)"
   ]
  },
  {
   "cell_type": "code",
   "execution_count": null,
   "metadata": {},
   "outputs": [],
   "source": []
  },
  {
   "cell_type": "code",
   "execution_count": null,
   "metadata": {},
   "outputs": [],
   "source": [
    "yhat_a"
   ]
  },
  {
   "cell_type": "code",
   "execution_count": null,
   "metadata": {},
   "outputs": [],
   "source": [
    "for est in ['gradient-boosting-classifier','hist-gradient-boosting-classifier','rbf-svc']:\n",
    "    mpr.yhat.drop(est,level='estimator',inplace=True)"
   ]
  },
  {
   "cell_type": "code",
   "execution_count": null,
   "metadata": {},
   "outputs": [],
   "source": [
    "yhat_a,y_a=mpr.yhat.align(mpr.y,axis=0)"
   ]
  },
  {
   "cell_type": "code",
   "execution_count": null,
   "metadata": {},
   "outputs": [],
   "source": []
  },
  {
   "cell_type": "code",
   "execution_count": null,
   "metadata": {},
   "outputs": [],
   "source": [
    "diff=yhat_a.subtract(y_a.values,axis=0)"
   ]
  },
  {
   "cell_type": "code",
   "execution_count": null,
   "metadata": {},
   "outputs": [],
   "source": [
    "diff"
   ]
  },
  {
   "cell_type": "code",
   "execution_count": null,
   "metadata": {},
   "outputs": [],
   "source": [
    "mpr.wt_coef_df"
   ]
  },
  {
   "cell_type": "code",
   "execution_count": null,
   "metadata": {},
   "outputs": [],
   "source": [
    "wtd_coef_df"
   ]
  }
 ],
 "metadata": {
  "kernelspec": {
   "display_name": "Python 3",
   "language": "python",
   "name": "python3"
  },
  "language_info": {
   "codemirror_mode": {
    "name": "ipython",
    "version": 3
   },
   "file_extension": ".py",
   "mimetype": "text/x-python",
   "name": "python",
   "nbconvert_exporter": "python",
   "pygments_lexer": "ipython3",
   "version": "3.8.2"
  }
 },
 "nbformat": 4,
 "nbformat_minor": 4
}
