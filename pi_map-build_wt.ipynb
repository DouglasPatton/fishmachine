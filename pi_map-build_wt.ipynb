{
 "cells": [
  {
   "cell_type": "code",
   "execution_count": 1,
   "metadata": {},
   "outputs": [],
   "source": [
    "from pi_map import Mapper"
   ]
  },
  {
   "cell_type": "code",
   "execution_count": 2,
   "metadata": {},
   "outputs": [],
   "source": [
    "import pandas as pd"
   ]
  },
  {
   "cell_type": "code",
   "execution_count": 3,
   "metadata": {},
   "outputs": [],
   "source": [
    "import numpy as np"
   ]
  },
  {
   "cell_type": "code",
   "execution_count": 4,
   "metadata": {},
   "outputs": [],
   "source": [
    "import matplotlib.pyplot as plt\n",
    "from mpl_toolkits.axes_grid1 import make_axes_locatable"
   ]
  },
  {
   "cell_type": "code",
   "execution_count": 5,
   "metadata": {},
   "outputs": [],
   "source": [
    "from time import time"
   ]
  },
  {
   "cell_type": "code",
   "execution_count": 6,
   "metadata": {},
   "outputs": [],
   "source": [
    "mpr=Mapper()"
   ]
  },
  {
   "cell_type": "code",
   "execution_count": null,
   "metadata": {},
   "outputs": [],
   "source": []
  },
  {
   "cell_type": "code",
   "execution_count": 7,
   "metadata": {},
   "outputs": [
    {
     "name": "stdout",
     "output_type": "stream",
     "text": [
      "starting 10 procs\n",
      "multiprocessing complete\n",
      "concatenating dflist\n",
      "runtime: 4.317345686753591 min.\n"
     ]
    }
   ],
   "source": [
    "start=time()\n",
    "wtd_coef_df=mpr.build_wt_comid_feature_importance(rebuild=1,zzzno_fish=False) #if rebuild=int, rebuild goes back int steps, if True, goes back all steps\n",
    "end=time()\n",
    "print(f'runtime: {(end-start)/60} min.')"
   ]
  },
  {
   "cell_type": "code",
   "execution_count": null,
   "metadata": {},
   "outputs": [],
   "source": [
    "-"
   ]
  },
  {
   "cell_type": "code",
   "execution_count": null,
   "metadata": {},
   "outputs": [],
   "source": [
    "coef_df=mpr.coef_df\n",
    "scor_select=mpr.scor_select"
   ]
  },
  {
   "cell_type": "code",
   "execution_count": null,
   "metadata": {},
   "outputs": [],
   "source": [
    "scor_select.shape,scor_a.shape"
   ]
  },
  {
   "cell_type": "code",
   "execution_count": null,
   "metadata": {},
   "outputs": [],
   "source": [
    "coef_a,scor_a=coef_df.align(scor_select,axis=1)"
   ]
  },
  {
   "cell_type": "code",
   "execution_count": null,
   "metadata": {},
   "outputs": [],
   "source": [
    "coef_df.shape,coef_a.shape\n"
   ]
  },
  {
   "cell_type": "code",
   "execution_count": null,
   "metadata": {},
   "outputs": [],
   "source": [
    "coef_df.subtract(coef_a,axis=0).sum().sum()"
   ]
  },
  {
   "cell_type": "code",
   "execution_count": 8,
   "metadata": {},
   "outputs": [
    {
     "data": {
      "text/html": [
       "<div>\n",
       "<style scoped>\n",
       "    .dataframe tbody tr th:only-of-type {\n",
       "        vertical-align: middle;\n",
       "    }\n",
       "\n",
       "    .dataframe tbody tr th {\n",
       "        vertical-align: top;\n",
       "    }\n",
       "\n",
       "    .dataframe thead th {\n",
       "        text-align: right;\n",
       "    }\n",
       "</style>\n",
       "<table border=\"1\" class=\"dataframe\">\n",
       "  <thead>\n",
       "    <tr style=\"text-align: right;\">\n",
       "      <th>var</th>\n",
       "      <th>AgKffactCat</th>\n",
       "      <th>AgKffactWs</th>\n",
       "      <th>Al2O3Cat</th>\n",
       "      <th>Al2O3Ws</th>\n",
       "      <th>BFICat</th>\n",
       "      <th>BFIWs</th>\n",
       "      <th>CBNFCat</th>\n",
       "      <th>CBNFWs</th>\n",
       "      <th>CCHEM_v2_1</th>\n",
       "      <th>CCONN_v2_1</th>\n",
       "      <th>...</th>\n",
       "      <th>WCONN_v2_1</th>\n",
       "      <th>WHABT_v2_1</th>\n",
       "      <th>WHYD_v2_1</th>\n",
       "      <th>WSED_v2_1</th>\n",
       "      <th>WTEMP_v2_1</th>\n",
       "      <th>WetIndexCat</th>\n",
       "      <th>WetIndexWs</th>\n",
       "      <th>WtDepCat</th>\n",
       "      <th>WtDepWs</th>\n",
       "      <th>prG_BMMI</th>\n",
       "    </tr>\n",
       "    <tr>\n",
       "      <th>HUC12</th>\n",
       "      <th></th>\n",
       "      <th></th>\n",
       "      <th></th>\n",
       "      <th></th>\n",
       "      <th></th>\n",
       "      <th></th>\n",
       "      <th></th>\n",
       "      <th></th>\n",
       "      <th></th>\n",
       "      <th></th>\n",
       "      <th></th>\n",
       "      <th></th>\n",
       "      <th></th>\n",
       "      <th></th>\n",
       "      <th></th>\n",
       "      <th></th>\n",
       "      <th></th>\n",
       "      <th></th>\n",
       "      <th></th>\n",
       "      <th></th>\n",
       "      <th></th>\n",
       "    </tr>\n",
       "  </thead>\n",
       "  <tbody>\n",
       "    <tr>\n",
       "      <th>120903010202</th>\n",
       "      <td>1.121380</td>\n",
       "      <td>-9.432333</td>\n",
       "      <td>-8.072358</td>\n",
       "      <td>6.735796</td>\n",
       "      <td>-5.073317</td>\n",
       "      <td>13.981783</td>\n",
       "      <td>-0.952599</td>\n",
       "      <td>0.990608</td>\n",
       "      <td>0.012070</td>\n",
       "      <td>4.234152</td>\n",
       "      <td>...</td>\n",
       "      <td>3.060533</td>\n",
       "      <td>-0.299256</td>\n",
       "      <td>6.019050</td>\n",
       "      <td>-6.359948</td>\n",
       "      <td>0.933061</td>\n",
       "      <td>1.532100</td>\n",
       "      <td>1.385041</td>\n",
       "      <td>-5.416407</td>\n",
       "      <td>-0.788596</td>\n",
       "      <td>4.370315</td>\n",
       "    </tr>\n",
       "    <tr>\n",
       "      <th>120903010712</th>\n",
       "      <td>1.644228</td>\n",
       "      <td>-16.331375</td>\n",
       "      <td>-9.906460</td>\n",
       "      <td>6.857514</td>\n",
       "      <td>-5.992522</td>\n",
       "      <td>12.931946</td>\n",
       "      <td>-1.384008</td>\n",
       "      <td>4.096097</td>\n",
       "      <td>-2.211759</td>\n",
       "      <td>4.671819</td>\n",
       "      <td>...</td>\n",
       "      <td>4.150996</td>\n",
       "      <td>1.075388</td>\n",
       "      <td>7.951453</td>\n",
       "      <td>-9.267605</td>\n",
       "      <td>-5.558205</td>\n",
       "      <td>-0.124311</td>\n",
       "      <td>2.739287</td>\n",
       "      <td>-3.897425</td>\n",
       "      <td>-2.354967</td>\n",
       "      <td>2.604997</td>\n",
       "    </tr>\n",
       "    <tr>\n",
       "      <th>121002010111</th>\n",
       "      <td>0.055991</td>\n",
       "      <td>-9.243568</td>\n",
       "      <td>-6.810753</td>\n",
       "      <td>3.247987</td>\n",
       "      <td>-0.994315</td>\n",
       "      <td>12.447716</td>\n",
       "      <td>-1.698241</td>\n",
       "      <td>4.779032</td>\n",
       "      <td>0.983902</td>\n",
       "      <td>1.650072</td>\n",
       "      <td>...</td>\n",
       "      <td>4.996720</td>\n",
       "      <td>2.132755</td>\n",
       "      <td>5.696367</td>\n",
       "      <td>-3.208760</td>\n",
       "      <td>-6.362187</td>\n",
       "      <td>-0.919668</td>\n",
       "      <td>-0.135711</td>\n",
       "      <td>-4.436061</td>\n",
       "      <td>-0.240538</td>\n",
       "      <td>1.858075</td>\n",
       "    </tr>\n",
       "    <tr>\n",
       "      <th>121002010405</th>\n",
       "      <td>-0.248714</td>\n",
       "      <td>-12.357856</td>\n",
       "      <td>-5.276839</td>\n",
       "      <td>2.496731</td>\n",
       "      <td>-0.656347</td>\n",
       "      <td>10.368011</td>\n",
       "      <td>-3.683666</td>\n",
       "      <td>4.806372</td>\n",
       "      <td>0.755240</td>\n",
       "      <td>1.427473</td>\n",
       "      <td>...</td>\n",
       "      <td>6.950100</td>\n",
       "      <td>1.256302</td>\n",
       "      <td>5.794302</td>\n",
       "      <td>-6.619718</td>\n",
       "      <td>-6.180664</td>\n",
       "      <td>-0.289628</td>\n",
       "      <td>-0.218690</td>\n",
       "      <td>-4.572481</td>\n",
       "      <td>-1.191342</td>\n",
       "      <td>2.999440</td>\n",
       "    </tr>\n",
       "    <tr>\n",
       "      <th>121002020111</th>\n",
       "      <td>-1.005732</td>\n",
       "      <td>-10.245328</td>\n",
       "      <td>-11.242243</td>\n",
       "      <td>2.637734</td>\n",
       "      <td>-4.898168</td>\n",
       "      <td>13.093930</td>\n",
       "      <td>0.285863</td>\n",
       "      <td>4.294456</td>\n",
       "      <td>-2.450985</td>\n",
       "      <td>5.598994</td>\n",
       "      <td>...</td>\n",
       "      <td>2.348653</td>\n",
       "      <td>1.771820</td>\n",
       "      <td>7.539110</td>\n",
       "      <td>-8.614220</td>\n",
       "      <td>-7.339665</td>\n",
       "      <td>-0.698431</td>\n",
       "      <td>1.430252</td>\n",
       "      <td>-2.990934</td>\n",
       "      <td>-1.644281</td>\n",
       "      <td>4.516866</td>\n",
       "    </tr>\n",
       "    <tr>\n",
       "      <th>...</th>\n",
       "      <td>...</td>\n",
       "      <td>...</td>\n",
       "      <td>...</td>\n",
       "      <td>...</td>\n",
       "      <td>...</td>\n",
       "      <td>...</td>\n",
       "      <td>...</td>\n",
       "      <td>...</td>\n",
       "      <td>...</td>\n",
       "      <td>...</td>\n",
       "      <td>...</td>\n",
       "      <td>...</td>\n",
       "      <td>...</td>\n",
       "      <td>...</td>\n",
       "      <td>...</td>\n",
       "      <td>...</td>\n",
       "      <td>...</td>\n",
       "      <td>...</td>\n",
       "      <td>...</td>\n",
       "      <td>...</td>\n",
       "      <td>...</td>\n",
       "    </tr>\n",
       "    <tr>\n",
       "      <th>071300040404</th>\n",
       "      <td>-1.814637</td>\n",
       "      <td>-18.754490</td>\n",
       "      <td>-15.357116</td>\n",
       "      <td>14.145564</td>\n",
       "      <td>-5.716284</td>\n",
       "      <td>16.069165</td>\n",
       "      <td>3.818760</td>\n",
       "      <td>9.632877</td>\n",
       "      <td>3.505496</td>\n",
       "      <td>3.686526</td>\n",
       "      <td>...</td>\n",
       "      <td>-0.231047</td>\n",
       "      <td>-12.261197</td>\n",
       "      <td>2.775054</td>\n",
       "      <td>-5.070917</td>\n",
       "      <td>7.230910</td>\n",
       "      <td>-0.765921</td>\n",
       "      <td>-4.513581</td>\n",
       "      <td>-2.298940</td>\n",
       "      <td>-9.028637</td>\n",
       "      <td>12.993168</td>\n",
       "    </tr>\n",
       "    <tr>\n",
       "      <th>071300040808</th>\n",
       "      <td>0.300787</td>\n",
       "      <td>-24.275139</td>\n",
       "      <td>-14.124829</td>\n",
       "      <td>15.361569</td>\n",
       "      <td>-6.729968</td>\n",
       "      <td>15.046981</td>\n",
       "      <td>0.461285</td>\n",
       "      <td>8.069340</td>\n",
       "      <td>6.601103</td>\n",
       "      <td>4.640733</td>\n",
       "      <td>...</td>\n",
       "      <td>-1.352906</td>\n",
       "      <td>-10.362387</td>\n",
       "      <td>0.352566</td>\n",
       "      <td>-8.563539</td>\n",
       "      <td>5.027001</td>\n",
       "      <td>0.177699</td>\n",
       "      <td>-3.288772</td>\n",
       "      <td>-0.536460</td>\n",
       "      <td>-8.114475</td>\n",
       "      <td>11.999556</td>\n",
       "    </tr>\n",
       "    <tr>\n",
       "      <th>071300060404</th>\n",
       "      <td>2.894878</td>\n",
       "      <td>-21.126110</td>\n",
       "      <td>-16.529126</td>\n",
       "      <td>14.919061</td>\n",
       "      <td>-2.110143</td>\n",
       "      <td>16.911059</td>\n",
       "      <td>-0.233004</td>\n",
       "      <td>11.314492</td>\n",
       "      <td>9.904881</td>\n",
       "      <td>3.534559</td>\n",
       "      <td>...</td>\n",
       "      <td>1.084841</td>\n",
       "      <td>-6.547030</td>\n",
       "      <td>4.581925</td>\n",
       "      <td>-3.874263</td>\n",
       "      <td>0.616581</td>\n",
       "      <td>2.989842</td>\n",
       "      <td>-4.484050</td>\n",
       "      <td>-2.522285</td>\n",
       "      <td>-7.247008</td>\n",
       "      <td>6.640486</td>\n",
       "    </tr>\n",
       "    <tr>\n",
       "      <th>071300070101</th>\n",
       "      <td>3.149390</td>\n",
       "      <td>-10.850556</td>\n",
       "      <td>-6.191740</td>\n",
       "      <td>8.125208</td>\n",
       "      <td>1.043268</td>\n",
       "      <td>9.617900</td>\n",
       "      <td>0.017015</td>\n",
       "      <td>7.959533</td>\n",
       "      <td>0.598923</td>\n",
       "      <td>2.586549</td>\n",
       "      <td>...</td>\n",
       "      <td>-1.275274</td>\n",
       "      <td>-3.291060</td>\n",
       "      <td>2.843725</td>\n",
       "      <td>-2.734695</td>\n",
       "      <td>1.034463</td>\n",
       "      <td>0.553401</td>\n",
       "      <td>0.674669</td>\n",
       "      <td>-1.244973</td>\n",
       "      <td>-5.644698</td>\n",
       "      <td>5.904783</td>\n",
       "    </tr>\n",
       "    <tr>\n",
       "      <th>071300070401</th>\n",
       "      <td>3.130567</td>\n",
       "      <td>-11.877443</td>\n",
       "      <td>-4.222107</td>\n",
       "      <td>6.282428</td>\n",
       "      <td>1.033246</td>\n",
       "      <td>6.866993</td>\n",
       "      <td>2.879832</td>\n",
       "      <td>5.821672</td>\n",
       "      <td>0.595315</td>\n",
       "      <td>2.534262</td>\n",
       "      <td>...</td>\n",
       "      <td>0.700956</td>\n",
       "      <td>-5.340098</td>\n",
       "      <td>4.603477</td>\n",
       "      <td>-4.869070</td>\n",
       "      <td>-0.476085</td>\n",
       "      <td>1.738307</td>\n",
       "      <td>0.138440</td>\n",
       "      <td>-1.246998</td>\n",
       "      <td>-4.632058</td>\n",
       "      <td>5.299829</td>\n",
       "    </tr>\n",
       "  </tbody>\n",
       "</table>\n",
       "<p>11848 rows × 270 columns</p>\n",
       "</div>"
      ],
      "text/plain": [
       "var           AgKffactCat  AgKffactWs   Al2O3Cat    Al2O3Ws    BFICat  \\\n",
       "HUC12                                                                   \n",
       "120903010202     1.121380   -9.432333  -8.072358   6.735796 -5.073317   \n",
       "120903010712     1.644228  -16.331375  -9.906460   6.857514 -5.992522   \n",
       "121002010111     0.055991   -9.243568  -6.810753   3.247987 -0.994315   \n",
       "121002010405    -0.248714  -12.357856  -5.276839   2.496731 -0.656347   \n",
       "121002020111    -1.005732  -10.245328 -11.242243   2.637734 -4.898168   \n",
       "...                   ...         ...        ...        ...       ...   \n",
       "071300040404    -1.814637  -18.754490 -15.357116  14.145564 -5.716284   \n",
       "071300040808     0.300787  -24.275139 -14.124829  15.361569 -6.729968   \n",
       "071300060404     2.894878  -21.126110 -16.529126  14.919061 -2.110143   \n",
       "071300070101     3.149390  -10.850556  -6.191740   8.125208  1.043268   \n",
       "071300070401     3.130567  -11.877443  -4.222107   6.282428  1.033246   \n",
       "\n",
       "var               BFIWs   CBNFCat     CBNFWs  CCHEM_v2_1  CCONN_v2_1  ...  \\\n",
       "HUC12                                                                 ...   \n",
       "120903010202  13.981783 -0.952599   0.990608    0.012070    4.234152  ...   \n",
       "120903010712  12.931946 -1.384008   4.096097   -2.211759    4.671819  ...   \n",
       "121002010111  12.447716 -1.698241   4.779032    0.983902    1.650072  ...   \n",
       "121002010405  10.368011 -3.683666   4.806372    0.755240    1.427473  ...   \n",
       "121002020111  13.093930  0.285863   4.294456   -2.450985    5.598994  ...   \n",
       "...                 ...       ...        ...         ...         ...  ...   \n",
       "071300040404  16.069165  3.818760   9.632877    3.505496    3.686526  ...   \n",
       "071300040808  15.046981  0.461285   8.069340    6.601103    4.640733  ...   \n",
       "071300060404  16.911059 -0.233004  11.314492    9.904881    3.534559  ...   \n",
       "071300070101   9.617900  0.017015   7.959533    0.598923    2.586549  ...   \n",
       "071300070401   6.866993  2.879832   5.821672    0.595315    2.534262  ...   \n",
       "\n",
       "var           WCONN_v2_1  WHABT_v2_1  WHYD_v2_1  WSED_v2_1  WTEMP_v2_1  \\\n",
       "HUC12                                                                    \n",
       "120903010202    3.060533   -0.299256   6.019050  -6.359948    0.933061   \n",
       "120903010712    4.150996    1.075388   7.951453  -9.267605   -5.558205   \n",
       "121002010111    4.996720    2.132755   5.696367  -3.208760   -6.362187   \n",
       "121002010405    6.950100    1.256302   5.794302  -6.619718   -6.180664   \n",
       "121002020111    2.348653    1.771820   7.539110  -8.614220   -7.339665   \n",
       "...                  ...         ...        ...        ...         ...   \n",
       "071300040404   -0.231047  -12.261197   2.775054  -5.070917    7.230910   \n",
       "071300040808   -1.352906  -10.362387   0.352566  -8.563539    5.027001   \n",
       "071300060404    1.084841   -6.547030   4.581925  -3.874263    0.616581   \n",
       "071300070101   -1.275274   -3.291060   2.843725  -2.734695    1.034463   \n",
       "071300070401    0.700956   -5.340098   4.603477  -4.869070   -0.476085   \n",
       "\n",
       "var           WetIndexCat  WetIndexWs  WtDepCat   WtDepWs   prG_BMMI  \n",
       "HUC12                                                                 \n",
       "120903010202     1.532100    1.385041 -5.416407 -0.788596   4.370315  \n",
       "120903010712    -0.124311    2.739287 -3.897425 -2.354967   2.604997  \n",
       "121002010111    -0.919668   -0.135711 -4.436061 -0.240538   1.858075  \n",
       "121002010405    -0.289628   -0.218690 -4.572481 -1.191342   2.999440  \n",
       "121002020111    -0.698431    1.430252 -2.990934 -1.644281   4.516866  \n",
       "...                   ...         ...       ...       ...        ...  \n",
       "071300040404    -0.765921   -4.513581 -2.298940 -9.028637  12.993168  \n",
       "071300040808     0.177699   -3.288772 -0.536460 -8.114475  11.999556  \n",
       "071300060404     2.989842   -4.484050 -2.522285 -7.247008   6.640486  \n",
       "071300070101     0.553401    0.674669 -1.244973 -5.644698   5.904783  \n",
       "071300070401     1.738307    0.138440 -1.246998 -4.632058   5.299829  \n",
       "\n",
       "[11848 rows x 270 columns]"
      ]
     },
     "execution_count": 8,
     "metadata": {},
     "output_type": "execute_result"
    }
   ],
   "source": [
    "wtd_coef_df"
   ]
  },
  {
   "cell_type": "code",
   "execution_count": null,
   "metadata": {},
   "outputs": [],
   "source": [
    "mpr.results"
   ]
  },
  {
   "cell_type": "code",
   "execution_count": null,
   "metadata": {},
   "outputs": [],
   "source": [
    "mpr.coef_df"
   ]
  },
  {
   "cell_type": "code",
   "execution_count": null,
   "metadata": {},
   "outputs": [],
   "source": [
    "mch.huc12_adiff_scor#.loc[(slice(None),slice(None),'010100020104',slice(None)),:]"
   ]
  },
  {
   "cell_type": "code",
   "execution_count": null,
   "metadata": {},
   "outputs": [],
   "source": [
    "mch.wt"
   ]
  },
  {
   "cell_type": "code",
   "execution_count": null,
   "metadata": {},
   "outputs": [],
   "source": [
    "huc12_adiff_scor=mpr.mch_list[0].adiff_scor_chunk.loc[(slice(None),huc12,slice(None),slice(None)),:]"
   ]
  },
  {
   "cell_type": "code",
   "execution_count": null,
   "metadata": {},
   "outputs": [],
   "source": [
    "diffscor_a,fitscor=huc12_adiff_scor.align(mch.fitscor,axis=0,join='left')"
   ]
  },
  {
   "cell_type": "code",
   "execution_count": null,
   "metadata": {},
   "outputs": [],
   "source": [
    "fitscor\n"
   ]
  },
  {
   "cell_type": "code",
   "execution_count": null,
   "metadata": {},
   "outputs": [],
   "source": [
    "mch=mpr.mch_list[0]"
   ]
  },
  {
   "cell_type": "code",
   "execution_count": null,
   "metadata": {},
   "outputs": [],
   "source": [
    "huc12=mch.huc12list[0]"
   ]
  },
  {
   "cell_type": "code",
   "execution_count": null,
   "metadata": {},
   "outputs": [],
   "source": [
    "mch.huc12_adiff_scor"
   ]
  },
  {
   "cell_type": "code",
   "execution_count": null,
   "metadata": {},
   "outputs": [],
   "source": [
    "mch.adiff_scor_chunk.loc[(slice(None),huc12,slice(None),slice(None)),:]"
   ]
  },
  {
   "cell_type": "code",
   "execution_count": null,
   "metadata": {},
   "outputs": [],
   "source": []
  },
  {
   "cell_type": "code",
   "execution_count": null,
   "metadata": {},
   "outputs": [],
   "source": [
    "mpr.scor_a"
   ]
  },
  {
   "cell_type": "code",
   "execution_count": null,
   "metadata": {},
   "outputs": [],
   "source": [
    "dflist"
   ]
  },
  {
   "cell_type": "code",
   "execution_count": null,
   "metadata": {},
   "outputs": [],
   "source": [
    "y=mpr.y;yhat=mpr.yhat"
   ]
  },
  {
   "cell_type": "code",
   "execution_count": null,
   "metadata": {},
   "outputs": [],
   "source": [
    "-"
   ]
  },
  {
   "cell_type": "code",
   "execution_count": null,
   "metadata": {},
   "outputs": [],
   "source": [
    "y.iloc[-20:]"
   ]
  },
  {
   "cell_type": "code",
   "execution_count": null,
   "metadata": {},
   "outputs": [],
   "source": [
    "yhat.iloc[-20:]"
   ]
  },
  {
   "cell_type": "code",
   "execution_count": null,
   "metadata": {},
   "outputs": [],
   "source": [
    "yhat_a,y_a=yhat.align(y,axis=0)"
   ]
  },
  {
   "cell_type": "code",
   "execution_count": null,
   "metadata": {},
   "outputs": [],
   "source": [
    "yhat_aa,y_aa=yhat_a.align(y_a,axis=1,level='var')\n"
   ]
  },
  {
   "cell_type": "code",
   "execution_count": null,
   "metadata": {},
   "outputs": [],
   "source": [
    "diff=yhat_aa.subtract(y_aa)"
   ]
  },
  {
   "cell_type": "code",
   "execution_count": null,
   "metadata": {},
   "outputs": [],
   "source": [
    "diff2=(yhat_a-y_a.values)"
   ]
  },
  {
   "cell_type": "code",
   "execution_count": null,
   "metadata": {},
   "outputs": [],
   "source": [
    "ddiff=diff-diff2"
   ]
  },
  {
   "cell_type": "code",
   "execution_count": null,
   "metadata": {},
   "outputs": [],
   "source": [
    "adiff_scor=np.exp(yhat_a.subtract(y_a.values,axis=0).abs().mul(-1)) # a for abs"
   ]
  },
  {
   "cell_type": "code",
   "execution_count": null,
   "metadata": {},
   "outputs": [],
   "source": [
    "adiff_scor.head()"
   ]
  },
  {
   "cell_type": "code",
   "execution_count": null,
   "metadata": {},
   "outputs": [],
   "source": [
    "diff.iloc[-20:]"
   ]
  },
  {
   "cell_type": "code",
   "execution_count": null,
   "metadata": {},
   "outputs": [],
   "source": [
    "adiff_scor=mpr.adiff_scor\n",
    "coef_df=mpr.coef_df"
   ]
  },
  {
   "cell_type": "code",
   "execution_count": null,
   "metadata": {},
   "outputs": [],
   "source": [
    "#diffscor_coefscor=adiff_scor.join(coef_df)"
   ]
  },
  {
   "cell_type": "code",
   "execution_count": null,
   "metadata": {},
   "outputs": [],
   "source": [
    "adiff_scor.head(40)"
   ]
  },
  {
   "cell_type": "code",
   "execution_count": null,
   "metadata": {},
   "outputs": [],
   "source": []
  },
  {
   "cell_type": "code",
   "execution_count": null,
   "metadata": {},
   "outputs": [],
   "source": [
    "wtd_coef_df"
   ]
  },
  {
   "cell_type": "code",
   "execution_count": null,
   "metadata": {},
   "outputs": [],
   "source": [
    "scor_select=mpr.scor_select"
   ]
  },
  {
   "cell_type": "code",
   "execution_count": null,
   "metadata": {},
   "outputs": [],
   "source": [
    "scor_select.columns=scor_select.columns.droplevel('var')"
   ]
  },
  {
   "cell_type": "code",
   "execution_count": null,
   "metadata": {},
   "outputs": [],
   "source": [
    "coef_a,scor_a=coef_df.align(scor_select,axis=1)"
   ]
  },
  {
   "cell_type": "code",
   "execution_count": null,
   "metadata": {},
   "outputs": [],
   "source": [
    "scor_a.shape"
   ]
  },
  {
   "cell_type": "code",
   "execution_count": null,
   "metadata": {},
   "outputs": [],
   "source": [
    "normed_scor=scor_a.divide(scor_a.sum(axis=1,level='var'),axis=0)"
   ]
  },
  {
   "cell_type": "code",
   "execution_count": null,
   "metadata": {},
   "outputs": [],
   "source": [
    "normed_scor.shape"
   ]
  },
  {
   "cell_type": "code",
   "execution_count": null,
   "metadata": {},
   "outputs": [],
   "source": [
    "coef_df=mpr.coef_df"
   ]
  },
  {
   "cell_type": "code",
   "execution_count": null,
   "metadata": {},
   "outputs": [],
   "source": [
    "scor_a.shape,normed_scor.shape"
   ]
  },
  {
   "cell_type": "code",
   "execution_count": null,
   "metadata": {},
   "outputs": [],
   "source": []
  },
  {
   "cell_type": "code",
   "execution_count": null,
   "metadata": {},
   "outputs": [],
   "source": [
    "#coef_a,scor_a=coef_df.align(normed_scor,axis=1,)"
   ]
  },
  {
   "cell_type": "code",
   "execution_count": null,
   "metadata": {},
   "outputs": [],
   "source": [
    "scor_wtd_coef=coef_a.multiply(normed_scor,axis=0)"
   ]
  },
  {
   "cell_type": "code",
   "execution_count": null,
   "metadata": {},
   "outputs": [],
   "source": [
    "scor_wtd_coef.sum(axis=1,level='var')"
   ]
  },
  {
   "cell_type": "code",
   "execution_count": null,
   "metadata": {},
   "outputs": [],
   "source": [
    "coef_a"
   ]
  },
  {
   "cell_type": "code",
   "execution_count": null,
   "metadata": {},
   "outputs": [],
   "source": [
    "scor_wtd_coef.sum(axis=1,level='var').mean(axis=0)"
   ]
  },
  {
   "cell_type": "code",
   "execution_count": null,
   "metadata": {},
   "outputs": [],
   "source": []
  },
  {
   "cell_type": "code",
   "execution_count": null,
   "metadata": {},
   "outputs": [],
   "source": [
    "assert False,'pause'"
   ]
  },
  {
   "cell_type": "code",
   "execution_count": null,
   "metadata": {},
   "outputs": [],
   "source": [
    "#self.y=y;self.yhat=yhat\n",
    "y=mpr.y;yhat=mpr.yhat\n",
    "yhat_a,y_a=yhat.align(y,axis=0)\n"
   ]
  },
  {
   "cell_type": "code",
   "execution_count": null,
   "metadata": {},
   "outputs": [],
   "source": [
    "y_a"
   ]
  },
  {
   "cell_type": "code",
   "execution_count": null,
   "metadata": {},
   "outputs": [],
   "source": [
    "adiff_scor=yhat_a.subtract(y_a.values,axis=0) # a for abs"
   ]
  },
  {
   "cell_type": "code",
   "execution_count": null,
   "metadata": {},
   "outputs": [],
   "source": [
    "adiff_scor"
   ]
  },
  {
   "cell_type": "code",
   "execution_count": null,
   "metadata": {},
   "outputs": [],
   "source": [
    "wtd_coef_df=mpr.wtd_coef_df"
   ]
  },
  {
   "cell_type": "code",
   "execution_count": null,
   "metadata": {},
   "outputs": [],
   "source": [
    "scorwtd_coef_df=mpr.scorwtd_coef_df\n"
   ]
  },
  {
   "cell_type": "code",
   "execution_count": null,
   "metadata": {},
   "outputs": [],
   "source": [
    "print(list(scorwtd_coef_df.columns.levels[0]))"
   ]
  },
  {
   "cell_type": "code",
   "execution_count": null,
   "metadata": {},
   "outputs": [],
   "source": [
    "adiff.dtypes"
   ]
  },
  {
   "cell_type": "code",
   "execution_count": null,
   "metadata": {},
   "outputs": [],
   "source": [
    "#scorwtd_coef_df_a,adiff_a=scorwtd_coef_df.align(adiff,axis=0,join='right')"
   ]
  },
  {
   "cell_type": "code",
   "execution_count": null,
   "metadata": {},
   "outputs": [],
   "source": [
    "wtd_coef_df=scorwtd_coef_df.multiply(adiff,axis=0)"
   ]
  },
  {
   "cell_type": "code",
   "execution_count": null,
   "metadata": {},
   "outputs": [],
   "source": []
  },
  {
   "cell_type": "code",
   "execution_count": null,
   "metadata": {},
   "outputs": [],
   "source": [
    "yhat_a"
   ]
  },
  {
   "cell_type": "code",
   "execution_count": null,
   "metadata": {},
   "outputs": [],
   "source": [
    "for est in ['gradient-boosting-classifier','hist-gradient-boosting-classifier','rbf-svc']:\n",
    "    mpr.yhat.drop(est,level='estimator',inplace=True)"
   ]
  },
  {
   "cell_type": "code",
   "execution_count": null,
   "metadata": {},
   "outputs": [],
   "source": [
    "yhat_a,y_a=mpr.yhat.align(mpr.y,axis=0)"
   ]
  },
  {
   "cell_type": "code",
   "execution_count": null,
   "metadata": {},
   "outputs": [],
   "source": []
  },
  {
   "cell_type": "code",
   "execution_count": null,
   "metadata": {},
   "outputs": [],
   "source": [
    "diff=yhat_a.subtract(y_a.values,axis=0)"
   ]
  },
  {
   "cell_type": "code",
   "execution_count": null,
   "metadata": {},
   "outputs": [],
   "source": [
    "diff"
   ]
  },
  {
   "cell_type": "code",
   "execution_count": null,
   "metadata": {},
   "outputs": [],
   "source": [
    "mpr.wt_coef_df"
   ]
  },
  {
   "cell_type": "code",
   "execution_count": null,
   "metadata": {},
   "outputs": [],
   "source": [
    "wtd_coef_df"
   ]
  }
 ],
 "metadata": {
  "kernelspec": {
   "display_name": "Python 3",
   "language": "python",
   "name": "python3"
  },
  "language_info": {
   "codemirror_mode": {
    "name": "ipython",
    "version": 3
   },
   "file_extension": ".py",
   "mimetype": "text/x-python",
   "name": "python",
   "nbconvert_exporter": "python",
   "pygments_lexer": "ipython3",
   "version": "3.8.2"
  }
 },
 "nbformat": 4,
 "nbformat_minor": 4
}
