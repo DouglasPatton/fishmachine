{
 "cells": [
  {
   "cell_type": "code",
   "execution_count": 4,
   "metadata": {},
   "outputs": [],
   "source": [
    "from time import time"
   ]
  },
  {
   "cell_type": "code",
   "execution_count": 5,
   "metadata": {},
   "outputs": [],
   "source": [
    "from pi_results import PiResults"
   ]
  },
  {
   "cell_type": "code",
   "execution_count": 6,
   "metadata": {},
   "outputs": [],
   "source": [
    "pr=PiResults()\n"
   ]
  },
  {
   "cell_type": "code",
   "execution_count": 7,
   "metadata": {},
   "outputs": [
    {
     "name": "stdout",
     "output_type": "stream",
     "text": [
      "runtime: 0.17257891496022543 min.\n"
     ]
    }
   ],
   "source": [
    "start=time()\n",
    "wtd_coef_df=pr.build_wt_comid_feature_importance(rebuild=0,return_weights=True,zzzno_fish=False,spec_wt='even',fit_scorer='f1_micro') #if rebuild=int, rebuild goes back int steps, if True, goes back all steps\n",
    "end=time()\n",
    "print(f'runtime: {(end-start)/60} min.')"
   ]
  },
  {
   "cell_type": "code",
   "execution_count": 8,
   "metadata": {},
   "outputs": [
    {
     "data": {
      "text/html": [
       "<div>\n",
       "<style scoped>\n",
       "    .dataframe tbody tr th:only-of-type {\n",
       "        vertical-align: middle;\n",
       "    }\n",
       "\n",
       "    .dataframe tbody tr th {\n",
       "        vertical-align: top;\n",
       "    }\n",
       "\n",
       "    .dataframe thead tr th {\n",
       "        text-align: left;\n",
       "    }\n",
       "\n",
       "    .dataframe thead tr:last-of-type th {\n",
       "        text-align: right;\n",
       "    }\n",
       "</style>\n",
       "<table border=\"1\" class=\"dataframe\">\n",
       "  <thead>\n",
       "    <tr>\n",
       "      <th></th>\n",
       "      <th></th>\n",
       "      <th></th>\n",
       "      <th>rep_idx</th>\n",
       "      <th colspan=\"5\" halign=\"left\">0</th>\n",
       "      <th colspan=\"5\" halign=\"left\">1</th>\n",
       "      <th>...</th>\n",
       "      <th colspan=\"5\" halign=\"left\">21</th>\n",
       "      <th colspan=\"5\" halign=\"left\">22</th>\n",
       "    </tr>\n",
       "    <tr>\n",
       "      <th></th>\n",
       "      <th></th>\n",
       "      <th></th>\n",
       "      <th>split_idx</th>\n",
       "      <th>0</th>\n",
       "      <th>1</th>\n",
       "      <th>2</th>\n",
       "      <th>3</th>\n",
       "      <th>4</th>\n",
       "      <th>0</th>\n",
       "      <th>1</th>\n",
       "      <th>2</th>\n",
       "      <th>3</th>\n",
       "      <th>4</th>\n",
       "      <th>...</th>\n",
       "      <th>0</th>\n",
       "      <th>1</th>\n",
       "      <th>2</th>\n",
       "      <th>3</th>\n",
       "      <th>4</th>\n",
       "      <th>0</th>\n",
       "      <th>1</th>\n",
       "      <th>2</th>\n",
       "      <th>3</th>\n",
       "      <th>4</th>\n",
       "    </tr>\n",
       "    <tr>\n",
       "      <th></th>\n",
       "      <th></th>\n",
       "      <th></th>\n",
       "      <th>var</th>\n",
       "      <th>y</th>\n",
       "      <th>y</th>\n",
       "      <th>y</th>\n",
       "      <th>y</th>\n",
       "      <th>y</th>\n",
       "      <th>y</th>\n",
       "      <th>y</th>\n",
       "      <th>y</th>\n",
       "      <th>y</th>\n",
       "      <th>y</th>\n",
       "      <th>...</th>\n",
       "      <th>y</th>\n",
       "      <th>y</th>\n",
       "      <th>y</th>\n",
       "      <th>y</th>\n",
       "      <th>y</th>\n",
       "      <th>y</th>\n",
       "      <th>y</th>\n",
       "      <th>y</th>\n",
       "      <th>y</th>\n",
       "      <th>y</th>\n",
       "    </tr>\n",
       "    <tr>\n",
       "      <th>species</th>\n",
       "      <th>HUC12</th>\n",
       "      <th>COMID</th>\n",
       "      <th>estimator</th>\n",
       "      <th></th>\n",
       "      <th></th>\n",
       "      <th></th>\n",
       "      <th></th>\n",
       "      <th></th>\n",
       "      <th></th>\n",
       "      <th></th>\n",
       "      <th></th>\n",
       "      <th></th>\n",
       "      <th></th>\n",
       "      <th></th>\n",
       "      <th></th>\n",
       "      <th></th>\n",
       "      <th></th>\n",
       "      <th></th>\n",
       "      <th></th>\n",
       "      <th></th>\n",
       "      <th></th>\n",
       "      <th></th>\n",
       "      <th></th>\n",
       "      <th></th>\n",
       "    </tr>\n",
       "  </thead>\n",
       "  <tbody>\n",
       "    <tr>\n",
       "      <th rowspan=\"5\" valign=\"top\">alosa aestivalis</th>\n",
       "      <th rowspan=\"2\" valign=\"top\">010200050706</th>\n",
       "      <th rowspan=\"2\" valign=\"top\">1735618</th>\n",
       "      <th>linear-svc</th>\n",
       "      <td>NaN</td>\n",
       "      <td>0.043982</td>\n",
       "      <td>NaN</td>\n",
       "      <td>NaN</td>\n",
       "      <td>NaN</td>\n",
       "      <td>NaN</td>\n",
       "      <td>NaN</td>\n",
       "      <td>NaN</td>\n",
       "      <td>NaN</td>\n",
       "      <td>0.043163</td>\n",
       "      <td>...</td>\n",
       "      <td>NaN</td>\n",
       "      <td>0.043249</td>\n",
       "      <td>NaN</td>\n",
       "      <td>NaN</td>\n",
       "      <td>NaN</td>\n",
       "      <td>NaN</td>\n",
       "      <td>NaN</td>\n",
       "      <td>0.043574</td>\n",
       "      <td>NaN</td>\n",
       "      <td>NaN</td>\n",
       "    </tr>\n",
       "    <tr>\n",
       "      <th>logistic-reg</th>\n",
       "      <td>NaN</td>\n",
       "      <td>0.043881</td>\n",
       "      <td>NaN</td>\n",
       "      <td>NaN</td>\n",
       "      <td>NaN</td>\n",
       "      <td>NaN</td>\n",
       "      <td>NaN</td>\n",
       "      <td>NaN</td>\n",
       "      <td>NaN</td>\n",
       "      <td>0.044944</td>\n",
       "      <td>...</td>\n",
       "      <td>NaN</td>\n",
       "      <td>NaN</td>\n",
       "      <td>NaN</td>\n",
       "      <td>0.043554</td>\n",
       "      <td>NaN</td>\n",
       "      <td>NaN</td>\n",
       "      <td>NaN</td>\n",
       "      <td>NaN</td>\n",
       "      <td>0.043390</td>\n",
       "      <td>NaN</td>\n",
       "    </tr>\n",
       "    <tr>\n",
       "      <th rowspan=\"2\" valign=\"top\">010300030904</th>\n",
       "      <th rowspan=\"2\" valign=\"top\">3323290</th>\n",
       "      <th>linear-svc</th>\n",
       "      <td>NaN</td>\n",
       "      <td>NaN</td>\n",
       "      <td>0.043191</td>\n",
       "      <td>NaN</td>\n",
       "      <td>NaN</td>\n",
       "      <td>0.043191</td>\n",
       "      <td>NaN</td>\n",
       "      <td>NaN</td>\n",
       "      <td>NaN</td>\n",
       "      <td>NaN</td>\n",
       "      <td>...</td>\n",
       "      <td>NaN</td>\n",
       "      <td>0.043355</td>\n",
       "      <td>NaN</td>\n",
       "      <td>NaN</td>\n",
       "      <td>NaN</td>\n",
       "      <td>NaN</td>\n",
       "      <td>NaN</td>\n",
       "      <td>NaN</td>\n",
       "      <td>0.043355</td>\n",
       "      <td>NaN</td>\n",
       "    </tr>\n",
       "    <tr>\n",
       "      <th>logistic-reg</th>\n",
       "      <td>NaN</td>\n",
       "      <td>NaN</td>\n",
       "      <td>0.044898</td>\n",
       "      <td>NaN</td>\n",
       "      <td>NaN</td>\n",
       "      <td>NaN</td>\n",
       "      <td>0.042690</td>\n",
       "      <td>NaN</td>\n",
       "      <td>NaN</td>\n",
       "      <td>NaN</td>\n",
       "      <td>...</td>\n",
       "      <td>NaN</td>\n",
       "      <td>0.043426</td>\n",
       "      <td>NaN</td>\n",
       "      <td>NaN</td>\n",
       "      <td>NaN</td>\n",
       "      <td>NaN</td>\n",
       "      <td>NaN</td>\n",
       "      <td>NaN</td>\n",
       "      <td>0.043344</td>\n",
       "      <td>NaN</td>\n",
       "    </tr>\n",
       "    <tr>\n",
       "      <th>010300031602</th>\n",
       "      <th>3320216</th>\n",
       "      <th>linear-svc</th>\n",
       "      <td>NaN</td>\n",
       "      <td>NaN</td>\n",
       "      <td>0.043164</td>\n",
       "      <td>NaN</td>\n",
       "      <td>NaN</td>\n",
       "      <td>NaN</td>\n",
       "      <td>0.043653</td>\n",
       "      <td>NaN</td>\n",
       "      <td>NaN</td>\n",
       "      <td>NaN</td>\n",
       "      <td>...</td>\n",
       "      <td>NaN</td>\n",
       "      <td>NaN</td>\n",
       "      <td>NaN</td>\n",
       "      <td>0.043409</td>\n",
       "      <td>NaN</td>\n",
       "      <td>0.044143</td>\n",
       "      <td>NaN</td>\n",
       "      <td>NaN</td>\n",
       "      <td>NaN</td>\n",
       "      <td>NaN</td>\n",
       "    </tr>\n",
       "    <tr>\n",
       "      <th>...</th>\n",
       "      <th>...</th>\n",
       "      <th>...</th>\n",
       "      <th>...</th>\n",
       "      <td>...</td>\n",
       "      <td>...</td>\n",
       "      <td>...</td>\n",
       "      <td>...</td>\n",
       "      <td>...</td>\n",
       "      <td>...</td>\n",
       "      <td>...</td>\n",
       "      <td>...</td>\n",
       "      <td>...</td>\n",
       "      <td>...</td>\n",
       "      <td>...</td>\n",
       "      <td>...</td>\n",
       "      <td>...</td>\n",
       "      <td>...</td>\n",
       "      <td>...</td>\n",
       "      <td>...</td>\n",
       "      <td>...</td>\n",
       "      <td>...</td>\n",
       "      <td>...</td>\n",
       "      <td>...</td>\n",
       "      <td>...</td>\n",
       "    </tr>\n",
       "    <tr>\n",
       "      <th rowspan=\"5\" valign=\"top\">salvelinus fontinalis</th>\n",
       "      <th>180901020209</th>\n",
       "      <th>20275095</th>\n",
       "      <th>logistic-reg</th>\n",
       "      <td>NaN</td>\n",
       "      <td>NaN</td>\n",
       "      <td>1.000000</td>\n",
       "      <td>NaN</td>\n",
       "      <td>NaN</td>\n",
       "      <td>NaN</td>\n",
       "      <td>NaN</td>\n",
       "      <td>NaN</td>\n",
       "      <td>NaN</td>\n",
       "      <td>NaN</td>\n",
       "      <td>...</td>\n",
       "      <td>NaN</td>\n",
       "      <td>NaN</td>\n",
       "      <td>NaN</td>\n",
       "      <td>NaN</td>\n",
       "      <td>NaN</td>\n",
       "      <td>NaN</td>\n",
       "      <td>NaN</td>\n",
       "      <td>NaN</td>\n",
       "      <td>NaN</td>\n",
       "      <td>NaN</td>\n",
       "    </tr>\n",
       "    <tr>\n",
       "      <th rowspan=\"2\" valign=\"top\">180901030101</th>\n",
       "      <th rowspan=\"2\" valign=\"top\">20265507</th>\n",
       "      <th>linear-svc</th>\n",
       "      <td>1.0</td>\n",
       "      <td>NaN</td>\n",
       "      <td>NaN</td>\n",
       "      <td>NaN</td>\n",
       "      <td>NaN</td>\n",
       "      <td>NaN</td>\n",
       "      <td>NaN</td>\n",
       "      <td>NaN</td>\n",
       "      <td>NaN</td>\n",
       "      <td>NaN</td>\n",
       "      <td>...</td>\n",
       "      <td>NaN</td>\n",
       "      <td>NaN</td>\n",
       "      <td>NaN</td>\n",
       "      <td>NaN</td>\n",
       "      <td>NaN</td>\n",
       "      <td>NaN</td>\n",
       "      <td>NaN</td>\n",
       "      <td>NaN</td>\n",
       "      <td>NaN</td>\n",
       "      <td>NaN</td>\n",
       "    </tr>\n",
       "    <tr>\n",
       "      <th>logistic-reg</th>\n",
       "      <td>1.0</td>\n",
       "      <td>NaN</td>\n",
       "      <td>NaN</td>\n",
       "      <td>NaN</td>\n",
       "      <td>NaN</td>\n",
       "      <td>NaN</td>\n",
       "      <td>NaN</td>\n",
       "      <td>NaN</td>\n",
       "      <td>NaN</td>\n",
       "      <td>NaN</td>\n",
       "      <td>...</td>\n",
       "      <td>NaN</td>\n",
       "      <td>NaN</td>\n",
       "      <td>NaN</td>\n",
       "      <td>NaN</td>\n",
       "      <td>NaN</td>\n",
       "      <td>NaN</td>\n",
       "      <td>NaN</td>\n",
       "      <td>NaN</td>\n",
       "      <td>NaN</td>\n",
       "      <td>NaN</td>\n",
       "    </tr>\n",
       "    <tr>\n",
       "      <th rowspan=\"2\" valign=\"top\">180901030107</th>\n",
       "      <th rowspan=\"2\" valign=\"top\">20267041</th>\n",
       "      <th>linear-svc</th>\n",
       "      <td>1.0</td>\n",
       "      <td>NaN</td>\n",
       "      <td>NaN</td>\n",
       "      <td>NaN</td>\n",
       "      <td>NaN</td>\n",
       "      <td>NaN</td>\n",
       "      <td>NaN</td>\n",
       "      <td>NaN</td>\n",
       "      <td>NaN</td>\n",
       "      <td>NaN</td>\n",
       "      <td>...</td>\n",
       "      <td>NaN</td>\n",
       "      <td>NaN</td>\n",
       "      <td>NaN</td>\n",
       "      <td>NaN</td>\n",
       "      <td>NaN</td>\n",
       "      <td>NaN</td>\n",
       "      <td>NaN</td>\n",
       "      <td>NaN</td>\n",
       "      <td>NaN</td>\n",
       "      <td>NaN</td>\n",
       "    </tr>\n",
       "    <tr>\n",
       "      <th>logistic-reg</th>\n",
       "      <td>NaN</td>\n",
       "      <td>NaN</td>\n",
       "      <td>1.000000</td>\n",
       "      <td>NaN</td>\n",
       "      <td>NaN</td>\n",
       "      <td>NaN</td>\n",
       "      <td>NaN</td>\n",
       "      <td>NaN</td>\n",
       "      <td>NaN</td>\n",
       "      <td>NaN</td>\n",
       "      <td>...</td>\n",
       "      <td>NaN</td>\n",
       "      <td>NaN</td>\n",
       "      <td>NaN</td>\n",
       "      <td>NaN</td>\n",
       "      <td>NaN</td>\n",
       "      <td>NaN</td>\n",
       "      <td>NaN</td>\n",
       "      <td>NaN</td>\n",
       "      <td>NaN</td>\n",
       "      <td>NaN</td>\n",
       "    </tr>\n",
       "  </tbody>\n",
       "</table>\n",
       "<p>4209241 rows × 115 columns</p>\n",
       "</div>"
      ],
      "text/plain": [
       "rep_idx                                                    0             \\\n",
       "split_idx                                                   0         1   \n",
       "var                                                         y         y   \n",
       "species               HUC12        COMID    estimator                     \n",
       "alosa aestivalis      010200050706 1735618  linear-svc    NaN  0.043982   \n",
       "                                            logistic-reg  NaN  0.043881   \n",
       "                      010300030904 3323290  linear-svc    NaN       NaN   \n",
       "                                            logistic-reg  NaN       NaN   \n",
       "                      010300031602 3320216  linear-svc    NaN       NaN   \n",
       "...                                                       ...       ...   \n",
       "salvelinus fontinalis 180901020209 20275095 logistic-reg  NaN       NaN   \n",
       "                      180901030101 20265507 linear-svc    1.0       NaN   \n",
       "                                            logistic-reg  1.0       NaN   \n",
       "                      180901030107 20267041 linear-svc    1.0       NaN   \n",
       "                                            logistic-reg  NaN       NaN   \n",
       "\n",
       "rep_idx                                                                     \\\n",
       "split_idx                                                        2   3   4   \n",
       "var                                                              y   y   y   \n",
       "species               HUC12        COMID    estimator                        \n",
       "alosa aestivalis      010200050706 1735618  linear-svc         NaN NaN NaN   \n",
       "                                            logistic-reg       NaN NaN NaN   \n",
       "                      010300030904 3323290  linear-svc    0.043191 NaN NaN   \n",
       "                                            logistic-reg  0.044898 NaN NaN   \n",
       "                      010300031602 3320216  linear-svc    0.043164 NaN NaN   \n",
       "...                                                            ...  ..  ..   \n",
       "salvelinus fontinalis 180901020209 20275095 logistic-reg  1.000000 NaN NaN   \n",
       "                      180901030101 20265507 linear-svc         NaN NaN NaN   \n",
       "                                            logistic-reg       NaN NaN NaN   \n",
       "                      180901030107 20267041 linear-svc         NaN NaN NaN   \n",
       "                                            logistic-reg  1.000000 NaN NaN   \n",
       "\n",
       "rep_idx                                                         1             \\\n",
       "split_idx                                                        0         1   \n",
       "var                                                              y         y   \n",
       "species               HUC12        COMID    estimator                          \n",
       "alosa aestivalis      010200050706 1735618  linear-svc         NaN       NaN   \n",
       "                                            logistic-reg       NaN       NaN   \n",
       "                      010300030904 3323290  linear-svc    0.043191       NaN   \n",
       "                                            logistic-reg       NaN  0.042690   \n",
       "                      010300031602 3320216  linear-svc         NaN  0.043653   \n",
       "...                                                            ...       ...   \n",
       "salvelinus fontinalis 180901020209 20275095 logistic-reg       NaN       NaN   \n",
       "                      180901030101 20265507 linear-svc         NaN       NaN   \n",
       "                                            logistic-reg       NaN       NaN   \n",
       "                      180901030107 20267041 linear-svc         NaN       NaN   \n",
       "                                            logistic-reg       NaN       NaN   \n",
       "\n",
       "rep_idx                                                                     \\\n",
       "split_idx                                                  2   3         4   \n",
       "var                                                        y   y         y   \n",
       "species               HUC12        COMID    estimator                        \n",
       "alosa aestivalis      010200050706 1735618  linear-svc   NaN NaN  0.043163   \n",
       "                                            logistic-reg NaN NaN  0.044944   \n",
       "                      010300030904 3323290  linear-svc   NaN NaN       NaN   \n",
       "                                            logistic-reg NaN NaN       NaN   \n",
       "                      010300031602 3320216  linear-svc   NaN NaN       NaN   \n",
       "...                                                       ..  ..       ...   \n",
       "salvelinus fontinalis 180901020209 20275095 logistic-reg NaN NaN       NaN   \n",
       "                      180901030101 20265507 linear-svc   NaN NaN       NaN   \n",
       "                                            logistic-reg NaN NaN       NaN   \n",
       "                      180901030107 20267041 linear-svc   NaN NaN       NaN   \n",
       "                                            logistic-reg NaN NaN       NaN   \n",
       "\n",
       "rep_idx                                                   ...  21            \\\n",
       "split_idx                                                 ...   0         1   \n",
       "var                                                       ...   y         y   \n",
       "species               HUC12        COMID    estimator     ...                 \n",
       "alosa aestivalis      010200050706 1735618  linear-svc    ... NaN  0.043249   \n",
       "                                            logistic-reg  ... NaN       NaN   \n",
       "                      010300030904 3323290  linear-svc    ... NaN  0.043355   \n",
       "                                            logistic-reg  ... NaN  0.043426   \n",
       "                      010300031602 3320216  linear-svc    ... NaN       NaN   \n",
       "...                                                       ...  ..       ...   \n",
       "salvelinus fontinalis 180901020209 20275095 logistic-reg  ... NaN       NaN   \n",
       "                      180901030101 20265507 linear-svc    ... NaN       NaN   \n",
       "                                            logistic-reg  ... NaN       NaN   \n",
       "                      180901030107 20267041 linear-svc    ... NaN       NaN   \n",
       "                                            logistic-reg  ... NaN       NaN   \n",
       "\n",
       "rep_idx                                                                     \\\n",
       "split_idx                                                  2         3   4   \n",
       "var                                                        y         y   y   \n",
       "species               HUC12        COMID    estimator                        \n",
       "alosa aestivalis      010200050706 1735618  linear-svc   NaN       NaN NaN   \n",
       "                                            logistic-reg NaN  0.043554 NaN   \n",
       "                      010300030904 3323290  linear-svc   NaN       NaN NaN   \n",
       "                                            logistic-reg NaN       NaN NaN   \n",
       "                      010300031602 3320216  linear-svc   NaN  0.043409 NaN   \n",
       "...                                                       ..       ...  ..   \n",
       "salvelinus fontinalis 180901020209 20275095 logistic-reg NaN       NaN NaN   \n",
       "                      180901030101 20265507 linear-svc   NaN       NaN NaN   \n",
       "                                            logistic-reg NaN       NaN NaN   \n",
       "                      180901030107 20267041 linear-svc   NaN       NaN NaN   \n",
       "                                            logistic-reg NaN       NaN NaN   \n",
       "\n",
       "rep_idx                                                         22      \\\n",
       "split_idx                                                        0   1   \n",
       "var                                                              y   y   \n",
       "species               HUC12        COMID    estimator                    \n",
       "alosa aestivalis      010200050706 1735618  linear-svc         NaN NaN   \n",
       "                                            logistic-reg       NaN NaN   \n",
       "                      010300030904 3323290  linear-svc         NaN NaN   \n",
       "                                            logistic-reg       NaN NaN   \n",
       "                      010300031602 3320216  linear-svc    0.044143 NaN   \n",
       "...                                                            ...  ..   \n",
       "salvelinus fontinalis 180901020209 20275095 logistic-reg       NaN NaN   \n",
       "                      180901030101 20265507 linear-svc         NaN NaN   \n",
       "                                            logistic-reg       NaN NaN   \n",
       "                      180901030107 20267041 linear-svc         NaN NaN   \n",
       "                                            logistic-reg       NaN NaN   \n",
       "\n",
       "rep_idx                                                                       \\\n",
       "split_idx                                                        2         3   \n",
       "var                                                              y         y   \n",
       "species               HUC12        COMID    estimator                          \n",
       "alosa aestivalis      010200050706 1735618  linear-svc    0.043574       NaN   \n",
       "                                            logistic-reg       NaN  0.043390   \n",
       "                      010300030904 3323290  linear-svc         NaN  0.043355   \n",
       "                                            logistic-reg       NaN  0.043344   \n",
       "                      010300031602 3320216  linear-svc         NaN       NaN   \n",
       "...                                                            ...       ...   \n",
       "salvelinus fontinalis 180901020209 20275095 logistic-reg       NaN       NaN   \n",
       "                      180901030101 20265507 linear-svc         NaN       NaN   \n",
       "                                            logistic-reg       NaN       NaN   \n",
       "                      180901030107 20267041 linear-svc         NaN       NaN   \n",
       "                                            logistic-reg       NaN       NaN   \n",
       "\n",
       "rep_idx                                                       \n",
       "split_idx                                                  4  \n",
       "var                                                        y  \n",
       "species               HUC12        COMID    estimator         \n",
       "alosa aestivalis      010200050706 1735618  linear-svc   NaN  \n",
       "                                            logistic-reg NaN  \n",
       "                      010300030904 3323290  linear-svc   NaN  \n",
       "                                            logistic-reg NaN  \n",
       "                      010300031602 3320216  linear-svc   NaN  \n",
       "...                                                       ..  \n",
       "salvelinus fontinalis 180901020209 20275095 logistic-reg NaN  \n",
       "                      180901030101 20265507 linear-svc   NaN  \n",
       "                                            logistic-reg NaN  \n",
       "                      180901030107 20267041 linear-svc   NaN  \n",
       "                                            logistic-reg NaN  \n",
       "\n",
       "[4209241 rows x 115 columns]"
      ]
     },
     "execution_count": 8,
     "metadata": {},
     "output_type": "execute_result"
    }
   ],
   "source": [
    "wtd_coef_df"
   ]
  },
  {
   "cell_type": "code",
   "execution_count": 11,
   "metadata": {},
   "outputs": [
    {
     "ename": "SyntaxError",
     "evalue": "invalid syntax (<ipython-input-11-60215a10e730>, line 1)",
     "output_type": "error",
     "traceback": [
      "\u001b[0;36m  File \u001b[0;32m\"<ipython-input-11-60215a10e730>\"\u001b[0;36m, line \u001b[0;32m1\u001b[0m\n\u001b[0;31m    -\u001b[0m\n\u001b[0m     ^\u001b[0m\n\u001b[0;31mSyntaxError\u001b[0m\u001b[0;31m:\u001b[0m invalid syntax\n"
     ]
    }
   ],
   "source": [
    "-"
   ]
  },
  {
   "cell_type": "code",
   "execution_count": null,
   "metadata": {},
   "outputs": [],
   "source": []
  },
  {
   "cell_type": "code",
   "execution_count": null,
   "metadata": {},
   "outputs": [],
   "source": [
    "mch=mpr.mch_list[0]"
   ]
  },
  {
   "cell_type": "code",
   "execution_count": null,
   "metadata": {},
   "outputs": [],
   "source": [
    "mch.hucwt_varwt_coef"
   ]
  },
  {
   "cell_type": "code",
   "execution_count": null,
   "metadata": {},
   "outputs": [],
   "source": [
    "varwt_coef=mch.varwt_coef\n",
    "normwt_huc=mch.normwt_huc"
   ]
  },
  {
   "cell_type": "code",
   "execution_count": null,
   "metadata": {},
   "outputs": [],
   "source": [
    "varwt_coef.shape,normwt_huc.shape"
   ]
  },
  {
   "cell_type": "code",
   "execution_count": null,
   "metadata": {},
   "outputs": [],
   "source": [
    "normwt_huc"
   ]
  },
  {
   "cell_type": "code",
   "execution_count": null,
   "metadata": {},
   "outputs": [],
   "source": [
    "varwt_coef"
   ]
  },
  {
   "cell_type": "code",
   "execution_count": null,
   "metadata": {},
   "outputs": [],
   "source": [
    "wt2_coef=varwt_coef.mul(normwt_huc.values,axis=0)\n",
    "wt2_coef"
   ]
  },
  {
   "cell_type": "code",
   "execution_count": null,
   "metadata": {},
   "outputs": [],
   "source": []
  },
  {
   "cell_type": "code",
   "execution_count": null,
   "metadata": {},
   "outputs": [],
   "source": [
    "mch.wt2_coef"
   ]
  },
  {
   "cell_type": "code",
   "execution_count": null,
   "metadata": {},
   "outputs": [],
   "source": [
    "mch.wt"
   ]
  },
  {
   "cell_type": "code",
   "execution_count": null,
   "metadata": {},
   "outputs": [],
   "source": [
    "mch.coef_df"
   ]
  },
  {
   "cell_type": "code",
   "execution_count": null,
   "metadata": {},
   "outputs": [],
   "source": [
    "mch.wt"
   ]
  },
  {
   "cell_type": "code",
   "execution_count": null,
   "metadata": {},
   "outputs": [],
   "source": [
    "sorder=np.argsort(mch.wt.sum(axis=1))\n",
    "mch.wt.iloc[sorder[-20:]]"
   ]
  },
  {
   "cell_type": "code",
   "execution_count": null,
   "metadata": {},
   "outputs": [],
   "source": [
    "coef_df=mch.coef_df\n",
    "\n",
    "normwt_var=mch.normwt_var"
   ]
  },
  {
   "cell_type": "code",
   "execution_count": null,
   "metadata": {},
   "outputs": [],
   "source": [
    "coef_df.columns.levels[0]"
   ]
  },
  {
   "cell_type": "code",
   "execution_count": null,
   "metadata": {},
   "outputs": [],
   "source": [
    "normwt_var"
   ]
  },
  {
   "cell_type": "code",
   "execution_count": null,
   "metadata": {},
   "outputs": [],
   "source": [
    "mch.normwt_huc"
   ]
  },
  {
   "cell_type": "code",
   "execution_count": null,
   "metadata": {},
   "outputs": [],
   "source": [
    "\n",
    "coef_df,normwt_var=coef_df.align(normwt_var,axis=0,join='right')\n",
    "coef_df,normwt_var=coef_df.align(normwt_var,axis=1)\n"
   ]
  },
  {
   "cell_type": "code",
   "execution_count": null,
   "metadata": {},
   "outputs": [],
   "source": []
  },
  {
   "cell_type": "code",
   "execution_count": null,
   "metadata": {},
   "outputs": [],
   "source": [
    "wt_coef=coef_df.mul(normwt_var,axis=0)\n",
    "wt_coef"
   ]
  },
  {
   "cell_type": "code",
   "execution_count": null,
   "metadata": {},
   "outputs": [],
   "source": [
    "wt_coef.iloc[:40]"
   ]
  },
  {
   "cell_type": "code",
   "execution_count": null,
   "metadata": {},
   "outputs": [],
   "source": [
    "mch.varwt_coef"
   ]
  },
  {
   "cell_type": "code",
   "execution_count": null,
   "metadata": {},
   "outputs": [],
   "source": [
    "mpr.result\n"
   ]
  },
  {
   "cell_type": "code",
   "execution_count": null,
   "metadata": {},
   "outputs": [],
   "source": []
  },
  {
   "cell_type": "code",
   "execution_count": null,
   "metadata": {},
   "outputs": [],
   "source": []
  },
  {
   "cell_type": "code",
   "execution_count": null,
   "metadata": {},
   "outputs": [],
   "source": []
  },
  {
   "cell_type": "code",
   "execution_count": null,
   "metadata": {},
   "outputs": [],
   "source": [
    "coef_mean=mpr.coef_df.mean(axis=1,level='var').mean(axis=0)"
   ]
  },
  {
   "cell_type": "code",
   "execution_count": null,
   "metadata": {},
   "outputs": [],
   "source": [
    "order=np.argsort(coef_mean)\n",
    "coef_mean.iloc[order]\n",
    "\n",
    "\n"
   ]
  },
  {
   "cell_type": "code",
   "execution_count": null,
   "metadata": {},
   "outputs": [],
   "source": [
    "mpr.scor_select"
   ]
  },
  {
   "cell_type": "code",
   "execution_count": null,
   "metadata": {},
   "outputs": [],
   "source": []
  },
  {
   "cell_type": "code",
   "execution_count": null,
   "metadata": {},
   "outputs": [],
   "source": []
  },
  {
   "cell_type": "code",
   "execution_count": null,
   "metadata": {},
   "outputs": [],
   "source": [
    "coef_df=mpr.coef_df\n",
    "scor_select=mpr.scor_select"
   ]
  },
  {
   "cell_type": "code",
   "execution_count": null,
   "metadata": {},
   "outputs": [],
   "source": [
    "scor_select.shape,scor_a.shape"
   ]
  },
  {
   "cell_type": "code",
   "execution_count": null,
   "metadata": {},
   "outputs": [],
   "source": [
    "coef_a,scor_a=coef_df.align(scor_select,axis=1)"
   ]
  },
  {
   "cell_type": "code",
   "execution_count": null,
   "metadata": {},
   "outputs": [],
   "source": [
    "coef_df.shape,coef_a.shape\n"
   ]
  },
  {
   "cell_type": "code",
   "execution_count": null,
   "metadata": {},
   "outputs": [],
   "source": [
    "coef_df.subtract(coef_a,axis=0).sum().sum()"
   ]
  },
  {
   "cell_type": "code",
   "execution_count": null,
   "metadata": {},
   "outputs": [],
   "source": [
    "wtd_coef_df"
   ]
  },
  {
   "cell_type": "code",
   "execution_count": null,
   "metadata": {},
   "outputs": [],
   "source": [
    "mpr.results"
   ]
  },
  {
   "cell_type": "code",
   "execution_count": null,
   "metadata": {},
   "outputs": [],
   "source": [
    "mpr.coef_df"
   ]
  },
  {
   "cell_type": "code",
   "execution_count": null,
   "metadata": {},
   "outputs": [],
   "source": [
    "mch.huc12_adiff_scor#.loc[(slice(None),slice(None),'010100020104',slice(None)),:]"
   ]
  },
  {
   "cell_type": "code",
   "execution_count": null,
   "metadata": {},
   "outputs": [],
   "source": [
    "mch.wt"
   ]
  },
  {
   "cell_type": "code",
   "execution_count": null,
   "metadata": {},
   "outputs": [],
   "source": [
    "huc12_adiff_scor=mpr.mch_list[0].adiff_scor_chunk.loc[(slice(None),huc12,slice(None),slice(None)),:]"
   ]
  },
  {
   "cell_type": "code",
   "execution_count": null,
   "metadata": {},
   "outputs": [],
   "source": [
    "diffscor_a,fitscor=huc12_adiff_scor.align(mch.fitscor,axis=0,join='left')"
   ]
  },
  {
   "cell_type": "code",
   "execution_count": null,
   "metadata": {},
   "outputs": [],
   "source": [
    "fitscor\n"
   ]
  },
  {
   "cell_type": "code",
   "execution_count": null,
   "metadata": {},
   "outputs": [],
   "source": [
    "mch=mpr.mch_list[0]"
   ]
  },
  {
   "cell_type": "code",
   "execution_count": null,
   "metadata": {},
   "outputs": [],
   "source": [
    "huc12=mch.huc12list[0]"
   ]
  },
  {
   "cell_type": "code",
   "execution_count": null,
   "metadata": {},
   "outputs": [],
   "source": [
    "mch.huc12_adiff_scor"
   ]
  },
  {
   "cell_type": "code",
   "execution_count": null,
   "metadata": {},
   "outputs": [],
   "source": [
    "mch.adiff_scor_chunk.loc[(slice(None),huc12,slice(None),slice(None)),:]"
   ]
  },
  {
   "cell_type": "code",
   "execution_count": null,
   "metadata": {},
   "outputs": [],
   "source": []
  },
  {
   "cell_type": "code",
   "execution_count": null,
   "metadata": {},
   "outputs": [],
   "source": [
    "mpr.scor_a"
   ]
  },
  {
   "cell_type": "code",
   "execution_count": null,
   "metadata": {},
   "outputs": [],
   "source": [
    "dflist"
   ]
  },
  {
   "cell_type": "code",
   "execution_count": null,
   "metadata": {},
   "outputs": [],
   "source": [
    "y=mpr.y;yhat=mpr.yhat"
   ]
  },
  {
   "cell_type": "code",
   "execution_count": null,
   "metadata": {},
   "outputs": [],
   "source": [
    "-"
   ]
  },
  {
   "cell_type": "code",
   "execution_count": null,
   "metadata": {},
   "outputs": [],
   "source": [
    "y.iloc[-20:]"
   ]
  },
  {
   "cell_type": "code",
   "execution_count": null,
   "metadata": {},
   "outputs": [],
   "source": [
    "yhat.iloc[-20:]"
   ]
  },
  {
   "cell_type": "code",
   "execution_count": null,
   "metadata": {},
   "outputs": [],
   "source": [
    "yhat_a,y_a=yhat.align(y,axis=0)"
   ]
  },
  {
   "cell_type": "code",
   "execution_count": null,
   "metadata": {},
   "outputs": [],
   "source": [
    "yhat_aa,y_aa=yhat_a.align(y_a,axis=1,level='var')\n"
   ]
  },
  {
   "cell_type": "code",
   "execution_count": null,
   "metadata": {},
   "outputs": [],
   "source": [
    "diff=yhat_aa.subtract(y_aa)"
   ]
  },
  {
   "cell_type": "code",
   "execution_count": null,
   "metadata": {},
   "outputs": [],
   "source": [
    "diff2=(yhat_a-y_a.values)"
   ]
  },
  {
   "cell_type": "code",
   "execution_count": null,
   "metadata": {},
   "outputs": [],
   "source": [
    "ddiff=diff-diff2"
   ]
  },
  {
   "cell_type": "code",
   "execution_count": null,
   "metadata": {},
   "outputs": [],
   "source": [
    "adiff_scor=np.exp(yhat_a.subtract(y_a.values,axis=0).abs().mul(-1)) # a for abs"
   ]
  },
  {
   "cell_type": "code",
   "execution_count": null,
   "metadata": {},
   "outputs": [],
   "source": [
    "adiff_scor.head()"
   ]
  },
  {
   "cell_type": "code",
   "execution_count": null,
   "metadata": {},
   "outputs": [],
   "source": [
    "diff.iloc[-20:]"
   ]
  },
  {
   "cell_type": "code",
   "execution_count": null,
   "metadata": {},
   "outputs": [],
   "source": [
    "adiff_scor=mpr.adiff_scor\n",
    "coef_df=mpr.coef_df"
   ]
  },
  {
   "cell_type": "code",
   "execution_count": null,
   "metadata": {},
   "outputs": [],
   "source": [
    "#diffscor_coefscor=adiff_scor.join(coef_df)"
   ]
  },
  {
   "cell_type": "code",
   "execution_count": null,
   "metadata": {},
   "outputs": [],
   "source": [
    "adiff_scor.head(40)"
   ]
  },
  {
   "cell_type": "code",
   "execution_count": null,
   "metadata": {},
   "outputs": [],
   "source": []
  },
  {
   "cell_type": "code",
   "execution_count": null,
   "metadata": {},
   "outputs": [],
   "source": [
    "wtd_coef_df"
   ]
  },
  {
   "cell_type": "code",
   "execution_count": null,
   "metadata": {},
   "outputs": [],
   "source": [
    "scor_select=mpr.scor_select"
   ]
  },
  {
   "cell_type": "code",
   "execution_count": null,
   "metadata": {},
   "outputs": [],
   "source": [
    "scor_select.columns=scor_select.columns.droplevel('var')"
   ]
  },
  {
   "cell_type": "code",
   "execution_count": null,
   "metadata": {},
   "outputs": [],
   "source": [
    "coef_a,scor_a=coef_df.align(scor_select,axis=1)"
   ]
  },
  {
   "cell_type": "code",
   "execution_count": null,
   "metadata": {},
   "outputs": [],
   "source": [
    "scor_a.shape"
   ]
  },
  {
   "cell_type": "code",
   "execution_count": null,
   "metadata": {},
   "outputs": [],
   "source": [
    "normed_scor=scor_a.divide(scor_a.sum(axis=1,level='var'),axis=0)"
   ]
  },
  {
   "cell_type": "code",
   "execution_count": null,
   "metadata": {},
   "outputs": [],
   "source": [
    "normed_scor.shape"
   ]
  },
  {
   "cell_type": "code",
   "execution_count": null,
   "metadata": {},
   "outputs": [],
   "source": [
    "coef_df=mpr.coef_df"
   ]
  },
  {
   "cell_type": "code",
   "execution_count": null,
   "metadata": {},
   "outputs": [],
   "source": [
    "scor_a.shape,normed_scor.shape"
   ]
  },
  {
   "cell_type": "code",
   "execution_count": null,
   "metadata": {},
   "outputs": [],
   "source": []
  },
  {
   "cell_type": "code",
   "execution_count": null,
   "metadata": {},
   "outputs": [],
   "source": [
    "#coef_a,scor_a=coef_df.align(normed_scor,axis=1,)"
   ]
  },
  {
   "cell_type": "code",
   "execution_count": null,
   "metadata": {},
   "outputs": [],
   "source": [
    "scor_wtd_coef=coef_a.multiply(normed_scor,axis=0)"
   ]
  },
  {
   "cell_type": "code",
   "execution_count": null,
   "metadata": {},
   "outputs": [],
   "source": [
    "scor_wtd_coef.sum(axis=1,level='var')"
   ]
  },
  {
   "cell_type": "code",
   "execution_count": null,
   "metadata": {},
   "outputs": [],
   "source": [
    "coef_a"
   ]
  },
  {
   "cell_type": "code",
   "execution_count": null,
   "metadata": {},
   "outputs": [],
   "source": [
    "scor_wtd_coef.sum(axis=1,level='var').mean(axis=0)"
   ]
  },
  {
   "cell_type": "code",
   "execution_count": null,
   "metadata": {},
   "outputs": [],
   "source": []
  },
  {
   "cell_type": "code",
   "execution_count": null,
   "metadata": {},
   "outputs": [],
   "source": [
    "assert False,'pause'"
   ]
  },
  {
   "cell_type": "code",
   "execution_count": null,
   "metadata": {},
   "outputs": [],
   "source": [
    "#self.y=y;self.yhat=yhat\n",
    "y=mpr.y;yhat=mpr.yhat\n",
    "yhat_a,y_a=yhat.align(y,axis=0)\n"
   ]
  },
  {
   "cell_type": "code",
   "execution_count": null,
   "metadata": {},
   "outputs": [],
   "source": [
    "y_a"
   ]
  },
  {
   "cell_type": "code",
   "execution_count": null,
   "metadata": {},
   "outputs": [],
   "source": [
    "adiff_scor=yhat_a.subtract(y_a.values,axis=0) # a for abs"
   ]
  },
  {
   "cell_type": "code",
   "execution_count": null,
   "metadata": {},
   "outputs": [],
   "source": [
    "adiff_scor"
   ]
  },
  {
   "cell_type": "code",
   "execution_count": null,
   "metadata": {},
   "outputs": [],
   "source": [
    "wtd_coef_df=mpr.wtd_coef_df"
   ]
  },
  {
   "cell_type": "code",
   "execution_count": null,
   "metadata": {},
   "outputs": [],
   "source": [
    "scorwtd_coef_df=mpr.scorwtd_coef_df\n"
   ]
  },
  {
   "cell_type": "code",
   "execution_count": null,
   "metadata": {},
   "outputs": [],
   "source": [
    "print(list(scorwtd_coef_df.columns.levels[0]))"
   ]
  },
  {
   "cell_type": "code",
   "execution_count": null,
   "metadata": {},
   "outputs": [],
   "source": [
    "adiff.dtypes"
   ]
  },
  {
   "cell_type": "code",
   "execution_count": null,
   "metadata": {},
   "outputs": [],
   "source": [
    "#scorwtd_coef_df_a,adiff_a=scorwtd_coef_df.align(adiff,axis=0,join='right')"
   ]
  },
  {
   "cell_type": "code",
   "execution_count": null,
   "metadata": {},
   "outputs": [],
   "source": [
    "wtd_coef_df=scorwtd_coef_df.multiply(adiff,axis=0)"
   ]
  },
  {
   "cell_type": "code",
   "execution_count": null,
   "metadata": {},
   "outputs": [],
   "source": []
  },
  {
   "cell_type": "code",
   "execution_count": null,
   "metadata": {},
   "outputs": [],
   "source": [
    "yhat_a"
   ]
  },
  {
   "cell_type": "code",
   "execution_count": null,
   "metadata": {},
   "outputs": [],
   "source": [
    "for est in ['gradient-boosting-classifier','hist-gradient-boosting-classifier','rbf-svc']:\n",
    "    mpr.yhat.drop(est,level='estimator',inplace=True)"
   ]
  },
  {
   "cell_type": "code",
   "execution_count": null,
   "metadata": {},
   "outputs": [],
   "source": [
    "yhat_a,y_a=mpr.yhat.align(mpr.y,axis=0)"
   ]
  },
  {
   "cell_type": "code",
   "execution_count": null,
   "metadata": {},
   "outputs": [],
   "source": []
  },
  {
   "cell_type": "code",
   "execution_count": null,
   "metadata": {},
   "outputs": [],
   "source": [
    "diff=yhat_a.subtract(y_a.values,axis=0)"
   ]
  },
  {
   "cell_type": "code",
   "execution_count": null,
   "metadata": {},
   "outputs": [],
   "source": [
    "diff"
   ]
  },
  {
   "cell_type": "code",
   "execution_count": null,
   "metadata": {},
   "outputs": [],
   "source": [
    "mpr.wt_coef_df"
   ]
  },
  {
   "cell_type": "code",
   "execution_count": null,
   "metadata": {},
   "outputs": [],
   "source": [
    "wtd_coef_df"
   ]
  }
 ],
 "metadata": {
  "kernelspec": {
   "display_name": "Python 3",
   "language": "python",
   "name": "python3"
  },
  "language_info": {
   "codemirror_mode": {
    "name": "ipython",
    "version": 3
   },
   "file_extension": ".py",
   "mimetype": "text/x-python",
   "name": "python",
   "nbconvert_exporter": "python",
   "pygments_lexer": "ipython3",
   "version": "3.8.2"
  }
 },
 "nbformat": 4,
 "nbformat_minor": 4
}
