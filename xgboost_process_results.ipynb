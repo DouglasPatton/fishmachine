{
 "cells": [
  {
   "cell_type": "code",
   "execution_count": 1,
   "metadata": {},
   "outputs": [],
   "source": [
    "from xgboost_process import XgboostProcessTool\n",
    "import os"
   ]
  },
  {
   "cell_type": "code",
   "execution_count": 2,
   "metadata": {},
   "outputs": [],
   "source": [
    "xgb_tool=XgboostProcessTool()\n"
   ]
  },
  {
   "cell_type": "code",
   "execution_count": 3,
   "metadata": {},
   "outputs": [
    {
     "name": "stdout",
     "output_type": "stream",
     "text": [
      "opening C:\\Users\\DPatton\\gits\\kernelkernel\\data_tool\\XGBoost_AllData_Output.csv with length:2984723 and type:<class 'list'>\n",
      "<class 'list'>\n",
      "[OrderedDict([('', '1'), ('species_name', 'NA'), ('COMID', 'NA'), ('presence', 'NA'), ('WA', 'NA'), ('Elev', 'NA'), ('BMMI', 'NA'), ('IWI', 'NA'), ('Slope', 'NA'), ('p_hat', 'NA')]), OrderedDict([('', '10615'), ('species_name', 'acantharchus pomotis'), ('COMID', '6250616.A'), ('presence', '0'), ('WA', '55.2537'), ('Elev', '105.6674409'), ('BMMI', '0.142'), ('IWI', '0.549843601'), ('Slope', '0.00319587'), ('p_hat', '0.0394157096743584')]), OrderedDict([('', '19722'), ('species_name', 'acantharchus pomotis'), ('COMID', '11571978.A'), ('presence', '1'), ('WA', '62.1189'), ('Elev', '42.50844743'), ('BMMI', '0.640666667'), ('IWI', '0.620458381'), ('Slope', '0.00081914'), ('p_hat', '0.255660265684128')]), OrderedDict([('', '27132'), ('species_name', 'acantharchus pomotis'), ('COMID', '14348520.A'), ('presence', '0'), ('WA', '30326.2281'), ('Elev', '147.1345754'), ('BMMI', 'NA'), ('IWI', '0.695972645'), ('Slope', '7.204e-05'), ('p_hat', '0.026740375906229')]), OrderedDict([('', '3836'), ('species_name', 'acantharchus pomotis'), ('COMID', '2587891.A'), ('presence', '0'), ('WA', '4.6692'), ('Elev', '196.9110197'), ('BMMI', 'NA'), ('IWI', '0.299442219'), ('Slope', '0.01288791'), ('p_hat', '0.00941097177565098')]), OrderedDict([('', '10505'), ('species_name', 'acantharchus pomotis'), ('COMID', '6245398.A'), ('presence', '0'), ('WA', '7.0173'), ('Elev', '285.7396819'), ('BMMI', 'NA'), ('IWI', '0.48582639'), ('Slope', '0.02685282'), ('p_hat', '0.0126355104148388')]), OrderedDict([('', '15240'), ('species_name', 'acantharchus pomotis'), ('COMID', '8889706.A'), ('presence', '1'), ('WA', '36.648'), ('Elev', '272.0270007'), ('BMMI', 'NA'), ('IWI', '0.33400093'), ('Slope', '1e-05'), ('p_hat', '0.125358626246452')]), OrderedDict([('', '2633'), ('species_name', 'acantharchus pomotis'), ('COMID', '1951471.A'), ('presence', '0'), ('WA', '13612.9023'), ('Elev', '155.0559775'), ('BMMI', '0.694666667'), ('IWI', '0.551183213'), ('Slope', '1e-05'), ('p_hat', '0.0799217224121094')]), OrderedDict([('', '10627'), ('species_name', 'acantharchus pomotis'), ('COMID', '6250844.B'), ('presence', '0'), ('WA', '14.1165'), ('Elev', '123.6549544'), ('BMMI', '0.416'), ('IWI', '0.393703047'), ('Slope', '0.01293439'), ('p_hat', '0.021968612447381')]), OrderedDict([('', '18120'), ('species_name', 'acantharchus pomotis'), ('COMID', '9958376.A'), ('presence', '0'), ('WA', '118.1547'), ('Elev', '128.7512366'), ('BMMI', 'NA'), ('IWI', '0.566017915'), ('Slope', '0.0012855'), ('p_hat', '0.0642720013856888')])]\n"
     ]
    },
    {
     "ename": "AttributeError",
     "evalue": "'XgboostProcessTool' object has no attribute 'logger'",
     "output_type": "error",
     "traceback": [
      "\u001b[1;31m---------------------------------------------------------------------------\u001b[0m",
      "\u001b[1;31mAttributeError\u001b[0m                            Traceback (most recent call last)",
      "\u001b[1;32m<ipython-input-3-889f9929ba01>\u001b[0m in \u001b[0;36m<module>\u001b[1;34m\u001b[0m\n\u001b[0;32m      1\u001b[0m \u001b[0mpath\u001b[0m\u001b[1;33m=\u001b[0m\u001b[0mos\u001b[0m\u001b[1;33m.\u001b[0m\u001b[0mpath\u001b[0m\u001b[1;33m.\u001b[0m\u001b[0mjoin\u001b[0m\u001b[1;33m(\u001b[0m\u001b[0mos\u001b[0m\u001b[1;33m.\u001b[0m\u001b[0mgetcwd\u001b[0m\u001b[1;33m(\u001b[0m\u001b[1;33m)\u001b[0m\u001b[1;33m,\u001b[0m\u001b[1;34m'data_tool'\u001b[0m\u001b[1;33m,\u001b[0m\u001b[1;34m'XGBoost_AllData_Output.csv'\u001b[0m\u001b[1;33m)\u001b[0m\u001b[1;33m\u001b[0m\u001b[1;33m\u001b[0m\u001b[0m\n\u001b[1;32m----> 2\u001b[1;33m \u001b[0mxgb_tool\u001b[0m\u001b[1;33m.\u001b[0m\u001b[0mpreprocess_xgboost_csv\u001b[0m\u001b[1;33m(\u001b[0m\u001b[0mpath\u001b[0m\u001b[1;33m)\u001b[0m\u001b[1;33m\u001b[0m\u001b[1;33m\u001b[0m\u001b[0m\n\u001b[0m",
      "\u001b[1;32m~\\gits\\kernelkernel\\xgboost_process.py\u001b[0m in \u001b[0;36mpreprocess_xgboost_csv\u001b[1;34m(self, filename)\u001b[0m\n\u001b[0;32m     20\u001b[0m             \u001b[0mspec_name\u001b[0m\u001b[1;33m=\u001b[0m\u001b[0mrow\u001b[0m\u001b[1;33m[\u001b[0m\u001b[1;34m'species_name'\u001b[0m\u001b[1;33m]\u001b[0m\u001b[1;33m\u001b[0m\u001b[1;33m\u001b[0m\u001b[0m\n\u001b[0;32m     21\u001b[0m             \u001b[1;32mif\u001b[0m \u001b[0mspec_name\u001b[0m \u001b[1;32mnot\u001b[0m \u001b[1;32min\u001b[0m \u001b[0mspec_idx_dict\u001b[0m\u001b[1;33m:\u001b[0m\u001b[1;33m\u001b[0m\u001b[1;33m\u001b[0m\u001b[0m\n\u001b[1;32m---> 22\u001b[1;33m                 \u001b[0mself\u001b[0m\u001b[1;33m.\u001b[0m\u001b[0mlogger\u001b[0m\u001b[1;33m.\u001b[0m\u001b[0mcritical\u001b[0m\u001b[1;33m(\u001b[0m\u001b[1;34mf'spec_name:{spec_name} not found in spec_idx_dict'\u001b[0m\u001b[1;33m)\u001b[0m\u001b[1;33m\u001b[0m\u001b[1;33m\u001b[0m\u001b[0m\n\u001b[0m\u001b[0;32m     23\u001b[0m                 \u001b[0mmismatchlist\u001b[0m\u001b[1;33m.\u001b[0m\u001b[0mappend\u001b[0m\u001b[1;33m(\u001b[0m\u001b[1;33m(\u001b[0m\u001b[0mspec_name\u001b[0m\u001b[1;33m,\u001b[0m\u001b[0midx\u001b[0m\u001b[1;33m)\u001b[0m\u001b[1;33m)\u001b[0m\u001b[1;33m\u001b[0m\u001b[1;33m\u001b[0m\u001b[0m\n\u001b[0;32m     24\u001b[0m                 \u001b[0mspec_row_dict\u001b[0m\u001b[1;33m[\u001b[0m\u001b[0mspec_name\u001b[0m\u001b[1;33m]\u001b[0m\u001b[1;33m=\u001b[0m\u001b[1;33m[\u001b[0m\u001b[1;33m]\u001b[0m\u001b[1;33m\u001b[0m\u001b[1;33m\u001b[0m\u001b[0m\n",
      "\u001b[1;31mAttributeError\u001b[0m: 'XgboostProcessTool' object has no attribute 'logger'"
     ]
    }
   ],
   "source": [
    "path=os.path.join(os.getcwd(),'data_tool','XGBoost_AllData_Output.csv')\n",
    "xgb_tool.preprocess_xgboost_csv(path)"
   ]
  },
  {
   "cell_type": "code",
   "execution_count": null,
   "metadata": {},
   "outputs": [],
   "source": []
  }
 ],
 "metadata": {
  "kernelspec": {
   "display_name": "Python 3",
   "language": "python",
   "name": "python3"
  },
  "language_info": {
   "codemirror_mode": {
    "name": "ipython",
    "version": 3
   },
   "file_extension": ".py",
   "mimetype": "text/x-python",
   "name": "python",
   "nbconvert_exporter": "python",
   "pygments_lexer": "ipython3",
   "version": "3.7.4"
  }
 },
 "nbformat": 4,
 "nbformat_minor": 4
}
