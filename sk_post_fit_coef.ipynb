{
 "cells": [
  {
   "cell_type": "code",
   "execution_count": 1,
   "metadata": {},
   "outputs": [],
   "source": [
    "from pi_db_tool import DBTool"
   ]
  },
  {
   "cell_type": "code",
   "execution_count": 2,
   "metadata": {},
   "outputs": [],
   "source": [
    "import numpy as np"
   ]
  },
  {
   "cell_type": "code",
   "execution_count": 3,
   "metadata": {},
   "outputs": [],
   "source": [
    "from datagen import dataGenerator"
   ]
  },
  {
   "cell_type": "code",
   "execution_count": 4,
   "metadata": {},
   "outputs": [],
   "source": [
    "dbt=DBTool()"
   ]
  },
  {
   "cell_type": "code",
   "execution_count": 5,
   "metadata": {},
   "outputs": [],
   "source": [
    "hash_id_list = list(dbt.resultsDBdict().keys())"
   ]
  },
  {
   "cell_type": "code",
   "execution_count": 6,
   "metadata": {},
   "outputs": [],
   "source": [
    "a_model_dict=dbt.resultsDBdict()[hash_id_list[1]]"
   ]
  },
  {
   "cell_type": "code",
   "execution_count": 7,
   "metadata": {},
   "outputs": [],
   "source": [
    "#data=dataGenerator(a_model_dict['data_gen'])"
   ]
  },
  {
   "cell_type": "code",
   "execution_count": 8,
   "metadata": {},
   "outputs": [],
   "source": [
    "#del a_model_dict['model']['estimator'][0].est"
   ]
  },
  {
   "cell_type": "code",
   "execution_count": 9,
   "metadata": {},
   "outputs": [],
   "source": [
    "from pi_results import PiResults"
   ]
  },
  {
   "cell_type": "code",
   "execution_count": 10,
   "metadata": {},
   "outputs": [],
   "source": [
    "pr=PiResults()\n"
   ]
  },
  {
   "cell_type": "code",
   "execution_count": 16,
   "metadata": {},
   "outputs": [],
   "source": [
    "coef_df=pr.get_cv_coef_df(a_model_dict)\n"
   ]
  },
  {
   "cell_type": "code",
   "execution_count": 18,
   "metadata": {},
   "outputs": [],
   "source": [
    "mean_coef=coef_df.mean(axis=1)"
   ]
  },
  {
   "cell_type": "code",
   "execution_count": 34,
   "metadata": {},
   "outputs": [],
   "source": [
    "sorted=np.argsort(mean_coef.abs(),axis=0)"
   ]
  },
  {
   "cell_type": "code",
   "execution_count": 35,
   "metadata": {},
   "outputs": [],
   "source": [
    "sorted_mean_coef=mean_coef.iloc[sorted[::-1]]"
   ]
  },
  {
   "cell_type": "code",
   "execution_count": 37,
   "metadata": {},
   "outputs": [
    {
     "data": {
      "text/plain": [
       "semotilus lumbee  logistic-reg  PctConifWs_avg             0.528262\n",
       "                                PctShrbWsRp100_avg        -0.504195\n",
       "                                MgOWs                      0.501843\n",
       "                                PctGrsCatRp100_avg        -0.378984\n",
       "                                PctShrbCat_avg             0.375276\n",
       "                                PctConifCatRp100_avg       0.348123\n",
       "                                PctNonCarbResidCat         0.330077\n",
       "                                PctOwWsRp100_avg           0.298701\n",
       "                                PctFrstLossCatRp100_avg   -0.289233\n",
       "                                PctConifWsRp100_avg        0.273010\n",
       "                                PctGrsWsRp100_avg         -0.266471\n",
       "                                OmCat                     -0.233716\n",
       "                                SWs                       -0.230680\n",
       "                                HydrlCondCat               0.223040\n",
       "                                HydrlCondWs                0.219300\n",
       "                                PermCat                    0.217519\n",
       "                                SuperfundDensWs           -0.208687\n",
       "                                NO3_Ws_avg                -0.207844\n",
       "                                WSED_v2_1                  0.206781\n",
       "                                Precip08Cat               -0.199805\n",
       "                                CSED_v2_1                  0.198360\n",
       "                                PctBlWs_avg               -0.196578\n",
       "                                PctAlluvCoastWs            0.191650\n",
       "                                NO3_Cat_avg               -0.190185\n",
       "                                DamDensWs                 -0.183620\n",
       "                                NCat                      -0.178842\n",
       "                                PctUrbMdWs_avg            -0.173142\n",
       "                                PctMxFstCat_avg           -0.172105\n",
       "                                Slope                      0.170600\n",
       "                                CHABT_v2_1                 0.169750\n",
       "dtype: float64"
      ]
     },
     "execution_count": 37,
     "metadata": {},
     "output_type": "execute_result"
    }
   ],
   "source": [
    "sorted_mean_coef.head(30)"
   ]
  },
  {
   "cell_type": "code",
   "execution_count": 12,
   "metadata": {},
   "outputs": [
    {
     "data": {
      "text/plain": [
       "[Pipeline(steps=[('prep', missingValHandler(strategy='impute_knn_10')),\n",
       "                 ('scaler', StandardScaler()),\n",
       "                 ('clf', LogisticRegressionCV(penalty='l1', solver='saga'))]),\n",
       " Pipeline(steps=[('prep', missingValHandler(strategy='impute_knn_10')),\n",
       "                 ('scaler', StandardScaler()),\n",
       "                 ('clf', LogisticRegressionCV(penalty='l1', solver='saga'))]),\n",
       " Pipeline(steps=[('prep', missingValHandler(strategy='impute_knn_10')),\n",
       "                 ('scaler', StandardScaler()),\n",
       "                 ('clf', LogisticRegressionCV(penalty='l1', solver='saga'))]),\n",
       " Pipeline(steps=[('prep', missingValHandler(strategy='impute_knn_10')),\n",
       "                 ('scaler', StandardScaler()),\n",
       "                 ('clf', LogisticRegressionCV(penalty='l1', solver='saga'))]),\n",
       " Pipeline(steps=[('prep', missingValHandler(strategy='impute_knn_10')),\n",
       "                 ('scaler', StandardScaler()),\n",
       "                 ('clf', LogisticRegressionCV(penalty='l1', solver='saga'))])]"
      ]
     },
     "execution_count": 12,
     "metadata": {},
     "output_type": "execute_result"
    }
   ],
   "source": [
    "pr.fit_est_list"
   ]
  },
  {
   "cell_type": "code",
   "execution_count": 13,
   "metadata": {},
   "outputs": [],
   "source": [
    "est0=pr.fit_est_list[0]"
   ]
  },
  {
   "cell_type": "code",
   "execution_count": 14,
   "metadata": {},
   "outputs": [
    {
     "ename": "TypeError",
     "evalue": "predict() missing 1 required positional argument: 'X'",
     "output_type": "error",
     "traceback": [
      "\u001b[0;31m---------------------------------------------------------------------------\u001b[0m",
      "\u001b[0;31mTypeError\u001b[0m                                 Traceback (most recent call last)",
      "\u001b[0;32m<ipython-input-14-d3450e43d7ee>\u001b[0m in \u001b[0;36m<module>\u001b[0;34m\u001b[0m\n\u001b[0;32m----> 1\u001b[0;31m \u001b[0mest0\u001b[0m\u001b[0;34m.\u001b[0m\u001b[0mpredict\u001b[0m\u001b[0;34m(\u001b[0m\u001b[0;34m)\u001b[0m\u001b[0;34m\u001b[0m\u001b[0;34m\u001b[0m\u001b[0m\n\u001b[0m",
      "\u001b[0;32m~/anaconda3/envs/kernel/lib/python3.8/site-packages/sklearn/utils/metaestimators.py\u001b[0m in \u001b[0;36m<lambda>\u001b[0;34m(*args, **kwargs)\u001b[0m\n\u001b[1;32m    117\u001b[0m \u001b[0;34m\u001b[0m\u001b[0m\n\u001b[1;32m    118\u001b[0m         \u001b[0;31m# lambda, but not partial, allows help() to work with update_wrapper\u001b[0m\u001b[0;34m\u001b[0m\u001b[0;34m\u001b[0m\u001b[0;34m\u001b[0m\u001b[0m\n\u001b[0;32m--> 119\u001b[0;31m         \u001b[0mout\u001b[0m \u001b[0;34m=\u001b[0m \u001b[0;32mlambda\u001b[0m \u001b[0;34m*\u001b[0m\u001b[0margs\u001b[0m\u001b[0;34m,\u001b[0m \u001b[0;34m**\u001b[0m\u001b[0mkwargs\u001b[0m\u001b[0;34m:\u001b[0m \u001b[0mself\u001b[0m\u001b[0;34m.\u001b[0m\u001b[0mfn\u001b[0m\u001b[0;34m(\u001b[0m\u001b[0mobj\u001b[0m\u001b[0;34m,\u001b[0m \u001b[0;34m*\u001b[0m\u001b[0margs\u001b[0m\u001b[0;34m,\u001b[0m \u001b[0;34m**\u001b[0m\u001b[0mkwargs\u001b[0m\u001b[0;34m)\u001b[0m\u001b[0;34m\u001b[0m\u001b[0;34m\u001b[0m\u001b[0m\n\u001b[0m\u001b[1;32m    120\u001b[0m         \u001b[0;31m# update the docstring of the returned function\u001b[0m\u001b[0;34m\u001b[0m\u001b[0;34m\u001b[0m\u001b[0;34m\u001b[0m\u001b[0m\n\u001b[1;32m    121\u001b[0m         \u001b[0mupdate_wrapper\u001b[0m\u001b[0;34m(\u001b[0m\u001b[0mout\u001b[0m\u001b[0;34m,\u001b[0m \u001b[0mself\u001b[0m\u001b[0;34m.\u001b[0m\u001b[0mfn\u001b[0m\u001b[0;34m)\u001b[0m\u001b[0;34m\u001b[0m\u001b[0;34m\u001b[0m\u001b[0m\n",
      "\u001b[0;31mTypeError\u001b[0m: predict() missing 1 required positional argument: 'X'"
     ]
    }
   ],
   "source": [
    "est0.predict()"
   ]
  },
  {
   "cell_type": "code",
   "execution_count": null,
   "metadata": {},
   "outputs": [],
   "source": [
    "est0"
   ]
  },
  {
   "cell_type": "code",
   "execution_count": null,
   "metadata": {},
   "outputs": [],
   "source": []
  }
 ],
 "metadata": {
  "kernelspec": {
   "display_name": "Python 3",
   "language": "python",
   "name": "python3"
  },
  "language_info": {
   "codemirror_mode": {
    "name": "ipython",
    "version": 3
   },
   "file_extension": ".py",
   "mimetype": "text/x-python",
   "name": "python",
   "nbconvert_exporter": "python",
   "pygments_lexer": "ipython3",
   "version": "3.8.2"
  }
 },
 "nbformat": 4,
 "nbformat_minor": 4
}
