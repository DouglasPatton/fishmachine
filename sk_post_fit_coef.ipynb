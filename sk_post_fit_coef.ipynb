{
 "cells": [
  {
   "cell_type": "code",
   "execution_count": 7,
   "metadata": {},
   "outputs": [
    {
     "ename": "IndentationError",
     "evalue": "expected an indented block (sk_tool.py, line 125)",
     "output_type": "error",
     "traceback": [
      "Traceback \u001b[0;36m(most recent call last)\u001b[0m:\n",
      "  File \u001b[1;32m\"/home/dp/anaconda3/envs/kernel/lib/python3.8/site-packages/IPython/core/interactiveshell.py\"\u001b[0m, line \u001b[1;32m3417\u001b[0m, in \u001b[1;35mrun_code\u001b[0m\n    exec(code_obj, self.user_global_ns, self.user_ns)\n",
      "\u001b[0;36m  File \u001b[0;32m\"<ipython-input-7-a648f14f931a>\"\u001b[0;36m, line \u001b[0;32m1\u001b[0;36m, in \u001b[0;35m<module>\u001b[0;36m\u001b[0m\n\u001b[0;31m    from sk_tool import SkTool,SkPostFit\u001b[0m\n",
      "\u001b[0;36m  File \u001b[0;32m\"/home/dp/hdd2/gits/kernelkernel/sk_tool.py\"\u001b[0;36m, line \u001b[0;32m125\u001b[0m\n\u001b[0;31m    def do_cv_permutation_importance(X,y):\u001b[0m\n\u001b[0m    ^\u001b[0m\n\u001b[0;31mIndentationError\u001b[0m\u001b[0;31m:\u001b[0m expected an indented block\n"
     ]
    }
   ],
   "source": [
    "from sk_tool import SkTool,SkPostFit"
   ]
  },
  {
   "cell_type": "code",
   "execution_count": 2,
   "metadata": {},
   "outputs": [],
   "source": [
    "\n",
    "from warnings import filterwarnings\n",
    "filterwarnings('ignore')"
   ]
  },
  {
   "cell_type": "code",
   "execution_count": 3,
   "metadata": {},
   "outputs": [],
   "source": [
    "\"\"\"from sklearn.pipeline import make_pipeline,Pipeline\n",
    "from sklearn.linear_model import ElasticNet, LinearRegression,LassoLarsCV,LogisticRegressionCV\n",
    "from sklearn.svm import LinearSVC, SVC\n",
    "from sklearn.preprocessing import StandardScaler,PolynomialFeatures\n",
    "from sklearn.model_selection import cross_validate, train_test_split, RepeatedStratifiedKFold, GridSearchCV\n",
    "from sklearn.metrics import mean_squared_error, mean_absolute_error, r2_score, f1_score, average_precision_score\n",
    "from sklearn.experimental import enable_hist_gradient_boosting\n",
    "from sklearn.ensemble import GradientBoostingClassifier,HistGradientBoostingClassifier\n",
    "from sklearn.datasets import make_regression\n",
    "from sklearn.compose import TransformedTargetRegressor\n",
    "from sk_transformers import none_T,shrinkBigKTransformer,logminus_T,exp_T,logminplus1_T,logp1_T,dropConst,binaryYTransformer\n",
    "from sk_missing_value_handler import missingValHandler\n",
    "#from sk_tool import SKToolInitializer\n",
    "import logging\n",
    "import numpy as np\"\"\""
   ]
  },
  {
   "cell_type": "code",
   "execution_count": 4,
   "metadata": {},
   "outputs": [],
   "source": [
    "from sk_estimators import sk_estimator"
   ]
  },
  {
   "cell_type": "code",
   "execution_count": 5,
   "metadata": {},
   "outputs": [
    {
     "data": {
      "text/plain": [
       "\" X, y= make_regression(n_samples=300,n_features=5,n_informative=3,noise=3)\\ny=(y-np.mean(y))\\ny01=binaryYTransformer().fit(y).transform(y)\\nX_train, X_test, y_train, y_test = train_test_split(X, y01, test_size=0.2, random_state=0)\\n\\nsk_est=sk_estimator()\\nest_dict=sk_est.get_est_dict()\\nfor est_name,est_setup_dict in est_dict.items():\\n    est=est_setup_dict['estimator']()\\n    est.fit(X_train,y_train)\\n    s=est.score(X_train,y_train)\\n    s_out=est.score(X_test,y_test)\\n    print(f'for {est_name}')\\n    print(f'    fit r2 score: {s}')\\n    print(f'    test r2 score: {s_out}')\""
      ]
     },
     "execution_count": 5,
     "metadata": {},
     "output_type": "execute_result"
    }
   ],
   "source": [
    "\"\"\" X, y= make_regression(n_samples=300,n_features=5,n_informative=3,noise=3)\n",
    "y=(y-np.mean(y))\n",
    "y01=binaryYTransformer().fit(y).transform(y)\n",
    "X_train, X_test, y_train, y_test = train_test_split(X, y01, test_size=0.2, random_state=0)\n",
    "\n",
    "sk_est=sk_estimator()\n",
    "est_dict=sk_est.get_est_dict()\n",
    "for est_name,est_setup_dict in est_dict.items():\n",
    "    est=est_setup_dict['estimator']()\n",
    "    est.fit(X_train,y_train)\n",
    "    s=est.score(X_train,y_train)\n",
    "    s_out=est.score(X_test,y_test)\n",
    "    print(f'for {est_name}')\n",
    "    print(f'    fit r2 score: {s}')\n",
    "    print(f'    test r2 score: {s_out}')\"\"\""
   ]
  },
  {
   "cell_type": "code",
   "execution_count": 1,
   "metadata": {},
   "outputs": [],
   "source": [
    "from pi_db_tool import DBTool"
   ]
  },
  {
   "cell_type": "code",
   "execution_count": 2,
   "metadata": {},
   "outputs": [],
   "source": [
    "dbt=DBTool()"
   ]
  },
  {
   "cell_type": "code",
   "execution_count": 5,
   "metadata": {},
   "outputs": [],
   "source": [
    "hash_id_list = list(dbt.resultsDBdict().keys())"
   ]
  },
  {
   "cell_type": "code",
   "execution_count": null,
   "metadata": {},
   "outputs": [],
   "source": [
    "a_model_dict=dbt.resultsDBdict()[hash_id_list[0]]"
   ]
  },
  {
   "cell_type": "code",
   "execution_count": 6,
   "metadata": {},
   "outputs": [
    {
     "ename": "NameError",
     "evalue": "name 'SkTool_post_fit' is not defined",
     "output_type": "error",
     "traceback": [
      "\u001b[0;31m---------------------------------------------------------------------------\u001b[0m",
      "\u001b[0;31mNameError\u001b[0m                                 Traceback (most recent call last)",
      "\u001b[0;32m<ipython-input-6-9226037a6326>\u001b[0m in \u001b[0;36m<module>\u001b[0;34m\u001b[0m\n\u001b[0;32m----> 1\u001b[0;31m \u001b[0mpf\u001b[0m\u001b[0;34m=\u001b[0m\u001b[0mSkTool_post_fit\u001b[0m\u001b[0;34m(\u001b[0m\u001b[0;34m)\u001b[0m\u001b[0;34m\u001b[0m\u001b[0;34m\u001b[0m\u001b[0m\n\u001b[0m",
      "\u001b[0;31mNameError\u001b[0m: name 'SkTool_post_fit' is not defined"
     ]
    }
   ],
   "source": [
    "pf=SkPostFit()\n"
   ]
  },
  {
   "cell_type": "code",
   "execution_count": null,
   "metadata": {},
   "outputs": [],
   "source": [
    "pf.get_coef_dict(a_model_dict)"
   ]
  },
  {
   "cell_type": "code",
   "execution_count": 22,
   "metadata": {},
   "outputs": [
    {
     "data": {
      "text/plain": [
       "['AgKffactCat',\n",
       " 'AgKffactWs',\n",
       " 'Al2O3Cat',\n",
       " 'Al2O3Ws',\n",
       " 'BFICat',\n",
       " 'BFIWs',\n",
       " 'CBNFCat',\n",
       " 'CBNFWs',\n",
       " 'CCHEM_v2_1',\n",
       " 'CCONN_v2_1',\n",
       " 'a',\n",
       " 'b']"
      ]
     },
     "execution_count": 22,
     "metadata": {},
     "output_type": "execute_result"
    }
   ],
   "source": [
    "pf.xlist[0]"
   ]
  },
  {
   "cell_type": "code",
   "execution_count": 23,
   "metadata": {},
   "outputs": [
    {
     "data": {
      "text/plain": [
       "[10, 11]"
      ]
     },
     "execution_count": 23,
     "metadata": {},
     "output_type": "execute_result"
    }
   ],
   "source": [
    "pf.prep.obj_idx_"
   ]
  },
  {
   "cell_type": "code",
   "execution_count": 24,
   "metadata": {},
   "outputs": [],
   "source": [
    "cat_vars=[pf.xlist[0][i] for i in pf.prep.obj_idx_]"
   ]
  },
  {
   "cell_type": "code",
   "execution_count": 25,
   "metadata": {},
   "outputs": [
    {
     "data": {
      "text/plain": [
       "array(['a_myvar1', 'a_myvar2', 'b_mybvar1', 'b_mybvar2', 'b_mybvar3'],\n",
       "      dtype=object)"
      ]
     },
     "execution_count": 25,
     "metadata": {},
     "output_type": "execute_result"
    }
   ],
   "source": [
    "pf.prep.T.transformers_[1][1]['onehotencoder'].get_feature_names(cat_vars)"
   ]
  },
  {
   "cell_type": "code",
   "execution_count": 26,
   "metadata": {},
   "outputs": [
    {
     "data": {
      "text/plain": [
       "Pipeline(steps=[('prep', missingValHandler(strategy='impute_knn_10')),\n",
       "                ('scaler', StandardScaler()),\n",
       "                ('clf', LogisticRegressionCV(penalty='l1', solver='saga'))])"
      ]
     },
     "execution_count": 26,
     "metadata": {},
     "output_type": "execute_result"
    }
   ],
   "source": [
    "pf.inner_pipe"
   ]
  },
  {
   "cell_type": "code",
   "execution_count": 27,
   "metadata": {},
   "outputs": [
    {
     "data": {
      "text/plain": [
       "missingValHandler(strategy='impute_knn_10')"
      ]
     },
     "execution_count": 27,
     "metadata": {},
     "output_type": "execute_result"
    }
   ],
   "source": [
    "pf.inner_pipe['prep']"
   ]
  },
  {
   "cell_type": "code",
   "execution_count": 28,
   "metadata": {},
   "outputs": [
    {
     "data": {
      "text/plain": [
       "[missingValHandler(strategy='impute_knn_10'),\n",
       " StandardScaler(),\n",
       " LogisticRegressionCV(penalty='l1', solver='saga')]"
      ]
     },
     "execution_count": 28,
     "metadata": {},
     "output_type": "execute_result"
    }
   ],
   "source": [
    "list(pf.inner_pipe)"
   ]
  },
  {
   "cell_type": "code",
   "execution_count": null,
   "metadata": {},
   "outputs": [],
   "source": []
  }
 ],
 "metadata": {
  "kernelspec": {
   "display_name": "Python 3",
   "language": "python",
   "name": "python3"
  },
  "language_info": {
   "codemirror_mode": {
    "name": "ipython",
    "version": 3
   },
   "file_extension": ".py",
   "mimetype": "text/x-python",
   "name": "python",
   "nbconvert_exporter": "python",
   "pygments_lexer": "ipython3",
   "version": "3.8.2"
  }
 },
 "nbformat": 4,
 "nbformat_minor": 4
}
