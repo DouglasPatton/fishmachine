{
 "cells": [
  {
   "cell_type": "code",
   "execution_count": 1,
   "metadata": {},
   "outputs": [],
   "source": [
    "from pi_results import PiResults"
   ]
  },
  {
   "cell_type": "code",
   "execution_count": 2,
   "metadata": {},
   "outputs": [],
   "source": [
    "pr=PiResults()\n"
   ]
  },
  {
   "cell_type": "code",
   "execution_count": 3,
   "metadata": {},
   "outputs": [
    {
     "data": {
      "text/html": [
       "<div>\n",
       "<style scoped>\n",
       "    .dataframe tbody tr th:only-of-type {\n",
       "        vertical-align: middle;\n",
       "    }\n",
       "\n",
       "    .dataframe tbody tr th {\n",
       "        vertical-align: top;\n",
       "    }\n",
       "\n",
       "    .dataframe thead th {\n",
       "        text-align: right;\n",
       "    }\n",
       "</style>\n",
       "<table border=\"1\" class=\"dataframe\">\n",
       "  <thead>\n",
       "    <tr style=\"text-align: right;\">\n",
       "      <th></th>\n",
       "      <th></th>\n",
       "      <th></th>\n",
       "      <th>cv_0</th>\n",
       "      <th>cv_1</th>\n",
       "      <th>cv_2</th>\n",
       "      <th>cv_3</th>\n",
       "      <th>cv_4</th>\n",
       "      <th>cv_5</th>\n",
       "      <th>cv_6</th>\n",
       "      <th>cv_7</th>\n",
       "      <th>cv_8</th>\n",
       "      <th>cv_9</th>\n",
       "    </tr>\n",
       "    <tr>\n",
       "      <th>species</th>\n",
       "      <th>estimator</th>\n",
       "      <th>x_var</th>\n",
       "      <th></th>\n",
       "      <th></th>\n",
       "      <th></th>\n",
       "      <th></th>\n",
       "      <th></th>\n",
       "      <th></th>\n",
       "      <th></th>\n",
       "      <th></th>\n",
       "      <th></th>\n",
       "      <th></th>\n",
       "    </tr>\n",
       "  </thead>\n",
       "  <tbody>\n",
       "    <tr>\n",
       "      <th rowspan=\"5\" valign=\"top\">semotilus lumbee</th>\n",
       "      <th rowspan=\"5\" valign=\"top\">logistic-reg</th>\n",
       "      <th>AgKffactCat</th>\n",
       "      <td>0.000000</td>\n",
       "      <td>0.000000</td>\n",
       "      <td>0.010017</td>\n",
       "      <td>0.000000</td>\n",
       "      <td>0.042356</td>\n",
       "      <td>NaN</td>\n",
       "      <td>NaN</td>\n",
       "      <td>NaN</td>\n",
       "      <td>NaN</td>\n",
       "      <td>NaN</td>\n",
       "    </tr>\n",
       "    <tr>\n",
       "      <th>AgKffactWs</th>\n",
       "      <td>0.000000</td>\n",
       "      <td>0.019293</td>\n",
       "      <td>0.044345</td>\n",
       "      <td>0.000000</td>\n",
       "      <td>0.040024</td>\n",
       "      <td>NaN</td>\n",
       "      <td>NaN</td>\n",
       "      <td>NaN</td>\n",
       "      <td>NaN</td>\n",
       "      <td>NaN</td>\n",
       "    </tr>\n",
       "    <tr>\n",
       "      <th>Al2O3Cat</th>\n",
       "      <td>0.000000</td>\n",
       "      <td>0.000000</td>\n",
       "      <td>0.004064</td>\n",
       "      <td>0.000000</td>\n",
       "      <td>-0.070059</td>\n",
       "      <td>NaN</td>\n",
       "      <td>NaN</td>\n",
       "      <td>NaN</td>\n",
       "      <td>NaN</td>\n",
       "      <td>NaN</td>\n",
       "    </tr>\n",
       "    <tr>\n",
       "      <th>Al2O3Ws</th>\n",
       "      <td>-0.047948</td>\n",
       "      <td>-0.070959</td>\n",
       "      <td>-0.110935</td>\n",
       "      <td>0.000000</td>\n",
       "      <td>-0.005460</td>\n",
       "      <td>NaN</td>\n",
       "      <td>NaN</td>\n",
       "      <td>NaN</td>\n",
       "      <td>NaN</td>\n",
       "      <td>NaN</td>\n",
       "    </tr>\n",
       "    <tr>\n",
       "      <th>BFICat</th>\n",
       "      <td>-0.098598</td>\n",
       "      <td>-0.011498</td>\n",
       "      <td>-0.124164</td>\n",
       "      <td>0.000000</td>\n",
       "      <td>-0.199518</td>\n",
       "      <td>NaN</td>\n",
       "      <td>NaN</td>\n",
       "      <td>NaN</td>\n",
       "      <td>NaN</td>\n",
       "      <td>NaN</td>\n",
       "    </tr>\n",
       "    <tr>\n",
       "      <th>...</th>\n",
       "      <th>...</th>\n",
       "      <th>...</th>\n",
       "      <td>...</td>\n",
       "      <td>...</td>\n",
       "      <td>...</td>\n",
       "      <td>...</td>\n",
       "      <td>...</td>\n",
       "      <td>...</td>\n",
       "      <td>...</td>\n",
       "      <td>...</td>\n",
       "      <td>...</td>\n",
       "      <td>...</td>\n",
       "    </tr>\n",
       "    <tr>\n",
       "      <th rowspan=\"5\" valign=\"top\">catostomus clarkii</th>\n",
       "      <th rowspan=\"5\" valign=\"top\">linear-svc</th>\n",
       "      <th>WetIndexCat</th>\n",
       "      <td>-0.014395</td>\n",
       "      <td>-0.019146</td>\n",
       "      <td>-0.075884</td>\n",
       "      <td>-0.025288</td>\n",
       "      <td>0.004295</td>\n",
       "      <td>-0.021444</td>\n",
       "      <td>-0.031697</td>\n",
       "      <td>0.049622</td>\n",
       "      <td>-0.043693</td>\n",
       "      <td>-0.048605</td>\n",
       "    </tr>\n",
       "    <tr>\n",
       "      <th>WetIndexWs</th>\n",
       "      <td>-0.022229</td>\n",
       "      <td>-0.011323</td>\n",
       "      <td>-0.005600</td>\n",
       "      <td>-0.008980</td>\n",
       "      <td>0.006649</td>\n",
       "      <td>-0.006949</td>\n",
       "      <td>-0.000257</td>\n",
       "      <td>0.031271</td>\n",
       "      <td>-0.062748</td>\n",
       "      <td>-0.009183</td>\n",
       "    </tr>\n",
       "    <tr>\n",
       "      <th>WtDepCat</th>\n",
       "      <td>0.005001</td>\n",
       "      <td>0.038111</td>\n",
       "      <td>0.126026</td>\n",
       "      <td>0.065781</td>\n",
       "      <td>0.188714</td>\n",
       "      <td>0.016959</td>\n",
       "      <td>0.074570</td>\n",
       "      <td>0.158257</td>\n",
       "      <td>0.048105</td>\n",
       "      <td>0.018761</td>\n",
       "    </tr>\n",
       "    <tr>\n",
       "      <th>WtDepWs</th>\n",
       "      <td>0.034938</td>\n",
       "      <td>0.027867</td>\n",
       "      <td>0.035851</td>\n",
       "      <td>0.050805</td>\n",
       "      <td>0.058686</td>\n",
       "      <td>0.028920</td>\n",
       "      <td>0.019953</td>\n",
       "      <td>0.167920</td>\n",
       "      <td>0.013624</td>\n",
       "      <td>0.019536</td>\n",
       "    </tr>\n",
       "    <tr>\n",
       "      <th>prG_BMMI</th>\n",
       "      <td>-0.003405</td>\n",
       "      <td>-0.026969</td>\n",
       "      <td>-0.128526</td>\n",
       "      <td>-0.129985</td>\n",
       "      <td>-0.190994</td>\n",
       "      <td>-0.040452</td>\n",
       "      <td>-0.065953</td>\n",
       "      <td>-0.146791</td>\n",
       "      <td>-0.051435</td>\n",
       "      <td>-0.032482</td>\n",
       "    </tr>\n",
       "  </tbody>\n",
       "</table>\n",
       "<p>242730 rows × 10 columns</p>\n",
       "</div>"
      ],
      "text/plain": [
       "                                                 cv_0      cv_1      cv_2  \\\n",
       "species            estimator    x_var                                       \n",
       "semotilus lumbee   logistic-reg AgKffactCat  0.000000  0.000000  0.010017   \n",
       "                                AgKffactWs   0.000000  0.019293  0.044345   \n",
       "                                Al2O3Cat     0.000000  0.000000  0.004064   \n",
       "                                Al2O3Ws     -0.047948 -0.070959 -0.110935   \n",
       "                                BFICat      -0.098598 -0.011498 -0.124164   \n",
       "...                                               ...       ...       ...   \n",
       "catostomus clarkii linear-svc   WetIndexCat -0.014395 -0.019146 -0.075884   \n",
       "                                WetIndexWs  -0.022229 -0.011323 -0.005600   \n",
       "                                WtDepCat     0.005001  0.038111  0.126026   \n",
       "                                WtDepWs      0.034938  0.027867  0.035851   \n",
       "                                prG_BMMI    -0.003405 -0.026969 -0.128526   \n",
       "\n",
       "                                                 cv_3      cv_4      cv_5  \\\n",
       "species            estimator    x_var                                       \n",
       "semotilus lumbee   logistic-reg AgKffactCat  0.000000  0.042356       NaN   \n",
       "                                AgKffactWs   0.000000  0.040024       NaN   \n",
       "                                Al2O3Cat     0.000000 -0.070059       NaN   \n",
       "                                Al2O3Ws      0.000000 -0.005460       NaN   \n",
       "                                BFICat       0.000000 -0.199518       NaN   \n",
       "...                                               ...       ...       ...   \n",
       "catostomus clarkii linear-svc   WetIndexCat -0.025288  0.004295 -0.021444   \n",
       "                                WetIndexWs  -0.008980  0.006649 -0.006949   \n",
       "                                WtDepCat     0.065781  0.188714  0.016959   \n",
       "                                WtDepWs      0.050805  0.058686  0.028920   \n",
       "                                prG_BMMI    -0.129985 -0.190994 -0.040452   \n",
       "\n",
       "                                                 cv_6      cv_7      cv_8  \\\n",
       "species            estimator    x_var                                       \n",
       "semotilus lumbee   logistic-reg AgKffactCat       NaN       NaN       NaN   \n",
       "                                AgKffactWs        NaN       NaN       NaN   \n",
       "                                Al2O3Cat          NaN       NaN       NaN   \n",
       "                                Al2O3Ws           NaN       NaN       NaN   \n",
       "                                BFICat            NaN       NaN       NaN   \n",
       "...                                               ...       ...       ...   \n",
       "catostomus clarkii linear-svc   WetIndexCat -0.031697  0.049622 -0.043693   \n",
       "                                WetIndexWs  -0.000257  0.031271 -0.062748   \n",
       "                                WtDepCat     0.074570  0.158257  0.048105   \n",
       "                                WtDepWs      0.019953  0.167920  0.013624   \n",
       "                                prG_BMMI    -0.065953 -0.146791 -0.051435   \n",
       "\n",
       "                                                 cv_9  \n",
       "species            estimator    x_var                  \n",
       "semotilus lumbee   logistic-reg AgKffactCat       NaN  \n",
       "                                AgKffactWs        NaN  \n",
       "                                Al2O3Cat          NaN  \n",
       "                                Al2O3Ws           NaN  \n",
       "                                BFICat            NaN  \n",
       "...                                               ...  \n",
       "catostomus clarkii linear-svc   WetIndexCat -0.048605  \n",
       "                                WetIndexWs  -0.009183  \n",
       "                                WtDepCat     0.018761  \n",
       "                                WtDepWs      0.019536  \n",
       "                                prG_BMMI    -0.032482  \n",
       "\n",
       "[242730 rows x 10 columns]"
      ]
     },
     "execution_count": 3,
     "metadata": {},
     "output_type": "execute_result"
    }
   ],
   "source": [
    "pr.build_spec_est_coef_df(rebuild=0)"
   ]
  },
  {
   "cell_type": "code",
   "execution_count": 16,
   "metadata": {},
   "outputs": [
    {
     "data": {
      "text/plain": [
       "x_var\n",
       "MSST__avg                         0.479021\n",
       "Slope                            -0.273760\n",
       "ElevCat                          -0.176693\n",
       "Tmax8110Cat                       0.123406\n",
       "WA                               -0.102523\n",
       "PctOwCat_avg                     -0.096941\n",
       "prG_BMMI                          0.091335\n",
       "ICI_v2_1                         -0.086838\n",
       "Tmean08Ws                        -0.085545\n",
       "IWI_v2_1                         -0.082146\n",
       "MWST__avg                        -0.074878\n",
       "BFIWs                             0.073175\n",
       "PctWaterCat                      -0.072548\n",
       "Tmin8110Cat                      -0.066825\n",
       "RdCrsSlpWtdCat                   -0.062920\n",
       "RdCrsCat                         -0.057267\n",
       "SN_Ws_avg                         0.054008\n",
       "PermWs                           -0.053856\n",
       "PctBlWs_avg                      -0.051832\n",
       "AgKffactWs                       -0.050650\n",
       "PctFrstLossCatRp100_avg          -0.050022\n",
       "PctWaterWs                       -0.048371\n",
       "Pestic97Cat                      -0.045866\n",
       "NABD_NrmStorWs                   -0.045732\n",
       "Al2O3Ws                           0.045307\n",
       "Tmean09Cat                        0.044487\n",
       "NABD_NIDStorCat                  -0.044400\n",
       "PctAgSlp20Ws_avg                 -0.040866\n",
       "NO3_Ws_avg                       -0.040092\n",
       "CoalMineDensWs                   -0.039498\n",
       "MAST__avg                        -0.039461\n",
       "PctDecidCatRp100_avg              0.039222\n",
       "TRIDensWs                        -0.038636\n",
       "PctNonAgIntrodManagVegCatRp100   -0.038378\n",
       "PctFrstLossWsRp100_avg           -0.037447\n",
       "RckDepCat                         0.036934\n",
       "PctHbWetWs_avg                   -0.036888\n",
       "PctMxFstCatRp100_avg             -0.035419\n",
       "PctOwWsRp100_avg                 -0.035131\n",
       "WCHEM_v2_1                       -0.034809\n",
       "dtype: float64"
      ]
     },
     "execution_count": 16,
     "metadata": {},
     "output_type": "execute_result"
    }
   ],
   "source": [
    "import numpy as np\n",
    "meancoef=pr.coef_df.mean(axis=1).mean(level='x_var')\n",
    "order=np.argsort(meancoef.abs())\n",
    "meancoef.iloc[order[::-1]].head(40)"
   ]
  },
  {
   "cell_type": "code",
   "execution_count": 5,
   "metadata": {},
   "outputs": [
    {
     "ename": "AssertionError",
     "evalue": "halt",
     "output_type": "error",
     "traceback": [
      "\u001b[0;31m---------------------------------------------------------------------------\u001b[0m",
      "\u001b[0;31mAssertionError\u001b[0m                            Traceback (most recent call last)",
      "\u001b[0;32m<ipython-input-5-69815fc482af>\u001b[0m in \u001b[0;36m<module>\u001b[0;34m\u001b[0m\n\u001b[0;32m----> 1\u001b[0;31m \u001b[0;32massert\u001b[0m \u001b[0;32mFalse\u001b[0m\u001b[0;34m,\u001b[0m\u001b[0;34m'halt'\u001b[0m\u001b[0;34m\u001b[0m\u001b[0;34m\u001b[0m\u001b[0m\n\u001b[0m",
      "\u001b[0;31mAssertionError\u001b[0m: halt"
     ]
    }
   ],
   "source": [
    "assert False,'halt'"
   ]
  },
  {
   "cell_type": "code",
   "execution_count": null,
   "metadata": {},
   "outputs": [],
   "source": []
  },
  {
   "cell_type": "code",
   "execution_count": null,
   "metadata": {},
   "outputs": [],
   "source": [
    "from pi_db_tool import DBTool"
   ]
  },
  {
   "cell_type": "code",
   "execution_count": null,
   "metadata": {},
   "outputs": [],
   "source": [
    "import numpy as np"
   ]
  },
  {
   "cell_type": "code",
   "execution_count": null,
   "metadata": {},
   "outputs": [],
   "source": [
    "from datagen import dataGenerator"
   ]
  },
  {
   "cell_type": "code",
   "execution_count": null,
   "metadata": {},
   "outputs": [],
   "source": [
    "dbt=DBTool()"
   ]
  },
  {
   "cell_type": "code",
   "execution_count": null,
   "metadata": {},
   "outputs": [],
   "source": [
    "hash_id_list = list(dbt.resultsDBdict().keys())"
   ]
  },
  {
   "cell_type": "code",
   "execution_count": null,
   "metadata": {},
   "outputs": [],
   "source": [
    "a_model_dict=dbt.resultsDBdict()[hash_id_list[1]]"
   ]
  },
  {
   "cell_type": "code",
   "execution_count": null,
   "metadata": {},
   "outputs": [],
   "source": [
    "#data=dataGenerator(a_model_dict['data_gen'])"
   ]
  },
  {
   "cell_type": "code",
   "execution_count": null,
   "metadata": {},
   "outputs": [],
   "source": [
    "#del a_model_dict['model']['estimator'][0].est"
   ]
  },
  {
   "cell_type": "code",
   "execution_count": null,
   "metadata": {},
   "outputs": [],
   "source": [
    "coef_df=pr.get_cv_coef_df(a_model_dict)\n"
   ]
  },
  {
   "cell_type": "code",
   "execution_count": null,
   "metadata": {},
   "outputs": [],
   "source": [
    "mean_coef=coef_df.mean(axis=1)"
   ]
  },
  {
   "cell_type": "code",
   "execution_count": null,
   "metadata": {},
   "outputs": [],
   "source": [
    "sorted=np.argsort(mean_coef.abs(),axis=0)"
   ]
  },
  {
   "cell_type": "code",
   "execution_count": null,
   "metadata": {},
   "outputs": [],
   "source": [
    "sorted_mean_coef=mean_coef.iloc[sorted[::-1]]"
   ]
  },
  {
   "cell_type": "code",
   "execution_count": null,
   "metadata": {},
   "outputs": [],
   "source": [
    "sorted_mean_coef.head(30)"
   ]
  },
  {
   "cell_type": "code",
   "execution_count": null,
   "metadata": {},
   "outputs": [],
   "source": [
    "pr.fit_est_list"
   ]
  },
  {
   "cell_type": "code",
   "execution_count": null,
   "metadata": {},
   "outputs": [],
   "source": [
    "est0=pr.fit_est_list[0]"
   ]
  },
  {
   "cell_type": "code",
   "execution_count": null,
   "metadata": {},
   "outputs": [],
   "source": [
    "est0.predict()"
   ]
  },
  {
   "cell_type": "code",
   "execution_count": null,
   "metadata": {},
   "outputs": [],
   "source": [
    "est0"
   ]
  },
  {
   "cell_type": "code",
   "execution_count": null,
   "metadata": {},
   "outputs": [],
   "source": []
  }
 ],
 "metadata": {
  "kernelspec": {
   "display_name": "Python 3",
   "language": "python",
   "name": "python3"
  },
  "language_info": {
   "codemirror_mode": {
    "name": "ipython",
    "version": 3
   },
   "file_extension": ".py",
   "mimetype": "text/x-python",
   "name": "python",
   "nbconvert_exporter": "python",
   "pygments_lexer": "ipython3",
   "version": "3.8.2"
  }
 },
 "nbformat": 4,
 "nbformat_minor": 4
}
