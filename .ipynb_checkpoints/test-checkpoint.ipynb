{
 "cells": [
  {
   "cell_type": "code",
   "execution_count": 1,
   "metadata": {},
   "outputs": [],
   "source": [
    "import kernelcompare as kc\n",
    "run1=kc.kernelcompare()\n"
   ]
  },
  {
   "cell_type": "code",
   "execution_count": 4,
   "metadata": {},
   "outputs": [
    {
     "data": {
      "text/plain": [
       "1"
      ]
     },
     "execution_count": 4,
     "metadata": {},
     "output_type": "execute_result"
    }
   ],
   "source": [
    "import numpy as np\n",
    "np.round(np.log(1001),0)\n",
    "np.abs(-1)"
   ]
  },
  {
   "cell_type": "code",
   "execution_count": 5,
   "metadata": {},
   "outputs": [
    {
     "data": {
      "text/plain": [
       "'b'"
      ]
     },
     "execution_count": 5,
     "metadata": {},
     "output_type": "execute_result"
    }
   ],
   "source": [
    "a=None\n",
    "def printor(b):\n",
    "    if b==None or b.lower()=='yes':\n",
    "        print('boom')"
   ]
  },
  {
   "cell_type": "code",
   "execution_count": 6,
   "metadata": {},
   "outputs": [
    {
     "ename": "AttributeError",
     "evalue": "'NoneType' object has no attribute 'lower'",
     "output_type": "error",
     "traceback": [
      "\u001b[1;31m---------------------------------------------------------------------------\u001b[0m",
      "\u001b[1;31mAttributeError\u001b[0m                            Traceback (most recent call last)",
      "\u001b[1;32m<ipython-input-6-bdce891aab80>\u001b[0m in \u001b[0;36m<module>\u001b[1;34m\u001b[0m\n\u001b[1;32m----> 1\u001b[1;33m \u001b[1;32mNone\u001b[0m\u001b[1;33m.\u001b[0m\u001b[0mlower\u001b[0m\u001b[1;33m(\u001b[0m\u001b[1;33m)\u001b[0m\u001b[1;33m\u001b[0m\u001b[1;33m\u001b[0m\u001b[0m\n\u001b[0m",
      "\u001b[1;31mAttributeError\u001b[0m: 'NoneType' object has no attribute 'lower'"
     ]
    }
   ],
   "source": [
    "None.lower()"
   ]
  },
  {
   "cell_type": "code",
   "execution_count": 3,
   "metadata": {},
   "outputs": [
    {
     "name": "stdout",
     "output_type": "stream",
     "text": [
      "20191107-082713\n",
      "20191107-082716\n"
     ]
    }
   ],
   "source": [
    "import numpy as np\n",
    "from time import strftime\n",
    "timestr = strftime(\"%Y%m%d-%H%M%S\")\n",
    "print(timestr)\n",
    "np.arange(10**9)\n",
    "timestr = strftime(\"%Y%m%d-%H%M%S\")\n",
    "print(timestr)"
   ]
  },
  {
   "cell_type": "code",
   "execution_count": 2,
   "metadata": {},
   "outputs": [
    {
     "name": "stdout",
     "output_type": "stream",
     "text": [
      "{'optimizer_settings_dict': {'method': 'Nelder-Mead', 'options': {'xatol': 0.001, 'fatol': 0.1, 'adaptive': True}}, 'hyper_param_dict': {'Ndiff_exponent': array([ 0.3 , -0.03]), 'x_bandscale': array([-0.3, -0.3]), 'outer_x_bw': array([2.7]), 'outer_y_bw': array([2.2]), 'Ndiff_depth_bw': array([0.4 , 1.07]), 'y_bandscale': array([1.5])}, 'model_dict': {'Ndiff_type': 'product', 'Ndiff_start': 1, 'max_bw_Ndiff': 2, 'normalize_Ndiffwtsum': 'own_n', 'xkern_grid': 'no', 'ykern_grid': 50, 'outer_kern': 'gaussian', 'Ndiff_bw_kern': 'rbfkern', 'outer_x_bw_form': 'one_for_all', 'regression_model': 'NW', 'product_kern_norm': 'self', 'hyper_param_form_dict': {'Ndiff_exponent': 'free', 'x_bandscale': 'non-neg', 'Ndiff_depth_bw': 'non-neg', 'outer_x_bw': 'non-neg', 'outer_y_bw': 'non-neg', 'y_bandscale': 'non-neg'}}}\n",
      "{'optimizer_settings_dict': {'method': 'Nelder-Mead', 'options': {'xatol': 0.001, 'fatol': 0.1, 'adaptive': True}}, 'hyper_param_dict': {'Ndiff_exponent': 'boom!'}, 'model_dict': {'Ndiff_type': 'product', 'Ndiff_start': 1, 'max_bw_Ndiff': 2, 'normalize_Ndiffwtsum': 'own_n', 'xkern_grid': 'no', 'ykern_grid': 50, 'outer_kern': 'gaussian', 'Ndiff_bw_kern': 'rbfkern', 'outer_x_bw_form': 'one_for_all', 'regression_model': 'NW', 'product_kern_norm': 'self', 'hyper_param_form_dict': {'Ndiff_exponent': 'free', 'x_bandscale': 'non-neg', 'Ndiff_depth_bw': 'non-neg', 'outer_x_bw': 'non-neg', 'outer_y_bw': 'non-neg', 'y_bandscale': 'non-neg'}}}\n"
     ]
    }
   ],
   "source": [
    "print(run1.optimizedict)\n",
    "partial_newdict={'hyper_param_dict':{'Ndiff_exponent':'boom!'}}\n",
    "altereddict=run1.do_dict_override(run1.optimizedict,partial_newdict)\n",
    "print(altereddict)"
   ]
  },
  {
   "cell_type": "code",
   "execution_count": 2,
   "metadata": {},
   "outputs": [
    {
     "name": "stdout",
     "output_type": "stream",
     "text": [
      "[2, 1]test\n",
      "test2\n",
      "[5, 4]\n",
      "0\n"
     ]
    }
   ],
   "source": [
    "import numpy as np\n",
    "a=[i for i in range(2,0,-1)]\n",
    "print(str(a)+'test\\n'+'test2')\n",
    "b=[i+3 for i in a]\n",
    "print(b)\n",
    "amax=max(a)\n",
    "print(a.index(amax))"
   ]
  },
  {
   "cell_type": "code",
   "execution_count": 3,
   "metadata": {},
   "outputs": [
    {
     "name": "stdout",
     "output_type": "stream",
     "text": [
      "<class 'str'>\n"
     ]
    }
   ],
   "source": [
    "print(type('a'))"
   ]
  },
  {
   "cell_type": "code",
   "execution_count": null,
   "metadata": {},
   "outputs": [],
   "source": [
    "import data_gen as dg\n",
    "gen_params=2\n",
    "data1=dg.data_gen(data_shape=(500,gen_params),seed=1,ftype='quadratic',evar=3)\n",
    "#xdata=data1.x[:,:-1]#drop last x\n",
    "size=65\n",
    "xdata=data1.x[0:size,:gen_params+1]\n",
    "ydata=data1.y[0:size]\n",
    "y=ydata\n",
    "xfull=xdata\n",
    "x=xdata[:,1:] #drop first column of x (all 1's)\n",
    "e=data1.e\n",
    "n,p=x.shape\n",
    "print(x.shape)\n",
    "print(f'xdata.shape{xdata.shape}')\n",
    "\n",
    "xvalidate=data1.x[100:500,1:]\n",
    "yvalidate=data1.y[100:500]"
   ]
  },
  {
   "cell_type": "code",
   "execution_count": null,
   "metadata": {},
   "outputs": [],
   "source": [
    "a=np.arange(64).reshape(4,4,4)\n",
    "b=np.transpose(a,[1,0,2])\n",
    "c=np.transpose(b,[1,0,2])\n",
    "a-c"
   ]
  },
  {
   "cell_type": "code",
   "execution_count": null,
   "metadata": {},
   "outputs": [],
   "source": [
    "a_tup=(1,2,3)\n",
    "a_tup_list=list(a_tup)\n",
    "print(a_tup_list)\n",
    "a_tup_again=tuple(a_tup_list)\n",
    "print(a_tup_again)"
   ]
  },
  {
   "cell_type": "code",
   "execution_count": null,
   "metadata": {},
   "outputs": [],
   "source": [
    "b=[:]"
   ]
  },
  {
   "cell_type": "code",
   "execution_count": null,
   "metadata": {},
   "outputs": [],
   "source": [
    "a=np.arange(64).reshape(4,4,4)\n",
    "print(a)\n",
    "b=(slice(None),[0,],slice(None))\n",
    "print(a[b].shape)\n",
    "c=(None,0,slice(None))\n",
    "print(a[c].shape)"
   ]
  },
  {
   "cell_type": "code",
   "execution_count": null,
   "metadata": {},
   "outputs": [],
   "source": [
    "Ndiff_start=2\n",
    "this_depth_mask=np.arange(64).reshape(4,4,4)\n",
    "mask_select=list((slice(None),)*this_depth_mask.ndim)\n",
    "for dim in range(Ndiff_start-1,0,-1):\n",
    "    mask_select[dim]=[0,]\n",
    "mask_tup=tuple(mask_select)\n",
    "this_depth_mask=this_depth_mask[mask_tup]\n",
    "print(this_depth_mask.shape)"
   ]
  },
  {
   "cell_type": "code",
   "execution_count": null,
   "metadata": {},
   "outputs": [],
   "source": []
  },
  {
   "cell_type": "code",
   "execution_count": null,
   "metadata": {},
   "outputs": [],
   "source": [
    "import mykern as mk\n",
    "a=np.linspace(1,10,10)\n",
    "b=np.linspace(1,10,3)\n",
    "tooltest=mk.kNdtool()\n",
    "c=tooltest.makediffmat_itoj(a,b)\n",
    "print(c)"
   ]
  },
  {
   "cell_type": "code",
   "execution_count": null,
   "metadata": {},
   "outputs": [],
   "source": [
    "a=tooltest.MY_KDE_gridprep_smalln(40,6)\n",
    "a.shape"
   ]
  },
  {
   "cell_type": "code",
   "execution_count": null,
   "metadata": {},
   "outputs": [],
   "source": [
    "a=np.linspace(1,4,4)\n",
    "aa=np.meshgrid(a,100*a)\n",
    "\n",
    "b=np.concatenate(aa)\n",
    "print(b.shape)\n",
    "b.reshape()"
   ]
  },
  {
   "cell_type": "code",
   "execution_count": null,
   "metadata": {},
   "outputs": [],
   "source": [
    "a=np.tile(np.arange(4)[:,None],[4,1])\n",
    "b=np.repeat(np.arange(16).reshape(4,4),4,axis=0)\n",
    "c=np.concatenate((a,b),axis=1)\n",
    "print(c)"
   ]
  },
  {
   "cell_type": "code",
   "execution_count": null,
   "metadata": {},
   "outputs": [],
   "source": [
    "a=(3,2)\n",
    "b=a+(1,)\n",
    "b"
   ]
  }
 ],
 "metadata": {
  "kernelspec": {
   "display_name": "Python 3",
   "language": "python",
   "name": "python3"
  },
  "language_info": {
   "codemirror_mode": {
    "name": "ipython",
    "version": 3
   },
   "file_extension": ".py",
   "mimetype": "text/x-python",
   "name": "python",
   "nbconvert_exporter": "python",
   "pygments_lexer": "ipython3",
   "version": "3.7.4"
  }
 },
 "nbformat": 4,
 "nbformat_minor": 4
}
