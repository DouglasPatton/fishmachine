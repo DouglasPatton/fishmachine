{
 "cells": [
  {
   "cell_type": "markdown",
   "metadata": {},
   "source": [
    "### kernel density estimation and kernel regression for prediction\n",
    "This notebook is my first attempt to write down the ddiff and dddiff models that I have been working on"
   ]
  },
  {
   "cell_type": "markdown",
   "metadata": {},
   "source": [
    "mixed recursive/iterative approach (rather than vectorized approach that is harder to generalize\n",
    "- create separate submodules for KDE and KDreg\n",
    "    - develop a system for storing differenced but unweighted data and the appropriate mask to lessen memory usage. \n",
    "        -1's or 0's depending on i/j/k/l/.... values\n",
    "    - figure out the deepest level requested by the user and levels that are less deep are just slices of the deeper model. \n",
    "        -scout out the tree to build the differenced dataset. \n",
    "          \n",
    "        \n",
    " plot and compare\n",
    "on synthetic data, 1, 2, 3+ mixed distributions\n",
    "1d - Ndiff vs gaussian kernel vs kernel_tunneling\n",
    "2d -  \n",
    "\n",
    "\n",
    "multidimensional x problem\n",
    "e.g., parameter treatment\n",
    "\"product kernel approach\" vs l2 \"el two\" (radial basis?)distance "
   ]
  },
  {
   "cell_type": "markdown",
   "metadata": {},
   "source": [
    "#### generate a simple linear dataset y=xb+e\n",
    "##### store validation data from same dataset too"
   ]
  },
  {
   "cell_type": "markdown",
   "metadata": {
    "pycharm": {
     "name": "#%% md\n"
    }
   },
   "source": [
    "### create modeldict\n",
    "- 'Ndiff_type': refers to the mathematical form of Ndiff\n",
    "  - 'product'-Ndiff1 multiplied by Ndiff2\n",
    "  - 'recursive'-Ndiff1's bw is Ndiff 2\n",
    "- max_bw_Ndiff: is the depth of Ndiffs applied in estimating the bandwidth.\n",
    "- 'normalize_Ndiffwtsum':\n",
    "  - 'across' means sum across own level of kernelized-Ndiffs and divide by that sum (CDF approach)\n",
    "  - 'own_n' means for (n+k)diff where n+K=max_bw_Ndiff\n",
    "- Ndiff_bw_kern:\n",
    "  - rbfkern means use the radial basis function kernel\n",
    "  - 'product' means use product kernel like as in liu and yang eq1. \n",
    "- 'regression_model':\n",
    "  - 'NW' means use nadaraya-watson kernel regression\n",
    "  - 'full_logit' means local logit with all variables entering linearly\n",
    "  - 'rbf_logit' means local logit with 1 parameters: scaled l2 norm centered on zero \n",
    " (globally or by i?). Is this a new idea?\n",
    "- outer_x_bw_form: if x is separated into blocks of rvars that are combined within a block using rbf kernel, \n",
    "  - 'one_for_all' - use same hx bw for all blocks\n",
    "  - 'one_per_block' - each block or rvars gets an hx\n",
    "- ykern_grid\n",
    "  - if int, then create int evnely spaced values from -3 to 3 (standard normal middle ~99%)\n",
    "  - 'no' means use original data points (self is masked when predicting self)\n",
    "- xkern_grid\n",
    "  - much like ykern_grid, but used less frequently since x's are typically pre-specified\n",
    "- product_kern_norm: when multiplying kernels across random variables, this parameter determines if each random variable has its kernels normalized before the product or not\n",
    "  - 'self' means each random variable has its kernels divided by the sum of kernels across the nout axis (the number of possibile values y is averaged over, whose probabilities sum to 1)\n",
    "  - 'own_n' means same as self, but divided by count of non-masked items in second to last, nout lenght dimension\n",
    "  - 'none' means no normalization prior to taking products across rvar kernels\n",
    "- hyper_param_form_dict is a nested dictionary\n",
    "  - Ndiff_exponent is the exponent wrapped around typically a sum of kernels for each Ndiff level \n",
    "after level 1 (i.e., (i-j) or centered, obvious/conventional level.)\n",
    "  - x_bandscale is the parameter specific to each variable (each x in X) used for prediction (y)\n",
    "  - Ndiff_depth_bw is used as the kernel's bandwidth (h) at each level of Ndiff including at level 1 \n",
    "  - outer_x_bw vanilla bandwidth for the rbf or product kernel\n",
    "  - outer_y_bw vanilla bandwidth for y"
   ]
  },
  {
   "cell_type": "code",
   "execution_count": 1,
   "metadata": {},
   "outputs": [],
   "source": [
    "import kernelcompare as kc\n",
    "from importlib import reload\n"
   ]
  },
  {
   "cell_type": "code",
   "execution_count": 2,
   "metadata": {},
   "outputs": [],
   "source": [
    "reload(kc)\n",
    "quad_misspec=kc.KernelOptModelTool()\n",
    "quad_misspec.merge_and_condense_saved_models(merge_directory=None,save_directory=None,condense=1,verbose=1)"
   ]
  },
  {
   "cell_type": "code",
   "execution_count": 3,
   "metadata": {
    "pycharm": {
     "is_executing": false,
     "name": "#%%\n"
    }
   },
   "outputs": [
    {
     "name": "stdout",
     "output_type": "stream",
     "text": [
      "val is dict in modeldict, recursive call\n",
      "val is dict in opt_settings_dict, recursive call\n",
      "val is dict in options, recursive call\n",
      "------no start value overrides encountered------\n",
      "newoptimizedict1{'opt_settings_dict': {'method': 'Nelder-Mead', 'options': {'xatol': 0.05, 'fatol': 0.5, 'adaptive': True}, 'help_start': 1, 'partial_match': 1}, 'hyper_param_dict': {'Ndiff_exponent': array([0.3, 0.3]), 'x_bandscale': array([-0.03, -0.03]), 'outer_x_bw': array([1]), 'outer_y_bw': array([3]), 'Ndiff_depth_bw': array([0.5]), 'y_bandscale': array([2.])}, 'modeldict': {'Ndiff_type': 'recursive', 'Ndiff_start': 1, 'max_bw_Ndiff': 2, 'normalize_Ndiffwtsum': 'own_n', 'xkern_grid': 'no', 'ykern_grid': 21, 'outer_kern': 'gaussian', 'Ndiff_bw_kern': 'rbfkern', 'outer_x_bw_form': 'one_for_all', 'regression_model': 'NW', 'product_kern_norm': 'self', 'hyper_param_form_dict': {'Ndiff_exponent': 'free', 'x_bandscale': 'non-neg', 'Ndiff_depth_bw': 'non-neg', 'outer_x_bw': 'non-neg', 'outer_y_bw': 'non-neg', 'y_bandscale': 'non-neg'}}}\n",
      "len(final_match_list):6\n",
      "filename:final_model_save not found\n",
      "--------------here----------------\n",
      "partial match trying {'ykern_grid': 21}\n",
      "2 partial matches found after substituting {'ykern_grid': 21}\n",
      "len(final_match_list):2\n",
      "optimization dict with lowest mse:209.37321224546562, n:70was last saved20191108-100359\n",
      "best_dict:{'mse': 209.37321224546562, 'xdata': array([[-2.5563435 , -3.64593724],\n",
      "       [ 0.23081526, -6.10307739],\n",
      "       [ 1.98962353, -3.0224138 ],\n",
      "       [-0.86192181, -1.99874075],\n",
      "       [ 1.42421587, -5.62028142],\n",
      "       [-2.14483441, -2.26810871],\n",
      "       [ 0.76753888, -3.69978253],\n",
      "       [-1.84485642, -3.25571684],\n",
      "       [-1.41557251, -0.33436957],\n",
      "       [-3.70123835,  0.78944742],\n",
      "       [ 0.30318144, -0.49501132],\n",
      "       [ 0.3017119 , -2.86745572],\n",
      "       [-1.74578045, -3.37153887],\n",
      "       [-2.03577616, -0.43928907],\n",
      "       [-2.8833215 , -2.29350705],\n",
      "       [-2.8743454 , -3.19041128],\n",
      "       [-2.84249226, -1.5253292 ],\n",
      "       [-3.7346207 , -1.0311686 ],\n",
      "       [ 1.81960435, -0.01591168],\n",
      "       [-1.8836711 , -3.27525793],\n",
      "       [-2.99431659,  1.8849092 ],\n",
      "       [-1.39838449, -2.77399129],\n",
      "       [-1.11816903,  2.70051027],\n",
      "       [-1.2596821 , -0.26559378],\n",
      "       [-0.89965936, -2.20449969],\n",
      "       [-3.7850364 , -2.19868544],\n",
      "       [-1.91778847, -0.32675362],\n",
      "       [ 0.17796683,  0.36220416],\n",
      "       [-0.92882535,  0.27028233],\n",
      "       [-3.00879588,  1.00573631],\n",
      "       [-0.47414036, -2.09618567],\n",
      "       [-0.52296371, -1.65114343],\n",
      "       [ 0.76325877,  1.53963363],\n",
      "       [ 2.87115081, -4.29299267],\n",
      "       [-4.38822761, -2.50893173],\n",
      "       [-1.17992586,  0.25233784],\n",
      "       [-0.86873011, -5.54440243],\n",
      "       [-2.11240803,  0.15594929],\n",
      "       [-1.03981053,  0.02402236],\n",
      "       [-1.94465629, -1.90151614],\n",
      "       [-1.12687722, -0.67989671],\n",
      "       [-1.10340056, -1.26198271],\n",
      "       [-2.84132457, -0.74487243],\n",
      "       [-1.25635746,  0.75896782],\n",
      "       [ 0.89783576, -1.12968717],\n",
      "       [-2.2505699 , -2.77746081],\n",
      "       [-0.65301129, -1.34531986],\n",
      "       [-2.18770735, -1.41280629],\n",
      "       [-2.74000169, -0.10393593],\n",
      "       [-2.39425713,  0.94901541],\n",
      "       [-0.69301672, -0.31284295],\n",
      "       [-3.68982369, -1.16123513],\n",
      "       [-0.0188871 , -3.4074012 ],\n",
      "       [-2.03243701, -1.43477091],\n",
      "       [-4.24623464, -0.86968122],\n",
      "       [ 0.1923213 , -3.21903188],\n",
      "       [-0.79890804, -4.12456682],\n",
      "       [-1.57739102, -4.73154471],\n",
      "       [ 0.74283542, -0.68219892],\n",
      "       [-1.54923391, -3.05032324],\n",
      "       [ 1.04751186,  2.4342035 ],\n",
      "       [-5.21596373,  0.97232806],\n",
      "       [ 1.75530151, -0.82397661],\n",
      "       [-3.89853606,  0.22669064],\n",
      "       [-1.8618406 , -2.70784126],\n",
      "       [-3.96011627, -0.39892501],\n",
      "       [ 0.08561373, -2.74706146],\n",
      "       [-0.45884733, -3.78868278],\n",
      "       [ 0.10372206, -1.4068654 ],\n",
      "       [-1.87313954, -1.70349175]]), 'ydata': array([ 21.34624029,   4.58999744,  16.3499014 ,  -3.92031311,\n",
      "        10.71379401,  11.41740037,  -1.57803099,   7.49732856,\n",
      "         7.0119319 ,  70.50961734,   2.10117532,  -5.98451036,\n",
      "         2.47172414,  14.43004464,  28.52234491,  29.71271416,\n",
      "        30.19875303,  57.04976662,  21.87002602,   8.66287025,\n",
      "        55.32855918,  -0.71826275,  31.56561332,   5.94501762,\n",
      "        -4.59872026,  58.05470198,  14.71739703,   4.38956917,\n",
      "         7.35913479,  49.40829673,  -5.16649342,  -4.96194538,\n",
      "        19.19451123,  41.58196405,  81.21404392,   9.21266177,\n",
      "         2.31882786,  22.83629285,   5.92240388,   7.54173458,\n",
      "         1.31821608,   1.25147378,  32.43729469,  12.89583358,\n",
      "         1.47283122,  14.87458969,  -3.82076974,  16.53219469,\n",
      "        32.91299594,  33.58667786,   1.91053651,  56.35301132,\n",
      "        -5.77101851,  11.13743464,  78.37586476,  -5.66073375,\n",
      "        -4.76723725,   4.6904341 ,   2.27299423,   0.90452398,\n",
      "        31.15699128, 134.98736557,  16.58176901,  71.4989855 ,\n",
      "         7.14408321,  72.02329808,  -5.85717627,  -6.75142692,\n",
      "        -3.42326749,   8.35914215]), 'params': {'Ndiff_exponent': {'fixed_or_free': 'free', 'const': 'free', 'location_idx': (0, 2)}, 'x_bandscale': {'fixed_or_free': 'free', 'const': 'non-neg', 'location_idx': (2, 4)}, 'Ndiff_depth_bw': {'fixed_or_free': 'free', 'const': 'non-neg', 'location_idx': (4, 5)}, 'outer_x_bw': {'fixed_or_free': 'free', 'const': 'non-neg', 'location_idx': (5, 6)}, 'outer_y_bw': {'fixed_or_free': 'free', 'const': 'non-neg', 'location_idx': (6, 7)}, 'y_bandscale': {'fixed_or_free': 'free', 'const': 'non-neg', 'location_idx': (7, 8)}, 'free_params': array([ 0.1993927 , -0.01161346, -0.04602753, -0.02855986,  0.44804641,\n",
      "        2.11307858,  2.07337087,  1.91913427]), 'fixed_params': array([], dtype=float64)}, 'modeldict': {'Ndiff_type': 'recursive', 'Ndiff_start': 1, 'max_bw_Ndiff': 2, 'normalize_Ndiffwtsum': 'own_n', 'xkern_grid': 'no', 'ykern_grid': 71, 'outer_kern': 'gaussian', 'Ndiff_bw_kern': 'rbfkern', 'outer_x_bw_form': 'one_for_all', 'regression_model': 'NW', 'product_kern_norm': 'self', 'hyper_param_form_dict': {'Ndiff_exponent': 'free', 'x_bandscale': 'non-neg', 'Ndiff_depth_bw': 'non-neg', 'outer_x_bw': 'non-neg', 'outer_y_bw': 'non-neg', 'y_bandscale': 'non-neg'}}, 'whensaved': '20191108-100359'}\n",
      "starting at 20191112-111903\n",
      "param_valdict:{'Ndiff_exponent': array([ 0.1993927 , -0.01161346]), 'x_bandscale': array([-0.04602753, -0.02855986]), 'outer_x_bw': array([2.11307858]), 'outer_y_bw': array([2.07337087]), 'Ndiff_depth_bw': array([0.44804641]), 'y_bandscale': array([1.91913427])}\n",
      "setup_fixed_or_free_paramdict:{'Ndiff_exponent': {'fixed_or_free': 'free', 'const': 'free', 'location_idx': (0, 2)}, 'x_bandscale': {'fixed_or_free': 'free', 'const': 'non-neg', 'location_idx': (2, 4)}, 'Ndiff_depth_bw': {'fixed_or_free': 'free', 'const': 'non-neg', 'location_idx': (4, 5)}, 'outer_x_bw': {'fixed_or_free': 'free', 'const': 'non-neg', 'location_idx': (5, 6)}, 'outer_y_bw': {'fixed_or_free': 'free', 'const': 'non-neg', 'location_idx': (6, 7)}, 'y_bandscale': {'fixed_or_free': 'free', 'const': 'non-neg', 'location_idx': (7, 8)}, 'free_params': 'outside', 'fixed_params': array([], dtype=float64)}\n",
      "modeldict:{'Ndiff_type': 'recursive', 'Ndiff_start': 1, 'max_bw_Ndiff': 2, 'normalize_Ndiffwtsum': 'own_n', 'xkern_grid': 'no', 'ykern_grid': 21, 'outer_kern': 'gaussian', 'Ndiff_bw_kern': 'rbfkern', 'outer_x_bw_form': 'one_for_all', 'regression_model': 'NW', 'product_kern_norm': 'self', 'hyper_param_form_dict': {'Ndiff_exponent': 'free', 'x_bandscale': 'non-neg', 'Ndiff_depth_bw': 'non-neg', 'outer_x_bw': 'non-neg', 'outer_y_bw': 'non-neg', 'y_bandscale': 'non-neg'}}\n",
      "free_params added to dict. free_params:[ 0.1993927  -0.01161346 -0.04602753 -0.02855986  0.44804641  2.11307858\n",
      "  2.07337087  1.91913427]\n",
      "saved to model_save at about 20191112-111903 with mse=201.77344568283556\n",
      "free_params added to dict. free_params:[ 0.20936233 -0.01161346 -0.04602753 -0.02855986  0.44804641  2.11307858\n",
      "  2.07337087  1.91913427]\n",
      "saved to model_save at about 20191112-111904 with mse=197.30400178492067\n",
      "free_params added to dict. free_params:[ 0.1993927  -0.01219413 -0.04602753 -0.02855986  0.44804641  2.11307858\n",
      "  2.07337087  1.91913427]\n",
      "save_interval changed to 10\n",
      "free_params added to dict. free_params:[ 0.1993927  -0.01161346 -0.0483289  -0.02855986  0.44804641  2.11307858\n",
      "  2.07337087  1.91913427]\n",
      "free_params added to dict. free_params:[ 0.1993927  -0.01161346 -0.04602753 -0.02998785  0.44804641  2.11307858\n",
      "  2.07337087  1.91913427]\n",
      "free_params added to dict. free_params:[ 0.1993927  -0.01161346 -0.04602753 -0.02855986  0.47044873  2.11307858\n",
      "  2.07337087  1.91913427]\n",
      "free_params added to dict. free_params:[ 0.1993927  -0.01161346 -0.04602753 -0.02855986  0.44804641  2.21873251\n",
      "  2.07337087  1.91913427]\n",
      "free_params added to dict. free_params:[ 0.1993927  -0.01161346 -0.04602753 -0.02855986  0.44804641  2.11307858\n",
      "  2.17703942  1.91913427]\n",
      "free_params added to dict. free_params:[ 0.1993927  -0.01161346 -0.04602753 -0.02855986  0.44804641  2.11307858\n",
      "  2.07337087  2.01509098]\n",
      "free_params added to dict. free_params:[ 0.20188511 -0.01175863 -0.04660287 -0.02891686  0.45364699  2.13949207\n",
      "  1.96970233  1.94312345]\n",
      "saved to model_save at about 20191112-111908 with mse=193.08790599778652\n",
      "free_params added to dict. free_params:[ 0.20219666 -0.01177677 -0.04667479 -0.02896148  0.45434706  2.14279375\n",
      "  1.94378519  1.94612209]\n",
      "free_params added to dict. free_params:[ 0.2025861  -0.01179946 -0.04676469 -0.02901727  0.42721925  2.14692086\n",
      "  2.04097445  1.9498704 ]\n",
      "free_params added to dict. free_params:[ 0.20338445 -0.01184596 -0.04407226 -0.02913162  0.44441478  2.15538143\n",
      "  2.03287535  1.95755444]\n",
      "free_params added to dict. free_params:[ 0.20438238 -0.01190408 -0.04588481 -0.02927455  0.44350687  2.16595714\n",
      "  2.02275147  1.96715948]\n",
      "free_params added to dict. free_params:[ 0.2056298  -0.01197673 -0.04584914 -0.02766824  0.44237199  2.17917678\n",
      "  2.01009662  1.97916578]\n",
      "free_params added to dict. free_params:[ 0.20718908 -0.01134171 -0.04580454 -0.02887332  0.44095339  2.19570132\n",
      "  1.99427805  1.99417366]\n",
      "free_params added to dict. free_params:[ 0.20913818 -0.01185445 -0.04574879 -0.02895169  0.43918013  2.0842896\n",
      "  1.97450485  2.01293351]\n",
      "free_params added to dict. free_params:[ 0.1991125  -0.0119147  -0.04567911 -0.02904965  0.43696356  2.18274628\n",
      "  1.94978834  2.03638332]\n",
      "free_params added to dict. free_params:[ 0.20901209 -0.01199    -0.045592   -0.02917209  0.43419285  2.2001632\n",
      "  1.91889271  1.94574969]\n"
     ]
    },
    {
     "ename": "KeyboardInterrupt",
     "evalue": "",
     "output_type": "error",
     "traceback": [
      "\u001b[1;31m---------------------------------------------------------------------------\u001b[0m",
      "\u001b[1;31mKeyboardInterrupt\u001b[0m                         Traceback (most recent call last)",
      "\u001b[1;32m<ipython-input-3-2faf556e06e0>\u001b[0m in \u001b[0;36m<module>\u001b[1;34m\u001b[0m\n\u001b[0;32m     30\u001b[0m \u001b[1;33m\u001b[0m\u001b[0m\n\u001b[0;32m     31\u001b[0m \u001b[1;33m\u001b[0m\u001b[0m\n\u001b[1;32m---> 32\u001b[1;33m \u001b[0mquad_misspec\u001b[0m\u001b[1;33m.\u001b[0m\u001b[0mdo_monte_opt\u001b[0m\u001b[1;33m(\u001b[0m\u001b[0mdatagen_dict_override\u001b[0m\u001b[1;33m=\u001b[0m\u001b[0mdatagen_dict_override\u001b[0m\u001b[1;33m,\u001b[0m \u001b[0mopt_dict_override\u001b[0m\u001b[1;33m=\u001b[0m\u001b[0mopt_dict_override\u001b[0m\u001b[1;33m)\u001b[0m\u001b[1;33m\u001b[0m\u001b[1;33m\u001b[0m\u001b[0m\n\u001b[0m\u001b[0;32m     33\u001b[0m \u001b[1;33m\u001b[0m\u001b[0m\n\u001b[0;32m     34\u001b[0m \u001b[0mprint\u001b[0m\u001b[1;33m(\u001b[0m\u001b[0mquad_misspec\u001b[0m\u001b[1;33m.\u001b[0m\u001b[0mminimize_obj\u001b[0m\u001b[1;33m)\u001b[0m\u001b[1;33m\u001b[0m\u001b[1;33m\u001b[0m\u001b[0m\n",
      "\u001b[1;32m~\\gits\\kernelkernel\\kernelcompare.py\u001b[0m in \u001b[0;36mdo_monte_opt\u001b[1;34m(self, datagen_dict_override, opt_dict_override)\u001b[0m\n\u001b[0;32m     26\u001b[0m         \u001b[0moptimizedict\u001b[0m\u001b[1;33m=\u001b[0m\u001b[0mself\u001b[0m\u001b[1;33m.\u001b[0m\u001b[0mrun_opt_complete_check\u001b[0m\u001b[1;33m(\u001b[0m\u001b[0my\u001b[0m\u001b[1;33m,\u001b[0m\u001b[0mx\u001b[0m\u001b[1;33m,\u001b[0m\u001b[0mself\u001b[0m\u001b[1;33m.\u001b[0m\u001b[0moptimizedict\u001b[0m\u001b[1;33m,\u001b[0m\u001b[0mreplace\u001b[0m\u001b[1;33m=\u001b[0m\u001b[1;36m1\u001b[0m\u001b[1;33m)\u001b[0m\u001b[1;33m\u001b[0m\u001b[1;33m\u001b[0m\u001b[0m\n\u001b[0;32m     27\u001b[0m         \u001b[0mself\u001b[0m\u001b[1;33m.\u001b[0m\u001b[0moptimizedict\u001b[0m\u001b[1;33m=\u001b[0m\u001b[0moptimizedict\u001b[0m\u001b[1;33m.\u001b[0m\u001b[0mcopy\u001b[0m\u001b[1;33m(\u001b[0m\u001b[1;33m)\u001b[0m\u001b[1;33m\u001b[0m\u001b[1;33m\u001b[0m\u001b[0m\n\u001b[1;32m---> 28\u001b[1;33m         \u001b[0mself\u001b[0m\u001b[1;33m.\u001b[0m\u001b[0mminimize_obj\u001b[0m\u001b[1;33m=\u001b[0m\u001b[0mself\u001b[0m\u001b[1;33m.\u001b[0m\u001b[0mrun_optimization\u001b[0m\u001b[1;33m(\u001b[0m\u001b[0mself\u001b[0m\u001b[1;33m.\u001b[0m\u001b[0mtrain_y\u001b[0m\u001b[1;33m,\u001b[0m\u001b[0mself\u001b[0m\u001b[1;33m.\u001b[0m\u001b[0mtrain_x\u001b[0m\u001b[1;33m,\u001b[0m\u001b[0mself\u001b[0m\u001b[1;33m.\u001b[0m\u001b[0moptimizedict\u001b[0m\u001b[1;33m)\u001b[0m\u001b[1;33m\u001b[0m\u001b[1;33m\u001b[0m\u001b[0m\n\u001b[0m\u001b[0;32m     29\u001b[0m \u001b[1;33m\u001b[0m\u001b[0m\n\u001b[0;32m     30\u001b[0m \u001b[1;33m\u001b[0m\u001b[0m\n",
      "\u001b[1;32m~\\gits\\kernelkernel\\kernelcompare.py\u001b[0m in \u001b[0;36mrun_optimization\u001b[1;34m(self, y, x, optimizedict)\u001b[0m\n\u001b[0;32m    325\u001b[0m         \u001b[0mstart_msg\u001b[0m\u001b[1;33m=\u001b[0m\u001b[1;34mf'starting at {strftime(\"%Y%m%d-%H%M%S\")}'\u001b[0m\u001b[1;33m\u001b[0m\u001b[1;33m\u001b[0m\u001b[0m\n\u001b[0;32m    326\u001b[0m         \u001b[0mprint\u001b[0m\u001b[1;33m(\u001b[0m\u001b[0mstart_msg\u001b[0m\u001b[1;33m)\u001b[0m\u001b[1;33m\u001b[0m\u001b[1;33m\u001b[0m\u001b[0m\n\u001b[1;32m--> 327\u001b[1;33m         \u001b[0mself\u001b[0m\u001b[1;33m.\u001b[0m\u001b[0moptimize_obj\u001b[0m\u001b[1;33m=\u001b[0m\u001b[0mmk\u001b[0m\u001b[1;33m.\u001b[0m\u001b[0moptimize_free_params\u001b[0m\u001b[1;33m(\u001b[0m\u001b[0my\u001b[0m\u001b[1;33m,\u001b[0m\u001b[0mx\u001b[0m\u001b[1;33m,\u001b[0m\u001b[0moptimizedict\u001b[0m\u001b[1;33m)\u001b[0m\u001b[1;33m\u001b[0m\u001b[1;33m\u001b[0m\u001b[0m\n\u001b[0m\u001b[0;32m    328\u001b[0m \u001b[1;33m\u001b[0m\u001b[0m\n\u001b[0;32m    329\u001b[0m     \u001b[1;32mdef\u001b[0m \u001b[0mdo_dict_override\u001b[0m\u001b[1;33m(\u001b[0m\u001b[0mself\u001b[0m\u001b[1;33m,\u001b[0m\u001b[0mold_dict\u001b[0m\u001b[1;33m,\u001b[0m\u001b[0mnew_dict\u001b[0m\u001b[1;33m,\u001b[0m\u001b[0mverbose\u001b[0m\u001b[1;33m=\u001b[0m\u001b[1;32mNone\u001b[0m\u001b[1;33m,\u001b[0m\u001b[0mrecursive\u001b[0m\u001b[1;33m=\u001b[0m\u001b[1;32mNone\u001b[0m\u001b[1;33m)\u001b[0m\u001b[1;33m:\u001b[0m\u001b[1;31m#key:values in old_dict replaced by any matching keys in new_dict, otherwise old_dict is left the same and returned.\u001b[0m\u001b[1;33m\u001b[0m\u001b[1;33m\u001b[0m\u001b[0m\n",
      "\u001b[1;32m~\\gits\\kernelkernel\\mykern.py\u001b[0m in \u001b[0;36m__init__\u001b[1;34m(self, ydata, xdata, optimizedict)\u001b[0m\n\u001b[0;32m    693\u001b[0m         \u001b[0margs_tuple\u001b[0m\u001b[1;33m=\u001b[0m\u001b[1;33m(\u001b[0m\u001b[0mself\u001b[0m\u001b[1;33m.\u001b[0m\u001b[0myin\u001b[0m\u001b[1;33m,\u001b[0m \u001b[0mself\u001b[0m\u001b[1;33m.\u001b[0m\u001b[0myout\u001b[0m\u001b[1;33m,\u001b[0m \u001b[0mself\u001b[0m\u001b[1;33m.\u001b[0m\u001b[0mxin\u001b[0m\u001b[1;33m,\u001b[0m \u001b[0mself\u001b[0m\u001b[1;33m.\u001b[0m\u001b[0mxpr\u001b[0m\u001b[1;33m,\u001b[0m \u001b[0mmodeldict\u001b[0m\u001b[1;33m,\u001b[0m \u001b[0mfixed_or_free_paramdict\u001b[0m\u001b[1;33m)\u001b[0m\u001b[1;33m\u001b[0m\u001b[1;33m\u001b[0m\u001b[0m\n\u001b[0;32m    694\u001b[0m         \u001b[0mprint\u001b[0m\u001b[1;33m(\u001b[0m\u001b[1;34mf'modeldict:{modeldict}'\u001b[0m\u001b[1;33m)\u001b[0m\u001b[1;33m\u001b[0m\u001b[1;33m\u001b[0m\u001b[0m\n\u001b[1;32m--> 695\u001b[1;33m         \u001b[0mself\u001b[0m\u001b[1;33m.\u001b[0m\u001b[0mminimize_obj\u001b[0m\u001b[1;33m=\u001b[0m\u001b[0mminimize\u001b[0m\u001b[1;33m(\u001b[0m\u001b[0mself\u001b[0m\u001b[1;33m.\u001b[0m\u001b[0mMY_KDEpredictMSE\u001b[0m\u001b[1;33m,\u001b[0m \u001b[0mfree_params\u001b[0m\u001b[1;33m,\u001b[0m \u001b[0margs\u001b[0m\u001b[1;33m=\u001b[0m\u001b[0margs_tuple\u001b[0m\u001b[1;33m,\u001b[0m \u001b[0mmethod\u001b[0m\u001b[1;33m=\u001b[0m\u001b[0mmethod\u001b[0m\u001b[1;33m,\u001b[0m \u001b[0moptions\u001b[0m\u001b[1;33m=\u001b[0m\u001b[0mopt_method_options\u001b[0m\u001b[1;33m)\u001b[0m\u001b[1;33m\u001b[0m\u001b[1;33m\u001b[0m\u001b[0m\n\u001b[0m\u001b[0;32m    696\u001b[0m         \u001b[0mlastmse\u001b[0m\u001b[1;33m=\u001b[0m\u001b[0mself\u001b[0m\u001b[1;33m.\u001b[0m\u001b[0mmse_param_list\u001b[0m\u001b[1;33m[\u001b[0m\u001b[1;33m-\u001b[0m\u001b[1;36m1\u001b[0m\u001b[1;33m]\u001b[0m\u001b[1;33m[\u001b[0m\u001b[1;36m0\u001b[0m\u001b[1;33m]\u001b[0m\u001b[1;33m\u001b[0m\u001b[1;33m\u001b[0m\u001b[0m\n\u001b[0;32m    697\u001b[0m         \u001b[0mlastparamdict\u001b[0m\u001b[1;33m=\u001b[0m\u001b[0mself\u001b[0m\u001b[1;33m.\u001b[0m\u001b[0mmse_param_list\u001b[0m\u001b[1;33m[\u001b[0m\u001b[1;33m-\u001b[0m\u001b[1;36m1\u001b[0m\u001b[1;33m]\u001b[0m\u001b[1;33m[\u001b[0m\u001b[1;36m1\u001b[0m\u001b[1;33m]\u001b[0m\u001b[1;33m\u001b[0m\u001b[1;33m\u001b[0m\u001b[0m\n",
      "\u001b[1;32m~\\AppData\\Local\\Continuum\\anaconda3\\lib\\site-packages\\scipy\\optimize\\_minimize.py\u001b[0m in \u001b[0;36mminimize\u001b[1;34m(fun, x0, args, method, jac, hess, hessp, bounds, constraints, tol, callback, options)\u001b[0m\n\u001b[0;32m    586\u001b[0m                       callback=callback, **options)\n\u001b[0;32m    587\u001b[0m     \u001b[1;32melif\u001b[0m \u001b[0mmeth\u001b[0m \u001b[1;33m==\u001b[0m \u001b[1;34m'nelder-mead'\u001b[0m\u001b[1;33m:\u001b[0m\u001b[1;33m\u001b[0m\u001b[1;33m\u001b[0m\u001b[0m\n\u001b[1;32m--> 588\u001b[1;33m         \u001b[1;32mreturn\u001b[0m \u001b[0m_minimize_neldermead\u001b[0m\u001b[1;33m(\u001b[0m\u001b[0mfun\u001b[0m\u001b[1;33m,\u001b[0m \u001b[0mx0\u001b[0m\u001b[1;33m,\u001b[0m \u001b[0margs\u001b[0m\u001b[1;33m,\u001b[0m \u001b[0mcallback\u001b[0m\u001b[1;33m,\u001b[0m \u001b[1;33m**\u001b[0m\u001b[0moptions\u001b[0m\u001b[1;33m)\u001b[0m\u001b[1;33m\u001b[0m\u001b[1;33m\u001b[0m\u001b[0m\n\u001b[0m\u001b[0;32m    589\u001b[0m     \u001b[1;32melif\u001b[0m \u001b[0mmeth\u001b[0m \u001b[1;33m==\u001b[0m \u001b[1;34m'powell'\u001b[0m\u001b[1;33m:\u001b[0m\u001b[1;33m\u001b[0m\u001b[1;33m\u001b[0m\u001b[0m\n\u001b[0;32m    590\u001b[0m         \u001b[1;32mreturn\u001b[0m \u001b[0m_minimize_powell\u001b[0m\u001b[1;33m(\u001b[0m\u001b[0mfun\u001b[0m\u001b[1;33m,\u001b[0m \u001b[0mx0\u001b[0m\u001b[1;33m,\u001b[0m \u001b[0margs\u001b[0m\u001b[1;33m,\u001b[0m \u001b[0mcallback\u001b[0m\u001b[1;33m,\u001b[0m \u001b[1;33m**\u001b[0m\u001b[0moptions\u001b[0m\u001b[1;33m)\u001b[0m\u001b[1;33m\u001b[0m\u001b[1;33m\u001b[0m\u001b[0m\n",
      "\u001b[1;32m~\\AppData\\Local\\Continuum\\anaconda3\\lib\\site-packages\\scipy\\optimize\\optimize.py\u001b[0m in \u001b[0;36m_minimize_neldermead\u001b[1;34m(func, x0, args, callback, maxiter, maxfev, disp, return_all, initial_simplex, xatol, fatol, adaptive, **unknown_options)\u001b[0m\n\u001b[0;32m    599\u001b[0m         \u001b[0mxbar\u001b[0m \u001b[1;33m=\u001b[0m \u001b[0mnumpy\u001b[0m\u001b[1;33m.\u001b[0m\u001b[0madd\u001b[0m\u001b[1;33m.\u001b[0m\u001b[0mreduce\u001b[0m\u001b[1;33m(\u001b[0m\u001b[0msim\u001b[0m\u001b[1;33m[\u001b[0m\u001b[1;33m:\u001b[0m\u001b[1;33m-\u001b[0m\u001b[1;36m1\u001b[0m\u001b[1;33m]\u001b[0m\u001b[1;33m,\u001b[0m \u001b[1;36m0\u001b[0m\u001b[1;33m)\u001b[0m \u001b[1;33m/\u001b[0m \u001b[0mN\u001b[0m\u001b[1;33m\u001b[0m\u001b[1;33m\u001b[0m\u001b[0m\n\u001b[0;32m    600\u001b[0m         \u001b[0mxr\u001b[0m \u001b[1;33m=\u001b[0m \u001b[1;33m(\u001b[0m\u001b[1;36m1\u001b[0m \u001b[1;33m+\u001b[0m \u001b[0mrho\u001b[0m\u001b[1;33m)\u001b[0m \u001b[1;33m*\u001b[0m \u001b[0mxbar\u001b[0m \u001b[1;33m-\u001b[0m \u001b[0mrho\u001b[0m \u001b[1;33m*\u001b[0m \u001b[0msim\u001b[0m\u001b[1;33m[\u001b[0m\u001b[1;33m-\u001b[0m\u001b[1;36m1\u001b[0m\u001b[1;33m]\u001b[0m\u001b[1;33m\u001b[0m\u001b[1;33m\u001b[0m\u001b[0m\n\u001b[1;32m--> 601\u001b[1;33m         \u001b[0mfxr\u001b[0m \u001b[1;33m=\u001b[0m \u001b[0mfunc\u001b[0m\u001b[1;33m(\u001b[0m\u001b[0mxr\u001b[0m\u001b[1;33m)\u001b[0m\u001b[1;33m\u001b[0m\u001b[1;33m\u001b[0m\u001b[0m\n\u001b[0m\u001b[0;32m    602\u001b[0m         \u001b[0mdoshrink\u001b[0m \u001b[1;33m=\u001b[0m \u001b[1;36m0\u001b[0m\u001b[1;33m\u001b[0m\u001b[1;33m\u001b[0m\u001b[0m\n\u001b[0;32m    603\u001b[0m \u001b[1;33m\u001b[0m\u001b[0m\n",
      "\u001b[1;32m~\\AppData\\Local\\Continuum\\anaconda3\\lib\\site-packages\\scipy\\optimize\\optimize.py\u001b[0m in \u001b[0;36mfunction_wrapper\u001b[1;34m(*wrapper_args)\u001b[0m\n\u001b[0;32m    324\u001b[0m     \u001b[1;32mdef\u001b[0m \u001b[0mfunction_wrapper\u001b[0m\u001b[1;33m(\u001b[0m\u001b[1;33m*\u001b[0m\u001b[0mwrapper_args\u001b[0m\u001b[1;33m)\u001b[0m\u001b[1;33m:\u001b[0m\u001b[1;33m\u001b[0m\u001b[1;33m\u001b[0m\u001b[0m\n\u001b[0;32m    325\u001b[0m         \u001b[0mncalls\u001b[0m\u001b[1;33m[\u001b[0m\u001b[1;36m0\u001b[0m\u001b[1;33m]\u001b[0m \u001b[1;33m+=\u001b[0m \u001b[1;36m1\u001b[0m\u001b[1;33m\u001b[0m\u001b[1;33m\u001b[0m\u001b[0m\n\u001b[1;32m--> 326\u001b[1;33m         \u001b[1;32mreturn\u001b[0m \u001b[0mfunction\u001b[0m\u001b[1;33m(\u001b[0m\u001b[1;33m*\u001b[0m\u001b[1;33m(\u001b[0m\u001b[0mwrapper_args\u001b[0m \u001b[1;33m+\u001b[0m \u001b[0margs\u001b[0m\u001b[1;33m)\u001b[0m\u001b[1;33m)\u001b[0m\u001b[1;33m\u001b[0m\u001b[1;33m\u001b[0m\u001b[0m\n\u001b[0m\u001b[0;32m    327\u001b[0m \u001b[1;33m\u001b[0m\u001b[0m\n\u001b[0;32m    328\u001b[0m     \u001b[1;32mreturn\u001b[0m \u001b[0mncalls\u001b[0m\u001b[1;33m,\u001b[0m \u001b[0mfunction_wrapper\u001b[0m\u001b[1;33m\u001b[0m\u001b[1;33m\u001b[0m\u001b[0m\n",
      "\u001b[1;32m~\\gits\\kernelkernel\\mykern.py\u001b[0m in \u001b[0;36mMY_KDEpredictMSE\u001b[1;34m(self, free_params, yin, yout, xin, xpr, modeldict, fixed_or_free_paramdict)\u001b[0m\n\u001b[0;32m    459\u001b[0m \u001b[1;33m\u001b[0m\u001b[0m\n\u001b[0;32m    460\u001b[0m \u001b[1;33m\u001b[0m\u001b[0m\n\u001b[1;32m--> 461\u001b[1;33m         \u001b[0myhat_un_std\u001b[0m\u001b[1;33m=\u001b[0m\u001b[0mself\u001b[0m\u001b[1;33m.\u001b[0m\u001b[0mMY_KDEpredict\u001b[0m\u001b[1;33m(\u001b[0m\u001b[0myin\u001b[0m\u001b[1;33m,\u001b[0m\u001b[0myout\u001b[0m\u001b[1;33m,\u001b[0m\u001b[0mxin\u001b[0m\u001b[1;33m,\u001b[0m\u001b[0mxpr\u001b[0m\u001b[1;33m,\u001b[0m\u001b[0mmodeldict\u001b[0m\u001b[1;33m,\u001b[0m\u001b[0mfixed_or_free_paramdict\u001b[0m\u001b[1;33m)\u001b[0m\u001b[1;33m\u001b[0m\u001b[1;33m\u001b[0m\u001b[0m\n\u001b[0m\u001b[0;32m    462\u001b[0m         \u001b[0my_err\u001b[0m\u001b[1;33m=\u001b[0m\u001b[0mself\u001b[0m\u001b[1;33m.\u001b[0m\u001b[0mydata\u001b[0m\u001b[1;33m-\u001b[0m\u001b[0myhat_un_std\u001b[0m\u001b[1;33m\u001b[0m\u001b[1;33m\u001b[0m\u001b[0m\n\u001b[0;32m    463\u001b[0m         \u001b[0mmse\u001b[0m\u001b[1;33m=\u001b[0m \u001b[0mnp\u001b[0m\u001b[1;33m.\u001b[0m\u001b[0mmean\u001b[0m\u001b[1;33m(\u001b[0m\u001b[0mnp\u001b[0m\u001b[1;33m.\u001b[0m\u001b[0mpower\u001b[0m\u001b[1;33m(\u001b[0m\u001b[0my_err\u001b[0m\u001b[1;33m,\u001b[0m\u001b[1;36m2\u001b[0m\u001b[1;33m)\u001b[0m\u001b[1;33m)\u001b[0m\u001b[1;33m\u001b[0m\u001b[1;33m\u001b[0m\u001b[0m\n",
      "\u001b[1;32m~\\gits\\kernelkernel\\mykern.py\u001b[0m in \u001b[0;36mMY_KDEpredict\u001b[1;34m(self, yin, yout, xin, xpr, modeldict, fixed_or_free_paramdict)\u001b[0m\n\u001b[0;32m    570\u001b[0m \u001b[1;33m\u001b[0m\u001b[0m\n\u001b[0;32m    571\u001b[0m         \u001b[0mxbw\u001b[0m \u001b[1;33m=\u001b[0m \u001b[0mself\u001b[0m\u001b[1;33m.\u001b[0m\u001b[0mBWmaker\u001b[0m\u001b[1;33m(\u001b[0m\u001b[0mmax_bw_Ndiff\u001b[0m\u001b[1;33m,\u001b[0m \u001b[0mfixed_or_free_paramdict\u001b[0m\u001b[1;33m,\u001b[0m \u001b[0mdiffdict\u001b[0m\u001b[1;33m,\u001b[0m \u001b[0mmodeldict\u001b[0m\u001b[1;33m,\u001b[0m\u001b[1;34m'x'\u001b[0m\u001b[1;33m)\u001b[0m\u001b[1;33m\u001b[0m\u001b[1;33m\u001b[0m\u001b[0m\n\u001b[1;32m--> 572\u001b[1;33m         \u001b[0mybw\u001b[0m \u001b[1;33m=\u001b[0m \u001b[0mself\u001b[0m\u001b[1;33m.\u001b[0m\u001b[0mBWmaker\u001b[0m\u001b[1;33m(\u001b[0m\u001b[0mmax_bw_Ndiff\u001b[0m\u001b[1;33m,\u001b[0m \u001b[0mfixed_or_free_paramdict\u001b[0m\u001b[1;33m,\u001b[0m \u001b[0mdiffdict\u001b[0m\u001b[1;33m[\u001b[0m\u001b[1;34m'ydiffdict'\u001b[0m\u001b[1;33m]\u001b[0m\u001b[1;33m,\u001b[0m\u001b[0mmodeldict\u001b[0m\u001b[1;33m,\u001b[0m\u001b[1;34m'y'\u001b[0m\u001b[1;33m)\u001b[0m\u001b[1;33m\u001b[0m\u001b[1;33m\u001b[0m\u001b[0m\n\u001b[0m\u001b[0;32m    573\u001b[0m \u001b[1;33m\u001b[0m\u001b[0m\n\u001b[0;32m    574\u001b[0m         \u001b[0mhx\u001b[0m\u001b[1;33m=\u001b[0m\u001b[0mself\u001b[0m\u001b[1;33m.\u001b[0m\u001b[0mpull_value_from_fixed_or_free\u001b[0m\u001b[1;33m(\u001b[0m\u001b[1;34m'outer_x_bw'\u001b[0m\u001b[1;33m,\u001b[0m \u001b[0mfixed_or_free_paramdict\u001b[0m\u001b[1;33m)\u001b[0m\u001b[1;33m\u001b[0m\u001b[1;33m\u001b[0m\u001b[0m\n",
      "\u001b[1;32m~\\gits\\kernelkernel\\mykern.py\u001b[0m in \u001b[0;36mBWmaker\u001b[1;34m(self, max_bw_Ndiff, fixed_or_free_paramdict, diffdict, modeldict, x_or_y)\u001b[0m\n\u001b[0;32m    158\u001b[0m                     \u001b[1;32mif\u001b[0m \u001b[0mdepth\u001b[0m\u001b[1;33m==\u001b[0m\u001b[0mmax_bw_Ndiff\u001b[0m\u001b[1;33m:\u001b[0m\u001b[0mdeeper_depth_bw\u001b[0m\u001b[1;33m=\u001b[0m\u001b[0mNdiff_depth_bw_params\u001b[0m\u001b[1;33m[\u001b[0m\u001b[1;36m0\u001b[0m\u001b[1;33m]\u001b[0m\u001b[1;33m\u001b[0m\u001b[1;33m\u001b[0m\u001b[0m\n\u001b[0;32m    159\u001b[0m \u001b[1;33m\u001b[0m\u001b[0m\n\u001b[1;32m--> 160\u001b[1;33m                     \u001b[0mthis_depth_bw\u001b[0m\u001b[1;33m=\u001b[0m\u001b[0mself\u001b[0m\u001b[1;33m.\u001b[0m\u001b[0mNdiff_recursive\u001b[0m\u001b[1;33m(\u001b[0m\u001b[0mthis_depth_masked_data\u001b[0m\u001b[1;33m,\u001b[0m\u001b[0mdeeper_depth_bw\u001b[0m\u001b[1;33m,\u001b[0m\u001b[0mthis_depth_exponent\u001b[0m\u001b[1;33m,\u001b[0m\u001b[0mthis_depth_bw_param\u001b[0m\u001b[1;33m,\u001b[0m\u001b[0mNdiff_bw_kern\u001b[0m\u001b[1;33m,\u001b[0m\u001b[0mnormalize\u001b[0m\u001b[1;33m)\u001b[0m\u001b[1;33m\u001b[0m\u001b[1;33m\u001b[0m\u001b[0m\n\u001b[0m\u001b[0;32m    161\u001b[0m \u001b[1;33m\u001b[0m\u001b[0m\n\u001b[0;32m    162\u001b[0m                 \u001b[1;32mif\u001b[0m \u001b[0mdepth\u001b[0m\u001b[1;33m>\u001b[0m\u001b[1;36m1\u001b[0m\u001b[1;33m:\u001b[0m \u001b[0mdeeper_depth_bw\u001b[0m\u001b[1;33m=\u001b[0m\u001b[0mthis_depth_bw\u001b[0m\u001b[1;31m#setup deeper_depth_bw for next iteration if there is another\u001b[0m\u001b[1;33m\u001b[0m\u001b[1;33m\u001b[0m\u001b[0m\n",
      "\u001b[1;32m~\\gits\\kernelkernel\\mykern.py\u001b[0m in \u001b[0;36mNdiff_recursive\u001b[1;34m(self, masked_data, deeper_bw, Ndiff_exp, Ndiff_bw, Ndiff_bw_kern, normalize)\u001b[0m\n\u001b[0;32m     83\u001b[0m         return np.ma.power(\n\u001b[0;32m     84\u001b[0m                     self.sum_then_normalize_bw(\n\u001b[1;32m---> 85\u001b[1;33m                         self.do_bw_kern(Ndiff_bw_kern, masked_data,deeper_bw),normalize),Ndiff_exp                   )\n\u001b[0m\u001b[0;32m     86\u001b[0m \u001b[1;33m\u001b[0m\u001b[0m\n\u001b[0;32m     87\u001b[0m     \u001b[1;32mdef\u001b[0m \u001b[0mNdiff_product\u001b[0m\u001b[1;33m(\u001b[0m\u001b[0mself\u001b[0m\u001b[1;33m,\u001b[0m\u001b[0mmasked_data\u001b[0m\u001b[1;33m,\u001b[0m\u001b[0mdeeper_bw\u001b[0m\u001b[1;33m,\u001b[0m\u001b[0mNdiff_exp\u001b[0m\u001b[1;33m,\u001b[0m\u001b[0mNdiff_bw\u001b[0m\u001b[1;33m,\u001b[0m\u001b[0mNdiff_bw_kern\u001b[0m\u001b[1;33m,\u001b[0m\u001b[0mnormalize\u001b[0m\u001b[1;33m)\u001b[0m\u001b[1;33m:\u001b[0m\u001b[1;33m\u001b[0m\u001b[1;33m\u001b[0m\u001b[0m\n",
      "\u001b[1;32m~\\gits\\kernelkernel\\mykern.py\u001b[0m in \u001b[0;36mdo_bw_kern\u001b[1;34m(self, kern_choice, maskeddata, Ndiff_depth_bw_param, x_bandscale_params)\u001b[0m\n\u001b[0;32m    180\u001b[0m             \u001b[1;31m#axis-1 b/c axes counted from zero but ndim counts from 1\u001b[0m\u001b[1;33m\u001b[0m\u001b[1;33m\u001b[0m\u001b[1;33m\u001b[0m\u001b[0m\n\u001b[0;32m    181\u001b[0m         \u001b[1;32mif\u001b[0m \u001b[0mkern_choice\u001b[0m\u001b[1;33m==\u001b[0m\u001b[1;34m'rbfkern'\u001b[0m\u001b[1;33m:\u001b[0m\u001b[1;33m\u001b[0m\u001b[1;33m\u001b[0m\u001b[0m\n\u001b[1;32m--> 182\u001b[1;33m             \u001b[1;32mreturn\u001b[0m \u001b[0mself\u001b[0m\u001b[1;33m.\u001b[0m\u001b[0mgkernh\u001b[0m\u001b[1;33m(\u001b[0m\u001b[0mmaskeddata\u001b[0m\u001b[1;33m,\u001b[0m \u001b[0mNdiff_depth_bw_param\u001b[0m\u001b[1;33m)\u001b[0m\u001b[1;31m#parameters already collapsed, so this will be rbf\u001b[0m\u001b[1;33m\u001b[0m\u001b[1;33m\u001b[0m\u001b[0m\n\u001b[0m\u001b[0;32m    183\u001b[0m \u001b[1;33m\u001b[0m\u001b[0m\n\u001b[0;32m    184\u001b[0m     \u001b[1;32mdef\u001b[0m \u001b[0mgkernh\u001b[0m\u001b[1;33m(\u001b[0m\u001b[0mself\u001b[0m\u001b[1;33m,\u001b[0m \u001b[0mx\u001b[0m\u001b[1;33m,\u001b[0m \u001b[0mh\u001b[0m\u001b[1;33m)\u001b[0m\u001b[1;33m:\u001b[0m\u001b[1;33m\u001b[0m\u001b[1;33m\u001b[0m\u001b[0m\n",
      "\u001b[1;32m~\\gits\\kernelkernel\\mykern.py\u001b[0m in \u001b[0;36mgkernh\u001b[1;34m(self, x, h)\u001b[0m\n\u001b[0;32m    185\u001b[0m         \u001b[1;34m\"returns the gaussian kernel at x with bandwidth h\"\u001b[0m\u001b[1;33m\u001b[0m\u001b[1;33m\u001b[0m\u001b[0m\n\u001b[0;32m    186\u001b[0m         \u001b[0mdenom\u001b[0m\u001b[1;33m=\u001b[0m\u001b[1;36m1\u001b[0m\u001b[1;33m/\u001b[0m\u001b[1;33m(\u001b[0m\u001b[1;33m(\u001b[0m\u001b[1;36m2\u001b[0m\u001b[1;33m*\u001b[0m\u001b[0mnp\u001b[0m\u001b[1;33m.\u001b[0m\u001b[0mpi\u001b[0m\u001b[1;33m)\u001b[0m\u001b[1;33m**\u001b[0m\u001b[1;36m.5\u001b[0m\u001b[1;33m*\u001b[0m\u001b[0mh\u001b[0m\u001b[1;33m)\u001b[0m\u001b[1;33m\u001b[0m\u001b[1;33m\u001b[0m\u001b[0m\n\u001b[1;32m--> 187\u001b[1;33m         \u001b[0mnumerator\u001b[0m\u001b[1;33m=\u001b[0m\u001b[0mnp\u001b[0m\u001b[1;33m.\u001b[0m\u001b[0mma\u001b[0m\u001b[1;33m.\u001b[0m\u001b[0mexp\u001b[0m\u001b[1;33m(\u001b[0m\u001b[1;33m-\u001b[0m\u001b[0mnp\u001b[0m\u001b[1;33m.\u001b[0m\u001b[0mma\u001b[0m\u001b[1;33m.\u001b[0m\u001b[0mpower\u001b[0m\u001b[1;33m(\u001b[0m\u001b[0mx\u001b[0m\u001b[1;33m/\u001b[0m\u001b[1;33m(\u001b[0m\u001b[0mh\u001b[0m\u001b[1;33m*\u001b[0m\u001b[1;36m2\u001b[0m\u001b[1;33m)\u001b[0m\u001b[1;33m,\u001b[0m \u001b[1;36m2\u001b[0m\u001b[1;33m)\u001b[0m\u001b[1;33m)\u001b[0m\u001b[1;33m\u001b[0m\u001b[1;33m\u001b[0m\u001b[0m\n\u001b[0m\u001b[0;32m    188\u001b[0m         \u001b[0mkern\u001b[0m\u001b[1;33m=\u001b[0m\u001b[0mdenom\u001b[0m\u001b[1;33m*\u001b[0m\u001b[0mnumerator\u001b[0m\u001b[1;33m\u001b[0m\u001b[1;33m\u001b[0m\u001b[0m\n\u001b[0;32m    189\u001b[0m         \u001b[1;32mreturn\u001b[0m \u001b[0mkern\u001b[0m\u001b[1;33m\u001b[0m\u001b[1;33m\u001b[0m\u001b[0m\n",
      "\u001b[1;32m~\\AppData\\Local\\Continuum\\anaconda3\\lib\\site-packages\\numpy\\ma\\core.py\u001b[0m in \u001b[0;36mpower\u001b[1;34m(a, b, third)\u001b[0m\n\u001b[0;32m   6664\u001b[0m     \u001b[1;31m# Get the result and view it as a (subclass of) MaskedArray\u001b[0m\u001b[1;33m\u001b[0m\u001b[1;33m\u001b[0m\u001b[1;33m\u001b[0m\u001b[0m\n\u001b[0;32m   6665\u001b[0m     \u001b[1;32mwith\u001b[0m \u001b[0mnp\u001b[0m\u001b[1;33m.\u001b[0m\u001b[0merrstate\u001b[0m\u001b[1;33m(\u001b[0m\u001b[0mdivide\u001b[0m\u001b[1;33m=\u001b[0m\u001b[1;34m'ignore'\u001b[0m\u001b[1;33m,\u001b[0m \u001b[0minvalid\u001b[0m\u001b[1;33m=\u001b[0m\u001b[1;34m'ignore'\u001b[0m\u001b[1;33m)\u001b[0m\u001b[1;33m:\u001b[0m\u001b[1;33m\u001b[0m\u001b[1;33m\u001b[0m\u001b[0m\n\u001b[1;32m-> 6666\u001b[1;33m         \u001b[0mresult\u001b[0m \u001b[1;33m=\u001b[0m \u001b[0mnp\u001b[0m\u001b[1;33m.\u001b[0m\u001b[0mwhere\u001b[0m\u001b[1;33m(\u001b[0m\u001b[0mm\u001b[0m\u001b[1;33m,\u001b[0m \u001b[0mfa\u001b[0m\u001b[1;33m,\u001b[0m \u001b[0mumath\u001b[0m\u001b[1;33m.\u001b[0m\u001b[0mpower\u001b[0m\u001b[1;33m(\u001b[0m\u001b[0mfa\u001b[0m\u001b[1;33m,\u001b[0m \u001b[0mfb\u001b[0m\u001b[1;33m)\u001b[0m\u001b[1;33m)\u001b[0m\u001b[1;33m.\u001b[0m\u001b[0mview\u001b[0m\u001b[1;33m(\u001b[0m\u001b[0mbasetype\u001b[0m\u001b[1;33m)\u001b[0m\u001b[1;33m\u001b[0m\u001b[1;33m\u001b[0m\u001b[0m\n\u001b[0m\u001b[0;32m   6667\u001b[0m     \u001b[0mresult\u001b[0m\u001b[1;33m.\u001b[0m\u001b[0m_update_from\u001b[0m\u001b[1;33m(\u001b[0m\u001b[0ma\u001b[0m\u001b[1;33m)\u001b[0m\u001b[1;33m\u001b[0m\u001b[1;33m\u001b[0m\u001b[0m\n\u001b[0;32m   6668\u001b[0m     \u001b[1;31m# Find where we're in trouble w/ NaNs and Infs\u001b[0m\u001b[1;33m\u001b[0m\u001b[1;33m\u001b[0m\u001b[1;33m\u001b[0m\u001b[0m\n",
      "\u001b[1;31mKeyboardInterrupt\u001b[0m: "
     ]
    }
   ],
   "source": [
    "import numpy as np\n",
    "\n",
    "#set training data size\n",
    "trainsize=20\n",
    "datagen_dict_override={}\n",
    "datagen_dict_override['train_n']=trainsize\n",
    "datagen_dict_override['ftype']='quadratic'\n",
    "\n",
    "opt_dict_override={}\n",
    "modeldict={}\n",
    "hyper_param_form_dict={}\n",
    "hyper_param_dict={}\n",
    "opt_settings_dict={}\n",
    "options={}\n",
    "\n",
    "modeldict['Ndiff_type']='recursive'\n",
    "modeldict['max_bw_Ndiff']=2\n",
    "modeldict['ykern_grid']=trainsize+1\n",
    "#modeldict['hyper_param_form_dict']={'y_bandscale':'fixed'}\n",
    "#hyper_param_dict['y_bandscale']=np.array([1])\n",
    "#opt_dict_override['hyper_param_dict']=hyper_param_dict\n",
    "opt_dict_override['modeldict']=modeldict\n",
    "\n",
    "options['fatol']=0.5\n",
    "options['xatol']=.05\n",
    "opt_settings_dict['options']=options\n",
    "#opt_settings_dict['help_start']='no'\n",
    "#opt_settings_dict['partial_match']='no'\n",
    "opt_dict_override['opt_settings_dict']=opt_settings_dict\n",
    "\n",
    "\n",
    "quad_misspec.do_monte_opt(datagen_dict_override=datagen_dict_override, opt_dict_override=opt_dict_override)\n",
    "\n",
    "print(quad_misspec.minimize_obj)\n",
    "'''\n",
    "optimizedict1=quad_misspec.optimizedict\n",
    "x=quad_misspec.train_x\n",
    "y=quad_misspec.train_y\n",
    "xfull=np.concatenate([np.ones([trainsize,1]),x],axis=1)\n",
    "n,p=x.shape\n",
    "\n",
    "x_validate=quad_misspec.val_x\n",
    "y_validate=quad_misspec.val_y'''"
   ]
  },
  {
   "cell_type": "code",
   "execution_count": null,
   "metadata": {
    "collapsed": false,
    "jupyter": {
     "outputs_hidden": false
    },
    "pycharm": {
     "is_executing": false,
     "name": "#%%\n"
    }
   },
   "outputs": [],
   "source": [
    "\n"
   ]
  },
  {
   "cell_type": "markdown",
   "metadata": {
    "pycharm": {
     "name": "#%% md\n"
    }
   },
   "source": [
    "#-----------------Calibrate/Optimize--------"
   ]
  },
  {
   "cell_type": "code",
   "execution_count": null,
   "metadata": {
    "collapsed": false,
    "jupyter": {
     "outputs_hidden": false
    },
    "pycharm": {
     "is_executing": false,
     "name": "#%%\n"
    }
   },
   "outputs": [],
   "source": []
  },
  {
   "cell_type": "code",
   "execution_count": null,
   "metadata": {},
   "outputs": [],
   "source": [
    "import myreg\n",
    "x=quad_misspec.train_x\n",
    "y=quad_misspec.train_y\n",
    "xfull=np.concatenate([np.ones([x.shape[0],1]),x],axis=1)\n",
    "just_linreg=myreg.reg(y,xfull)\n",
    "just_linreg.myreg()\n",
    "print('linreg_mse:',just_linreg.mse)"
   ]
  },
  {
   "cell_type": "code",
   "execution_count": null,
   "metadata": {},
   "outputs": [],
   "source": []
  },
  {
   "cell_type": "code",
   "execution_count": null,
   "metadata": {},
   "outputs": [],
   "source": [
    "from bokeh.io import show, output_notebook#,curdoc,save, output_file\n",
    "from bokeh.plotting import figure\n",
    "#from bokeh.models import ColumnDataSource, Range1d, BBoxTileSource\n",
    "#from bokeh.layouts import row\n",
    "output_notebook()"
   ]
  },
  {
   "cell_type": "code",
   "execution_count": null,
   "metadata": {},
   "outputs": [],
   "source": [
    "#xgrid=np.linspace(1,n,n)\n",
    "x=quad_misspec.train_x\n",
    "y=quad_misspec.train_y\n",
    "\n",
    "\n",
    "xgrid=x[:,0]\n",
    "yhat=quad_misspec.optimize_obj.yhat_un_std\n",
    "p=figure(title='y and yhat', plot_width=900, plot_height=500)\n",
    "p.xaxis.axis_label = 'observations'\n",
    "p.scatter(xgrid,y,size=10,color='blue',alpha=0.4,legend='y')\n",
    "#p.line(xgrid,precip,color='blue',alpha=0.6,legend='precipitation')\n",
    "p.scatter(xgrid,yhat,size=5,color='green',alpha=0.9,legend='yhat')\n",
    "p.circle(xgrid,just_linreg.yhat,color='red',legend='just lin reg yhat')\n",
    "p.line(xgrid,np.mean(y))\n",
    "p.legend.location = \"top_left\"\n",
    "#p.yaxis.visible=False\n",
    "show(p)"
   ]
  },
  {
   "cell_type": "code",
   "execution_count": null,
   "metadata": {},
   "outputs": [],
   "source": [
    "print(yhat)\n",
    "print(y)"
   ]
  },
  {
   "cell_type": "code",
   "execution_count": null,
   "metadata": {},
   "outputs": [],
   "source": []
  },
  {
   "cell_type": "code",
   "execution_count": null,
   "metadata": {},
   "outputs": [],
   "source": [
    "\n",
    "ypredict=optimized_Ndiff_kernel.predict_tool(xvalidate,optimized_Ndiff_kernel.fixed_or_free_paramdict,modeldict1)\n",
    "prediction_err=yvalidate-ypredict\n",
    "prediction_mse=np.mean(prediction_err**2)"
   ]
  },
  {
   "cell_type": "code",
   "execution_count": null,
   "metadata": {},
   "outputs": [],
   "source": [
    "np.ma.count_masked(yhat)"
   ]
  },
  {
   "cell_type": "code",
   "execution_count": null,
   "metadata": {},
   "outputs": [],
   "source": []
  },
  {
   "cell_type": "markdown",
   "metadata": {},
   "source": [
    "## class toolcompare(object):"
   ]
  }
 ],
 "metadata": {
  "kernelspec": {
   "display_name": "Python 3",
   "language": "python",
   "name": "python3"
  },
  "language_info": {
   "codemirror_mode": {
    "name": "ipython",
    "version": 3
   },
   "file_extension": ".py",
   "mimetype": "text/x-python",
   "name": "python",
   "nbconvert_exporter": "python",
   "pygments_lexer": "ipython3",
   "version": "3.7.4"
  },
  "pycharm": {
   "stem_cell": {
    "cell_type": "raw",
    "metadata": {
     "collapsed": false
    },
    "source": []
   }
  }
 },
 "nbformat": 4,
 "nbformat_minor": 4
}
