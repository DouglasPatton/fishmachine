{
 "cells": [
  {
   "cell_type": "markdown",
   "metadata": {},
   "source": [
    "### kernel density estimation and kernel regression for prediction\n",
    "This notebook is my first attempt to write down the ddiff and dddiff models that I have been working on"
   ]
  },
  {
   "cell_type": "markdown",
   "metadata": {},
   "source": [
    "mixed recursive/iterative approach (rather than vectorized approach that is harder to generalize\n",
    "- create separate submodules for KDE and KDreg\n",
    "    - develop a system for storing differenced but unweighted data and the appropriate mask to lessen memory usage. \n",
    "        -1's or 0's depending on i/j/k/l/.... values\n",
    "    - figure out the deepest level requested by the user and levels that are less deep are just slices of the deeper model. \n",
    "        -scout out the tree to build the differenced dataset. \n",
    "          \n",
    "        \n",
    " plot and compare\n",
    "on synthetic data, 1, 2, 3+ mixed distributions\n",
    "1d - Ndiff vs gaussian kernel vs kernel_tunneling\n",
    "2d -  \n",
    "\n",
    "\n",
    "multidimensional x problem\n",
    "e.g., parameter treatment\n",
    "\"product kernel approach\" vs l2 \"el two\" (radial basis?)distance "
   ]
  },
  {
   "cell_type": "markdown",
   "metadata": {},
   "source": [
    "#### generate a simple linear dataset y=xb+e\n",
    "##### store validation data from same dataset too"
   ]
  },
  {
   "cell_type": "markdown",
   "metadata": {
    "pycharm": {
     "name": "#%% md\n"
    }
   },
   "source": [
    "### create modeldict\n",
    "- 'Ndiff_type': refers to the mathematical form of Ndiff\n",
    "  - 'product'-Ndiff1 multiplied by Ndiff2\n",
    "  - 'recursive'-Ndiff1's bw is Ndiff 2\n",
    "- max_bw_Ndiff: is the depth of Ndiffs applied in estimating the bandwidth.\n",
    "- 'normalize_Ndiffwtsum':\n",
    "  - 'across' means sum across own level of kernelized-Ndiffs and divide by that sum (CDF approach)\n",
    "  - 'own_n' means for (n+k)diff where n+K=max_bw_Ndiff\n",
    "- Ndiff_bw_kern:\n",
    "  - rbfkern means use the radial basis function kernel\n",
    "  - 'product' means use product kernel like as in liu and yang eq1. \n",
    "- 'regression_model':\n",
    "  - 'NW' means use nadaraya-watson kernel regression\n",
    "  - 'full_logit' means local logit with all variables entering linearly\n",
    "  - 'rbf_logit' means local logit with 1 parameters: scaled l2 norm centered on zero \n",
    " (globally or by i?). Is this a new idea?\n",
    "- outer_x_bw_form: if x is separated into blocks of rvars that are combined within a block using rbf kernel, \n",
    "  - 'one_for_all' - use same hx bw for all blocks\n",
    "  - 'one_per_block' - each block or rvars gets an hx\n",
    "- ykern_grid\n",
    "  - if int, then create int evnely spaced values from -3 to 3 (standard normal middle ~99%)\n",
    "  - 'no' means use original data points (self is masked when predicting self)\n",
    "- xkern_grid\n",
    "  - much like ykern_grid, but used less frequently since x's are typically pre-specified\n",
    "- product_kern_norm: when multiplying kernels across random variables, this parameter determines if each random variable has its kernels normalized before the product or not\n",
    "  - 'self' means each random variable has its kernels divided by the sum of kernels across the nout axis (the number of possibile values y is averaged over, whose probabilities sum to 1)\n",
    "  - 'own_n' means same as self, but divided by count of non-masked items in second to last, nout lenght dimension\n",
    "  - 'none' means no normalization prior to taking products across rvar kernels\n",
    "- hyper_param_form_dict is a nested dictionary\n",
    "  - Ndiff_exponent is the exponent wrapped around typically a sum of kernels for each Ndiff level \n",
    "after level 1 (i.e., (i-j) or centered, obvious/conventional level.)\n",
    "  - x_bandscale is the parameter specific to each variable (each x in X) used for prediction (y)\n",
    "  - Ndiff_depth_bw is used as the kernel's bandwidth (h) at each level of Ndiff including at level 1 \n",
    "  - outer_x_bw vanilla bandwidth for the rbf or product kernel\n",
    "  - outer_y_bw vanilla bandwidth for y"
   ]
  },
  {
   "cell_type": "code",
   "execution_count": null,
   "metadata": {
    "pycharm": {
     "is_executing": false,
     "name": "#%%\n"
    }
   },
   "outputs": [
    {
     "name": "stdout",
     "output_type": "stream",
     "text": [
      ":val(30) replaces val(40)\n",
      "\n",
      ":val(quadratic) replaces val(linear)\n",
      "\n",
      "val is dict in modeldict, recursive call\n",
      ":val(recursive) replaces val(product)\n",
      "\n",
      ":val(2) replaces val(2)\n",
      "\n",
      ":val(31) replaces val(50)\n",
      "\n",
      "made it back from recursive call\n",
      "val is dict in opt_settings_dict, recursive call\n",
      "val is dict in options, recursive call\n",
      ":val(0.1) replaces val(0.1)\n",
      "\n",
      ":val(0.01) replaces val(0.001)\n",
      "\n",
      "made it back from recursive call\n",
      ":val(no) replaces val(yes)\n",
      "\n",
      "made it back from recursive call\n",
      "vstring::key(modeldict):key(opt_settings_dict) and done2\n",
      "newoptimizedict1{'opt_settings_dict': {'method': 'Nelder-Mead', 'options': {'xatol': 0.01, 'fatol': 0.1, 'adaptive': True}, 'help_start': 'yes', 'partial_match': 'no'}, 'hyper_param_dict': {'Ndiff_exponent': array([0.3, 0.3]), 'x_bandscale': array([-0.03, -0.03]), 'outer_x_bw': array([1]), 'outer_y_bw': array([3]), 'Ndiff_depth_bw': array([0.5]), 'y_bandscale': array([2.])}, 'modeldict': {'Ndiff_type': 'recursive', 'Ndiff_start': 1, 'max_bw_Ndiff': 2, 'normalize_Ndiffwtsum': 'own_n', 'xkern_grid': 'no', 'ykern_grid': 31, 'outer_kern': 'gaussian', 'Ndiff_bw_kern': 'rbfkern', 'outer_x_bw_form': 'one_for_all', 'regression_model': 'NW', 'product_kern_norm': 'self', 'hyper_param_form_dict': {'Ndiff_exponent': 'free', 'x_bandscale': 'non-neg', 'Ndiff_depth_bw': 'non-neg', 'outer_x_bw': 'non-neg', 'outer_y_bw': 'non-neg', 'y_bandscale': 'non-neg'}}}\n",
      "help_start:yes\n",
      "do lists match? [True, True, True, True]\n",
      "finallist length:4,optdict_match_list length:4\n",
      "--------------------------------help_start is triggered---------------------------\n",
      "partial match found a full match.....matchcount:4\n",
      "from model_save, This dictionary, x,y combo has finished optimization before:1 times\n",
      "saved_filename is final_model_save, but does not seem to exist\n",
      "optimiziation dict with lowest mse:219.76740491731525was last saved20191111-094408\n",
      "overriding start parameters with saved parameters\n",
      "rebuild hyper param dict vstring:for Ndiff_exponent old val([0.3 0.3])replaced with new val([0.3 0.3])for x_bandscale old val([-0.03 -0.03])replaced with new val([-0.0315 -0.03  ])for outer_x_bw old val([1])replaced with new val([1.])for outer_y_bw old val([3])replaced with new val([3.])for Ndiff_depth_bw old val([0.5])replaced with new val([0.5])for y_bandscale old val([2.])replaced with new val([2.])\n",
      "starting at 20191111-094504\n",
      "param_valdict:{'Ndiff_exponent': array([0.3, 0.3]), 'x_bandscale': array([-0.0315, -0.03  ]), 'outer_x_bw': array([1.]), 'outer_y_bw': array([3.]), 'Ndiff_depth_bw': array([0.5]), 'y_bandscale': array([2.])}\n",
      "modeldict:{'Ndiff_type': 'recursive', 'Ndiff_start': 1, 'max_bw_Ndiff': 2, 'normalize_Ndiffwtsum': 'own_n', 'xkern_grid': 'no', 'ykern_grid': 31, 'outer_kern': 'gaussian', 'Ndiff_bw_kern': 'rbfkern', 'outer_x_bw_form': 'one_for_all', 'regression_model': 'NW', 'product_kern_norm': 'self', 'hyper_param_form_dict': {'Ndiff_exponent': 'free', 'x_bandscale': 'non-neg', 'Ndiff_depth_bw': 'non-neg', 'outer_x_bw': 'non-neg', 'outer_y_bw': 'non-neg', 'y_bandscale': 'non-neg'}}\n",
      "saved to model_save at about 20191111-094508 with mse=219.76740491731525\n",
      "saved to model_save at about 20191111-094511 with mse=216.6488080031053\n",
      "save_interval changed to 6\n",
      "saved to model_save at about 20191111-094525 with mse=216.6488080031053\n",
      "saved to model_save at about 20191111-094546 with mse=209.6699316761259\n",
      "saved to model_save at about 20191111-094606 with mse=209.29001859740643\n",
      "saved to model_save at about 20191111-094628 with mse=206.31183161434274\n",
      "saved to model_save at about 20191111-094648 with mse=206.02189349245572\n",
      "saved to model_save at about 20191111-094710 with mse=202.37604816873903\n",
      "saved to model_save at about 20191111-094730 with mse=199.89722406674028\n",
      "saved to model_save at about 20191111-094751 with mse=194.35060646036786\n",
      "saved to model_save at about 20191111-094812 with mse=191.4765352029327\n",
      "saved to model_save at about 20191111-094832 with mse=187.50786857328367\n",
      "saved to model_save at about 20191111-094852 with mse=177.30423496432158\n"
     ]
    }
   ],
   "source": [
    "import numpy as np\n",
    "import kernelcompare as kc\n",
    "#set training data size\n",
    "trainsize=30\n",
    "datagen_dict_override={}\n",
    "datagen_dict_override['train_n']=trainsize\n",
    "datagen_dict_override['ftype']='quadratic'\n",
    "\n",
    "opt_dict_override={}\n",
    "modeldict={}\n",
    "hyper_param_dict={}\n",
    "opt_settings_dict={}\n",
    "options={}\n",
    "\n",
    "modeldict['Ndiff_type']='recursive'\n",
    "modeldict['max_bw_Ndiff']=2\n",
    "modeldict['ykern_grid']=trainsize+1\n",
    "opt_dict_override['modeldict']=modeldict\n",
    "\n",
    "options['fatol']=0.1\n",
    "options['xatol']=.01\n",
    "opt_settings_dict['options']=options\n",
    "#opt_settings_dict['help_start']='no'\n",
    "opt_settings_dict['partial_match']='no'\n",
    "opt_dict_override['opt_settings_dict']=opt_settings_dict\n",
    "\n",
    "\n",
    "quad_misspec=kc.DoKernelOpt(datagen_dict_override=datagen_dict_override, opt_dict_override=opt_dict_override)\n",
    "\n",
    "print(quad_misspec.minimize_obj)\n",
    "'''\n",
    "optimizedict1=quad_misspec.optimizedict\n",
    "x=quad_misspec.train_x\n",
    "y=quad_misspec.train_y\n",
    "xfull=np.concatenate([np.ones([trainsize,1]),x],axis=1)\n",
    "n,p=x.shape\n",
    "\n",
    "x_validate=quad_misspec.val_x\n",
    "y_validate=quad_misspec.val_y'''"
   ]
  },
  {
   "cell_type": "code",
   "execution_count": null,
   "metadata": {
    "collapsed": false,
    "jupyter": {
     "outputs_hidden": false
    },
    "pycharm": {
     "is_executing": false,
     "name": "#%%\n"
    }
   },
   "outputs": [],
   "source": [
    "\n"
   ]
  },
  {
   "cell_type": "markdown",
   "metadata": {
    "pycharm": {
     "name": "#%% md\n"
    }
   },
   "source": [
    "#-----------------Calibrate/Optimize--------"
   ]
  },
  {
   "cell_type": "code",
   "execution_count": null,
   "metadata": {
    "collapsed": false,
    "jupyter": {
     "outputs_hidden": false
    },
    "pycharm": {
     "is_executing": false,
     "name": "#%%\n"
    }
   },
   "outputs": [],
   "source": []
  },
  {
   "cell_type": "code",
   "execution_count": null,
   "metadata": {},
   "outputs": [],
   "source": [
    "import myreg\n",
    "x=quad_misspec.train_x\n",
    "y=quad_misspec.train_y\n",
    "xfull=np.concatenate([np.ones([x.shape[0],]),x],axis=1)\n",
    "just_linreg=myreg.reg(y,xfull)\n",
    "just_linreg.myreg()\n",
    "print('linreg_mse:',just_linreg.mse)"
   ]
  },
  {
   "cell_type": "code",
   "execution_count": null,
   "metadata": {},
   "outputs": [],
   "source": []
  },
  {
   "cell_type": "code",
   "execution_count": null,
   "metadata": {},
   "outputs": [],
   "source": [
    "from bokeh.io import show, output_notebook#,curdoc,save, output_file\n",
    "from bokeh.plotting import figure\n",
    "#from bokeh.models import ColumnDataSource, Range1d, BBoxTileSource\n",
    "#from bokeh.layouts import row\n",
    "output_notebook()"
   ]
  },
  {
   "cell_type": "code",
   "execution_count": null,
   "metadata": {},
   "outputs": [],
   "source": [
    "#xgrid=np.linspace(1,n,n)\n",
    "x=quad_misspec.train_x\n",
    "y=quad_misspec.train_y\n",
    "\n",
    "xgrid=x[:,0]\n",
    "yhat=quad_misspec.yhat_un_std\n",
    "p=figure(title='y and yhat', plot_width=900, plot_height=500)\n",
    "p.xaxis.axis_label = 'observations'\n",
    "p.scatter(xgrid,y,size=10,color='blue',alpha=0.4,legend='y')\n",
    "#p.line(xgrid,precip,color='blue',alpha=0.6,legend='precipitation')\n",
    "p.scatter(xgrid,yhat,size=5,color='green',alpha=0.9,legend='yhat')\n",
    "p.circle(xgrid,just_linreg.yhat,color='red',legend='just lin reg yhat')\n",
    "p.line(xgrid,np.mean(y))\n",
    "p.legend.location = \"top_left\"\n",
    "#p.yaxis.visible=False\n",
    "show(p)"
   ]
  },
  {
   "cell_type": "code",
   "execution_count": null,
   "metadata": {},
   "outputs": [],
   "source": [
    "print(yhat)\n",
    "print(y)"
   ]
  },
  {
   "cell_type": "code",
   "execution_count": null,
   "metadata": {},
   "outputs": [],
   "source": []
  },
  {
   "cell_type": "code",
   "execution_count": null,
   "metadata": {},
   "outputs": [],
   "source": [
    "\n",
    "ypredict=optimized_Ndiff_kernel.predict_tool(xvalidate,optimized_Ndiff_kernel.fixed_or_free_paramdict,modeldict1)\n",
    "prediction_err=yvalidate-ypredict\n",
    "prediction_mse=np.mean(prediction_err**2)"
   ]
  },
  {
   "cell_type": "code",
   "execution_count": null,
   "metadata": {},
   "outputs": [],
   "source": [
    "np.ma.count_masked(yhat)"
   ]
  },
  {
   "cell_type": "code",
   "execution_count": null,
   "metadata": {},
   "outputs": [],
   "source": []
  },
  {
   "cell_type": "markdown",
   "metadata": {},
   "source": [
    "## class toolcompare(object):"
   ]
  }
 ],
 "metadata": {
  "kernelspec": {
   "display_name": "Python 3",
   "language": "python",
   "name": "python3"
  },
  "language_info": {
   "codemirror_mode": {
    "name": "ipython",
    "version": 3
   },
   "file_extension": ".py",
   "mimetype": "text/x-python",
   "name": "python",
   "nbconvert_exporter": "python",
   "pygments_lexer": "ipython3",
   "version": "3.7.4"
  },
  "pycharm": {
   "stem_cell": {
    "cell_type": "raw",
    "metadata": {
     "collapsed": false
    },
    "source": []
   }
  }
 },
 "nbformat": 4,
 "nbformat_minor": 4
}
