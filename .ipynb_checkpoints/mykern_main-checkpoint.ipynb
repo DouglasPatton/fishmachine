{
 "cells": [
  {
   "cell_type": "markdown",
   "metadata": {},
   "source": [
    "### kernel density estimation and kernel regression for prediction\n",
    "This notebook is my first attempt to write down the ddiff and dddiff models that I have been working on"
   ]
  },
  {
   "cell_type": "markdown",
   "metadata": {},
   "source": [
    "mixed recursive/iterative approach (rather than vectorized approach that is harder to generalize\n",
    "- create separate submodules for KDE and KDreg\n",
    "    - develop a system for storing differenced but unweighted data and the appropriate mask to lessen memory usage. \n",
    "        -1's or 0's depending on i/j/k/l/.... values\n",
    "    - figure out the deepest level requested by the user and levels that are less deep are just slices of the deeper model. \n",
    "        -scout out the tree to build the differenced dataset. \n",
    "          \n",
    "        \n",
    " plot and compare\n",
    "on synthetic data, 1, 2, 3+ mixed distributions\n",
    "1d - Ndiff vs gaussian kernel vs kernel_tunneling\n",
    "2d -  \n",
    "\n",
    "\n",
    "multidimensional x problem\n",
    "e.g., parameter treatment\n",
    "\"product kernel approach\" vs l2 \"el two\" (radial basis?)distance "
   ]
  },
  {
   "cell_type": "markdown",
   "metadata": {},
   "source": [
    "#### generate a simple linear dataset y=xb+e\n",
    "##### store validation data from same dataset too"
   ]
  },
  {
   "cell_type": "markdown",
   "metadata": {
    "pycharm": {
     "name": "#%% md\n"
    }
   },
   "source": [
    "### create modeldict\n",
    "- 'Ndiff_type': refers to the mathematical form of Ndiff\n",
    "  - 'product'-Ndiff1 multiplied by Ndiff2\n",
    "  - 'recursive'-Ndiff1's bw is Ndiff 2\n",
    "- max_bw_Ndiff: is the depth of Ndiffs applied in estimating the bandwidth.\n",
    "- 'normalize_Ndiffwtsum':\n",
    "  - 'across' means sum across own level of kernelized-Ndiffs and divide by that sum (CDF approach)\n",
    "  - 'own_n' means for (n+k)diff where n+K=max_bw_Ndiff\n",
    "- Ndiff_bw_kern:\n",
    "  - rbfkern means use the radial basis function kernel\n",
    "  - 'product' means use product kernel like as in liu and yang eq1. \n",
    "- 'regression_model':\n",
    "  - 'NW' means use nadaraya-watson kernel regression\n",
    "  - 'full_logit' means local logit with all variables entering linearly\n",
    "  - 'rbf_logit' means local logit with 1 parameters: scaled l2 norm centered on zero \n",
    " (globally or by i?). Is this a new idea?\n",
    "- outer_x_bw_form: if x is separated into blocks of rvars that are combined within a block using rbf kernel, \n",
    "  - 'one_for_all' - use same hx bw for all blocks\n",
    "  - 'one_per_block' - each block or rvars gets an hx\n",
    "- ykern_grid\n",
    "  - if int, then create int evnely spaced values from -3 to 3 (standard normal middle ~99%)\n",
    "  - 'no' means use original data points (self is masked when predicting self)\n",
    "- xkern_grid\n",
    "  - much like ykern_grid, but used less frequently since x's are typically pre-specified\n",
    "- product_kern_norm: when multiplying kernels across random variables, this parameter determines if each random variable has its kernels normalized before the product or not\n",
    "  - 'self' means each random variable has its kernels divided by the sum of kernels across the nout axis (the number of possibile values y is averaged over, whose probabilities sum to 1)\n",
    "  - 'own_n' means same as self, but divided by count of non-masked items in second to last, nout lenght dimension\n",
    "  - 'none' means no normalization prior to taking products across rvar kernels\n",
    "- hyper_param_form_dict is a nested dictionary\n",
    "  - Ndiff_exponent is the exponent wrapped around typically a sum of kernels for each Ndiff level \n",
    "after level 1 (i.e., (i-j) or centered, obvious/conventional level.)\n",
    "  - x_bandscale is the parameter specific to each variable (each x in X) used for prediction (y)\n",
    "  - Ndiff_depth_bw is used as the kernel's bandwidth (h) at each level of Ndiff including at level 1 \n",
    "  - outer_x_bw vanilla bandwidth for the rbf or product kernel\n",
    "  - outer_y_bw vanilla bandwidth for y"
   ]
  },
  {
   "cell_type": "code",
   "execution_count": 1,
   "metadata": {},
   "outputs": [],
   "source": [
    "import os\n",
    "import kernelcompare as kc\n",
    "#from importlib import reload\n",
    "networkdir='o:/public/dpatton/kernel'\n",
    "mydir=os.getcwd()\n",
    "#mydir2=os.path.join(mydir,\"old models without datagen\")\n",
    "test=kc.KernelCompare(directory=mydir)"
   ]
  },
  {
   "cell_type": "code",
   "execution_count": 2,
   "metadata": {},
   "outputs": [],
   "source": [
    "Ndiff_type_variations=('modeldict:Ndiff_type',['recursive','product'])\n",
    "max_bw_Ndiff_variations=('modeldict:max_bw_Ndiff',[2,3])\n",
    "Ndiff_start_variations=('modeldict:Ndiff_start',[1,2])\n",
    "ykern_grid_variations=('modeldict:ykern_grid',[33])\n",
    "#product_kern_norm_variations=('modeldict:product_kern_norm',['self','own_n'])#include None too?\n",
    "#normalize_Ndiffwtsum_variations=('modeldict:normalize_Ndiffwtsum',['own_n','across'])\n",
    "optdict_variation_list=[Ndiff_type_variations,ykern_grid_variations,max_bw_Ndiff_variations,Ndiff_start_variations]  #,product_kern_norm_variations,normalize_Ndiffwtsum_variations]\n",
    "\n"
   ]
  },
  {
   "cell_type": "code",
   "execution_count": 3,
   "metadata": {},
   "outputs": [],
   "source": [
    "#the default datagen_dict as of 11/25/2019\n",
    "#datagen_dict={'batch_n':32,'batchcount':10, 'param_count':param_count,'seed':1, 'ftype':'linear', 'evar':1, 'source':'monte'}\n",
    "\n",
    "\n",
    "batch_n_variations=('batch_n',[16])\n",
    "batchcount_variations=('batchcount',[2])\n",
    "ftype_variations=('ftype',['linear','quadratic'])\n",
    "param_count_variations=('param_count',[1,2])\n",
    "#need to add block capability to datagen so we can repeat optimization with new training data.\n",
    "\n",
    "datagen_variation_list=[batch_n_variations,batchcount_variations,ftype_variations,param_count_variations]\n",
    "\n"
   ]
  },
  {
   "cell_type": "code",
   "execution_count": 4,
   "metadata": {},
   "outputs": [
    {
     "name": "stdout",
     "output_type": "stream",
     "text": [
      "dict_combo_list has 4 variations to run\n",
      "len(datagen_dict_list):4\n",
      "dict_combo_list has 8 variations to run\n",
      "dict_combo_list has 8 variations to run\n",
      "dict_combo_list has 8 variations to run\n",
      "dict_combo_list has 8 variations to run\n"
     ]
    },
    {
     "data": {
      "text/plain": [
       "\"print(f'len(testrun){len(testrun)}')\\nprint(f'testrun[0]{testrun[0:2]}')\\nprint('--------------')\\nprint(f'testrun[-1]{testrun[-4:]}')\""
      ]
     },
     "execution_count": 4,
     "metadata": {},
     "output_type": "execute_result"
    }
   ],
   "source": [
    "testrun=test.prep_model_list(optdict_variation_list=optdict_variation_list,datagen_variation_list=datagen_variation_list,verbose=1)\n",
    "'''print(f'len(testrun){len(testrun)}')\n",
    "print(f'testrun[0]{testrun[0:2]}')\n",
    "print('--------------')\n",
    "print(f'testrun[-1]{testrun[-4:]}')'''"
   ]
  },
  {
   "cell_type": "code",
   "execution_count": null,
   "metadata": {
    "pycharm": {
     "is_executing": false,
     "name": "#%%\n"
    }
   },
   "outputs": [
    {
     "name": "stdout",
     "output_type": "stream",
     "text": [
      "~~~~~~~run number:0`~~~~~~~\n",
      "a_rundict{'optimizedict': {'opt_settings_dict': {'method': 'Nelder-Mead', 'options': {'xatol': 0.5, 'fatol': 1, 'adaptive': True}, 'mse_threshold': 2, 'help_start': 1, 'partial_match': 1}, 'hyper_param_dict': {'Ndiff_exponent': array([0.3, 0.3]), 'x_bandscale': array([1.]), 'outer_x_bw': array([2.7]), 'outer_y_bw': array([2.2]), 'Ndiff_depth_bw': array([0.5, 0.5]), 'y_bandscale': array([1.5])}, 'modeldict': {'Ndiff_type': 'product', 'param_count': 1, 'Ndiff_start': 2, 'max_bw_Ndiff': 2, 'normalize_Ndiffwtsum': 'own_n', 'xkern_grid': 'no', 'ykern_grid': 33, 'outer_kern': 'gaussian', 'Ndiff_bw_kern': 'rbfkern', 'outer_x_bw_form': 'one_for_all', 'regression_model': 'NW', 'product_kern_norm': 'self', 'hyper_param_form_dict': {'Ndiff_exponent': 'free', 'x_bandscale': 'non-neg', 'Ndiff_depth_bw': 'non-neg', 'outer_x_bw': 'non-neg', 'outer_y_bw': 'non-neg', 'y_bandscale': 'non-neg'}}}, 'datagen_dict': {'validate_batchcount': 10, 'batch_n': 32, 'batchcount': 2, 'param_count': 1, 'seed': 1, 'ftype': 'quadratic', 'evar': 1, 'source': 'monte'}}\n",
      "datagen_dict:{'validate_batchcount': 10, 'batch_n': 32, 'batchcount': 2, 'param_count': 1, 'seed': 1, 'ftype': 'quadratic', 'evar': 1, 'source': 'monte'} for directory,C:\\Users\\DPatton\\gits\\kernelkernel\n",
      "Traceback (most recent call last):\n",
      "  File \"C:\\Users\\DPatton\\gits\\kernelkernel\\kernelcompare.py\", line 491, in open_and_compare_optdict\n",
      "    with open(saved_filename,'rb') as saved_model_bytes:\n",
      "FileNotFoundError: [Errno 2] No such file or directory: 'C:\\\\Users\\\\DPatton\\\\gits\\\\kernelkernel\\\\..\\\\condensed_model_save'\n",
      "\n",
      "saved_filename is C:\\Users\\DPatton\\gits\\kernelkernel\\..\\condensed_model_save, but does not seem to exist\n",
      "here1\n",
      "in saved_filename:C:\\Users\\DPatton\\gits\\kernelkernel\\condensed_model_save, len(doubledict_list):753,len(saved_dict_list):753\n",
      "--------------------------------help_start is triggered---------------------------\n",
      "--------------help_start with partial match triggered----------------\n",
      "-----partial match is looking for a partial match------\n",
      "36 partial matches found only after substituting {'datagen_dict': {'batchcount': 2}}\n",
      "here3\n",
      "here2\n",
      "optimization dict with lowest mse:nan, n:48was last saved20191127-061009\n",
      "overriding start parameters with saved parameters\n",
      "key Ndiff_exponent\n",
      "type(replacement_fixedfreedict): <class 'dict'>\n",
      "key x_bandscale\n",
      "type(replacement_fixedfreedict): <class 'dict'>\n",
      "key outer_x_bw\n",
      "type(replacement_fixedfreedict): <class 'dict'>\n",
      "key outer_y_bw\n",
      "type(replacement_fixedfreedict): <class 'dict'>\n",
      "key Ndiff_depth_bw\n",
      "type(replacement_fixedfreedict): <class 'dict'>\n",
      "key y_bandscale\n",
      "type(replacement_fixedfreedict): <class 'dict'>\n",
      "param_valdict:{'Ndiff_exponent': array([0.3, 0.3]), 'x_bandscale': array([1.]), 'outer_x_bw': array([2.7]), 'outer_y_bw': array([2.2]), 'Ndiff_depth_bw': array([0.5, 0.5]), 'y_bandscale': array([1.5])}\n",
      "setup_fixed_or_free_paramdict:{'Ndiff_exponent': {'fixed_or_free': 'free', 'const': 'free', 'location_idx': (0, 2)}, 'x_bandscale': {'fixed_or_free': 'free', 'const': 'non-neg', 'location_idx': (2, 3)}, 'Ndiff_depth_bw': {'fixed_or_free': 'free', 'const': 'non-neg', 'location_idx': (3, 5)}, 'outer_x_bw': {'fixed_or_free': 'free', 'const': 'non-neg', 'location_idx': (5, 6)}, 'outer_y_bw': {'fixed_or_free': 'free', 'const': 'non-neg', 'location_idx': (6, 7)}, 'y_bandscale': {'fixed_or_free': 'free', 'const': 'non-neg', 'location_idx': (7, 8)}, 'free_params': 'outside', 'fixed_params': array([], dtype=float64)}\n",
      "795modeldict:{'Ndiff_type': 'product', 'param_count': 1, 'Ndiff_start': 2, 'max_bw_Ndiff': 2, 'normalize_Ndiffwtsum': 'own_n', 'xkern_grid': 'no', 'ykern_grid': 33, 'outer_kern': 'gaussian', 'Ndiff_bw_kern': 'rbfkern', 'outer_x_bw_form': 'one_for_all', 'regression_model': 'NW', 'product_kern_norm': 'self', 'hyper_param_form_dict': {'Ndiff_exponent': 'free', 'x_bandscale': 'non-neg', 'Ndiff_depth_bw': 'non-neg', 'outer_x_bw': 'non-neg', 'outer_y_bw': 'non-neg', 'y_bandscale': 'non-neg'}}\n",
      "all_y_err [masked, 94.97726350636255, masked, 11.811591671885061, 38.59826012236678, masked, 58.41275806242897, masked, 14.286799521967911, 102.11908026361013, 11.759963518512606, masked, masked, 8.156898957761856, masked, masked, masked, 14.523912849612, 8.377407108287617, 165.00485317220338, 14.223098976793722, 9.836433934656105, masked, masked, 162.21649150900208, masked, 67.55995029775914, 166.52373079053808, 13.300724043172842, 40.746343185577906, 35.943970383638444, 11.194879735972044, masked, -6.589559306536198, -10.918662855881873, -7.431632208623392, -7.233018917872519, -5.789353719185136, -15.135213367561159, -0.48386326132097945, -6.893926140449251, -9.17729437923989, -13.906627216885987, -2.292421244547252, -4.007719683630575, -7.194899115080375, -5.779736567978404, -9.801194520963472, -8.96331612468323, -7.275669606565659, -6.724332564535585, -6.090675077314903, -10.08494859740851, -6.635187404743498, -2.579452257542844, -4.9274281428645095, -7.429550072498845, -5.991609265104071, -3.363368321290039, -9.986297293240511, -0.8077821687205704, -0.8344154099682086, -5.482294823557362, -14.47106613365685]\n",
      "saved to C:\\Users\\DPatton\\gits\\kernelkernel\\model_save at about 20191205-103545 with mse=2283.630792436853\n"
     ]
    },
    {
     "name": "stderr",
     "output_type": "stream",
     "text": [
      "C:\\Users\\DPatton\\AppData\\Local\\Continuum\\anaconda3\\lib\\site-packages\\numpy\\ma\\core.py:713: UserWarning: Warning: converting a masked element to nan.\n",
      "  data = np.array(a, copy=False, subok=subok)\n",
      "C:\\Users\\DPatton\\AppData\\Local\\Continuum\\anaconda3\\lib\\site-packages\\numpy\\core\\numeric.py:538: UserWarning: Warning: converting a masked element to nan.\n",
      "  return array(a, dtype, copy=False, order=order)\n"
     ]
    },
    {
     "name": "stdout",
     "output_type": "stream",
     "text": [
      "all_y_err [masked, 138.53400724724395, masked, 11.840342958854357, 53.32466773326591, masked, 58.40878657231399, masked, 14.315484842582578, 141.86256621525695, 77.54900141532462, masked, masked, 8.166553248423837, masked, masked, masked, 14.552631190514713, 8.64312445455392, 161.5771889539171, 53.79040440668865, 71.23164512031103, masked, masked, 141.7146168530333, masked, 88.35087794049434, 146.01222666639976, 13.329442385609546, 55.48976868030149, 50.354615313976836, 73.65003024941491, masked, -6.585496685185282, -10.9197442019289, -7.4268240590754, -7.228433295638959, -5.7867511835833, -15.145021894355025, -0.4958661266234654, -6.889429831631775, -9.174375366994562, -13.913740760325997, -2.3003731277707056, -4.01089584450397, -7.1902797808458265, -5.7771139830559886, -9.799608981390685, -8.959964648598598, -7.27103266267801, -6.720094289515545, -6.087431697850331, -10.084043046857538, -6.63107835204129, -2.5861577985722226, -4.927363393072662, -7.4247772811987085, -5.988603056481457, -3.367890000123698, -9.985160520780507, -0.811643599041147, -0.8443989879272733, -5.480535870968617, -14.479205629972888]\n",
      "saved to C:\\Users\\DPatton\\gits\\kernelkernel\\model_save at about 20191205-103549 with mse=2283.630792436853\n",
      "traceback for run 0\n",
      "Traceback (most recent call last):\n",
      "  File \"<ipython-input-5-de0c0686f8ff>\", line 13, in <module>\n",
      "    test.do_monte_opt(optimizedict,datagen_dict,force_start_params=0)\n",
      "  File \"C:\\Users\\DPatton\\gits\\kernelkernel\\kernelcompare.py\", line 38, in do_monte_opt\n",
      "    mk.optimize_free_params(datagen_obj,optimizedict,savedir=self.kc_savedirectory)\n",
      "  File \"C:\\Users\\DPatton\\gits\\kernelkernel\\mykern.py\", line 798, in __init__\n",
      "    self.minimize_obj=minimize(self.MY_KDEpredictMSE, free_params, args=args_tuple, method=method, options=opt_method_options)\n",
      "  File \"C:\\Users\\DPatton\\AppData\\Local\\Continuum\\anaconda3\\lib\\site-packages\\scipy\\optimize\\_minimize.py\", line 588, in minimize\n",
      "    return _minimize_neldermead(fun, x0, args, callback, **options)\n",
      "  File \"C:\\Users\\DPatton\\AppData\\Local\\Continuum\\anaconda3\\lib\\site-packages\\scipy\\optimize\\optimize.py\", line 585, in _minimize_neldermead\n",
      "    fsim[k] = func(sim[k])\n",
      "  File \"C:\\Users\\DPatton\\AppData\\Local\\Continuum\\anaconda3\\lib\\site-packages\\scipy\\optimize\\optimize.py\", line 326, in function_wrapper\n",
      "    return function(*(wrapper_args + args))\n",
      "  File \"C:\\Users\\DPatton\\gits\\kernelkernel\\mykern.py\", line 653, in MY_KDEpredictMSE\n",
      "    sleep(2)\n",
      "KeyboardInterrupt\n",
      "\n",
      "~~~~~~~run number:1`~~~~~~~\n",
      "a_rundict{'optimizedict': {'opt_settings_dict': {'method': 'Nelder-Mead', 'options': {'xatol': 0.5, 'fatol': 1, 'adaptive': True}, 'mse_threshold': 2, 'help_start': 1, 'partial_match': 1}, 'hyper_param_dict': {'Ndiff_exponent': array([0.3, 0.3]), 'x_bandscale': array([1.]), 'outer_x_bw': array([2.7]), 'outer_y_bw': array([2.2]), 'Ndiff_depth_bw': array([0.5, 0.5]), 'y_bandscale': array([1.5])}, 'modeldict': {'Ndiff_type': 'product', 'param_count': 1, 'Ndiff_start': 1, 'max_bw_Ndiff': 3, 'normalize_Ndiffwtsum': 'own_n', 'xkern_grid': 'no', 'ykern_grid': 33, 'outer_kern': 'gaussian', 'Ndiff_bw_kern': 'rbfkern', 'outer_x_bw_form': 'one_for_all', 'regression_model': 'NW', 'product_kern_norm': 'self', 'hyper_param_form_dict': {'Ndiff_exponent': 'free', 'x_bandscale': 'non-neg', 'Ndiff_depth_bw': 'non-neg', 'outer_x_bw': 'non-neg', 'outer_y_bw': 'non-neg', 'y_bandscale': 'non-neg'}}}, 'datagen_dict': {'validate_batchcount': 10, 'batch_n': 32, 'batchcount': 2, 'param_count': 1, 'seed': 1, 'ftype': 'quadratic', 'evar': 1, 'source': 'monte'}}\n",
      "datagen_dict:{'validate_batchcount': 10, 'batch_n': 32, 'batchcount': 2, 'param_count': 1, 'seed': 1, 'ftype': 'quadratic', 'evar': 1, 'source': 'monte'} for directory,C:\\Users\\DPatton\\gits\\kernelkernel\n",
      "Traceback (most recent call last):\n",
      "  File \"C:\\Users\\DPatton\\gits\\kernelkernel\\kernelcompare.py\", line 491, in open_and_compare_optdict\n",
      "    with open(saved_filename,'rb') as saved_model_bytes:\n",
      "FileNotFoundError: [Errno 2] No such file or directory: 'C:\\\\Users\\\\DPatton\\\\gits\\\\kernelkernel\\\\..\\\\condensed_model_save'\n",
      "\n",
      "saved_filename is C:\\Users\\DPatton\\gits\\kernelkernel\\..\\condensed_model_save, but does not seem to exist\n",
      "here1\n",
      "in saved_filename:C:\\Users\\DPatton\\gits\\kernelkernel\\condensed_model_save, len(doubledict_list):753,len(saved_dict_list):753\n",
      "--------------------------------help_start is triggered---------------------------\n",
      "--------------help_start with partial match triggered----------------\n",
      "-----partial match is looking for a partial match------\n",
      "partial_match could not find any partial matches\n",
      "here3\n",
      "here2\n",
      "in saved_filename:model_save, len(doubledict_list):53,len(saved_dict_list):53\n",
      "--------------------------------help_start is triggered---------------------------\n",
      "--------------help_start with partial match triggered----------------\n",
      "-----partial match is looking for a partial match------\n",
      "partial_match could not find any partial matches\n",
      "here3\n",
      "--------------no matching models found----------\n",
      "param_valdict:{'Ndiff_exponent': array([0.3, 0.3]), 'x_bandscale': array([1.]), 'outer_x_bw': array([2.7]), 'outer_y_bw': array([2.2]), 'Ndiff_depth_bw': array([0.5, 0.5]), 'y_bandscale': array([1.5])}\n",
      "setup_fixed_or_free_paramdict:{'Ndiff_exponent': {'fixed_or_free': 'free', 'const': 'free', 'location_idx': (0, 2)}, 'x_bandscale': {'fixed_or_free': 'free', 'const': 'non-neg', 'location_idx': (2, 3)}, 'Ndiff_depth_bw': {'fixed_or_free': 'free', 'const': 'non-neg', 'location_idx': (3, 5)}, 'outer_x_bw': {'fixed_or_free': 'free', 'const': 'non-neg', 'location_idx': (5, 6)}, 'outer_y_bw': {'fixed_or_free': 'free', 'const': 'non-neg', 'location_idx': (6, 7)}, 'y_bandscale': {'fixed_or_free': 'free', 'const': 'non-neg', 'location_idx': (7, 8)}, 'free_params': 'outside', 'fixed_params': array([], dtype=float64)}\n",
      "795modeldict:{'Ndiff_type': 'product', 'param_count': 1, 'Ndiff_start': 1, 'max_bw_Ndiff': 3, 'normalize_Ndiffwtsum': 'own_n', 'xkern_grid': 'no', 'ykern_grid': 33, 'outer_kern': 'gaussian', 'Ndiff_bw_kern': 'rbfkern', 'outer_x_bw_form': 'one_for_all', 'regression_model': 'NW', 'product_kern_norm': 'self', 'hyper_param_form_dict': {'Ndiff_exponent': 'free', 'x_bandscale': 'non-neg', 'Ndiff_depth_bw': 'non-neg', 'outer_x_bw': 'non-neg', 'outer_y_bw': 'non-neg', 'y_bandscale': 'non-neg'}}\n",
      "traceback for run 1\n",
      "multiprocessing.pool.RemoteTraceback: \n",
      "\"\"\"\n",
      "Traceback (most recent call last):\n",
      "  File \"C:\\Users\\DPatton\\AppData\\Local\\Continuum\\anaconda3\\lib\\multiprocessing\\pool.py\", line 121, in worker\n",
      "    result = (True, func(*args, **kwds))\n",
      "  File \"C:\\Users\\DPatton\\AppData\\Local\\Continuum\\anaconda3\\lib\\multiprocessing\\pool.py\", line 44, in mapstar\n",
      "    return list(map(*args))\n",
      "  File \"C:\\Users\\DPatton\\gits\\kernelkernel\\mykern.py\", line 697, in MPwrapperKDEpredict\n",
      "    yhat_unstd=self.MY_KDEpredict(yin, yout, xin, xpr, modeldict, fixed_or_free_paramdict)\n",
      "  File \"C:\\Users\\DPatton\\gits\\kernelkernel\\mykern.py\", line 559, in MY_KDEpredict\n",
      "    xbw = self.BWmaker(max_bw_Ndiff, fixed_or_free_paramdict, diffdict, modeldict,'x')\n",
      "  File \"C:\\Users\\DPatton\\gits\\kernelkernel\\mykern.py\", line 133, in BWmaker\n",
      "    if Ndiff_type=='product':this_depth_bw_param=Ndiff_depth_bw_params[param_idx]\n",
      "IndexError: index 2 is out of bounds for axis 0 with size 2\n",
      "\"\"\"\n",
      "\n",
      "The above exception was the direct cause of the following exception:\n",
      "\n",
      "Traceback (most recent call last):\n",
      "  File \"<ipython-input-5-de0c0686f8ff>\", line 13, in <module>\n",
      "    test.do_monte_opt(optimizedict,datagen_dict,force_start_params=0)\n",
      "  File \"C:\\Users\\DPatton\\gits\\kernelkernel\\kernelcompare.py\", line 38, in do_monte_opt\n",
      "    mk.optimize_free_params(datagen_obj,optimizedict,savedir=self.kc_savedirectory)\n",
      "  File \"C:\\Users\\DPatton\\gits\\kernelkernel\\mykern.py\", line 798, in __init__\n",
      "    self.minimize_obj=minimize(self.MY_KDEpredictMSE, free_params, args=args_tuple, method=method, options=opt_method_options)\n",
      "  File \"C:\\Users\\DPatton\\AppData\\Local\\Continuum\\anaconda3\\lib\\site-packages\\scipy\\optimize\\_minimize.py\", line 588, in minimize\n",
      "    return _minimize_neldermead(fun, x0, args, callback, **options)\n",
      "  File \"C:\\Users\\DPatton\\AppData\\Local\\Continuum\\anaconda3\\lib\\site-packages\\scipy\\optimize\\optimize.py\", line 585, in _minimize_neldermead\n",
      "    fsim[k] = func(sim[k])\n",
      "  File \"C:\\Users\\DPatton\\AppData\\Local\\Continuum\\anaconda3\\lib\\site-packages\\scipy\\optimize\\optimize.py\", line 326, in function_wrapper\n",
      "    return function(*(wrapper_args + args))\n",
      "  File \"C:\\Users\\DPatton\\gits\\kernelkernel\\mykern.py\", line 652, in MY_KDEpredictMSE\n",
      "    yhat_unstd=pool.map(self.MPwrapperKDEpredict,arglistlist)\n",
      "  File \"C:\\Users\\DPatton\\AppData\\Local\\Continuum\\anaconda3\\lib\\multiprocessing\\pool.py\", line 268, in map\n",
      "    return self._map_async(func, iterable, mapstar, chunksize).get()\n",
      "  File \"C:\\Users\\DPatton\\AppData\\Local\\Continuum\\anaconda3\\lib\\multiprocessing\\pool.py\", line 657, in get\n",
      "    raise self._value\n",
      "IndexError: index 2 is out of bounds for axis 0 with size 2\n",
      "\n",
      "~~~~~~~run number:2`~~~~~~~\n",
      "a_rundict{'optimizedict': {'opt_settings_dict': {'method': 'Nelder-Mead', 'options': {'xatol': 0.5, 'fatol': 1, 'adaptive': True}, 'mse_threshold': 2, 'help_start': 1, 'partial_match': 1}, 'hyper_param_dict': {'Ndiff_exponent': array([0.3, 0.3]), 'x_bandscale': array([1., 1.]), 'outer_x_bw': array([2.7]), 'outer_y_bw': array([2.2]), 'Ndiff_depth_bw': array([0.5, 0.5]), 'y_bandscale': array([1.5])}, 'modeldict': {'Ndiff_type': 'recursive', 'param_count': 2, 'Ndiff_start': 2, 'max_bw_Ndiff': 2, 'normalize_Ndiffwtsum': 'own_n', 'xkern_grid': 'no', 'ykern_grid': 33, 'outer_kern': 'gaussian', 'Ndiff_bw_kern': 'rbfkern', 'outer_x_bw_form': 'one_for_all', 'regression_model': 'NW', 'product_kern_norm': 'self', 'hyper_param_form_dict': {'Ndiff_exponent': 'free', 'x_bandscale': 'non-neg', 'Ndiff_depth_bw': 'non-neg', 'outer_x_bw': 'non-neg', 'outer_y_bw': 'non-neg', 'y_bandscale': 'non-neg'}}}, 'datagen_dict': {'validate_batchcount': 10, 'batch_n': 32, 'batchcount': 2, 'param_count': 2, 'seed': 1, 'ftype': 'quadratic', 'evar': 1, 'source': 'monte'}}\n",
      "datagen_dict:{'validate_batchcount': 10, 'batch_n': 32, 'batchcount': 2, 'param_count': 2, 'seed': 1, 'ftype': 'quadratic', 'evar': 1, 'source': 'monte'} for directory,C:\\Users\\DPatton\\gits\\kernelkernel\n",
      "Traceback (most recent call last):\n",
      "  File \"C:\\Users\\DPatton\\gits\\kernelkernel\\kernelcompare.py\", line 491, in open_and_compare_optdict\n",
      "    with open(saved_filename,'rb') as saved_model_bytes:\n",
      "FileNotFoundError: [Errno 2] No such file or directory: 'C:\\\\Users\\\\DPatton\\\\gits\\\\kernelkernel\\\\..\\\\condensed_model_save'\n",
      "\n",
      "saved_filename is C:\\Users\\DPatton\\gits\\kernelkernel\\..\\condensed_model_save, but does not seem to exist\n",
      "here1\n",
      "in saved_filename:C:\\Users\\DPatton\\gits\\kernelkernel\\condensed_model_save, len(doubledict_list):753,len(saved_dict_list):753\n",
      "--------------------------------help_start is triggered---------------------------\n",
      "--------------help_start with partial match triggered----------------\n",
      "-----partial match is looking for a partial match------\n",
      "9 partial matches found only after substituting {'datagen_dict': {'batchcount': 2}}\n",
      "here3\n",
      "here2\n",
      "optimization dict with lowest mse:nan, n:32was last saved20191204-223822\n",
      "overriding start parameters with saved parameters\n",
      "key Ndiff_exponent\n",
      "type(replacement_fixedfreedict): <class 'dict'>\n",
      "key x_bandscale\n",
      "type(replacement_fixedfreedict): <class 'dict'>\n",
      "key outer_x_bw\n",
      "type(replacement_fixedfreedict): <class 'dict'>\n",
      "key outer_y_bw\n",
      "type(replacement_fixedfreedict): <class 'dict'>\n",
      "key Ndiff_depth_bw\n",
      "type(replacement_fixedfreedict): <class 'dict'>\n",
      "key y_bandscale\n",
      "type(replacement_fixedfreedict): <class 'dict'>\n",
      "param_valdict:{'Ndiff_exponent': array([0.3, 0.3]), 'x_bandscale': array([1., 1.]), 'outer_x_bw': array([2.7]), 'outer_y_bw': array([2.2]), 'Ndiff_depth_bw': array([0.5, 0.5]), 'y_bandscale': array([1.5])}\n",
      "setup_fixed_or_free_paramdict:{'Ndiff_exponent': {'fixed_or_free': 'free', 'const': 'free', 'location_idx': (0, 2)}, 'x_bandscale': {'fixed_or_free': 'free', 'const': 'non-neg', 'location_idx': (2, 4)}, 'Ndiff_depth_bw': {'fixed_or_free': 'free', 'const': 'non-neg', 'location_idx': (4, 6)}, 'outer_x_bw': {'fixed_or_free': 'free', 'const': 'non-neg', 'location_idx': (6, 7)}, 'outer_y_bw': {'fixed_or_free': 'free', 'const': 'non-neg', 'location_idx': (7, 8)}, 'y_bandscale': {'fixed_or_free': 'free', 'const': 'non-neg', 'location_idx': (8, 9)}, 'free_params': 'outside', 'fixed_params': array([], dtype=float64)}\n",
      "795modeldict:{'Ndiff_type': 'recursive', 'param_count': 2, 'Ndiff_start': 2, 'max_bw_Ndiff': 2, 'normalize_Ndiffwtsum': 'own_n', 'xkern_grid': 'no', 'ykern_grid': 33, 'outer_kern': 'gaussian', 'Ndiff_bw_kern': 'rbfkern', 'outer_x_bw_form': 'one_for_all', 'regression_model': 'NW', 'product_kern_norm': 'self', 'hyper_param_form_dict': {'Ndiff_exponent': 'free', 'x_bandscale': 'non-neg', 'Ndiff_depth_bw': 'non-neg', 'outer_x_bw': 'non-neg', 'outer_y_bw': 'non-neg', 'y_bandscale': 'non-neg'}}\n",
      "all_y_err [masked, masked, masked, -8.111420199786771, masked, -0.12188246673677483, masked, 17.64979641488739, masked, masked, masked, masked, 19.560719339365832, masked, 4.4682138856275095, 18.76944322256984, masked, masked, masked, 17.692493480417674, masked, 8.591654008644046, masked, masked, -2.2814101470639834, 9.945040712006087, masked, masked, masked, masked, -4.657396692643783, masked, masked, -23.058105740996513, masked, masked, masked, -14.715028426063448, masked, masked, masked, masked, masked, masked, -2.2953864550358105, masked, masked, masked, masked, masked, masked, masked, masked, masked, masked, masked, masked, masked, masked, masked, masked, masked, -21.896638800257545, masked]\n",
      "saved to C:\\Users\\DPatton\\gits\\kernelkernel\\model_save at about 20191205-103609 with mse=191.85231523802997\n",
      "all_y_err [masked, masked, masked, -7.8856309861924565, masked, -0.1361460865334685, masked, 18.931972845510835, masked, masked, masked, masked, 21.17432639576067, masked, 4.389845686916981, 20.326065986746553, masked, masked, masked, 18.127301772778356, masked, 8.504041426996768, masked, masked, -2.12691930929315, 10.465906947382262, masked, masked, masked, masked, masked, masked, masked, -23.063439179491823, masked, masked, masked, -14.718500926079525, masked, masked, masked, masked, masked, masked, -2.2347810222259312, masked, masked, masked, masked, masked, masked, masked, masked, masked, masked, masked, masked, masked, masked, masked, masked, masked, -21.9082659636442, masked]\n",
      "saved to C:\\Users\\DPatton\\gits\\kernelkernel\\model_save at about 20191205-103613 with mse=191.85231523802997\n",
      "all_y_err [masked, masked, masked, -8.111420199786771, masked, -0.12188246673677483, masked, 17.64979641488739, masked, masked, masked, masked, 19.560719339365832, masked, 4.4682138856275095, 18.76944322256984, masked, masked, masked, 17.692493480417674, masked, 8.591654008644046, masked, masked, -2.2814101470639834, 9.945040712006087, masked, masked, masked, masked, -4.657396692643783, masked, masked, -23.058105740996513, masked, masked, masked, -14.715028426063448, masked, masked, masked, masked, masked, masked, -2.2953864550358105, masked, masked, masked, masked, masked, masked, masked, masked, masked, masked, masked, masked, masked, masked, masked, masked, masked, -21.896638800257545, masked]\n",
      "save_interval changed to 12\n",
      "all_y_err [masked, masked, masked, -7.56613962742227, masked, 0.04506890853541279, masked, 18.43872376015492, masked, masked, masked, masked, 20.121784983313255, masked, 4.575837982375372, 20.088975997593842, masked, masked, masked, 18.24045807246395, masked, 8.837071683955422, masked, masked, -1.7936071043290944, 10.559540844779274, masked, masked, masked, masked, masked, masked, masked, -23.063259496496848, masked, masked, masked, -14.716887905759961, masked, masked, masked, masked, masked, masked, -2.237215597398489, masked, masked, masked, masked, masked, masked, masked, masked, masked, masked, masked, masked, masked, masked, masked, masked, masked, -21.91017700086838, masked]\n",
      "all_y_err [masked, masked, masked, -7.854612577830526, masked, 0.03300893540937366, masked, 18.184069306492386, masked, masked, masked, masked, 21.200392161844626, masked, 4.380948129974222, 19.45305564094825, masked, masked, masked, 17.162593955460544, masked, 8.532185017383636, masked, masked, -2.0606404369828404, 9.949417975841993, masked, masked, masked, masked, masked, masked, masked, -23.062715916416437, masked, masked, masked, -14.717029018436971, masked, masked, masked, masked, masked, masked, -2.237215597411673, masked, masked, masked, masked, masked, masked, masked, masked, masked, masked, masked, masked, masked, masked, masked, masked, masked, -21.91017700086838, masked]\n",
      "all_y_err [masked, masked, masked, -7.797842517359481, masked, 0.05958614335188628, masked, 17.818371376835316, masked, masked, masked, masked, 19.37131673349723, masked, 4.5983072308335196, 19.04142440626781, masked, masked, masked, 18.136847017949947, masked, 8.872141473939621, masked, masked, -1.9737696373557867, 10.145500039401874, masked, masked, masked, masked, masked, masked, masked, -23.050201318330256, masked, masked, masked, -14.715286754933754, masked, masked, masked, masked, masked, masked, -2.3393250022822443, masked, masked, masked, masked, masked, masked, masked, masked, masked, masked, masked, masked, masked, masked, masked, masked, masked, -21.885939559429648, masked]\n",
      "all_y_err [masked, masked, masked, -8.111420199786771, masked, -0.12188246673677483, masked, 17.64979641488739, masked, masked, masked, masked, 19.560719339365832, masked, 4.4682138856275095, 18.76944322256984, masked, masked, masked, 17.692493480417674, masked, 8.591654008644046, masked, masked, -2.2814101470639834, 9.945040712006087, masked, masked, masked, masked, -4.657396692643783, masked, masked, -23.058105740996513, masked, masked, masked, -14.715028426063448, masked, masked, masked, masked, masked, masked, -2.2953864550358105, masked, masked, masked, masked, masked, masked, masked, masked, masked, masked, masked, masked, masked, masked, masked, masked, masked, -21.896638800257545, masked]\n",
      "all_y_err [masked, masked, masked, -8.326762415420685, masked, -0.23377918324781177, masked, 17.207041669327694, masked, masked, masked, masked, 19.02265976335344, masked, 4.41295176083257, 18.272057511383046, -7.486179998669469, masked, masked, 17.361272219337998, masked, 8.586264492218884, masked, masked, -2.454380347397283, 9.835508530838542, masked, masked, masked, masked, -4.872758283689905, masked, masked, -23.058733541568138, masked, masked, masked, -14.71481196216638, masked, masked, masked, masked, masked, masked, -2.2953864550252945, masked, masked, masked, masked, masked, masked, masked, masked, masked, masked, masked, masked, masked, masked, masked, masked, masked, -21.896638800257545, masked]\n",
      "all_y_err [masked, masked, masked, -8.556301478300941, masked, -0.4597810413776706, masked, 17.073482019184155, masked, masked, masked, masked, 19.127510764324878, masked, 4.091188103444093, 18.303728071390914, masked, masked, masked, 17.15001646743744, masked, 8.233263368277733, masked, masked, -2.634431698420819, 9.628222185649733, masked, masked, masked, masked, -5.1022780273869195, masked, masked, -23.05517294477235, masked, masked, masked, -14.705517384992966, masked, masked, masked, masked, masked, masked, -2.278575000905054, masked, masked, masked, masked, masked, masked, masked, masked, masked, masked, masked, masked, masked, masked, masked, masked, masked, -21.89899879223828, masked]\n",
      "all_y_err [masked, masked, masked, -6.679279813487323, masked, 0.6190576514780766, masked, 20.991760856891503, masked, masked, masked, masked, 22.8107789144941, masked, 5.463406243308285, 22.00462855500911, masked, masked, masked, 20.65192867841534, masked, 9.463799839100254, masked, masked, -1.3248372800836954, 10.964235537608314, masked, masked, masked, masked, -3.225256102694157, masked, masked, -23.049184108076886, masked, masked, masked, -14.736819198378655, masked, masked, masked, masked, masked, masked, -2.3020927497392307, masked, masked, masked, masked, masked, masked, masked, masked, masked, masked, masked, masked, masked, masked, masked, masked, masked, -21.876276144547873, masked]\n",
      "all_y_err [masked, masked, masked, -6.661331590487798, masked, 0.5572489272465333, masked, 18.593005702346673, masked, masked, masked, masked, 20.52932449202829, masked, 5.0257777036409905, 19.929742107275192, masked, masked, masked, 18.859912035561774, masked, 9.387696581431655, masked, masked, -0.8753176324451779, 10.877574323027758, masked, masked, masked, masked, masked, masked, masked, -23.06084482240513, masked, masked, masked, -14.693037489905386, masked, masked, masked, masked, masked, masked, -2.2305652325541097, masked, masked, masked, masked, masked, masked, masked, masked, masked, masked, masked, masked, masked, masked, masked, masked, masked, -21.911151733588987, masked]\n",
      "all_y_err [masked, masked, masked, -7.695254779672883, masked, 0.15392005907518325, masked, 16.893031444824533, masked, masked, masked, masked, 18.081520531368618, masked, 4.694131895211928, 18.019165263061904, -7.022432133157322, masked, masked, 17.42834501356526, masked, 9.052107098914234, masked, masked, -1.8312462604099586, 10.250496541074565, masked, masked, masked, masked, -4.241236102084848, masked, masked, -23.05097056587092, masked, masked, masked, -14.704232703208369, masked, masked, masked, masked, masked, masked, -2.323647949383755, masked, masked, masked, masked, masked, masked, masked, masked, masked, masked, masked, masked, masked, masked, masked, masked, masked, -21.88941900948659, masked]\n",
      "saved to C:\\Users\\DPatton\\gits\\kernelkernel\\model_save at about 20191205-103648 with mse=175.73787901422713\n",
      "all_y_err [masked, masked, masked, -7.459714148062776, masked, 0.274898534948683, masked, 17.079194880616487, masked, masked, masked, masked, 18.04531350098096, masked, 4.820975496007392, 18.225470134879995, -6.849616522243407, masked, masked, 17.6837987825708, masked, 9.255126693892006, masked, masked, -1.6094089347602711, 10.418775107279792, masked, masked, masked, masked, -4.005707679346219, masked, masked, -23.051123292099817, masked, masked, masked, -14.70264661316963, masked, masked, masked, masked, masked, masked, -2.3215229202383156, masked, masked, masked, masked, masked, masked, masked, masked, masked, masked, masked, masked, masked, masked, masked, masked, masked, -21.889832087321086, masked]\n"
     ]
    }
   ],
   "source": [
    "import traceback\n",
    "from random import shuffle\n",
    "shuffle(testrun)\n",
    "#a_rundict=testrun[100]#this produced the Ndiff_exponent error for recursive Ndiff\n",
    "for idx in range(len(testrun)):\n",
    "    print(f'~~~~~~~run number:{idx}`~~~~~~~')\n",
    "    a_rundict=testrun[idx]\n",
    "    print(f'a_rundict{a_rundict}')\n",
    "    optimizedict=a_rundict['optimizedict']\n",
    "    datagen_dict=a_rundict['datagen_dict']\n",
    "\n",
    "    try:\n",
    "        test.do_monte_opt(optimizedict,datagen_dict,force_start_params=0)\n",
    "        test.open_condense_resave('model_save',verbose=0)\n",
    "        test.merge_and_condense_saved_models(merge_directory=None,save_directory=None,condense=None,verbose=None)\n",
    "    except:\n",
    "        print('traceback for run',idx)\n",
    "        print(traceback.format_exc())\n"
   ]
  },
  {
   "cell_type": "code",
   "execution_count": null,
   "metadata": {},
   "outputs": [],
   "source": [
    "#test.open_condense_resave('condensed_model_save',verbose=1)\n"
   ]
  },
  {
   "cell_type": "code",
   "execution_count": null,
   "metadata": {},
   "outputs": [],
   "source": [
    "\n",
    "#test.recursive_merge(networkdir,overwrite=0,verbose=1)\n",
    "\n"
   ]
  },
  {
   "cell_type": "code",
   "execution_count": null,
   "metadata": {},
   "outputs": [],
   "source": [
    "'''import numpy as np\n",
    "\n",
    "\n",
    "\n",
    "datagen_dict={'train_n':60,'n':200, 'param_count':2,'seed':1, 'ftype':'linear', 'evar':1}\n",
    "linear_dict_to_add_list=[(f'datagen_dict:{key}',val) for key,val in datagen_dict.items()]\n",
    "print(linear_dict_to_add_list)\n",
    "\n",
    "test.add_dict('model_save_linear',linear_dict_to_add_list,overwrite=0,verbose=0)\n",
    "test.print_model_save(filename=\"model_save_linear-add_dict\")\n",
    "\n",
    "\n",
    "datagen_dict={'train_n':60,'n':200, 'param_count':2,'seed':1, 'ftype':'quadratic', 'evar':1}\n",
    "quadratic_dict_to_add_list=[(f'datagen_dict:{key}',val) for key,val in datagen_dict.items()]\n",
    "print(quadratic_dict_to_add_list)\n",
    "\n",
    "test.add_dict('model_save_quadratic',quadratic_dict_to_add_list,overwrite=0,verbose=0)\n",
    "test.print_model_save(filename=\"model_save_quadratic-add_dict\")'''"
   ]
  },
  {
   "cell_type": "code",
   "execution_count": null,
   "metadata": {},
   "outputs": [],
   "source": [
    "#test.print_model_save(filename=\"condensed_model_save\")\n"
   ]
  },
  {
   "cell_type": "code",
   "execution_count": null,
   "metadata": {},
   "outputs": [],
   "source": [
    "'''\n",
    "#print(os.getcwd())\n",
    "#try:test.open_condense_resave('model_save',verbose=0)\n",
    "#except:pass\n",
    "try:test.open_condense_resave('condensed_model_save',verbose=0)\n",
    "except:pass'''"
   ]
  },
  {
   "cell_type": "code",
   "execution_count": null,
   "metadata": {},
   "outputs": [],
   "source": [
    "'''from os import getcwd\n",
    "thisdir=getcwd()\n",
    "test.merge_and_condense_saved_models(merge_directory=thisdir,save_directory=thisdir,condense=1,verbose=1)'''"
   ]
  },
  {
   "cell_type": "code",
   "execution_count": null,
   "metadata": {
    "collapsed": false,
    "jupyter": {
     "outputs_hidden": false
    },
    "pycharm": {
     "is_executing": false,
     "name": "#%%\n"
    }
   },
   "outputs": [],
   "source": [
    "\n"
   ]
  },
  {
   "cell_type": "markdown",
   "metadata": {
    "pycharm": {
     "name": "#%% md\n"
    }
   },
   "source": [
    "#-----------------Calibrate/Optimize--------"
   ]
  },
  {
   "cell_type": "code",
   "execution_count": null,
   "metadata": {
    "collapsed": false,
    "jupyter": {
     "outputs_hidden": false
    },
    "pycharm": {
     "is_executing": false,
     "name": "#%%\n"
    }
   },
   "outputs": [],
   "source": []
  },
  {
   "cell_type": "code",
   "execution_count": null,
   "metadata": {},
   "outputs": [],
   "source": [
    "'''import myreg\n",
    "x=test.train_x\n",
    "y=test.train_y\n",
    "xfull=np.concatenate([np.ones([x.shape[0],1]),x],axis=1)\n",
    "just_linreg=myreg.reg(y,xfull)\n",
    "just_linreg.myreg()\n",
    "print('linreg_mse:',just_linreg.mse)'''"
   ]
  },
  {
   "cell_type": "code",
   "execution_count": null,
   "metadata": {},
   "outputs": [],
   "source": []
  },
  {
   "cell_type": "code",
   "execution_count": null,
   "metadata": {},
   "outputs": [],
   "source": [
    "from bokeh.io import show, output_notebook#,curdoc,save, output_file\n",
    "from bokeh.plotting import figure\n",
    "#from bokeh.models import ColumnDataSource, Range1d, BBoxTileSource\n",
    "#from bokeh.layouts import row\n",
    "output_notebook()"
   ]
  },
  {
   "cell_type": "code",
   "execution_count": null,
   "metadata": {},
   "outputs": [],
   "source": [
    "#xgrid=np.linspace(1,n,n)\n",
    "x=quad_misspec.train_x\n",
    "y=quad_misspec.train_y\n",
    "\n",
    "\n",
    "xgrid=x[:,0]\n",
    "yhat=quad_misspec.optimize_obj.yhat_un_std\n",
    "p=figure(title='y and yhat', plot_width=900, plot_height=500)\n",
    "p.xaxis.axis_label = 'observations'\n",
    "p.scatter(xgrid,y,size=10,color='blue',alpha=0.4,legend='y')\n",
    "#p.line(xgrid,precip,color='blue',alpha=0.6,legend='precipitation')\n",
    "p.scatter(xgrid,yhat,size=5,color='green',alpha=0.9,legend='yhat')\n",
    "p.circle(xgrid,just_linreg.yhat,color='red',legend='just lin reg yhat')\n",
    "p.line(xgrid,np.mean(y))\n",
    "p.legend.location = \"top_left\"\n",
    "#p.yaxis.visible=False\n",
    "show(p)"
   ]
  },
  {
   "cell_type": "code",
   "execution_count": null,
   "metadata": {},
   "outputs": [],
   "source": [
    "print(yhat)\n",
    "print(y)"
   ]
  },
  {
   "cell_type": "code",
   "execution_count": null,
   "metadata": {},
   "outputs": [],
   "source": []
  },
  {
   "cell_type": "code",
   "execution_count": null,
   "metadata": {},
   "outputs": [],
   "source": [
    "\n",
    "ypredict=optimized_Ndiff_kernel.predict_tool(xvalidate,optimized_Ndiff_kernel.fixed_or_free_paramdict,modeldict1)\n",
    "prediction_err=yvalidate-ypredict\n",
    "prediction_mse=np.mean(prediction_err**2)"
   ]
  },
  {
   "cell_type": "code",
   "execution_count": null,
   "metadata": {},
   "outputs": [],
   "source": [
    "np.ma.count_masked(yhat)"
   ]
  },
  {
   "cell_type": "code",
   "execution_count": null,
   "metadata": {},
   "outputs": [],
   "source": []
  },
  {
   "cell_type": "markdown",
   "metadata": {},
   "source": [
    "## class toolcompare(object):"
   ]
  }
 ],
 "metadata": {
  "kernelspec": {
   "display_name": "Python 3",
   "language": "python",
   "name": "python3"
  },
  "language_info": {
   "codemirror_mode": {
    "name": "ipython",
    "version": 3
   },
   "file_extension": ".py",
   "mimetype": "text/x-python",
   "name": "python",
   "nbconvert_exporter": "python",
   "pygments_lexer": "ipython3",
   "version": "3.7.4"
  },
  "pycharm": {
   "stem_cell": {
    "cell_type": "raw",
    "metadata": {
     "collapsed": false
    },
    "source": []
   }
  }
 },
 "nbformat": 4,
 "nbformat_minor": 4
}
