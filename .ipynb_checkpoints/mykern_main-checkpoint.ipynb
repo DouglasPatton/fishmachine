{
 "cells": [
  {
   "cell_type": "markdown",
   "metadata": {},
   "source": [
    "### kernel density estimation and kernel regression for prediction\n",
    "This notebook is my first attempt to write down the ddiff and dddiff models that I have been working on"
   ]
  },
  {
   "cell_type": "markdown",
   "metadata": {},
   "source": [
    "mixed recursive/iterative approach (rather than vectorized approach that is harder to generalize\n",
    "- create separate submodules for KDE and KDreg\n",
    "    - develop a system for storing differenced but unweighted data and the appropriate mask to lessen memory usage. \n",
    "        -1's or 0's depending on i/j/k/l/.... values\n",
    "    - figure out the deepest level requested by the user and levels that are less deep are just slices of the deeper model. \n",
    "        -scout out the tree to build the differenced dataset. \n",
    "          \n",
    "        \n",
    " plot and compare\n",
    "on synthetic data, 1, 2, 3+ mixed distributions\n",
    "1d - Ndiff vs gaussian kernel vs kernel_tunneling\n",
    "2d -  \n",
    "\n",
    "\n",
    "multidimensional x problem\n",
    "e.g., parameter treatment\n",
    "\"product kernel approach\" vs l2 \"el two\" (radial basis?)distance "
   ]
  },
  {
   "cell_type": "markdown",
   "metadata": {},
   "source": [
    "#### generate a simple linear dataset y=xb+e\n",
    "##### store validation data from same dataset too"
   ]
  },
  {
   "cell_type": "markdown",
   "metadata": {
    "pycharm": {
     "name": "#%% md\n"
    }
   },
   "source": [
    "### create modeldict\n",
    "- 'Ndiff_type': refers to the mathematical form of Ndiff\n",
    "  - 'product'-Ndiff1 multiplied by Ndiff2\n",
    "  - 'recursive'-Ndiff1's bw is Ndiff 2\n",
    "- max_bw_Ndiff: is the depth of Ndiffs applied in estimating the bandwidth.\n",
    "- 'normalize_Ndiffwtsum':\n",
    "  - 'across' means sum across own level of kernelized-Ndiffs and divide by that sum (CDF approach)\n",
    "  - 'own_n' means for (n+k)diff where n+K=max_bw_Ndiff\n",
    "- Ndiff_bw_kern:\n",
    "  - rbfkern means use the radial basis function kernel\n",
    "  - 'product' means use product kernel like as in liu and yang eq1. \n",
    "- 'regression_model':\n",
    "  - 'NW' means use nadaraya-watson kernel regression\n",
    "  - 'full_logit' means local logit with all variables entering linearly\n",
    "  - 'rbf_logit' means local logit with 1 parameters: scaled l2 norm centered on zero \n",
    " (globally or by i?). Is this a new idea?\n",
    "- outer_x_bw_form: if x is separated into blocks of rvars that are combined within a block using rbf kernel, \n",
    "  - 'one_for_all' - use same hx bw for all blocks\n",
    "  - 'one_per_block' - each block or rvars gets an hx\n",
    "- ykern_grid\n",
    "  - if int, then create int evnely spaced values from -3 to 3 (standard normal middle ~99%)\n",
    "  - 'no' means use original data points (self is masked when predicting self)\n",
    "- xkern_grid\n",
    "  - much like ykern_grid, but used less frequently since x's are typically pre-specified\n",
    "- product_kern_norm: when multiplying kernels across random variables, this parameter determines if each random variable has its kernels normalized before the product or not\n",
    "  - 'self' means each random variable has its kernels divided by the sum of kernels across the nout axis (the number of possibile values y is averaged over, whose probabilities sum to 1)\n",
    "  - 'own_n' means same as self, but divided by count of non-masked items in second to last, nout lenght dimension\n",
    "  - 'none' means no normalization prior to taking products across rvar kernels\n",
    "- hyper_param_form_dict is a nested dictionary\n",
    "  - Ndiff_exponent is the exponent wrapped around typically a sum of kernels for each Ndiff level \n",
    "after level 1 (i.e., (i-j) or centered, obvious/conventional level.)\n",
    "  - x_bandscale is the parameter specific to each variable (each x in X) used for prediction (y)\n",
    "  - Ndiff_depth_bw is used as the kernel's bandwidth (h) at each level of Ndiff including at level 1 \n",
    "  - outer_x_bw vanilla bandwidth for the rbf or product kernel\n",
    "  - outer_y_bw vanilla bandwidth for y"
   ]
  },
  {
   "cell_type": "code",
   "execution_count": 1,
   "metadata": {},
   "outputs": [
    {
     "name": "stdout",
     "output_type": "stream",
     "text": [
      "here []\n",
      "no models found when merging\n"
     ]
    }
   ],
   "source": [
    "import kernelcompare as kc\n",
    "#from importlib import reload\n",
    "test=kc.KernelCompare()"
   ]
  },
  {
   "cell_type": "code",
   "execution_count": 2,
   "metadata": {},
   "outputs": [],
   "source": [
    "#test.run_kernel_list()"
   ]
  },
  {
   "cell_type": "code",
   "execution_count": 3,
   "metadata": {},
   "outputs": [],
   "source": [
    "Ndiff_type_variations=('modeldict:Ndiff_type',['recursive','product'])\n",
    "max_bw_Ndiff_variations=('modeldict:max_bw_Ndiff',[2])\n",
    "Ndiff_start_variations=('modeldict:Ndiff_start',[0])\n",
    "\n",
    "product_kern_norm_variations=('modeldict:product_kern_norm',['self','own_n'])#include None too?\n",
    "normalize_Ndiffwtsum_variations=('modeldict:normalize_Ndiffwtsum',['own_n','across'])\n",
    "optdict_variation_list=[Ndiff_type_variations,max_bw_Ndiff_variations,Ndiff_start_variations]\n",
    "\n"
   ]
  },
  {
   "cell_type": "code",
   "execution_count": 4,
   "metadata": {},
   "outputs": [],
   "source": [
    "#a reminder of the options:\n",
    "#datagen_dict={'train_n':60,'n':200, 'param_count':param_count,'seed':1, 'ftype':'linear', 'evar':1}\n",
    "#datagen_variation_list=[test.build_quadratic_datagen_dict_override()] \n",
    "\n",
    "train_n_variations=('train_n',[25])#so I don't crash my 10 year old laptop at home\n",
    "#train_n_variations=('train_n:',[30,45,60])\n",
    "ftype_variations=('ftype',['linear,quadratic'])\n",
    "param_count_variations=('param_count',[1,2])\n",
    "#need to add block capability to datagen so we can repeat optimization with new training data.\n",
    "\n",
    "datagen_variation_list=[train_n_variations,ftype_variations,param_count_variations]\n",
    "\n"
   ]
  },
  {
   "cell_type": "code",
   "execution_count": null,
   "metadata": {},
   "outputs": [
    {
     "name": "stdout",
     "output_type": "stream",
     "text": [
      "------no start value overrides encountered------\n",
      "newoptimizedict1{'opt_settings_dict': {'method': 'Nelder-Mead', 'options': {'xatol': 0.01, 'fatol': 0.1, 'adaptive': True}, 'help_start': 1, 'partial_match': 1}, 'hyper_param_dict': {'Ndiff_exponent': array([0.3, 0.3]), 'x_bandscale': array([1., 1.]), 'outer_x_bw': array([2.7]), 'outer_y_bw': array([2.2]), 'Ndiff_depth_bw': array([0.5, 0.5]), 'y_bandscale': array([1.5])}, 'modeldict': {'Ndiff_type': 'product', 'param_count': 2, 'Ndiff_start': 1, 'max_bw_Ndiff': 2, 'normalize_Ndiffwtsum': 'own_n', 'xkern_grid': 'no', 'ykern_grid': 61, 'outer_kern': 'gaussian', 'Ndiff_bw_kern': 'rbfkern', 'outer_x_bw_form': 'one_for_all', 'regression_model': 'NW', 'product_kern_norm': 'self', 'hyper_param_form_dict': {'Ndiff_exponent': 'free', 'x_bandscale': 'non-neg', 'Ndiff_depth_bw': 'non-neg', 'outer_x_bw': 'non-neg', 'outer_y_bw': 'non-neg', 'y_bandscale': 'non-neg'}}}\n",
      "------no start value overrides encountered------\n",
      "newoptimizedict1{'opt_settings_dict': {'method': 'Nelder-Mead', 'options': {'xatol': 0.01, 'fatol': 0.1, 'adaptive': True}, 'help_start': 1, 'partial_match': 1}, 'hyper_param_dict': {'Ndiff_exponent': array([0.3, 0.3]), 'x_bandscale': array([1., 1.]), 'outer_x_bw': array([2.7]), 'outer_y_bw': array([2.2]), 'Ndiff_depth_bw': array([0.5, 0.5]), 'y_bandscale': array([1.5])}, 'modeldict': {'Ndiff_type': 'product', 'param_count': 2, 'Ndiff_start': 1, 'max_bw_Ndiff': 2, 'normalize_Ndiffwtsum': 'own_n', 'xkern_grid': 'no', 'ykern_grid': 61, 'outer_kern': 'gaussian', 'Ndiff_bw_kern': 'rbfkern', 'outer_x_bw_form': 'one_for_all', 'regression_model': 'NW', 'product_kern_norm': 'self', 'hyper_param_form_dict': {'Ndiff_exponent': 'free', 'x_bandscale': 'non-neg', 'Ndiff_depth_bw': 'non-neg', 'outer_x_bw': 'non-neg', 'outer_y_bw': 'non-neg', 'y_bandscale': 'non-neg'}}}\n",
      "------no start value overrides encountered------\n",
      "newoptimizedict1{'opt_settings_dict': {'method': 'Nelder-Mead', 'options': {'xatol': 0.01, 'fatol': 0.1, 'adaptive': True}, 'help_start': 1, 'partial_match': 1}, 'hyper_param_dict': {'Ndiff_exponent': array([0.3, 0.3]), 'x_bandscale': array([1., 1.]), 'outer_x_bw': array([2.7]), 'outer_y_bw': array([2.2]), 'Ndiff_depth_bw': array([0.5, 0.5]), 'y_bandscale': array([1.5])}, 'modeldict': {'Ndiff_type': 'product', 'param_count': 2, 'Ndiff_start': 1, 'max_bw_Ndiff': 2, 'normalize_Ndiffwtsum': 'own_n', 'xkern_grid': 'no', 'ykern_grid': 61, 'outer_kern': 'gaussian', 'Ndiff_bw_kern': 'rbfkern', 'outer_x_bw_form': 'one_for_all', 'regression_model': 'NW', 'product_kern_norm': 'self', 'hyper_param_form_dict': {'Ndiff_exponent': 'free', 'x_bandscale': 'non-neg', 'Ndiff_depth_bw': 'non-neg', 'outer_x_bw': 'non-neg', 'outer_y_bw': 'non-neg', 'y_bandscale': 'non-neg'}}}\n",
      "------no start value overrides encountered------\n",
      "newoptimizedict1{'opt_settings_dict': {'method': 'Nelder-Mead', 'options': {'xatol': 0.01, 'fatol': 0.1, 'adaptive': True}, 'help_start': 1, 'partial_match': 1}, 'hyper_param_dict': {'Ndiff_exponent': array([0.3, 0.3]), 'x_bandscale': array([1., 1.]), 'outer_x_bw': array([2.7]), 'outer_y_bw': array([2.2]), 'Ndiff_depth_bw': array([0.5, 0.5]), 'y_bandscale': array([1.5])}, 'modeldict': {'Ndiff_type': 'product', 'param_count': 2, 'Ndiff_start': 1, 'max_bw_Ndiff': 2, 'normalize_Ndiffwtsum': 'own_n', 'xkern_grid': 'no', 'ykern_grid': 61, 'outer_kern': 'gaussian', 'Ndiff_bw_kern': 'rbfkern', 'outer_x_bw_form': 'one_for_all', 'regression_model': 'NW', 'product_kern_norm': 'self', 'hyper_param_form_dict': {'Ndiff_exponent': 'free', 'x_bandscale': 'non-neg', 'Ndiff_depth_bw': 'non-neg', 'outer_x_bw': 'non-neg', 'outer_y_bw': 'non-neg', 'y_bandscale': 'non-neg'}}}\n",
      "96\n"
     ]
    }
   ],
   "source": [
    "testrun=test.prep_model_list(optdict_variation_list=optdict_variation_list,datagen_variation_list=datagen_variation_list)\n",
    "print(len(testrun))"
   ]
  },
  {
   "cell_type": "code",
   "execution_count": null,
   "metadata": {
    "pycharm": {
     "is_executing": false,
     "name": "#%%\n"
    }
   },
   "outputs": [
    {
     "name": "stdout",
     "output_type": "stream",
     "text": [
      "saved_filename is condensed_model_save, but does not seem to exist\n",
      "--------------no matching models found----------\n",
      "param_valdict:{'Ndiff_exponent': array([0.3, 0.3]), 'x_bandscale': array([1., 1.]), 'outer_x_bw': array([2.7]), 'outer_y_bw': array([2.2]), 'Ndiff_depth_bw': array([0.5, 0.5]), 'y_bandscale': array([1.5])}\n",
      "setup_fixed_or_free_paramdict:{'Ndiff_exponent': {'fixed_or_free': 'free', 'const': 'free', 'location_idx': (0, 2)}, 'x_bandscale': {'fixed_or_free': 'free', 'const': 'non-neg', 'location_idx': (2, 4)}, 'Ndiff_depth_bw': {'fixed_or_free': 'free', 'const': 'non-neg', 'location_idx': (4, 6)}, 'outer_x_bw': {'fixed_or_free': 'free', 'const': 'non-neg', 'location_idx': (6, 7)}, 'outer_y_bw': {'fixed_or_free': 'free', 'const': 'non-neg', 'location_idx': (7, 8)}, 'y_bandscale': {'fixed_or_free': 'free', 'const': 'non-neg', 'location_idx': (8, 9)}, 'free_params': 'outside', 'fixed_params': array([], dtype=float64)}\n",
      "modeldict:{'Ndiff_type': 'recursive', 'param_count': 2, 'Ndiff_start': 1, 'max_bw_Ndiff': 2, 'normalize_Ndiffwtsum': 'own_n', 'xkern_grid': 'no', 'ykern_grid': 61, 'outer_kern': 'gaussian', 'Ndiff_bw_kern': 'rbfkern', 'outer_x_bw_form': 'one_for_all', 'regression_model': 'NW', 'product_kern_norm': 'self', 'hyper_param_form_dict': {'Ndiff_exponent': 'free', 'x_bandscale': 'non-neg', 'Ndiff_depth_bw': 'non-neg', 'outer_x_bw': 'non-neg', 'outer_y_bw': 'non-neg', 'y_bandscale': 'non-neg'}}\n",
      "free_params added to dict. free_params:[0.3 0.3 1.  1.  0.5 0.5 2.7 2.2 1.5]\n",
      "saved to model_save at about 20191116-080631 with mse=67.25371835636045\n",
      "free_params added to dict. free_params:[0.315 0.3   1.    1.    0.5   0.5   2.7   2.2   1.5  ]\n",
      "saved to model_save at about 20191116-080634 with mse=67.25371835636045\n",
      "free_params added to dict. free_params:[0.3   0.315 1.    1.    0.5   0.5   2.7   2.2   1.5  ]\n",
      "save_interval changed to 12\n",
      "free_params added to dict. free_params:[0.3  0.3  1.05 1.   0.5  0.5  2.7  2.2  1.5 ]\n",
      "free_params added to dict. free_params:[0.3  0.3  1.   1.05 0.5  0.5  2.7  2.2  1.5 ]\n",
      "free_params added to dict. free_params:[0.3   0.3   1.    1.    0.525 0.5   2.7   2.2   1.5  ]\n",
      "free_params added to dict. free_params:[0.3   0.3   1.    1.    0.5   0.525 2.7   2.2   1.5  ]\n",
      "free_params added to dict. free_params:[0.3   0.3   1.    1.    0.5   0.5   2.835 2.2   1.5  ]\n",
      "free_params added to dict. free_params:[0.3  0.3  1.   1.   0.5  0.5  2.7  2.31 1.5 ]\n",
      "free_params added to dict. free_params:[0.3   0.3   1.    1.    0.5   0.5   2.7   2.2   1.575]\n",
      "free_params added to dict. free_params:[0.285      0.30333333 1.01111111 1.01111111 0.50555556 0.50555556\n",
      " 2.73       2.22444444 1.51666667]\n",
      "free_params added to dict. free_params:[0.28166667 0.3037037  1.01234568 1.01234568 0.50617284 0.50617284\n",
      " 2.73333333 2.22716049 1.51851852]\n",
      "saved to model_save at about 20191116-080703 with mse=43.30060049629741\n",
      "free_params added to dict. free_params:[0.29592593 0.30415638 0.95274348 1.0138546  0.5069273  0.5069273\n",
      " 2.73740741 2.23048011 1.52078189]\n",
      "free_params added to dict. free_params:[0.29502058 0.30508002 0.99224204 1.01693339 0.47791114 0.5084667\n",
      " 2.74572016 2.23725347 1.52540009]\n",
      "free_params added to dict. free_params:[0.29391404 0.30620891 0.99051804 1.02069637 0.49800251 0.47979263\n",
      " 2.7558802  2.24553202 1.53104456]\n",
      "free_params added to dict. free_params:[0.29323782 0.30689879 0.98946449 1.02299597 0.49778056 0.47476959\n",
      " 2.76208911 2.25059113 1.53449395]\n",
      "free_params added to dict. free_params:[0.29241133 0.30774198 0.98817682 1.02580659 0.4975093  0.49918587\n",
      " 2.76967778 2.25677449 1.53870988]\n",
      "free_params added to dict. free_params:[0.29072496 0.30946241 0.98554945 1.03154138 0.49695581 0.49900495\n",
      " 2.78516173 2.26939104 1.45564541]\n",
      "free_params added to dict. free_params:[0.28866384 0.31156517 0.98233821 1.03855058 0.49627932 0.49878383\n",
      " 2.63908656 2.28481127 1.52078883]\n",
      "free_params added to dict. free_params:[0.28614469 0.31413521 0.97841337 1.04711737 0.4954525  0.49851357\n",
      " 2.76055024 2.16921378 1.52540857]\n",
      "free_params added to dict. free_params:[0.28460521 0.31570579 0.97601486 1.05235264 0.49494723 0.49834842\n",
      " 2.76727805 2.15357087 1.52823175]\n",
      "free_params added to dict. free_params:[0.28770305 0.31254537 1.0308413  1.0418179  0.48586297 0.48967986\n",
      " 2.72978076 2.23164273 1.5062822 ]\n",
      "free_params added to dict. free_params:[0.28089632 0.31948961 0.99043841 1.00385425 0.4896487  0.49431379\n",
      " 2.77380611 2.26915455 1.52846014]\n",
      "free_params added to dict. free_params:[0.28798722 0.31225546 1.0059754  1.01616017 0.49106909 0.49426636\n",
      " 2.6861209  2.19971096 1.58899578]\n",
      "saved to model_save at about 20191116-080736 with mse=40.71697313747\n",
      "free_params added to dict. free_params:[0.28989798 0.3103061  1.01443934 1.00417533 0.49058775 0.49348359\n",
      " 2.84264815 2.16537954 1.53900946]\n",
      "free_params added to dict. free_params:[0.27631693 0.30582818 0.9999863  1.04365376 0.48477546 0.49081934\n",
      " 2.8134343  2.24249738 1.56846706]\n",
      "free_params added to dict. free_params:[0.29440296 0.2983027  1.01166964 1.04864384 0.49404382 0.495729\n",
      " 2.74843446 2.16741902 1.54889735]\n",
      "free_params added to dict. free_params:[0.28295984 0.31625272 0.99368207 1.0106971  0.49032018 0.49453\n",
      " 2.76992988 2.25361162 1.53158249]\n",
      "free_params added to dict. free_params:[0.27759855 0.31519511 1.01018602 1.03417886 0.50853894 0.47847905\n",
      " 2.78190034 2.20295525 1.55333126]\n",
      "free_params added to dict. free_params:[0.29004843 0.31912507 0.98960246 1.04361839 0.48080305 0.47461873\n",
      " 2.80507984 2.20766928 1.567949  ]\n",
      "free_params added to dict. free_params:[0.29097974 0.32083856 0.98707543 1.04709314 0.47798418 0.47111272\n",
      " 2.81305167 2.20550358 1.57344128]\n",
      "free_params added to dict. free_params:[0.29053746 0.30759513 1.00679792 1.05335497 0.49391437 0.48105773\n",
      " 2.77806591 2.17052747 1.56418698]\n",
      "free_params added to dict. free_params:[0.28066955 0.31607324 1.0164412  1.04436735 0.48592638 0.47237338\n",
      " 2.78018204 2.1481986  1.56272117]\n",
      "free_params added to dict. free_params:[0.27705012 0.3189552  1.02114835 1.05192717 0.48302086 0.49625717\n",
      " 2.79179136 2.13162807 1.57320981]\n",
      "free_params added to dict. free_params:[0.27753487 0.31746991 0.99766439 1.08135933 0.48853214 0.47815952\n",
      " 2.69993081 2.20933932 1.57629438]\n",
      "free_params added to dict. free_params:[0.28982015 0.31308641 0.99913512 1.06184035 0.46613499 0.49309306\n",
      " 2.74246317 2.1731823  1.5670755 ]\n",
      "saved to model_save at about 20191116-080811 with mse=36.95790686201837\n",
      "free_params added to dict. free_params:[0.28018612 0.31585638 0.97143402 1.05865074 0.48442697 0.48265074\n",
      " 2.79740107 2.13150362 1.62763418]\n",
      "free_params added to dict. free_params:[0.29243206 0.32480206 0.99594408 1.06014754 0.48543703 0.47969602\n",
      " 2.71018458 2.09598368 1.57859757]\n",
      "free_params added to dict. free_params:[0.2817495  0.32116292 0.98772579 1.0974161  0.47789183 0.47301115\n",
      " 2.84284547 2.1157196  1.55575813]\n",
      "free_params added to dict. free_params:[0.28449691 0.31892528 1.02028876 1.07123774 0.4702236  0.46329858\n",
      " 2.77848108 2.1534483  1.62263914]\n",
      "free_params added to dict. free_params:[0.28448488 0.319283   1.02520809 1.07333608 0.46747653 0.45940416\n",
      " 2.77972586 2.15343468 1.63312885]\n",
      "free_params added to dict. free_params:[0.2892831  0.31919161 0.98071744 1.08519422 0.47575494 0.48725699\n",
      " 2.7651991  2.15998717 1.60146482]\n",
      "free_params added to dict. free_params:[0.29024016 0.3195381  0.97674813 1.08973054 0.47462478 0.48891073\n",
      " 2.76353433 2.16129701 1.60576967]\n",
      "free_params added to dict. free_params:[0.29200077 0.32022663 1.02690553 1.07781745 0.47507609 0.47837074\n",
      " 2.74045413 2.1833029  1.53169304]\n",
      "free_params added to dict. free_params:[0.28199113 0.31652406 0.97990884 1.06157899 0.48299836 0.48199685\n",
      " 2.78870084 2.1394174  1.6129765 ]\n",
      "free_params added to dict. free_params:[0.29564229 0.31840291 0.99672948 1.05071323 0.4697412  0.4837147\n",
      " 2.85765106 2.08992899 1.59118441]\n",
      "free_params added to dict. free_params:[0.28030128 0.31761245 0.99752156 1.07667729 0.4856613  0.47900823\n",
      " 2.72402696 2.19109608 1.57856925]\n",
      "free_params added to dict. free_params:[0.29684953 0.31661924 0.96799513 1.08564542 0.47583924 0.46178395\n",
      " 2.75073176 2.18085536 1.59545997]\n",
      "saved to model_save at about 20191116-080846 with mse=33.78744452275092\n",
      "free_params added to dict. free_params:[0.28564157 0.3232731  0.98308835 1.08102226 0.49488161 0.45799049\n",
      " 2.80189741 2.14100625 1.60790195]\n",
      "free_params added to dict. free_params:[0.29634718 0.32000498 0.98149454 1.06715087 0.47740426 0.46740471\n",
      " 2.83763816 2.1119614  1.60292657]\n",
      "free_params added to dict. free_params:[0.28508643 0.31174935 0.97986101 1.0852369  0.47584347 0.46398551\n",
      " 2.87980356 2.2106244  1.6083047 ]\n",
      "free_params added to dict. free_params:[0.28576969 0.32987944 0.96302119 1.09911435 0.46335037 0.45882998\n",
      " 2.8345306  2.14499104 1.63251922]\n",
      "free_params added to dict. free_params:[0.29545101 0.31824866 0.97660341 1.05543061 0.47614148 0.46372519\n",
      " 2.76790329 2.20630368 1.65800609]\n",
      "free_params added to dict. free_params:[0.2872144  0.31799749 0.97492665 1.10760635 0.47563963 0.46398195\n",
      " 2.78766411 2.11669749 1.65911513]\n",
      "free_params added to dict. free_params:[0.28679602 0.31768181 0.97357678 1.11433004 0.47537913 0.46318964\n",
      " 2.78484327 2.10683015 1.66863444]\n",
      "free_params added to dict. free_params:[0.29348762 0.32840502 0.98074457 1.07592772 0.47767716 0.47093229\n",
      " 2.69980994 2.08851128 1.63765832]\n",
      "free_params added to dict. free_params:[0.29607507 0.3233357  0.93152922 1.0909691  0.48495337 0.4733156\n",
      " 2.78364994 2.13125694 1.62666147]\n",
      "free_params added to dict. free_params:[0.30171061 0.32725062 0.96115813 1.10715899 0.47261306 0.45268816\n",
      " 2.77230776 2.1434744  1.63936521]\n",
      "free_params added to dict. free_params:[0.28500383 0.31816284 0.97704414 1.0685426  0.48141172 0.47751914\n",
      " 2.78619634 2.14003722 1.61700811]\n",
      "free_params added to dict. free_params:[0.2851664  0.31928945 1.01965217 1.07278521 0.46987102 0.46230353\n",
      " 2.77792453 2.15358604 1.62353505]\n",
      "saved to model_save at about 20191116-080921 with mse=32.804168471366445\n",
      "free_params added to dict. free_params:[0.29440847 0.32271752 0.94499245 1.08819101 0.48264912 0.4716332\n",
      " 2.78277522 2.13466833 1.62618382]\n",
      "free_params added to dict. free_params:[0.28985748 0.31933184 0.97639576 1.09246381 0.4747086  0.48605283\n",
      " 2.76590199 2.15524513 1.61275465]\n",
      "free_params added to dict. free_params:[0.28576985 0.32265185 0.98203151 1.08472312 0.49271467 0.45856817\n",
      " 2.8000025  2.1372089  1.61465   ]\n",
      "free_params added to dict. free_params:[0.29573247 0.3167373  0.96861531 1.0888326  0.47578812 0.46194014\n",
      " 2.75452192 2.17263034 1.60359047]\n",
      "free_params added to dict. free_params:[0.29448935 0.31818568 0.97626711 1.06197499 0.47605677 0.46366569\n",
      " 2.76978551 2.19525106 1.65918702]\n",
      "free_params added to dict. free_params:[0.28588372 0.32852415 0.96419403 1.10080498 0.46468689 0.45931439\n",
      " 2.82900978 2.14075094 1.63653202]\n",
      "free_params added to dict. free_params:[0.28520296 0.31810939 0.97665888 1.07363009 0.48074143 0.47592697\n",
      " 2.786046   2.13634754 1.62274437]\n",
      "free_params added to dict. free_params:[0.29528594 0.31974685 0.98061479 1.072393   0.47717924 0.46693637\n",
      " 2.83177206 2.11139126 1.61022745]\n"
     ]
    }
   ],
   "source": [
    "\n",
    "a_rundict=testrun[0]\n",
    "optimizedict=a_rundict['optimizedict']\n",
    "datagen_dict=a_rundict['datagen_dict']\n",
    "test.do_monte_opt(optimizedict,datagen_dict,force_start_params=0)\n"
   ]
  },
  {
   "cell_type": "code",
   "execution_count": null,
   "metadata": {
    "collapsed": false,
    "jupyter": {
     "outputs_hidden": false
    },
    "pycharm": {
     "is_executing": false,
     "name": "#%%\n"
    }
   },
   "outputs": [],
   "source": [
    "\n"
   ]
  },
  {
   "cell_type": "markdown",
   "metadata": {
    "pycharm": {
     "name": "#%% md\n"
    }
   },
   "source": [
    "#-----------------Calibrate/Optimize--------"
   ]
  },
  {
   "cell_type": "code",
   "execution_count": null,
   "metadata": {
    "collapsed": false,
    "jupyter": {
     "outputs_hidden": false
    },
    "pycharm": {
     "is_executing": false,
     "name": "#%%\n"
    }
   },
   "outputs": [],
   "source": []
  },
  {
   "cell_type": "code",
   "execution_count": null,
   "metadata": {},
   "outputs": [],
   "source": [
    "import myreg\n",
    "x=quad_misspec.train_x\n",
    "y=quad_misspec.train_y\n",
    "xfull=np.concatenate([np.ones([x.shape[0],1]),x],axis=1)\n",
    "just_linreg=myreg.reg(y,xfull)\n",
    "just_linreg.myreg()\n",
    "print('linreg_mse:',just_linreg.mse)"
   ]
  },
  {
   "cell_type": "code",
   "execution_count": null,
   "metadata": {},
   "outputs": [],
   "source": []
  },
  {
   "cell_type": "code",
   "execution_count": null,
   "metadata": {},
   "outputs": [],
   "source": [
    "from bokeh.io import show, output_notebook#,curdoc,save, output_file\n",
    "from bokeh.plotting import figure\n",
    "#from bokeh.models import ColumnDataSource, Range1d, BBoxTileSource\n",
    "#from bokeh.layouts import row\n",
    "output_notebook()"
   ]
  },
  {
   "cell_type": "code",
   "execution_count": null,
   "metadata": {},
   "outputs": [],
   "source": [
    "#xgrid=np.linspace(1,n,n)\n",
    "x=quad_misspec.train_x\n",
    "y=quad_misspec.train_y\n",
    "\n",
    "\n",
    "xgrid=x[:,0]\n",
    "yhat=quad_misspec.optimize_obj.yhat_un_std\n",
    "p=figure(title='y and yhat', plot_width=900, plot_height=500)\n",
    "p.xaxis.axis_label = 'observations'\n",
    "p.scatter(xgrid,y,size=10,color='blue',alpha=0.4,legend='y')\n",
    "#p.line(xgrid,precip,color='blue',alpha=0.6,legend='precipitation')\n",
    "p.scatter(xgrid,yhat,size=5,color='green',alpha=0.9,legend='yhat')\n",
    "p.circle(xgrid,just_linreg.yhat,color='red',legend='just lin reg yhat')\n",
    "p.line(xgrid,np.mean(y))\n",
    "p.legend.location = \"top_left\"\n",
    "#p.yaxis.visible=False\n",
    "show(p)"
   ]
  },
  {
   "cell_type": "code",
   "execution_count": null,
   "metadata": {},
   "outputs": [],
   "source": [
    "print(yhat)\n",
    "print(y)"
   ]
  },
  {
   "cell_type": "code",
   "execution_count": null,
   "metadata": {},
   "outputs": [],
   "source": []
  },
  {
   "cell_type": "code",
   "execution_count": null,
   "metadata": {},
   "outputs": [],
   "source": [
    "\n",
    "ypredict=optimized_Ndiff_kernel.predict_tool(xvalidate,optimized_Ndiff_kernel.fixed_or_free_paramdict,modeldict1)\n",
    "prediction_err=yvalidate-ypredict\n",
    "prediction_mse=np.mean(prediction_err**2)"
   ]
  },
  {
   "cell_type": "code",
   "execution_count": null,
   "metadata": {},
   "outputs": [],
   "source": [
    "np.ma.count_masked(yhat)"
   ]
  },
  {
   "cell_type": "code",
   "execution_count": null,
   "metadata": {},
   "outputs": [],
   "source": []
  },
  {
   "cell_type": "markdown",
   "metadata": {},
   "source": [
    "## class toolcompare(object):"
   ]
  }
 ],
 "metadata": {
  "kernelspec": {
   "display_name": "Python 3",
   "language": "python",
   "name": "python3"
  },
  "language_info": {
   "codemirror_mode": {
    "name": "ipython",
    "version": 3
   },
   "file_extension": ".py",
   "mimetype": "text/x-python",
   "name": "python",
   "nbconvert_exporter": "python",
   "pygments_lexer": "ipython3",
   "version": "3.7.1"
  },
  "pycharm": {
   "stem_cell": {
    "cell_type": "raw",
    "metadata": {
     "collapsed": false
    },
    "source": []
   }
  }
 },
 "nbformat": 4,
 "nbformat_minor": 4
}
