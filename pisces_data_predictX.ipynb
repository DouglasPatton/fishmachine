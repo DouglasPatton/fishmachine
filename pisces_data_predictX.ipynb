{
 "cells": [
  {
   "cell_type": "code",
   "execution_count": null,
   "metadata": {},
   "outputs": [],
   "source": [
    "import os ; os.getcwd()"
   ]
  },
  {
   "cell_type": "code",
   "execution_count": 2,
   "metadata": {},
   "outputs": [],
   "source": [
    "from pi_data_predict import PiscesPredictDataTool"
   ]
  },
  {
   "cell_type": "code",
   "execution_count": 3,
   "metadata": {},
   "outputs": [
    {
     "name": "stdout",
     "output_type": "stream",
     "text": [
      "streamcat data directory: /home/dp/hdd2/gits/kernelkernel/../../../hdd3/sc_data\n"
     ]
    }
   ],
   "source": [
    "ppdt=PiscesPredictDataTool()"
   ]
  },
  {
   "cell_type": "code",
   "execution_count": 4,
   "metadata": {},
   "outputs": [],
   "source": [
    "#keys=list(Xdb.keys())"
   ]
  },
  {
   "cell_type": "code",
   "execution_count": 5,
   "metadata": {},
   "outputs": [],
   "source": [
    "#Xdb[keys[0]]"
   ]
  },
  {
   "cell_type": "code",
   "execution_count": null,
   "metadata": {},
   "outputs": [
    {
     "name": "stdout",
     "output_type": "stream",
     "text": [
      "opening /home/dp/hdd2/gits/kernelkernel/data_tool/specieshuc8files with length:4 and type:<class 'tuple'>\n",
      "streamcat data directory: /home/dp/hdd2/gits/kernelkernel/../../../hdd3/sc_data\n",
      "SCDataTool, sc_data_dir SCDataTool, sc_data_dir/home/dp/hdd2/gits/kernelkernel/../../../hdd3/sc_data \n",
      "/home/dp/hdd2/gits/kernelkernel/../../../hdd3/sc_data\n",
      "SCDataTool, sc_data_dirSCDataTool, sc_data_dir SCDataTool, sc_data_dir /home/dp/hdd2/gits/kernelkernel/../../../hdd3/sc_dataSCDataTool, sc_data_dir \n",
      " /home/dp/hdd2/gits/kernelkernel/../../../hdd3/sc_data/home/dp/hdd2/gits/kernelkernel/../../../hdd3/sc_data/home/dp/hdd2/gits/kernelkernel/../../../hdd3/sc_data\n",
      "\n",
      "\n",
      "SCDataTool, sc_data_dir"
     ]
    },
    {
     "name": "stderr",
     "output_type": "stream",
     "text": [
      "Process MpBuildStreamcatFromComids-1:\n",
      "Process MpBuildStreamcatFromComids-2:\n",
      "Traceback (most recent call last):\n",
      "Traceback (most recent call last):\n"
     ]
    },
    {
     "name": "stdout",
     "output_type": "stream",
     "text": [
      " SCDataTool, sc_data_dir"
     ]
    },
    {
     "name": "stderr",
     "output_type": "stream",
     "text": [
      "Process MpBuildStreamcatFromComids-6:\n"
     ]
    },
    {
     "name": "stdout",
     "output_type": "stream",
     "text": [
      "/home/dp/hdd2/gits/kernelkernel/../../../hdd3/sc_data"
     ]
    },
    {
     "name": "stderr",
     "output_type": "stream",
     "text": [
      "  File \"/home/dp/miniconda3/envs/kernel/lib/python3.8/multiprocessing/process.py\", line 315, in _bootstrap\n",
      "    self.run()\n"
     ]
    },
    {
     "name": "stdout",
     "output_type": "stream",
     "text": [
      " "
     ]
    },
    {
     "name": "stderr",
     "output_type": "stream",
     "text": [
      "Traceback (most recent call last):\n",
      "  File \"/home/dp/miniconda3/envs/kernel/lib/python3.8/multiprocessing/process.py\", line 315, in _bootstrap\n",
      "    self.run()\n"
     ]
    },
    {
     "name": "stdout",
     "output_type": "stream",
     "text": [
      "\n",
      "/home/dp/hdd2/gits/kernelkernel/../../../hdd3/sc_data"
     ]
    },
    {
     "name": "stderr",
     "output_type": "stream",
     "text": [
      "  File \"/home/dp/hdd2/gits/kernelkernel/pi_data_helper.py\", line 336, in run\n",
      "    sc_comid_dict=self.gt.getstreamcat(comid_blocks[b],add_huc12=1)\n",
      "  File \"/home/dp/miniconda3/envs/kernel/lib/python3.8/multiprocessing/process.py\", line 315, in _bootstrap\n",
      "    self.run()\n",
      "  File \"/home/dp/hdd2/gits/kernelkernel/pi_data_helper.py\", line 336, in run\n",
      "    sc_comid_dict=self.gt.getstreamcat(comid_blocks[b],add_huc12=1)\n",
      "  File \"/home/dp/hdd2/gits/kernelkernel/geogtools.py\", line 101, in getstreamcat\n",
      "    comidlist_datadict=self.pullStreamCatForComidList(comidlist,add_huc12=add_huc12)\n",
      "  File \"/home/dp/hdd2/gits/kernelkernel/geogtools.py\", line 101, in getstreamcat\n",
      "    comidlist_datadict=self.pullStreamCatForComidList(comidlist,add_huc12=add_huc12)\n"
     ]
    },
    {
     "name": "stdout",
     "output_type": "stream",
     "text": [
      "\n"
     ]
    },
    {
     "name": "stderr",
     "output_type": "stream",
     "text": [
      "  File \"/home/dp/hdd2/gits/kernelkernel/pi_data_helper.py\", line 336, in run\n",
      "    sc_comid_dict=self.gt.getstreamcat(comid_blocks[b],add_huc12=1)\n",
      "  File \"/home/dp/hdd2/gits/kernelkernel/geogtools.py\", line 278, in pullStreamCatForComidList\n",
      "    self.addtoDB(self.failed_SC_comid_path,dict.fromkeys(failed_comids))\n",
      "  File \"/home/dp/hdd2/gits/kernelkernel/geogtools.py\", line 101, in getstreamcat\n",
      "    comidlist_datadict=self.pullStreamCatForComidList(comidlist,add_huc12=add_huc12)\n",
      "  File \"/home/dp/hdd2/gits/kernelkernel/geogtools.py\", line 278, in pullStreamCatForComidList\n",
      "    self.addtoDB(self.failed_SC_comid_path,dict.fromkeys(failed_comids))\n",
      "  File \"/home/dp/hdd2/gits/kernelkernel/geogtools.py\", line 63, in addtoDB\n",
      "    with self.anyNameDB(path) as db:\n",
      "  File \"/home/dp/hdd2/gits/kernelkernel/geogtools.py\", line 53, in anyNameDB\n",
      "    name=dbname+'.sqlite'\n",
      "  File \"/home/dp/hdd2/gits/kernelkernel/geogtools.py\", line 278, in pullStreamCatForComidList\n",
      "    self.addtoDB(self.failed_SC_comid_path,dict.fromkeys(failed_comids))\n",
      "  File \"/home/dp/hdd2/gits/kernelkernel/geogtools.py\", line 63, in addtoDB\n",
      "    with self.anyNameDB(path) as db:\n",
      "Process MpBuildStreamcatFromComids-8:\n"
     ]
    },
    {
     "name": "stdout",
     "output_type": "stream",
     "text": [
      "SCDataTool, sc_data_dir"
     ]
    },
    {
     "name": "stderr",
     "output_type": "stream",
     "text": [
      "Process MpBuildStreamcatFromComids-5:\n",
      "TypeError: unsupported operand type(s) for +: 'dict' and 'str'\n",
      "  File \"/home/dp/hdd2/gits/kernelkernel/geogtools.py\", line 63, in addtoDB\n",
      "    with self.anyNameDB(path) as db:\n",
      "  File \"/home/dp/hdd2/gits/kernelkernel/geogtools.py\", line 53, in anyNameDB\n",
      "    name=dbname+'.sqlite'\n"
     ]
    },
    {
     "name": "stdout",
     "output_type": "stream",
     "text": [
      " "
     ]
    },
    {
     "name": "stderr",
     "output_type": "stream",
     "text": [
      "Traceback (most recent call last):\n",
      "  File \"/home/dp/hdd2/gits/kernelkernel/geogtools.py\", line 53, in anyNameDB\n",
      "    name=dbname+'.sqlite'\n",
      "Traceback (most recent call last):\n"
     ]
    },
    {
     "name": "stdout",
     "output_type": "stream",
     "text": [
      "SCDataTool, sc_data_dir"
     ]
    },
    {
     "name": "stderr",
     "output_type": "stream",
     "text": [
      "TypeError: unsupported operand type(s) for +: 'dict' and 'str'\n",
      "  File \"/home/dp/miniconda3/envs/kernel/lib/python3.8/multiprocessing/process.py\", line 315, in _bootstrap\n",
      "    self.run()\n",
      "TypeError: unsupported operand type(s) for +: 'dict' and 'str'\n"
     ]
    },
    {
     "name": "stdout",
     "output_type": "stream",
     "text": [
      "/home/dp/hdd2/gits/kernelkernel/../../../hdd3/sc_data"
     ]
    },
    {
     "name": "stderr",
     "output_type": "stream",
     "text": [
      "  File \"/home/dp/miniconda3/envs/kernel/lib/python3.8/multiprocessing/process.py\", line 315, in _bootstrap\n",
      "    self.run()\n"
     ]
    },
    {
     "name": "stdout",
     "output_type": "stream",
     "text": [
      " "
     ]
    },
    {
     "name": "stderr",
     "output_type": "stream",
     "text": [
      "  File \"/home/dp/hdd2/gits/kernelkernel/pi_data_helper.py\", line 336, in run\n",
      "    sc_comid_dict=self.gt.getstreamcat(comid_blocks[b],add_huc12=1)\n",
      "  File \"/home/dp/hdd2/gits/kernelkernel/pi_data_helper.py\", line 336, in run\n",
      "    sc_comid_dict=self.gt.getstreamcat(comid_blocks[b],add_huc12=1)\n"
     ]
    },
    {
     "name": "stdout",
     "output_type": "stream",
     "text": [
      "\n",
      "/home/dp/hdd2/gits/kernelkernel/../../../hdd3/sc_data"
     ]
    },
    {
     "name": "stderr",
     "output_type": "stream",
     "text": [
      "  File \"/home/dp/hdd2/gits/kernelkernel/geogtools.py\", line 101, in getstreamcat\n",
      "    comidlist_datadict=self.pullStreamCatForComidList(comidlist,add_huc12=add_huc12)\n"
     ]
    },
    {
     "name": "stdout",
     "output_type": "stream",
     "text": [
      "\n"
     ]
    },
    {
     "name": "stderr",
     "output_type": "stream",
     "text": [
      "  File \"/home/dp/hdd2/gits/kernelkernel/geogtools.py\", line 101, in getstreamcat\n",
      "    comidlist_datadict=self.pullStreamCatForComidList(comidlist,add_huc12=add_huc12)\n",
      "  File \"/home/dp/hdd2/gits/kernelkernel/geogtools.py\", line 278, in pullStreamCatForComidList\n",
      "    self.addtoDB(self.failed_SC_comid_path,dict.fromkeys(failed_comids))\n",
      "  File \"/home/dp/hdd2/gits/kernelkernel/geogtools.py\", line 63, in addtoDB\n",
      "    with self.anyNameDB(path) as db:\n",
      "  File \"/home/dp/hdd2/gits/kernelkernel/geogtools.py\", line 53, in anyNameDB\n",
      "    name=dbname+'.sqlite'\n",
      "TypeError: unsupported operand type(s) for +: 'dict' and 'str'\n",
      "  File \"/home/dp/hdd2/gits/kernelkernel/geogtools.py\", line 278, in pullStreamCatForComidList\n",
      "    self.addtoDB(self.failed_SC_comid_path,dict.fromkeys(failed_comids))\n",
      "  File \"/home/dp/hdd2/gits/kernelkernel/geogtools.py\", line 63, in addtoDB\n",
      "    with self.anyNameDB(path) as db:\n",
      "  File \"/home/dp/hdd2/gits/kernelkernel/geogtools.py\", line 53, in anyNameDB\n",
      "    name=dbname+'.sqlite'\n",
      "TypeError: unsupported operand type(s) for +: 'dict' and 'str'\n",
      "Process MpBuildStreamcatFromComids-3:\n",
      "Traceback (most recent call last):\n",
      "  File \"/home/dp/miniconda3/envs/kernel/lib/python3.8/multiprocessing/process.py\", line 315, in _bootstrap\n",
      "    self.run()\n",
      "  File \"/home/dp/hdd2/gits/kernelkernel/pi_data_helper.py\", line 336, in run\n",
      "    sc_comid_dict=self.gt.getstreamcat(comid_blocks[b],add_huc12=1)\n",
      "  File \"/home/dp/hdd2/gits/kernelkernel/geogtools.py\", line 101, in getstreamcat\n",
      "    comidlist_datadict=self.pullStreamCatForComidList(comidlist,add_huc12=add_huc12)\n",
      "  File \"/home/dp/hdd2/gits/kernelkernel/geogtools.py\", line 278, in pullStreamCatForComidList\n",
      "    self.addtoDB(self.failed_SC_comid_path,dict.fromkeys(failed_comids))\n",
      "  File \"/home/dp/hdd2/gits/kernelkernel/geogtools.py\", line 63, in addtoDB\n",
      "    with self.anyNameDB(path) as db:\n",
      "  File \"/home/dp/hdd2/gits/kernelkernel/geogtools.py\", line 53, in anyNameDB\n",
      "    name=dbname+'.sqlite'\n",
      "TypeError: unsupported operand type(s) for +: 'dict' and 'str'\n"
     ]
    },
    {
     "name": "stdout",
     "output_type": "stream",
     "text": [
      "SCDataTool, sc_data_dir /home/dp/hdd2/gits/kernelkernel/../../../hdd3/sc_data\n"
     ]
    },
    {
     "name": "stderr",
     "output_type": "stream",
     "text": [
      "Process MpBuildStreamcatFromComids-9:\n",
      "Traceback (most recent call last):\n",
      "  File \"/home/dp/miniconda3/envs/kernel/lib/python3.8/multiprocessing/process.py\", line 315, in _bootstrap\n",
      "    self.run()\n",
      "  File \"/home/dp/hdd2/gits/kernelkernel/pi_data_helper.py\", line 336, in run\n",
      "    sc_comid_dict=self.gt.getstreamcat(comid_blocks[b],add_huc12=1)\n",
      "  File \"/home/dp/hdd2/gits/kernelkernel/geogtools.py\", line 101, in getstreamcat\n",
      "    comidlist_datadict=self.pullStreamCatForComidList(comidlist,add_huc12=add_huc12)\n",
      "  File \"/home/dp/hdd2/gits/kernelkernel/geogtools.py\", line 278, in pullStreamCatForComidList\n",
      "    self.addtoDB(self.failed_SC_comid_path,dict.fromkeys(failed_comids))\n",
      "  File \"/home/dp/hdd2/gits/kernelkernel/geogtools.py\", line 63, in addtoDB\n",
      "    with self.anyNameDB(path) as db:\n",
      "  File \"/home/dp/hdd2/gits/kernelkernel/geogtools.py\", line 53, in anyNameDB\n",
      "    name=dbname+'.sqlite'\n",
      "TypeError: unsupported operand type(s) for +: 'dict' and 'str'\n",
      "Process MpBuildStreamcatFromComids-10:\n",
      "Traceback (most recent call last):\n",
      "  File \"/home/dp/miniconda3/envs/kernel/lib/python3.8/multiprocessing/process.py\", line 315, in _bootstrap\n",
      "    self.run()\n",
      "  File \"/home/dp/hdd2/gits/kernelkernel/pi_data_helper.py\", line 336, in run\n",
      "    sc_comid_dict=self.gt.getstreamcat(comid_blocks[b],add_huc12=1)\n",
      "  File \"/home/dp/hdd2/gits/kernelkernel/geogtools.py\", line 101, in getstreamcat\n",
      "    comidlist_datadict=self.pullStreamCatForComidList(comidlist,add_huc12=add_huc12)\n",
      "  File \"/home/dp/hdd2/gits/kernelkernel/geogtools.py\", line 278, in pullStreamCatForComidList\n",
      "    self.addtoDB(self.failed_SC_comid_path,dict.fromkeys(failed_comids))\n",
      "  File \"/home/dp/hdd2/gits/kernelkernel/geogtools.py\", line 63, in addtoDB\n",
      "    with self.anyNameDB(path) as db:\n",
      "  File \"/home/dp/hdd2/gits/kernelkernel/geogtools.py\", line 53, in anyNameDB\n",
      "    name=dbname+'.sqlite'\n",
      "TypeError: unsupported operand type(s) for +: 'dict' and 'str'\n",
      "Process MpBuildStreamcatFromComids-11:\n",
      "Traceback (most recent call last):\n",
      "  File \"/home/dp/miniconda3/envs/kernel/lib/python3.8/multiprocessing/process.py\", line 315, in _bootstrap\n",
      "    self.run()\n",
      "  File \"/home/dp/hdd2/gits/kernelkernel/pi_data_helper.py\", line 336, in run\n",
      "    sc_comid_dict=self.gt.getstreamcat(comid_blocks[b],add_huc12=1)\n",
      "  File \"/home/dp/hdd2/gits/kernelkernel/geogtools.py\", line 101, in getstreamcat\n",
      "    comidlist_datadict=self.pullStreamCatForComidList(comidlist,add_huc12=add_huc12)\n",
      "  File \"/home/dp/hdd2/gits/kernelkernel/geogtools.py\", line 278, in pullStreamCatForComidList\n",
      "    self.addtoDB(self.failed_SC_comid_path,dict.fromkeys(failed_comids))\n",
      "  File \"/home/dp/hdd2/gits/kernelkernel/geogtools.py\", line 63, in addtoDB\n",
      "    with self.anyNameDB(path) as db:\n",
      "  File \"/home/dp/hdd2/gits/kernelkernel/geogtools.py\", line 53, in anyNameDB\n",
      "    name=dbname+'.sqlite'\n",
      "TypeError: unsupported operand type(s) for +: 'dict' and 'str'\n",
      "Process MpBuildStreamcatFromComids-7:\n",
      "Traceback (most recent call last):\n",
      "  File \"/home/dp/miniconda3/envs/kernel/lib/python3.8/multiprocessing/process.py\", line 315, in _bootstrap\n",
      "    self.run()\n",
      "  File \"/home/dp/hdd2/gits/kernelkernel/pi_data_helper.py\", line 336, in run\n",
      "    sc_comid_dict=self.gt.getstreamcat(comid_blocks[b],add_huc12=1)\n",
      "  File \"/home/dp/hdd2/gits/kernelkernel/geogtools.py\", line 101, in getstreamcat\n",
      "    comidlist_datadict=self.pullStreamCatForComidList(comidlist,add_huc12=add_huc12)\n",
      "  File \"/home/dp/hdd2/gits/kernelkernel/geogtools.py\", line 278, in pullStreamCatForComidList\n",
      "    self.addtoDB(self.failed_SC_comid_path,dict.fromkeys(failed_comids))\n",
      "  File \"/home/dp/hdd2/gits/kernelkernel/geogtools.py\", line 63, in addtoDB\n",
      "    with self.anyNameDB(path) as db:\n",
      "  File \"/home/dp/hdd2/gits/kernelkernel/geogtools.py\", line 53, in anyNameDB\n",
      "    name=dbname+'.sqlite'\n",
      "TypeError: unsupported operand type(s) for +: 'dict' and 'str'\n",
      "Process MpBuildStreamcatFromComids-4:\n",
      "Traceback (most recent call last):\n",
      "  File \"/home/dp/miniconda3/envs/kernel/lib/python3.8/multiprocessing/process.py\", line 315, in _bootstrap\n",
      "    self.run()\n",
      "  File \"/home/dp/hdd2/gits/kernelkernel/pi_data_helper.py\", line 336, in run\n",
      "    sc_comid_dict=self.gt.getstreamcat(comid_blocks[b],add_huc12=1)\n",
      "  File \"/home/dp/hdd2/gits/kernelkernel/geogtools.py\", line 101, in getstreamcat\n",
      "    comidlist_datadict=self.pullStreamCatForComidList(comidlist,add_huc12=add_huc12)\n",
      "  File \"/home/dp/hdd2/gits/kernelkernel/geogtools.py\", line 278, in pullStreamCatForComidList\n",
      "    self.addtoDB(self.failed_SC_comid_path,dict.fromkeys(failed_comids))\n",
      "  File \"/home/dp/hdd2/gits/kernelkernel/geogtools.py\", line 63, in addtoDB\n",
      "    with self.anyNameDB(path) as db:\n",
      "  File \"/home/dp/hdd2/gits/kernelkernel/geogtools.py\", line 53, in anyNameDB\n",
      "    name=dbname+'.sqlite'\n",
      "TypeError: unsupported operand type(s) for +: 'dict' and 'str'\n"
     ]
    }
   ],
   "source": [
    "ppdt.generateXPredictData(spec_list=None,rebuild=True)"
   ]
  },
  {
   "cell_type": "code",
   "execution_count": null,
   "metadata": {},
   "outputs": [],
   "source": []
  },
  {
   "cell_type": "code",
   "execution_count": null,
   "metadata": {},
   "outputs": [],
   "source": []
  },
  {
   "cell_type": "code",
   "execution_count": null,
   "metadata": {},
   "outputs": [],
   "source": []
  },
  {
   "cell_type": "code",
   "execution_count": null,
   "metadata": {},
   "outputs": [],
   "source": []
  },
  {
   "cell_type": "code",
   "execution_count": null,
   "metadata": {},
   "outputs": [],
   "source": []
  }
 ],
 "metadata": {
  "kernelspec": {
   "display_name": "Python 3",
   "language": "python",
   "name": "python3"
  },
  "language_info": {
   "codemirror_mode": {
    "name": "ipython",
    "version": 3
   },
   "file_extension": ".py",
   "mimetype": "text/x-python",
   "name": "python",
   "nbconvert_exporter": "python",
   "pygments_lexer": "ipython3",
   "version": "3.8.2"
  }
 },
 "nbformat": 4,
 "nbformat_minor": 4
}
