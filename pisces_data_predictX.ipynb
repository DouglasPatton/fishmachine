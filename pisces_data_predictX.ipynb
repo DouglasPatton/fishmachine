{
 "cells": [
  {
   "cell_type": "code",
   "execution_count": 2,
   "metadata": {},
   "outputs": [
    {
     "data": {
      "text/plain": [
       "'/home/dp/hdd2/gits/kernelkernel'"
      ]
     },
     "execution_count": 2,
     "metadata": {},
     "output_type": "execute_result"
    }
   ],
   "source": [
    "import os ; os.getcwd()"
   ]
  },
  {
   "cell_type": "code",
   "execution_count": 3,
   "metadata": {},
   "outputs": [],
   "source": [
    "from pi_data_predict import PiscesPredictDataTool"
   ]
  },
  {
   "cell_type": "code",
   "execution_count": 4,
   "metadata": {},
   "outputs": [
    {
     "name": "stdout",
     "output_type": "stream",
     "text": [
      "streamcat data directory: /home/dp/hdd2/gits/kernelkernel/../../../hdd3/sc_data\n"
     ]
    }
   ],
   "source": [
    "ppdt=PiscesPredictDataTool()"
   ]
  },
  {
   "cell_type": "code",
   "execution_count": 6,
   "metadata": {},
   "outputs": [],
   "source": [
    "speclist=ppdt.getXdb()"
   ]
  },
  {
   "cell_type": "code",
   "execution_count": 9,
   "metadata": {},
   "outputs": [
    {
     "data": {
      "text/plain": [
       "['/pylodictis_olivaris',\n",
       " '/micropterus_salmoides',\n",
       " '/micropterus_dolomieu',\n",
       " '/lepomis_macrochirus',\n",
       " '/ictalurus_punctatus',\n",
       " '/cyprinus_carpio']"
      ]
     },
     "execution_count": 9,
     "metadata": {},
     "output_type": "execute_result"
    }
   ],
   "source": [
    "speclist[::-1]"
   ]
  },
  {
   "cell_type": "code",
   "execution_count": null,
   "metadata": {},
   "outputs": [],
   "source": [
    "#Xdb[keys[0]]"
   ]
  },
  {
   "cell_type": "code",
   "execution_count": null,
   "metadata": {},
   "outputs": [
    {
     "name": "stdout",
     "output_type": "stream",
     "text": [
      "streamcat data directory: /home/dp/hdd2/gits/kernelkernel/../../../hdd3/sc_data\n",
      "SCDataTool, sc_data_dirSCDataTool, sc_data_dirSCDataTool, sc_data_dir   /home/dp/hdd2/gits/kernelkernel/../../../hdd3/sc_data/home/dp/hdd2/gits/kernelkernel/../../../hdd3/sc_data/home/dp/hdd2/gits/kernelkernel/../../../hdd3/sc_data\n",
      "SCDataTool, sc_data_dirSCDataTool, sc_data_dir\n",
      "\n",
      "  /home/dp/hdd2/gits/kernelkernel/../../../hdd3/sc_data/home/dp/hdd2/gits/kernelkernel/../../../hdd3/sc_dataSCDataTool, sc_data_dirSCDataTool, sc_data_dir\n",
      "\n",
      "  /home/dp/hdd2/gits/kernelkernel/../../../hdd3/sc_data/home/dp/hdd2/gits/kernelkernel/../../../hdd3/sc_data\n",
      "\n",
      "SCDataTool, sc_data_dir /home/dp/hdd2/gits/kernelkernel/../../../hdd3/sc_data\n",
      "SCDataTool, sc_data_dir /home/dp/hdd2/gits/kernelkernel/../../../hdd3/sc_data\n",
      "SCDataTool, sc_data_dir /home/dp/hdd2/gits/kernelkernel/../../../hdd3/sc_data\n",
      "SCDataTool, sc_data_dir /home/dp/hdd2/gits/kernelkernel/../../../hdd3/sc_data\n"
     ]
    }
   ],
   "source": [
    "ppdt.generateXPredictData(spec_list=None,rebuild=True)"
   ]
  },
  {
   "cell_type": "code",
   "execution_count": null,
   "metadata": {},
   "outputs": [],
   "source": []
  },
  {
   "cell_type": "code",
   "execution_count": null,
   "metadata": {},
   "outputs": [],
   "source": []
  },
  {
   "cell_type": "code",
   "execution_count": null,
   "metadata": {},
   "outputs": [],
   "source": []
  },
  {
   "cell_type": "code",
   "execution_count": null,
   "metadata": {},
   "outputs": [],
   "source": []
  },
  {
   "cell_type": "code",
   "execution_count": null,
   "metadata": {},
   "outputs": [],
   "source": []
  }
 ],
 "metadata": {
  "kernelspec": {
   "display_name": "Python 3",
   "language": "python",
   "name": "python3"
  },
  "language_info": {
   "codemirror_mode": {
    "name": "ipython",
    "version": 3
   },
   "file_extension": ".py",
   "mimetype": "text/x-python",
   "name": "python",
   "nbconvert_exporter": "python",
   "pygments_lexer": "ipython3",
   "version": "3.8.2"
  }
 },
 "nbformat": 4,
 "nbformat_minor": 4
}
