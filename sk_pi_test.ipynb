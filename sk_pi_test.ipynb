{
 "cells": [
  {
   "cell_type": "code",
   "execution_count": 1,
   "metadata": {},
   "outputs": [],
   "source": [
    "from sk_tool import SKToolInitializer as skti"
   ]
  },
  {
   "cell_type": "code",
   "execution_count": 2,
   "metadata": {},
   "outputs": [],
   "source": [
    "from pisces_params import PiSetup"
   ]
  },
  {
   "cell_type": "code",
   "execution_count": 3,
   "metadata": {},
   "outputs": [],
   "source": [
    "from qcluster import RunNode"
   ]
  },
  {
   "cell_type": "code",
   "execution_count": 4,
   "metadata": {},
   "outputs": [],
   "source": [
    "import pickle"
   ]
  },
  {
   "cell_type": "code",
   "execution_count": 5,
   "metadata": {},
   "outputs": [],
   "source": [
    "from sqlitedict import SqliteDict"
   ]
  },
  {
   "cell_type": "code",
   "execution_count": 6,
   "metadata": {},
   "outputs": [
    {
     "data": {
      "text/plain": [
       "SqliteDict(test.sqlite)"
      ]
     },
     "execution_count": 6,
     "metadata": {},
     "output_type": "execute_result"
    }
   ],
   "source": [
    "SqliteDict(filename='test.sqlite',tablename='test1')"
   ]
  },
  {
   "cell_type": "code",
   "execution_count": 7,
   "metadata": {},
   "outputs": [],
   "source": [
    "rn=RunNode(qdict=1,local_run=1)"
   ]
  },
  {
   "cell_type": "code",
   "execution_count": 8,
   "metadata": {},
   "outputs": [],
   "source": [
    "p=PiSetup()"
   ]
  },
  {
   "cell_type": "code",
   "execution_count": 9,
   "metadata": {},
   "outputs": [],
   "source": [
    "rundictlist,_=p.setupRundictList()"
   ]
  },
  {
   "cell_type": "code",
   "execution_count": 10,
   "metadata": {},
   "outputs": [],
   "source": [
    "rundictlist1=rundictlist[:1]"
   ]
  },
  {
   "cell_type": "code",
   "execution_count": 11,
   "metadata": {},
   "outputs": [
    {
     "name": "stdout",
     "output_type": "stream",
     "text": [
      "opening /home/dp/gits/kernelkernel/data_tool/specieslistfiles with length:7 and type:<class 'tuple'>\n"
     ]
    }
   ],
   "source": [
    "data,hash_id_model_dict=rn.build_from_rundict(rundictlist[2])"
   ]
  },
  {
   "cell_type": "code",
   "execution_count": 15,
   "metadata": {},
   "outputs": [],
   "source": [
    "data.X_train=data.X_train.iloc[:100,0:10]\n",
    "data.y_train=data.y_train.iloc[:100]"
   ]
  },
  {
   "cell_type": "code",
   "execution_count": 16,
   "metadata": {},
   "outputs": [
    {
     "data": {
      "text/html": [
       "<div>\n",
       "<style scoped>\n",
       "    .dataframe tbody tr th:only-of-type {\n",
       "        vertical-align: middle;\n",
       "    }\n",
       "\n",
       "    .dataframe tbody tr th {\n",
       "        vertical-align: top;\n",
       "    }\n",
       "\n",
       "    .dataframe thead th {\n",
       "        text-align: right;\n",
       "    }\n",
       "</style>\n",
       "<table border=\"1\" class=\"dataframe\">\n",
       "  <thead>\n",
       "    <tr style=\"text-align: right;\">\n",
       "      <th></th>\n",
       "      <th>AgKffactCat</th>\n",
       "      <th>AgKffactWs</th>\n",
       "      <th>Al2O3Cat</th>\n",
       "      <th>Al2O3Ws</th>\n",
       "      <th>BFICat</th>\n",
       "      <th>BFIWs</th>\n",
       "      <th>CBNFCat</th>\n",
       "      <th>CBNFWs</th>\n",
       "      <th>CCHEM_v2_1</th>\n",
       "      <th>CCONN_v2_1</th>\n",
       "    </tr>\n",
       "  </thead>\n",
       "  <tbody>\n",
       "    <tr>\n",
       "      <th>13136785</th>\n",
       "      <td>0.000000</td>\n",
       "      <td>0.000541</td>\n",
       "      <td>6.256555</td>\n",
       "      <td>6.256555</td>\n",
       "      <td>55.000000</td>\n",
       "      <td>53.778270</td>\n",
       "      <td>0.000000</td>\n",
       "      <td>0.128927</td>\n",
       "      <td>0.919604</td>\n",
       "      <td>0.994024</td>\n",
       "    </tr>\n",
       "    <tr>\n",
       "      <th>13409934</th>\n",
       "      <td>0.221823</td>\n",
       "      <td>0.208265</td>\n",
       "      <td>3.754796</td>\n",
       "      <td>2.105007</td>\n",
       "      <td>63.000000</td>\n",
       "      <td>63.000000</td>\n",
       "      <td>22.069123</td>\n",
       "      <td>21.268348</td>\n",
       "      <td>0.412171</td>\n",
       "      <td>0.902143</td>\n",
       "    </tr>\n",
       "    <tr>\n",
       "      <th>15502599</th>\n",
       "      <td>0.093685</td>\n",
       "      <td>0.170103</td>\n",
       "      <td>6.517536</td>\n",
       "      <td>1.868014</td>\n",
       "      <td>47.000000</td>\n",
       "      <td>46.974202</td>\n",
       "      <td>2.264844</td>\n",
       "      <td>3.823129</td>\n",
       "      <td>0.661087</td>\n",
       "      <td>0.956621</td>\n",
       "    </tr>\n",
       "    <tr>\n",
       "      <th>1814745</th>\n",
       "      <td>0.051658</td>\n",
       "      <td>0.043165</td>\n",
       "      <td>16.572018</td>\n",
       "      <td>15.073711</td>\n",
       "      <td>60.254169</td>\n",
       "      <td>62.138778</td>\n",
       "      <td>3.505370</td>\n",
       "      <td>3.161451</td>\n",
       "      <td>0.810232</td>\n",
       "      <td>0.992219</td>\n",
       "    </tr>\n",
       "    <tr>\n",
       "      <th>19503772</th>\n",
       "      <td>0.069690</td>\n",
       "      <td>0.088288</td>\n",
       "      <td>6.678309</td>\n",
       "      <td>4.328151</td>\n",
       "      <td>42.000000</td>\n",
       "      <td>44.302993</td>\n",
       "      <td>2.502384</td>\n",
       "      <td>2.417396</td>\n",
       "      <td>0.703796</td>\n",
       "      <td>0.927887</td>\n",
       "    </tr>\n",
       "    <tr>\n",
       "      <th>...</th>\n",
       "      <td>...</td>\n",
       "      <td>...</td>\n",
       "      <td>...</td>\n",
       "      <td>...</td>\n",
       "      <td>...</td>\n",
       "      <td>...</td>\n",
       "      <td>...</td>\n",
       "      <td>...</td>\n",
       "      <td>...</td>\n",
       "      <td>...</td>\n",
       "    </tr>\n",
       "    <tr>\n",
       "      <th>19743206</th>\n",
       "      <td>0.030660</td>\n",
       "      <td>0.044656</td>\n",
       "      <td>11.929126</td>\n",
       "      <td>11.985279</td>\n",
       "      <td>50.184751</td>\n",
       "      <td>50.191288</td>\n",
       "      <td>0.380499</td>\n",
       "      <td>0.610762</td>\n",
       "      <td>0.722228</td>\n",
       "      <td>0.909560</td>\n",
       "    </tr>\n",
       "    <tr>\n",
       "      <th>19489972</th>\n",
       "      <td>0.015311</td>\n",
       "      <td>0.002490</td>\n",
       "      <td>14.037843</td>\n",
       "      <td>14.037843</td>\n",
       "      <td>57.000000</td>\n",
       "      <td>57.128085</td>\n",
       "      <td>0.183727</td>\n",
       "      <td>0.029884</td>\n",
       "      <td>0.823787</td>\n",
       "      <td>0.961692</td>\n",
       "    </tr>\n",
       "    <tr>\n",
       "      <th>8126893</th>\n",
       "      <td>0.000000</td>\n",
       "      <td>0.000306</td>\n",
       "      <td>9.206749</td>\n",
       "      <td>8.932374</td>\n",
       "      <td>41.000000</td>\n",
       "      <td>40.725150</td>\n",
       "      <td>0.000000</td>\n",
       "      <td>0.011341</td>\n",
       "      <td>0.867849</td>\n",
       "      <td>1.000000</td>\n",
       "    </tr>\n",
       "    <tr>\n",
       "      <th>11807714</th>\n",
       "      <td>0.136027</td>\n",
       "      <td>0.123071</td>\n",
       "      <td>2.901551</td>\n",
       "      <td>3.751043</td>\n",
       "      <td>43.953482</td>\n",
       "      <td>44.377613</td>\n",
       "      <td>1.026293</td>\n",
       "      <td>1.104448</td>\n",
       "      <td>0.614195</td>\n",
       "      <td>0.956435</td>\n",
       "    </tr>\n",
       "    <tr>\n",
       "      <th>13631207</th>\n",
       "      <td>0.121875</td>\n",
       "      <td>0.121875</td>\n",
       "      <td>4.192121</td>\n",
       "      <td>4.192121</td>\n",
       "      <td>66.000000</td>\n",
       "      <td>66.000000</td>\n",
       "      <td>12.359481</td>\n",
       "      <td>12.359481</td>\n",
       "      <td>0.516609</td>\n",
       "      <td>0.948150</td>\n",
       "    </tr>\n",
       "  </tbody>\n",
       "</table>\n",
       "<p>100 rows × 10 columns</p>\n",
       "</div>"
      ],
      "text/plain": [
       "          AgKffactCat  AgKffactWs   Al2O3Cat    Al2O3Ws     BFICat      BFIWs  \\\n",
       "13136785     0.000000    0.000541   6.256555   6.256555  55.000000  53.778270   \n",
       "13409934     0.221823    0.208265   3.754796   2.105007  63.000000  63.000000   \n",
       "15502599     0.093685    0.170103   6.517536   1.868014  47.000000  46.974202   \n",
       "1814745      0.051658    0.043165  16.572018  15.073711  60.254169  62.138778   \n",
       "19503772     0.069690    0.088288   6.678309   4.328151  42.000000  44.302993   \n",
       "...               ...         ...        ...        ...        ...        ...   \n",
       "19743206     0.030660    0.044656  11.929126  11.985279  50.184751  50.191288   \n",
       "19489972     0.015311    0.002490  14.037843  14.037843  57.000000  57.128085   \n",
       "8126893      0.000000    0.000306   9.206749   8.932374  41.000000  40.725150   \n",
       "11807714     0.136027    0.123071   2.901551   3.751043  43.953482  44.377613   \n",
       "13631207     0.121875    0.121875   4.192121   4.192121  66.000000  66.000000   \n",
       "\n",
       "            CBNFCat     CBNFWs  CCHEM_v2_1  CCONN_v2_1  \n",
       "13136785   0.000000   0.128927    0.919604    0.994024  \n",
       "13409934  22.069123  21.268348    0.412171    0.902143  \n",
       "15502599   2.264844   3.823129    0.661087    0.956621  \n",
       "1814745    3.505370   3.161451    0.810232    0.992219  \n",
       "19503772   2.502384   2.417396    0.703796    0.927887  \n",
       "...             ...        ...         ...         ...  \n",
       "19743206   0.380499   0.610762    0.722228    0.909560  \n",
       "19489972   0.183727   0.029884    0.823787    0.961692  \n",
       "8126893    0.000000   0.011341    0.867849    1.000000  \n",
       "11807714   1.026293   1.104448    0.614195    0.956435  \n",
       "13631207  12.359481  12.359481    0.516609    0.948150  \n",
       "\n",
       "[100 rows x 10 columns]"
      ]
     },
     "execution_count": 16,
     "metadata": {},
     "output_type": "execute_result"
    }
   ],
   "source": [
    "data.X_train"
   ]
  },
  {
   "cell_type": "code",
   "execution_count": 17,
   "metadata": {},
   "outputs": [],
   "source": [
    "model_results=[]\n",
    "for hash_id,model_dict in list(hash_id_model_dict.items())[:1]:\n",
    "    model_results.append(model_dict['model'].run(data))\n",
    "    "
   ]
  },
  {
   "cell_type": "code",
   "execution_count": 25,
   "metadata": {},
   "outputs": [],
   "source": [
    "with open('test.pkl','wb') as f:\n",
    "    pickle.dump(model_results[0],f)"
   ]
  },
  {
   "cell_type": "code",
   "execution_count": 26,
   "metadata": {},
   "outputs": [],
   "source": [
    "with open('test.pkl','rb') as f:\n",
    "    a=pickle.load(f)"
   ]
  },
  {
   "cell_type": "code",
   "execution_count": 32,
   "metadata": {},
   "outputs": [
    {
     "data": {
      "text/plain": [
       "['fit_time',\n",
       " 'score_time',\n",
       " 'estimator',\n",
       " 'test_f1_micro',\n",
       " 'test_precision_micro',\n",
       " 'test_recall_micro',\n",
       " 'test_accuracy']"
      ]
     },
     "execution_count": 32,
     "metadata": {},
     "output_type": "execute_result"
    }
   ],
   "source": [
    "list(a.keys())\n"
   ]
  },
  {
   "cell_type": "code",
   "execution_count": 38,
   "metadata": {},
   "outputs": [
    {
     "data": {
      "text/plain": [
       "array([-1., -1.,  1., ..., -1., -1., -1.])"
      ]
     },
     "execution_count": 38,
     "metadata": {},
     "output_type": "execute_result"
    }
   ],
   "source": [
    "a['estimator'][0].predict(data.X_test)"
   ]
  },
  {
   "cell_type": "code",
   "execution_count": 39,
   "metadata": {},
   "outputs": [],
   "source": [
    "with SqliteDict(filename='test.sqlite',tablename='test1') as sd:\n",
    "    sd['a']=a\n",
    "    sd.commit()"
   ]
  },
  {
   "cell_type": "code",
   "execution_count": 40,
   "metadata": {},
   "outputs": [],
   "source": [
    "b=SqliteDict(filename='test.sqlite',tablename='test1')"
   ]
  },
  {
   "cell_type": "code",
   "execution_count": 42,
   "metadata": {},
   "outputs": [
    {
     "data": {
      "text/plain": [
       "array([-1., -1.,  1., ..., -1., -1., -1.])"
      ]
     },
     "execution_count": 42,
     "metadata": {},
     "output_type": "execute_result"
    }
   ],
   "source": [
    "b['a']['estimator'][0].predict(data.X_test)"
   ]
  },
  {
   "cell_type": "code",
   "execution_count": null,
   "metadata": {},
   "outputs": [],
   "source": []
  }
 ],
 "metadata": {
  "kernelspec": {
   "display_name": "Python 3",
   "language": "python",
   "name": "python3"
  },
  "language_info": {
   "codemirror_mode": {
    "name": "ipython",
    "version": 3
   },
   "file_extension": ".py",
   "mimetype": "text/x-python",
   "name": "python",
   "nbconvert_exporter": "python",
   "pygments_lexer": "ipython3",
   "version": "3.8.2"
  }
 },
 "nbformat": 4,
 "nbformat_minor": 4
}
