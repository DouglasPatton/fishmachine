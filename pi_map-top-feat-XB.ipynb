{
 "cells": [
  {
   "cell_type": "code",
   "execution_count": 1,
   "metadata": {},
   "outputs": [
    {
     "data": {
      "text/plain": [
       "'/home/dp/hdd/gits/kernelkernel'"
      ]
     },
     "execution_count": 1,
     "metadata": {},
     "output_type": "execute_result"
    }
   ],
   "source": [
    "import os;os.getcwd()"
   ]
  },
  {
   "cell_type": "code",
   "execution_count": 2,
   "metadata": {},
   "outputs": [
    {
     "ename": "SyntaxError",
     "evalue": "invalid syntax (pi_map.py, line 351)",
     "output_type": "error",
     "traceback": [
      "Traceback \u001b[0;36m(most recent call last)\u001b[0m:\n",
      "  File \u001b[1;32m\"/home/dp/miniconda3/envs/kernel/lib/python3.8/site-packages/IPython/core/interactiveshell.py\"\u001b[0m, line \u001b[1;32m3417\u001b[0m, in \u001b[1;35mrun_code\u001b[0m\n    exec(code_obj, self.user_global_ns, self.user_ns)\n",
      "\u001b[0;36m  File \u001b[0;32m\"<ipython-input-2-8acd1b4edc70>\"\u001b[0;36m, line \u001b[0;32m1\u001b[0;36m, in \u001b[0;35m<module>\u001b[0;36m\u001b[0m\n\u001b[0;31m    from pi_map import Mapper\u001b[0m\n",
      "\u001b[0;36m  File \u001b[0;32m\"/home/dp/hdd/gits/kernelkernel/pi_map.py\"\u001b[0;36m, line \u001b[0;32m351\u001b[0m\n\u001b[0;31m    def plot_top_features(self,huc_level=None,split=None,top_n=10,rebuild=0,zzzno_fish=False,\u001b[0m\n\u001b[0m    ^\u001b[0m\n\u001b[0;31mSyntaxError\u001b[0m\u001b[0;31m:\u001b[0m invalid syntax\n"
     ]
    }
   ],
   "source": [
    "from pi_map import Mapper"
   ]
  },
  {
   "cell_type": "code",
   "execution_count": null,
   "metadata": {},
   "outputs": [],
   "source": [
    "import pandas as pd\n",
    "import numpy as np"
   ]
  },
  {
   "cell_type": "code",
   "execution_count": null,
   "metadata": {},
   "outputs": [],
   "source": [
    "mpr=Mapper()"
   ]
  },
  {
   "cell_type": "code",
   "execution_count": null,
   "metadata": {},
   "outputs": [],
   "source": [
    "mpr.plot_top_features(vote=False,rebuild=0,cv_collapse='split',wt_type='fitscor_diffscor',scale_by_X=False,huc_level='HUC12',filter_vars=True,spec_wt=None,fit_scorer='roc_auc_score_micro',top_n=10,presence_filter=True)"
   ]
  },
  {
   "cell_type": "code",
   "execution_count": null,
   "metadata": {},
   "outputs": [],
   "source": [
    "mpr.plot_top_features(vote=False,rebuild=0,cv_collapse=True,wt_type='none',huc_level='HUC12',scale_by_X=True,filter_vars=True,spec_wt=None,fit_scorer='f1_micro',top_n=10,presence_filter=True)"
   ]
  },
  {
   "cell_type": "code",
   "execution_count": null,
   "metadata": {},
   "outputs": [],
   "source": []
  },
  {
   "cell_type": "code",
   "execution_count": null,
   "metadata": {},
   "outputs": [],
   "source": []
  },
  {
   "cell_type": "code",
   "execution_count": null,
   "metadata": {},
   "outputs": [],
   "source": []
  },
  {
   "cell_type": "code",
   "execution_count": null,
   "metadata": {},
   "outputs": [],
   "source": [
    "mpr.plot_top_features(vote=False,rebuild=0,cv_collapse=True,wt_type='fitscor',scale_by_X=False,huc_level='HUC12',filter_vars=True,spec_wt=None,fit_scorer='f1_micro',top_n=10,presence_filter=True)"
   ]
  },
  {
   "cell_type": "code",
   "execution_count": null,
   "metadata": {},
   "outputs": [],
   "source": [
    "mpr.plot_top_features(rebuild=0,cv_collapse='split',wt_type='fitscor',huc_level='HUC12',scale_by_X=True,filter_vars=True,spec_wt=None,fit_scorer='f1_micro',top_n=10,presence_filter=True)"
   ]
  },
  {
   "cell_type": "code",
   "execution_count": null,
   "metadata": {},
   "outputs": [],
   "source": []
  },
  {
   "cell_type": "code",
   "execution_count": null,
   "metadata": {},
   "outputs": [],
   "source": [
    "mpr.plot_top_features(rebuild=0,wt_type='none',scale_by_X=False,huc_level='HUC12',filter_vars=True,spec_wt=None,fit_scorer='f1_micro',top_n=10,presence_filter=True)"
   ]
  },
  {
   "cell_type": "code",
   "execution_count": null,
   "metadata": {},
   "outputs": [],
   "source": [
    "mpr.plot_top_features(rebuild=0,wt_type='none',huc_level='HUC12',scale_by_X=True,filter_vars=True,spec_wt=None,fit_scorer='f1_micro',top_n=10,presence_filter=True)"
   ]
  },
  {
   "cell_type": "code",
   "execution_count": null,
   "metadata": {},
   "outputs": [],
   "source": []
  },
  {
   "cell_type": "code",
   "execution_count": null,
   "metadata": {},
   "outputs": [],
   "source": []
  },
  {
   "cell_type": "code",
   "execution_count": null,
   "metadata": {},
   "outputs": [],
   "source": [
    "mpr.plot_top_features(rebuild=0,cv_collapse='split',vote=False,wt_type='fitscor',scale_by_X=False,huc_level='HUC12',filter_vars=True,spec_wt=None,fit_scorer='f1_micro',top_n=10,presence_filter=True)"
   ]
  },
  {
   "cell_type": "code",
   "execution_count": null,
   "metadata": {},
   "outputs": [],
   "source": [
    "mpr.plot_top_features(rebuild=0,wt_type='fitscor',huc_level='HUC12',scale_by_X=True,filter_vars=True,spec_wt=None,fit_scorer='f1_micro',top_n=10,presence_filter=True)"
   ]
  },
  {
   "cell_type": "code",
   "execution_count": null,
   "metadata": {},
   "outputs": [],
   "source": [
    "mpr.plot_top_features(rebuild=0,wt_type='fitscor',huc_level='HUC12',scale_by_X=True,filter_vars=True,spec_wt=None,fit_scorer='f1_micro',top_n=10,presence_filter=False)"
   ]
  },
  {
   "cell_type": "code",
   "execution_count": null,
   "metadata": {},
   "outputs": [],
   "source": [
    "mpr.plot_top_features(rebuild=0,wt_type='fitscor',huc_level='HUC12',scale_by_X=False,filter_vars=True,spec_wt=None,fit_scorer='f1_micro',top_n=10,presence_filter=False)"
   ]
  },
  {
   "cell_type": "code",
   "execution_count": null,
   "metadata": {},
   "outputs": [],
   "source": []
  }
 ],
 "metadata": {
  "kernelspec": {
   "display_name": "Python 3",
   "language": "python",
   "name": "python3"
  },
  "language_info": {
   "codemirror_mode": {
    "name": "ipython",
    "version": 3
   },
   "file_extension": ".py",
   "mimetype": "text/x-python",
   "name": "python",
   "nbconvert_exporter": "python",
   "pygments_lexer": "ipython3",
   "version": "3.8.2"
  }
 },
 "nbformat": 4,
 "nbformat_minor": 4
}
