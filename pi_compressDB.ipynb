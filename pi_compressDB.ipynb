{
 "cells": [
  {
   "cell_type": "code",
   "execution_count": null,
   "metadata": {},
   "outputs": [],
   "source": [
    "from pi_db_tool import DBTool\n",
    "import os"
   ]
  },
  {
   "cell_type": "code",
   "execution_count": null,
   "metadata": {},
   "outputs": [],
   "source": [
    "import traceback"
   ]
  },
  {
   "cell_type": "code",
   "execution_count": null,
   "metadata": {},
   "outputs": [],
   "source": []
  },
  {
   "cell_type": "code",
   "execution_count": null,
   "metadata": {},
   "outputs": [
    {
     "name": "stdout",
     "output_type": "stream",
     "text": [
      "99/8475.199/8475.299/8475.399/8475.499/8475.599/8475.699/8475.799/8475.899/8475.999/8475.1099/8475.1199/8475.1299/8475.1399/8475.1499/8475.1599/8475.1699/8475.1799/8475.1899/8475.1999/8475.2099/8475.2199/8475.2299/8475.2399/8475.2499/8475.2599/8475.2699/8475.2799/8475.2899/8475.2999/8475.3099/8475.3199/8475.3299/8475.3399/8475.3499/8475.3599/8475.3699/8475.3799/8475.3899/8475.3999/8475.4099/8475.4199/8475.4299/8475.4399/8475.4499/8475.4599/8475.4699/8475.4799/8475.4899/8475.4999/8475.5099/8475.5199/8475.5299/8475.5399/8475.5499/8475.5599/8475.5699/8475.5799/8475.5899/8475.5999/8475.6099/8475.6199/8475.6299/8475.6399/8475.6499/8475.6599/8475.6699/8475.6799/8475.6899/8475.6999/8475.7099/8475.7199/8475.7299/8475.7399/8475.7499/8475.7599/8475.7699/8475.7799/8475.7899/8475.7999/8475.8099/8475.8199/8475.8299/8475.8399/8475.99/565.199/565.299/565.399/565.499/565.99/444.199/444.299/444.399/444."
     ]
    }
   ],
   "source": [
    "dbt=DBTool()\n",
    "dbdir='results'\n",
    "for path in os.listdir(dbdir):\n",
    "    if path[-6:]=='sqlite':\n",
    "        path=dbdir+'/'+path\n",
    "        try:\n",
    "            dbt.re_encode(path)\n",
    "        except:\n",
    "            print(traceback.format_exc(),path)"
   ]
  },
  {
   "cell_type": "code",
   "execution_count": null,
   "metadata": {},
   "outputs": [],
   "source": [
    "DBTool().re_encode('results/postfitDB-Copy1.sqlite')"
   ]
  },
  {
   "cell_type": "code",
   "execution_count": null,
   "metadata": {},
   "outputs": [],
   "source": [
    "from sqlitedict import SqliteDict"
   ]
  },
  {
   "cell_type": "code",
   "execution_count": null,
   "metadata": {},
   "outputs": [],
   "source": []
  },
  {
   "cell_type": "code",
   "execution_count": null,
   "metadata": {},
   "outputs": [],
   "source": [
    "from shutil import copy"
   ]
  },
  {
   "cell_type": "code",
   "execution_count": null,
   "metadata": {},
   "outputs": [],
   "source": [
    "SqliteDict.get_tablenames('results/fitfailDB.sqlite')"
   ]
  },
  {
   "cell_type": "code",
   "execution_count": null,
   "metadata": {},
   "outputs": [],
   "source": [
    "help(SqliteDict)"
   ]
  },
  {
   "cell_type": "code",
   "execution_count": null,
   "metadata": {},
   "outputs": [],
   "source": [
    "dbt=DBTool()\n"
   ]
  },
  {
   "cell_type": "code",
   "execution_count": null,
   "metadata": {},
   "outputs": [],
   "source": []
  },
  {
   "cell_type": "code",
   "execution_count": null,
   "metadata": {},
   "outputs": [],
   "source": []
  },
  {
   "cell_type": "code",
   "execution_count": null,
   "metadata": {},
   "outputs": [],
   "source": [
    "db=dbt.resultsDBdict"
   ]
  },
  {
   "cell_type": "code",
   "execution_count": null,
   "metadata": {},
   "outputs": [],
   "source": [
    "#db=dbt.genDBdict"
   ]
  },
  {
   "cell_type": "code",
   "execution_count": null,
   "metadata": {},
   "outputs": [],
   "source": [
    "str(type(db)) "
   ]
  },
  {
   "cell_type": "code",
   "execution_count": null,
   "metadata": {},
   "outputs": [],
   "source": [
    "callable(db())"
   ]
  },
  {
   "cell_type": "code",
   "execution_count": null,
   "metadata": {},
   "outputs": [],
   "source": [
    "#len(list(dbt.resultsDBdict_backup().keys()))"
   ]
  },
  {
   "cell_type": "code",
   "execution_count": null,
   "metadata": {},
   "outputs": [],
   "source": [
    "'''db=dbt.resultsDBdict_backup()\n",
    "for key in list(db.keys()):\n",
    "    _=db[key]'''"
   ]
  },
  {
   "cell_type": "code",
   "execution_count": null,
   "metadata": {},
   "outputs": [],
   "source": [
    "#dbt.add_x_vars_to_results()"
   ]
  },
  {
   "cell_type": "code",
   "execution_count": null,
   "metadata": {},
   "outputs": [],
   "source": [
    "#dbt.del_est_from_results()\n",
    "dbt.purgeExtraGen()"
   ]
  },
  {
   "cell_type": "code",
   "execution_count": null,
   "metadata": {},
   "outputs": [],
   "source": []
  }
 ],
 "metadata": {
  "kernelspec": {
   "display_name": "Python 3",
   "language": "python",
   "name": "python3"
  },
  "language_info": {
   "codemirror_mode": {
    "name": "ipython",
    "version": 3
   },
   "file_extension": ".py",
   "mimetype": "text/x-python",
   "name": "python",
   "nbconvert_exporter": "python",
   "pygments_lexer": "ipython3",
   "version": "3.8.2"
  }
 },
 "nbformat": 4,
 "nbformat_minor": 4
}
