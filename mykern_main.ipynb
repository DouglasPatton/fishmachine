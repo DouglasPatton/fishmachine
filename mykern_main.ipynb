{
 "cells": [
  {
   "cell_type": "markdown",
   "metadata": {},
   "source": [
    "### kernel density estimation and kernel regression for prediction\n",
    "This notebook is my first attempt to write down the ddiff and dddiff models that I have been working on"
   ]
  },
  {
   "cell_type": "markdown",
   "metadata": {},
   "source": [
    "mixed recursive/iterative approach (rather than vectorized approach that is harder to generalize\n",
    "- create separate submodules for KDE and KDreg\n",
    "    - develop a system for storing differenced but unweighted data and the appropriate mask to lessen memory usage. \n",
    "        -1's or 0's depending on i/j/k/l/.... values\n",
    "    - figure out the deepest level requested by the user and levels that are less deep are just slices of the deeper model. \n",
    "        -scout out the tree to build the differenced dataset. \n",
    "          \n",
    "        \n",
    " plot and compare\n",
    "on synthetic data, 1, 2, 3+ mixed distributions\n",
    "1d - Ndiff vs gaussian kernel vs kernel_tunneling\n",
    "2d -  \n",
    "\n",
    "\n",
    "multidimensional x problem\n",
    "e.g., parameter treatment\n",
    "\"product kernel approach\" vs l2 \"el two\" (radial basis?)distance "
   ]
  },
  {
   "cell_type": "markdown",
   "metadata": {},
   "source": [
    "#### generate a simple linear dataset y=xb+e\n",
    "##### store validation data from same dataset too"
   ]
  },
  {
   "cell_type": "markdown",
   "metadata": {
    "pycharm": {
     "name": "#%% md\n"
    }
   },
   "source": [
    "### create modeldict\n",
    "- 'Ndiff_type': refers to the mathematical form of Ndiff\n",
    "  - 'product'-Ndiff1 multiplied by Ndiff2\n",
    "  - 'recursive'-Ndiff1's bw is Ndiff 2\n",
    "- max_bw_Ndiff: is the depth of Ndiffs applied in estimating the bandwidth.\n",
    "- 'normalize_Ndiffwtsum':\n",
    "  - 'across' means sum across own level of kernelized-Ndiffs and divide by that sum (CDF approach)\n",
    "  - 'own_n' means for (n+k)diff where n+K=max_bw_Ndiff\n",
    "- Ndiff_bw_kern:\n",
    "  - rbfkern means use the radial basis function kernel\n",
    "  - 'product' means use product kernel like as in liu and yang eq1. \n",
    "- 'regression_model':\n",
    "  - 'NW' means use nadaraya-watson kernel regression\n",
    "  - 'full_logit' means local logit with all variables entering linearly\n",
    "  - 'rbf_logit' means local logit with 1 parameters: scaled l2 norm centered on zero \n",
    " (globally or by i?). Is this a new idea?\n",
    "- outer_x_bw_form: if x is separated into blocks of rvars that are combined within a block using rbf kernel, \n",
    "  - 'one_for_all' - use same hx bw for all blocks\n",
    "  - 'one_per_block' - each block or rvars gets an hx\n",
    "- ykern_grid\n",
    "  - if int, then create int evnely spaced values from -3 to 3 (standard normal middle ~99%)\n",
    "  - 'no' means use original data points (self is masked when predicting self)\n",
    "- xkern_grid\n",
    "  - much like ykern_grid, but used less frequently since x's are typically pre-specified\n",
    "- product_kern_norm: when multiplying kernels across random variables, this parameter determines if each random variable has its kernels normalized before the product or not\n",
    "  - 'self' means each random variable has its kernels divided by the sum of kernels across the nout axis (the number of possibile values y is averaged over, whose probabilities sum to 1)\n",
    "  - 'own_n' means same as self, but divided by count of non-masked items in second to last, nout lenght dimension\n",
    "  - 'none' means no normalization prior to taking products across rvar kernels\n",
    "- hyper_param_form_dict is a nested dictionary\n",
    "  - Ndiff_exponent is the exponent wrapped around typically a sum of kernels for each Ndiff level \n",
    "after level 1 (i.e., (i-j) or centered, obvious/conventional level.)\n",
    "  - x_bandscale is the parameter specific to each variable (each x in X) used for prediction (y)\n",
    "  - Ndiff_depth_bw is used as the kernel's bandwidth (h) at each level of Ndiff including at level 1 \n",
    "  - outer_x_bw vanilla bandwidth for the rbf or product kernel\n",
    "  - outer_y_bw vanilla bandwidth for y"
   ]
  },
  {
   "cell_type": "code",
   "execution_count": 1,
   "metadata": {},
   "outputs": [],
   "source": [
    "import os\n",
    "import kernelcompare as kc\n",
    "#from importlib import reload\n",
    "networkdir='o:/public/dpatton/kernel'\n",
    "mydir=os.getcwd()\n",
    "#mydir2=os.path.join(mydir,\"old models without datagen\")\n",
    "test=kc.KernelCompare(directory=mydir)"
   ]
  },
  {
   "cell_type": "code",
   "execution_count": 2,
   "metadata": {},
   "outputs": [],
   "source": [
    "Ndiff_type_variations=('modeldict:Ndiff_type',['recursive','product'])\n",
    "max_bw_Ndiff_variations=('modeldict:max_bw_Ndiff',[2,3])\n",
    "Ndiff_start_variations=('modeldict:Ndiff_start',[1,2])\n",
    "ykern_grid_variations=('modeldict:ykern_grid',[33])\n",
    "#product_kern_norm_variations=('modeldict:product_kern_norm',['self','own_n'])#include None too?\n",
    "#normalize_Ndiffwtsum_variations=('modeldict:normalize_Ndiffwtsum',['own_n','across'])\n",
    "optdict_variation_list=[Ndiff_type_variations,ykern_grid_variations,max_bw_Ndiff_variations,Ndiff_start_variations]  #,product_kern_norm_variations,normalize_Ndiffwtsum_variations]\n",
    "\n"
   ]
  },
  {
   "cell_type": "code",
   "execution_count": 3,
   "metadata": {},
   "outputs": [],
   "source": [
    "#the default datagen_dict as of 11/25/2019\n",
    "#datagen_dict={'batch_n':32,'batchcount':10, 'param_count':param_count,'seed':1, 'ftype':'linear', 'evar':1, 'source':'monte'}\n",
    "\n",
    "\n",
    "batch_n_variations=('batch_n',[32])\n",
    "batchcount_variations=('batchcount',[20])\n",
    "ftype_variations=('ftype',['linear','quadratic'])\n",
    "param_count_variations=('param_count',[1,2])\n",
    "#need to add block capability to datagen so we can repeat optimization with new training data.\n",
    "\n",
    "datagen_variation_list=[batch_n_variations,batchcount_variations,ftype_variations,param_count_variations]\n",
    "\n"
   ]
  },
  {
   "cell_type": "code",
   "execution_count": 4,
   "metadata": {},
   "outputs": [
    {
     "name": "stdout",
     "output_type": "stream",
     "text": [
      "dict_combo_list has 4 variations to run\n",
      "len(datagen_dict_list):4\n",
      "dict_combo_list has 8 variations to run\n",
      "dict_combo_list has 8 variations to run\n",
      "dict_combo_list has 8 variations to run\n",
      "dict_combo_list has 8 variations to run\n"
     ]
    },
    {
     "data": {
      "text/plain": [
       "\"print(f'len(testrun){len(testrun)}')\\nprint(f'testrun[0]{testrun[0:2]}')\\nprint('--------------')\\nprint(f'testrun[-1]{testrun[-4:]}')\""
      ]
     },
     "execution_count": 4,
     "metadata": {},
     "output_type": "execute_result"
    }
   ],
   "source": [
    "testrun=test.prep_model_list(optdict_variation_list=optdict_variation_list,datagen_variation_list=datagen_variation_list,verbose=1)\n",
    "'''print(f'len(testrun){len(testrun)}')\n",
    "print(f'testrun[0]{testrun[0:2]}')\n",
    "print('--------------')\n",
    "print(f'testrun[-1]{testrun[-4:]}')'''"
   ]
  },
  {
   "cell_type": "code",
   "execution_count": null,
   "metadata": {
    "pycharm": {
     "is_executing": false,
     "name": "#%%\n"
    }
   },
   "outputs": [
    {
     "name": "stdout",
     "output_type": "stream",
     "text": [
      "~~~~~~~run number:0`~~~~~~~\n",
      "a_rundict{'optimizedict': {'opt_settings_dict': {'method': 'Nelder-Mead', 'options': {'xatol': 0.5, 'fatol': 1, 'adaptive': True}, 'mse_threshold': 2, 'help_start': 1, 'partial_match': 1}, 'hyper_param_dict': {'Ndiff_exponent': array([0.3, 0.3]), 'x_bandscale': array([1.]), 'outer_x_bw': array([2.7]), 'outer_y_bw': array([2.2]), 'Ndiff_depth_bw': array([0.5, 0.5]), 'y_bandscale': array([1.5])}, 'modeldict': {'Ndiff_type': 'product', 'param_count': 1, 'Ndiff_start': 1, 'max_bw_Ndiff': 2, 'normalize_Ndiffwtsum': 'own_n', 'xkern_grid': 'no', 'ykern_grid': 33, 'outer_kern': 'gaussian', 'Ndiff_bw_kern': 'rbfkern', 'outer_x_bw_form': 'one_for_all', 'regression_model': 'NW', 'product_kern_norm': 'self', 'hyper_param_form_dict': {'Ndiff_exponent': 'free', 'x_bandscale': 'non-neg', 'Ndiff_depth_bw': 'non-neg', 'outer_x_bw': 'non-neg', 'outer_y_bw': 'non-neg', 'y_bandscale': 'non-neg'}}}, 'datagen_dict': {'validate_batchcount': 10, 'batch_n': 32, 'batchcount': 20, 'param_count': 1, 'seed': 1, 'ftype': 'linear', 'evar': 1, 'source': 'monte'}}\n",
      "datagen_dict:{'validate_batchcount': 10, 'batch_n': 32, 'batchcount': 20, 'param_count': 1, 'seed': 1, 'ftype': 'linear', 'evar': 1, 'source': 'monte'} for directory,C:\\Users\\DPatton\\gits\\kernelkernel\n",
      "Traceback (most recent call last):\n",
      "  File \"C:\\Users\\DPatton\\gits\\kernelkernel\\kernelcompare.py\", line 491, in open_and_compare_optdict\n",
      "    with open(saved_filename,'rb') as saved_model_bytes:\n",
      "FileNotFoundError: [Errno 2] No such file or directory: 'C:\\\\Users\\\\DPatton\\\\gits\\\\kernelkernel\\\\..\\\\condensed_model_save'\n",
      "\n",
      "saved_filename is C:\\Users\\DPatton\\gits\\kernelkernel\\..\\condensed_model_save, but does not seem to exist\n",
      "here1\n",
      "in saved_filename:C:\\Users\\DPatton\\gits\\kernelkernel\\condensed_model_save, len(doubledict_list):753,len(saved_dict_list):753\n",
      "--------------------------------help_start is triggered---------------------------\n",
      "--------------help_start with partial match triggered----------------\n",
      "-----partial match is looking for a partial match------\n",
      "117 partial matches found only after substituting {'datagen_dict': {'batchcount': 20}}\n",
      "-----partial match is looking for a partial match------\n",
      "1 partial matches found only after substituting {'datagen_dict': {'batchcount': 3}}\n",
      "-----partial match is looking for a partial match------\n",
      "1 partial matches found only after substituting {'datagen_dict': {'batchcount': 8}}\n",
      "-----partial match is looking for a partial match------\n",
      "1 partial matches found only after substituting {'datagen_dict': {'batchcount': 1}}\n",
      "-----partial match is looking for a partial match------\n",
      "1 partial matches found only after substituting {'datagen_dict': {'batchcount': 3}}\n",
      "-----partial match is looking for a partial match------\n",
      "1 partial matches found only after substituting {'datagen_dict': {'batchcount': 1}}\n",
      "-----partial match is looking for a partial match------\n",
      "1 partial matches found only after substituting {'datagen_dict': {'batchcount': 3}}\n",
      "-----partial match is looking for a partial match------\n",
      "1 partial matches found only after substituting {'datagen_dict': {'batchcount': 1}}\n",
      "-----partial match is looking for a partial match------\n",
      "1 partial matches found only after substituting {'datagen_dict': {'batchcount': 3}}\n",
      "-----partial match is looking for a partial match------\n",
      "1 partial matches found only after substituting {'datagen_dict': {'batchcount': 1}}\n",
      "-----partial match is looking for a partial match------\n",
      "1 partial matches found only after substituting {'datagen_dict': {'batchcount': 3}}\n",
      "-----partial match is looking for a partial match------\n",
      "1 partial matches found only after substituting {'datagen_dict': {'batchcount': 1}}\n",
      "-----partial match is looking for a partial match------\n",
      "1 partial matches found only after substituting {'datagen_dict': {'batchcount': 3}}\n",
      "-----partial match is looking for a partial match------\n",
      "1 partial matches found only after substituting {'datagen_dict': {'batchcount': 1}}\n",
      "-----partial match is looking for a partial match------\n",
      "1 partial matches found only after substituting {'datagen_dict': {'batchcount': 3}}\n",
      "-----partial match is looking for a partial match------\n",
      "1 partial matches found only after substituting {'datagen_dict': {'batchcount': 1}}\n",
      "-----partial match is looking for a partial match------\n",
      "1 partial matches found only after substituting {'datagen_dict': {'batchcount': 3}}\n",
      "-----partial match is looking for a partial match------\n",
      "1 partial matches found only after substituting {'datagen_dict': {'batchcount': 2}}\n",
      "-----partial match is looking for a partial match------\n",
      "1 partial matches found only after substituting {'datagen_dict': {'batchcount': 1}}\n",
      "-----partial match is looking for a partial match------\n",
      "1 partial matches found only after substituting {'datagen_dict': {'batchcount': 3}}\n",
      "-----partial match is looking for a partial match------\n",
      "1 partial matches found only after substituting {'datagen_dict': {'batchcount': 1}}\n",
      "-----partial match is looking for a partial match------\n",
      "1 partial matches found only after substituting {'datagen_dict': {'batchcount': 3}}\n",
      "-----partial match is looking for a partial match------\n",
      "1 partial matches found only after substituting {'datagen_dict': {'batchcount': 1}}\n",
      "-----partial match is looking for a partial match------\n",
      "1 partial matches found only after substituting {'datagen_dict': {'batchcount': 3}}\n",
      "-----partial match is looking for a partial match------\n",
      "1 partial matches found only after substituting {'datagen_dict': {'batchcount': 1}}\n",
      "-----partial match is looking for a partial match------\n",
      "1 partial matches found only after substituting {'datagen_dict': {'batchcount': 3}}\n",
      "-----partial match is looking for a partial match------\n",
      "1 partial matches found only after substituting {'datagen_dict': {'batchcount': 2}}\n",
      "-----partial match is looking for a partial match------\n",
      "1 partial matches found only after substituting {'datagen_dict': {'batchcount': 1}}\n",
      "-----partial match is looking for a partial match------\n",
      "1 partial matches found only after substituting {'datagen_dict': {'batchcount': 3}}\n",
      "-----partial match is looking for a partial match------\n",
      "1 partial matches found only after substituting {'datagen_dict': {'batchcount': 1}}\n",
      "-----partial match is looking for a partial match------\n",
      "1 partial matches found only after substituting {'datagen_dict': {'batchcount': 3}}\n",
      "-----partial match is looking for a partial match------\n",
      "1 partial matches found only after substituting {'datagen_dict': {'batchcount': 1}}\n",
      "-----partial match is looking for a partial match------\n",
      "1 partial matches found only after substituting {'datagen_dict': {'batchcount': 3}}\n",
      "-----partial match is looking for a partial match------\n",
      "1 partial matches found only after substituting {'datagen_dict': {'batchcount': 1}}\n",
      "-----partial match is looking for a partial match------\n",
      "1 partial matches found only after substituting {'datagen_dict': {'batchcount': 3}}\n",
      "-----partial match is looking for a partial match------\n",
      "1 partial matches found only after substituting {'datagen_dict': {'batchcount': 1}}\n",
      "-----partial match is looking for a partial match------\n",
      "1 partial matches found only after substituting {'datagen_dict': {'batchcount': 3}}\n",
      "-----partial match is looking for a partial match------\n",
      "1 partial matches found only after substituting {'datagen_dict': {'batchcount': 1}}\n",
      "-----partial match is looking for a partial match------\n",
      "1 partial matches found only after substituting {'datagen_dict': {'batchcount': 3}}\n",
      "-----partial match is looking for a partial match------\n",
      "1 partial matches found only after substituting {'datagen_dict': {'batchcount': 1}}\n",
      "-----partial match is looking for a partial match------\n",
      "1 partial matches found only after substituting {'datagen_dict': {'batchcount': 3}}\n",
      "-----partial match is looking for a partial match------\n",
      "1 partial matches found only after substituting {'datagen_dict': {'batchcount': 1}}\n",
      "-----partial match is looking for a partial match------\n",
      "1 partial matches found only after substituting {'datagen_dict': {'batchcount': 3}}\n",
      "-----partial match is looking for a partial match------\n",
      "1 partial matches found only after substituting {'datagen_dict': {'batchcount': 2}}\n",
      "-----partial match is looking for a partial match------\n",
      "1 partial matches found only after substituting {'datagen_dict': {'batchcount': 2}}\n",
      "-----partial match is looking for a partial match------\n",
      "1 partial matches found only after substituting {'datagen_dict': {'batchcount': 2}}\n",
      "-----partial match is looking for a partial match------\n",
      "1 partial matches found only after substituting {'datagen_dict': {'batchcount': 2}}\n",
      "-----partial match is looking for a partial match------\n",
      "1 partial matches found only after substituting {'datagen_dict': {'batchcount': 1}}\n",
      "-----partial match is looking for a partial match------\n",
      "1 partial matches found only after substituting {'datagen_dict': {'batchcount': 3}}\n",
      "-----partial match is looking for a partial match------\n",
      "1 partial matches found only after substituting {'datagen_dict': {'batchcount': 1}}\n",
      "-----partial match is looking for a partial match------\n",
      "1 partial matches found only after substituting {'datagen_dict': {'batchcount': 3}}\n",
      "-----partial match is looking for a partial match------\n",
      "1 partial matches found only after substituting {'datagen_dict': {'batchcount': 1}}\n",
      "-----partial match is looking for a partial match------\n",
      "1 partial matches found only after substituting {'datagen_dict': {'batchcount': 3}}\n",
      "-----partial match is looking for a partial match------\n",
      "1 partial matches found only after substituting {'datagen_dict': {'batchcount': 1}}\n",
      "-----partial match is looking for a partial match------\n",
      "1 partial matches found only after substituting {'datagen_dict': {'batchcount': 3}}\n",
      "-----partial match is looking for a partial match------\n",
      "1 partial matches found only after substituting {'datagen_dict': {'batchcount': 2}}\n",
      "-----partial match is looking for a partial match------\n",
      "1 partial matches found only after substituting {'datagen_dict': {'batchcount': 2}}\n",
      "-----partial match is looking for a partial match------\n",
      "1 partial matches found only after substituting {'datagen_dict': {'batchcount': 2}}\n",
      "-----partial match is looking for a partial match------\n",
      "1 partial matches found only after substituting {'datagen_dict': {'batchcount': 1}}\n",
      "-----partial match is looking for a partial match------\n",
      "1 partial matches found only after substituting {'datagen_dict': {'batchcount': 3}}\n",
      "-----partial match is looking for a partial match------\n",
      "1 partial matches found only after substituting {'datagen_dict': {'batchcount': 1}}\n",
      "-----partial match is looking for a partial match------\n",
      "1 partial matches found only after substituting {'datagen_dict': {'batchcount': 3}}\n",
      "-----partial match is looking for a partial match------\n",
      "1 partial matches found only after substituting {'datagen_dict': {'batchcount': 1}}\n",
      "-----partial match is looking for a partial match------\n",
      "1 partial matches found only after substituting {'datagen_dict': {'batchcount': 3}}\n",
      "-----partial match is looking for a partial match------\n",
      "1 partial matches found only after substituting {'datagen_dict': {'batchcount': 1}}\n",
      "-----partial match is looking for a partial match------\n",
      "1 partial matches found only after substituting {'datagen_dict': {'batchcount': 3}}\n",
      "-----partial match is looking for a partial match------\n",
      "1 partial matches found only after substituting {'datagen_dict': {'batchcount': 1}}\n",
      "-----partial match is looking for a partial match------\n",
      "1 partial matches found only after substituting {'datagen_dict': {'batchcount': 3}}\n",
      "-----partial match is looking for a partial match------\n",
      "1 partial matches found only after substituting {'datagen_dict': {'batchcount': 1}}\n",
      "-----partial match is looking for a partial match------\n",
      "1 partial matches found only after substituting {'datagen_dict': {'batchcount': 3}}\n",
      "-----partial match is looking for a partial match------\n",
      "1 partial matches found only after substituting {'datagen_dict': {'batchcount': 1}}\n",
      "-----partial match is looking for a partial match------\n",
      "1 partial matches found only after substituting {'datagen_dict': {'batchcount': 3}}\n",
      "-----partial match is looking for a partial match------\n",
      "1 partial matches found only after substituting {'datagen_dict': {'batchcount': 1}}\n",
      "-----partial match is looking for a partial match------\n",
      "1 partial matches found only after substituting {'datagen_dict': {'batchcount': 3}}\n",
      "-----partial match is looking for a partial match------\n",
      "1 partial matches found only after substituting {'datagen_dict': {'batchcount': 1}}\n",
      "-----partial match is looking for a partial match------\n",
      "1 partial matches found only after substituting {'datagen_dict': {'batchcount': 3}}\n",
      "-----partial match is looking for a partial match------\n",
      "1 partial matches found only after substituting {'datagen_dict': {'batchcount': 1}}\n",
      "-----partial match is looking for a partial match------\n",
      "1 partial matches found only after substituting {'datagen_dict': {'batchcount': 3}}\n",
      "-----partial match is looking for a partial match------\n",
      "1 partial matches found only after substituting {'datagen_dict': {'batchcount': 1}}\n",
      "-----partial match is looking for a partial match------\n",
      "1 partial matches found only after substituting {'datagen_dict': {'batchcount': 3}}\n",
      "-----partial match is looking for a partial match------\n",
      "1 partial matches found only after substituting {'datagen_dict': {'batchcount': 1}}\n",
      "-----partial match is looking for a partial match------\n",
      "1 partial matches found only after substituting {'datagen_dict': {'batchcount': 3}}\n",
      "here3\n",
      "here2\n",
      "optimization dict with lowest mse:24.269012280299012, n:48was last saved20191125-195920\n",
      "overriding start parameters with saved parameters\n",
      "key Ndiff_exponent\n",
      "type(replacement_fixedfreedict): <class 'dict'>\n",
      "key x_bandscale\n",
      "type(replacement_fixedfreedict): <class 'dict'>\n",
      "key outer_x_bw\n",
      "type(replacement_fixedfreedict): <class 'dict'>\n",
      "key outer_y_bw\n",
      "type(replacement_fixedfreedict): <class 'dict'>\n",
      "key Ndiff_depth_bw\n",
      "type(replacement_fixedfreedict): <class 'dict'>\n",
      "key y_bandscale\n",
      "type(replacement_fixedfreedict): <class 'dict'>\n",
      "param_valdict:{'Ndiff_exponent': array([0.27668668, 0.30091781]), 'x_bandscale': array([0.94076216]), 'outer_x_bw': array([2.78931735]), 'outer_y_bw': array([2.35202759]), 'Ndiff_depth_bw': array([0.52631713, 0.51830027]), 'y_bandscale': array([1.46462016])}\n",
      "setup_fixed_or_free_paramdict:{'Ndiff_exponent': {'fixed_or_free': 'free', 'const': 'free', 'location_idx': (0, 2)}, 'x_bandscale': {'fixed_or_free': 'free', 'const': 'non-neg', 'location_idx': (2, 3)}, 'Ndiff_depth_bw': {'fixed_or_free': 'free', 'const': 'non-neg', 'location_idx': (3, 5)}, 'outer_x_bw': {'fixed_or_free': 'free', 'const': 'non-neg', 'location_idx': (5, 6)}, 'outer_y_bw': {'fixed_or_free': 'free', 'const': 'non-neg', 'location_idx': (6, 7)}, 'y_bandscale': {'fixed_or_free': 'free', 'const': 'non-neg', 'location_idx': (7, 8)}, 'free_params': 'outside', 'fixed_params': array([], dtype=float64)}\n",
      "795modeldict:{'Ndiff_type': 'product', 'param_count': 1, 'Ndiff_start': 1, 'max_bw_Ndiff': 2, 'normalize_Ndiffwtsum': 'own_n', 'xkern_grid': 'no', 'ykern_grid': 33, 'outer_kern': 'gaussian', 'Ndiff_bw_kern': 'rbfkern', 'outer_x_bw_form': 'one_for_all', 'regression_model': 'NW', 'product_kern_norm': 'self', 'hyper_param_form_dict': {'Ndiff_exponent': 'free', 'x_bandscale': 'non-neg', 'Ndiff_depth_bw': 'non-neg', 'outer_x_bw': 'non-neg', 'outer_y_bw': 'non-neg', 'y_bandscale': 'non-neg'}}\n",
      "all_y_err [2.075499656193875, 1.7394438783636712, 0.16003865932254424, -1.063545442219315, -0.2506476551988954, 0.5470688629249061, -0.16678091436416587, 0.6608824507159845, 1.284789465073191, -0.969424537532535, 2.568661336544825, 1.7292759187202837, 0.7963138304516924, -0.8312632108825335, 0.6036402314637472, 1.2341615634187435, 2.129121798525759, 0.8382823120463958, 0.7152683317129291, 1.5862963387501106, 1.5328244656392913, 0.4925848040228633, 1.281942504252176, -1.4712891550639284, -0.5897126448993752, 1.9696356781082, 2.5085053474953383, 1.5758208337075552, 0.9741074293096932, -0.09413712171208521, -0.6248887108792731, 1.8988827711591156, -3.918803616958897, -4.814880605854737, -3.154284967710262, -1.1851286530801008, 4.708992366552406, -9.351768087511179, -11.015147603286785, -5.762865357393554, -4.683183611490265, -3.3409812585435827, -3.8882655008682327, -21.602508271877372, -5.530584847653327, -3.4249802644062544, -4.6296050235377315, -3.4472848995951386, -4.8759656259588136, -5.467260196681078, -4.182495623723009, -4.282648325403548, -4.275409854583367, -4.951062564933222, -6.055381663141391, -3.8859007905403384, -4.411450598936831, -3.1898652503012768, -2.477198379108568, -3.7662317487050387, -6.226122239758711, -5.911881990882341, -3.563417230459736, -4.382229196229302, -0.3690492374552985, 3.2414018387971115, 0.4817959349370544, -6.549031340230921, 1.2574044803214814, 3.653807523274299, 1.2900556611475373, 6.948376154228804, 7.340380261360181, -5.531002899123167, 22.835707992267082, 1.627422343157523, 1.6326533970772026, -2.8672208778266537, 22.59171901622945, 0.1890324035026376, 0.14926342059443254, 10.072190886677422, -3.7982694588062085, 0.25859042859108694, 0.8489447111314243, 0.5172584985024522, 0.4546029881055045, 7.337697811371555, 0.5410170068580205, 1.5665014105438084, -0.07315196908904564, 0.6506157246746757, 1.918390561589014, 0.8485764801090938, 0.4852493366189976, -43.62757302730827, -3.268014004692404, -1.774818674270612, -1.3434745144940305, -2.144767607247852, -0.3194919967265739, -4.969274093973578, -6.179090243805398, -3.148109664103266, -6.977014051354483, -4.920405898587844, -2.3451970912649314, -5.604363477628923, -1.3631994251787853, -3.5244759512166297, -3.563683046271729, -1.5981534297783566, -6.193881157373108, -3.427916833182356, -1.9380586464633742, -2.05227115318233, -0.6218471947103694, -1.3155234968798317, -4.521585258730305, -4.489508484101213, -2.3479468649199164, 0.1462935679064996, -2.8259023468873474, 0.02521999618183468, -2.04737483154804, -0.49998184036553805, -2.6249904238474118, -0.2649688437586306, -5.508571538166485, -2.5316766890663165, -0.08336241857180537, -3.748533994049507, -1.8474924193731268, -2.992397977212684, -2.1300451775706724, -1.4659042367600104, -1.574204172155055, -1.5656552884721573, -4.962751921218728, -1.9520081054971348, -2.178163412655517, -4.850525379342604, -1.231466231119457, -2.7137404267576795, -0.36980551595873434, -3.6345777290073893, -2.629384149473469, -1.5331423766345647, -1.0169994970769305, 0.8546442907675216, -4.843774258109715, -5.244011853013296, -0.6560058703784177, -3.3278699848831934, -0.5470277365222316, -0.7343076452052282, -2.737422718346062, -6.5426253084036805, -1.789843170692106, -3.3499246134231213, 6.656645159467361, 7.586327323501021, 5.55363689002718, 7.1199978113480675, 5.1401880980784105, 5.864675652521365, 6.12965446324365, 5.128318214304052, 5.397548141817173, 3.9998261263763686, 4.715610763138082, 5.93809569273958, 6.247849707587602, 5.22601066861203, 5.586225945435292, 6.611598825313769, 6.136501303931821, 5.208602767264036, 3.911801502336321, 5.521260965864146, 5.409153264354991, 5.729940066875573, 5.936574092154254, 5.908463707927927, 4.492341410549113, 5.627559886926974, 5.725980301799925, 6.55941269009627, 7.213769071499467, 4.4405674703956315, 5.309070140408501, 4.679626708680464, -0.033069619064609146, 5.0373185355759595, 2.315235943878792, 2.630616635084551, 0.7226000932404402, 3.3318944888483335, -0.9595313934840122, 3.1045489838946025, 2.471581265959574, 8.882156137326094, 0.9256876675222305, 2.0973762235710316, 3.0059314783943387, 4.067569551458876, 1.829353929096368, 2.546574633946613, -1.151702649108602, 1.8904915367098982, 2.7835313492805573, 2.7316481540769777, 1.393234266394371, 8.96930700877408, 5.429793001414215, 2.13706722600954, -4.145143363650149, 0.04975238360726242, 1.1337662294773139, 5.0513241087162495, 2.1791706118099405, -0.744028875217871, 2.076432087721306, 4.576763806563136, 0.08467676906157284, -0.32489651056275926, 5.057048159156551, 1.8853291876788543, 2.974136848659299, 1.766652743925491, 0.6965718628407487, 0.5030412295969136, 2.0242415600241817, -3.467124227106219, 10.227847866865373, -0.003014290949971965, -2.788417249397936, 1.7443888804432341, 1.6519781212132916, -5.034480619988976, -3.003232631074306, 1.8895751138257988, 0.8560667564384303, -1.4850656975273901, 2.2290257954446133, 0.9449031143857585, 16.65392719342106, 0.813359797243681, -2.6632431661613225, -3.3728928352134186, 1.668124036230275, -1.6250509777227373, 2.260946244750567, 1.05992777365268, 1.1130822333748847, -0.40984316605202703, 10.05298309209575, -1.5184191216520055, -4.013154141755006, -1.2834551231968803, 0.0647940940050411, 0.2587024130586144, -0.706153873131095, 0.296854473455717, -0.678709967763834, -1.038669759509145, -3.9290055335847156, -3.684183711029802, -4.526821526721354, -3.5011190071671194, -1.671859975416984, -0.9877266879484221, -4.534628378910613, -4.086213320397345, -0.42788836473588354, 0.8842041958211997, -4.052158489145522, -1.946257854259052, -2.2822879617692475, -3.145105979190147, -1.0222899849075198, -4.130991935055172, -3.8165621825701637, -0.03811095847811341, -8.726475609299342, -3.829136181194979, -0.12875018716063735, -0.6952364553704102, 1.5389192628186095, -0.019294778796738576, -0.18145396507244405, 0.9241928971105158, 1.9196981749995468, -4.892856306952613, 0.9940302922236803, -3.7124221979853598, 1.8521595664280586, -1.960325412919706, -0.6282012740064697, -0.106798025684395, -0.9201996620190558, 2.8350194650882106, 0.9146385431891058, -0.33631806868889935, 0.5489301946661209, -0.6244270150176843, -0.6553708409104688, -1.3927941299542526, -4.544011640107256, 1.5932356782912942, -0.18492439505192815, -3.9200875424825776, 3.4480197718992063, -0.6629506212474925, 3.2181847867080924, -2.251870107848882, 0.45010014721167657, -0.6895624341744342, 2.480596424823812, -3.607249079820903, 4.202598623236286, 3.2045709997820313, 10.746792639613753, 0.0219245661731291, 3.0767078820345617, 1.0339971695046217, 3.194639600998468, 1.8282785988407406, 3.1024689472747364, 3.973854534587513, 3.1167114999576855, 1.3174862658422657, 2.290895112585277, 3.1395649222630326, 4.935140912783192, 5.822702798405958, -2.907636162380194, 0.8508708890830863, 4.430223595280564, 3.7607849871107453, 3.629130538276256, 4.389040894638665, 2.4560847271061714, 0.637347567257402, 3.6106076471629662, 0.9533493480469151, 4.3174230265260745, 2.1661985325816735, 1.2671564358549965, 6.59458210721684, 3.014558963124851, 1.8387271959979081, 0.11373158388174032, 0.43674993585680344, -0.4164015208192162, -1.1125241540348632, 0.12982166429792175, -0.5448067357385922, 2.547596423544835, -1.144013354519723, -0.4939588999830393, 0.5201950352357358, -0.7087660711870081, 0.14290289422484426, -1.2442501427110177, -1.5215092249712048, -1.8069195243211686, -0.13215423452021247, -1.2067579711573315, 0.024484318825832574, -0.9401884438013646, -1.6885923022319347, 0.5109879188086883, 2.074085182873904, -0.14912620287625078, -2.1346479293502343, 0.26360300116684954, -2.285887547279833, -1.5459335114619286, 0.7509467928038291, -1.0477749405548313, 0.6787836559081621, -0.08998507683336188, 0.06378001657619814, -3.0137869233912666, -1.8937509631989755, 1.1830411830091956, -2.182968991750122, 0.11962399682948188, 2.757185404901641, -2.855914768514347, -2.8513600347095003, 1.6710262938693683, -1.4870338907962126, -2.123948666057891, 3.3921131015030905, -2.703025495489783, -1.0179421797523274, -0.6625364541294938, -1.6360886222410327, -2.331314364716767, 2.014544549381048, -0.19615697305112345, -2.5443448608563433, -2.387601287784876, -2.304907678793581, 0.025672152922287417, -12.033460294957822, -1.8726506986897353, -2.8603280548970678, -2.346832817801575, 11.641455614796211, -0.6815082924638061, -2.935947142016846, 4.845888100940681, -1.8995095617624158, -2.234811738231439, 3.382575419043497, 0.2784892235166492, -2.1138202369422032, 0.5110681848524035, 0.03441607406861724, -2.131992118835881, 0.15077811744208525, 0.8849204167331672, -2.063312690078096, -2.090930473422833, -1.346025677146634, -1.9169077418934979, 4.576040280591119, 0.6357829113249744, 4.5293464354672786, 1.2213198473398776, -2.1164031703234327, -8.016426516538864, -1.792866304227334, 0.8708240415885582, 0.7877522830890369, -0.8371302214198608, -3.8197683850241644, -0.8707651714032045, -2.0685331067581543, -2.0990997065945614, 1.1923545627551144, -1.807753461248316, -2.1938960269341647, -0.05134310609602277, -2.175123992016524, -1.1520397356920054, -3.980155093404421, -1.807186858452536, -0.1482311409587025, -0.15297531280054066, 13.381782164972256, -4.4300724940295835, -4.2453601780305075, -0.31453760968738553, -25.953242749473354, -1.3576813336429558, -30.729624382020123, -0.3484808261571346, -0.2393202108916883, -14.70216534866788, -0.4714531855088455, 0.04393025508387005, -0.0894975322210474, 0.48769655676057155, -1.5797589273214347, -0.08863963132382224, -1.8677160342965475, -0.662938233372996, -6.165438956572475, -0.6407198386711119, 6.289370923202707, -0.9211931561794131, 1.2159589954354715, -0.1567550543836269, -0.16183648106943505, -13.97892688761369, -2.772302695474946, 6.197799109056671, 9.65226098546703, 3.398248689181057, 8.065284878176932, 7.961947662399764, 7.149573894717918, 4.019138454600935, 6.982242156087528, 5.545761631854641, 7.266618073957478, 8.740114423595378, 6.0235707876045055, 4.446684606753817, 9.696486411668946, 10.167387818233731, 6.74351096901886, 8.09133902508883, 13.892989170024475, 22.451363545190585, 7.255640911329236, 7.180233072507999, 7.025644397944475, 42.82358033373648, 6.837358379939957, 7.343042962242501, 6.3642132862597505, 6.7316368621114435, 8.371324840456333, 15.838402938592669, 5.701734138029946, 7.838051244953211, 6.396511023988767, 7.519725356266013, 8.49204360862559, 6.251478984109644, 7.206957970542026, 9.136573715277521, 4.166790016469267, 8.785934370766478, 10.558650149443823, 4.337147685721292, 6.425258642541612, 6.949157954137849, 6.294086086499885, 9.66229327995466, 7.743646899788729, 7.934523554285686, 12.327946843795058, 5.119230404898566, 7.738947484496844, 5.800169770910369, 6.521222615576631, 7.281733874258, 18.143431215252498, 6.8205438368049895, 10.216548777797938, 5.849603447400424, 7.075339114485301, 6.581015028347959, 12.746553930261026, 7.7640005183896195, 7.171386307596764, 12.111342058870031, 6.96004986969418, -8.165049230180433, -8.163876029622099, -7.819912369862106, -9.850272747517561, -7.73603031645443, -8.629106491895596, -15.94303409264592, -8.238685153775588, -9.84477399539532, -7.578936989231549, -9.069408550699901, -9.252165194410853, -8.26951278351916, -7.333306172837774, -8.285463873958902, -9.12285738986915, -7.657046934505346, -8.993903720430598, -9.693031252136421, -22.485375370731916, -7.702928335102788, -9.67255062277977, -9.118531333150582, -9.804223523024795, 4.946008973564918, -9.130652214622213, -3.7243463893980486, -8.091252363681084, -9.976577803294395, -6.938928746036637, -7.414954867460317, -18.12336340031996, 2.8760542619760514, 2.491326603229806, 1.394524271289185, 1.4491698442292575, 3.4372288163681497, 2.893522800160941, 2.1505477114226426, 4.363390278568719, 1.8625179732519457, 2.3425170710831713, 4.111325766457551, 2.1248574723323577, 3.090798536412298, 1.4499177597628066, 3.5114001161545043, 2.1707914244697637, 1.2160047424224394, 2.472539693869976, 2.660567827905517, 1.964724315829879, 2.266977271811859, 2.2663154888214017, 3.159859591066701, 2.428491139442851, 1.157817609616305, 0.9146796342782295, 0.34654828703236884, 2.156062223386923, 1.6765601274265323, 3.1160270882070358, 3.599580984925951, 2.51246423705206, -2.9862556746880182, -2.70264194752676, -1.7106633911529887, -4.137362391026939, -3.417413996248495, -2.851834632641789, -2.817573084206825, -4.602148882102459, -3.8135811419512136, -3.0335995522478414, -6.026137162034027, -5.281666834357339, -4.1402379133003215, -2.4393359774396934, -3.076799719205392, -2.004313126063031, -2.4105704102063905, -4.05000190251527, -1.8070274248051674, -4.149514343639874, -4.238288062289581, -3.0255938330993235, -2.7930762732356227, -2.3850598606445352, -4.655330542345799, -3.1632539642623723, -3.3256544750920054, -2.932927146932332, -5.492244869876982, -6.1766685482199035, -3.425077140530085, -3.8760626582836006]\n",
      "saved to C:\\Users\\DPatton\\gits\\kernelkernel\\model_save at about 20191205-123617 with mse=33.78487038784717\n",
      "all_y_err [2.0693497416229354, 1.734339605474831, 0.162391743266447, -1.0501433712095483, -0.2461559158067268, 0.5467233495025505, -0.1587082316926236, 0.6597374072844127, 1.2802788199508766, -0.9592027612883443, 2.5630234451442093, 1.7238893355264193, 0.7944970912173677, -0.8204460870758377, 0.6029310727257449, 1.2302199174225343, 2.1235267873488377, 0.8360062767577996, 0.7138618230696947, 1.5809535607527403, 1.5277184849450007, 0.4924211969527481, 1.2778159998241563, -1.4565328172305065, -0.5837235858343508, 1.9653113812621714, 2.5048320019497328, 1.5721167962478324, 0.9712232807269876, -0.09092624866497712, -0.6171270715573782, 1.8929335500382423, -4.072407516763143, -4.580882319507072, -3.7934996302937005, -1.9527461099681567, 4.213673614282639, -8.934151185149904, -10.784978989270599, -5.288327123995291, -4.507769574311311, -3.8696385839314016, -4.0185068365889585, -21.7018035203196, -5.100256392075247, -3.8976236634043384, -4.478458817454875, -3.897848713490772, -4.61679357626565, -5.048722857617892, -4.172352028573908, -4.27471401945903, -4.235094040563889, -4.6904238893345465, -5.532911032191359, -4.030588112823821, -4.315170250040051, -3.8101592612155466, -3.308630091242634, -3.9214073797878726, -5.58825311890347, -5.417728985936443, -3.878993521657879, -4.288856934842844, 1.1156116901693007, 2.044388845072513, 1.2370745427954275, -5.467961281573614, 0.8988221303146702, 2.4199775147083997, 0.350626404749816, 5.376347701983697, 5.890325589196941, -4.372672455250186, 22.66964616954041, 1.0867282100587836, 0.5664340404544213, -1.4991365245263104, 22.375364325248974, 1.255824418929131, 1.1744756900803681, 7.901995490159219, -2.500483043482964, 1.2219874805775186, 0.7791425017844711, 1.2282718188880417, 1.164393682746499, 5.921576532626922, 1.2086497629721467, 1.1444060253102153, 1.28847830205647, 0.9130334555274678, 0.8250681832167928, 0.7842178052257354, 1.2987158312290297, -44.89279972248829, -3.224039485222475, -1.7900698984608558, -1.3824849159702772, -2.141329947250348, -0.40957256874100834, -4.932774319774438, -6.16444825749924, -3.116383166591842, -6.977074099634848, -4.88610663549654, -2.332114267729337, -5.577113007279969, -1.3988340750064965, -3.4794127505171053, -3.5269154584729376, -1.6227800440925042, -6.17831752833683, -3.391652704651307, -1.9440516663657048, -2.0527165219870955, -0.6922892862736609, -1.3557150520678451, -4.479866876014288, -4.4469946677600225, -2.3355173084709637, 0.037883337569006414, -2.795288691087945, -0.07590996705252984, -2.047781248619141, -0.5641435087267688, -2.6013082753870718, -0.3507480412236248, -5.496083703549328, -2.5119654003654572, -0.15242372219091216, -3.716853896614251, -1.847005712201843, -2.9666290608474934, -2.120308460684721, -1.4788900728773204, -1.5836667735633414, -1.5734741035377877, -4.944151269352211, -1.9479599571273924, -2.167379084377654, -4.833892605090803, -1.2538946367421273, -2.694217307649012, -0.42793520790076833, -3.60575182287198, -2.608366162499943, -1.5405269326631679, -1.0488269995700565, 0.7849947397332437, -4.819664344437082, -5.228796400837796, -0.7003719598357021, -3.301052496196046, -0.5966468611547646, -0.7765615859511166, -2.716635893433848, -6.5538302108869555, -1.7898637195415796, -3.3208562792777188, 6.654923429988858, 7.604074850343855, 5.545507656710981, 7.12468664184528, 5.1361822969847655, 5.857336916380323, 6.12344577986199, 5.123778231419806, 5.390557917831273, 4.0337561398617545, 4.715345606941137, 5.930086440262734, 6.242075013727009, 5.220287784978331, 5.578254995937122, 6.609375303144174, 6.129734103394721, 5.201977439742458, 3.95085117737082, 5.513267280831906, 5.401221264655144, 5.7213268024399815, 5.928701683695559, 5.899942238904095, 4.505201856442957, 5.618968487355259, 5.717303627281121, 6.556543482917828, 7.219914597572931, 4.453412421562459, 5.302498040344878, 4.683915607157534, 0.3018621888252109, 4.8270308052376585, 2.2640306347785453, 2.4972541314128778, 1.0305010110020296, 3.117150928651892, -0.6649510093619577, 2.919373199810636, 2.3717532265844437, 8.819132774094971, 1.184082514433833, 2.0868777340331484, 2.812031401796287, 3.833072272507403, 1.9161220673644337, 2.4290143622420732, -0.9074731600337078, 1.969356735887763, 2.6245214814548463, 2.6003711038600104, 1.5890600490947648, 8.908744214627504, 5.2171376414519175, 2.1214030932931967, -4.003234883556636, 0.318803533166802, 1.3902342320757795, 4.77943168742499, 2.140132906431123, -0.5020979047333689, 2.0842030310575947, 4.360049827562633, 0.23312909219779, 0.0837089997306315, 8.73481820395498, 1.5992729731566175, 0.9178309499876427, 1.7704997515818195, -0.8771505817290262, -1.0345378068567044, 1.6507303130849422, -3.011872139956936, 9.09968462680386, -1.8169855556236758, -2.5699775663380677, 1.865555653297577, 4.378428449414679, -0.9174712588491793, -2.4930710479316756, 2.0755125175905977, -0.6452472365690589, -1.3619775555612645, 1.8153861982601587, 1.4514668312414785, 21.482068156009653, -1.3403441577265696, -1.500538170108901, -2.443133898198096, 1.7495389825532235, -1.036313695139468, 2.3551393139755445, 1.3003721133097255, 1.4989501590707155, -0.07830490510269633, 9.199210853259508, -1.3741196267482811, -4.1822408565253255, -3.0111460816512157, -0.46804449573143536, -0.17595364202173602, 1.4997618953222247, -1.3221759512928557, -0.6374430233818513, -1.180742413997626, -4.081795253624729, -3.7669674084586435, -4.2486813188459145, -2.362006364303239, -1.5801771467467116, -2.4177261827748016, -4.298578105621394, -4.066849629017749, -1.404701984432883, 3.428006993220082, -4.129326043254721, 0.34315440284797916, -4.363078078374839, -3.2770382039915384, 1.3412830870706607, -3.3543720571236904, -2.7687901833304993, -0.5682907848403129, -7.079226100267686, -3.8545933072682703, -1.0103528496370089, -0.8810697935815179, 1.4361159857839763, -0.03578131250465422, -0.1869412132341166, 0.8450987419236995, 1.8068878951689689, -4.781900350487213, 0.9112784679978478, -3.5755597292296457, 1.739971285737398, -1.8452014625768807, -0.5992469770332103, -0.1181941076166293, -0.8700038580639209, 2.7106472109057638, 0.8358561042631463, -0.3296757441732203, 0.4949582107421744, -0.5934971422253743, -0.6227451077294108, -1.3122606209229213, -4.419301216601415, 1.4881794392172223, -0.19041914710301722, -3.7872300616137875, 3.3443237188961863, -0.6310424202202256, 3.0934840360794693, -2.1367512829187634, 0.3989162397916579, -0.6550598795845217, 2.3585585977178534, -3.472240298116483, 4.08802023378296, 3.1794486735800964, 10.81325718242985, 0.1526644057044737, 3.051720993109955, 1.0993415556605441, 3.1638110866926885, 1.816822190601902, 3.0663570293303484, 3.8297169094694237, 3.083380577018441, 1.3652256826321225, 2.2790723481597115, 3.1207601163884395, 4.739685322864226, 5.570139424803024, -2.894691224230611, 0.9342554521677493, 4.2518709574773865, 3.6842109911277783, 3.563225996428848, 4.2118062765224416, 2.4228978983354006, 0.7275137428468716, 3.5476271138106243, 1.0260726923658305, 4.211967102213914, 2.1389547249841545, 1.3175817640422975, 6.387020842245542, 3.0064408956030584, 1.8436518859693458, 0.11134373712087031, 0.4326779953217268, -0.4151110755400671, -1.1080854894877579, 0.12896158451883322, -0.5430726337166782, 2.5314218016477805, -1.1394059001353471, -0.4923854925974087, 0.5152161540433791, -0.706203203378363, 0.14054450183328449, -1.2393099923072426, -1.5142759951995712, -1.8004434114489498, -0.13286099417658725, -1.2018521455980196, 0.023134857078620286, -0.936550441759064, -1.6819246426776189, 0.5067932074907673, 2.058366727569616, -0.14975539425682838, -2.129264329560694, 0.2605102736019651, -2.278447267658203, -1.53940643728694, 0.7454071684000798, -1.0444739322997796, 0.6739276954745814, -0.09095684521814107, 0.06178535347583525, -2.8125670515539642, -1.8480367299706693, 1.060626112265778, -2.1515419020798467, -0.004560528310959988, 5.247131780023875, -2.6928793301444642, -2.283171573809587, 1.5507696397329358, -1.4764907132852114, -2.1277767035947885, 3.286987604141652, -2.2682630953037117, -1.0863943826191322, -0.6777891251472061, -1.642404816401288, -2.2873048999486882, 1.8755869441619657, -0.306667887901412, -2.4314179049408624, -2.3320611867345615, -2.267374332096766, -0.0966318893450735, -11.388277991990567, -1.9214859389823429, -2.555099234286285, -2.2714910803914643, 16.352814442829093, -0.7963137428607974, -2.7494739789824236, 7.888522755022991, -1.9093594208307563, -2.1031731676522503, 3.160273827718478, 0.18295240092839649, -1.0986536802547624, 0.3964604277404993, -0.07656072110124779, -2.0374489885124882, 0.0008364205608613062, 0.7056527376927226, -2.0850299730324355, -1.8254959489842224, -1.2169978737692717, -0.9158749786343359, 4.418078273290926, 0.4891274918803097, 4.339759451002359, 0.974074509087477, -1.5816241772053838, -7.5526303676961275, -1.8726927842194678, 0.705969360183567, 0.6240056831292673, 0.2674049884930505, -2.890521081916064, -0.8966861455076676, -1.0743249527005312, -1.6222583472408005, 0.979230595890713, -1.9416018346675905, -1.8424254124103023, -0.2581754080788601, -1.9868055167491196, -0.3966189051619393, -3.1863346314065595, -1.0058984340025856, -0.5529809693287353, -1.6269688466112076, 12.807071269577591, -3.69218606872579, -3.472684089750058, -0.3828444177421515, -26.399070534296595, -0.6587925526089111, -31.292299773839407, -0.2936250879955127, -0.4025459606631756, -14.200630625317219, -0.16485739179925973, -1.2267781605422652, -0.891440843116138, -1.0973944039046124, -0.8486943055738019, -0.9175961635005621, -1.0447269080351198, -0.17115499817250102, -5.4749895083528335, -0.1486451289431034, 5.338265686870539, -0.2678174863634073, -0.3380910297923201, -0.5897607251048687, -0.77832520056453, -13.98653060375171, -1.8844256369187233, 6.783031577543905, 8.907927093468468, 4.228886962167623, 7.641100688668636, 7.57388668016819, 7.175158474228952, 4.849714916507477, 7.164311492582409, 6.286836118698197, 7.186250125404152, 8.149936106414955, 6.701056538656257, 5.255980691096692, 8.80199924472926, 9.341115481392542, 7.092748232290399, 7.653044903517278, 13.617272651316235, 22.336222600796987, 7.365063178042856, 7.164748783879329, 7.074785019518232, 43.6553084671037, 7.154889341008094, 7.309219566255238, 6.905415463493899, 7.136443223417791, 7.848780802541155, 15.702640714725954, 6.404470250654553, 7.507551496162461, 6.943228236699795, 7.409558419328708, 8.158272167272557, 6.657393746314076, 7.2650921913838715, 8.790032108355545, 4.794971467142607, 8.455408075327009, 10.235754066004372, 4.973233474604459, 6.745358202186637, 7.102028566471135, 6.716894825645208, 9.313712111130986, 7.56706682457466, 7.693121055927318, 12.091517905759778, 5.7115289188525455, 7.544244447424901, 6.292417925267651, 6.850525002306734, 7.26960472154495, 18.27702966801541, 7.082821733089565, 9.881340716979059, 6.310616594217841, 7.148536012264329, 6.8335752295479395, 12.525216732671302, 7.563327091358997, 7.283728485320111, 11.849280053226948, 7.182903441981116, -8.555366657712574, -8.516883860764622, -8.424761305277082, -8.657926082742609, -8.48188932945108, -8.713115264177365, -15.462408752860158, -8.492239070712298, -9.64891222640523, -8.426524119809153, -7.973978209756846, -9.202168665272284, -8.650562823260156, -8.327651383988076, -8.663165082264491, -7.928506599735438, -8.448627372936052, -9.049539199492557, -8.54003678689062, -22.39070970835763, -8.505793983326578, -9.542843182171051, -9.198788263111041, -9.069780421512988, 4.068258064648617, -8.079377952449612, -4.899390060055159, -8.573439551025343, -9.650491017140636, -8.114684016275305, -8.382977415197303, -17.833839639442093, 2.872109105510557, 2.487275580194354, 1.3988638980360446, 1.4520361726792146, 3.43543588907464, 2.889022838357209, 2.1477399500899073, 4.370130326209331, 1.8615625361364896, 2.3388648419118856, 4.115169370012813, 2.1221366215406725, 3.0872027012680348, 1.4532167749214113, 3.510068709268064, 2.1678707084752746, 1.2221594695370013, 2.468569919851485, 2.6559750787577, 1.9629966945798958, 2.2636201808769365, 2.2629427528060875, 3.1566960159043163, 2.4245869326420793, 1.1648210943744468, 0.9250098707179322, 0.368517346335822, 2.1531754824789817, 1.6775319699302078, 3.112477500268329, 3.5986255052064537, 2.5083814576177157, -2.9826832904146343, -2.703088582074966, -1.7376765192321313, -4.128322247909583, -3.4095255592859357, -2.8499306426360214, -2.8157085969298685, -4.59521968404346, -3.804717827864911, -3.0296033914002645, -6.0416737675144185, -5.282589658502269, -4.130196397995226, -2.4463597136462703, -3.071951980078995, -2.0226648161356415, -2.4177781585255183, -4.041501850896111, -1.8333822103494912, -4.141334617620101, -4.229798635942538, -3.021677145429468, -2.791834284280222, -2.393934393849836, -4.649714117454572, -3.1574069816942956, -3.3183171502460214, -2.9304359433667715, -5.4965175092073135, -6.195384676660856, -3.416862670181714, -3.866840336062671]\n",
      "saved to C:\\Users\\DPatton\\gits\\kernelkernel\\model_save at about 20191205-123654 with mse=33.78487038784717\n"
     ]
    }
   ],
   "source": [
    "import traceback\n",
    "from random import shuffle\n",
    "shuffle(testrun)\n",
    "#a_rundict=testrun[100]#this produced the Ndiff_exponent error for recursive Ndiff\n",
    "for idx in range(len(testrun)):\n",
    "    print(f'~~~~~~~run number:{idx}`~~~~~~~')\n",
    "    a_rundict=testrun[idx]\n",
    "    print(f'a_rundict{a_rundict}')\n",
    "    optimizedict=a_rundict['optimizedict']\n",
    "    datagen_dict=a_rundict['datagen_dict']\n",
    "\n",
    "    try:\n",
    "        test.do_monte_opt(optimizedict,datagen_dict,force_start_params=0)\n",
    "        test.open_condense_resave('model_save',verbose=0)\n",
    "        test.merge_and_condense_saved_models(merge_directory=None,save_directory=None,condense=None,verbose=None)\n",
    "    except:\n",
    "        print('traceback for run',idx)\n",
    "        print(traceback.format_exc())\n"
   ]
  },
  {
   "cell_type": "code",
   "execution_count": null,
   "metadata": {},
   "outputs": [],
   "source": [
    "#test.open_condense_resave('condensed_model_save',verbose=1)\n"
   ]
  },
  {
   "cell_type": "code",
   "execution_count": null,
   "metadata": {},
   "outputs": [],
   "source": [
    "\n",
    "#test.recursive_merge(networkdir,overwrite=0,verbose=1)\n",
    "\n"
   ]
  },
  {
   "cell_type": "code",
   "execution_count": null,
   "metadata": {},
   "outputs": [],
   "source": [
    "'''import numpy as np\n",
    "\n",
    "\n",
    "\n",
    "datagen_dict={'train_n':60,'n':200, 'param_count':2,'seed':1, 'ftype':'linear', 'evar':1}\n",
    "linear_dict_to_add_list=[(f'datagen_dict:{key}',val) for key,val in datagen_dict.items()]\n",
    "print(linear_dict_to_add_list)\n",
    "\n",
    "test.add_dict('model_save_linear',linear_dict_to_add_list,overwrite=0,verbose=0)\n",
    "test.print_model_save(filename=\"model_save_linear-add_dict\")\n",
    "\n",
    "\n",
    "datagen_dict={'train_n':60,'n':200, 'param_count':2,'seed':1, 'ftype':'quadratic', 'evar':1}\n",
    "quadratic_dict_to_add_list=[(f'datagen_dict:{key}',val) for key,val in datagen_dict.items()]\n",
    "print(quadratic_dict_to_add_list)\n",
    "\n",
    "test.add_dict('model_save_quadratic',quadratic_dict_to_add_list,overwrite=0,verbose=0)\n",
    "test.print_model_save(filename=\"model_save_quadratic-add_dict\")'''"
   ]
  },
  {
   "cell_type": "code",
   "execution_count": null,
   "metadata": {},
   "outputs": [],
   "source": [
    "#test.print_model_save(filename=\"condensed_model_save\")\n"
   ]
  },
  {
   "cell_type": "code",
   "execution_count": null,
   "metadata": {},
   "outputs": [],
   "source": [
    "'''\n",
    "#print(os.getcwd())\n",
    "#try:test.open_condense_resave('model_save',verbose=0)\n",
    "#except:pass\n",
    "try:test.open_condense_resave('condensed_model_save',verbose=0)\n",
    "except:pass'''"
   ]
  },
  {
   "cell_type": "code",
   "execution_count": null,
   "metadata": {},
   "outputs": [],
   "source": [
    "'''from os import getcwd\n",
    "thisdir=getcwd()\n",
    "test.merge_and_condense_saved_models(merge_directory=thisdir,save_directory=thisdir,condense=1,verbose=1)'''"
   ]
  },
  {
   "cell_type": "code",
   "execution_count": null,
   "metadata": {
    "collapsed": false,
    "jupyter": {
     "outputs_hidden": false
    },
    "pycharm": {
     "is_executing": false,
     "name": "#%%\n"
    }
   },
   "outputs": [],
   "source": [
    "\n"
   ]
  },
  {
   "cell_type": "markdown",
   "metadata": {
    "pycharm": {
     "name": "#%% md\n"
    }
   },
   "source": [
    "#-----------------Calibrate/Optimize--------"
   ]
  },
  {
   "cell_type": "code",
   "execution_count": null,
   "metadata": {
    "collapsed": false,
    "jupyter": {
     "outputs_hidden": false
    },
    "pycharm": {
     "is_executing": false,
     "name": "#%%\n"
    }
   },
   "outputs": [],
   "source": []
  },
  {
   "cell_type": "code",
   "execution_count": null,
   "metadata": {},
   "outputs": [],
   "source": [
    "'''import myreg\n",
    "x=test.train_x\n",
    "y=test.train_y\n",
    "xfull=np.concatenate([np.ones([x.shape[0],1]),x],axis=1)\n",
    "just_linreg=myreg.reg(y,xfull)\n",
    "just_linreg.myreg()\n",
    "print('linreg_mse:',just_linreg.mse)'''"
   ]
  },
  {
   "cell_type": "code",
   "execution_count": null,
   "metadata": {},
   "outputs": [],
   "source": []
  },
  {
   "cell_type": "code",
   "execution_count": null,
   "metadata": {},
   "outputs": [],
   "source": [
    "from bokeh.io import show, output_notebook#,curdoc,save, output_file\n",
    "from bokeh.plotting import figure\n",
    "#from bokeh.models import ColumnDataSource, Range1d, BBoxTileSource\n",
    "#from bokeh.layouts import row\n",
    "output_notebook()"
   ]
  },
  {
   "cell_type": "code",
   "execution_count": null,
   "metadata": {},
   "outputs": [],
   "source": [
    "#xgrid=np.linspace(1,n,n)\n",
    "x=quad_misspec.train_x\n",
    "y=quad_misspec.train_y\n",
    "\n",
    "\n",
    "xgrid=x[:,0]\n",
    "yhat=quad_misspec.optimize_obj.yhat_un_std\n",
    "p=figure(title='y and yhat', plot_width=900, plot_height=500)\n",
    "p.xaxis.axis_label = 'observations'\n",
    "p.scatter(xgrid,y,size=10,color='blue',alpha=0.4,legend='y')\n",
    "#p.line(xgrid,precip,color='blue',alpha=0.6,legend='precipitation')\n",
    "p.scatter(xgrid,yhat,size=5,color='green',alpha=0.9,legend='yhat')\n",
    "p.circle(xgrid,just_linreg.yhat,color='red',legend='just lin reg yhat')\n",
    "p.line(xgrid,np.mean(y))\n",
    "p.legend.location = \"top_left\"\n",
    "#p.yaxis.visible=False\n",
    "show(p)"
   ]
  },
  {
   "cell_type": "code",
   "execution_count": null,
   "metadata": {},
   "outputs": [],
   "source": [
    "print(yhat)\n",
    "print(y)"
   ]
  },
  {
   "cell_type": "code",
   "execution_count": null,
   "metadata": {},
   "outputs": [],
   "source": []
  },
  {
   "cell_type": "code",
   "execution_count": null,
   "metadata": {},
   "outputs": [],
   "source": [
    "\n",
    "ypredict=optimized_Ndiff_kernel.predict_tool(xvalidate,optimized_Ndiff_kernel.fixed_or_free_paramdict,modeldict1)\n",
    "prediction_err=yvalidate-ypredict\n",
    "prediction_mse=np.mean(prediction_err**2)"
   ]
  },
  {
   "cell_type": "code",
   "execution_count": null,
   "metadata": {},
   "outputs": [],
   "source": [
    "np.ma.count_masked(yhat)"
   ]
  },
  {
   "cell_type": "code",
   "execution_count": null,
   "metadata": {},
   "outputs": [],
   "source": []
  },
  {
   "cell_type": "markdown",
   "metadata": {},
   "source": [
    "## class toolcompare(object):"
   ]
  }
 ],
 "metadata": {
  "kernelspec": {
   "display_name": "Python 3",
   "language": "python",
   "name": "python3"
  },
  "language_info": {
   "codemirror_mode": {
    "name": "ipython",
    "version": 3
   },
   "file_extension": ".py",
   "mimetype": "text/x-python",
   "name": "python",
   "nbconvert_exporter": "python",
   "pygments_lexer": "ipython3",
   "version": "3.7.4"
  },
  "pycharm": {
   "stem_cell": {
    "cell_type": "raw",
    "metadata": {
     "collapsed": false
    },
    "source": []
   }
  }
 },
 "nbformat": 4,
 "nbformat_minor": 4
}
