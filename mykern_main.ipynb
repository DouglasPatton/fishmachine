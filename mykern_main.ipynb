{
 "cells": [
  {
   "cell_type": "markdown",
   "metadata": {},
   "source": [
    "### kernel density estimation and kernel regression for prediction\n",
    "This notebook is my first attempt to write down the ddiff and dddiff models that I have been working on"
   ]
  },
  {
   "cell_type": "markdown",
   "metadata": {},
   "source": [
    "mixed recursive/iterative approach (rather than vectorized approach that is harder to generalize\n",
    "- create separate submodules for KDE and KDreg\n",
    "    - develop a system for storing differenced but unweighted data and the appropriate mask to lessen memory usage. \n",
    "        -1's or 0's depending on i/j/k/l/.... values\n",
    "    - figure out the deepest level requested by the user and levels that are less deep are just slices of the deeper model. \n",
    "        -scout out the tree to build the differenced dataset. \n",
    "          \n",
    "        \n",
    " plot and compare\n",
    "on synthetic data, 1, 2, 3+ mixed distributions\n",
    "1d - Ndiff vs gaussian kernel vs kernel_tunneling\n",
    "2d -  \n",
    "\n",
    "\n",
    "multidimensional x problem\n",
    "e.g., parameter treatment\n",
    "\"product kernel approach\" vs l2 \"el two\" (radial basis?)distance "
   ]
  },
  {
   "cell_type": "markdown",
   "metadata": {},
   "source": [
    "#### generate a simple linear dataset y=xb+e\n",
    "##### store validation data from same dataset too"
   ]
  },
  {
   "cell_type": "markdown",
   "metadata": {
    "pycharm": {
     "name": "#%% md\n"
    }
   },
   "source": [
    "### create modeldict\n",
    "- 'Ndiff_type': refers to the mathematical form of Ndiff\n",
    "  - 'product'-Ndiff1 multiplied by Ndiff2\n",
    "  - 'recursive'-Ndiff1's bw is Ndiff 2\n",
    "- max_bw_Ndiff: is the depth of Ndiffs applied in estimating the bandwidth.\n",
    "- 'normalize_Ndiffwtsum':\n",
    "  - 'across' means sum across own level of kernelized-Ndiffs and divide by that sum (CDF approach)\n",
    "  - 'own_n' means for (n+k)diff where n+K=max_bw_Ndiff\n",
    "- Ndiff_bw_kern:\n",
    "  - rbfkern means use the radial basis function kernel\n",
    "  - 'product' means use product kernel like as in liu and yang eq1. \n",
    "- 'regression_model':\n",
    "  - 'NW' means use nadaraya-watson kernel regression\n",
    "  - 'full_logit' means local logit with all variables entering linearly\n",
    "  - 'rbf_logit' means local logit with 1 parameters: scaled l2 norm centered on zero \n",
    " (globally or by i?). Is this a new idea?\n",
    "- outer_x_bw_form: if x is separated into blocks of rvars that are combined within a block using rbf kernel, \n",
    "  - 'one_for_all' - use same hx bw for all blocks\n",
    "  - 'one_per_block' - each block or rvars gets an hx\n",
    "- ykern_grid\n",
    "  - if int, then create int evnely spaced values from -3 to 3 (standard normal middle ~99%)\n",
    "  - 'no' means use original data points (self is masked when predicting self)\n",
    "- xkern_grid\n",
    "  - much like ykern_grid, but used less frequently since x's are typically pre-specified\n",
    "- product_kern_norm: when multiplying kernels across random variables, this parameter determines if each random variable has its kernels normalized before the product or not\n",
    "  - 'self' means each random variable has its kernels divided by the sum of kernels across the nout axis (the number of possibile values y is averaged over, whose probabilities sum to 1)\n",
    "  - 'own_n' means same as self, but divided by count of non-masked items in second to last, nout lenght dimension\n",
    "  - 'none' means no normalization prior to taking products across rvar kernels\n",
    "- hyper_param_form_dict is a nested dictionary\n",
    "  - Ndiff_exponent is the exponent wrapped around typically a sum of kernels for each Ndiff level \n",
    "after level 1 (i.e., (i-j) or centered, obvious/conventional level.)\n",
    "  - x_bandscale is the parameter specific to each variable (each x in X) used for prediction (y)\n",
    "  - Ndiff_depth_bw is used as the kernel's bandwidth (h) at each level of Ndiff including at level 1 \n",
    "  - outer_x_bw vanilla bandwidth for the rbf or product kernel\n",
    "  - outer_y_bw vanilla bandwidth for y"
   ]
  },
  {
   "cell_type": "code",
   "execution_count": 1,
   "metadata": {},
   "outputs": [],
   "source": [
    "import kernelcompare as kc\n",
    "#from importlib import reload\n",
    "test=kc.KernelCompare()"
   ]
  },
  {
   "cell_type": "code",
   "execution_count": 2,
   "metadata": {},
   "outputs": [
    {
     "name": "stdout",
     "output_type": "stream",
     "text": [
      "len(model_save_list:135\n"
     ]
    }
   ],
   "source": [
    "test.print_model_save(filename=\"condensed_model_save\")"
   ]
  },
  {
   "cell_type": "code",
   "execution_count": 3,
   "metadata": {},
   "outputs": [],
   "source": [
    "Ndiff_type_variations=('modeldict:Ndiff_type',['recursive','product'])\n",
    "max_bw_Ndiff_variations=('modeldict:max_bw_Ndiff',[2,3])\n",
    "Ndiff_start_variations=('modeldict:Ndiff_start',[1,2])\n",
    "\n",
    "product_kern_norm_variations=('modeldict:product_kern_norm',['self','own_n'])#include None too?\n",
    "normalize_Ndiffwtsum_variations=('modeldict:normalize_Ndiffwtsum',['own_n','across'])\n",
    "optdict_variation_list=[Ndiff_type_variations,max_bw_Ndiff_variations,Ndiff_start_variations,product_kern_norm_variations,normalize_Ndiffwtsum_variations]\n",
    "\n"
   ]
  },
  {
   "cell_type": "code",
   "execution_count": 4,
   "metadata": {},
   "outputs": [],
   "source": [
    "#a reminder of the options:\n",
    "#datagen_dict={'train_n':60,'n':200, 'param_count':param_count,'seed':1, 'ftype':'linear', 'evar':1}\n",
    "#datagen_variation_list=[test.build_quadratic_datagen_dict_override()] \n",
    "\n",
    "#train_n_variations=('train_n',[30])#so I don't crash my 10 year old laptop at home\n",
    "train_n_variations=('train_n',[30,45,60])\n",
    "ykern_grid_variations=('ykern_grid',[31,46,61])\n",
    "ftype_variations=('ftype',['linear','quadratic'])\n",
    "param_count_variations=('param_count',[1,2])\n",
    "#need to add block capability to datagen so we can repeat optimization with new training data.\n",
    "\n",
    "datagen_variation_list=[train_n_variations,ftype_variations,param_count_variations]\n",
    "\n"
   ]
  },
  {
   "cell_type": "code",
   "execution_count": 5,
   "metadata": {},
   "outputs": [],
   "source": [
    "\n",
    "#print(os.getcwd())\n",
    "try:test.open_condense_resave('model_save',verbose=0)\n",
    "except:pass\n",
    "try:test.open_condense_resave('condensed_model_save',verbose=0)\n",
    "except:pass"
   ]
  },
  {
   "cell_type": "code",
   "execution_count": 3,
   "metadata": {},
   "outputs": [
    {
     "name": "stdout",
     "output_type": "stream",
     "text": [
      "file_i:condensed_model_save has 20 saved model(s)\n",
      "0.0%,1.1764705882352942%,2.3529411764705883%,3.5294117647058822%,4.705882352941177%,5.882352941176471%,7.0588235294117645%,8.235294117647058%,9.411764705882353%,10.588235294117647%,11.764705882352942%,12.941176470588236%,14.117647058823529%,15.294117647058824%,16.470588235294116%,17.647058823529413%,18.823529411764707%,20.0%,21.176470588235293%,22.352941176470587%,23.529411764705884%,24.705882352941178%,25.88235294117647%,27.058823529411764%,28.235294117647058%,29.41176470588235%,30.58823529411765%,31.764705882352942%,32.94117647058823%,34.11764705882353%,35.294117647058826%,36.470588235294116%,37.64705882352941%,38.8235294117647%,40.0%,41.1764705882353%,42.35294117647059%,43.529411764705884%,44.705882352941174%,45.88235294117647%,47.05882352941177%,48.23529411764706%,49.411764705882355%,50.588235294117645%,51.76470588235294%,52.94117647058823%,54.11764705882353%,55.294117647058826%,56.470588235294116%,57.64705882352941%,58.8235294117647%,60.0%,61.1764705882353%,62.35294117647059%,63.529411764705884%,64.70588235294117%,65.88235294117646%,67.05882352941177%,68.23529411764706%,69.41176470588235%,70.58823529411765%,71.76470588235294%,72.94117647058823%,74.11764705882354%,75.29411764705883%,76.47058823529412%,77.6470588235294%,78.82352941176471%,80.0%,81.17647058823529%,82.3529411764706%,83.52941176470588%,84.70588235294117%,85.88235294117646%,87.05882352941177%,88.23529411764706%,89.41176470588235%,90.58823529411765%,91.76470588235294%,92.94117647058823%,94.11764705882354%,95.29411764705883%,96.47058823529412%,97.6470588235294%,98.82352941176471%,len(final_keep_list):10\n",
      "file_i:condensed_model_save2 has 21 saved model(s)\n",
      "0.0%,0.6756756756756757%,1.3513513513513513%,2.027027027027027%,2.7027027027027026%,3.3783783783783785%,4.054054054054054%,4.72972972972973%,5.405405405405405%,6.081081081081081%,6.756756756756757%,7.4324324324324325%,8.108108108108109%,8.783783783783784%,9.45945945945946%,10.135135135135135%,10.81081081081081%,11.486486486486486%,12.162162162162161%,12.837837837837839%,13.513513513513514%,14.18918918918919%,14.864864864864865%,15.54054054054054%,16.216216216216218%,16.89189189189189%,17.56756756756757%,18.243243243243242%,18.91891891891892%,19.594594594594593%,20.27027027027027%,20.945945945945947%,21.62162162162162%,22.2972972972973%,22.972972972972972%,23.64864864864865%,24.324324324324323%,25.0%,25.675675675675677%,26.35135135135135%,27.027027027027028%,27.7027027027027%,28.37837837837838%,29.054054054054053%,29.72972972972973%,30.405405405405407%,31.08108108108108%,31.756756756756758%,32.432432432432435%,33.108108108108105%,33.78378378378378%,34.45945945945946%,35.13513513513514%,35.810810810810814%,36.486486486486484%,37.16216216216216%,37.83783783783784%,38.513513513513516%,39.189189189189186%,39.86486486486486%,40.54054054054054%,41.21621621621622%,41.891891891891895%,42.567567567567565%,43.24324324324324%,43.91891891891892%,44.5945945945946%,45.270270270270274%,45.945945945945944%,46.62162162162162%,47.2972972972973%,47.972972972972975%,48.648648648648646%,49.32432432432432%,50.0%,50.67567567567568%,51.351351351351354%,52.027027027027025%,52.7027027027027%,53.37837837837838%,54.054054054054056%,54.729729729729726%,55.4054054054054%,56.08108108108108%,56.75675675675676%,57.432432432432435%,58.108108108108105%,58.78378378378378%,59.45945945945946%,60.13513513513514%,60.810810810810814%,61.486486486486484%,62.16216216216216%,62.83783783783784%,63.513513513513516%,64.1891891891892%,64.86486486486487%,65.54054054054055%,66.21621621621621%,66.89189189189189%,67.56756756756756%,68.24324324324324%,68.91891891891892%,69.5945945945946%,70.27027027027027%,70.94594594594595%,71.62162162162163%,72.29729729729729%,72.97297297297297%,73.64864864864865%,74.32432432432432%,75.0%,75.67567567567568%,76.35135135135135%,77.02702702702703%,77.70270270270271%,78.37837837837837%,79.05405405405405%,79.72972972972973%,80.4054054054054%,81.08108108108108%,81.75675675675676%,82.43243243243244%,83.10810810810811%,83.78378378378379%,84.45945945945945%,85.13513513513513%,85.8108108108108%,86.48648648648648%,87.16216216216216%,87.83783783783784%,88.51351351351352%,89.1891891891892%,89.86486486486487%,90.54054054054055%,91.21621621621621%,91.89189189189189%,92.56756756756756%,93.24324324324324%,93.91891891891892%,94.5945945945946%,95.27027027027027%,95.94594594594595%,96.62162162162163%,97.29729729729729%,97.97297297297297%,98.64864864864865%,99.32432432432432%,len(final_keep_list):10\n",
      "file_i:final_model_save has 16 saved model(s)\n",
      "0.0%,25.0%,50.0%,75.0%,len(final_keep_list):1\n",
      "file_i:model_save has 10 saved model(s)\n",
      "0.0%,14.285714285714286%,28.571428571428573%,42.857142857142854%,57.142857142857146%,71.42857142857143%,85.71428571428571%,len(final_keep_list):7\n",
      "0.0%,1.1764705882352942%,2.3529411764705883%,3.5294117647058822%,4.705882352941177%,5.882352941176471%,7.0588235294117645%,8.235294117647058%,9.411764705882353%,10.588235294117647%,11.764705882352942%,12.941176470588236%,14.117647058823529%,15.294117647058824%,16.470588235294116%,17.647058823529413%,18.823529411764707%,20.0%,21.176470588235293%,22.352941176470587%,23.529411764705884%,24.705882352941178%,25.88235294117647%,27.058823529411764%,28.235294117647058%,29.41176470588235%,30.58823529411765%,31.764705882352942%,32.94117647058823%,34.11764705882353%,35.294117647058826%,36.470588235294116%,37.64705882352941%,38.8235294117647%,40.0%,41.1764705882353%,42.35294117647059%,43.529411764705884%,44.705882352941174%,45.88235294117647%,47.05882352941177%,48.23529411764706%,49.411764705882355%,50.588235294117645%,51.76470588235294%,52.94117647058823%,54.11764705882353%,55.294117647058826%,56.470588235294116%,57.64705882352941%,58.8235294117647%,60.0%,61.1764705882353%,62.35294117647059%,63.529411764705884%,64.70588235294117%,65.88235294117646%,67.05882352941177%,68.23529411764706%,69.41176470588235%,70.58823529411765%,71.76470588235294%,72.94117647058823%,74.11764705882354%,75.29411764705883%,76.47058823529412%,77.6470588235294%,78.82352941176471%,80.0%,81.17647058823529%,82.3529411764706%,83.52941176470588%,84.70588235294117%,85.88235294117646%,87.05882352941177%,88.23529411764706%,89.41176470588235%,90.58823529411765%,91.76470588235294%,92.94117647058823%,94.11764705882354%,95.29411764705883%,96.47058823529412%,97.6470588235294%,98.82352941176471%,len(final_keep_list):10\n"
     ]
    }
   ],
   "source": [
    "from os import getcwd\n",
    "thisdir=getcwd()\n",
    "test.merge_and_condense_saved_models(merge_directory=thisdir,save_directory=thisdir,condense=1,verbose=1)"
   ]
  },
  {
   "cell_type": "code",
   "execution_count": 7,
   "metadata": {},
   "outputs": [
    {
     "name": "stdout",
     "output_type": "stream",
     "text": [
      "dict_combo_list has 12 variations to run\n",
      "len(datagen_dict_list):12\n",
      "dict_combo_list has 32 variations to run\n",
      "dict_combo_list has 32 variations to run\n",
      "dict_combo_list has 32 variations to run\n",
      "dict_combo_list has 32 variations to run\n",
      "dict_combo_list has 32 variations to run\n",
      "dict_combo_list has 32 variations to run\n",
      "dict_combo_list has 32 variations to run\n",
      "dict_combo_list has 32 variations to run\n",
      "dict_combo_list has 32 variations to run\n",
      "dict_combo_list has 32 variations to run\n",
      "dict_combo_list has 32 variations to run\n",
      "dict_combo_list has 32 variations to run\n",
      "len(testrun)384\n",
      "testrun[0]{'optimizedict': {'opt_settings_dict': {'method': 'Nelder-Mead', 'options': {'xatol': 0.01, 'fatol': 0.1, 'adaptive': True}, 'mse_threshold': 2, 'help_start': 1, 'partial_match': 1}, 'hyper_param_dict': {'Ndiff_exponent': array([0.3, 0.3]), 'x_bandscale': array([1.]), 'outer_x_bw': array([2.7]), 'outer_y_bw': array([2.2]), 'Ndiff_depth_bw': array([0.5, 0.5]), 'y_bandscale': array([1.5])}, 'modeldict': {'Ndiff_type': 'product', 'param_count': 1, 'Ndiff_start': 1, 'max_bw_Ndiff': 2, 'normalize_Ndiffwtsum': 'own_n', 'xkern_grid': 'no', 'ykern_grid': 61, 'outer_kern': 'gaussian', 'Ndiff_bw_kern': 'rbfkern', 'outer_x_bw_form': 'one_for_all', 'regression_model': 'NW', 'product_kern_norm': 'self', 'hyper_param_form_dict': {'Ndiff_exponent': 'free', 'x_bandscale': 'non-neg', 'Ndiff_depth_bw': 'non-neg', 'outer_x_bw': 'non-neg', 'outer_y_bw': 'non-neg', 'y_bandscale': 'non-neg'}}}, 'datagen_dict': {'train_n': 60, 'n': 200, 'param_count': 1, 'seed': 1, 'ftype': 'linear', 'evar': 1}}\n",
      "testrun[-1]{'optimizedict': {'opt_settings_dict': {'method': 'Nelder-Mead', 'options': {'xatol': 0.01, 'fatol': 0.1, 'adaptive': True}, 'mse_threshold': 2, 'help_start': 1, 'partial_match': 1}, 'hyper_param_dict': {'Ndiff_exponent': array([0.3, 0.3]), 'x_bandscale': array([1., 1.]), 'outer_x_bw': array([2.7]), 'outer_y_bw': array([2.2]), 'Ndiff_depth_bw': array([0.5, 0.5]), 'y_bandscale': array([1.5])}, 'modeldict': {'Ndiff_type': 'product', 'param_count': 2, 'Ndiff_start': 2, 'max_bw_Ndiff': 3, 'normalize_Ndiffwtsum': 'across', 'xkern_grid': 'no', 'ykern_grid': 61, 'outer_kern': 'gaussian', 'Ndiff_bw_kern': 'rbfkern', 'outer_x_bw_form': 'one_for_all', 'regression_model': 'NW', 'product_kern_norm': 'own_n', 'hyper_param_form_dict': {'Ndiff_exponent': 'free', 'x_bandscale': 'non-neg', 'Ndiff_depth_bw': 'non-neg', 'outer_x_bw': 'non-neg', 'outer_y_bw': 'non-neg', 'y_bandscale': 'non-neg'}}}, 'datagen_dict': {'train_n': 60, 'n': 200, 'param_count': 2, 'seed': 1, 'ftype': 'quadratic', 'evar': 1}}\n"
     ]
    }
   ],
   "source": [
    "testrun=test.prep_model_list(optdict_variation_list=optdict_variation_list,datagen_variation_list=datagen_variation_list,verbose=1)\n",
    "print(f'len(testrun){len(testrun)}')\n",
    "print(f'testrun[0]{testrun[0]}')\n",
    "print(f'testrun[-1]{testrun[-1]}')"
   ]
  },
  {
   "cell_type": "code",
   "execution_count": null,
   "metadata": {
    "pycharm": {
     "is_executing": false,
     "name": "#%%\n"
    }
   },
   "outputs": [
    {
     "name": "stdout",
     "output_type": "stream",
     "text": [
      "~~~~~~~run number:0`~~~~~~~\n",
      "a_rundict{'optimizedict': {'opt_settings_dict': {'method': 'Nelder-Mead', 'options': {'xatol': 0.01, 'fatol': 0.1, 'adaptive': True}, 'mse_threshold': 2, 'help_start': 1, 'partial_match': 1}, 'hyper_param_dict': {'Ndiff_exponent': array([0.3, 0.3]), 'x_bandscale': array([1.]), 'outer_x_bw': array([2.7]), 'outer_y_bw': array([2.2]), 'Ndiff_depth_bw': array([0.5, 0.5]), 'y_bandscale': array([1.5])}, 'modeldict': {'Ndiff_type': 'product', 'param_count': 1, 'Ndiff_start': 1, 'max_bw_Ndiff': 2, 'normalize_Ndiffwtsum': 'across', 'xkern_grid': 'no', 'ykern_grid': 61, 'outer_kern': 'gaussian', 'Ndiff_bw_kern': 'rbfkern', 'outer_x_bw_form': 'one_for_all', 'regression_model': 'NW', 'product_kern_norm': 'self', 'hyper_param_form_dict': {'Ndiff_exponent': 'free', 'x_bandscale': 'non-neg', 'Ndiff_depth_bw': 'non-neg', 'outer_x_bw': 'non-neg', 'outer_y_bw': 'non-neg', 'y_bandscale': 'non-neg'}}}, 'datagen_dict': {'train_n': 60, 'n': 200, 'param_count': 1, 'seed': 1, 'ftype': 'quadratic', 'evar': 1}}\n",
      "saved_filename is condensed_model_save, but does not seem to exist\n",
      "--------------no matching models found----------\n",
      "param_valdict:{'Ndiff_exponent': array([0.3, 0.3]), 'x_bandscale': array([1.]), 'outer_x_bw': array([2.7]), 'outer_y_bw': array([2.2]), 'Ndiff_depth_bw': array([0.5, 0.5]), 'y_bandscale': array([1.5])}\n",
      "setup_fixed_or_free_paramdict:{'Ndiff_exponent': {'fixed_or_free': 'free', 'const': 'free', 'location_idx': (0, 2)}, 'x_bandscale': {'fixed_or_free': 'free', 'const': 'non-neg', 'location_idx': (2, 3)}, 'Ndiff_depth_bw': {'fixed_or_free': 'free', 'const': 'non-neg', 'location_idx': (3, 5)}, 'outer_x_bw': {'fixed_or_free': 'free', 'const': 'non-neg', 'location_idx': (5, 6)}, 'outer_y_bw': {'fixed_or_free': 'free', 'const': 'non-neg', 'location_idx': (6, 7)}, 'y_bandscale': {'fixed_or_free': 'free', 'const': 'non-neg', 'location_idx': (7, 8)}, 'free_params': 'outside', 'fixed_params': array([], dtype=float64)}\n",
      "modeldict:{'Ndiff_type': 'product', 'param_count': 1, 'Ndiff_start': 1, 'max_bw_Ndiff': 2, 'normalize_Ndiffwtsum': 'across', 'xkern_grid': 'no', 'ykern_grid': 61, 'outer_kern': 'gaussian', 'Ndiff_bw_kern': 'rbfkern', 'outer_x_bw_form': 'one_for_all', 'regression_model': 'NW', 'product_kern_norm': 'self', 'hyper_param_form_dict': {'Ndiff_exponent': 'free', 'x_bandscale': 'non-neg', 'Ndiff_depth_bw': 'non-neg', 'outer_x_bw': 'non-neg', 'outer_y_bw': 'non-neg', 'y_bandscale': 'non-neg'}}\n"
     ]
    }
   ],
   "source": [
    "import traceback\n",
    "from random import shuffle\n",
    "shuffle(testrun)\n",
    "#a_rundict=testrun[100]#this produced the Ndiff_exponent error for recursive Ndiff\n",
    "for idx in range(len(testrun)):\n",
    "    print(f'~~~~~~~run number:{idx}`~~~~~~~')\n",
    "    a_rundict=testrun[idx]\n",
    "    print(f'a_rundict{a_rundict}')\n",
    "    optimizedict=a_rundict['optimizedict']\n",
    "    datagen_dict=a_rundict['datagen_dict']\n",
    "\n",
    "    try:\n",
    "        test.do_monte_opt(optimizedict,datagen_dict,force_start_params=0)\n",
    "        test.open_condense_resave('model_save',verbose=0)\n",
    "        test.merge_and_condense_saved_models(merge_directory=None,save_directory=None,condense=None,verbose=None)\n",
    "    except:\n",
    "        print('traceback for run',idx)\n",
    "        print(traceback.format_exc())\n"
   ]
  },
  {
   "cell_type": "code",
   "execution_count": null,
   "metadata": {
    "collapsed": false,
    "jupyter": {
     "outputs_hidden": false
    },
    "pycharm": {
     "is_executing": false,
     "name": "#%%\n"
    }
   },
   "outputs": [],
   "source": [
    "\n"
   ]
  },
  {
   "cell_type": "markdown",
   "metadata": {
    "pycharm": {
     "name": "#%% md\n"
    }
   },
   "source": [
    "#-----------------Calibrate/Optimize--------"
   ]
  },
  {
   "cell_type": "code",
   "execution_count": null,
   "metadata": {
    "collapsed": false,
    "jupyter": {
     "outputs_hidden": false
    },
    "pycharm": {
     "is_executing": false,
     "name": "#%%\n"
    }
   },
   "outputs": [],
   "source": []
  },
  {
   "cell_type": "code",
   "execution_count": null,
   "metadata": {},
   "outputs": [],
   "source": [
    "'''import myreg\n",
    "x=test.train_x\n",
    "y=test.train_y\n",
    "xfull=np.concatenate([np.ones([x.shape[0],1]),x],axis=1)\n",
    "just_linreg=myreg.reg(y,xfull)\n",
    "just_linreg.myreg()\n",
    "print('linreg_mse:',just_linreg.mse)'''"
   ]
  },
  {
   "cell_type": "code",
   "execution_count": null,
   "metadata": {},
   "outputs": [],
   "source": []
  },
  {
   "cell_type": "code",
   "execution_count": null,
   "metadata": {},
   "outputs": [],
   "source": [
    "from bokeh.io import show, output_notebook#,curdoc,save, output_file\n",
    "from bokeh.plotting import figure\n",
    "#from bokeh.models import ColumnDataSource, Range1d, BBoxTileSource\n",
    "#from bokeh.layouts import row\n",
    "output_notebook()"
   ]
  },
  {
   "cell_type": "code",
   "execution_count": null,
   "metadata": {},
   "outputs": [],
   "source": [
    "#xgrid=np.linspace(1,n,n)\n",
    "x=quad_misspec.train_x\n",
    "y=quad_misspec.train_y\n",
    "\n",
    "\n",
    "xgrid=x[:,0]\n",
    "yhat=quad_misspec.optimize_obj.yhat_un_std\n",
    "p=figure(title='y and yhat', plot_width=900, plot_height=500)\n",
    "p.xaxis.axis_label = 'observations'\n",
    "p.scatter(xgrid,y,size=10,color='blue',alpha=0.4,legend='y')\n",
    "#p.line(xgrid,precip,color='blue',alpha=0.6,legend='precipitation')\n",
    "p.scatter(xgrid,yhat,size=5,color='green',alpha=0.9,legend='yhat')\n",
    "p.circle(xgrid,just_linreg.yhat,color='red',legend='just lin reg yhat')\n",
    "p.line(xgrid,np.mean(y))\n",
    "p.legend.location = \"top_left\"\n",
    "#p.yaxis.visible=False\n",
    "show(p)"
   ]
  },
  {
   "cell_type": "code",
   "execution_count": null,
   "metadata": {},
   "outputs": [],
   "source": [
    "print(yhat)\n",
    "print(y)"
   ]
  },
  {
   "cell_type": "code",
   "execution_count": null,
   "metadata": {},
   "outputs": [],
   "source": []
  },
  {
   "cell_type": "code",
   "execution_count": null,
   "metadata": {},
   "outputs": [],
   "source": [
    "\n",
    "ypredict=optimized_Ndiff_kernel.predict_tool(xvalidate,optimized_Ndiff_kernel.fixed_or_free_paramdict,modeldict1)\n",
    "prediction_err=yvalidate-ypredict\n",
    "prediction_mse=np.mean(prediction_err**2)"
   ]
  },
  {
   "cell_type": "code",
   "execution_count": null,
   "metadata": {},
   "outputs": [],
   "source": [
    "np.ma.count_masked(yhat)"
   ]
  },
  {
   "cell_type": "code",
   "execution_count": null,
   "metadata": {},
   "outputs": [],
   "source": []
  },
  {
   "cell_type": "markdown",
   "metadata": {},
   "source": [
    "## class toolcompare(object):"
   ]
  }
 ],
 "metadata": {
  "kernelspec": {
   "display_name": "Python 3",
   "language": "python",
   "name": "python3"
  },
  "language_info": {
   "codemirror_mode": {
    "name": "ipython",
    "version": 3
   },
   "file_extension": ".py",
   "mimetype": "text/x-python",
   "name": "python",
   "nbconvert_exporter": "python",
   "pygments_lexer": "ipython3",
   "version": "3.7.4"
  },
  "pycharm": {
   "stem_cell": {
    "cell_type": "raw",
    "metadata": {
     "collapsed": false
    },
    "source": []
   }
  }
 },
 "nbformat": 4,
 "nbformat_minor": 4
}
