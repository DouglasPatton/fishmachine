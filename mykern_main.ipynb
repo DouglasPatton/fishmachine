{
 "cells": [
  {
   "cell_type": "code",
   "execution_count": 1,
   "metadata": {},
   "outputs": [],
   "source": [
    "%load_ext autoreload\n",
    "%autoreload 2"
   ]
  },
  {
   "cell_type": "markdown",
   "metadata": {},
   "source": [
    "### kernel density estimation and kernel regression for prediction\n",
    "This notebook is my first attempt to write down the ddiff and dddiff models that I have been working on"
   ]
  },
  {
   "cell_type": "markdown",
   "metadata": {},
   "source": [
    "mixed recursive/iterative approach (rather than vectorized approach that is harder to generalize\n",
    "- create separate submodules for KDE and KDreg\n",
    "    - develop a system for storing differenced but unweighted data and the appropriate mask to lessen memory usage. \n",
    "        -1's or 0's depending on i/j/k/l/.... values\n",
    "    - figure out the deepest level requested by the user and levels that are less deep are just slices of the deeper model. \n",
    "        -scout out the tree to build the differenced dataset. \n",
    "          \n",
    "        \n",
    " plot and compare\n",
    "on synthetic data, 1, 2, 3+ mixed distributions\n",
    "1d - Ndiff vs gaussian kernel vs kernel_tunneling\n",
    "2d -  \n",
    "\n",
    "\n",
    "multidimensional x problem\n",
    "e.g., parameter treatment\n",
    "\"product kernel approach\" vs l2 \"el two\" (radial basis?)distance "
   ]
  },
  {
   "cell_type": "code",
   "execution_count": 2,
   "metadata": {},
   "outputs": [],
   "source": [
    "import numpy as np"
   ]
  },
  {
   "cell_type": "markdown",
   "metadata": {},
   "source": [
    "#### generate a simple linear dataset y=xb+e\n",
    "##### store validation data from same dataset too"
   ]
  },
  {
   "cell_type": "code",
   "execution_count": 3,
   "metadata": {
    "pycharm": {
     "is_executing": false,
     "name": "#%%\n"
    }
   },
   "outputs": [],
   "source": [
    "import data_gen as dg\n",
    "data1=dg.data_gen(data_shape=(500,2),seed=0)\n",
    "#xdata=data1.x[:,:-1]#drop last x\n",
    "size=60\n",
    "xdata=data1.x[0:size,:]\n",
    "ydata=data1.y[0:size]\n",
    "y=ydata\n",
    "xfull=xdata\n",
    "x=xdata[:,1:] #drop first column of x (all 1's)\n",
    "e=data1.e\n",
    "n,p=x.shape\n",
    "\n",
    "\n",
    "xvalidate=data1.x[100:500,1:]\n",
    "yvalidate=data1.y[100:500]"
   ]
  },
  {
   "cell_type": "markdown",
   "metadata": {
    "pycharm": {
     "name": "#%% md\n"
    }
   },
   "source": [
    "### create modeldict\n",
    "- 'Ndiff_type': refers to the mathematical form of Ndiff\n",
    "  - 'product'-Ndiff1 multiplied by Ndiff2\n",
    "  - 'recursive'-Ndiff1's bw is Ndiff 2\n",
    "- max_bw_Ndiff: is the depth of Ndiffs applied in estimating the bandwidth.\n",
    "- 'normalize_Ndiffwtsum':\n",
    "  - 'across' means sum across own level of kernelized-Ndiffs and divide by that sum (CDF approach)\n",
    "  - 'own_n' means for (n+k)diff where n+K=max_bw_Ndiff\n",
    "- Ndiff_bw_kern:\n",
    "  - rbfkern means use the radial basis function kernel\n",
    "  - 'product' means use product kernel like as in liu and yang eq1. \n",
    "- 'regression_model':\n",
    "  - 'NW' means use nadaraya-watson kernel regression\n",
    "  - 'full_logit' means local logit with all variables entering linearly\n",
    "  - 'rbf_logit' means local logit with 1 parameters: scaled l2 norm centered on zero \n",
    " (globally or by i?). Is this a new idea?\n",
    "- outer_x_bw_form: if x is separated into blocks of rvars that are combined within a block using rbf kernel, \n",
    "  - 'one_for_all' - use same hx bw for all blocks\n",
    "  - 'one_per_block' - each block or rvars gets an hx\n",
    "- ykern_grid\n",
    "  - if int, then create int evnely spaced values from -3 to 3 (standard normal middle ~99%)\n",
    "  - 'no' means use original data points (self is masked when predicting self)\n",
    "- xkern_grid\n",
    "  - much like ykern_grid, but used less frequently since x's are typically pre-specified\n",
    "- product_kern_norm: when multiplying kernels across random variables, this parameter determines if each random variable has its kernels normalized before the product or not\n",
    "  - 'self' means each random variable has its kernels divided by the sum of kernels across the nout axis (the number of possibile values y is averaged over, whose probabilities sum to 1)\n",
    "  - 'own_n' means same as self, but divided by count of non-masked items in second to last, nout lenght dimension\n",
    "  - 'none' means no normalization prior to taking products across rvar kernels\n",
    "- hyper_param_form_dict is a nested dictionary\n",
    "  - Ndiff_exponent is the exponent wrapped around typically a sum of kernels for each Ndiff level \n",
    "after level 1 (i.e., (i-j) or centered, obvious/conventional level.)\n",
    "  - x_bandscale is the parameter specific to each variable (each x in X) used for prediction (y)\n",
    "  - Ndiff_depth_bw is used as the kernel's bandwidth (h) at each level of Ndiff including at level 1 \n",
    "  - outer_x_bw vanilla bandwidth for the rbf or product kernel\n",
    "  - outer_y_bw vanilla bandwidth for y"
   ]
  },
  {
   "cell_type": "code",
   "execution_count": 4,
   "metadata": {
    "collapsed": false,
    "jupyter": {
     "outputs_hidden": false
    },
    "pycharm": {
     "is_executing": false,
     "name": "#%%\n"
    }
   },
   "outputs": [],
   "source": [
    "max_bw_Ndiff=2\n",
    "modeldict1={\n",
    "    'Ndiff_type':'product',\n",
    "    'max_bw_Ndiff':max_bw_Ndiff,\n",
    "    'normalize_Ndiffwtsum':'own_n',\n",
    "    'xkern_grid':'no',\n",
    "    'ykern_grid':'no',\n",
    "    'outer_kern':'gaussian',\n",
    "    'Ndiff_bw_kern':'rbfkern',\n",
    "    'outer_x_bw_form':'one_for_all',\n",
    "    'regression_model':'NW',\n",
    "    'product_kern_norm':'self',\n",
    "    'hyper_param_form_dict':{\n",
    "        'Ndiff_exponent':'free',\n",
    "        'x_bandscale':'non-neg',\n",
    "        'Ndiff_depth_bw':'non-neg',\n",
    "        'outer_x_bw':'non-neg',\n",
    "        'outer_y_bw':'non-neg',\n",
    "        'y_bandscale':'fixed'\n",
    "        }\n",
    "    }\n",
    "\n",
    "#modeldict1['ykern_grid']=20#override\n",
    "modeldict1['product_kern_norm']='none'\n",
    "\n",
    "#set starting or fixed values for hyper parameters\n",
    "onethenzeros=np.zeros([max_bw_Ndiff,])+.0005\n",
    "#if max_bw_Ndiff>0:onethenzeros[0]=1\n",
    "hyper_paramdict1={\n",
    "    'Ndiff_exponent':onethenzeros,\n",
    "    'x_bandscale':np.ones([p,]),\n",
    "    'outer_x_bw':np.array([0.3,]),\n",
    "    'outer_y_bw':np.array([0.3,]),\n",
    "    'Ndiff_depth_bw':np.ones([max_bw_Ndiff,])*0.3,\n",
    "    'y_bandscale':np.ones([1,])\n",
    "    }\n",
    "\n",
    "\n",
    "#assert len(hyper_paramdict1['Ndiff_exponent'])==modeldict1['max_bw_Ndiff'],'Ndiff_exponent does not match ' \\\n",
    "#                                                                            'depth of max_bw_Ndiff'\n",
    "assert len(hyper_paramdict1['Ndiff_depth_bw'])==modeldict1['max_bw_Ndiff'],'Ndiff_depth_bw does not match ' \\\n",
    "                                                                             'depth of max_bw_Ndiff'\n",
    "#create optimization dictionary\n",
    "optimizedict1={\n",
    "    'method':'Nelder-Mead',\n",
    "    'hyper_param_dict':hyper_paramdict1,\n",
    "    'model_dict':modeldict1\n",
    "    }"
   ]
  },
  {
   "cell_type": "markdown",
   "metadata": {
    "pycharm": {
     "name": "#%% md\n"
    }
   },
   "source": [
    "#-----------------Calibrate/Optimize--------"
   ]
  },
  {
   "cell_type": "code",
   "execution_count": 5,
   "metadata": {
    "collapsed": false,
    "jupyter": {
     "outputs_hidden": false
    },
    "pycharm": {
     "is_executing": false,
     "name": "#%%\n"
    }
   },
   "outputs": [],
   "source": [
    "import mykern as mk\n",
    "\n"
   ]
  },
  {
   "cell_type": "code",
   "execution_count": 6,
   "metadata": {},
   "outputs": [
    {
     "name": "stdout",
     "output_type": "stream",
     "text": [
      "linreg_mse: 1.4299524383095898\n"
     ]
    }
   ],
   "source": [
    "import myreg\n",
    "just_linreg=myreg.reg(y,xfull)\n",
    "just_linreg.myreg()\n",
    "print('linreg_mse:',just_linreg.mse)"
   ]
  },
  {
   "cell_type": "code",
   "execution_count": null,
   "metadata": {},
   "outputs": [],
   "source": [
    "#y=np.linspace(0,10000,n)#what happens if y has no relationship to x\n",
    "optimized_Ndiff_kernel=mk.optimize_free_params(y,x,optimizedict1)\n",
    "print(optimized_Ndiff_kernel.mse)"
   ]
  },
  {
   "cell_type": "code",
   "execution_count": null,
   "metadata": {},
   "outputs": [],
   "source": [
    "from bokeh.io import show, output_notebook#,curdoc,save, output_file\n",
    "from bokeh.plotting import figure\n",
    "#from bokeh.models import ColumnDataSource, Range1d, BBoxTileSource\n",
    "#from bokeh.layouts import row\n",
    "output_notebook()"
   ]
  },
  {
   "cell_type": "code",
   "execution_count": null,
   "metadata": {},
   "outputs": [],
   "source": [
    "#xgrid=np.linspace(1,n,n)\n",
    "\n",
    "xgrid=x[:,0]\n",
    "yhat=optimized_Ndiff_kernel.yhat_un_std\n",
    "p=figure(title='y and yhat', plot_width=900, plot_height=500)\n",
    "p.xaxis.axis_label = 'observations'\n",
    "p.scatter(xgrid,y,size=10,color='blue',alpha=0.4,legend='y')\n",
    "#p.line(xgrid,precip,color='blue',alpha=0.6,legend='precipitation')\n",
    "p.scatter(xgrid,yhat,size=5,color='green',alpha=0.9,legend='yhat')\n",
    "p.circle(xgrid,just_linreg.yhat,color='red',legend='just lin reg yhat')\n",
    "p.legend.location = \"top_left\"\n",
    "p.yaxis.visible=False\n",
    "show(p)"
   ]
  },
  {
   "cell_type": "code",
   "execution_count": null,
   "metadata": {},
   "outputs": [],
   "source": [
    "yhat.shape\n",
    "print(data1.b)"
   ]
  },
  {
   "cell_type": "code",
   "execution_count": null,
   "metadata": {},
   "outputs": [],
   "source": [
    "print(yhat)"
   ]
  },
  {
   "cell_type": "code",
   "execution_count": null,
   "metadata": {},
   "outputs": [],
   "source": [
    "print(y)"
   ]
  },
  {
   "cell_type": "code",
   "execution_count": null,
   "metadata": {},
   "outputs": [],
   "source": [
    "ypredict=optimized_Ndiff_kernel.predict_tool(xvalidate,optimized_Ndiff_kernel.mselist[-1][1],modeldict1)\n",
    "predition_err=yvalidate-ypredict\n",
    "prediction_mse=np.mean(prediction_err**2)"
   ]
  },
  {
   "cell_type": "code",
   "execution_count": null,
   "metadata": {},
   "outputs": [],
   "source": [
    "np.ma.count_masked(yhat)"
   ]
  }
 ],
 "metadata": {
  "kernelspec": {
   "display_name": "Python 3",
   "language": "python",
   "name": "python3"
  },
  "language_info": {
   "codemirror_mode": {
    "name": "ipython",
    "version": 3
   },
   "file_extension": ".py",
   "mimetype": "text/x-python",
   "name": "python",
   "nbconvert_exporter": "python",
   "pygments_lexer": "ipython3",
   "version": "3.7.4"
  },
  "pycharm": {
   "stem_cell": {
    "cell_type": "raw",
    "metadata": {
     "collapsed": false
    },
    "source": []
   }
  }
 },
 "nbformat": 4,
 "nbformat_minor": 4
}
