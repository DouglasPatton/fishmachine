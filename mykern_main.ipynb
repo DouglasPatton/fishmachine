{
 "cells": [
  {
   "cell_type": "code",
   "execution_count": 1,
   "metadata": {},
   "outputs": [],
   "source": [
    "%load_ext autoreload\n",
    "%autoreload 2"
   ]
  },
  {
   "cell_type": "markdown",
   "metadata": {},
   "source": [
    "### kernel density estimation and kernel regression for prediction\n",
    "This notebook is my first attempt to write down the ddiff and dddiff models that I have been working on"
   ]
  },
  {
   "cell_type": "markdown",
   "metadata": {},
   "source": [
    "mixed recursive/iterative approach (rather than vectorized approach that is harder to generalize\n",
    "- create separate submodules for KDE and KDreg\n",
    "    - develop a system for storing differenced but unweighted data and the appropriate mask to lessen memory usage. \n",
    "        -1's or 0's depending on i/j/k/l/.... values\n",
    "    - figure out the deepest level requested by the user and levels that are less deep are just slices of the deeper model. \n",
    "        -scout out the tree to build the differenced dataset. \n",
    "          \n",
    "        \n",
    " plot and compare\n",
    "on synthetic data, 1, 2, 3+ mixed distributions\n",
    "1d - Ndiff vs gaussian kernel vs kernel_tunneling\n",
    "2d -  \n",
    "\n",
    "\n",
    "multidimensional x problem\n",
    "e.g., parameter treatment\n",
    "\"product kernel approach\" vs l2 \"el two\" (radial basis?)distance "
   ]
  },
  {
   "cell_type": "code",
   "execution_count": 2,
   "metadata": {},
   "outputs": [],
   "source": [
    "import numpy as np"
   ]
  },
  {
   "cell_type": "markdown",
   "metadata": {},
   "source": [
    "#### generate a simple linear dataset y=xb+e\n",
    "##### store validation data from same dataset too"
   ]
  },
  {
   "cell_type": "code",
   "execution_count": 3,
   "metadata": {
    "pycharm": {
     "is_executing": false,
     "name": "#%%\n"
    }
   },
   "outputs": [],
   "source": [
    "import data_gen as dg\n",
    "data1=dg.data_gen(data_shape=(500,1),seed=0)\n",
    "#xdata=data1.x[:,:-1]#drop last x\n",
    "size=50\n",
    "xdata=data1.x[0:size,:]\n",
    "ydata=data1.y[0:size]\n",
    "y=ydata\n",
    "xfull=xdata\n",
    "x=xdata[:,1:] #drop first column of x (all 1's)\n",
    "e=data1.e\n",
    "n,p=x.shape\n",
    "\n",
    "\n",
    "xvalidate=data1.x[100:500,1:]\n",
    "yvalidate=data1.y[100:500]"
   ]
  },
  {
   "cell_type": "markdown",
   "metadata": {
    "pycharm": {
     "name": "#%% md\n"
    }
   },
   "source": [
    "### create modeldict\n",
    "- 'Ndiff_type': refers to the mathematical form of Ndiff\n",
    "  - 'product'-Ndiff1 multiplied by Ndiff2\n",
    "  - 'recursive'-Ndiff1's bw is Ndiff 2\n",
    "- max_bw_Ndiff: is the depth of Ndiffs applied in estimating the bandwidth.\n",
    "- 'normalize_Ndiffwtsum':\n",
    "  - 'across' means sum across own level of kernelized-Ndiffs and divide by that sum (CDF approach)\n",
    "  - 'own_n' means for (n+k)diff where n+K=max_bw_Ndiff\n",
    "- Ndiff_bw_kern:\n",
    "  - rbfkern means use the radial basis function kernel\n",
    "  - 'product' means use product kernel like as in liu and yang eq1. \n",
    "- 'regression_model':\n",
    "  - 'NW' means use nadaraya-watson kernel regression\n",
    "  - 'full_logit' means local logit with all variables entering linearly\n",
    "  - 'rbf_logit' means local logit with 1 parameters: scaled l2 norm centered on zero \n",
    " (globally or by i?). Is this a new idea?\n",
    "- outer_x_bw_form: if x is separated into blocks of rvars that are combined within a block using rbf kernel, \n",
    "  - 'one_for_all' - use same hx bw for all blocks\n",
    "  - 'one_per_block' - each block or rvars gets an hx\n",
    "- ykern_grid\n",
    "  - if int, then create int evnely spaced values from -3 to 3 (standard normal middle ~99%)\n",
    "  - 'no' means use original data points (self is masked when predicting self)\n",
    "- xkern_grid\n",
    "  - much like ykern_grid, but used less frequently since x's are typically pre-specified\n",
    "- product_kern_norm: when multiplying kernels across random variables, this parameter determines if each random variable has its kernels normalized before the product or not\n",
    "  - 'self' means each random variable has its kernels divided by the sum of kernels across the nout axis (the number of possibile values y is averaged over, whose probabilities sum to 1)\n",
    "  - 'own_n' means same as self, but divided by count of non-masked items in second to last, nout lenght dimension\n",
    "  - 'none' means no normalization prior to taking products across rvar kernels\n",
    "- hyper_param_form_dict is a nested dictionary\n",
    "  - Ndiff_exponent is the exponent wrapped around typically a sum of kernels for each Ndiff level \n",
    "after level 1 (i.e., (i-j) or centered, obvious/conventional level.)\n",
    "  - x_bandscale is the parameter specific to each variable (each x in X) used for prediction (y)\n",
    "  - Ndiff_depth_bw is used as the kernel's bandwidth (h) at each level of Ndiff including at level 1 \n",
    "  - outer_x_bw vanilla bandwidth for the rbf or product kernel\n",
    "  - outer_y_bw vanilla bandwidth for y"
   ]
  },
  {
   "cell_type": "code",
   "execution_count": 4,
   "metadata": {
    "collapsed": false,
    "jupyter": {
     "outputs_hidden": false
    },
    "pycharm": {
     "is_executing": false,
     "name": "#%%\n"
    }
   },
   "outputs": [],
   "source": [
    "max_bw_Ndiff=1\n",
    "modeldict1={\n",
    "    'Ndiff_type':'product',\n",
    "    'max_bw_Ndiff':max_bw_Ndiff,\n",
    "    'normalize_Ndiffwtsum':'own_n',\n",
    "    'xkern_grid':'no',\n",
    "    'ykern_grid':'no',\n",
    "    'outer_kern':'gaussian',\n",
    "    'Ndiff_bw_kern':'rbfkern',\n",
    "    'outer_x_bw_form':'one_for_all',\n",
    "    'regression_model':'NW',\n",
    "    'product_kern_norm':'self',\n",
    "    'hyper_param_form_dict':{\n",
    "        'Ndiff_exponent':'fixed',\n",
    "        'x_bandscale':'fixed',\n",
    "        'Ndiff_depth_bw':'fixed',\n",
    "        'outer_x_bw':'non-neg',\n",
    "        'outer_y_bw':'non-neg',\n",
    "        'y_bandscale':'fixed'\n",
    "        }\n",
    "    }\n",
    "\n",
    "#modeldict1['ykern_grid']=20#override\n",
    "#modeldict1['product_kern_norm']='none'\n",
    "\n",
    "#set starting or fixed values for hyper parameters\n",
    "onethenzeros=np.zeros([max_bw_Ndiff,])\n",
    "#if max_bw_Ndiff>0:onethenzeros[0]=1\n",
    "hyper_paramdict1={\n",
    "    'Ndiff_exponent':onethenzeros,\n",
    "    'x_bandscale':np.ones([p,]),\n",
    "    'outer_x_bw':np.array([0.3,]),\n",
    "    'outer_y_bw':np.array([0.3,]),\n",
    "    'Ndiff_depth_bw':np.ones([max_bw_Ndiff,])*0.3,\n",
    "    'y_bandscale':np.ones([1,])\n",
    "    }\n",
    "\n",
    "\n",
    "#assert len(hyper_paramdict1['Ndiff_exponent'])==modeldict1['max_bw_Ndiff'],'Ndiff_exponent does not match ' \\\n",
    "#                                                                            'depth of max_bw_Ndiff'\n",
    "assert len(hyper_paramdict1['Ndiff_depth_bw'])==modeldict1['max_bw_Ndiff'],'Ndiff_depth_bw does not match ' \\\n",
    "                                                                             'depth of max_bw_Ndiff'\n",
    "#create optimization dictionary\n",
    "optimizedict1={\n",
    "    'method':'Nelder-Mead',\n",
    "    'hyper_param_dict':hyper_paramdict1,\n",
    "    'model_dict':modeldict1\n",
    "    }"
   ]
  },
  {
   "cell_type": "markdown",
   "metadata": {
    "pycharm": {
     "name": "#%% md\n"
    }
   },
   "source": [
    "#-----------------Calibrate/Optimize--------"
   ]
  },
  {
   "cell_type": "code",
   "execution_count": 12,
   "metadata": {
    "collapsed": false,
    "jupyter": {
     "outputs_hidden": false
    },
    "pycharm": {
     "is_executing": false,
     "name": "#%%\n"
    }
   },
   "outputs": [
    {
     "name": "stdout",
     "output_type": "stream",
     "text": [
      "(50, 50, 50) (50, 50)\n",
      "call_iter:2,last_mse:(1945654043.0390048, {'Ndiff_exponent': {'fixed_or_free': 'fixed', 'const': 'fixed', 'location_idx': (0, 1)}, 'x_bandscale': {'fixed_or_free': 'fixed', 'const': 'fixed', 'location_idx': (1, 2)}, 'Ndiff_depth_bw': {'fixed_or_free': 'fixed', 'const': 'fixed', 'location_idx': (2, 3)}, 'outer_x_bw': {'fixed_or_free': 'free', 'const': 'non-neg', 'location_idx': (0, 1)}, 'outer_y_bw': {'fixed_or_free': 'free', 'const': 'non-neg', 'location_idx': (1, 2)}, 'y_bandscale': {'fixed_or_free': 'fixed', 'const': 'fixed', 'location_idx': (3, 4)}, 'free_params': array([0.3, 0.3]), 'fixed_params': array([0. , 1. , 0.3, 1. ])}),(50, 50, 50) (50, 50)\n",
      "call_iter:3,last_mse:(1945699065.0821738, {'Ndiff_exponent': {'fixed_or_free': 'fixed', 'const': 'fixed', 'location_idx': (0, 1)}, 'x_bandscale': {'fixed_or_free': 'fixed', 'const': 'fixed', 'location_idx': (1, 2)}, 'Ndiff_depth_bw': {'fixed_or_free': 'fixed', 'const': 'fixed', 'location_idx': (2, 3)}, 'outer_x_bw': {'fixed_or_free': 'free', 'const': 'non-neg', 'location_idx': (0, 1)}, 'outer_y_bw': {'fixed_or_free': 'free', 'const': 'non-neg', 'location_idx': (1, 2)}, 'y_bandscale': {'fixed_or_free': 'fixed', 'const': 'fixed', 'location_idx': (3, 4)}, 'free_params': array([0.315, 0.3  ]), 'fixed_params': array([0. , 1. , 0.3, 1. ])}),(50, 50, 50) (50, 50)\n",
      "call_iter:4,last_mse:(1945654043.0390048, {'Ndiff_exponent': {'fixed_or_free': 'fixed', 'const': 'fixed', 'location_idx': (0, 1)}, 'x_bandscale': {'fixed_or_free': 'fixed', 'const': 'fixed', 'location_idx': (1, 2)}, 'Ndiff_depth_bw': {'fixed_or_free': 'fixed', 'const': 'fixed', 'location_idx': (2, 3)}, 'outer_x_bw': {'fixed_or_free': 'free', 'const': 'non-neg', 'location_idx': (0, 1)}, 'outer_y_bw': {'fixed_or_free': 'free', 'const': 'non-neg', 'location_idx': (1, 2)}, 'y_bandscale': {'fixed_or_free': 'fixed', 'const': 'fixed', 'location_idx': (3, 4)}, 'free_params': array([0.3  , 0.315]), 'fixed_params': array([0. , 1. , 0.3, 1. ])}),(50, 50, 50) (50, 50)\n",
      "call_iter:5,last_mse:(1945610536.9938092, {'Ndiff_exponent': {'fixed_or_free': 'fixed', 'const': 'fixed', 'location_idx': (0, 1)}, 'x_bandscale': {'fixed_or_free': 'fixed', 'const': 'fixed', 'location_idx': (1, 2)}, 'Ndiff_depth_bw': {'fixed_or_free': 'fixed', 'const': 'fixed', 'location_idx': (2, 3)}, 'outer_x_bw': {'fixed_or_free': 'free', 'const': 'non-neg', 'location_idx': (0, 1)}, 'outer_y_bw': {'fixed_or_free': 'free', 'const': 'non-neg', 'location_idx': (1, 2)}, 'y_bandscale': {'fixed_or_free': 'fixed', 'const': 'fixed', 'location_idx': (3, 4)}, 'free_params': array([0.285, 0.315]), 'fixed_params': array([0. , 1. , 0.3, 1. ])}),(50, 50, 50) (50, 50)\n",
      "call_iter:6,last_mse:(1945568881.39287, {'Ndiff_exponent': {'fixed_or_free': 'fixed', 'const': 'fixed', 'location_idx': (0, 1)}, 'x_bandscale': {'fixed_or_free': 'fixed', 'const': 'fixed', 'location_idx': (1, 2)}, 'Ndiff_depth_bw': {'fixed_or_free': 'fixed', 'const': 'fixed', 'location_idx': (2, 3)}, 'outer_x_bw': {'fixed_or_free': 'free', 'const': 'non-neg', 'location_idx': (0, 1)}, 'outer_y_bw': {'fixed_or_free': 'free', 'const': 'non-neg', 'location_idx': (1, 2)}, 'y_bandscale': {'fixed_or_free': 'fixed', 'const': 'fixed', 'location_idx': (3, 4)}, 'free_params': array([0.27  , 0.3225]), 'fixed_params': array([0. , 1. , 0.3, 1. ])}),(50, 50, 50) (50, 50)\n",
      "call_iter:7,last_mse:(1945568881.3928704, {'Ndiff_exponent': {'fixed_or_free': 'fixed', 'const': 'fixed', 'location_idx': (0, 1)}, 'x_bandscale': {'fixed_or_free': 'fixed', 'const': 'fixed', 'location_idx': (1, 2)}, 'Ndiff_depth_bw': {'fixed_or_free': 'fixed', 'const': 'fixed', 'location_idx': (2, 3)}, 'outer_x_bw': {'fixed_or_free': 'free', 'const': 'non-neg', 'location_idx': (0, 1)}, 'outer_y_bw': {'fixed_or_free': 'free', 'const': 'non-neg', 'location_idx': (1, 2)}, 'y_bandscale': {'fixed_or_free': 'fixed', 'const': 'fixed', 'location_idx': (3, 4)}, 'free_params': array([0.27  , 0.3075]), 'fixed_params': array([0. , 1. , 0.3, 1. ])}),(50, 50, 50) (50, 50)\n",
      "call_iter:8,last_mse:(1945492633.626911, {'Ndiff_exponent': {'fixed_or_free': 'fixed', 'const': 'fixed', 'location_idx': (0, 1)}, 'x_bandscale': {'fixed_or_free': 'fixed', 'const': 'fixed', 'location_idx': (1, 2)}, 'Ndiff_depth_bw': {'fixed_or_free': 'fixed', 'const': 'fixed', 'location_idx': (2, 3)}, 'outer_x_bw': {'fixed_or_free': 'free', 'const': 'non-neg', 'location_idx': (0, 1)}, 'outer_y_bw': {'fixed_or_free': 'free', 'const': 'non-neg', 'location_idx': (1, 2)}, 'y_bandscale': {'fixed_or_free': 'fixed', 'const': 'fixed', 'location_idx': (3, 4)}, 'free_params': array([0.24, 0.33]), 'fixed_params': array([0. , 1. , 0.3, 1. ])}),(50, 50, 50) (50, 50)\n",
      "call_iter:9,last_mse:(1945428707.9223142, {'Ndiff_exponent': {'fixed_or_free': 'fixed', 'const': 'fixed', 'location_idx': (0, 1)}, 'x_bandscale': {'fixed_or_free': 'fixed', 'const': 'fixed', 'location_idx': (1, 2)}, 'Ndiff_depth_bw': {'fixed_or_free': 'fixed', 'const': 'fixed', 'location_idx': (2, 3)}, 'outer_x_bw': {'fixed_or_free': 'free', 'const': 'non-neg', 'location_idx': (0, 1)}, 'outer_y_bw': {'fixed_or_free': 'free', 'const': 'non-neg', 'location_idx': (1, 2)}, 'y_bandscale': {'fixed_or_free': 'fixed', 'const': 'fixed', 'location_idx': (3, 4)}, 'free_params': array([0.21 , 0.345]), 'fixed_params': array([0. , 1. , 0.3, 1. ])}),(50, 50, 50) (50, 50)\n",
      "call_iter:10,last_mse:(1945428707.9223142, {'Ndiff_exponent': {'fixed_or_free': 'fixed', 'const': 'fixed', 'location_idx': (0, 1)}, 'x_bandscale': {'fixed_or_free': 'fixed', 'const': 'fixed', 'location_idx': (1, 2)}, 'Ndiff_depth_bw': {'fixed_or_free': 'fixed', 'const': 'fixed', 'location_idx': (2, 3)}, 'outer_x_bw': {'fixed_or_free': 'free', 'const': 'non-neg', 'location_idx': (0, 1)}, 'outer_y_bw': {'fixed_or_free': 'free', 'const': 'non-neg', 'location_idx': (1, 2)}, 'y_bandscale': {'fixed_or_free': 'fixed', 'const': 'fixed', 'location_idx': (3, 4)}, 'free_params': array([0.21, 0.36]), 'fixed_params': array([0. , 1. , 0.3, 1. ])}),(50, 50, 50) (50, 50)\n",
      "call_iter:11,last_mse:(1945354906.9987879, {'Ndiff_exponent': {'fixed_or_free': 'fixed', 'const': 'fixed', 'location_idx': (0, 1)}, 'x_bandscale': {'fixed_or_free': 'fixed', 'const': 'fixed', 'location_idx': (1, 2)}, 'Ndiff_depth_bw': {'fixed_or_free': 'fixed', 'const': 'fixed', 'location_idx': (2, 3)}, 'outer_x_bw': {'fixed_or_free': 'free', 'const': 'non-neg', 'location_idx': (0, 1)}, 'outer_y_bw': {'fixed_or_free': 'free', 'const': 'non-neg', 'location_idx': (1, 2)}, 'y_bandscale': {'fixed_or_free': 'fixed', 'const': 'fixed', 'location_idx': (3, 4)}, 'free_params': array([0.15  , 0.3825]), 'fixed_params': array([0. , 1. , 0.3, 1. ])}),(50, 50, 50) (50, 50)\n",
      "call_iter:12,last_mse:(1945389754.801866, {'Ndiff_exponent': {'fixed_or_free': 'fixed', 'const': 'fixed', 'location_idx': (0, 1)}, 'x_bandscale': {'fixed_or_free': 'fixed', 'const': 'fixed', 'location_idx': (1, 2)}, 'Ndiff_depth_bw': {'fixed_or_free': 'fixed', 'const': 'fixed', 'location_idx': (2, 3)}, 'outer_x_bw': {'fixed_or_free': 'free', 'const': 'non-neg', 'location_idx': (0, 1)}, 'outer_y_bw': {'fixed_or_free': 'free', 'const': 'non-neg', 'location_idx': (1, 2)}, 'y_bandscale': {'fixed_or_free': 'fixed', 'const': 'fixed', 'location_idx': (3, 4)}, 'free_params': array([0.09  , 0.4125]), 'fixed_params': array([0. , 1. , 0.3, 1. ])}),(50, 50, 50) (50, 50)\n",
      "call_iter:13,last_mse:(1945354906.998788, {'Ndiff_exponent': {'fixed_or_free': 'fixed', 'const': 'fixed', 'location_idx': (0, 1)}, 'x_bandscale': {'fixed_or_free': 'fixed', 'const': 'fixed', 'location_idx': (1, 2)}, 'Ndiff_depth_bw': {'fixed_or_free': 'fixed', 'const': 'fixed', 'location_idx': (2, 3)}, 'outer_x_bw': {'fixed_or_free': 'free', 'const': 'non-neg', 'location_idx': (0, 1)}, 'outer_y_bw': {'fixed_or_free': 'free', 'const': 'non-neg', 'location_idx': (1, 2)}, 'y_bandscale': {'fixed_or_free': 'fixed', 'const': 'fixed', 'location_idx': (3, 4)}, 'free_params': array([0.15  , 0.3675]), 'fixed_params': array([0. , 1. , 0.3, 1. ])}),(50, 50, 50) (50, 50)\n",
      "call_iter:14,last_mse:(1945389754.8018658, {'Ndiff_exponent': {'fixed_or_free': 'fixed', 'const': 'fixed', 'location_idx': (0, 1)}, 'x_bandscale': {'fixed_or_free': 'fixed', 'const': 'fixed', 'location_idx': (1, 2)}, 'Ndiff_depth_bw': {'fixed_or_free': 'fixed', 'const': 'fixed', 'location_idx': (2, 3)}, 'outer_x_bw': {'fixed_or_free': 'free', 'const': 'non-neg', 'location_idx': (0, 1)}, 'outer_y_bw': {'fixed_or_free': 'free', 'const': 'non-neg', 'location_idx': (1, 2)}, 'y_bandscale': {'fixed_or_free': 'fixed', 'const': 'fixed', 'location_idx': (3, 4)}, 'free_params': array([0.09 , 0.405]), 'fixed_params': array([0. , 1. , 0.3, 1. ])}),(50, 50, 50) (50, 50)\n",
      "call_iter:15,last_mse:(1945355558.1895783, {'Ndiff_exponent': {'fixed_or_free': 'fixed', 'const': 'fixed', 'location_idx': (0, 1)}, 'x_bandscale': {'fixed_or_free': 'fixed', 'const': 'fixed', 'location_idx': (1, 2)}, 'Ndiff_depth_bw': {'fixed_or_free': 'fixed', 'const': 'fixed', 'location_idx': (2, 3)}, 'outer_x_bw': {'fixed_or_free': 'free', 'const': 'non-neg', 'location_idx': (0, 1)}, 'outer_y_bw': {'fixed_or_free': 'free', 'const': 'non-neg', 'location_idx': (1, 2)}, 'y_bandscale': {'fixed_or_free': 'fixed', 'const': 'fixed', 'location_idx': (3, 4)}, 'free_params': array([0.12, 0.39]), 'fixed_params': array([0. , 1. , 0.3, 1. ])}),"
     ]
    },
    {
     "ename": "KeyboardInterrupt",
     "evalue": "",
     "output_type": "error",
     "traceback": [
      "\u001b[1;31m---------------------------------------------------------------------------\u001b[0m",
      "\u001b[1;31mKeyboardInterrupt\u001b[0m                         Traceback (most recent call last)",
      "\u001b[1;32m<ipython-input-12-cd2fb49471ff>\u001b[0m in \u001b[0;36m<module>\u001b[1;34m\u001b[0m\n\u001b[0;32m      1\u001b[0m \u001b[1;32mimport\u001b[0m \u001b[0mmykern\u001b[0m \u001b[1;32mas\u001b[0m \u001b[0mmk\u001b[0m\u001b[1;33m\u001b[0m\u001b[1;33m\u001b[0m\u001b[0m\n\u001b[0;32m      2\u001b[0m \u001b[0my\u001b[0m\u001b[1;33m=\u001b[0m\u001b[0mnp\u001b[0m\u001b[1;33m.\u001b[0m\u001b[0mlinspace\u001b[0m\u001b[1;33m(\u001b[0m\u001b[1;36m0\u001b[0m\u001b[1;33m,\u001b[0m\u001b[1;36m10000\u001b[0m\u001b[1;33m,\u001b[0m\u001b[0mn\u001b[0m\u001b[1;33m)\u001b[0m\u001b[1;31m#what happens if y has no relationship to x\u001b[0m\u001b[1;33m\u001b[0m\u001b[1;33m\u001b[0m\u001b[0m\n\u001b[1;32m----> 3\u001b[1;33m \u001b[0moptimized_Ndiff_kernel\u001b[0m\u001b[1;33m=\u001b[0m\u001b[0mmk\u001b[0m\u001b[1;33m.\u001b[0m\u001b[0moptimize_free_params\u001b[0m\u001b[1;33m(\u001b[0m\u001b[0my\u001b[0m\u001b[1;33m,\u001b[0m\u001b[0mx\u001b[0m\u001b[1;33m,\u001b[0m\u001b[0moptimizedict1\u001b[0m\u001b[1;33m)\u001b[0m\u001b[1;33m\u001b[0m\u001b[1;33m\u001b[0m\u001b[0m\n\u001b[0m",
      "\u001b[1;32mc:\\Users\\DPatton\\gits\\kernelkernel\\mykern.py\u001b[0m in \u001b[0;36m__init__\u001b[1;34m(self, ydata, xdata, optimizedict)\u001b[0m\n\u001b[0;32m    702\u001b[0m             \u001b[1;34m'adaptive'\u001b[0m\u001b[1;33m:\u001b[0m\u001b[1;32mTrue\u001b[0m\u001b[1;33m\u001b[0m\u001b[1;33m\u001b[0m\u001b[0m\n\u001b[0;32m    703\u001b[0m         }\n\u001b[1;32m--> 704\u001b[1;33m         \u001b[0mself\u001b[0m\u001b[1;33m.\u001b[0m\u001b[0mmse\u001b[0m\u001b[1;33m=\u001b[0m\u001b[0mminimize\u001b[0m\u001b[1;33m(\u001b[0m\u001b[0mself\u001b[0m\u001b[1;33m.\u001b[0m\u001b[0mMY_KDEpredictMSE\u001b[0m\u001b[1;33m,\u001b[0m\u001b[0mfree_params\u001b[0m\u001b[1;33m,\u001b[0m\u001b[0margs\u001b[0m\u001b[1;33m=\u001b[0m\u001b[0margs_tuple\u001b[0m\u001b[1;33m,\u001b[0m\u001b[0mmethod\u001b[0m\u001b[1;33m=\u001b[0m\u001b[0mmethod\u001b[0m\u001b[1;33m,\u001b[0m \u001b[0moptions\u001b[0m\u001b[1;33m=\u001b[0m\u001b[0moptiondict\u001b[0m\u001b[1;33m)\u001b[0m\u001b[1;33m\u001b[0m\u001b[1;33m\u001b[0m\u001b[0m\n\u001b[0m\u001b[0;32m    705\u001b[0m \u001b[1;33m\u001b[0m\u001b[0m\n\u001b[0;32m    706\u001b[0m \u001b[1;33m\u001b[0m\u001b[0m\n",
      "\u001b[1;32mC:\\Anaconda3\\lib\\site-packages\\scipy\\optimize\\_minimize.py\u001b[0m in \u001b[0;36mminimize\u001b[1;34m(fun, x0, args, method, jac, hess, hessp, bounds, constraints, tol, callback, options)\u001b[0m\n\u001b[0;32m    587\u001b[0m                       callback=callback, **options)\n\u001b[0;32m    588\u001b[0m     \u001b[1;32melif\u001b[0m \u001b[0mmeth\u001b[0m \u001b[1;33m==\u001b[0m \u001b[1;34m'nelder-mead'\u001b[0m\u001b[1;33m:\u001b[0m\u001b[1;33m\u001b[0m\u001b[1;33m\u001b[0m\u001b[0m\n\u001b[1;32m--> 589\u001b[1;33m         \u001b[1;32mreturn\u001b[0m \u001b[0m_minimize_neldermead\u001b[0m\u001b[1;33m(\u001b[0m\u001b[0mfun\u001b[0m\u001b[1;33m,\u001b[0m \u001b[0mx0\u001b[0m\u001b[1;33m,\u001b[0m \u001b[0margs\u001b[0m\u001b[1;33m,\u001b[0m \u001b[0mcallback\u001b[0m\u001b[1;33m,\u001b[0m \u001b[1;33m**\u001b[0m\u001b[0moptions\u001b[0m\u001b[1;33m)\u001b[0m\u001b[1;33m\u001b[0m\u001b[1;33m\u001b[0m\u001b[0m\n\u001b[0m\u001b[0;32m    590\u001b[0m     \u001b[1;32melif\u001b[0m \u001b[0mmeth\u001b[0m \u001b[1;33m==\u001b[0m \u001b[1;34m'powell'\u001b[0m\u001b[1;33m:\u001b[0m\u001b[1;33m\u001b[0m\u001b[1;33m\u001b[0m\u001b[0m\n\u001b[0;32m    591\u001b[0m         \u001b[1;32mreturn\u001b[0m \u001b[0m_minimize_powell\u001b[0m\u001b[1;33m(\u001b[0m\u001b[0mfun\u001b[0m\u001b[1;33m,\u001b[0m \u001b[0mx0\u001b[0m\u001b[1;33m,\u001b[0m \u001b[0margs\u001b[0m\u001b[1;33m,\u001b[0m \u001b[0mcallback\u001b[0m\u001b[1;33m,\u001b[0m \u001b[1;33m**\u001b[0m\u001b[0moptions\u001b[0m\u001b[1;33m)\u001b[0m\u001b[1;33m\u001b[0m\u001b[1;33m\u001b[0m\u001b[0m\n",
      "\u001b[1;32mC:\\Anaconda3\\lib\\site-packages\\scipy\\optimize\\optimize.py\u001b[0m in \u001b[0;36m_minimize_neldermead\u001b[1;34m(func, x0, args, callback, maxiter, maxfev, disp, return_all, initial_simplex, xatol, fatol, adaptive, **unknown_options)\u001b[0m\n\u001b[0;32m    573\u001b[0m         \u001b[0mxbar\u001b[0m \u001b[1;33m=\u001b[0m \u001b[0mnumpy\u001b[0m\u001b[1;33m.\u001b[0m\u001b[0madd\u001b[0m\u001b[1;33m.\u001b[0m\u001b[0mreduce\u001b[0m\u001b[1;33m(\u001b[0m\u001b[0msim\u001b[0m\u001b[1;33m[\u001b[0m\u001b[1;33m:\u001b[0m\u001b[1;33m-\u001b[0m\u001b[1;36m1\u001b[0m\u001b[1;33m]\u001b[0m\u001b[1;33m,\u001b[0m \u001b[1;36m0\u001b[0m\u001b[1;33m)\u001b[0m \u001b[1;33m/\u001b[0m \u001b[0mN\u001b[0m\u001b[1;33m\u001b[0m\u001b[1;33m\u001b[0m\u001b[0m\n\u001b[0;32m    574\u001b[0m         \u001b[0mxr\u001b[0m \u001b[1;33m=\u001b[0m \u001b[1;33m(\u001b[0m\u001b[1;36m1\u001b[0m \u001b[1;33m+\u001b[0m \u001b[0mrho\u001b[0m\u001b[1;33m)\u001b[0m \u001b[1;33m*\u001b[0m \u001b[0mxbar\u001b[0m \u001b[1;33m-\u001b[0m \u001b[0mrho\u001b[0m \u001b[1;33m*\u001b[0m \u001b[0msim\u001b[0m\u001b[1;33m[\u001b[0m\u001b[1;33m-\u001b[0m\u001b[1;36m1\u001b[0m\u001b[1;33m]\u001b[0m\u001b[1;33m\u001b[0m\u001b[1;33m\u001b[0m\u001b[0m\n\u001b[1;32m--> 575\u001b[1;33m         \u001b[0mfxr\u001b[0m \u001b[1;33m=\u001b[0m \u001b[0mfunc\u001b[0m\u001b[1;33m(\u001b[0m\u001b[0mxr\u001b[0m\u001b[1;33m)\u001b[0m\u001b[1;33m\u001b[0m\u001b[1;33m\u001b[0m\u001b[0m\n\u001b[0m\u001b[0;32m    576\u001b[0m         \u001b[0mdoshrink\u001b[0m \u001b[1;33m=\u001b[0m \u001b[1;36m0\u001b[0m\u001b[1;33m\u001b[0m\u001b[1;33m\u001b[0m\u001b[0m\n\u001b[0;32m    577\u001b[0m \u001b[1;33m\u001b[0m\u001b[0m\n",
      "\u001b[1;32mC:\\Anaconda3\\lib\\site-packages\\scipy\\optimize\\optimize.py\u001b[0m in \u001b[0;36mfunction_wrapper\u001b[1;34m(*wrapper_args)\u001b[0m\n\u001b[0;32m    298\u001b[0m     \u001b[1;32mdef\u001b[0m \u001b[0mfunction_wrapper\u001b[0m\u001b[1;33m(\u001b[0m\u001b[1;33m*\u001b[0m\u001b[0mwrapper_args\u001b[0m\u001b[1;33m)\u001b[0m\u001b[1;33m:\u001b[0m\u001b[1;33m\u001b[0m\u001b[1;33m\u001b[0m\u001b[0m\n\u001b[0;32m    299\u001b[0m         \u001b[0mncalls\u001b[0m\u001b[1;33m[\u001b[0m\u001b[1;36m0\u001b[0m\u001b[1;33m]\u001b[0m \u001b[1;33m+=\u001b[0m \u001b[1;36m1\u001b[0m\u001b[1;33m\u001b[0m\u001b[1;33m\u001b[0m\u001b[0m\n\u001b[1;32m--> 300\u001b[1;33m         \u001b[1;32mreturn\u001b[0m \u001b[0mfunction\u001b[0m\u001b[1;33m(\u001b[0m\u001b[1;33m*\u001b[0m\u001b[1;33m(\u001b[0m\u001b[0mwrapper_args\u001b[0m \u001b[1;33m+\u001b[0m \u001b[0margs\u001b[0m\u001b[1;33m)\u001b[0m\u001b[1;33m)\u001b[0m\u001b[1;33m\u001b[0m\u001b[1;33m\u001b[0m\u001b[0m\n\u001b[0m\u001b[0;32m    301\u001b[0m \u001b[1;33m\u001b[0m\u001b[0m\n\u001b[0;32m    302\u001b[0m     \u001b[1;32mreturn\u001b[0m \u001b[0mncalls\u001b[0m\u001b[1;33m,\u001b[0m \u001b[0mfunction_wrapper\u001b[0m\u001b[1;33m\u001b[0m\u001b[1;33m\u001b[0m\u001b[0m\n",
      "\u001b[1;32mc:\\Users\\DPatton\\gits\\kernelkernel\\mykern.py\u001b[0m in \u001b[0;36mMY_KDEpredictMSE\u001b[1;34m(self, free_params, yin, yout, xin, xpr, modeldict, fixed_or_free_paramdict)\u001b[0m\n\u001b[0;32m    481\u001b[0m \u001b[1;33m\u001b[0m\u001b[0m\n\u001b[0;32m    482\u001b[0m \u001b[1;33m\u001b[0m\u001b[0m\n\u001b[1;32m--> 483\u001b[1;33m         \u001b[0myhat_un_std\u001b[0m\u001b[1;33m=\u001b[0m\u001b[0mself\u001b[0m\u001b[1;33m.\u001b[0m\u001b[0mMY_KDEpredict\u001b[0m\u001b[1;33m(\u001b[0m\u001b[0myin\u001b[0m\u001b[1;33m,\u001b[0m\u001b[0myout\u001b[0m\u001b[1;33m,\u001b[0m\u001b[0mxin\u001b[0m\u001b[1;33m,\u001b[0m\u001b[0mxpr\u001b[0m\u001b[1;33m,\u001b[0m\u001b[0mmodeldict\u001b[0m\u001b[1;33m,\u001b[0m\u001b[0mfixed_or_free_paramdict\u001b[0m\u001b[1;33m)\u001b[0m\u001b[1;33m\u001b[0m\u001b[1;33m\u001b[0m\u001b[0m\n\u001b[0m\u001b[0;32m    484\u001b[0m         \u001b[0my_err\u001b[0m\u001b[1;33m=\u001b[0m\u001b[0mself\u001b[0m\u001b[1;33m.\u001b[0m\u001b[0mydata\u001b[0m\u001b[1;33m-\u001b[0m\u001b[0myhat_un_std\u001b[0m\u001b[1;33m\u001b[0m\u001b[1;33m\u001b[0m\u001b[0m\n\u001b[0;32m    485\u001b[0m         \u001b[0mmse\u001b[0m\u001b[1;33m=\u001b[0m \u001b[0mnp\u001b[0m\u001b[1;33m.\u001b[0m\u001b[0mmean\u001b[0m\u001b[1;33m(\u001b[0m\u001b[0mnp\u001b[0m\u001b[1;33m.\u001b[0m\u001b[0mpower\u001b[0m\u001b[1;33m(\u001b[0m\u001b[0my_err\u001b[0m\u001b[1;33m,\u001b[0m\u001b[1;36m2\u001b[0m\u001b[1;33m)\u001b[0m\u001b[1;33m)\u001b[0m\u001b[1;33m\u001b[0m\u001b[1;33m\u001b[0m\u001b[0m\n",
      "\u001b[1;32mc:\\Users\\DPatton\\gits\\kernelkernel\\mykern.py\u001b[0m in \u001b[0;36mMY_KDEpredict\u001b[1;34m(self, yin, yout, xin, xpr, modeldict, fixed_or_free_paramdict)\u001b[0m\n\u001b[0;32m    543\u001b[0m         \u001b[1;32mif\u001b[0m \u001b[0mmodeldict\u001b[0m\u001b[1;33m[\u001b[0m\u001b[1;34m'Ndiff_type'\u001b[0m\u001b[1;33m]\u001b[0m \u001b[1;33m==\u001b[0m \u001b[1;34m'product'\u001b[0m\u001b[1;33m:\u001b[0m\u001b[1;33m\u001b[0m\u001b[1;33m\u001b[0m\u001b[0m\n\u001b[0;32m    544\u001b[0m             \u001b[0mxbw\u001b[0m \u001b[1;33m=\u001b[0m \u001b[0mself\u001b[0m\u001b[1;33m.\u001b[0m\u001b[0mproduct_BWmaker\u001b[0m\u001b[1;33m(\u001b[0m\u001b[0mmax_bw_Ndiff\u001b[0m\u001b[1;33m,\u001b[0m \u001b[0mself\u001b[0m\u001b[1;33m.\u001b[0m\u001b[0mNdiff_list_of_masks_x\u001b[0m\u001b[1;33m,\u001b[0m \u001b[0mfixed_or_free_paramdict\u001b[0m\u001b[1;33m,\u001b[0m \u001b[0mdiffdict\u001b[0m\u001b[1;33m,\u001b[0m \u001b[0mmodeldict\u001b[0m\u001b[1;33m,\u001b[0m\u001b[1;34m'x'\u001b[0m\u001b[1;33m)\u001b[0m\u001b[1;33m\u001b[0m\u001b[1;33m\u001b[0m\u001b[0m\n\u001b[1;32m--> 545\u001b[1;33m             \u001b[0mybw\u001b[0m \u001b[1;33m=\u001b[0m \u001b[0mself\u001b[0m\u001b[1;33m.\u001b[0m\u001b[0mproduct_BWmaker\u001b[0m\u001b[1;33m(\u001b[0m\u001b[0mmax_bw_Ndiff\u001b[0m\u001b[1;33m,\u001b[0m \u001b[0mself\u001b[0m\u001b[1;33m.\u001b[0m\u001b[0mNdiff_list_of_masks_y\u001b[0m\u001b[1;33m,\u001b[0m \u001b[0mfixed_or_free_paramdict\u001b[0m\u001b[1;33m,\u001b[0m \u001b[0mdiffdict\u001b[0m\u001b[1;33m[\u001b[0m\u001b[1;34m'ydiffdict'\u001b[0m\u001b[1;33m]\u001b[0m\u001b[1;33m,\u001b[0m\u001b[0mmodeldict\u001b[0m\u001b[1;33m,\u001b[0m\u001b[1;34m'y'\u001b[0m\u001b[1;33m)\u001b[0m\u001b[1;33m\u001b[0m\u001b[1;33m\u001b[0m\u001b[0m\n\u001b[0m\u001b[0;32m    546\u001b[0m         \u001b[1;32mif\u001b[0m \u001b[0mmodeldict\u001b[0m\u001b[1;33m[\u001b[0m\u001b[1;34m'Ndiff_type'\u001b[0m\u001b[1;33m]\u001b[0m \u001b[1;33m==\u001b[0m \u001b[1;34m'recursive'\u001b[0m\u001b[1;33m:\u001b[0m\u001b[1;33m\u001b[0m\u001b[1;33m\u001b[0m\u001b[0m\n\u001b[0;32m    547\u001b[0m             \u001b[0mxbw\u001b[0m \u001b[1;33m=\u001b[0m \u001b[0mself\u001b[0m\u001b[1;33m.\u001b[0m\u001b[0mrecursive_BWmaker\u001b[0m\u001b[1;33m(\u001b[0m\u001b[0mmax_bw_Ndiff\u001b[0m\u001b[1;33m,\u001b[0m \u001b[0mself\u001b[0m\u001b[1;33m.\u001b[0m\u001b[0mNdiff_list_of_masks_x\u001b[0m\u001b[1;33m,\u001b[0m \u001b[0mfixed_or_free_paramdict\u001b[0m\u001b[1;33m,\u001b[0m \u001b[0mdiffdict\u001b[0m\u001b[1;33m,\u001b[0m \u001b[0mmodeldict\u001b[0m\u001b[1;33m,\u001b[0m\u001b[1;34m'x'\u001b[0m\u001b[1;33m)\u001b[0m\u001b[1;33m\u001b[0m\u001b[1;33m\u001b[0m\u001b[0m\n",
      "\u001b[1;32mc:\\Users\\DPatton\\gits\\kernelkernel\\mykern.py\u001b[0m in \u001b[0;36mproduct_BWmaker\u001b[1;34m(self, max_bw_Ndiff, Ndiff_list_of_masks, fixed_or_free_paramdict, diffdict, modeldict, x_or_y)\u001b[0m\n\u001b[0;32m    120\u001b[0m                             \u001b[0mNdiff_bw_kern\u001b[0m\u001b[1;33m,\u001b[0m\u001b[1;33m\u001b[0m\u001b[1;33m\u001b[0m\u001b[0m\n\u001b[0;32m    121\u001b[0m                             \u001b[0mnp\u001b[0m\u001b[1;33m.\u001b[0m\u001b[0mma\u001b[0m\u001b[1;33m.\u001b[0m\u001b[0marray\u001b[0m\u001b[1;33m(\u001b[0m\u001b[0mthis_depth_data\u001b[0m\u001b[1;33m,\u001b[0m\u001b[0mmask\u001b[0m\u001b[1;33m=\u001b[0m\u001b[0mthis_depth_mask\u001b[0m\u001b[1;33m)\u001b[0m\u001b[1;33m,\u001b[0m\u001b[1;33m\u001b[0m\u001b[1;33m\u001b[0m\u001b[0m\n\u001b[1;32m--> 122\u001b[1;33m                             \u001b[0mthis_depth_bw_param\u001b[0m\u001b[1;33m\u001b[0m\u001b[1;33m\u001b[0m\u001b[0m\n\u001b[0m\u001b[0;32m    123\u001b[0m                             )*deeper_depth_bw,\n\u001b[0;32m    124\u001b[0m                         \u001b[0mnormalize\u001b[0m\u001b[1;33m\u001b[0m\u001b[1;33m\u001b[0m\u001b[0m\n",
      "\u001b[1;32mc:\\Users\\DPatton\\gits\\kernelkernel\\mykern.py\u001b[0m in \u001b[0;36mdo_bw_kern\u001b[1;34m(self, kern_choice, maskeddata, Ndiff_depth_bw_param, x_bandscale_params)\u001b[0m\n\u001b[0;32m    151\u001b[0m             \u001b[1;31m#axis-1 b/c axes counted from zero but ndim counts from 1\u001b[0m\u001b[1;33m\u001b[0m\u001b[1;33m\u001b[0m\u001b[1;33m\u001b[0m\u001b[0m\n\u001b[0;32m    152\u001b[0m         \u001b[1;32mif\u001b[0m \u001b[0mkern_choice\u001b[0m\u001b[1;33m==\u001b[0m\u001b[1;34m'rbfkern'\u001b[0m\u001b[1;33m:\u001b[0m\u001b[1;33m\u001b[0m\u001b[1;33m\u001b[0m\u001b[0m\n\u001b[1;32m--> 153\u001b[1;33m             \u001b[1;32mreturn\u001b[0m \u001b[0mself\u001b[0m\u001b[1;33m.\u001b[0m\u001b[0mgkernh\u001b[0m\u001b[1;33m(\u001b[0m\u001b[0mmaskeddata\u001b[0m\u001b[1;33m,\u001b[0m \u001b[0mNdiff_depth_bw_param\u001b[0m\u001b[1;33m)\u001b[0m\u001b[1;31m#parameters already collapsed, so this will be rbf\u001b[0m\u001b[1;33m\u001b[0m\u001b[1;33m\u001b[0m\u001b[0m\n\u001b[0m\u001b[0;32m    154\u001b[0m \u001b[1;33m\u001b[0m\u001b[0m\n\u001b[0;32m    155\u001b[0m     \u001b[1;32mdef\u001b[0m \u001b[0mgkernh\u001b[0m\u001b[1;33m(\u001b[0m\u001b[0mself\u001b[0m\u001b[1;33m,\u001b[0m \u001b[0mx\u001b[0m\u001b[1;33m,\u001b[0m \u001b[0mh\u001b[0m\u001b[1;33m)\u001b[0m\u001b[1;33m:\u001b[0m\u001b[1;33m\u001b[0m\u001b[1;33m\u001b[0m\u001b[0m\n",
      "\u001b[1;32mc:\\Users\\DPatton\\gits\\kernelkernel\\mykern.py\u001b[0m in \u001b[0;36mgkernh\u001b[1;34m(self, x, h)\u001b[0m\n\u001b[0;32m    161\u001b[0m         \u001b[0mdenom\u001b[0m\u001b[1;33m=\u001b[0m\u001b[1;36m1\u001b[0m\u001b[1;33m/\u001b[0m\u001b[1;33m(\u001b[0m\u001b[1;33m(\u001b[0m\u001b[1;36m2\u001b[0m\u001b[1;33m*\u001b[0m\u001b[0mnp\u001b[0m\u001b[1;33m.\u001b[0m\u001b[0mpi\u001b[0m\u001b[1;33m)\u001b[0m\u001b[1;33m**\u001b[0m\u001b[1;36m.5\u001b[0m\u001b[1;33m*\u001b[0m\u001b[0mh\u001b[0m\u001b[1;33m)\u001b[0m\u001b[1;33m\u001b[0m\u001b[1;33m\u001b[0m\u001b[0m\n\u001b[0;32m    162\u001b[0m         \u001b[1;31m#print('gkern_denom:',denom)\u001b[0m\u001b[1;33m\u001b[0m\u001b[1;33m\u001b[0m\u001b[1;33m\u001b[0m\u001b[0m\n\u001b[1;32m--> 163\u001b[1;33m         \u001b[0mnumerator\u001b[0m\u001b[1;33m=\u001b[0m\u001b[0mnp\u001b[0m\u001b[1;33m.\u001b[0m\u001b[0mma\u001b[0m\u001b[1;33m.\u001b[0m\u001b[0mexp\u001b[0m\u001b[1;33m(\u001b[0m\u001b[1;33m-\u001b[0m\u001b[0mnp\u001b[0m\u001b[1;33m.\u001b[0m\u001b[0mma\u001b[0m\u001b[1;33m.\u001b[0m\u001b[0mpower\u001b[0m\u001b[1;33m(\u001b[0m\u001b[0mx\u001b[0m\u001b[1;33m/\u001b[0m\u001b[1;33m(\u001b[0m\u001b[0mh\u001b[0m\u001b[1;33m*\u001b[0m\u001b[1;36m2\u001b[0m\u001b[1;33m)\u001b[0m\u001b[1;33m,\u001b[0m \u001b[1;36m2\u001b[0m\u001b[1;33m)\u001b[0m\u001b[1;33m)\u001b[0m\u001b[1;33m\u001b[0m\u001b[1;33m\u001b[0m\u001b[0m\n\u001b[0m\u001b[0;32m    164\u001b[0m         \u001b[1;31m#print('excess numerator mask count',np.ma.count_masked(numerator)-np.ma.count_masked(h))\u001b[0m\u001b[1;33m\u001b[0m\u001b[1;33m\u001b[0m\u001b[1;33m\u001b[0m\u001b[0m\n\u001b[0;32m    165\u001b[0m         \u001b[1;31m#print('excess denom mask count',np.ma.count_masked(denom)-np.ma.count_masked(h))\u001b[0m\u001b[1;33m\u001b[0m\u001b[1;33m\u001b[0m\u001b[1;33m\u001b[0m\u001b[0m\n",
      "\u001b[1;32mC:\\Anaconda3\\lib\\site-packages\\numpy\\ma\\core.py\u001b[0m in \u001b[0;36mpower\u001b[1;34m(a, b, third)\u001b[0m\n\u001b[0;32m   6664\u001b[0m     \u001b[1;31m# Get the result and view it as a (subclass of) MaskedArray\u001b[0m\u001b[1;33m\u001b[0m\u001b[1;33m\u001b[0m\u001b[1;33m\u001b[0m\u001b[0m\n\u001b[0;32m   6665\u001b[0m     \u001b[1;32mwith\u001b[0m \u001b[0mnp\u001b[0m\u001b[1;33m.\u001b[0m\u001b[0merrstate\u001b[0m\u001b[1;33m(\u001b[0m\u001b[0mdivide\u001b[0m\u001b[1;33m=\u001b[0m\u001b[1;34m'ignore'\u001b[0m\u001b[1;33m,\u001b[0m \u001b[0minvalid\u001b[0m\u001b[1;33m=\u001b[0m\u001b[1;34m'ignore'\u001b[0m\u001b[1;33m)\u001b[0m\u001b[1;33m:\u001b[0m\u001b[1;33m\u001b[0m\u001b[1;33m\u001b[0m\u001b[0m\n\u001b[1;32m-> 6666\u001b[1;33m         \u001b[0mresult\u001b[0m \u001b[1;33m=\u001b[0m \u001b[0mnp\u001b[0m\u001b[1;33m.\u001b[0m\u001b[0mwhere\u001b[0m\u001b[1;33m(\u001b[0m\u001b[0mm\u001b[0m\u001b[1;33m,\u001b[0m \u001b[0mfa\u001b[0m\u001b[1;33m,\u001b[0m \u001b[0mumath\u001b[0m\u001b[1;33m.\u001b[0m\u001b[0mpower\u001b[0m\u001b[1;33m(\u001b[0m\u001b[0mfa\u001b[0m\u001b[1;33m,\u001b[0m \u001b[0mfb\u001b[0m\u001b[1;33m)\u001b[0m\u001b[1;33m)\u001b[0m\u001b[1;33m.\u001b[0m\u001b[0mview\u001b[0m\u001b[1;33m(\u001b[0m\u001b[0mbasetype\u001b[0m\u001b[1;33m)\u001b[0m\u001b[1;33m\u001b[0m\u001b[1;33m\u001b[0m\u001b[0m\n\u001b[0m\u001b[0;32m   6667\u001b[0m     \u001b[0mresult\u001b[0m\u001b[1;33m.\u001b[0m\u001b[0m_update_from\u001b[0m\u001b[1;33m(\u001b[0m\u001b[0ma\u001b[0m\u001b[1;33m)\u001b[0m\u001b[1;33m\u001b[0m\u001b[1;33m\u001b[0m\u001b[0m\n\u001b[0;32m   6668\u001b[0m     \u001b[1;31m# Find where we're in trouble w/ NaNs and Infs\u001b[0m\u001b[1;33m\u001b[0m\u001b[1;33m\u001b[0m\u001b[1;33m\u001b[0m\u001b[0m\n",
      "\u001b[1;31mKeyboardInterrupt\u001b[0m: "
     ]
    }
   ],
   "source": [
    "import mykern as mk\n",
    "y=np.linspace(0,10000,n)#what happens if y has no relationship to x\n",
    "optimized_Ndiff_kernel=mk.optimize_free_params(y,x,optimizedict1)\n"
   ]
  },
  {
   "cell_type": "code",
   "execution_count": 6,
   "metadata": {},
   "outputs": [
    {
     "name": "stdout",
     "output_type": "stream",
     "text": [
      " final_simplex: (array([[ 65.34868469, -10.01919296],\n",
      "       [ 65.28314675, -10.00890345],\n",
      "       [ 65.30268089, -10.01239946]]), array([35.23001539, 35.23001539, 35.23001539]))\n",
      "           fun: 35.230015394656874\n",
      "       message: 'Optimization terminated successfully.'\n",
      "          nfev: 72\n",
      "           nit: 30\n",
      "        status: 0\n",
      "       success: True\n",
      "             x: array([ 65.34868469, -10.01919296])\n",
      "linreg_mse: 1.4574693082632522\n"
     ]
    }
   ],
   "source": [
    "print(optimized_Ndiff_kernel.mse)\n",
    "import myreg\n",
    "just_linreg=myreg.reg(y,xfull)\n",
    "just_linreg.myreg()\n",
    "print('linreg_mse:',just_linreg.mse)"
   ]
  },
  {
   "cell_type": "code",
   "execution_count": 7,
   "metadata": {},
   "outputs": [
    {
     "data": {
      "text/html": [
       "\n",
       "    <div class=\"bk-root\">\n",
       "        <a href=\"https://bokeh.pydata.org\" target=\"_blank\" class=\"bk-logo bk-logo-small bk-logo-notebook\"></a>\n",
       "        <span id=\"1001\">Loading BokehJS ...</span>\n",
       "    </div>"
      ]
     },
     "metadata": {},
     "output_type": "display_data"
    },
    {
     "data": {
      "application/javascript": [
       "\n",
       "(function(root) {\n",
       "  function now() {\n",
       "    return new Date();\n",
       "  }\n",
       "\n",
       "  var force = true;\n",
       "\n",
       "  if (typeof root._bokeh_onload_callbacks === \"undefined\" || force === true) {\n",
       "    root._bokeh_onload_callbacks = [];\n",
       "    root._bokeh_is_loading = undefined;\n",
       "  }\n",
       "\n",
       "  var JS_MIME_TYPE = 'application/javascript';\n",
       "  var HTML_MIME_TYPE = 'text/html';\n",
       "  var EXEC_MIME_TYPE = 'application/vnd.bokehjs_exec.v0+json';\n",
       "  var CLASS_NAME = 'output_bokeh rendered_html';\n",
       "\n",
       "  /**\n",
       "   * Render data to the DOM node\n",
       "   */\n",
       "  function render(props, node) {\n",
       "    var script = document.createElement(\"script\");\n",
       "    node.appendChild(script);\n",
       "  }\n",
       "\n",
       "  /**\n",
       "   * Handle when an output is cleared or removed\n",
       "   */\n",
       "  function handleClearOutput(event, handle) {\n",
       "    var cell = handle.cell;\n",
       "\n",
       "    var id = cell.output_area._bokeh_element_id;\n",
       "    var server_id = cell.output_area._bokeh_server_id;\n",
       "    // Clean up Bokeh references\n",
       "    if (id != null && id in Bokeh.index) {\n",
       "      Bokeh.index[id].model.document.clear();\n",
       "      delete Bokeh.index[id];\n",
       "    }\n",
       "\n",
       "    if (server_id !== undefined) {\n",
       "      // Clean up Bokeh references\n",
       "      var cmd = \"from bokeh.io.state import curstate; print(curstate().uuid_to_server['\" + server_id + \"'].get_sessions()[0].document.roots[0]._id)\";\n",
       "      cell.notebook.kernel.execute(cmd, {\n",
       "        iopub: {\n",
       "          output: function(msg) {\n",
       "            var id = msg.content.text.trim();\n",
       "            if (id in Bokeh.index) {\n",
       "              Bokeh.index[id].model.document.clear();\n",
       "              delete Bokeh.index[id];\n",
       "            }\n",
       "          }\n",
       "        }\n",
       "      });\n",
       "      // Destroy server and session\n",
       "      var cmd = \"import bokeh.io.notebook as ion; ion.destroy_server('\" + server_id + \"')\";\n",
       "      cell.notebook.kernel.execute(cmd);\n",
       "    }\n",
       "  }\n",
       "\n",
       "  /**\n",
       "   * Handle when a new output is added\n",
       "   */\n",
       "  function handleAddOutput(event, handle) {\n",
       "    var output_area = handle.output_area;\n",
       "    var output = handle.output;\n",
       "\n",
       "    // limit handleAddOutput to display_data with EXEC_MIME_TYPE content only\n",
       "    if ((output.output_type != \"display_data\") || (!output.data.hasOwnProperty(EXEC_MIME_TYPE))) {\n",
       "      return\n",
       "    }\n",
       "\n",
       "    var toinsert = output_area.element.find(\".\" + CLASS_NAME.split(' ')[0]);\n",
       "\n",
       "    if (output.metadata[EXEC_MIME_TYPE][\"id\"] !== undefined) {\n",
       "      toinsert[toinsert.length - 1].firstChild.textContent = output.data[JS_MIME_TYPE];\n",
       "      // store reference to embed id on output_area\n",
       "      output_area._bokeh_element_id = output.metadata[EXEC_MIME_TYPE][\"id\"];\n",
       "    }\n",
       "    if (output.metadata[EXEC_MIME_TYPE][\"server_id\"] !== undefined) {\n",
       "      var bk_div = document.createElement(\"div\");\n",
       "      bk_div.innerHTML = output.data[HTML_MIME_TYPE];\n",
       "      var script_attrs = bk_div.children[0].attributes;\n",
       "      for (var i = 0; i < script_attrs.length; i++) {\n",
       "        toinsert[toinsert.length - 1].firstChild.setAttribute(script_attrs[i].name, script_attrs[i].value);\n",
       "      }\n",
       "      // store reference to server id on output_area\n",
       "      output_area._bokeh_server_id = output.metadata[EXEC_MIME_TYPE][\"server_id\"];\n",
       "    }\n",
       "  }\n",
       "\n",
       "  function register_renderer(events, OutputArea) {\n",
       "\n",
       "    function append_mime(data, metadata, element) {\n",
       "      // create a DOM node to render to\n",
       "      var toinsert = this.create_output_subarea(\n",
       "        metadata,\n",
       "        CLASS_NAME,\n",
       "        EXEC_MIME_TYPE\n",
       "      );\n",
       "      this.keyboard_manager.register_events(toinsert);\n",
       "      // Render to node\n",
       "      var props = {data: data, metadata: metadata[EXEC_MIME_TYPE]};\n",
       "      render(props, toinsert[toinsert.length - 1]);\n",
       "      element.append(toinsert);\n",
       "      return toinsert\n",
       "    }\n",
       "\n",
       "    /* Handle when an output is cleared or removed */\n",
       "    events.on('clear_output.CodeCell', handleClearOutput);\n",
       "    events.on('delete.Cell', handleClearOutput);\n",
       "\n",
       "    /* Handle when a new output is added */\n",
       "    events.on('output_added.OutputArea', handleAddOutput);\n",
       "\n",
       "    /**\n",
       "     * Register the mime type and append_mime function with output_area\n",
       "     */\n",
       "    OutputArea.prototype.register_mime_type(EXEC_MIME_TYPE, append_mime, {\n",
       "      /* Is output safe? */\n",
       "      safe: true,\n",
       "      /* Index of renderer in `output_area.display_order` */\n",
       "      index: 0\n",
       "    });\n",
       "  }\n",
       "\n",
       "  // register the mime type if in Jupyter Notebook environment and previously unregistered\n",
       "  if (root.Jupyter !== undefined) {\n",
       "    var events = require('base/js/events');\n",
       "    var OutputArea = require('notebook/js/outputarea').OutputArea;\n",
       "\n",
       "    if (OutputArea.prototype.mime_types().indexOf(EXEC_MIME_TYPE) == -1) {\n",
       "      register_renderer(events, OutputArea);\n",
       "    }\n",
       "  }\n",
       "\n",
       "  \n",
       "  if (typeof (root._bokeh_timeout) === \"undefined\" || force === true) {\n",
       "    root._bokeh_timeout = Date.now() + 5000;\n",
       "    root._bokeh_failed_load = false;\n",
       "  }\n",
       "\n",
       "  var NB_LOAD_WARNING = {'data': {'text/html':\n",
       "     \"<div style='background-color: #fdd'>\\n\"+\n",
       "     \"<p>\\n\"+\n",
       "     \"BokehJS does not appear to have successfully loaded. If loading BokehJS from CDN, this \\n\"+\n",
       "     \"may be due to a slow or bad network connection. Possible fixes:\\n\"+\n",
       "     \"</p>\\n\"+\n",
       "     \"<ul>\\n\"+\n",
       "     \"<li>re-rerun `output_notebook()` to attempt to load from CDN again, or</li>\\n\"+\n",
       "     \"<li>use INLINE resources instead, as so:</li>\\n\"+\n",
       "     \"</ul>\\n\"+\n",
       "     \"<code>\\n\"+\n",
       "     \"from bokeh.resources import INLINE\\n\"+\n",
       "     \"output_notebook(resources=INLINE)\\n\"+\n",
       "     \"</code>\\n\"+\n",
       "     \"</div>\"}};\n",
       "\n",
       "  function display_loaded() {\n",
       "    var el = document.getElementById(\"1001\");\n",
       "    if (el != null) {\n",
       "      el.textContent = \"BokehJS is loading...\";\n",
       "    }\n",
       "    if (root.Bokeh !== undefined) {\n",
       "      if (el != null) {\n",
       "        el.textContent = \"BokehJS \" + root.Bokeh.version + \" successfully loaded.\";\n",
       "      }\n",
       "    } else if (Date.now() < root._bokeh_timeout) {\n",
       "      setTimeout(display_loaded, 100)\n",
       "    }\n",
       "  }\n",
       "\n",
       "\n",
       "  function run_callbacks() {\n",
       "    try {\n",
       "      root._bokeh_onload_callbacks.forEach(function(callback) {\n",
       "        if (callback != null)\n",
       "          callback();\n",
       "      });\n",
       "    } finally {\n",
       "      delete root._bokeh_onload_callbacks\n",
       "    }\n",
       "    console.debug(\"Bokeh: all callbacks have finished\");\n",
       "  }\n",
       "\n",
       "  function load_libs(css_urls, js_urls, callback) {\n",
       "    if (css_urls == null) css_urls = [];\n",
       "    if (js_urls == null) js_urls = [];\n",
       "\n",
       "    root._bokeh_onload_callbacks.push(callback);\n",
       "    if (root._bokeh_is_loading > 0) {\n",
       "      console.debug(\"Bokeh: BokehJS is being loaded, scheduling callback at\", now());\n",
       "      return null;\n",
       "    }\n",
       "    if (js_urls == null || js_urls.length === 0) {\n",
       "      run_callbacks();\n",
       "      return null;\n",
       "    }\n",
       "    console.debug(\"Bokeh: BokehJS not loaded, scheduling load and callback at\", now());\n",
       "    root._bokeh_is_loading = css_urls.length + js_urls.length;\n",
       "\n",
       "    function on_load() {\n",
       "      root._bokeh_is_loading--;\n",
       "      if (root._bokeh_is_loading === 0) {\n",
       "        console.debug(\"Bokeh: all BokehJS libraries/stylesheets loaded\");\n",
       "        run_callbacks()\n",
       "      }\n",
       "    }\n",
       "\n",
       "    function on_error() {\n",
       "      console.error(\"failed to load \" + url);\n",
       "    }\n",
       "\n",
       "    for (var i = 0; i < css_urls.length; i++) {\n",
       "      var url = css_urls[i];\n",
       "      const element = document.createElement(\"link\");\n",
       "      element.onload = on_load;\n",
       "      element.onerror = on_error;\n",
       "      element.rel = \"stylesheet\";\n",
       "      element.type = \"text/css\";\n",
       "      element.href = url;\n",
       "      console.debug(\"Bokeh: injecting link tag for BokehJS stylesheet: \", url);\n",
       "      document.body.appendChild(element);\n",
       "    }\n",
       "\n",
       "    for (var i = 0; i < js_urls.length; i++) {\n",
       "      var url = js_urls[i];\n",
       "      var element = document.createElement('script');\n",
       "      element.onload = on_load;\n",
       "      element.onerror = on_error;\n",
       "      element.async = false;\n",
       "      element.src = url;\n",
       "      console.debug(\"Bokeh: injecting script tag for BokehJS library: \", url);\n",
       "      document.head.appendChild(element);\n",
       "    }\n",
       "  };var element = document.getElementById(\"1001\");\n",
       "  if (element == null) {\n",
       "    console.error(\"Bokeh: ERROR: autoload.js configured with elementid '1001' but no matching script tag was found. \")\n",
       "    return false;\n",
       "  }\n",
       "\n",
       "  function inject_raw_css(css) {\n",
       "    const element = document.createElement(\"style\");\n",
       "    element.appendChild(document.createTextNode(css));\n",
       "    document.body.appendChild(element);\n",
       "  }\n",
       "\n",
       "  var js_urls = [\"https://cdn.pydata.org/bokeh/release/bokeh-1.2.0.min.js\", \"https://cdn.pydata.org/bokeh/release/bokeh-widgets-1.2.0.min.js\", \"https://cdn.pydata.org/bokeh/release/bokeh-tables-1.2.0.min.js\", \"https://cdn.pydata.org/bokeh/release/bokeh-gl-1.2.0.min.js\"];\n",
       "  var css_urls = [\"https://cdn.pydata.org/bokeh/release/bokeh-1.2.0.min.css\", \"https://cdn.pydata.org/bokeh/release/bokeh-widgets-1.2.0.min.css\", \"https://cdn.pydata.org/bokeh/release/bokeh-tables-1.2.0.min.css\"];\n",
       "\n",
       "  var inline_js = [\n",
       "    function(Bokeh) {\n",
       "      Bokeh.set_log_level(\"info\");\n",
       "    },\n",
       "    \n",
       "    function(Bokeh) {\n",
       "      \n",
       "    },\n",
       "    function(Bokeh) {} // ensure no trailing comma for IE\n",
       "  ];\n",
       "\n",
       "  function run_inline_js() {\n",
       "    \n",
       "    if ((root.Bokeh !== undefined) || (force === true)) {\n",
       "      for (var i = 0; i < inline_js.length; i++) {\n",
       "        inline_js[i].call(root, root.Bokeh);\n",
       "      }if (force === true) {\n",
       "        display_loaded();\n",
       "      }} else if (Date.now() < root._bokeh_timeout) {\n",
       "      setTimeout(run_inline_js, 100);\n",
       "    } else if (!root._bokeh_failed_load) {\n",
       "      console.log(\"Bokeh: BokehJS failed to load within specified timeout.\");\n",
       "      root._bokeh_failed_load = true;\n",
       "    } else if (force !== true) {\n",
       "      var cell = $(document.getElementById(\"1001\")).parents('.cell').data().cell;\n",
       "      cell.output_area.append_execute_result(NB_LOAD_WARNING)\n",
       "    }\n",
       "\n",
       "  }\n",
       "\n",
       "  if (root._bokeh_is_loading === 0) {\n",
       "    console.debug(\"Bokeh: BokehJS loaded, going straight to plotting\");\n",
       "    run_inline_js();\n",
       "  } else {\n",
       "    load_libs(css_urls, js_urls, function() {\n",
       "      console.debug(\"Bokeh: BokehJS plotting callback run at\", now());\n",
       "      run_inline_js();\n",
       "    });\n",
       "  }\n",
       "}(window));"
      ],
      "application/vnd.bokehjs_load.v0+json": "\n(function(root) {\n  function now() {\n    return new Date();\n  }\n\n  var force = true;\n\n  if (typeof root._bokeh_onload_callbacks === \"undefined\" || force === true) {\n    root._bokeh_onload_callbacks = [];\n    root._bokeh_is_loading = undefined;\n  }\n\n  \n\n  \n  if (typeof (root._bokeh_timeout) === \"undefined\" || force === true) {\n    root._bokeh_timeout = Date.now() + 5000;\n    root._bokeh_failed_load = false;\n  }\n\n  var NB_LOAD_WARNING = {'data': {'text/html':\n     \"<div style='background-color: #fdd'>\\n\"+\n     \"<p>\\n\"+\n     \"BokehJS does not appear to have successfully loaded. If loading BokehJS from CDN, this \\n\"+\n     \"may be due to a slow or bad network connection. Possible fixes:\\n\"+\n     \"</p>\\n\"+\n     \"<ul>\\n\"+\n     \"<li>re-rerun `output_notebook()` to attempt to load from CDN again, or</li>\\n\"+\n     \"<li>use INLINE resources instead, as so:</li>\\n\"+\n     \"</ul>\\n\"+\n     \"<code>\\n\"+\n     \"from bokeh.resources import INLINE\\n\"+\n     \"output_notebook(resources=INLINE)\\n\"+\n     \"</code>\\n\"+\n     \"</div>\"}};\n\n  function display_loaded() {\n    var el = document.getElementById(\"1001\");\n    if (el != null) {\n      el.textContent = \"BokehJS is loading...\";\n    }\n    if (root.Bokeh !== undefined) {\n      if (el != null) {\n        el.textContent = \"BokehJS \" + root.Bokeh.version + \" successfully loaded.\";\n      }\n    } else if (Date.now() < root._bokeh_timeout) {\n      setTimeout(display_loaded, 100)\n    }\n  }\n\n\n  function run_callbacks() {\n    try {\n      root._bokeh_onload_callbacks.forEach(function(callback) {\n        if (callback != null)\n          callback();\n      });\n    } finally {\n      delete root._bokeh_onload_callbacks\n    }\n    console.debug(\"Bokeh: all callbacks have finished\");\n  }\n\n  function load_libs(css_urls, js_urls, callback) {\n    if (css_urls == null) css_urls = [];\n    if (js_urls == null) js_urls = [];\n\n    root._bokeh_onload_callbacks.push(callback);\n    if (root._bokeh_is_loading > 0) {\n      console.debug(\"Bokeh: BokehJS is being loaded, scheduling callback at\", now());\n      return null;\n    }\n    if (js_urls == null || js_urls.length === 0) {\n      run_callbacks();\n      return null;\n    }\n    console.debug(\"Bokeh: BokehJS not loaded, scheduling load and callback at\", now());\n    root._bokeh_is_loading = css_urls.length + js_urls.length;\n\n    function on_load() {\n      root._bokeh_is_loading--;\n      if (root._bokeh_is_loading === 0) {\n        console.debug(\"Bokeh: all BokehJS libraries/stylesheets loaded\");\n        run_callbacks()\n      }\n    }\n\n    function on_error() {\n      console.error(\"failed to load \" + url);\n    }\n\n    for (var i = 0; i < css_urls.length; i++) {\n      var url = css_urls[i];\n      const element = document.createElement(\"link\");\n      element.onload = on_load;\n      element.onerror = on_error;\n      element.rel = \"stylesheet\";\n      element.type = \"text/css\";\n      element.href = url;\n      console.debug(\"Bokeh: injecting link tag for BokehJS stylesheet: \", url);\n      document.body.appendChild(element);\n    }\n\n    for (var i = 0; i < js_urls.length; i++) {\n      var url = js_urls[i];\n      var element = document.createElement('script');\n      element.onload = on_load;\n      element.onerror = on_error;\n      element.async = false;\n      element.src = url;\n      console.debug(\"Bokeh: injecting script tag for BokehJS library: \", url);\n      document.head.appendChild(element);\n    }\n  };var element = document.getElementById(\"1001\");\n  if (element == null) {\n    console.error(\"Bokeh: ERROR: autoload.js configured with elementid '1001' but no matching script tag was found. \")\n    return false;\n  }\n\n  function inject_raw_css(css) {\n    const element = document.createElement(\"style\");\n    element.appendChild(document.createTextNode(css));\n    document.body.appendChild(element);\n  }\n\n  var js_urls = [\"https://cdn.pydata.org/bokeh/release/bokeh-1.2.0.min.js\", \"https://cdn.pydata.org/bokeh/release/bokeh-widgets-1.2.0.min.js\", \"https://cdn.pydata.org/bokeh/release/bokeh-tables-1.2.0.min.js\", \"https://cdn.pydata.org/bokeh/release/bokeh-gl-1.2.0.min.js\"];\n  var css_urls = [\"https://cdn.pydata.org/bokeh/release/bokeh-1.2.0.min.css\", \"https://cdn.pydata.org/bokeh/release/bokeh-widgets-1.2.0.min.css\", \"https://cdn.pydata.org/bokeh/release/bokeh-tables-1.2.0.min.css\"];\n\n  var inline_js = [\n    function(Bokeh) {\n      Bokeh.set_log_level(\"info\");\n    },\n    \n    function(Bokeh) {\n      \n    },\n    function(Bokeh) {} // ensure no trailing comma for IE\n  ];\n\n  function run_inline_js() {\n    \n    if ((root.Bokeh !== undefined) || (force === true)) {\n      for (var i = 0; i < inline_js.length; i++) {\n        inline_js[i].call(root, root.Bokeh);\n      }if (force === true) {\n        display_loaded();\n      }} else if (Date.now() < root._bokeh_timeout) {\n      setTimeout(run_inline_js, 100);\n    } else if (!root._bokeh_failed_load) {\n      console.log(\"Bokeh: BokehJS failed to load within specified timeout.\");\n      root._bokeh_failed_load = true;\n    } else if (force !== true) {\n      var cell = $(document.getElementById(\"1001\")).parents('.cell').data().cell;\n      cell.output_area.append_execute_result(NB_LOAD_WARNING)\n    }\n\n  }\n\n  if (root._bokeh_is_loading === 0) {\n    console.debug(\"Bokeh: BokehJS loaded, going straight to plotting\");\n    run_inline_js();\n  } else {\n    load_libs(css_urls, js_urls, function() {\n      console.debug(\"Bokeh: BokehJS plotting callback run at\", now());\n      run_inline_js();\n    });\n  }\n}(window));"
     },
     "metadata": {},
     "output_type": "display_data"
    }
   ],
   "source": [
    "from bokeh.io import show, output_notebook#,curdoc,save, output_file\n",
    "from bokeh.plotting import figure\n",
    "#from bokeh.models import ColumnDataSource, Range1d, BBoxTileSource\n",
    "#from bokeh.layouts import row\n",
    "output_notebook()"
   ]
  },
  {
   "cell_type": "code",
   "execution_count": 9,
   "metadata": {},
   "outputs": [
    {
     "data": {
      "text/html": [
       "\n",
       "\n",
       "\n",
       "\n",
       "\n",
       "\n",
       "  <div class=\"bk-root\" id=\"ff1e78c5-1f0d-42af-ac88-39ae140e0e22\" data-root-id=\"1002\"></div>\n"
      ]
     },
     "metadata": {},
     "output_type": "display_data"
    },
    {
     "data": {
      "application/javascript": [
       "(function(root) {\n",
       "  function embed_document(root) {\n",
       "    \n",
       "  var docs_json = {\"88176ad4-8f97-4856-b2b8-8fb2110557b3\":{\"roots\":{\"references\":[{\"attributes\":{\"below\":[{\"id\":\"1013\",\"type\":\"LinearAxis\"}],\"center\":[{\"id\":\"1017\",\"type\":\"Grid\"},{\"id\":\"1022\",\"type\":\"Grid\"},{\"id\":\"1047\",\"type\":\"Legend\"}],\"left\":[{\"id\":\"1018\",\"type\":\"LinearAxis\"}],\"plot_height\":500,\"plot_width\":900,\"renderers\":[{\"id\":\"1039\",\"type\":\"GlyphRenderer\"},{\"id\":\"1052\",\"type\":\"GlyphRenderer\"},{\"id\":\"1066\",\"type\":\"GlyphRenderer\"}],\"title\":{\"id\":\"1003\",\"type\":\"Title\"},\"toolbar\":{\"id\":\"1029\",\"type\":\"Toolbar\"},\"x_range\":{\"id\":\"1005\",\"type\":\"DataRange1d\"},\"x_scale\":{\"id\":\"1009\",\"type\":\"LinearScale\"},\"y_range\":{\"id\":\"1007\",\"type\":\"DataRange1d\"},\"y_scale\":{\"id\":\"1011\",\"type\":\"LinearScale\"}},\"id\":\"1002\",\"subtype\":\"Figure\",\"type\":\"Plot\"},{\"attributes\":{\"data_source\":{\"id\":\"1036\",\"type\":\"ColumnDataSource\"},\"glyph\":{\"id\":\"1037\",\"type\":\"Scatter\"},\"hover_glyph\":null,\"muted_glyph\":null,\"nonselection_glyph\":{\"id\":\"1038\",\"type\":\"Scatter\"},\"selection_glyph\":null,\"view\":{\"id\":\"1040\",\"type\":\"CDSView\"}},\"id\":\"1039\",\"type\":\"GlyphRenderer\"},{\"attributes\":{},\"id\":\"1027\",\"type\":\"ResetTool\"},{\"attributes\":{\"data_source\":{\"id\":\"1063\",\"type\":\"ColumnDataSource\"},\"glyph\":{\"id\":\"1064\",\"type\":\"Circle\"},\"hover_glyph\":null,\"muted_glyph\":null,\"nonselection_glyph\":{\"id\":\"1065\",\"type\":\"Circle\"},\"selection_glyph\":null,\"view\":{\"id\":\"1067\",\"type\":\"CDSView\"}},\"id\":\"1066\",\"type\":\"GlyphRenderer\"},{\"attributes\":{},\"id\":\"1042\",\"type\":\"BasicTickFormatter\"},{\"attributes\":{},\"id\":\"1028\",\"type\":\"HelpTool\"},{\"attributes\":{\"source\":{\"id\":\"1063\",\"type\":\"ColumnDataSource\"}},\"id\":\"1067\",\"type\":\"CDSView\"},{\"attributes\":{\"callback\":null},\"id\":\"1005\",\"type\":\"DataRange1d\"},{\"attributes\":{\"active_drag\":\"auto\",\"active_inspect\":\"auto\",\"active_multi\":null,\"active_scroll\":\"auto\",\"active_tap\":\"auto\",\"tools\":[{\"id\":\"1023\",\"type\":\"PanTool\"},{\"id\":\"1024\",\"type\":\"WheelZoomTool\"},{\"id\":\"1025\",\"type\":\"BoxZoomTool\"},{\"id\":\"1026\",\"type\":\"SaveTool\"},{\"id\":\"1027\",\"type\":\"ResetTool\"},{\"id\":\"1028\",\"type\":\"HelpTool\"}]},\"id\":\"1029\",\"type\":\"Toolbar\"},{\"attributes\":{},\"id\":\"1076\",\"type\":\"UnionRenderers\"},{\"attributes\":{\"callback\":null},\"id\":\"1007\",\"type\":\"DataRange1d\"},{\"attributes\":{\"source\":{\"id\":\"1036\",\"type\":\"ColumnDataSource\"}},\"id\":\"1040\",\"type\":\"CDSView\"},{\"attributes\":{\"bottom_units\":\"screen\",\"fill_alpha\":{\"value\":0.5},\"fill_color\":{\"value\":\"lightgrey\"},\"left_units\":\"screen\",\"level\":\"overlay\",\"line_alpha\":{\"value\":1.0},\"line_color\":{\"value\":\"black\"},\"line_dash\":[4,4],\"line_width\":{\"value\":2},\"render_mode\":\"css\",\"right_units\":\"screen\",\"top_units\":\"screen\"},\"id\":\"1046\",\"type\":\"BoxAnnotation\"},{\"attributes\":{},\"id\":\"1077\",\"type\":\"Selection\"},{\"attributes\":{},\"id\":\"1009\",\"type\":\"LinearScale\"},{\"attributes\":{\"label\":{\"value\":\"just lin reg yhat\"},\"renderers\":[{\"id\":\"1066\",\"type\":\"GlyphRenderer\"}]},\"id\":\"1078\",\"type\":\"LegendItem\"},{\"attributes\":{},\"id\":\"1011\",\"type\":\"LinearScale\"},{\"attributes\":{\"fill_alpha\":{\"value\":0.1},\"fill_color\":{\"value\":\"#1f77b4\"},\"line_alpha\":{\"value\":0.1},\"line_color\":{\"value\":\"#1f77b4\"},\"size\":{\"units\":\"screen\",\"value\":10},\"x\":{\"field\":\"x\"},\"y\":{\"field\":\"y\"}},\"id\":\"1038\",\"type\":\"Scatter\"},{\"attributes\":{\"items\":[{\"id\":\"1048\",\"type\":\"LegendItem\"},{\"id\":\"1062\",\"type\":\"LegendItem\"},{\"id\":\"1078\",\"type\":\"LegendItem\"}],\"location\":\"top_left\"},\"id\":\"1047\",\"type\":\"Legend\"},{\"attributes\":{\"axis_label\":\"observations\",\"formatter\":{\"id\":\"1042\",\"type\":\"BasicTickFormatter\"},\"ticker\":{\"id\":\"1014\",\"type\":\"BasicTicker\"}},\"id\":\"1013\",\"type\":\"LinearAxis\"},{\"attributes\":{},\"id\":\"1089\",\"type\":\"UnionRenderers\"},{\"attributes\":{\"label\":{\"value\":\"y\"},\"renderers\":[{\"id\":\"1039\",\"type\":\"GlyphRenderer\"}]},\"id\":\"1048\",\"type\":\"LegendItem\"},{\"attributes\":{},\"id\":\"1014\",\"type\":\"BasicTicker\"},{\"attributes\":{},\"id\":\"1090\",\"type\":\"Selection\"},{\"attributes\":{\"callback\":null,\"data\":{\"x\":{\"__ndarray__\":\"uToc0o1q2L/NX/NrwLTYv/I7U7d4m8C/hmw2JQdM4T/9CwvYxyIAwL9SoXFE3PW/XYS1BNnC4b+pZ11UFm/jv/yM+Dnoses/PM83x1Ig479qTJ7eWmgHwJJFkeFuf+6/Zwh6Wo4Q77+am0bj5EXeP5whP31Mc/y/Tm0UzPD+7T9m+HxJjnziv8REYxRA3uI/rysBtD7S2b948FiQuGXtPxqOwVh+YuU/9LfBzbGe3D9gSVBOT7ziP7JQ+GGXHf4/VgOdfSX+7L/iirt6HuXNvzKBr98Asf2/AwlbWrqm478eZxo5+IH1v9QL8iRwUso/BJiUONvC7L8xD6tuMjz1v0pgGdXHTe2/DuDm5WZk8L8uZ7jq2QnUP6ihWmoFVue/UKXl9GSW+j8QZJRUl0/3v8CcQ+gtsdu/iQ3hGbnI0r9mV0mWxZ7uvxFZkCWp9fi/cPtWt9dtvT+EUIzvx7/tPzoPKxlQyOa/ZcDEbx+S4r+cf8XP2Te4v4w11ey/aNi/Lt7k+Cgk6D8a+9uuSGntPw==\",\"dtype\":\"float64\",\"shape\":[50]},\"y\":{\"__ndarray__\":\"QI75pSKpHEDeJWedAsUcQHbLJuSBmxZAbO8qckz3+T9Ih38n9v4wQLdH7IxOKypAVp73A6FqIEAHEq78ggshQPChVkKdI9W/tpFX3evtIEDHoe1NsHU2QH7N9hqUMyVAKKEaURlqJUB4LbagyDoAQBJ6LFjjHi9AsAnELnRm6L8UeLGBZbAgQFz2Jz9uPvU/Wk3/9EMwHUBAMeuMdc3kv6B1xhhaXOs/+vW5IsN4AUD44NEbcKT1PwiLhXSTxBnA1lfmH9WiJED60ETEehoZQI3LX/HMBjBAx3rkPGogIUB8K8HDdecpQCr1gEBIFg1ApHd45I6MJEAEAyP9CLMpQMBxH/K/wCRAjVSwMH4PJkDdtc9VZusHQGBH0ovLgiJAFscTQk93FMANnpa+TkIrQMWmt4Mx5B1A2XcpbnaLGkC9AWsbWj8lQHox6OdvfyxAH56pEVG5EEB4NdgTzurmvwDgob2OTSJAlBq9tn+4IEDKnpDdMsMVQB+GHx91qBxA0G1B9EKV1T+gdTc/4OLkvw==\",\"dtype\":\"float64\",\"shape\":[50]}},\"selected\":{\"id\":\"1090\",\"type\":\"Selection\"},\"selection_policy\":{\"id\":\"1089\",\"type\":\"UnionRenderers\"}},\"id\":\"1063\",\"type\":\"ColumnDataSource\"},{\"attributes\":{\"ticker\":{\"id\":\"1014\",\"type\":\"BasicTicker\"}},\"id\":\"1017\",\"type\":\"Grid\"},{\"attributes\":{\"fill_alpha\":{\"value\":0.9},\"fill_color\":{\"value\":\"green\"},\"line_alpha\":{\"value\":0.9},\"line_color\":{\"value\":\"green\"},\"size\":{\"units\":\"screen\",\"value\":5},\"x\":{\"field\":\"x\"},\"y\":{\"field\":\"y\"}},\"id\":\"1050\",\"type\":\"Scatter\"},{\"attributes\":{\"formatter\":{\"id\":\"1044\",\"type\":\"BasicTickFormatter\"},\"ticker\":{\"id\":\"1019\",\"type\":\"BasicTicker\"},\"visible\":false},\"id\":\"1018\",\"type\":\"LinearAxis\"},{\"attributes\":{\"fill_alpha\":{\"value\":0.4},\"fill_color\":{\"value\":\"blue\"},\"line_alpha\":{\"value\":0.4},\"line_color\":{\"value\":\"blue\"},\"size\":{\"units\":\"screen\",\"value\":10},\"x\":{\"field\":\"x\"},\"y\":{\"field\":\"y\"}},\"id\":\"1037\",\"type\":\"Scatter\"},{\"attributes\":{\"fill_alpha\":{\"value\":0.1},\"fill_color\":{\"value\":\"#1f77b4\"},\"line_alpha\":{\"value\":0.1},\"line_color\":{\"value\":\"#1f77b4\"},\"size\":{\"units\":\"screen\",\"value\":5},\"x\":{\"field\":\"x\"},\"y\":{\"field\":\"y\"}},\"id\":\"1051\",\"type\":\"Scatter\"},{\"attributes\":{},\"id\":\"1019\",\"type\":\"BasicTicker\"},{\"attributes\":{\"data_source\":{\"id\":\"1049\",\"type\":\"ColumnDataSource\"},\"glyph\":{\"id\":\"1050\",\"type\":\"Scatter\"},\"hover_glyph\":null,\"muted_glyph\":null,\"nonselection_glyph\":{\"id\":\"1051\",\"type\":\"Scatter\"},\"selection_glyph\":null,\"view\":{\"id\":\"1053\",\"type\":\"CDSView\"}},\"id\":\"1052\",\"type\":\"GlyphRenderer\"},{\"attributes\":{\"dimension\":1,\"ticker\":{\"id\":\"1019\",\"type\":\"BasicTicker\"}},\"id\":\"1022\",\"type\":\"Grid\"},{\"attributes\":{\"source\":{\"id\":\"1049\",\"type\":\"ColumnDataSource\"}},\"id\":\"1053\",\"type\":\"CDSView\"},{\"attributes\":{},\"id\":\"1044\",\"type\":\"BasicTickFormatter\"},{\"attributes\":{},\"id\":\"1060\",\"type\":\"UnionRenderers\"},{\"attributes\":{\"fill_alpha\":{\"value\":0.1},\"fill_color\":{\"value\":\"#1f77b4\"},\"line_alpha\":{\"value\":0.1},\"line_color\":{\"value\":\"#1f77b4\"},\"x\":{\"field\":\"x\"},\"y\":{\"field\":\"y\"}},\"id\":\"1065\",\"type\":\"Circle\"},{\"attributes\":{},\"id\":\"1061\",\"type\":\"Selection\"},{\"attributes\":{\"callback\":null,\"data\":{\"x\":{\"__ndarray__\":\"uToc0o1q2L/NX/NrwLTYv/I7U7d4m8C/hmw2JQdM4T/9CwvYxyIAwL9SoXFE3PW/XYS1BNnC4b+pZ11UFm/jv/yM+Dnoses/PM83x1Ig479qTJ7eWmgHwJJFkeFuf+6/Zwh6Wo4Q77+am0bj5EXeP5whP31Mc/y/Tm0UzPD+7T9m+HxJjnziv8REYxRA3uI/rysBtD7S2b948FiQuGXtPxqOwVh+YuU/9LfBzbGe3D9gSVBOT7ziP7JQ+GGXHf4/VgOdfSX+7L/iirt6HuXNvzKBr98Asf2/AwlbWrqm478eZxo5+IH1v9QL8iRwUso/BJiUONvC7L8xD6tuMjz1v0pgGdXHTe2/DuDm5WZk8L8uZ7jq2QnUP6ihWmoFVue/UKXl9GSW+j8QZJRUl0/3v8CcQ+gtsdu/iQ3hGbnI0r9mV0mWxZ7uvxFZkCWp9fi/cPtWt9dtvT+EUIzvx7/tPzoPKxlQyOa/ZcDEbx+S4r+cf8XP2Te4v4w11ey/aNi/Lt7k+Cgk6D8a+9uuSGntPw==\",\"dtype\":\"float64\",\"shape\":[50]},\"y\":{\"__ndarray__\":\"i+5P9sAiG0BaP3Ha/zMaQKtOAv2vOBZA5rGpxNkeAEDQe2Irr6otQMBDNoURqihAXImd4iZQIkAThrQcgZohQODFm1aQF+0/D3oK96m2IUCWzXp2O701QD6dg17vBidAJUMU4C75I0AOiBXZHQIHQAqXZLjh4S9AVlpzhT73+L+veF1yYPEdQG5n8uP00vI/EpOCnwauHED7/1VgpjkFwHhHki+tMAVA5kNXPD/1+r835obXcmX3P9IOPX4u+hvA+dll8wUNIUB81B8oeGYYQKVRwKTvii9AuweXNjzzI0DhZaqdCIwpQEEeorXFjA1AoPbGl3hyKEDttxE7pxYnQLIrBqETxiZAELAmw6fVJkAalfNG91H6P2Aa3eByoiVA9sylN7PMDsDVGl2oaj8qQI5upEgWxxpAdu0jTu+WH0Dqr5wNmbMmQN0/nhUwejBA50yuUufWFEAxqZ8DJAYMwLPHeypqJyNALBiNWgbfHkBUsjtAUq0ZQDqLGQYnvR5AwM+NziQW8D8cSs/BJL/FPw==\",\"dtype\":\"float64\",\"shape\":[50]}},\"selected\":{\"id\":\"1061\",\"type\":\"Selection\"},\"selection_policy\":{\"id\":\"1060\",\"type\":\"UnionRenderers\"}},\"id\":\"1036\",\"type\":\"ColumnDataSource\"},{\"attributes\":{\"label\":{\"value\":\"yhat\"},\"renderers\":[{\"id\":\"1052\",\"type\":\"GlyphRenderer\"}]},\"id\":\"1062\",\"type\":\"LegendItem\"},{\"attributes\":{},\"id\":\"1023\",\"type\":\"PanTool\"},{\"attributes\":{},\"id\":\"1024\",\"type\":\"WheelZoomTool\"},{\"attributes\":{\"text\":\"y and yhat\"},\"id\":\"1003\",\"type\":\"Title\"},{\"attributes\":{\"fill_color\":{\"value\":\"red\"},\"line_color\":{\"value\":\"red\"},\"x\":{\"field\":\"x\"},\"y\":{\"field\":\"y\"}},\"id\":\"1064\",\"type\":\"Circle\"},{\"attributes\":{\"overlay\":{\"id\":\"1046\",\"type\":\"BoxAnnotation\"}},\"id\":\"1025\",\"type\":\"BoxZoomTool\"},{\"attributes\":{\"callback\":null,\"data\":{\"x\":{\"__ndarray__\":\"uToc0o1q2L/NX/NrwLTYv/I7U7d4m8C/hmw2JQdM4T/9CwvYxyIAwL9SoXFE3PW/XYS1BNnC4b+pZ11UFm/jv/yM+Dnoses/PM83x1Ig479qTJ7eWmgHwJJFkeFuf+6/Zwh6Wo4Q77+am0bj5EXeP5whP31Mc/y/Tm0UzPD+7T9m+HxJjnziv8REYxRA3uI/rysBtD7S2b948FiQuGXtPxqOwVh+YuU/9LfBzbGe3D9gSVBOT7ziP7JQ+GGXHf4/VgOdfSX+7L/iirt6HuXNvzKBr98Asf2/AwlbWrqm478eZxo5+IH1v9QL8iRwUso/BJiUONvC7L8xD6tuMjz1v0pgGdXHTe2/DuDm5WZk8L8uZ7jq2QnUP6ihWmoFVue/UKXl9GSW+j8QZJRUl0/3v8CcQ+gtsdu/iQ3hGbnI0r9mV0mWxZ7uvxFZkCWp9fi/cPtWt9dtvT+EUIzvx7/tPzoPKxlQyOa/ZcDEbx+S4r+cf8XP2Te4v4w11ey/aNi/Lt7k+Cgk6D8a+9uuSGntPw==\",\"dtype\":\"float64\",\"shape\":[50]},\"y\":{\"__ndarray__\":\"JawZ9rBAG0AlrBn2sEAbQCWsGfawQBtAJawZ9rBAG0AlrBn2sEAbQCWsGfawQBtAJawZ9rBAG0AlrBn2sEAbQCWsGfawQBtAJawZ9rBAG0AlrBn2sEAbQCWsGfawQBtAkAMAoXG9G0AlrBn2sEAbQCWsGfawQBtAJawZ9rBAG0AlrBn2sEAbQCWsGfawQBtAJawZ9rBAG0AlrBn2sEAbQCWsGfawQBtAJawZ9rBAG0AlrBn2sEAbQCWsGfawQBtAJawZ9rBAG0AlrBn2sEAbQCWsGfawQBtAkAMAoXG9G0AlrBn2sEAbQCWsGfawQBtAJawZ9rBAG0AlrBn2sEAbQCWsGfawQBtAJawZ9rBAG0AlrBn2sEAbQCWsGfawQBtAJawZ9rBAG0AlrBn2sEAbQCWsGfawQBtAJawZ9rBAG0AlrBn2sEAbQCWsGfawQBtAJawZ9rBAG0AlrBn2sEAbQCWsGfawQBtAJawZ9rBAG0AlrBn2sEAbQCWsGfawQBtAJawZ9rBAG0AlrBn2sEAbQA==\",\"dtype\":\"float64\",\"shape\":[50]}},\"selected\":{\"id\":\"1077\",\"type\":\"Selection\"},\"selection_policy\":{\"id\":\"1076\",\"type\":\"UnionRenderers\"}},\"id\":\"1049\",\"type\":\"ColumnDataSource\"},{\"attributes\":{},\"id\":\"1026\",\"type\":\"SaveTool\"}],\"root_ids\":[\"1002\"]},\"title\":\"Bokeh Application\",\"version\":\"1.2.0\"}};\n",
       "  var render_items = [{\"docid\":\"88176ad4-8f97-4856-b2b8-8fb2110557b3\",\"roots\":{\"1002\":\"ff1e78c5-1f0d-42af-ac88-39ae140e0e22\"}}];\n",
       "  root.Bokeh.embed.embed_items_notebook(docs_json, render_items);\n",
       "\n",
       "  }\n",
       "  if (root.Bokeh !== undefined) {\n",
       "    embed_document(root);\n",
       "  } else {\n",
       "    var attempts = 0;\n",
       "    var timer = setInterval(function(root) {\n",
       "      if (root.Bokeh !== undefined) {\n",
       "        embed_document(root);\n",
       "        clearInterval(timer);\n",
       "      }\n",
       "      attempts++;\n",
       "      if (attempts > 100) {\n",
       "        console.log(\"Bokeh: ERROR: Unable to run BokehJS code because BokehJS library is missing\");\n",
       "        clearInterval(timer);\n",
       "      }\n",
       "    }, 10, root)\n",
       "  }\n",
       "})(window);"
      ],
      "application/vnd.bokehjs_exec.v0+json": ""
     },
     "metadata": {
      "application/vnd.bokehjs_exec.v0+json": {
       "id": "1002"
      }
     },
     "output_type": "display_data"
    }
   ],
   "source": [
    "#xgrid=np.linspace(1,n,n)\n",
    "\n",
    "xgrid=x[:,0]\n",
    "yhat=optimized_Ndiff_kernel.yhat_un_std\n",
    "p=figure(title='y and yhat', plot_width=900, plot_height=500)\n",
    "p.xaxis.axis_label = 'observations'\n",
    "p.scatter(xgrid,y,size=10,color='blue',alpha=0.4,legend='y')\n",
    "#p.line(xgrid,precip,color='blue',alpha=0.6,legend='precipitation')\n",
    "p.scatter(xgrid,yhat,size=5,color='green',alpha=0.9,legend='yhat')\n",
    "p.circle(xgrid,just_linreg.yhat,color='red',legend='just lin reg yhat')\n",
    "p.legend.location = \"top_left\"\n",
    "p.yaxis.visible=False\n",
    "show(p)"
   ]
  },
  {
   "cell_type": "code",
   "execution_count": null,
   "metadata": {},
   "outputs": [],
   "source": [
    "yhat.shape"
   ]
  },
  {
   "cell_type": "code",
   "execution_count": 10,
   "metadata": {},
   "outputs": [
    {
     "name": "stdout",
     "output_type": "stream",
     "text": [
      "[6.813175053898736 6.813175053898736 6.813175053898736 6.813175053898736\n",
      " 6.813175053898736 6.813175053898736 6.813175053898736 6.813175053898736\n",
      " 6.813175053898736 6.813175053898736 6.813175053898736 6.813175053898736\n",
      " 6.935003772378778 6.813175053898736 6.813175053898736 6.813175053898736\n",
      " 6.813175053898736 6.813175053898736 6.813175053898736 6.813175053898736\n",
      " 6.813175053898736 6.813175053898736 6.813175053898736 6.813175053898736\n",
      " 6.813175053898736 6.813175053898736 6.813175053898736 6.935003772378778\n",
      " 6.813175053898736 6.813175053898736 6.813175053898736 6.813175053898736\n",
      " 6.813175053898736 6.813175053898736 6.813175053898736 6.813175053898736\n",
      " 6.813175053898736 6.813175053898736 6.813175053898736 6.813175053898736\n",
      " 6.813175053898736 6.813175053898736 6.813175053898736 6.813175053898736\n",
      " 6.813175053898736 6.813175053898736 6.813175053898736 6.813175053898736\n",
      " 6.813175053898736 6.813175053898736]\n"
     ]
    }
   ],
   "source": [
    "print(yhat)"
   ]
  },
  {
   "cell_type": "code",
   "execution_count": 11,
   "metadata": {},
   "outputs": [
    {
     "name": "stdout",
     "output_type": "stream",
     "text": [
      "[ 6.78393922  6.55078069  5.55535884  2.0150638  14.83336769 12.33216492\n",
      "  9.15654667  8.8017663   0.90912644  8.85676548 21.73918858 11.51354499\n",
      "  9.98668576  2.87603349 15.94117523 -1.56036236  7.48571948  1.17650308\n",
      "  7.16994714 -2.65314937  2.64876783 -1.68487476  1.46226772 -6.99431798\n",
      "  8.52543603  6.10006774 15.77135959  9.97506877 12.77350323  3.69373648\n",
      " 12.2235763  11.54424462 11.38686851 11.41729555  1.64501121 10.8172827\n",
      " -3.84995121 13.12386061  6.69442094  7.89739725 11.35077708 16.47729621\n",
      "  5.2098668  -3.50299838  9.57698186  7.71779768  6.41925907  7.68471918\n",
      "  1.0054062   0.16989574]\n"
     ]
    }
   ],
   "source": [
    "print(y)"
   ]
  },
  {
   "cell_type": "code",
   "execution_count": null,
   "metadata": {},
   "outputs": [],
   "source": [
    "ypredict=optimized_Ndiff_kernel.predict_tool(xvalidate,optimized_Ndiff_kernel.mselist[-1][1],modeldict1)\n",
    "predition_err=yvalidate-ypredict\n",
    "prediction_mse=np.mean(prediction_err**2)"
   ]
  },
  {
   "cell_type": "code",
   "execution_count": null,
   "metadata": {},
   "outputs": [],
   "source": [
    "np.ma.count_masked(yhat)"
   ]
  }
 ],
 "metadata": {
  "kernelspec": {
   "display_name": "Python 3",
   "language": "python",
   "name": "python3"
  },
  "language_info": {
   "codemirror_mode": {
    "name": "ipython",
    "version": 3
   },
   "file_extension": ".py",
   "mimetype": "text/x-python",
   "name": "python",
   "nbconvert_exporter": "python",
   "pygments_lexer": "ipython3",
   "version": "3.7.3"
  },
  "pycharm": {
   "stem_cell": {
    "cell_type": "raw",
    "metadata": {
     "collapsed": false
    },
    "source": []
   }
  }
 },
 "nbformat": 4,
 "nbformat_minor": 4
}
