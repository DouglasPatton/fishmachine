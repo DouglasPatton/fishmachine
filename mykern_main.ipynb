{
 "cells": [
  {
   "cell_type": "markdown",
   "metadata": {},
   "source": [
    "### kernel density estimation and kernel regression for prediction\n",
    "This notebook is my first attempt to write down the ddiff and dddiff models that I have been working on"
   ]
  },
  {
   "cell_type": "markdown",
   "metadata": {},
   "source": [
    "mixed recursive/iterative approach (rather than vectorized approach that is harder to generalize\n",
    "- create separate submodules for KDE and KDreg\n",
    "    - develop a system for storing differenced but unweighted data and the appropriate mask to lessen memory usage. \n",
    "        -1's or 0's depending on i/j/k/l/.... values\n",
    "    - figure out the deepest level requested by the user and levels that are less deep are just slices of the deeper model. \n",
    "        -scout out the tree to build the differenced dataset. \n",
    "          \n",
    "        \n",
    " plot and compare\n",
    "on synthetic data, 1, 2, 3+ mixed distributions\n",
    "1d - Ndiff vs gaussian kernel vs kernel_tunneling\n",
    "2d -  \n",
    "\n",
    "\n",
    "multidimensional x problem\n",
    "e.g., parameter treatment\n",
    "\"product kernel approach\" vs l2 \"el two\" (radial basis?)distance "
   ]
  },
  {
   "cell_type": "markdown",
   "metadata": {},
   "source": [
    "#### generate a simple linear dataset y=xb+e\n",
    "##### store validation data from same dataset too"
   ]
  },
  {
   "cell_type": "markdown",
   "metadata": {
    "pycharm": {
     "name": "#%% md\n"
    }
   },
   "source": [
    "### create modeldict\n",
    "- 'Ndiff_type': refers to the mathematical form of Ndiff\n",
    "  - 'product'-Ndiff1 multiplied by Ndiff2\n",
    "  - 'recursive'-Ndiff1's bw is Ndiff 2\n",
    "- max_bw_Ndiff: is the depth of Ndiffs applied in estimating the bandwidth.\n",
    "- 'normalize_Ndiffwtsum':\n",
    "  - 'across' means sum across own level of kernelized-Ndiffs and divide by that sum (CDF approach)\n",
    "  - 'own_n' means for (n+k)diff where n+K=max_bw_Ndiff\n",
    "- Ndiff_bw_kern:\n",
    "  - rbfkern means use the radial basis function kernel\n",
    "  - 'product' means use product kernel like as in liu and yang eq1. \n",
    "- 'regression_model':\n",
    "  - 'NW' means use nadaraya-watson kernel regression\n",
    "  - 'full_logit' means local logit with all variables entering linearly\n",
    "  - 'rbf_logit' means local logit with 1 parameters: scaled l2 norm centered on zero \n",
    " (globally or by i?). Is this a new idea?\n",
    "- outer_x_bw_form: if x is separated into blocks of rvars that are combined within a block using rbf kernel, \n",
    "  - 'one_for_all' - use same hx bw for all blocks\n",
    "  - 'one_per_block' - each block or rvars gets an hx\n",
    "- ykern_grid\n",
    "  - if int, then create int evnely spaced values from -3 to 3 (standard normal middle ~99%)\n",
    "  - 'no' means use original data points (self is masked when predicting self)\n",
    "- xkern_grid\n",
    "  - much like ykern_grid, but used less frequently since x's are typically pre-specified\n",
    "- product_kern_norm: when multiplying kernels across random variables, this parameter determines if each random variable has its kernels normalized before the product or not\n",
    "  - 'self' means each random variable has its kernels divided by the sum of kernels across the nout axis (the number of possibile values y is averaged over, whose probabilities sum to 1)\n",
    "  - 'own_n' means same as self, but divided by count of non-masked items in second to last, nout lenght dimension\n",
    "  - 'none' means no normalization prior to taking products across rvar kernels\n",
    "- hyper_param_form_dict is a nested dictionary\n",
    "  - Ndiff_exponent is the exponent wrapped around typically a sum of kernels for each Ndiff level \n",
    "after level 1 (i.e., (i-j) or centered, obvious/conventional level.)\n",
    "  - x_bandscale is the parameter specific to each variable (each x in X) used for prediction (y)\n",
    "  - Ndiff_depth_bw is used as the kernel's bandwidth (h) at each level of Ndiff including at level 1 \n",
    "  - outer_x_bw vanilla bandwidth for the rbf or product kernel\n",
    "  - outer_y_bw vanilla bandwidth for y"
   ]
  },
  {
   "cell_type": "code",
   "execution_count": 1,
   "metadata": {
    "pycharm": {
     "is_executing": false,
     "name": "#%%\n"
    }
   },
   "outputs": [
    {
     "name": "stdout",
     "output_type": "stream",
     "text": [
      "saved_filename is final_model_save, but does not seem to exist\n",
      "starting at 2019-11-07 08:20:40.476264\n",
      "modeldict:{'Ndiff_type': 'recursive', 'Ndiff_start': 1, 'max_bw_Ndiff': 3, 'normalize_Ndiffwtsum': 'own_n', 'xkern_grid': 'no', 'ykern_grid': 13, 'outer_kern': 'gaussian', 'Ndiff_bw_kern': 'rbfkern', 'outer_x_bw_form': 'one_for_all', 'regression_model': 'NW', 'product_kern_norm': 'self', 'hyper_param_form_dict': {'Ndiff_exponent': 'free', 'x_bandscale': 'non-neg', 'Ndiff_depth_bw': 'non-neg', 'outer_x_bw': 'non-neg', 'outer_y_bw': 'non-neg', 'y_bandscale': 'non-neg'}, 'predict_self_without_self': 'yes'}\n",
      "iter:2 mse:62.501256516454426,saved to model_save at about 2019-11-07 08:20:40.740486 with mse=62.501256516454426\n",
      "iter:3 mse:62.56281369736682,iter:4 mse:61.39684966678252,saved to model_save at about 2019-11-07 08:20:40.975184 with mse=61.38983494072144\n",
      "iter:5 mse:61.38983494072144,iter:6 mse:62.50257352789543,saved to model_save at about 2019-11-07 08:20:41.222893 with mse=62.50257352789543\n",
      "iter:7 mse:62.51661743204146,iter:8 mse:62.491821853522865,saved to model_save at about 2019-11-07 08:20:41.453088 with mse=62.491821853522865\n",
      "iter:9 mse:62.58179508511239,iter:10 mse:62.36267844974343,saved to model_save at about 2019-11-07 08:20:41.690788 with mse=62.36267844974343\n",
      "iter:11 mse:62.80743153255254,iter:12 mse:61.60530032607051,saved to model_save at about 2019-11-07 08:20:41.967522 with mse=61.60530032607051\n",
      "iter:13 mse:62.27906324076791,iter:14 mse:62.31286195300373,saved to model_save at about 2019-11-07 08:20:42.200719 with mse=61.51226420034928\n",
      "iter:15 mse:61.51226420034928,iter:16 mse:61.54015306211382,saved to model_save at about 2019-11-07 08:20:42.440421 with mse=61.54015306211382\n",
      "iter:17 mse:61.574428652649146,iter:18 mse:61.61832135284319,saved to model_save at about 2019-11-07 08:20:42.681625 with mse=61.18058560965796\n",
      "iter:19 mse:61.18058560965796,iter:20 mse:61.089874496190845,saved to model_save at about 2019-11-07 08:20:42.935339 with mse=61.089874496190845\n",
      "iter:21 mse:61.23364005657197,iter:22 mse:61.39570433865752,saved to model_save at about 2019-11-07 08:20:43.178545 with mse=61.23372898166506\n",
      "iter:23 mse:61.23372898166506,iter:24 mse:61.36603999183943,saved to model_save at about 2019-11-07 08:20:43.421250 with mse=61.24691521013968\n",
      "iter:25 mse:61.24691521013968,iter:26 mse:61.21482334899619,saved to model_save at about 2019-11-07 08:20:43.650943 with mse=61.17759200491306\n",
      "iter:27 mse:61.17759200491306,iter:28 mse:61.080205291607015,saved to model_save at about 2019-11-07 08:20:43.890646 with mse=61.00959581693506\n",
      "iter:29 mse:61.00959581693506,iter:30 mse:61.1492661303153,saved to model_save at about 2019-11-07 08:20:44.126344 with mse=60.98857970906291\n",
      "iter:31 mse:60.98857970906291,iter:32 mse:60.91891981303876,saved to model_save at about 2019-11-07 08:20:44.373553 with mse=60.3003948616621\n",
      "iter:33 mse:60.3003948616621,iter:34 mse:59.91440835816273,saved to model_save at about 2019-11-07 08:20:44.614256 with mse=59.91440835816273\n",
      "iter:35 mse:60.75548465723469,iter:36 mse:60.80908765568145,saved to model_save at about 2019-11-07 08:20:44.861966 with mse=60.80908765568145\n",
      "iter:37 mse:60.88603873777008,iter:38 mse:60.284899751213096,saved to model_save at about 2019-11-07 08:20:45.103169 with mse=59.9210538398862\n",
      "iter:39 mse:59.9210538398862,iter:40 mse:58.57694414008204,saved to model_save at about 2019-11-07 08:20:45.358384 with mse=58.57694414008204\n",
      "iter:41 mse:59.22674693346053,iter:42 mse:59.70388192036764,saved to model_save at about 2019-11-07 08:20:45.599588 with mse=59.215600324031875\n",
      "iter:43 mse:59.215600324031875,iter:44 mse:58.48755409606599,saved to model_save at about 2019-11-07 08:20:45.869316 with mse=57.98610910013897\n",
      "iter:45 mse:57.98610910013897,iter:46 mse:57.905164992332104,saved to model_save at about 2019-11-07 08:20:46.121529 with mse=57.424917629168775\n",
      "iter:47 mse:57.424917629168775,iter:48 mse:56.73131656456965,saved to model_save at about 2019-11-07 08:20:46.369738 with mse=56.00715374490958\n",
      "iter:49 mse:56.00715374490958,iter:50 mse:55.29336901360418,saved to model_save at about 2019-11-07 08:20:46.601935 with mse=54.308595591954116\n",
      "iter:51 mse:54.308595591954116,iter:52 mse:55.23382403422026,saved to model_save at about 2019-11-07 08:20:46.855649 with mse=54.63126669403007\n",
      "iter:53 mse:54.63126669403007,iter:54 mse:56.07808296951973,saved to model_save at about 2019-11-07 08:20:47.100355 with mse=53.2098709053967\n",
      "iter:55 mse:53.2098709053967,iter:56 mse:52.6959026654051,saved to model_save at about 2019-11-07 08:20:47.365078 with mse=52.45170234185824\n",
      "iter:57 mse:52.45170234185824,iter:58 mse:51.98553200648191,saved to model_save at about 2019-11-07 08:20:47.609285 with mse=50.04328511916667\n",
      "iter:59 mse:50.04328511916667,iter:60 mse:49.04114322995511,saved to model_save at about 2019-11-07 08:20:47.859996 with mse=49.04114322995511\n",
      "iter:61 mse:50.2320115057119,iter:62 mse:47.82751145967206,saved to model_save at about 2019-11-07 08:20:48.113711 with mse=46.81810469158386\n",
      "iter:63 mse:46.81810469158386,iter:64 mse:51.337672524451456,saved to model_save at about 2019-11-07 08:20:48.363421 with mse=47.9611562766958\n",
      "iter:65 mse:47.9611562766958,iter:66 mse:47.65092799554523,saved to model_save at about 2019-11-07 08:20:48.620638 with mse=47.539538656821044\n",
      "iter:67 mse:47.539538656821044,iter:68 mse:47.633366192482015,saved to model_save at about 2019-11-07 08:20:48.870349 with mse=45.15588837436385\n",
      "iter:69 mse:45.15588837436385,iter:70 mse:44.49149052239444,saved to model_save at about 2019-11-07 08:20:49.124564 with mse=44.10012524301444\n",
      "iter:71 mse:44.10012524301444,iter:72 mse:43.42515240326094,saved to model_save at about 2019-11-07 08:20:49.380780 with mse=43.42515240326094\n",
      "iter:73 mse:50.208598275979654,iter:74 mse:43.18174798398046,saved to model_save at about 2019-11-07 08:20:49.655012 with mse=42.6877418599469\n",
      "iter:75 mse:42.6877418599469,iter:76 mse:49.15319520251748,saved to model_save at about 2019-11-07 08:20:49.896215 with mse=48.115729112181995\n",
      "iter:77 mse:48.115729112181995,iter:78 mse:44.831156302709005,saved to model_save at about 2019-11-07 08:20:50.157944 with mse=44.831156302709005\n",
      "iter:79 mse:50.331694912624954,iter:80 mse:47.25847388957615,saved to model_save at about 2019-11-07 08:20:50.421166 with mse=43.9547842610118\n",
      "iter:81 mse:43.9547842610118,iter:82 mse:43.23832131736249,saved to model_save at about 2019-11-07 08:20:50.679884 with mse=42.25470272331029\n",
      "iter:83 mse:42.25470272331029,iter:84 mse:41.84596603460424,saved to model_save at about 2019-11-07 08:20:50.929095 with mse=41.49218320594893\n",
      "iter:85 mse:41.49218320594893,iter:86 mse:41.145230455124576,saved to model_save at about 2019-11-07 08:20:51.185311 with mse=40.583842620507056\n",
      "iter:87 mse:40.583842620507056,iter:88 mse:40.157300816770224,saved to model_save at about 2019-11-07 08:20:51.435522 with mse=40.157300816770224\n",
      "iter:89 mse:40.895151514178025,iter:90 mse:40.78457595084326,saved to model_save at about 2019-11-07 08:20:51.715759 with mse=40.44752056335269\n",
      "iter:91 mse:40.44752056335269,iter:92 mse:39.93718756883957,saved to model_save at about 2019-11-07 08:20:51.964969 with mse=39.78303526832228\n",
      "iter:93 mse:39.78303526832228,iter:94 mse:39.90605040185898,saved to model_save at about 2019-11-07 08:20:52.255714 with mse=39.59557124540628\n",
      "iter:95 mse:39.59557124540628,iter:96 mse:39.51601315326452,saved to model_save at about 2019-11-07 08:20:52.510930 with mse=39.51601315326452\n",
      "iter:97 mse:39.68211166656912,iter:98 mse:39.54336075928093,saved to model_save at about 2019-11-07 08:20:52.767646 with mse=39.34521372368151\n",
      "iter:99 mse:39.34521372368151,iter:100 mse:39.32403037713871,saved to model_save at about 2019-11-07 08:20:53.014355 with mse=39.32403037713871\n",
      "iter:101 mse:42.81333043073267,iter:102 mse:40.33643098010771,saved to model_save at about 2019-11-07 08:20:53.278077 with mse=38.98375631842411\n",
      "iter:103 mse:38.98375631842411,iter:104 mse:38.91145024685743,saved to model_save at about 2019-11-07 08:20:53.543799 with mse=38.91145024685743\n",
      "iter:105 mse:47.3919809504672,iter:106 mse:40.09428939501383,saved to model_save at about 2019-11-07 08:20:53.820157 with mse=40.09428939501383\n",
      "iter:107 mse:47.62880635281569,iter:108 mse:39.95963352474532,saved to model_save at about 2019-11-07 08:20:54.092384 with mse=39.95963352474532\n",
      "iter:109 mse:40.004215894388665,iter:110 mse:39.23889263988319,saved to model_save at about 2019-11-07 08:20:54.369616 with mse=39.23889263988319\n",
      "iter:111 mse:42.90662164420647,iter:112 mse:39.79953213901639,saved to model_save at about 2019-11-07 08:20:54.672370 with mse=39.21063939385565\n",
      "iter:113 mse:39.21063939385565,iter:114 mse:39.294640835599,saved to model_save at about 2019-11-07 08:20:54.941095 with mse=39.02069190393988\n",
      "iter:115 mse:39.02069190393988,"
     ]
    },
    {
     "ename": "KeyboardInterrupt",
     "evalue": "",
     "output_type": "error",
     "traceback": [
      "\u001b[1;31m---------------------------------------------------------------------------\u001b[0m",
      "\u001b[1;31mKeyboardInterrupt\u001b[0m                         Traceback (most recent call last)",
      "\u001b[1;32m<ipython-input-1-47fb9707168d>\u001b[0m in \u001b[0;36m<module>\u001b[1;34m\u001b[0m\n\u001b[0;32m     24\u001b[0m \u001b[1;33m\u001b[0m\u001b[0m\n\u001b[0;32m     25\u001b[0m \u001b[1;33m\u001b[0m\u001b[0m\n\u001b[1;32m---> 26\u001b[1;33m \u001b[0mquad_misspec\u001b[0m\u001b[1;33m=\u001b[0m\u001b[0mkc\u001b[0m\u001b[1;33m.\u001b[0m\u001b[0mDoKernelOpt\u001b[0m\u001b[1;33m(\u001b[0m\u001b[0mdatagen_dict_override\u001b[0m\u001b[1;33m=\u001b[0m\u001b[0mdatagen_dict_override\u001b[0m\u001b[1;33m,\u001b[0m \u001b[0mopt_dict_override\u001b[0m\u001b[1;33m=\u001b[0m\u001b[0mopt_dict_override\u001b[0m\u001b[1;33m)\u001b[0m\u001b[1;33m\u001b[0m\u001b[1;33m\u001b[0m\u001b[0m\n\u001b[0m\u001b[0;32m     27\u001b[0m \u001b[0mprint\u001b[0m\u001b[1;33m(\u001b[0m\u001b[0mquad_misspec\u001b[0m\u001b[1;33m.\u001b[0m\u001b[0moptimizer_obj\u001b[0m\u001b[1;33m)\u001b[0m\u001b[1;33m\u001b[0m\u001b[1;33m\u001b[0m\u001b[0m\n\u001b[0;32m     28\u001b[0m '''\n",
      "\u001b[1;32m~\\gits\\kernelkernel\\kernelcompare.py\u001b[0m in \u001b[0;36m__init__\u001b[1;34m(self, datagen_dict_override, opt_dict_override)\u001b[0m\n\u001b[0;32m     17\u001b[0m         \u001b[0moptimizedict\u001b[0m\u001b[1;33m=\u001b[0m\u001b[0mself\u001b[0m\u001b[1;33m.\u001b[0m\u001b[0moptimizedict\u001b[0m\u001b[1;33m\u001b[0m\u001b[1;33m\u001b[0m\u001b[0m\n\u001b[0;32m     18\u001b[0m         \u001b[0moptimizedict\u001b[0m\u001b[1;33m=\u001b[0m\u001b[0mself\u001b[0m\u001b[1;33m.\u001b[0m\u001b[0mrun_opt_complete_check\u001b[0m\u001b[1;33m(\u001b[0m\u001b[0my\u001b[0m\u001b[1;33m,\u001b[0m\u001b[0mx\u001b[0m\u001b[1;33m,\u001b[0m\u001b[0moptimizedict\u001b[0m\u001b[1;33m,\u001b[0m\u001b[0mreplace\u001b[0m\u001b[1;33m=\u001b[0m\u001b[1;36m1\u001b[0m\u001b[1;33m)\u001b[0m\u001b[1;33m\u001b[0m\u001b[1;33m\u001b[0m\u001b[0m\n\u001b[1;32m---> 19\u001b[1;33m         \u001b[0mself\u001b[0m\u001b[1;33m.\u001b[0m\u001b[0moptimizer_obj\u001b[0m\u001b[1;33m=\u001b[0m\u001b[0mself\u001b[0m\u001b[1;33m.\u001b[0m\u001b[0mrun_optimization\u001b[0m\u001b[1;33m(\u001b[0m\u001b[0my\u001b[0m\u001b[1;33m,\u001b[0m\u001b[0mx\u001b[0m\u001b[1;33m,\u001b[0m\u001b[0moptimizedict\u001b[0m\u001b[1;33m)\u001b[0m\u001b[1;33m\u001b[0m\u001b[1;33m\u001b[0m\u001b[0m\n\u001b[0m\u001b[0;32m     20\u001b[0m \u001b[1;33m\u001b[0m\u001b[0m\n\u001b[0;32m     21\u001b[0m \u001b[1;33m\u001b[0m\u001b[0m\n",
      "\u001b[1;32m~\\gits\\kernelkernel\\kernelcompare.py\u001b[0m in \u001b[0;36mrun_optimization\u001b[1;34m(self, y, x, optimizedict)\u001b[0m\n\u001b[0;32m     83\u001b[0m         \u001b[0mstart_msg\u001b[0m\u001b[1;33m=\u001b[0m\u001b[1;34mf'starting at {dt.datetime.now()}'\u001b[0m\u001b[1;33m\u001b[0m\u001b[1;33m\u001b[0m\u001b[0m\n\u001b[0;32m     84\u001b[0m         \u001b[0mprint\u001b[0m\u001b[1;33m(\u001b[0m\u001b[0mstart_msg\u001b[0m\u001b[1;33m)\u001b[0m\u001b[1;33m\u001b[0m\u001b[1;33m\u001b[0m\u001b[0m\n\u001b[1;32m---> 85\u001b[1;33m         \u001b[1;32mreturn\u001b[0m \u001b[0mmk\u001b[0m\u001b[1;33m.\u001b[0m\u001b[0moptimize_free_params\u001b[0m\u001b[1;33m(\u001b[0m\u001b[0my\u001b[0m\u001b[1;33m,\u001b[0m\u001b[0mx\u001b[0m\u001b[1;33m,\u001b[0m\u001b[0moptimizedict\u001b[0m\u001b[1;33m)\u001b[0m\u001b[1;33m\u001b[0m\u001b[1;33m\u001b[0m\u001b[0m\n\u001b[0m\u001b[0;32m     86\u001b[0m \u001b[1;33m\u001b[0m\u001b[0m\n\u001b[0;32m     87\u001b[0m     \u001b[1;32mdef\u001b[0m \u001b[0mdo_dict_override\u001b[0m\u001b[1;33m(\u001b[0m\u001b[0mself\u001b[0m\u001b[1;33m,\u001b[0m\u001b[0mold_dict\u001b[0m\u001b[1;33m,\u001b[0m\u001b[0mnew_dict\u001b[0m\u001b[1;33m,\u001b[0m\u001b[0mverbose\u001b[0m\u001b[1;33m=\u001b[0m\u001b[1;32mNone\u001b[0m\u001b[1;33m)\u001b[0m\u001b[1;33m:\u001b[0m\u001b[1;31m#key:values in old_dict replaced by any matching keys in new_dict, otherwise old_dict is left the same and returned.\u001b[0m\u001b[1;33m\u001b[0m\u001b[1;33m\u001b[0m\u001b[0m\n",
      "\u001b[1;32m~\\gits\\kernelkernel\\mykern.py\u001b[0m in \u001b[0;36m__init__\u001b[1;34m(self, ydata, xdata, optimizedict)\u001b[0m\n\u001b[0;32m    673\u001b[0m         \u001b[0margs_tuple\u001b[0m\u001b[1;33m=\u001b[0m\u001b[1;33m(\u001b[0m\u001b[0mself\u001b[0m\u001b[1;33m.\u001b[0m\u001b[0myin\u001b[0m\u001b[1;33m,\u001b[0m \u001b[0mself\u001b[0m\u001b[1;33m.\u001b[0m\u001b[0myout\u001b[0m\u001b[1;33m,\u001b[0m \u001b[0mself\u001b[0m\u001b[1;33m.\u001b[0m\u001b[0mxin\u001b[0m\u001b[1;33m,\u001b[0m \u001b[0mself\u001b[0m\u001b[1;33m.\u001b[0m\u001b[0mxpr\u001b[0m\u001b[1;33m,\u001b[0m \u001b[0mmodeldict\u001b[0m\u001b[1;33m,\u001b[0m \u001b[0mfixed_or_free_paramdict\u001b[0m\u001b[1;33m)\u001b[0m\u001b[1;33m\u001b[0m\u001b[1;33m\u001b[0m\u001b[0m\n\u001b[0;32m    674\u001b[0m         \u001b[0mprint\u001b[0m\u001b[1;33m(\u001b[0m\u001b[1;34mf'modeldict:{modeldict}'\u001b[0m\u001b[1;33m)\u001b[0m\u001b[1;33m\u001b[0m\u001b[1;33m\u001b[0m\u001b[0m\n\u001b[1;32m--> 675\u001b[1;33m         \u001b[0mself\u001b[0m\u001b[1;33m.\u001b[0m\u001b[0mminimized\u001b[0m\u001b[1;33m=\u001b[0m\u001b[0mminimize\u001b[0m\u001b[1;33m(\u001b[0m\u001b[0mself\u001b[0m\u001b[1;33m.\u001b[0m\u001b[0mMY_KDEpredictMSE\u001b[0m\u001b[1;33m,\u001b[0m \u001b[0mfree_params\u001b[0m\u001b[1;33m,\u001b[0m \u001b[0margs\u001b[0m\u001b[1;33m=\u001b[0m\u001b[0margs_tuple\u001b[0m\u001b[1;33m,\u001b[0m \u001b[0mmethod\u001b[0m\u001b[1;33m=\u001b[0m\u001b[0mmethod\u001b[0m\u001b[1;33m,\u001b[0m \u001b[0moptions\u001b[0m\u001b[1;33m=\u001b[0m\u001b[0mopt_method_options\u001b[0m\u001b[1;33m)\u001b[0m\u001b[1;33m\u001b[0m\u001b[1;33m\u001b[0m\u001b[0m\n\u001b[0m\u001b[0;32m    676\u001b[0m         \u001b[0mlastmse\u001b[0m\u001b[1;33m=\u001b[0m\u001b[0mself\u001b[0m\u001b[1;33m.\u001b[0m\u001b[0mmselist\u001b[0m\u001b[1;33m[\u001b[0m\u001b[1;33m-\u001b[0m\u001b[1;36m1\u001b[0m\u001b[1;33m]\u001b[0m\u001b[1;33m[\u001b[0m\u001b[1;36m0\u001b[0m\u001b[1;33m]\u001b[0m\u001b[1;33m\u001b[0m\u001b[1;33m\u001b[0m\u001b[0m\n\u001b[0;32m    677\u001b[0m         \u001b[0mlastparamdict\u001b[0m\u001b[1;33m=\u001b[0m\u001b[0mself\u001b[0m\u001b[1;33m.\u001b[0m\u001b[0mmselist\u001b[0m\u001b[1;33m[\u001b[0m\u001b[1;33m-\u001b[0m\u001b[1;36m1\u001b[0m\u001b[1;33m]\u001b[0m\u001b[1;33m[\u001b[0m\u001b[1;36m1\u001b[0m\u001b[1;33m]\u001b[0m\u001b[1;33m\u001b[0m\u001b[1;33m\u001b[0m\u001b[0m\n",
      "\u001b[1;32m~\\AppData\\Local\\Continuum\\anaconda3\\lib\\site-packages\\scipy\\optimize\\_minimize.py\u001b[0m in \u001b[0;36mminimize\u001b[1;34m(fun, x0, args, method, jac, hess, hessp, bounds, constraints, tol, callback, options)\u001b[0m\n\u001b[0;32m    586\u001b[0m                       callback=callback, **options)\n\u001b[0;32m    587\u001b[0m     \u001b[1;32melif\u001b[0m \u001b[0mmeth\u001b[0m \u001b[1;33m==\u001b[0m \u001b[1;34m'nelder-mead'\u001b[0m\u001b[1;33m:\u001b[0m\u001b[1;33m\u001b[0m\u001b[1;33m\u001b[0m\u001b[0m\n\u001b[1;32m--> 588\u001b[1;33m         \u001b[1;32mreturn\u001b[0m \u001b[0m_minimize_neldermead\u001b[0m\u001b[1;33m(\u001b[0m\u001b[0mfun\u001b[0m\u001b[1;33m,\u001b[0m \u001b[0mx0\u001b[0m\u001b[1;33m,\u001b[0m \u001b[0margs\u001b[0m\u001b[1;33m,\u001b[0m \u001b[0mcallback\u001b[0m\u001b[1;33m,\u001b[0m \u001b[1;33m**\u001b[0m\u001b[0moptions\u001b[0m\u001b[1;33m)\u001b[0m\u001b[1;33m\u001b[0m\u001b[1;33m\u001b[0m\u001b[0m\n\u001b[0m\u001b[0;32m    589\u001b[0m     \u001b[1;32melif\u001b[0m \u001b[0mmeth\u001b[0m \u001b[1;33m==\u001b[0m \u001b[1;34m'powell'\u001b[0m\u001b[1;33m:\u001b[0m\u001b[1;33m\u001b[0m\u001b[1;33m\u001b[0m\u001b[0m\n\u001b[0;32m    590\u001b[0m         \u001b[1;32mreturn\u001b[0m \u001b[0m_minimize_powell\u001b[0m\u001b[1;33m(\u001b[0m\u001b[0mfun\u001b[0m\u001b[1;33m,\u001b[0m \u001b[0mx0\u001b[0m\u001b[1;33m,\u001b[0m \u001b[0margs\u001b[0m\u001b[1;33m,\u001b[0m \u001b[0mcallback\u001b[0m\u001b[1;33m,\u001b[0m \u001b[1;33m**\u001b[0m\u001b[0moptions\u001b[0m\u001b[1;33m)\u001b[0m\u001b[1;33m\u001b[0m\u001b[1;33m\u001b[0m\u001b[0m\n",
      "\u001b[1;32m~\\AppData\\Local\\Continuum\\anaconda3\\lib\\site-packages\\scipy\\optimize\\optimize.py\u001b[0m in \u001b[0;36m_minimize_neldermead\u001b[1;34m(func, x0, args, callback, maxiter, maxfev, disp, return_all, initial_simplex, xatol, fatol, adaptive, **unknown_options)\u001b[0m\n\u001b[0;32m    599\u001b[0m         \u001b[0mxbar\u001b[0m \u001b[1;33m=\u001b[0m \u001b[0mnumpy\u001b[0m\u001b[1;33m.\u001b[0m\u001b[0madd\u001b[0m\u001b[1;33m.\u001b[0m\u001b[0mreduce\u001b[0m\u001b[1;33m(\u001b[0m\u001b[0msim\u001b[0m\u001b[1;33m[\u001b[0m\u001b[1;33m:\u001b[0m\u001b[1;33m-\u001b[0m\u001b[1;36m1\u001b[0m\u001b[1;33m]\u001b[0m\u001b[1;33m,\u001b[0m \u001b[1;36m0\u001b[0m\u001b[1;33m)\u001b[0m \u001b[1;33m/\u001b[0m \u001b[0mN\u001b[0m\u001b[1;33m\u001b[0m\u001b[1;33m\u001b[0m\u001b[0m\n\u001b[0;32m    600\u001b[0m         \u001b[0mxr\u001b[0m \u001b[1;33m=\u001b[0m \u001b[1;33m(\u001b[0m\u001b[1;36m1\u001b[0m \u001b[1;33m+\u001b[0m \u001b[0mrho\u001b[0m\u001b[1;33m)\u001b[0m \u001b[1;33m*\u001b[0m \u001b[0mxbar\u001b[0m \u001b[1;33m-\u001b[0m \u001b[0mrho\u001b[0m \u001b[1;33m*\u001b[0m \u001b[0msim\u001b[0m\u001b[1;33m[\u001b[0m\u001b[1;33m-\u001b[0m\u001b[1;36m1\u001b[0m\u001b[1;33m]\u001b[0m\u001b[1;33m\u001b[0m\u001b[1;33m\u001b[0m\u001b[0m\n\u001b[1;32m--> 601\u001b[1;33m         \u001b[0mfxr\u001b[0m \u001b[1;33m=\u001b[0m \u001b[0mfunc\u001b[0m\u001b[1;33m(\u001b[0m\u001b[0mxr\u001b[0m\u001b[1;33m)\u001b[0m\u001b[1;33m\u001b[0m\u001b[1;33m\u001b[0m\u001b[0m\n\u001b[0m\u001b[0;32m    602\u001b[0m         \u001b[0mdoshrink\u001b[0m \u001b[1;33m=\u001b[0m \u001b[1;36m0\u001b[0m\u001b[1;33m\u001b[0m\u001b[1;33m\u001b[0m\u001b[0m\n\u001b[0;32m    603\u001b[0m \u001b[1;33m\u001b[0m\u001b[0m\n",
      "\u001b[1;32m~\\AppData\\Local\\Continuum\\anaconda3\\lib\\site-packages\\scipy\\optimize\\optimize.py\u001b[0m in \u001b[0;36mfunction_wrapper\u001b[1;34m(*wrapper_args)\u001b[0m\n\u001b[0;32m    324\u001b[0m     \u001b[1;32mdef\u001b[0m \u001b[0mfunction_wrapper\u001b[0m\u001b[1;33m(\u001b[0m\u001b[1;33m*\u001b[0m\u001b[0mwrapper_args\u001b[0m\u001b[1;33m)\u001b[0m\u001b[1;33m:\u001b[0m\u001b[1;33m\u001b[0m\u001b[1;33m\u001b[0m\u001b[0m\n\u001b[0;32m    325\u001b[0m         \u001b[0mncalls\u001b[0m\u001b[1;33m[\u001b[0m\u001b[1;36m0\u001b[0m\u001b[1;33m]\u001b[0m \u001b[1;33m+=\u001b[0m \u001b[1;36m1\u001b[0m\u001b[1;33m\u001b[0m\u001b[1;33m\u001b[0m\u001b[0m\n\u001b[1;32m--> 326\u001b[1;33m         \u001b[1;32mreturn\u001b[0m \u001b[0mfunction\u001b[0m\u001b[1;33m(\u001b[0m\u001b[1;33m*\u001b[0m\u001b[1;33m(\u001b[0m\u001b[0mwrapper_args\u001b[0m \u001b[1;33m+\u001b[0m \u001b[0margs\u001b[0m\u001b[1;33m)\u001b[0m\u001b[1;33m)\u001b[0m\u001b[1;33m\u001b[0m\u001b[1;33m\u001b[0m\u001b[0m\n\u001b[0m\u001b[0;32m    327\u001b[0m \u001b[1;33m\u001b[0m\u001b[0m\n\u001b[0;32m    328\u001b[0m     \u001b[1;32mreturn\u001b[0m \u001b[0mncalls\u001b[0m\u001b[1;33m,\u001b[0m \u001b[0mfunction_wrapper\u001b[0m\u001b[1;33m\u001b[0m\u001b[1;33m\u001b[0m\u001b[0m\n",
      "\u001b[1;32m~\\gits\\kernelkernel\\mykern.py\u001b[0m in \u001b[0;36mMY_KDEpredictMSE\u001b[1;34m(self, free_params, yin, yout, xin, xpr, modeldict, fixed_or_free_paramdict)\u001b[0m\n\u001b[0;32m    450\u001b[0m \u001b[1;33m\u001b[0m\u001b[0m\n\u001b[0;32m    451\u001b[0m \u001b[1;33m\u001b[0m\u001b[0m\n\u001b[1;32m--> 452\u001b[1;33m         \u001b[0myhat_un_std\u001b[0m\u001b[1;33m=\u001b[0m\u001b[0mself\u001b[0m\u001b[1;33m.\u001b[0m\u001b[0mMY_KDEpredict\u001b[0m\u001b[1;33m(\u001b[0m\u001b[0myin\u001b[0m\u001b[1;33m,\u001b[0m\u001b[0myout\u001b[0m\u001b[1;33m,\u001b[0m\u001b[0mxin\u001b[0m\u001b[1;33m,\u001b[0m\u001b[0mxpr\u001b[0m\u001b[1;33m,\u001b[0m\u001b[0mmodeldict\u001b[0m\u001b[1;33m,\u001b[0m\u001b[0mfixed_or_free_paramdict\u001b[0m\u001b[1;33m)\u001b[0m\u001b[1;33m\u001b[0m\u001b[1;33m\u001b[0m\u001b[0m\n\u001b[0m\u001b[0;32m    453\u001b[0m         \u001b[0my_err\u001b[0m\u001b[1;33m=\u001b[0m\u001b[0mself\u001b[0m\u001b[1;33m.\u001b[0m\u001b[0mydata\u001b[0m\u001b[1;33m-\u001b[0m\u001b[0myhat_un_std\u001b[0m\u001b[1;33m\u001b[0m\u001b[1;33m\u001b[0m\u001b[0m\n\u001b[0;32m    454\u001b[0m         \u001b[0mmse\u001b[0m\u001b[1;33m=\u001b[0m \u001b[0mnp\u001b[0m\u001b[1;33m.\u001b[0m\u001b[0mmean\u001b[0m\u001b[1;33m(\u001b[0m\u001b[0mnp\u001b[0m\u001b[1;33m.\u001b[0m\u001b[0mpower\u001b[0m\u001b[1;33m(\u001b[0m\u001b[0my_err\u001b[0m\u001b[1;33m,\u001b[0m\u001b[1;36m2\u001b[0m\u001b[1;33m)\u001b[0m\u001b[1;33m)\u001b[0m\u001b[1;33m\u001b[0m\u001b[1;33m\u001b[0m\u001b[0m\n",
      "\u001b[1;32m~\\gits\\kernelkernel\\mykern.py\u001b[0m in \u001b[0;36mMY_KDEpredict\u001b[1;34m(self, yin, yout, xin, xpr, modeldict, fixed_or_free_paramdict)\u001b[0m\n\u001b[0;32m    552\u001b[0m \u001b[1;33m\u001b[0m\u001b[0m\n\u001b[0;32m    553\u001b[0m         \u001b[0mxbw\u001b[0m \u001b[1;33m=\u001b[0m \u001b[0mself\u001b[0m\u001b[1;33m.\u001b[0m\u001b[0mBWmaker\u001b[0m\u001b[1;33m(\u001b[0m\u001b[0mmax_bw_Ndiff\u001b[0m\u001b[1;33m,\u001b[0m \u001b[0mfixed_or_free_paramdict\u001b[0m\u001b[1;33m,\u001b[0m \u001b[0mdiffdict\u001b[0m\u001b[1;33m,\u001b[0m \u001b[0mmodeldict\u001b[0m\u001b[1;33m,\u001b[0m\u001b[1;34m'x'\u001b[0m\u001b[1;33m)\u001b[0m\u001b[1;33m\u001b[0m\u001b[1;33m\u001b[0m\u001b[0m\n\u001b[1;32m--> 554\u001b[1;33m         \u001b[0mybw\u001b[0m \u001b[1;33m=\u001b[0m \u001b[0mself\u001b[0m\u001b[1;33m.\u001b[0m\u001b[0mBWmaker\u001b[0m\u001b[1;33m(\u001b[0m\u001b[0mmax_bw_Ndiff\u001b[0m\u001b[1;33m,\u001b[0m \u001b[0mfixed_or_free_paramdict\u001b[0m\u001b[1;33m,\u001b[0m \u001b[0mdiffdict\u001b[0m\u001b[1;33m[\u001b[0m\u001b[1;34m'ydiffdict'\u001b[0m\u001b[1;33m]\u001b[0m\u001b[1;33m,\u001b[0m\u001b[0mmodeldict\u001b[0m\u001b[1;33m,\u001b[0m\u001b[1;34m'y'\u001b[0m\u001b[1;33m)\u001b[0m\u001b[1;33m\u001b[0m\u001b[1;33m\u001b[0m\u001b[0m\n\u001b[0m\u001b[0;32m    555\u001b[0m \u001b[1;33m\u001b[0m\u001b[0m\n\u001b[0;32m    556\u001b[0m         \u001b[0mhx\u001b[0m\u001b[1;33m=\u001b[0m\u001b[0mself\u001b[0m\u001b[1;33m.\u001b[0m\u001b[0mpull_value_from_fixed_or_free\u001b[0m\u001b[1;33m(\u001b[0m\u001b[1;34m'outer_x_bw'\u001b[0m\u001b[1;33m,\u001b[0m \u001b[0mfixed_or_free_paramdict\u001b[0m\u001b[1;33m)\u001b[0m\u001b[1;33m\u001b[0m\u001b[1;33m\u001b[0m\u001b[0m\n",
      "\u001b[1;32m~\\gits\\kernelkernel\\mykern.py\u001b[0m in \u001b[0;36mBWmaker\u001b[1;34m(self, max_bw_Ndiff, fixed_or_free_paramdict, diffdict, modeldict, x_or_y)\u001b[0m\n\u001b[0;32m    157\u001b[0m                     \u001b[1;32mif\u001b[0m \u001b[0mdepth\u001b[0m\u001b[1;33m==\u001b[0m\u001b[0mmax_bw_Ndiff\u001b[0m\u001b[1;33m:\u001b[0m\u001b[0mdeeper_depth_bw\u001b[0m\u001b[1;33m=\u001b[0m\u001b[0mNdiff_depth_bw_params\u001b[0m\u001b[1;33m[\u001b[0m\u001b[1;36m0\u001b[0m\u001b[1;33m]\u001b[0m\u001b[1;33m\u001b[0m\u001b[1;33m\u001b[0m\u001b[0m\n\u001b[0;32m    158\u001b[0m \u001b[1;33m\u001b[0m\u001b[0m\n\u001b[1;32m--> 159\u001b[1;33m                     \u001b[0mthis_depth_bw\u001b[0m\u001b[1;33m=\u001b[0m\u001b[0mself\u001b[0m\u001b[1;33m.\u001b[0m\u001b[0mNdiff_recursive\u001b[0m\u001b[1;33m(\u001b[0m\u001b[0mthis_depth_masked_data\u001b[0m\u001b[1;33m,\u001b[0m\u001b[0mdeeper_depth_bw\u001b[0m\u001b[1;33m,\u001b[0m\u001b[0mthis_depth_exponent\u001b[0m\u001b[1;33m,\u001b[0m\u001b[0mthis_depth_bw_param\u001b[0m\u001b[1;33m,\u001b[0m\u001b[0mNdiff_bw_kern\u001b[0m\u001b[1;33m,\u001b[0m\u001b[0mnormalize\u001b[0m\u001b[1;33m)\u001b[0m\u001b[1;33m\u001b[0m\u001b[1;33m\u001b[0m\u001b[0m\n\u001b[0m\u001b[0;32m    160\u001b[0m \u001b[1;33m\u001b[0m\u001b[0m\n\u001b[0;32m    161\u001b[0m                 \u001b[1;32mif\u001b[0m \u001b[0mdepth\u001b[0m\u001b[1;33m>\u001b[0m\u001b[1;36m1\u001b[0m\u001b[1;33m:\u001b[0m \u001b[0mdeeper_depth_bw\u001b[0m\u001b[1;33m=\u001b[0m\u001b[0mthis_depth_bw\u001b[0m\u001b[1;31m#setup deeper_depth_bw for next iteration if there is another\u001b[0m\u001b[1;33m\u001b[0m\u001b[1;33m\u001b[0m\u001b[0m\n",
      "\u001b[1;32m~\\gits\\kernelkernel\\mykern.py\u001b[0m in \u001b[0;36mNdiff_recursive\u001b[1;34m(self, masked_data, deeper_bw, Ndiff_exp, Ndiff_bw, Ndiff_bw_kern, normalize)\u001b[0m\n\u001b[0;32m     82\u001b[0m         return np.ma.power(\n\u001b[0;32m     83\u001b[0m                     self.sum_then_normalize_bw(\n\u001b[1;32m---> 84\u001b[1;33m                         self.do_bw_kern(Ndiff_bw_kern, masked_data,deeper_bw),normalize),Ndiff_exp                   )\n\u001b[0m\u001b[0;32m     85\u001b[0m \u001b[1;33m\u001b[0m\u001b[0m\n\u001b[0;32m     86\u001b[0m     \u001b[1;32mdef\u001b[0m \u001b[0mNdiff_product\u001b[0m\u001b[1;33m(\u001b[0m\u001b[0mself\u001b[0m\u001b[1;33m,\u001b[0m\u001b[0mmasked_data\u001b[0m\u001b[1;33m,\u001b[0m\u001b[0mdeeper_bw\u001b[0m\u001b[1;33m,\u001b[0m\u001b[0mNdiff_exp\u001b[0m\u001b[1;33m,\u001b[0m\u001b[0mNdiff_bw\u001b[0m\u001b[1;33m,\u001b[0m\u001b[0mNdiff_bw_kern\u001b[0m\u001b[1;33m,\u001b[0m\u001b[0mnormalize\u001b[0m\u001b[1;33m)\u001b[0m\u001b[1;33m:\u001b[0m\u001b[1;33m\u001b[0m\u001b[1;33m\u001b[0m\u001b[0m\n",
      "\u001b[1;32m~\\gits\\kernelkernel\\mykern.py\u001b[0m in \u001b[0;36mdo_bw_kern\u001b[1;34m(self, kern_choice, maskeddata, Ndiff_depth_bw_param, x_bandscale_params)\u001b[0m\n\u001b[0;32m    179\u001b[0m             \u001b[1;31m#axis-1 b/c axes counted from zero but ndim counts from 1\u001b[0m\u001b[1;33m\u001b[0m\u001b[1;33m\u001b[0m\u001b[1;33m\u001b[0m\u001b[0m\n\u001b[0;32m    180\u001b[0m         \u001b[1;32mif\u001b[0m \u001b[0mkern_choice\u001b[0m\u001b[1;33m==\u001b[0m\u001b[1;34m'rbfkern'\u001b[0m\u001b[1;33m:\u001b[0m\u001b[1;33m\u001b[0m\u001b[1;33m\u001b[0m\u001b[0m\n\u001b[1;32m--> 181\u001b[1;33m             \u001b[1;32mreturn\u001b[0m \u001b[0mself\u001b[0m\u001b[1;33m.\u001b[0m\u001b[0mgkernh\u001b[0m\u001b[1;33m(\u001b[0m\u001b[0mmaskeddata\u001b[0m\u001b[1;33m,\u001b[0m \u001b[0mNdiff_depth_bw_param\u001b[0m\u001b[1;33m)\u001b[0m\u001b[1;31m#parameters already collapsed, so this will be rbf\u001b[0m\u001b[1;33m\u001b[0m\u001b[1;33m\u001b[0m\u001b[0m\n\u001b[0m\u001b[0;32m    182\u001b[0m \u001b[1;33m\u001b[0m\u001b[0m\n\u001b[0;32m    183\u001b[0m     \u001b[1;32mdef\u001b[0m \u001b[0mgkernh\u001b[0m\u001b[1;33m(\u001b[0m\u001b[0mself\u001b[0m\u001b[1;33m,\u001b[0m \u001b[0mx\u001b[0m\u001b[1;33m,\u001b[0m \u001b[0mh\u001b[0m\u001b[1;33m)\u001b[0m\u001b[1;33m:\u001b[0m\u001b[1;33m\u001b[0m\u001b[1;33m\u001b[0m\u001b[0m\n",
      "\u001b[1;32m~\\gits\\kernelkernel\\mykern.py\u001b[0m in \u001b[0;36mgkernh\u001b[1;34m(self, x, h)\u001b[0m\n\u001b[0;32m    184\u001b[0m         \u001b[1;34m\"returns the gaussian kernel at x with bandwidth h\"\u001b[0m\u001b[1;33m\u001b[0m\u001b[1;33m\u001b[0m\u001b[0m\n\u001b[0;32m    185\u001b[0m         \u001b[0mdenom\u001b[0m\u001b[1;33m=\u001b[0m\u001b[1;36m1\u001b[0m\u001b[1;33m/\u001b[0m\u001b[1;33m(\u001b[0m\u001b[1;33m(\u001b[0m\u001b[1;36m2\u001b[0m\u001b[1;33m*\u001b[0m\u001b[0mnp\u001b[0m\u001b[1;33m.\u001b[0m\u001b[0mpi\u001b[0m\u001b[1;33m)\u001b[0m\u001b[1;33m**\u001b[0m\u001b[1;36m.5\u001b[0m\u001b[1;33m*\u001b[0m\u001b[0mh\u001b[0m\u001b[1;33m)\u001b[0m\u001b[1;33m\u001b[0m\u001b[1;33m\u001b[0m\u001b[0m\n\u001b[1;32m--> 186\u001b[1;33m         \u001b[0mnumerator\u001b[0m\u001b[1;33m=\u001b[0m\u001b[0mnp\u001b[0m\u001b[1;33m.\u001b[0m\u001b[0mma\u001b[0m\u001b[1;33m.\u001b[0m\u001b[0mexp\u001b[0m\u001b[1;33m(\u001b[0m\u001b[1;33m-\u001b[0m\u001b[0mnp\u001b[0m\u001b[1;33m.\u001b[0m\u001b[0mma\u001b[0m\u001b[1;33m.\u001b[0m\u001b[0mpower\u001b[0m\u001b[1;33m(\u001b[0m\u001b[0mx\u001b[0m\u001b[1;33m/\u001b[0m\u001b[1;33m(\u001b[0m\u001b[0mh\u001b[0m\u001b[1;33m*\u001b[0m\u001b[1;36m2\u001b[0m\u001b[1;33m)\u001b[0m\u001b[1;33m,\u001b[0m \u001b[1;36m2\u001b[0m\u001b[1;33m)\u001b[0m\u001b[1;33m)\u001b[0m\u001b[1;33m\u001b[0m\u001b[1;33m\u001b[0m\u001b[0m\n\u001b[0m\u001b[0;32m    187\u001b[0m         \u001b[0mkern\u001b[0m\u001b[1;33m=\u001b[0m\u001b[0mdenom\u001b[0m\u001b[1;33m*\u001b[0m\u001b[0mnumerator\u001b[0m\u001b[1;33m\u001b[0m\u001b[1;33m\u001b[0m\u001b[0m\n\u001b[0;32m    188\u001b[0m         \u001b[1;32mreturn\u001b[0m \u001b[0mkern\u001b[0m\u001b[1;33m\u001b[0m\u001b[1;33m\u001b[0m\u001b[0m\n",
      "\u001b[1;32m~\\AppData\\Local\\Continuum\\anaconda3\\lib\\site-packages\\numpy\\ma\\core.py\u001b[0m in \u001b[0;36m__array_wrap__\u001b[1;34m(self, obj, context)\u001b[0m\n\u001b[0;32m   3022\u001b[0m             \u001b[0mself\u001b[0m\u001b[1;33m.\u001b[0m\u001b[0m_fill_value\u001b[0m \u001b[1;33m=\u001b[0m \u001b[0m_check_fill_value\u001b[0m\u001b[1;33m(\u001b[0m\u001b[1;32mNone\u001b[0m\u001b[1;33m,\u001b[0m \u001b[0mself\u001b[0m\u001b[1;33m.\u001b[0m\u001b[0mdtype\u001b[0m\u001b[1;33m)\u001b[0m\u001b[1;33m\u001b[0m\u001b[1;33m\u001b[0m\u001b[0m\n\u001b[0;32m   3023\u001b[0m \u001b[1;33m\u001b[0m\u001b[0m\n\u001b[1;32m-> 3024\u001b[1;33m     \u001b[1;32mdef\u001b[0m \u001b[0m__array_wrap__\u001b[0m\u001b[1;33m(\u001b[0m\u001b[0mself\u001b[0m\u001b[1;33m,\u001b[0m \u001b[0mobj\u001b[0m\u001b[1;33m,\u001b[0m \u001b[0mcontext\u001b[0m\u001b[1;33m=\u001b[0m\u001b[1;32mNone\u001b[0m\u001b[1;33m)\u001b[0m\u001b[1;33m:\u001b[0m\u001b[1;33m\u001b[0m\u001b[1;33m\u001b[0m\u001b[0m\n\u001b[0m\u001b[0;32m   3025\u001b[0m         \"\"\"\n\u001b[0;32m   3026\u001b[0m         \u001b[0mSpecial\u001b[0m \u001b[0mhook\u001b[0m \u001b[1;32mfor\u001b[0m \u001b[0mufuncs\u001b[0m\u001b[1;33m.\u001b[0m\u001b[1;33m\u001b[0m\u001b[1;33m\u001b[0m\u001b[0m\n",
      "\u001b[1;31mKeyboardInterrupt\u001b[0m: "
     ]
    }
   ],
   "source": [
    "import numpy as np\n",
    "import kernelcompare as kc\n",
    "#set training data size\n",
    "trainsize=8\n",
    "datagen_dict_override={}\n",
    "datagen_dict_override['train_n']=trainsize\n",
    "datagen_dict_override['ftype']='quadratic'\n",
    "\n",
    "opt_dict_override={}\n",
    "model_dict={}\n",
    "hyper_param_dict={}\n",
    "opt_settings_dict={}\n",
    "options={}\n",
    "\n",
    "model_dict['Ndiff_type']='recursive'\n",
    "model_dict['max_bw_Ndiff']=3\n",
    "model_dict['ykern_grid']=trainsize+5\n",
    "opt_dict_override['model_dict']=model_dict\n",
    "\n",
    "options['fatol']=0.5\n",
    "options['xatol']=.05\n",
    "opt_settings_dict['options']=options\n",
    "opt_dict_override['opt_settings_dict']=opt_settings_dict\n",
    "\n",
    "\n",
    "quad_misspec=kc.DoKernelOpt(datagen_dict_override=datagen_dict_override, opt_dict_override=opt_dict_override)\n",
    "print(quad_misspec.optimizer_obj)\n",
    "'''\n",
    "optimizedict1=quad_misspec.optimizedict\n",
    "x=quad_misspec.train_x\n",
    "y=quad_misspec.train_y\n",
    "xfull=np.concatenate([np.ones([trainsize,1]),x],axis=1)\n",
    "n,p=x.shape\n",
    "\n",
    "x_validate=quad_misspec.val_x\n",
    "y_validate=quad_misspec.val_y'''"
   ]
  },
  {
   "cell_type": "code",
   "execution_count": null,
   "metadata": {
    "collapsed": false,
    "jupyter": {
     "outputs_hidden": false
    },
    "pycharm": {
     "is_executing": false,
     "name": "#%%\n"
    }
   },
   "outputs": [],
   "source": [
    "print(optimizedict1)\n"
   ]
  },
  {
   "cell_type": "markdown",
   "metadata": {
    "pycharm": {
     "name": "#%% md\n"
    }
   },
   "source": [
    "#-----------------Calibrate/Optimize--------"
   ]
  },
  {
   "cell_type": "code",
   "execution_count": null,
   "metadata": {
    "collapsed": false,
    "jupyter": {
     "outputs_hidden": false
    },
    "pycharm": {
     "is_executing": false,
     "name": "#%%\n"
    }
   },
   "outputs": [],
   "source": [
    "import mykern as mk"
   ]
  },
  {
   "cell_type": "code",
   "execution_count": null,
   "metadata": {},
   "outputs": [],
   "source": [
    "import myreg\n",
    "just_linreg=myreg.reg(y,xfull)\n",
    "just_linreg.myreg()\n",
    "print('linreg_mse:',just_linreg.mse)"
   ]
  },
  {
   "cell_type": "code",
   "execution_count": null,
   "metadata": {},
   "outputs": [],
   "source": [
    "##### y=np.linspace(0,10000,n)#what happens if y has no relationship to x\n",
    "optimized_Ndiff_kernel=mk.optimize_free_params(y,x,optimizedict1)\n",
    "print(optimized_Ndiff_kernel.mselist[-1])"
   ]
  },
  {
   "cell_type": "code",
   "execution_count": null,
   "metadata": {},
   "outputs": [],
   "source": [
    "from bokeh.io import show, output_notebook#,curdoc,save, output_file\n",
    "from bokeh.plotting import figure\n",
    "#from bokeh.models import ColumnDataSource, Range1d, BBoxTileSource\n",
    "#from bokeh.layouts import row\n",
    "output_notebook()"
   ]
  },
  {
   "cell_type": "code",
   "execution_count": null,
   "metadata": {},
   "outputs": [],
   "source": [
    "#xgrid=np.linspace(1,n,n)\n",
    "\n",
    "xgrid=x[:,0]\n",
    "yhat=optimized_Ndiff_kernel.yhat_un_std\n",
    "p=figure(title='y and yhat', plot_width=900, plot_height=500)\n",
    "p.xaxis.axis_label = 'observations'\n",
    "p.scatter(xgrid,y,size=10,color='blue',alpha=0.4,legend='y')\n",
    "#p.line(xgrid,precip,color='blue',alpha=0.6,legend='precipitation')\n",
    "p.scatter(xgrid,yhat,size=5,color='green',alpha=0.9,legend='yhat')\n",
    "p.circle(xgrid,just_linreg.yhat,color='red',legend='just lin reg yhat')\n",
    "p.line(xgrid,np.mean(y))\n",
    "p.legend.location = \"top_left\"\n",
    "#p.yaxis.visible=False\n",
    "show(p)"
   ]
  },
  {
   "cell_type": "code",
   "execution_count": null,
   "metadata": {},
   "outputs": [],
   "source": [
    "print(yhat)\n",
    "print(y)"
   ]
  },
  {
   "cell_type": "code",
   "execution_count": null,
   "metadata": {},
   "outputs": [],
   "source": []
  },
  {
   "cell_type": "code",
   "execution_count": null,
   "metadata": {},
   "outputs": [],
   "source": [
    "\n",
    "ypredict=optimized_Ndiff_kernel.predict_tool(xvalidate,optimized_Ndiff_kernel.fixed_or_free_paramdict,modeldict1)\n",
    "prediction_err=yvalidate-ypredict\n",
    "prediction_mse=np.mean(prediction_err**2)"
   ]
  },
  {
   "cell_type": "code",
   "execution_count": null,
   "metadata": {},
   "outputs": [],
   "source": [
    "np.ma.count_masked(yhat)"
   ]
  },
  {
   "cell_type": "code",
   "execution_count": null,
   "metadata": {},
   "outputs": [],
   "source": []
  },
  {
   "cell_type": "markdown",
   "metadata": {},
   "source": [
    "## class toolcompare(object):"
   ]
  }
 ],
 "metadata": {
  "kernelspec": {
   "display_name": "Python 3",
   "language": "python",
   "name": "python3"
  },
  "language_info": {
   "codemirror_mode": {
    "name": "ipython",
    "version": 3
   },
   "file_extension": ".py",
   "mimetype": "text/x-python",
   "name": "python",
   "nbconvert_exporter": "python",
   "pygments_lexer": "ipython3",
   "version": "3.7.4"
  },
  "pycharm": {
   "stem_cell": {
    "cell_type": "raw",
    "metadata": {
     "collapsed": false
    },
    "source": []
   }
  }
 },
 "nbformat": 4,
 "nbformat_minor": 4
}
