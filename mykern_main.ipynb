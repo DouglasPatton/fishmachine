{
 "cells": [
  {
   "cell_type": "markdown",
   "metadata": {},
   "source": [
    "### kernel density estimation and kernel regression for prediction\n",
    "This notebook is my first attempt to write down the ddiff and dddiff models that I have been working on"
   ]
  },
  {
   "cell_type": "markdown",
   "metadata": {},
   "source": [
    "mixed recursive/iterative approach (rather than vectorized approach that is harder to generalize\n",
    "- create separate submodules for KDE and KDreg\n",
    "    - develop a system for storing differenced but unweighted data and the appropriate mask to lessen memory usage. \n",
    "        -1's or 0's depending on i/j/k/l/.... values\n",
    "    - figure out the deepest level requested by the user and levels that are less deep are just slices of the deeper model. \n",
    "        -scout out the tree to build the differenced dataset. \n",
    "          \n",
    "        \n",
    " plot and compare\n",
    "on synthetic data, 1, 2, 3+ mixed distributions\n",
    "1d - Ndiff vs gaussian kernel vs kernel_tunneling\n",
    "2d -  \n",
    "\n",
    "\n",
    "multidimensional x problem\n",
    "e.g., parameter treatment\n",
    "\"product kernel approach\" vs l2 \"el two\" (radial basis?)distance "
   ]
  },
  {
   "cell_type": "code",
   "execution_count": 1,
   "metadata": {},
   "outputs": [],
   "source": [
    "import numpy as np"
   ]
  },
  {
   "cell_type": "markdown",
   "metadata": {},
   "source": [
    "#### generate a simple linear dataset y=xb+e\n",
    "##### store validation data from same dataset too"
   ]
  },
  {
   "cell_type": "code",
   "execution_count": 2,
   "metadata": {
    "pycharm": {
     "is_executing": false,
     "name": "#%%\n"
    }
   },
   "outputs": [],
   "source": [
    "import data_gen as dg\n",
    "data1=dg.data_gen(data_shape=(500,2),seed=1)\n",
    "#xdata=data1.x[:,:-1]#drop last x\n",
    "size=25\n",
    "xdata=data1.x[0:size,:]\n",
    "ydata=data1.y[0:size]\n",
    "y=ydata\n",
    "xfull=xdata\n",
    "x=xdata[:,1:] #drop first column of x (all 1's)\n",
    "e=data1.e\n",
    "n,p=x.shape\n",
    "\n",
    "\n",
    "xvalidate=data1.x[100:500,1:]\n",
    "yvalidate=data1.y[100:500]"
   ]
  },
  {
   "cell_type": "markdown",
   "metadata": {
    "pycharm": {
     "name": "#%% md\n"
    }
   },
   "source": [
    "### create modeldict\n",
    "- 'Ndiff_type': refers to the mathematical form of Ndiff\n",
    "  - 'product'-Ndiff1 multiplied by Ndiff2\n",
    "  - 'recursive'-Ndiff1's bw is Ndiff 2\n",
    "- max_bw_Ndiff: is the depth of Ndiffs applied in estimating the bandwidth.\n",
    "- 'normalize_Ndiffwtsum':\n",
    "  - 'across' means sum across own level of kernelized-Ndiffs and divide by that sum (CDF approach)\n",
    "  - 'own_n' means for (n+k)diff where n+K=max_bw_Ndiff\n",
    "- Ndiff_bw_kern:\n",
    "  - rbfkern means use the radial basis function kernel\n",
    "  - 'product' means use product kernel like as in liu and yang eq1. \n",
    "- 'regression_model':\n",
    "  - 'NW' means use nadaraya-watson kernel regression\n",
    "  - 'full_logit' means local logit with all variables entering linearly\n",
    "  - 'rbf_logit' means local logit with 1 parameters: scaled l2 norm centered on zero \n",
    " (globally or by i?). Is this a new idea?\n",
    "- outer_x_bw_form: if x is separated into blocks of rvars that are combined within a block using rbf kernel, \n",
    "  - 'one_for_all' - use same hx bw for all blocks\n",
    "  - 'one_per_block' - each block or rvars gets an hx\n",
    "- ykern_grid\n",
    "  - if int, then create int evnely spaced values from -3 to 3 (standard normal middle ~99%)\n",
    "  - 'no' means use original data points (self is masked when predicting self)\n",
    "- xkern_grid\n",
    "  - much like ykern_grid, but used less frequently since x's are typically pre-specified\n",
    "- product_kern_norm: when multiplying kernels across random variables, this parameter determines if each random variable has its kernels normalized before the product or not\n",
    "  - 'self' means each random variable has its kernels divided by the sum of kernels across the nout axis (the number of possibile values y is averaged over, whose probabilities sum to 1)\n",
    "  - 'own_n' means same as self, but divided by count of non-masked items in second to last, nout lenght dimension\n",
    "  - 'none' means no normalization prior to taking products across rvar kernels\n",
    "- hyper_param_form_dict is a nested dictionary\n",
    "  - Ndiff_exponent is the exponent wrapped around typically a sum of kernels for each Ndiff level \n",
    "after level 1 (i.e., (i-j) or centered, obvious/conventional level.)\n",
    "  - x_bandscale is the parameter specific to each variable (each x in X) used for prediction (y)\n",
    "  - Ndiff_depth_bw is used as the kernel's bandwidth (h) at each level of Ndiff including at level 1 \n",
    "  - outer_x_bw vanilla bandwidth for the rbf or product kernel\n",
    "  - outer_y_bw vanilla bandwidth for y"
   ]
  },
  {
   "cell_type": "code",
   "execution_count": 3,
   "metadata": {
    "collapsed": false,
    "jupyter": {
     "outputs_hidden": false
    },
    "pycharm": {
     "is_executing": false,
     "name": "#%%\n"
    }
   },
   "outputs": [],
   "source": [
    "max_bw_Ndiff=2\n",
    "Ndiff_start=1\n",
    "Ndiff_param_count=max_bw_Ndiff-(Ndiff_start-1)\n",
    "modeldict1={\n",
    "    'Ndiff_type':'product',\n",
    "    'Ndiff_start':Ndiff_start,\n",
    "    'max_bw_Ndiff':max_bw_Ndiff,\n",
    "    'normalize_Ndiffwtsum':'own_n',\n",
    "    'xkern_grid':'no',\n",
    "    'ykern_grid':'no',\n",
    "    'outer_kern':'gaussian',\n",
    "    'Ndiff_bw_kern':'rbfkern',\n",
    "    'outer_x_bw_form':'one_for_all',\n",
    "    'regression_model':'NW',\n",
    "    'product_kern_norm':'self',\n",
    "    'hyper_param_form_dict':{\n",
    "        'Ndiff_exponent':'free',\n",
    "        'x_bandscale':'non-neg',\n",
    "        'Ndiff_depth_bw':'non-neg',\n",
    "        'outer_x_bw':'non-neg',\n",
    "        'outer_y_bw':'non-neg',\n",
    "        'y_bandscale':'non-neg'\n",
    "        }\n",
    "    }\n",
    "\n",
    "modeldict1['ykern_grid']=40#override\n",
    "#modeldict1['product_kern_norm']='none'\n",
    "\n",
    "#set starting or fixed values for hyper parameters\n",
    "\n",
    "#if max_bw_Ndiff>0:onethenzeros[0]=1\n",
    "hyper_paramdict1={\n",
    "    'Ndiff_exponent':np.zeros([Ndiff_param_count,])+.005,\n",
    "    'x_bandscale':.1*np.ones([p,]),\n",
    "    'outer_x_bw':np.array([0.3,]),\n",
    "    'outer_y_bw':np.array([0.3,]),\n",
    "    'Ndiff_depth_bw':np.ones([Ndiff_param_count,])*0.3,\n",
    "    'y_bandscale':.9*np.ones([1,])\n",
    "    }\n",
    "\n",
    "\n",
    "#assert len(hyper_paramdict1['Ndiff_exponent'])==modeldict1['max_bw_Ndiff'],'Ndiff_exponent does not match ' \\\n",
    "#                                                                            'depth of max_bw_Ndiff'\n",
    "#assert len(hyper_paramdict1['Ndiff_depth_bw'])==modeldict1['max_bw_Ndiff'],'Ndiff_depth_bw does not match ' \\\n",
    "#                                                                             'depth of max_bw_Ndiff'\n",
    "#create optimization dictionary\n",
    "optimizedict1={\n",
    "    'method':'Nelder-Mead',\n",
    "    'hyper_param_dict':hyper_paramdict1,\n",
    "    'model_dict':modeldict1\n",
    "    }"
   ]
  },
  {
   "cell_type": "code",
   "execution_count": 4,
   "metadata": {},
   "outputs": [
    {
     "name": "stdout",
     "output_type": "stream",
     "text": [
      "2\n"
     ]
    }
   ],
   "source": [
    "print(Ndiff_param_count)"
   ]
  },
  {
   "cell_type": "markdown",
   "metadata": {
    "pycharm": {
     "name": "#%% md\n"
    }
   },
   "source": [
    "#-----------------Calibrate/Optimize--------"
   ]
  },
  {
   "cell_type": "code",
   "execution_count": 5,
   "metadata": {
    "collapsed": false,
    "jupyter": {
     "outputs_hidden": false
    },
    "pycharm": {
     "is_executing": false,
     "name": "#%%\n"
    }
   },
   "outputs": [],
   "source": [
    "import mykern as mk\n",
    "\n"
   ]
  },
  {
   "cell_type": "code",
   "execution_count": 6,
   "metadata": {},
   "outputs": [
    {
     "name": "stdout",
     "output_type": "stream",
     "text": [
      "linreg_mse: 1.5338565871879377\n"
     ]
    }
   ],
   "source": [
    "import myreg\n",
    "just_linreg=myreg.reg(y,xfull)\n",
    "just_linreg.myreg()\n",
    "print('linreg_mse:',just_linreg.mse)"
   ]
  },
  {
   "cell_type": "code",
   "execution_count": null,
   "metadata": {},
   "outputs": [
    {
     "name": "stdout",
     "output_type": "stream",
     "text": [
      "iter:2,mse:733.7032050190882\n",
      "iter:3,mse:729.3711218016718\n",
      "iter:4,mse:733.6900727182485\n",
      "iter:5,mse:733.5550110048009\n",
      "iter:6,mse:733.366410523834\n",
      "iter:7,mse:735.2167117501671\n",
      "iter:8,mse:733.7106368818181\n",
      "iter:9,mse:735.112245073515\n",
      "iter:10,mse:736.1657363884904\n",
      "iter:11,mse:720.9942647711358\n",
      "iter:12,mse:727.942310417116\n",
      "iter:13,mse:727.3735100028514\n",
      "iter:14,mse:725.5634899919424\n",
      "iter:15,mse:725.2705268169651\n",
      "iter:16,mse:723.3161949884698\n",
      "iter:17,mse:720.891935654223\n",
      "iter:18,mse:719.3790289207523\n",
      "iter:19,mse:717.7016527564625\n",
      "iter:20,mse:715.8046491850729\n",
      "iter:21,mse:713.7428238777737\n",
      "iter:22,mse:711.3642188445676\n",
      "iter:23,mse:714.2946317355548\n",
      "iter:24,mse:712.5986659799304\n",
      "iter:25,mse:709.5432000092259\n",
      "iter:26,mse:707.3814407891681\n",
      "iter:27,mse:707.5206437520276\n",
      "iter:28,mse:703.5295739633726\n",
      "iter:29,mse:700.8965786097284\n",
      "iter:30,mse:700.4984998790087\n",
      "iter:31,mse:697.7352298758505\n",
      "iter:32,mse:697.6195289511364\n",
      "iter:33,mse:694.7733993682309\n",
      "iter:34,mse:693.7075769896228\n",
      "iter:35,mse:690.5833709238418\n",
      "iter:36,mse:691.962429694346\n",
      "iter:37,mse:688.3935511059386\n",
      "iter:38,mse:685.2688992230436\n",
      "iter:39,mse:683.5537390740142\n",
      "iter:40,mse:679.9568073490384\n",
      "iter:41,mse:677.5824078724235\n",
      "iter:42,mse:673.3931427175914\n",
      "iter:43,mse:673.793304933315\n",
      "iter:44,mse:666.1673204755841\n",
      "iter:45,mse:661.0590139734664\n",
      "iter:46,mse:664.1687607875673\n",
      "iter:47,mse:659.7863906999082\n",
      "iter:48,mse:655.0673008212124\n",
      "iter:49,mse:654.097906296622\n",
      "iter:50,mse:649.100955532846\n",
      "iter:51,mse:646.759591419728\n",
      "iter:52,mse:641.0842136625926\n",
      "iter:53,mse:636.1376021377087\n",
      "iter:54,mse:629.1712244140191\n",
      "iter:55,mse:629.283290238476\n",
      "iter:56,mse:623.7219738443478\n",
      "iter:57,mse:616.684448157695\n",
      "iter:58,mse:617.6148330898021\n",
      "iter:59,mse:603.7185938561711\n",
      "iter:60,mse:594.8137752113737\n",
      "iter:61,mse:598.630922689206\n",
      "iter:62,mse:586.0436329899876\n",
      "iter:63,mse:576.3041776486939\n",
      "iter:64,mse:575.391073370075\n",
      "iter:65,mse:565.3029573997544\n",
      "iter:66,mse:561.619224136501\n",
      "iter:67,mse:550.3416077861294\n",
      "iter:68,mse:550.3019055957495\n",
      "iter:69,mse:538.8099017460848\n",
      "iter:70,mse:543.5618561531362\n",
      "iter:71,mse:522.1447777830202\n",
      "iter:72,mse:508.63646479024015\n",
      "iter:73,mse:508.7910089458861\n",
      "iter:74,mse:482.4818291194278\n",
      "iter:75,mse:465.0640564361574\n",
      "iter:76,mse:473.66742466076437\n",
      "iter:77,mse:448.0860233996753\n",
      "iter:78,mse:429.3850062907836\n",
      "iter:79,mse:438.53950055909695\n",
      "iter:80,mse:419.1661716944234\n",
      "iter:81,mse:401.0712598671889\n",
      "iter:82,mse:403.6879647615419\n",
      "iter:83,mse:376.2411237013213\n",
      "iter:84,mse:355.9616456149081\n",
      "iter:85,mse:338.31971611698975\n",
      "iter:86,mse:314.389188732119\n",
      "iter:87,mse:330.1728820994173\n",
      "iter:88,mse:286.34239737417386\n",
      "iter:89,mse:260.9002400409263\n",
      "iter:90,mse:280.2112689066063\n",
      "iter:91,mse:249.521179020229\n",
      "iter:92,mse:227.18227692668188\n",
      "iter:93,mse:227.22726590687245\n",
      "iter:94,mse:198.2715455120744\n",
      "iter:95,mse:176.56474848109835\n",
      "iter:96,mse:173.24084867338297\n",
      "iter:97,mse:152.55311215187544\n",
      "iter:98,mse:135.7843372650129\n",
      "iter:99,mse:117.3682696219578\n",
      "iter:100,mse:125.10522078083274\n",
      "iter:101,mse:110.36986475342013\n",
      "iter:102,mse:99.03316761593018\n",
      "iter:103,mse:94.4185229163597\n",
      "iter:104,mse:88.7894495566158\n",
      "iter:105,mse:89.27783242881029\n",
      "iter:106,mse:92.03388689012503\n",
      "iter:107,mse:94.12513609643436\n",
      "iter:108,mse:118.6378373316075\n",
      "iter:109,mse:138.68977322384384\n",
      "iter:110,mse:158.32503124805936\n",
      "iter:111,mse:120.4603865087861\n",
      "iter:112,mse:167.80692515428913\n",
      "iter:113,mse:107.5608417477215\n",
      "iter:114,mse:126.003328006545\n",
      "iter:115,mse:107.04457357516374\n",
      "iter:116,mse:120.16862284062583\n",
      "iter:117,mse:103.1603827887753\n",
      "iter:118,mse:132.54652324338423\n",
      "iter:119,mse:100.96617750630375\n",
      "iter:120,mse:145.04094922524683\n",
      "iter:121,mse:100.97370148058373\n",
      "iter:122,mse:107.9183728548321\n",
      "iter:123,mse:96.99449998335211\n"
     ]
    }
   ],
   "source": [
    "##### y=np.linspace(0,10000,n)#what happens if y has no relationship to x\n",
    "optimized_Ndiff_kernel=mk.optimize_free_params(y,x,optimizedict1)\n",
    "print(optimized_Ndiff_kernel.mselist[-1])"
   ]
  },
  {
   "cell_type": "code",
   "execution_count": null,
   "metadata": {},
   "outputs": [],
   "source": [
    "from bokeh.io import show, output_notebook#,curdoc,save, output_file\n",
    "from bokeh.plotting import figure\n",
    "#from bokeh.models import ColumnDataSource, Range1d, BBoxTileSource\n",
    "#from bokeh.layouts import row\n",
    "output_notebook()"
   ]
  },
  {
   "cell_type": "code",
   "execution_count": null,
   "metadata": {},
   "outputs": [],
   "source": [
    "#xgrid=np.linspace(1,n,n)\n",
    "\n",
    "xgrid=x[:,0]\n",
    "yhat=optimized_Ndiff_kernel.yhat_un_std\n",
    "p=figure(title='y and yhat', plot_width=900, plot_height=500)\n",
    "p.xaxis.axis_label = 'observations'\n",
    "p.scatter(xgrid,y,size=10,color='blue',alpha=0.4,legend='y')\n",
    "#p.line(xgrid,precip,color='blue',alpha=0.6,legend='precipitation')\n",
    "p.scatter(xgrid,yhat,size=5,color='green',alpha=0.9,legend='yhat')\n",
    "p.circle(xgrid,just_linreg.yhat,color='red',legend='just lin reg yhat')\n",
    "p.line(xgrid,np.mean(y))\n",
    "p.legend.location = \"top_left\"\n",
    "p.yaxis.visible=False\n",
    "show(p)"
   ]
  },
  {
   "cell_type": "code",
   "execution_count": null,
   "metadata": {},
   "outputs": [],
   "source": [
    "yhat.shape\n",
    "print(data1.b)"
   ]
  },
  {
   "cell_type": "code",
   "execution_count": null,
   "metadata": {},
   "outputs": [],
   "source": [
    "print(yhat)"
   ]
  },
  {
   "cell_type": "code",
   "execution_count": null,
   "metadata": {},
   "outputs": [],
   "source": [
    "print(y)"
   ]
  },
  {
   "cell_type": "code",
   "execution_count": null,
   "metadata": {},
   "outputs": [],
   "source": [
    "\n",
    "ypredict=optimized_Ndiff_kernel.predict_tool(xvalidate,optimized_Ndiff_kernel.fixed_or_free_paramdict,modeldict1)\n",
    "prediction_err=yvalidate-ypredict\n",
    "prediction_mse=np.mean(prediction_err**2)"
   ]
  },
  {
   "cell_type": "code",
   "execution_count": null,
   "metadata": {},
   "outputs": [],
   "source": [
    "np.ma.count_masked(yhat)"
   ]
  },
  {
   "cell_type": "code",
   "execution_count": null,
   "metadata": {},
   "outputs": [],
   "source": []
  },
  {
   "cell_type": "code",
   "execution_count": null,
   "metadata": {},
   "outputs": [],
   "source": []
  }
 ],
 "metadata": {
  "kernelspec": {
   "display_name": "Python 3",
   "language": "python",
   "name": "python3"
  },
  "language_info": {
   "codemirror_mode": {
    "name": "ipython",
    "version": 3
   },
   "file_extension": ".py",
   "mimetype": "text/x-python",
   "name": "python",
   "nbconvert_exporter": "python",
   "pygments_lexer": "ipython3",
   "version": "3.7.4"
  },
  "pycharm": {
   "stem_cell": {
    "cell_type": "raw",
    "metadata": {
     "collapsed": false
    },
    "source": []
   }
  }
 },
 "nbformat": 4,
 "nbformat_minor": 4
}
