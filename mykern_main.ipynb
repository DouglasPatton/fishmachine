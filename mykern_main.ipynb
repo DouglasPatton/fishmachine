{
 "cells": [
  {
   "cell_type": "markdown",
   "metadata": {},
   "source": [
    "### kernel density estimation and kernel regression for prediction\n",
    "This notebook is my first attempt to write down the ddiff and dddiff models that I have been working on"
   ]
  },
  {
   "cell_type": "markdown",
   "metadata": {},
   "source": [
    "mixed recursive/iterative approach (rather than vectorized approach that is harder to generalize\n",
    "- create separate submodules for KDE and KDreg\n",
    "    - develop a system for storing differenced but unweighted data and the appropriate mask to lessen memory usage. \n",
    "        -1's or 0's depending on i/j/k/l/.... values\n",
    "    - figure out the deepest level requested by the user and levels that are less deep are just slices of the deeper model. \n",
    "        -scout out the tree to build the differenced dataset. \n",
    "          \n",
    "        \n",
    " plot and compare\n",
    "on synthetic data, 1, 2, 3+ mixed distributions\n",
    "1d - Ndiff vs gaussian kernel vs kernel_tunneling\n",
    "2d -  \n",
    "\n",
    "\n",
    "multidimensional x problem\n",
    "e.g., parameter treatment\n",
    "\"product kernel approach\" vs l2 \"el two\" (radial basis?)distance "
   ]
  },
  {
   "cell_type": "markdown",
   "metadata": {},
   "source": [
    "#### generate a simple linear dataset y=xb+e\n",
    "##### store validation data from same dataset too"
   ]
  },
  {
   "cell_type": "markdown",
   "metadata": {
    "pycharm": {
     "name": "#%% md\n"
    }
   },
   "source": [
    "### create modeldict\n",
    "- 'Ndiff_type': refers to the mathematical form of Ndiff\n",
    "  - 'product'-Ndiff1 multiplied by Ndiff2\n",
    "  - 'recursive'-Ndiff1's bw is Ndiff 2\n",
    "- max_bw_Ndiff: is the depth of Ndiffs applied in estimating the bandwidth.\n",
    "- 'normalize_Ndiffwtsum':\n",
    "  - 'across' means sum across own level of kernelized-Ndiffs and divide by that sum (CDF approach)\n",
    "  - 'own_n' means for (n+k)diff where n+K=max_bw_Ndiff\n",
    "- Ndiff_bw_kern:\n",
    "  - rbfkern means use the radial basis function kernel\n",
    "  - 'product' means use product kernel like as in liu and yang eq1. \n",
    "- 'regression_model':\n",
    "  - 'NW' means use nadaraya-watson kernel regression\n",
    "  - 'full_logit' means local logit with all variables entering linearly\n",
    "  - 'rbf_logit' means local logit with 1 parameters: scaled l2 norm centered on zero \n",
    " (globally or by i?). Is this a new idea?\n",
    "- outer_x_bw_form: if x is separated into blocks of rvars that are combined within a block using rbf kernel, \n",
    "  - 'one_for_all' - use same hx bw for all blocks\n",
    "  - 'one_per_block' - each block or rvars gets an hx\n",
    "- ykern_grid\n",
    "  - if int, then create int evnely spaced values from -3 to 3 (standard normal middle ~99%)\n",
    "  - 'no' means use original data points (self is masked when predicting self)\n",
    "- xkern_grid\n",
    "  - much like ykern_grid, but used less frequently since x's are typically pre-specified\n",
    "- product_kern_norm: when multiplying kernels across random variables, this parameter determines if each random variable has its kernels normalized before the product or not\n",
    "  - 'self' means each random variable has its kernels divided by the sum of kernels across the nout axis (the number of possibile values y is averaged over, whose probabilities sum to 1)\n",
    "  - 'own_n' means same as self, but divided by count of non-masked items in second to last, nout lenght dimension\n",
    "  - 'none' means no normalization prior to taking products across rvar kernels\n",
    "- hyper_param_form_dict is a nested dictionary\n",
    "  - Ndiff_exponent is the exponent wrapped around typically a sum of kernels for each Ndiff level \n",
    "after level 1 (i.e., (i-j) or centered, obvious/conventional level.)\n",
    "  - x_bandscale is the parameter specific to each variable (each x in X) used for prediction (y)\n",
    "  - Ndiff_depth_bw is used as the kernel's bandwidth (h) at each level of Ndiff including at level 1 \n",
    "  - outer_x_bw vanilla bandwidth for the rbf or product kernel\n",
    "  - outer_y_bw vanilla bandwidth for y"
   ]
  },
  {
   "cell_type": "code",
   "execution_count": 1,
   "metadata": {},
   "outputs": [
    {
     "name": "stdout",
     "output_type": "stream",
     "text": [
      "here ['condensed_model_save', 'model_save']\n",
      "len(final_match_list):14\n",
      "file_i:condensed_model_save has 20 saved model(s)\n",
      "len(final_match_list):14\n",
      "file_i:model_save has 10 saved model(s)\n",
      "len(final_match_list):1\n"
     ]
    }
   ],
   "source": [
    "import kernelcompare as kc\n",
    "#from importlib import reload\n",
    "test=kc.KernelCompare()"
   ]
  },
  {
   "cell_type": "code",
   "execution_count": null,
   "metadata": {},
   "outputs": [
    {
     "name": "stdout",
     "output_type": "stream",
     "text": [
      "------no start value overrides encountered------\n",
      "newoptimizedict1{'opt_settings_dict': {'method': 'Nelder-Mead', 'options': {'xatol': 0.001, 'fatol': 0.1, 'adaptive': True}, 'help_start': 1, 'partial_match': 1}, 'hyper_param_dict': {'Ndiff_exponent': array([0.3, 0.3]), 'x_bandscale': array([1., 1.]), 'outer_x_bw': array([2.7]), 'outer_y_bw': array([2.2]), 'Ndiff_depth_bw': array([0.5, 0.5]), 'y_bandscale': array([1.5])}, 'modeldict': {'Ndiff_type': 'product', 'Ndiff_start': 1, 'max_bw_Ndiff': 2, 'normalize_Ndiffwtsum': 'own_n', 'xkern_grid': 'no', 'ykern_grid': 61, 'outer_kern': 'gaussian', 'Ndiff_bw_kern': 'rbfkern', 'outer_x_bw_form': 'one_for_all', 'regression_model': 'NW', 'product_kern_norm': 'self', 'hyper_param_form_dict': {'Ndiff_exponent': 'free', 'x_bandscale': 'non-neg', 'Ndiff_depth_bw': 'non-neg', 'outer_x_bw': 'non-neg', 'outer_y_bw': 'non-neg', 'y_bandscale': 'non-neg'}}}\n",
      "in saved_filename:condensed_model_save, len(modeldict_list):15,len(saved_dict_list):15\n",
      "--------------------------------help_start is triggered---------------------------\n",
      "len(final_match_list):1\n",
      "optimization dict with lowest mse:359.35203493517474, n:60was last saved20191113-113003\n",
      "best_dict:{'mse': 359.35203493517474, 'xdata': array([[-2.5563435 , -3.64593724],\n",
      "       [ 0.23081526, -6.10307739],\n",
      "       [ 1.98962353, -3.0224138 ],\n",
      "       [-0.86192181, -1.99874075],\n",
      "       [ 1.42421587, -5.62028142],\n",
      "       [-2.14483441, -2.26810871],\n",
      "       [ 0.76753888, -3.69978253],\n",
      "       [-1.84485642, -3.25571684],\n",
      "       [-1.41557251, -0.33436957],\n",
      "       [-3.70123835,  0.78944742],\n",
      "       [ 0.30318144, -0.49501132],\n",
      "       [ 0.3017119 , -2.86745572],\n",
      "       [-1.74578045, -3.37153887],\n",
      "       [-2.03577616, -0.43928907],\n",
      "       [-2.8833215 , -2.29350705],\n",
      "       [-2.8743454 , -3.19041128],\n",
      "       [-2.84249226, -1.5253292 ],\n",
      "       [-3.7346207 , -1.0311686 ],\n",
      "       [ 1.81960435, -0.01591168],\n",
      "       [-1.8836711 , -3.27525793],\n",
      "       [-2.99431659,  1.8849092 ],\n",
      "       [-1.39838449, -2.77399129],\n",
      "       [-1.11816903,  2.70051027],\n",
      "       [-1.2596821 , -0.26559378],\n",
      "       [-0.89965936, -2.20449969],\n",
      "       [-3.7850364 , -2.19868544],\n",
      "       [-1.91778847, -0.32675362],\n",
      "       [ 0.17796683,  0.36220416],\n",
      "       [-0.92882535,  0.27028233],\n",
      "       [-3.00879588,  1.00573631],\n",
      "       [-0.47414036, -2.09618567],\n",
      "       [-0.52296371, -1.65114343],\n",
      "       [ 0.76325877,  1.53963363],\n",
      "       [ 2.87115081, -4.29299267],\n",
      "       [-4.38822761, -2.50893173],\n",
      "       [-1.17992586,  0.25233784],\n",
      "       [-0.86873011, -5.54440243],\n",
      "       [-2.11240803,  0.15594929],\n",
      "       [-1.03981053,  0.02402236],\n",
      "       [-1.94465629, -1.90151614],\n",
      "       [-1.12687722, -0.67989671],\n",
      "       [-1.10340056, -1.26198271],\n",
      "       [-2.84132457, -0.74487243],\n",
      "       [-1.25635746,  0.75896782],\n",
      "       [ 0.89783576, -1.12968717],\n",
      "       [-2.2505699 , -2.77746081],\n",
      "       [-0.65301129, -1.34531986],\n",
      "       [-2.18770735, -1.41280629],\n",
      "       [-2.74000169, -0.10393593],\n",
      "       [-2.39425713,  0.94901541],\n",
      "       [-0.69301672, -0.31284295],\n",
      "       [-3.68982369, -1.16123513],\n",
      "       [-0.0188871 , -3.4074012 ],\n",
      "       [-2.03243701, -1.43477091],\n",
      "       [-4.24623464, -0.86968122],\n",
      "       [ 0.1923213 , -3.21903188],\n",
      "       [-0.79890804, -4.12456682],\n",
      "       [-1.57739102, -4.73154471],\n",
      "       [ 0.74283542, -0.68219892],\n",
      "       [-1.54923391, -3.05032324]]), 'ydata': array([-24.62107866, -32.92393465, -12.57809272, -11.62982371,\n",
      "       -31.01572349, -16.72848994, -18.21200149, -20.11983952,\n",
      "        -3.11909872,   1.39056333,   1.39654418, -14.661963  ,\n",
      "       -24.13429711,  -6.48485309, -18.30554416, -21.77531739,\n",
      "       -12.52668742, -13.75050084,   5.31497281, -19.8055284 ,\n",
      "         6.94601735, -18.19068636,  18.02134768,  -2.05951734,\n",
      "       -13.50547398, -18.4120183 ,  -3.77893391,   4.10001635,\n",
      "         2.9724996 ,   3.1325279 , -10.68453318,  -9.05567519,\n",
      "        13.91121972, -18.06535698, -21.36340231,   2.1878622 ,\n",
      "       -32.19503044,   0.50063434,   0.51579712, -14.98246938,\n",
      "        -5.49330477,  -6.42859055,  -8.48316688,   4.42763112,\n",
      "        -3.83390713, -18.16502327,  -7.76277401,  -9.39414418,\n",
      "        -4.63585299,   4.0237116 ,  -0.58869505, -13.06945009,\n",
      "       -17.38318508, -11.57513395, -12.53302377, -16.20783741,\n",
      "       -24.97055902, -30.13789336,  -0.95142342, -20.40057644]), 'params': {'Ndiff_exponent': {'fixed_or_free': 'free', 'const': 'free', 'location_idx': (0, 2)}, 'x_bandscale': {'fixed_or_free': 'free', 'const': 'non-neg', 'location_idx': (2, 4)}, 'Ndiff_depth_bw': {'fixed_or_free': 'free', 'const': 'non-neg', 'location_idx': (4, 6)}, 'outer_x_bw': {'fixed_or_free': 'free', 'const': 'non-neg', 'location_idx': (6, 7)}, 'outer_y_bw': {'fixed_or_free': 'free', 'const': 'non-neg', 'location_idx': (7, 8)}, 'y_bandscale': {'fixed_or_free': 'free', 'const': 'non-neg', 'location_idx': (8, 9)}, 'free_params': array([0.315, 0.3  , 1.   , 1.   , 0.5  , 0.5  , 2.7  , 2.2  , 1.5  ]), 'fixed_params': array([], dtype=float64)}, 'modeldict': {'Ndiff_type': 'product', 'Ndiff_start': 1, 'max_bw_Ndiff': 2, 'normalize_Ndiffwtsum': 'own_n', 'xkern_grid': 'no', 'ykern_grid': 61, 'outer_kern': 'gaussian', 'Ndiff_bw_kern': 'rbfkern', 'outer_x_bw_form': 'one_for_all', 'regression_model': 'NW', 'product_kern_norm': 'self', 'hyper_param_form_dict': {'Ndiff_exponent': 'free', 'x_bandscale': 'non-neg', 'Ndiff_depth_bw': 'non-neg', 'outer_x_bw': 'non-neg', 'outer_y_bw': 'non-neg', 'y_bandscale': 'non-neg'}}, 'when_saved': '20191113-113003'}\n",
      "overriding start parameters with saved parameters\n",
      "starting at 20191113-113233\n",
      "param_valdict:{'Ndiff_exponent': array([0.315, 0.3  ]), 'x_bandscale': array([1., 1.]), 'outer_x_bw': array([2.7]), 'outer_y_bw': array([2.2]), 'Ndiff_depth_bw': array([0.5, 0.5]), 'y_bandscale': array([1.5])}\n",
      "setup_fixed_or_free_paramdict:{'Ndiff_exponent': {'fixed_or_free': 'free', 'const': 'free', 'location_idx': (0, 2)}, 'x_bandscale': {'fixed_or_free': 'free', 'const': 'non-neg', 'location_idx': (2, 4)}, 'Ndiff_depth_bw': {'fixed_or_free': 'free', 'const': 'non-neg', 'location_idx': (4, 6)}, 'outer_x_bw': {'fixed_or_free': 'free', 'const': 'non-neg', 'location_idx': (6, 7)}, 'outer_y_bw': {'fixed_or_free': 'free', 'const': 'non-neg', 'location_idx': (7, 8)}, 'y_bandscale': {'fixed_or_free': 'free', 'const': 'non-neg', 'location_idx': (8, 9)}, 'free_params': 'outside', 'fixed_params': array([], dtype=float64)}\n",
      "modeldict:{'Ndiff_type': 'product', 'Ndiff_start': 1, 'max_bw_Ndiff': 2, 'normalize_Ndiffwtsum': 'own_n', 'xkern_grid': 'no', 'ykern_grid': 61, 'outer_kern': 'gaussian', 'Ndiff_bw_kern': 'rbfkern', 'outer_x_bw_form': 'one_for_all', 'regression_model': 'NW', 'product_kern_norm': 'self', 'hyper_param_form_dict': {'Ndiff_exponent': 'free', 'x_bandscale': 'non-neg', 'Ndiff_depth_bw': 'non-neg', 'outer_x_bw': 'non-neg', 'outer_y_bw': 'non-neg', 'y_bandscale': 'non-neg'}}\n",
      "free_params added to dict. free_params:[0.315 0.3   1.    1.    0.5   0.5   2.7   2.2   1.5  ]\n"
     ]
    }
   ],
   "source": [
    "test.run_kernel_list()"
   ]
  },
  {
   "cell_type": "code",
   "execution_count": null,
   "metadata": {},
   "outputs": [],
   "source": [
    "\n",
    "\n",
    "Ndiff_type_variations=('modeldict:Ndiff_type',['recursive','product'])\n",
    "max_bw_Ndiff_variations=('modeldict:max_bw_Ndiff',[2])\n",
    "Ndiff_start_variations=('modeldict:Ndiff_start',[0])\n",
    "opt_model_variation_list=[Ndiff_type_variations,max_bw_Ndiff_variations,Ndiff_start_variations]\n",
    "\n",
    "test_quadratic=test.run_kernel_list(opt_model_variation_list=opt_model_variation_list, data_gen_variation_list=None)\n"
   ]
  },
  {
   "cell_type": "code",
   "execution_count": null,
   "metadata": {
    "pycharm": {
     "is_executing": false,
     "name": "#%%\n"
    }
   },
   "outputs": [],
   "source": [
    "data_gen_variation_list=[test.build_quadratic_datagen_dict_override()]\n",
    "test_quadratic=test.run_kernel_list(opt_model_variation_list=opt_model_variation_list, data_gen_variation_list=data_gen_variation_list)\n",
    "\n"
   ]
  },
  {
   "cell_type": "code",
   "execution_count": null,
   "metadata": {
    "collapsed": false,
    "jupyter": {
     "outputs_hidden": false
    },
    "pycharm": {
     "is_executing": false,
     "name": "#%%\n"
    }
   },
   "outputs": [],
   "source": [
    "\n"
   ]
  },
  {
   "cell_type": "markdown",
   "metadata": {
    "pycharm": {
     "name": "#%% md\n"
    }
   },
   "source": [
    "#-----------------Calibrate/Optimize--------"
   ]
  },
  {
   "cell_type": "code",
   "execution_count": null,
   "metadata": {
    "collapsed": false,
    "jupyter": {
     "outputs_hidden": false
    },
    "pycharm": {
     "is_executing": false,
     "name": "#%%\n"
    }
   },
   "outputs": [],
   "source": []
  },
  {
   "cell_type": "code",
   "execution_count": null,
   "metadata": {},
   "outputs": [],
   "source": [
    "import myreg\n",
    "x=quad_misspec.train_x\n",
    "y=quad_misspec.train_y\n",
    "xfull=np.concatenate([np.ones([x.shape[0],1]),x],axis=1)\n",
    "just_linreg=myreg.reg(y,xfull)\n",
    "just_linreg.myreg()\n",
    "print('linreg_mse:',just_linreg.mse)"
   ]
  },
  {
   "cell_type": "code",
   "execution_count": null,
   "metadata": {},
   "outputs": [],
   "source": []
  },
  {
   "cell_type": "code",
   "execution_count": null,
   "metadata": {},
   "outputs": [],
   "source": [
    "from bokeh.io import show, output_notebook#,curdoc,save, output_file\n",
    "from bokeh.plotting import figure\n",
    "#from bokeh.models import ColumnDataSource, Range1d, BBoxTileSource\n",
    "#from bokeh.layouts import row\n",
    "output_notebook()"
   ]
  },
  {
   "cell_type": "code",
   "execution_count": null,
   "metadata": {},
   "outputs": [],
   "source": [
    "#xgrid=np.linspace(1,n,n)\n",
    "x=quad_misspec.train_x\n",
    "y=quad_misspec.train_y\n",
    "\n",
    "\n",
    "xgrid=x[:,0]\n",
    "yhat=quad_misspec.optimize_obj.yhat_un_std\n",
    "p=figure(title='y and yhat', plot_width=900, plot_height=500)\n",
    "p.xaxis.axis_label = 'observations'\n",
    "p.scatter(xgrid,y,size=10,color='blue',alpha=0.4,legend='y')\n",
    "#p.line(xgrid,precip,color='blue',alpha=0.6,legend='precipitation')\n",
    "p.scatter(xgrid,yhat,size=5,color='green',alpha=0.9,legend='yhat')\n",
    "p.circle(xgrid,just_linreg.yhat,color='red',legend='just lin reg yhat')\n",
    "p.line(xgrid,np.mean(y))\n",
    "p.legend.location = \"top_left\"\n",
    "#p.yaxis.visible=False\n",
    "show(p)"
   ]
  },
  {
   "cell_type": "code",
   "execution_count": null,
   "metadata": {},
   "outputs": [],
   "source": [
    "print(yhat)\n",
    "print(y)"
   ]
  },
  {
   "cell_type": "code",
   "execution_count": null,
   "metadata": {},
   "outputs": [],
   "source": []
  },
  {
   "cell_type": "code",
   "execution_count": null,
   "metadata": {},
   "outputs": [],
   "source": [
    "\n",
    "ypredict=optimized_Ndiff_kernel.predict_tool(xvalidate,optimized_Ndiff_kernel.fixed_or_free_paramdict,modeldict1)\n",
    "prediction_err=yvalidate-ypredict\n",
    "prediction_mse=np.mean(prediction_err**2)"
   ]
  },
  {
   "cell_type": "code",
   "execution_count": null,
   "metadata": {},
   "outputs": [],
   "source": [
    "np.ma.count_masked(yhat)"
   ]
  },
  {
   "cell_type": "code",
   "execution_count": null,
   "metadata": {},
   "outputs": [],
   "source": []
  },
  {
   "cell_type": "markdown",
   "metadata": {},
   "source": [
    "## class toolcompare(object):"
   ]
  }
 ],
 "metadata": {
  "kernelspec": {
   "display_name": "Python 3",
   "language": "python",
   "name": "python3"
  },
  "language_info": {
   "codemirror_mode": {
    "name": "ipython",
    "version": 3
   },
   "file_extension": ".py",
   "mimetype": "text/x-python",
   "name": "python",
   "nbconvert_exporter": "python",
   "pygments_lexer": "ipython3",
   "version": "3.7.4"
  },
  "pycharm": {
   "stem_cell": {
    "cell_type": "raw",
    "metadata": {
     "collapsed": false
    },
    "source": []
   }
  }
 },
 "nbformat": 4,
 "nbformat_minor": 4
}
