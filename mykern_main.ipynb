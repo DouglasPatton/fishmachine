{
 "cells": [
  {
   "cell_type": "markdown",
   "metadata": {},
   "source": [
    "### kernel density estimation and kernel regression for prediction\n",
    "This notebook is my first attempt to write down the ddiff and dddiff models that I have been working on"
   ]
  },
  {
   "cell_type": "markdown",
   "metadata": {},
   "source": [
    "mixed recursive/iterative approach (rather than vectorized approach that is harder to generalize\n",
    "- create separate submodules for KDE and KDreg\n",
    "    - develop a system for storing differenced but unweighted data and the appropriate mask to lessen memory usage. \n",
    "        -1's or 0's depending on i/j/k/l/.... values\n",
    "    - figure out the deepest level requested by the user and levels that are less deep are just slices of the deeper model. \n",
    "        -scout out the tree to build the differenced dataset. \n",
    "          \n",
    "        \n",
    " plot and compare\n",
    "on synthetic data, 1, 2, 3+ mixed distributions\n",
    "1d - Ndiff vs gaussian kernel vs kernel_tunneling\n",
    "2d -  \n",
    "\n",
    "\n",
    "multidimensional x problem\n",
    "e.g., parameter treatment\n",
    "\"product kernel approach\" vs l2 \"el two\" (radial basis?)distance "
   ]
  },
  {
   "cell_type": "markdown",
   "metadata": {},
   "source": [
    "#### generate a simple linear dataset y=xb+e\n",
    "##### store validation data from same dataset too"
   ]
  },
  {
   "cell_type": "markdown",
   "metadata": {
    "pycharm": {
     "name": "#%% md\n"
    }
   },
   "source": [
    "### create modeldict\n",
    "- 'Ndiff_type': refers to the mathematical form of Ndiff\n",
    "  - 'product'-Ndiff1 multiplied by Ndiff2\n",
    "  - 'recursive'-Ndiff1's bw is Ndiff 2\n",
    "- max_bw_Ndiff: is the depth of Ndiffs applied in estimating the bandwidth.\n",
    "- 'normalize_Ndiffwtsum':\n",
    "  - 'across' means sum across own level of kernelized-Ndiffs and divide by that sum (CDF approach)\n",
    "  - 'own_n' means for (n+k)diff where n+K=max_bw_Ndiff\n",
    "- Ndiff_bw_kern:\n",
    "  - rbfkern means use the radial basis function kernel\n",
    "  - 'product' means use product kernel like as in liu and yang eq1. \n",
    "- 'regression_model':\n",
    "  - 'NW' means use nadaraya-watson kernel regression\n",
    "  - 'full_logit' means local logit with all variables entering linearly\n",
    "  - 'rbf_logit' means local logit with 1 parameters: scaled l2 norm centered on zero \n",
    " (globally or by i?). Is this a new idea?\n",
    "- outer_x_bw_form: if x is separated into blocks of rvars that are combined within a block using rbf kernel, \n",
    "  - 'one_for_all' - use same hx bw for all blocks\n",
    "  - 'one_per_block' - each block or rvars gets an hx\n",
    "- ykern_grid\n",
    "  - if int, then create int evnely spaced values from -3 to 3 (standard normal middle ~99%)\n",
    "  - 'no' means use original data points (self is masked when predicting self)\n",
    "- xkern_grid\n",
    "  - much like ykern_grid, but used less frequently since x's are typically pre-specified\n",
    "- product_kern_norm: when multiplying kernels across random variables, this parameter determines if each random variable has its kernels normalized before the product or not\n",
    "  - 'self' means each random variable has its kernels divided by the sum of kernels across the nout axis (the number of possibile values y is averaged over, whose probabilities sum to 1)\n",
    "  - 'own_n' means same as self, but divided by count of non-masked items in second to last, nout lenght dimension\n",
    "  - 'none' means no normalization prior to taking products across rvar kernels\n",
    "- hyper_param_form_dict is a nested dictionary\n",
    "  - Ndiff_exponent is the exponent wrapped around typically a sum of kernels for each Ndiff level \n",
    "after level 1 (i.e., (i-j) or centered, obvious/conventional level.)\n",
    "  - x_bandscale is the parameter specific to each variable (each x in X) used for prediction (y)\n",
    "  - Ndiff_depth_bw is used as the kernel's bandwidth (h) at each level of Ndiff including at level 1 \n",
    "  - outer_x_bw vanilla bandwidth for the rbf or product kernel\n",
    "  - outer_y_bw vanilla bandwidth for y"
   ]
  },
  {
   "cell_type": "code",
   "execution_count": 1,
   "metadata": {},
   "outputs": [],
   "source": [
    "import os\n",
    "import kernelcompare as kc\n",
    "#from importlib import reload\n",
    "networkdir='o:/public/dpatton/kernel'\n",
    "mydir=os.getcwd()\n",
    "#mydir2=os.path.join(mydir,\"old models without datagen\")\n",
    "test=kc.KernelCompare(directory=mydir)"
   ]
  },
  {
   "cell_type": "code",
   "execution_count": 2,
   "metadata": {},
   "outputs": [],
   "source": [
    "Ndiff_type_variations=('modeldict:Ndiff_type',['recursive','product'])\n",
    "max_bw_Ndiff_variations=('modeldict:max_bw_Ndiff',[2,3])\n",
    "Ndiff_start_variations=('modeldict:Ndiff_start',[1,2])\n",
    "ykern_grid_variations=('ykern_grid',[33])\n",
    "#product_kern_norm_variations=('modeldict:product_kern_norm',['self','own_n'])#include None too?\n",
    "#normalize_Ndiffwtsum_variations=('modeldict:normalize_Ndiffwtsum',['own_n','across'])\n",
    "optdict_variation_list=[Ndiff_type_variations,max_bw_Ndiff_variations,Ndiff_start_variations]  #,product_kern_norm_variations,normalize_Ndiffwtsum_variations]\n",
    "\n"
   ]
  },
  {
   "cell_type": "code",
   "execution_count": 3,
   "metadata": {},
   "outputs": [],
   "source": [
    "#the default datagen_dict as of 11/25/2019\n",
    "#datagen_dict={'batch_n':32,'batchcount':10, 'param_count':param_count,'seed':1, 'ftype':'linear', 'evar':1, 'source':'monte'}\n",
    "\n",
    "\n",
    "batch_n_variations=('batch_n',[32])\n",
    "batchcount_variations=('batchcount',[8])\n",
    "ftype_variations=('ftype',['linear','quadratic'])\n",
    "param_count_variations=('param_count',[1,2])\n",
    "#need to add block capability to datagen so we can repeat optimization with new training data.\n",
    "\n",
    "datagen_variation_list=[batch_n_variations,batchcount_variations,ftype_variations,param_count_variations]\n",
    "\n"
   ]
  },
  {
   "cell_type": "code",
   "execution_count": 4,
   "metadata": {},
   "outputs": [
    {
     "name": "stdout",
     "output_type": "stream",
     "text": [
      "dict_combo_list has 4 variations to run\n",
      "len(datagen_dict_list):4\n",
      "dict_combo_list has 8 variations to run\n",
      "dict_combo_list has 8 variations to run\n",
      "dict_combo_list has 8 variations to run\n",
      "dict_combo_list has 8 variations to run\n"
     ]
    },
    {
     "data": {
      "text/plain": [
       "\"print(f'len(testrun){len(testrun)}')\\nprint(f'testrun[0]{testrun[0:2]}')\\nprint('--------------')\\nprint(f'testrun[-1]{testrun[-4:]}')\""
      ]
     },
     "execution_count": 4,
     "metadata": {},
     "output_type": "execute_result"
    }
   ],
   "source": [
    "testrun=test.prep_model_list(optdict_variation_list=optdict_variation_list,datagen_variation_list=datagen_variation_list,verbose=1)\n",
    "'''print(f'len(testrun){len(testrun)}')\n",
    "print(f'testrun[0]{testrun[0:2]}')\n",
    "print('--------------')\n",
    "print(f'testrun[-1]{testrun[-4:]}')'''"
   ]
  },
  {
   "cell_type": "code",
   "execution_count": null,
   "metadata": {
    "pycharm": {
     "is_executing": false,
     "name": "#%%\n"
    }
   },
   "outputs": [
    {
     "name": "stdout",
     "output_type": "stream",
     "text": [
      "~~~~~~~run number:0`~~~~~~~\n",
      "a_rundict{'optimizedict': {'opt_settings_dict': {'method': 'Nelder-Mead', 'options': {'xatol': 0.5, 'fatol': 1, 'adaptive': True}, 'mse_threshold': 2, 'help_start': 1, 'partial_match': 1}, 'hyper_param_dict': {'Ndiff_exponent': array([0.3, 0.3]), 'x_bandscale': array([1.]), 'outer_x_bw': array([2.7]), 'outer_y_bw': array([2.2]), 'Ndiff_depth_bw': array([0.5, 0.5]), 'y_bandscale': array([1.5])}, 'modeldict': {'Ndiff_type': 'recursive', 'param_count': 1, 'Ndiff_start': 1, 'max_bw_Ndiff': 2, 'normalize_Ndiffwtsum': 'own_n', 'xkern_grid': 'no', 'ykern_grid': 61, 'outer_kern': 'gaussian', 'Ndiff_bw_kern': 'rbfkern', 'outer_x_bw_form': 'one_for_all', 'regression_model': 'NW', 'product_kern_norm': 'self', 'hyper_param_form_dict': {'Ndiff_exponent': 'free', 'x_bandscale': 'non-neg', 'Ndiff_depth_bw': 'non-neg', 'outer_x_bw': 'non-neg', 'outer_y_bw': 'non-neg', 'y_bandscale': 'non-neg'}}}, 'datagen_dict': {'validate_batchcount': 10, 'batch_n': 32, 'batchcount': 8, 'param_count': 1, 'seed': 1, 'ftype': 'linear', 'evar': 1, 'source': 'monte'}}\n",
      "datagen_dict:{'validate_batchcount': 10, 'batch_n': 32, 'batchcount': 8, 'param_count': 1, 'seed': 1, 'ftype': 'linear', 'evar': 1, 'source': 'monte'} for directory,C:\\Users\\DPatton\\gits\\kernelkernel\n",
      "Traceback (most recent call last):\n",
      "  File \"C:\\Users\\DPatton\\gits\\kernelkernel\\kernelcompare.py\", line 488, in open_and_compare_optdict\n",
      "    with open(saved_filename,'rb') as saved_model_bytes:\n",
      "FileNotFoundError: [Errno 2] No such file or directory: 'C:\\\\Users\\\\DPatton\\\\gits\\\\kernelkernel\\\\..\\\\condensed_model_save'\n",
      "\n",
      "saved_filename is C:\\Users\\DPatton\\gits\\kernelkernel\\..\\condensed_model_save, but does not seem to exist\n",
      "in saved_filename:C:\\Users\\DPatton\\gits\\kernelkernel\\condensed_model_save, len(doubledict_list):70,len(saved_dict_list):70\n",
      "--------------------------------help_start is triggered---------------------------\n",
      "--------------help_start with partial match triggered----------------\n",
      "-----partial match is looking for a partial match------\n",
      "4 partial matches found only after substituting {'datagen_dict': {'batch_n': 32}}\n",
      "optimization dict with lowest mse:23.903548570870893, n:48was last saved20191125-185934\n",
      "overriding start parameters with saved parameters\n",
      "key Ndiff_exponent\n",
      "type(replacement_fixedfreedict): <class 'dict'>\n",
      "traceback for run 0\n",
      "Traceback (most recent call last):\n",
      "  File \"<ipython-input-5-c7abcfee2125>\", line 13, in <module>\n",
      "    test.do_monte_opt(optimizedict,datagen_dict,force_start_params=0)\n",
      "  File \"C:\\Users\\DPatton\\gits\\kernelkernel\\kernelcompare.py\", line 33, in do_monte_opt\n",
      "    optimizedict=self.run_opt_complete_check(optimizedict,datagen_obj,replace=1)\n",
      "  File \"C:\\Users\\DPatton\\gits\\kernelkernel\\kernelcompare.py\", line 110, in run_opt_complete_check\n",
      "    optimizedict=self.rebuild_hyper_param_dict(optimizedict,best_dict['params'],verbose=0)\n",
      "  File \"C:\\Users\\DPatton\\gits\\kernelkernel\\kernelcompare.py\", line 125, in rebuild_hyper_param_dict\n",
      "    new_val=mk.kNdtool.pull_value_from_fixed_or_free(key,replacement_fixedfreedict,transform='no')\n",
      "TypeError: pull_value_from_fixed_or_free() missing 1 required positional argument: 'fixed_or_free_paramdict'\n",
      "\n",
      "~~~~~~~run number:1`~~~~~~~\n",
      "a_rundict{'optimizedict': {'opt_settings_dict': {'method': 'Nelder-Mead', 'options': {'xatol': 0.5, 'fatol': 1, 'adaptive': True}, 'mse_threshold': 2, 'help_start': 1, 'partial_match': 1}, 'hyper_param_dict': {'Ndiff_exponent': array([0.3, 0.3]), 'x_bandscale': array([1.]), 'outer_x_bw': array([2.7]), 'outer_y_bw': array([2.2]), 'Ndiff_depth_bw': array([0.5, 0.5]), 'y_bandscale': array([1.5])}, 'modeldict': {'Ndiff_type': 'product', 'param_count': 1, 'Ndiff_start': 1, 'max_bw_Ndiff': 2, 'normalize_Ndiffwtsum': 'own_n', 'xkern_grid': 'no', 'ykern_grid': 61, 'outer_kern': 'gaussian', 'Ndiff_bw_kern': 'rbfkern', 'outer_x_bw_form': 'one_for_all', 'regression_model': 'NW', 'product_kern_norm': 'self', 'hyper_param_form_dict': {'Ndiff_exponent': 'free', 'x_bandscale': 'non-neg', 'Ndiff_depth_bw': 'non-neg', 'outer_x_bw': 'non-neg', 'outer_y_bw': 'non-neg', 'y_bandscale': 'non-neg'}}}, 'datagen_dict': {'validate_batchcount': 10, 'batch_n': 32, 'batchcount': 8, 'param_count': 1, 'seed': 1, 'ftype': 'linear', 'evar': 1, 'source': 'monte'}}\n",
      "datagen_dict:{'validate_batchcount': 10, 'batch_n': 32, 'batchcount': 8, 'param_count': 1, 'seed': 1, 'ftype': 'linear', 'evar': 1, 'source': 'monte'} for directory,C:\\Users\\DPatton\\gits\\kernelkernel\n",
      "Traceback (most recent call last):\n",
      "  File \"C:\\Users\\DPatton\\gits\\kernelkernel\\kernelcompare.py\", line 488, in open_and_compare_optdict\n",
      "    with open(saved_filename,'rb') as saved_model_bytes:\n",
      "FileNotFoundError: [Errno 2] No such file or directory: 'C:\\\\Users\\\\DPatton\\\\gits\\\\kernelkernel\\\\..\\\\condensed_model_save'\n",
      "\n",
      "saved_filename is C:\\Users\\DPatton\\gits\\kernelkernel\\..\\condensed_model_save, but does not seem to exist\n",
      "in saved_filename:C:\\Users\\DPatton\\gits\\kernelkernel\\condensed_model_save, len(doubledict_list):70,len(saved_dict_list):70\n",
      "--------------------------------help_start is triggered---------------------------\n",
      "--------------help_start with partial match triggered----------------\n",
      "-----partial match is looking for a partial match------\n",
      "4 partial matches found only after substituting {'datagen_dict': {'batch_n': 32}}\n",
      "optimization dict with lowest mse:24.269012280299012, n:48was last saved20191125-195920\n",
      "overriding start parameters with saved parameters\n",
      "key Ndiff_exponent\n",
      "type(replacement_fixedfreedict): <class 'dict'>\n",
      "traceback for run 1\n",
      "Traceback (most recent call last):\n",
      "  File \"<ipython-input-5-c7abcfee2125>\", line 13, in <module>\n",
      "    test.do_monte_opt(optimizedict,datagen_dict,force_start_params=0)\n",
      "  File \"C:\\Users\\DPatton\\gits\\kernelkernel\\kernelcompare.py\", line 33, in do_monte_opt\n",
      "    optimizedict=self.run_opt_complete_check(optimizedict,datagen_obj,replace=1)\n",
      "  File \"C:\\Users\\DPatton\\gits\\kernelkernel\\kernelcompare.py\", line 110, in run_opt_complete_check\n",
      "    optimizedict=self.rebuild_hyper_param_dict(optimizedict,best_dict['params'],verbose=0)\n",
      "  File \"C:\\Users\\DPatton\\gits\\kernelkernel\\kernelcompare.py\", line 125, in rebuild_hyper_param_dict\n",
      "    new_val=mk.kNdtool.pull_value_from_fixed_or_free(key,replacement_fixedfreedict,transform='no')\n",
      "TypeError: pull_value_from_fixed_or_free() missing 1 required positional argument: 'fixed_or_free_paramdict'\n",
      "\n",
      "~~~~~~~run number:2`~~~~~~~\n",
      "a_rundict{'optimizedict': {'opt_settings_dict': {'method': 'Nelder-Mead', 'options': {'xatol': 0.5, 'fatol': 1, 'adaptive': True}, 'mse_threshold': 2, 'help_start': 1, 'partial_match': 1}, 'hyper_param_dict': {'Ndiff_exponent': array([0.3, 0.3]), 'x_bandscale': array([1.]), 'outer_x_bw': array([2.7]), 'outer_y_bw': array([2.2]), 'Ndiff_depth_bw': array([0.5, 0.5]), 'y_bandscale': array([1.5])}, 'modeldict': {'Ndiff_type': 'recursive', 'param_count': 1, 'Ndiff_start': 1, 'max_bw_Ndiff': 3, 'normalize_Ndiffwtsum': 'own_n', 'xkern_grid': 'no', 'ykern_grid': 61, 'outer_kern': 'gaussian', 'Ndiff_bw_kern': 'rbfkern', 'outer_x_bw_form': 'one_for_all', 'regression_model': 'NW', 'product_kern_norm': 'self', 'hyper_param_form_dict': {'Ndiff_exponent': 'free', 'x_bandscale': 'non-neg', 'Ndiff_depth_bw': 'non-neg', 'outer_x_bw': 'non-neg', 'outer_y_bw': 'non-neg', 'y_bandscale': 'non-neg'}}}, 'datagen_dict': {'validate_batchcount': 10, 'batch_n': 32, 'batchcount': 8, 'param_count': 1, 'seed': 1, 'ftype': 'linear', 'evar': 1, 'source': 'monte'}}\n",
      "datagen_dict:{'validate_batchcount': 10, 'batch_n': 32, 'batchcount': 8, 'param_count': 1, 'seed': 1, 'ftype': 'linear', 'evar': 1, 'source': 'monte'} for directory,C:\\Users\\DPatton\\gits\\kernelkernel\n",
      "Traceback (most recent call last):\n",
      "  File \"C:\\Users\\DPatton\\gits\\kernelkernel\\kernelcompare.py\", line 488, in open_and_compare_optdict\n",
      "    with open(saved_filename,'rb') as saved_model_bytes:\n",
      "FileNotFoundError: [Errno 2] No such file or directory: 'C:\\\\Users\\\\DPatton\\\\gits\\\\kernelkernel\\\\..\\\\condensed_model_save'\n",
      "\n",
      "saved_filename is C:\\Users\\DPatton\\gits\\kernelkernel\\..\\condensed_model_save, but does not seem to exist\n",
      "in saved_filename:C:\\Users\\DPatton\\gits\\kernelkernel\\condensed_model_save, len(doubledict_list):70,len(saved_dict_list):70\n",
      "--------------------------------help_start is triggered---------------------------\n",
      "--------------help_start with partial match triggered----------------\n",
      "-----partial match is looking for a partial match------\n",
      "partial_match could not find any partial matches\n",
      "in saved_filename:model_save, len(doubledict_list):17,len(saved_dict_list):17\n",
      "--------------------------------help_start is triggered---------------------------\n",
      "--------------help_start with partial match triggered----------------\n",
      "-----partial match is looking for a partial match------\n",
      "partial_match could not find any partial matches\n",
      "--------------no matching models found----------\n",
      "param_valdict:{'Ndiff_exponent': array([0.3, 0.3]), 'x_bandscale': array([1.]), 'outer_x_bw': array([2.7]), 'outer_y_bw': array([2.2]), 'Ndiff_depth_bw': array([0.5, 0.5]), 'y_bandscale': array([1.5])}\n",
      "setup_fixed_or_free_paramdict:{'Ndiff_exponent': {'fixed_or_free': 'free', 'const': 'free', 'location_idx': (0, 2)}, 'x_bandscale': {'fixed_or_free': 'free', 'const': 'non-neg', 'location_idx': (2, 3)}, 'Ndiff_depth_bw': {'fixed_or_free': 'free', 'const': 'non-neg', 'location_idx': (3, 5)}, 'outer_x_bw': {'fixed_or_free': 'free', 'const': 'non-neg', 'location_idx': (5, 6)}, 'outer_y_bw': {'fixed_or_free': 'free', 'const': 'non-neg', 'location_idx': (6, 7)}, 'y_bandscale': {'fixed_or_free': 'free', 'const': 'non-neg', 'location_idx': (7, 8)}, 'free_params': 'outside', 'fixed_params': array([], dtype=float64)}\n"
     ]
    }
   ],
   "source": [
    "import traceback\n",
    "from random import shuffle\n",
    "#shuffle(testrun)\n",
    "#a_rundict=testrun[100]#this produced the Ndiff_exponent error for recursive Ndiff\n",
    "for idx in range(len(testrun)):\n",
    "    print(f'~~~~~~~run number:{idx}`~~~~~~~')\n",
    "    a_rundict=testrun[idx]\n",
    "    print(f'a_rundict{a_rundict}')\n",
    "    optimizedict=a_rundict['optimizedict']\n",
    "    datagen_dict=a_rundict['datagen_dict']\n",
    "\n",
    "    try:\n",
    "        test.do_monte_opt(optimizedict,datagen_dict,force_start_params=0)\n",
    "        test.open_condense_resave('model_save',verbose=0)\n",
    "        test.merge_and_condense_saved_models(merge_directory=None,save_directory=None,condense=None,verbose=None)\n",
    "    except:\n",
    "        print('traceback for run',idx)\n",
    "        print(traceback.format_exc())\n"
   ]
  },
  {
   "cell_type": "code",
   "execution_count": null,
   "metadata": {},
   "outputs": [],
   "source": [
    "#test.open_condense_resave('condensed_model_save',verbose=1)\n"
   ]
  },
  {
   "cell_type": "code",
   "execution_count": null,
   "metadata": {},
   "outputs": [],
   "source": [
    "\n",
    "#test.recursive_merge(networkdir,overwrite=0,verbose=1)\n",
    "\n"
   ]
  },
  {
   "cell_type": "code",
   "execution_count": null,
   "metadata": {},
   "outputs": [],
   "source": [
    "'''import numpy as np\n",
    "\n",
    "\n",
    "\n",
    "datagen_dict={'train_n':60,'n':200, 'param_count':2,'seed':1, 'ftype':'linear', 'evar':1}\n",
    "linear_dict_to_add_list=[(f'datagen_dict:{key}',val) for key,val in datagen_dict.items()]\n",
    "print(linear_dict_to_add_list)\n",
    "\n",
    "test.add_dict('model_save_linear',linear_dict_to_add_list,overwrite=0,verbose=0)\n",
    "test.print_model_save(filename=\"model_save_linear-add_dict\")\n",
    "\n",
    "\n",
    "datagen_dict={'train_n':60,'n':200, 'param_count':2,'seed':1, 'ftype':'quadratic', 'evar':1}\n",
    "quadratic_dict_to_add_list=[(f'datagen_dict:{key}',val) for key,val in datagen_dict.items()]\n",
    "print(quadratic_dict_to_add_list)\n",
    "\n",
    "test.add_dict('model_save_quadratic',quadratic_dict_to_add_list,overwrite=0,verbose=0)\n",
    "test.print_model_save(filename=\"model_save_quadratic-add_dict\")'''"
   ]
  },
  {
   "cell_type": "code",
   "execution_count": null,
   "metadata": {},
   "outputs": [],
   "source": [
    "#test.print_model_save(filename=\"condensed_model_save\")\n"
   ]
  },
  {
   "cell_type": "code",
   "execution_count": null,
   "metadata": {},
   "outputs": [],
   "source": [
    "'''\n",
    "#print(os.getcwd())\n",
    "#try:test.open_condense_resave('model_save',verbose=0)\n",
    "#except:pass\n",
    "try:test.open_condense_resave('condensed_model_save',verbose=0)\n",
    "except:pass'''"
   ]
  },
  {
   "cell_type": "code",
   "execution_count": null,
   "metadata": {},
   "outputs": [],
   "source": [
    "'''from os import getcwd\n",
    "thisdir=getcwd()\n",
    "test.merge_and_condense_saved_models(merge_directory=thisdir,save_directory=thisdir,condense=1,verbose=1)'''"
   ]
  },
  {
   "cell_type": "code",
   "execution_count": null,
   "metadata": {
    "collapsed": false,
    "jupyter": {
     "outputs_hidden": false
    },
    "pycharm": {
     "is_executing": false,
     "name": "#%%\n"
    }
   },
   "outputs": [],
   "source": [
    "\n"
   ]
  },
  {
   "cell_type": "markdown",
   "metadata": {
    "pycharm": {
     "name": "#%% md\n"
    }
   },
   "source": [
    "#-----------------Calibrate/Optimize--------"
   ]
  },
  {
   "cell_type": "code",
   "execution_count": null,
   "metadata": {
    "collapsed": false,
    "jupyter": {
     "outputs_hidden": false
    },
    "pycharm": {
     "is_executing": false,
     "name": "#%%\n"
    }
   },
   "outputs": [],
   "source": []
  },
  {
   "cell_type": "code",
   "execution_count": null,
   "metadata": {},
   "outputs": [],
   "source": [
    "'''import myreg\n",
    "x=test.train_x\n",
    "y=test.train_y\n",
    "xfull=np.concatenate([np.ones([x.shape[0],1]),x],axis=1)\n",
    "just_linreg=myreg.reg(y,xfull)\n",
    "just_linreg.myreg()\n",
    "print('linreg_mse:',just_linreg.mse)'''"
   ]
  },
  {
   "cell_type": "code",
   "execution_count": null,
   "metadata": {},
   "outputs": [],
   "source": []
  },
  {
   "cell_type": "code",
   "execution_count": null,
   "metadata": {},
   "outputs": [],
   "source": [
    "from bokeh.io import show, output_notebook#,curdoc,save, output_file\n",
    "from bokeh.plotting import figure\n",
    "#from bokeh.models import ColumnDataSource, Range1d, BBoxTileSource\n",
    "#from bokeh.layouts import row\n",
    "output_notebook()"
   ]
  },
  {
   "cell_type": "code",
   "execution_count": null,
   "metadata": {},
   "outputs": [],
   "source": [
    "#xgrid=np.linspace(1,n,n)\n",
    "x=quad_misspec.train_x\n",
    "y=quad_misspec.train_y\n",
    "\n",
    "\n",
    "xgrid=x[:,0]\n",
    "yhat=quad_misspec.optimize_obj.yhat_un_std\n",
    "p=figure(title='y and yhat', plot_width=900, plot_height=500)\n",
    "p.xaxis.axis_label = 'observations'\n",
    "p.scatter(xgrid,y,size=10,color='blue',alpha=0.4,legend='y')\n",
    "#p.line(xgrid,precip,color='blue',alpha=0.6,legend='precipitation')\n",
    "p.scatter(xgrid,yhat,size=5,color='green',alpha=0.9,legend='yhat')\n",
    "p.circle(xgrid,just_linreg.yhat,color='red',legend='just lin reg yhat')\n",
    "p.line(xgrid,np.mean(y))\n",
    "p.legend.location = \"top_left\"\n",
    "#p.yaxis.visible=False\n",
    "show(p)"
   ]
  },
  {
   "cell_type": "code",
   "execution_count": null,
   "metadata": {},
   "outputs": [],
   "source": [
    "print(yhat)\n",
    "print(y)"
   ]
  },
  {
   "cell_type": "code",
   "execution_count": null,
   "metadata": {},
   "outputs": [],
   "source": []
  },
  {
   "cell_type": "code",
   "execution_count": null,
   "metadata": {},
   "outputs": [],
   "source": [
    "\n",
    "ypredict=optimized_Ndiff_kernel.predict_tool(xvalidate,optimized_Ndiff_kernel.fixed_or_free_paramdict,modeldict1)\n",
    "prediction_err=yvalidate-ypredict\n",
    "prediction_mse=np.mean(prediction_err**2)"
   ]
  },
  {
   "cell_type": "code",
   "execution_count": null,
   "metadata": {},
   "outputs": [],
   "source": [
    "np.ma.count_masked(yhat)"
   ]
  },
  {
   "cell_type": "code",
   "execution_count": null,
   "metadata": {},
   "outputs": [],
   "source": []
  },
  {
   "cell_type": "markdown",
   "metadata": {},
   "source": [
    "## class toolcompare(object):"
   ]
  }
 ],
 "metadata": {
  "kernelspec": {
   "display_name": "Python 3",
   "language": "python",
   "name": "python3"
  },
  "language_info": {
   "codemirror_mode": {
    "name": "ipython",
    "version": 3
   },
   "file_extension": ".py",
   "mimetype": "text/x-python",
   "name": "python",
   "nbconvert_exporter": "python",
   "pygments_lexer": "ipython3",
   "version": "3.7.4"
  },
  "pycharm": {
   "stem_cell": {
    "cell_type": "raw",
    "metadata": {
     "collapsed": false
    },
    "source": []
   }
  }
 },
 "nbformat": 4,
 "nbformat_minor": 4
}
