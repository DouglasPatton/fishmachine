{
 "cells": [
  {
   "cell_type": "markdown",
   "metadata": {},
   "source": [
    "### kernel density estimation and kernel regression for prediction\n",
    "This notebook is my first attempt to write down the ddiff and dddiff models that I have been working on"
   ]
  },
  {
   "cell_type": "markdown",
   "metadata": {},
   "source": [
    "mixed recursive/iterative approach (rather than vectorized approach that is harder to generalize\n",
    "- create separate submodules for KDE and KDreg\n",
    "    - develop a system for storing differenced but unweighted data and the appropriate mask to lessen memory usage. \n",
    "        -1's or 0's depending on i/j/k/l/.... values\n",
    "    - figure out the deepest level requested by the user and levels that are less deep are just slices of the deeper model. \n",
    "        -scout out the tree to build the differenced dataset. \n",
    "          \n",
    "        \n",
    " plot and compare\n",
    "on synthetic data, 1, 2, 3+ mixed distributions\n",
    "1d - Ndiff vs gaussian kernel vs kernel_tunneling\n",
    "2d -  \n",
    "\n",
    "\n",
    "multidimensional x problem\n",
    "e.g., parameter treatment\n",
    "\"product kernel approach\" vs l2 \"el two\" (radial basis?)distance "
   ]
  },
  {
   "cell_type": "markdown",
   "metadata": {},
   "source": [
    "#### generate a simple linear dataset y=xb+e\n",
    "##### store validation data from same dataset too"
   ]
  },
  {
   "cell_type": "markdown",
   "metadata": {
    "pycharm": {
     "name": "#%% md\n"
    }
   },
   "source": [
    "### create modeldict\n",
    "- 'Ndiff_type': refers to the mathematical form of Ndiff\n",
    "  - 'product'-Ndiff1 multiplied by Ndiff2\n",
    "  - 'recursive'-Ndiff1's bw is Ndiff 2\n",
    "- max_bw_Ndiff: is the depth of Ndiffs applied in estimating the bandwidth.\n",
    "- 'normalize_Ndiffwtsum':\n",
    "  - 'across' means sum across own level of kernelized-Ndiffs and divide by that sum (CDF approach)\n",
    "  - 'own_n' means for (n+k)diff where n+K=max_bw_Ndiff\n",
    "- Ndiff_bw_kern:\n",
    "  - rbfkern means use the radial basis function kernel\n",
    "  - 'product' means use product kernel like as in liu and yang eq1. \n",
    "- 'regression_model':\n",
    "  - 'NW' means use nadaraya-watson kernel regression\n",
    "  - 'NW-rbf' means use NW but calculate p(y,x) using rbf kernel rather than product kernel\n",
    "  - 'full_logit' means local logit with all variables entering linearly\n",
    "  - 'rbf_logit' means local logit with 1 parameters: scaled l2 norm centered on zero \n",
    " (globally or by i?). Is this a new idea?\n",
    "- outer_x_bw_form: if x is separated into blocks of rvars that are combined within a block using rbf kernel, \n",
    "  - 'one_for_all' - use same hx bw for all blocks\n",
    "  - 'one_per_block' - each block or rvars gets an hx\n",
    "- ykern_grid\n",
    "  - if int, then create int evnely spaced values from -3 to 3 (standard normal middle ~99%)\n",
    "  - 'no' means use original data points (self is masked when predicting self)\n",
    "- xkern_grid\n",
    "  - much like ykern_grid, but used less frequently since x's are typically pre-specified\n",
    "- product_kern_norm: when multiplying kernels across random variables, this parameter determines if each random variable has its kernels normalized before the product or not\n",
    "  - 'self' means each random variable has its kernels divided by the sum of kernels across the nout axis (the number of possibile values y is averaged over, whose probabilities sum to 1)\n",
    "  - 'own_n' means same as self, but divided by count of non-masked items in second to last, nout lenght dimension\n",
    "  - 'none' means no normalization prior to taking products across rvar kernels\n",
    "- hyper_param_form_dict is a nested dictionary\n",
    "  - Ndiff_exponent is the exponent wrapped around typically a sum of kernels for each Ndiff level \n",
    "after level 1 (i.e., (i-j) or centered, obvious/conventional level.)\n",
    "  - x_bandscale is the parameter specific to each variable (each x in X) used for prediction (y)\n",
    "  - Ndiff_depth_bw is used as the kernel's bandwidth (h) at each level of Ndiff including at level 1 \n",
    "  - outer_x_bw vanilla bandwidth for the rbf or product kernel\n",
    "  - outer_y_bw vanilla bandwidth for y"
   ]
  },
  {
   "cell_type": "code",
   "execution_count": 1,
   "metadata": {},
   "outputs": [
    {
     "name": "stdout",
     "output_type": "stream",
     "text": [
      "handlername:mykern-None.log\n"
     ]
    }
   ],
   "source": [
    "import os\n",
    "import kernelcompare as kc\n",
    "#from importlib import reload\n",
    "networkdir='o:/public/dpatton/kernel'\n",
    "mydir=os.getcwd()\n",
    "#mydir2=os.path.join(mydir,\"old models without datagen\")\n",
    "test=kc.KernelCompare(directory=mydir)"
   ]
  },
  {
   "cell_type": "code",
   "execution_count": 2,
   "metadata": {},
   "outputs": [],
   "source": [
    "lossfn_variations=('modeldict:loss_function',['crossmse2','crossmse3'])\n",
    "Ndiff_type_variations=('modeldict:Ndiff_type',['recursive','product'])\n",
    "max_bw_Ndiff_variations=('modeldict:max_bw_Ndiff',[2])\n",
    "Ndiff_start_variations=('modeldict:Ndiff_start',[2])\n",
    "ykern_grid_variations=('modeldict:ykern_grid',[33])\n",
    "regression_model_variations=('modeldict:regression_model',['NW-rbf'])\n",
    "#product_kern_norm_variations=('modeldict:product_kern_norm',['self','own_n'])#include None too?\n",
    "#normalize_Ndiffwtsum_variations=('modeldict:normalize_Ndiffwtsum',['own_n','across'])\n",
    "optdict_variation_list=[lossfn_variations,regression_model_variations,Ndiff_type_variations,ykern_grid_variations,max_bw_Ndiff_variations,Ndiff_start_variations]  #,product_kern_norm_variations,normalize_Ndiffwtsum_variations]\n",
    "\n"
   ]
  },
  {
   "cell_type": "code",
   "execution_count": 3,
   "metadata": {},
   "outputs": [],
   "source": [
    "#the default datagen_dict as of 11/25/2019\n",
    "#datagen_dict={'batch_n':32,'batchcount':10, 'param_count':param_count,'seed':1, 'ftype':'linear', 'evar':1, 'source':'monte'}\n",
    "\n",
    "\n",
    "batch_n_variations=('batch_n',[32])\n",
    "batchcount_variations=('batchcount',[2])\n",
    "#ftype_variations=('ftype',['linear','quadratic'])\n",
    "ftype_variations=('ftype',['quadratic'])\n",
    "param_count_variations=('param_count',[4])\n",
    "#need to add block capability to datagen so we can repeat optimization with new training data.\n",
    "\n",
    "datagen_variation_list=[batch_n_variations,batchcount_variations,ftype_variations,param_count_variations]\n",
    "\n"
   ]
  },
  {
   "cell_type": "code",
   "execution_count": 4,
   "metadata": {},
   "outputs": [
    {
     "name": "stdout",
     "output_type": "stream",
     "text": [
      "dict_combo_list has 1 variations to run\n",
      "len(datagen_dict_list):1\n",
      "dict_combo_list has 4 variations to run\n"
     ]
    },
    {
     "data": {
      "text/plain": [
       "\"print(f'len(testrun){len(testrun)}')\\nprint(f'testrun[0]{testrun[0:2]}')\\nprint('--------------')\\nprint(f'testrun[-1]{testrun[-4:]}')\""
      ]
     },
     "execution_count": 4,
     "metadata": {},
     "output_type": "execute_result"
    }
   ],
   "source": [
    "testrun=test.prep_model_list(optdict_variation_list=optdict_variation_list,datagen_variation_list=datagen_variation_list,verbose=1)\n",
    "'''print(f'len(testrun){len(testrun)}')\n",
    "print(f'testrun[0]{testrun[0:2]}')\n",
    "print('--------------')\n",
    "print(f'testrun[-1]{testrun[-4:]}')'''"
   ]
  },
  {
   "cell_type": "code",
   "execution_count": null,
   "metadata": {
    "pycharm": {
     "is_executing": false,
     "name": "#%%\n"
    }
   },
   "outputs": [
    {
     "name": "stdout",
     "output_type": "stream",
     "text": [
      "~~~~~~~run number:0`~~~~~~~\n",
      "a_rundict{'optimizedict': {'opt_settings_dict': {'method': 'Nelder-Mead', 'options': {'xatol': 0.5, 'fatol': 1, 'adaptive': True}, 'mse_threshold': 2, 'help_start': 1, 'partial_match': 1}, 'hyper_param_dict': {'Ndiff_exponent': array([1.e-05]), 'x_bandscale': array([1., 1., 1., 1.]), 'outer_x_bw': array([0.3]), 'outer_y_bw': array([0.3]), 'Ndiff_depth_bw': array([0.5]), 'y_bandscale': array([1.])}, 'modeldict': {'loss_function': 'crossmse2', 'Ndiff_type': 'recursive', 'param_count': 4, 'Ndiff_start': 2, 'max_bw_Ndiff': 2, 'normalize_Ndiffwtsum': 'own_n', 'xkern_grid': 'no', 'ykern_grid': 33, 'outer_kern': 'gaussian', 'Ndiff_bw_kern': 'rbfkern', 'outer_x_bw_form': 'one_for_all', 'regression_model': 'NW-rbf', 'product_kern_norm': 'self', 'hyper_param_form_dict': {'Ndiff_exponent': 'free', 'x_bandscale': 'non-neg', 'Ndiff_depth_bw': 'non-neg', 'outer_x_bw': 'non-neg', 'outer_y_bw': 'non-neg', 'y_bandscale': 'fixed'}}}, 'datagen_dict': {'validate_batchcount': 10, 'batch_n': 32, 'batchcount': 2, 'param_count': 4, 'seed': 1, 'ftype': 'quadratic', 'evar': 1, 'source': 'monte'}}\n",
      "datagen_dict:{'validate_batchcount': 10, 'batch_n': 32, 'batchcount': 2, 'param_count': 4, 'seed': 1, 'ftype': 'quadratic', 'evar': 1, 'source': 'monte'} for directory,C:\\Users\\DPatton\\gits2\\kernelkernel\n",
      "INFO <PID 12692:MainProcess> mykern.open_and_compare_optdict(): saved_filename is C:\\Users\\DPatton\\gits2\\kernelkernel\\..\\condensed_model_save, but does not seem to exist\n",
      "here1\n",
      "in saved_filename:C:\\Users\\DPatton\\gits2\\kernelkernel\\condensed_model_save, len(doubledict_list):179,len(saved_dict_list):179\n",
      "--------------------------------help_start is triggered---------------------------\n",
      "--------------help_start with partial match triggered----------------\n",
      "-----partial match is looking for a partial match------\n",
      "4 partial matches found only after substituting {'modeldict': {'loss_function': 'crossmse2'}}\n",
      "-----partial match is looking for a partial match------\n",
      "1 partial matches found only after substituting {'modeldict': {'regression_model': 'NW-rbf'}}\n",
      "-----partial match is looking for a partial match------\n",
      "1 partial matches found only after substituting {'modeldict': {'regression_model': 'NW'}}\n",
      "-----partial match is looking for a partial match------\n",
      "1 partial matches found only after substituting {'datagen_dict': {'batchcount': 20}}\n",
      "here3\n",
      "here2\n",
      "optimization dict with lowest mse:1244.7165805674833, n:80was last saved20191217-013034\n",
      "overriding start parameters with saved parameters\n",
      "handlername:mykern-None.log\n",
      "param_valdict:{'Ndiff_exponent': array([1.18523935e-05]), 'x_bandscale': array([1.09972819, 1.09096278, 0.88823583, 0.89229728]), 'outer_x_bw': array([0.331501]), 'outer_y_bw': array([0.2809217]), 'Ndiff_depth_bw': array([0.47782889]), 'y_bandscale': array([1.])}\n",
      "setup_fixed_or_free_paramdict:{'Ndiff_exponent': {'fixed_or_free': 'free', 'const': 'free', 'location_idx': (0, 1)}, 'x_bandscale': {'fixed_or_free': 'free', 'const': 'non-neg', 'location_idx': (1, 5)}, 'Ndiff_depth_bw': {'fixed_or_free': 'free', 'const': 'non-neg', 'location_idx': (5, 6)}, 'outer_x_bw': {'fixed_or_free': 'free', 'const': 'non-neg', 'location_idx': (6, 7)}, 'outer_y_bw': {'fixed_or_free': 'free', 'const': 'non-neg', 'location_idx': (7, 8)}, 'y_bandscale': {'fixed_or_free': 'fixed', 'const': 'fixed', 'location_idx': (0, 1)}, 'free_params': 'outside', 'fixed_params': array([1.])}\n",
      "mykern modeldict:{'loss_function': 'crossmse2', 'Ndiff_type': 'recursive', 'param_count': 4, 'Ndiff_start': 2, 'max_bw_Ndiff': 2, 'normalize_Ndiffwtsum': 'own_n', 'xkern_grid': 'no', 'ykern_grid': 33, 'outer_kern': 'gaussian', 'Ndiff_bw_kern': 'rbfkern', 'outer_x_bw_form': 'one_for_all', 'regression_model': 'NW-rbf', 'product_kern_norm': 'self', 'hyper_param_form_dict': {'Ndiff_exponent': 'free', 'x_bandscale': 'non-neg', 'Ndiff_depth_bw': 'non-neg', 'outer_x_bw': 'non-neg', 'outer_y_bw': 'non-neg', 'y_bandscale': 'fixed'}}\n"
     ]
    },
    {
     "name": "stderr",
     "output_type": "stream",
     "text": [
      "C:\\Users\\DPatton\\AppData\\Local\\Continuum\\anaconda3\\lib\\site-packages\\numpy\\ma\\core.py:713: UserWarning: Warning: converting a masked element to nan.\n",
      "  data = np.array(a, copy=False, subok=subok)\n",
      "C:\\Users\\DPatton\\AppData\\Local\\Continuum\\anaconda3\\lib\\site-packages\\numpy\\core\\numeric.py:538: UserWarning: Warning: converting a masked element to nan.\n",
      "  return array(a, dtype, copy=False, order=order)\n"
     ]
    },
    {
     "name": "stdout",
     "output_type": "stream",
     "text": [
      "time between saves for None is 0:02:03\n",
      "saved to C:\\Users\\DPatton\\gits2\\kernelkernel\\model_save at about 20191218-164145 with mse=42222216.36845401\n",
      "time between saves for None is 0:00:01\n",
      "saved to C:\\Users\\DPatton\\gits2\\kernelkernel\\model_save at about 20191218-164146 with mse=42222216.36845401\n",
      "save_interval changed to 14\n",
      "time between saves for None is 0:00:17\n",
      "saved to C:\\Users\\DPatton\\gits2\\kernelkernel\\model_save at about 20191218-164204 with mse=41928622.18594719\n",
      "time between saves for None is 0:00:19\n",
      "saved to C:\\Users\\DPatton\\gits2\\kernelkernel\\model_save at about 20191218-164222 with mse=41595285.72480515\n"
     ]
    },
    {
     "name": "stderr",
     "output_type": "stream",
     "text": [
      "C:\\Users\\DPatton\\AppData\\Local\\Continuum\\anaconda3\\lib\\site-packages\\numpy\\ma\\core.py:1161: RuntimeWarning: overflow encountered in true_divide\n",
      "  result = self.f(da, db, *args, **kwargs)\n"
     ]
    },
    {
     "name": "stdout",
     "output_type": "stream",
     "text": [
      "time between saves for None is 0:00:19\n",
      "saved to C:\\Users\\DPatton\\gits2\\kernelkernel\\model_save at about 20191218-164241 with mse=41321741.02397303\n",
      "time between saves for None is 0:00:19\n",
      "saved to C:\\Users\\DPatton\\gits2\\kernelkernel\\model_save at about 20191218-164300 with mse=41024370.26627713\n",
      "time between saves for None is 0:00:19\n",
      "saved to C:\\Users\\DPatton\\gits2\\kernelkernel\\model_save at about 20191218-164319 with mse=21551080.5124719\n",
      "time between saves for None is 0:00:18\n",
      "saved to C:\\Users\\DPatton\\gits2\\kernelkernel\\model_save at about 20191218-164337 with mse=1038691.4214386859\n",
      "time between saves for None is 0:00:20\n",
      "saved to C:\\Users\\DPatton\\gits2\\kernelkernel\\model_save at about 20191218-164357 with mse=639902.3705154434\n",
      "time between saves for None is 0:00:19\n",
      "saved to C:\\Users\\DPatton\\gits2\\kernelkernel\\model_save at about 20191218-164416 with mse=105261.53238519204\n",
      "time between saves for None is 0:00:20\n",
      "saved to C:\\Users\\DPatton\\gits2\\kernelkernel\\model_save at about 20191218-164436 with mse=36298.81184049827\n",
      "time between saves for None is 0:00:19\n",
      "saved to C:\\Users\\DPatton\\gits2\\kernelkernel\\model_save at about 20191218-164455 with mse=34315.35612142979\n",
      "time between saves for None is 0:00:19\n",
      "saved to C:\\Users\\DPatton\\gits2\\kernelkernel\\model_save at about 20191218-164514 with mse=33277.55257925226\n",
      "time between saves for None is 0:00:20\n",
      "saved to C:\\Users\\DPatton\\gits2\\kernelkernel\\model_save at about 20191218-164534 with mse=33277.55257925226\n",
      "time between saves for None is 0:00:19\n",
      "saved to C:\\Users\\DPatton\\gits2\\kernelkernel\\model_save at about 20191218-164553 with mse=33033.5643345302\n",
      "time between saves for None is 0:00:20\n",
      "saved to C:\\Users\\DPatton\\gits2\\kernelkernel\\model_save at about 20191218-164613 with mse=32555.410354036063\n",
      "time between saves for None is 0:00:18\n",
      "saved to C:\\Users\\DPatton\\gits2\\kernelkernel\\model_save at about 20191218-164631 with mse=29751.87053582084\n",
      "time between saves for None is 0:00:19\n",
      "saved to C:\\Users\\DPatton\\gits2\\kernelkernel\\model_save at about 20191218-164650 with mse=29088.947462562555\n",
      "time between saves for None is 0:00:18\n",
      "saved to C:\\Users\\DPatton\\gits2\\kernelkernel\\model_save at about 20191218-164708 with mse=29088.947462562555\n",
      "time between saves for None is 0:00:17\n",
      "saved to C:\\Users\\DPatton\\gits2\\kernelkernel\\model_save at about 20191218-164725 with mse=28822.963295681522\n",
      "time between saves for None is 0:00:19\n",
      "saved to C:\\Users\\DPatton\\gits2\\kernelkernel\\model_save at about 20191218-164744 with mse=28718.35693037466\n",
      "time between saves for None is 0:00:19\n",
      "saved to C:\\Users\\DPatton\\gits2\\kernelkernel\\model_save at about 20191218-164803 with mse=28160.125194967615\n",
      "time between saves for None is 0:00:19\n",
      "saved to C:\\Users\\DPatton\\gits2\\kernelkernel\\model_save at about 20191218-164822 with mse=26877.547582362917\n",
      "time between saves for None is 0:00:20\n",
      "saved to C:\\Users\\DPatton\\gits2\\kernelkernel\\model_save at about 20191218-164842 with mse=25624.801685205566\n",
      "time between saves for None is 0:00:18\n",
      "saved to C:\\Users\\DPatton\\gits2\\kernelkernel\\model_save at about 20191218-164900 with mse=25053.764049059904\n",
      "time between saves for None is 0:00:18\n",
      "saved to C:\\Users\\DPatton\\gits2\\kernelkernel\\model_save at about 20191218-164918 with mse=24581.119422361582\n",
      "time between saves for None is 0:00:17\n",
      "saved to C:\\Users\\DPatton\\gits2\\kernelkernel\\model_save at about 20191218-164935 with mse=23418.05332500298\n",
      "time between saves for None is 0:00:22\n",
      "saved to C:\\Users\\DPatton\\gits2\\kernelkernel\\model_save at about 20191218-164957 with mse=21201.369915080897\n",
      "time between saves for None is 0:00:18\n",
      "saved to C:\\Users\\DPatton\\gits2\\kernelkernel\\model_save at about 20191218-165015 with mse=20419.83937385193\n",
      "time between saves for None is 0:00:19\n",
      "saved to C:\\Users\\DPatton\\gits2\\kernelkernel\\model_save at about 20191218-165034 with mse=18557.546887918008\n",
      "time between saves for None is 0:00:20\n",
      "saved to C:\\Users\\DPatton\\gits2\\kernelkernel\\model_save at about 20191218-165054 with mse=17306.622504999086\n",
      "time between saves for None is 0:00:19\n",
      "saved to C:\\Users\\DPatton\\gits2\\kernelkernel\\model_save at about 20191218-165113 with mse=16781.953786711896\n",
      "time between saves for None is 0:00:20\n",
      "saved to C:\\Users\\DPatton\\gits2\\kernelkernel\\model_save at about 20191218-165133 with mse=16376.563754231362\n",
      "time between saves for None is 0:00:19\n",
      "saved to C:\\Users\\DPatton\\gits2\\kernelkernel\\model_save at about 20191218-165152 with mse=16037.323545046973\n",
      "time between saves for None is 0:00:20\n",
      "saved to C:\\Users\\DPatton\\gits2\\kernelkernel\\model_save at about 20191218-165212 with mse=15564.305874071968\n",
      "time between saves for None is 0:00:18\n",
      "saved to C:\\Users\\DPatton\\gits2\\kernelkernel\\model_save at about 20191218-165230 with mse=14725.409112745787\n",
      "time between saves for None is 0:00:16\n",
      "saved to C:\\Users\\DPatton\\gits2\\kernelkernel\\model_save at about 20191218-165246 with mse=13827.930698976936\n",
      "time between saves for None is 0:00:18\n",
      "saved to C:\\Users\\DPatton\\gits2\\kernelkernel\\model_save at about 20191218-165304 with mse=13194.109614890931\n",
      "time between saves for None is 0:00:19\n",
      "saved to C:\\Users\\DPatton\\gits2\\kernelkernel\\model_save at about 20191218-165323 with mse=12912.193064598725\n",
      "time between saves for None is 0:00:19\n",
      "saved to C:\\Users\\DPatton\\gits2\\kernelkernel\\model_save at about 20191218-165342 with mse=12761.624721085092\n",
      "time between saves for None is 0:00:17\n",
      "saved to C:\\Users\\DPatton\\gits2\\kernelkernel\\model_save at about 20191218-165359 with mse=12669.591775328352\n",
      "time between saves for None is 0:00:21\n",
      "saved to C:\\Users\\DPatton\\gits2\\kernelkernel\\model_save at about 20191218-165420 with mse=12624.763881111954\n",
      "time between saves for None is 0:00:19\n",
      "saved to C:\\Users\\DPatton\\gits2\\kernelkernel\\model_save at about 20191218-165439 with mse=12614.89675069386\n",
      "time between saves for None is 0:00:21\n",
      "saved to C:\\Users\\DPatton\\gits2\\kernelkernel\\model_save at about 20191218-165500 with mse=12613.016783504396\n",
      "time between saves for None is 0:00:19\n",
      "saved to C:\\Users\\DPatton\\gits2\\kernelkernel\\model_save at about 20191218-165519 with mse=12612.999054955\n",
      "time between saves for None is 0:00:20\n",
      "saved to C:\\Users\\DPatton\\gits2\\kernelkernel\\model_save at about 20191218-165539 with mse=12612.999054955\n",
      "time between saves for None is 0:00:08\n",
      "saved to C:\\Users\\DPatton\\gits2\\kernelkernel\\model_save at about 20191218-165547 with mse=12612.934812081667\n",
      "saved to C:\\Users\\DPatton\\gits2\\kernelkernel\\final_model_save at about 20191218-165547 with mse=12612.934812081667\n",
      "lastparamdict:{'Ndiff_exponent': {'fixed_or_free': 'free', 'const': 'free', 'location_idx': (0, 1)}, 'x_bandscale': {'fixed_or_free': 'free', 'const': 'non-neg', 'location_idx': (1, 5)}, 'Ndiff_depth_bw': {'fixed_or_free': 'free', 'const': 'non-neg', 'location_idx': (5, 6)}, 'outer_x_bw': {'fixed_or_free': 'free', 'const': 'non-neg', 'location_idx': (6, 7)}, 'outer_y_bw': {'fixed_or_free': 'free', 'const': 'non-neg', 'location_idx': (7, 8)}, 'y_bandscale': {'fixed_or_free': 'fixed', 'const': 'fixed', 'location_idx': (0, 1)}, 'free_params': array([ 7.58052014e-05, -3.68016136e+00, -2.82662124e+00, -3.09275470e+00,\n",
      "       -2.99363162e+00,  6.78722510e+00, -2.91397456e+00,  1.55180961e+00]), 'fixed_params': array([1.])}\n",
      "writing new_model_list length:362 to newfile:<_io.BufferedWriter name='C:\\\\Users\\\\DPatton\\\\gits2\\\\kernelkernel\\\\condensed_model_save'>\n",
      "~~~~~~~run number:1`~~~~~~~\n",
      "a_rundict{'optimizedict': {'opt_settings_dict': {'method': 'Nelder-Mead', 'options': {'xatol': 0.5, 'fatol': 1, 'adaptive': True}, 'mse_threshold': 2, 'help_start': 1, 'partial_match': 1}, 'hyper_param_dict': {'Ndiff_exponent': array([1.e-05]), 'x_bandscale': array([1., 1., 1., 1.]), 'outer_x_bw': array([0.3]), 'outer_y_bw': array([0.3]), 'Ndiff_depth_bw': array([0.5]), 'y_bandscale': array([1.])}, 'modeldict': {'loss_function': 'crossmse3', 'Ndiff_type': 'recursive', 'param_count': 4, 'Ndiff_start': 2, 'max_bw_Ndiff': 2, 'normalize_Ndiffwtsum': 'own_n', 'xkern_grid': 'no', 'ykern_grid': 33, 'outer_kern': 'gaussian', 'Ndiff_bw_kern': 'rbfkern', 'outer_x_bw_form': 'one_for_all', 'regression_model': 'NW-rbf', 'product_kern_norm': 'self', 'hyper_param_form_dict': {'Ndiff_exponent': 'free', 'x_bandscale': 'non-neg', 'Ndiff_depth_bw': 'non-neg', 'outer_x_bw': 'non-neg', 'outer_y_bw': 'non-neg', 'y_bandscale': 'fixed'}}}, 'datagen_dict': {'validate_batchcount': 10, 'batch_n': 32, 'batchcount': 2, 'param_count': 4, 'seed': 1, 'ftype': 'quadratic', 'evar': 1, 'source': 'monte'}}\n",
      "datagen_dict:{'validate_batchcount': 10, 'batch_n': 32, 'batchcount': 2, 'param_count': 4, 'seed': 1, 'ftype': 'quadratic', 'evar': 1, 'source': 'monte'} for directory,C:\\Users\\DPatton\\gits2\\kernelkernel\n",
      "INFO <PID 12692:MainProcess> mykern.open_and_compare_optdict(): saved_filename is C:\\Users\\DPatton\\gits2\\kernelkernel\\..\\condensed_model_save, but does not seem to exist\n",
      "here1\n",
      "in saved_filename:C:\\Users\\DPatton\\gits2\\kernelkernel\\condensed_model_save, len(doubledict_list):362,len(saved_dict_list):362\n",
      "--------------------------------help_start is triggered---------------------------\n",
      "--------------help_start with partial match triggered----------------\n",
      "-----partial match is looking for a partial match------\n",
      "11 partial matches found only after substituting {'modeldict': {'loss_function': 'crossmse3'}}\n",
      "-----partial match is looking for a partial match------\n",
      "1 partial matches found only after substituting {'modeldict': {'regression_model': 'NW-rbf'}}\n",
      "-----partial match is looking for a partial match------\n",
      "1 partial matches found only after substituting {'modeldict': {'regression_model': 'NW'}}\n",
      "-----partial match is looking for a partial match------\n",
      "1 partial matches found only after substituting {'datagen_dict': {'batchcount': 20}}\n",
      "-----partial match is looking for a partial match------\n",
      "1 partial matches found only after substituting {'modeldict': {'loss_function': 'crossmse2'}}\n",
      "-----partial match is looking for a partial match------\n",
      "1 partial matches found only after substituting {'modeldict': {'loss_function': 'crossmse'}}\n",
      "-----partial match is looking for a partial match------\n",
      "1 partial matches found only after substituting {'modeldict': {'loss_function': 'crossmse2'}}\n",
      "-----partial match is looking for a partial match------\n",
      "1 partial matches found only after substituting {'modeldict': {'regression_model': 'NW-rbf2'}}\n",
      "-----partial match is looking for a partial match------\n",
      "1 partial matches found only after substituting {'modeldict': {'regression_model': 'NW-rbf'}}\n",
      "-----partial match is looking for a partial match------\n",
      "1 partial matches found only after substituting {'datagen_dict': {'batchcount': 20}}\n",
      "here3\n",
      "here2\n",
      "optimization dict with lowest mse:1244.7165805674833, n:80was last saved20191217-013034\n",
      "overriding start parameters with saved parameters\n",
      "handlername:mykern-None.log\n",
      "param_valdict:{'Ndiff_exponent': array([1.18523935e-05]), 'x_bandscale': array([1.09972819, 1.09096278, 0.88823583, 0.89229728]), 'outer_x_bw': array([0.331501]), 'outer_y_bw': array([0.2809217]), 'Ndiff_depth_bw': array([0.47782889]), 'y_bandscale': array([1.])}\n",
      "setup_fixed_or_free_paramdict:{'Ndiff_exponent': {'fixed_or_free': 'free', 'const': 'free', 'location_idx': (0, 1)}, 'x_bandscale': {'fixed_or_free': 'free', 'const': 'non-neg', 'location_idx': (1, 5)}, 'Ndiff_depth_bw': {'fixed_or_free': 'free', 'const': 'non-neg', 'location_idx': (5, 6)}, 'outer_x_bw': {'fixed_or_free': 'free', 'const': 'non-neg', 'location_idx': (6, 7)}, 'outer_y_bw': {'fixed_or_free': 'free', 'const': 'non-neg', 'location_idx': (7, 8)}, 'y_bandscale': {'fixed_or_free': 'fixed', 'const': 'fixed', 'location_idx': (0, 1)}, 'free_params': 'outside', 'fixed_params': array([1.])}\n",
      "mykern modeldict:{'loss_function': 'crossmse3', 'Ndiff_type': 'recursive', 'param_count': 4, 'Ndiff_start': 2, 'max_bw_Ndiff': 2, 'normalize_Ndiffwtsum': 'own_n', 'xkern_grid': 'no', 'ykern_grid': 33, 'outer_kern': 'gaussian', 'Ndiff_bw_kern': 'rbfkern', 'outer_x_bw_form': 'one_for_all', 'regression_model': 'NW-rbf', 'product_kern_norm': 'self', 'hyper_param_form_dict': {'Ndiff_exponent': 'free', 'x_bandscale': 'non-neg', 'Ndiff_depth_bw': 'non-neg', 'outer_x_bw': 'non-neg', 'outer_y_bw': 'non-neg', 'y_bandscale': 'fixed'}}\n",
      "time between saves for None is 0:00:03\n",
      "saved to C:\\Users\\DPatton\\gits2\\kernelkernel\\model_save at about 20191218-165550 with mse=37264084581.401596\n",
      "time between saves for None is 0:00:02\n",
      "saved to C:\\Users\\DPatton\\gits2\\kernelkernel\\model_save at about 20191218-165552 with mse=37264084581.401596\n",
      "save_interval changed to 15\n",
      "time between saves for None is 0:00:18\n",
      "saved to C:\\Users\\DPatton\\gits2\\kernelkernel\\model_save at about 20191218-165610 with mse=37204159356.579346\n"
     ]
    }
   ],
   "source": [
    "import traceback\n",
    "from random import shuffle\n",
    "#shuffle(testrun)\n",
    "#a_rundict=testrun[100]#this produced the Ndiff_exponent error for recursive Ndiff\n",
    "for idx in range(len(testrun)):\n",
    "    print(f'~~~~~~~run number:{idx}`~~~~~~~')\n",
    "    a_rundict=testrun[idx]\n",
    "    print(f'a_rundict{a_rundict}')\n",
    "    optimizedict=a_rundict['optimizedict']\n",
    "    datagen_dict=a_rundict['datagen_dict']\n",
    "\n",
    "    try:\n",
    "        test.do_monte_opt(optimizedict,datagen_dict,force_start_params=0)\n",
    "        test.open_condense_resave('model_save',verbose=0)\n",
    "        test.merge_and_condense_saved_models(merge_directory=None,save_directory=None,condense=None,verbose=None)\n",
    "    except:\n",
    "        print('traceback for run',idx)\n",
    "        print(traceback.format_exc())\n"
   ]
  },
  {
   "cell_type": "code",
   "execution_count": null,
   "metadata": {},
   "outputs": [],
   "source": [
    "#test.open_condense_resave('condensed_model_save',verbose=1)\n"
   ]
  },
  {
   "cell_type": "code",
   "execution_count": null,
   "metadata": {},
   "outputs": [],
   "source": [
    "\n",
    "#test.recursive_merge(networkdir,overwrite=0,verbose=1)\n",
    "\n"
   ]
  },
  {
   "cell_type": "code",
   "execution_count": null,
   "metadata": {},
   "outputs": [],
   "source": [
    "'''import numpy as np\n",
    "\n",
    "\n",
    "\n",
    "datagen_dict={'train_n':60,'n':200, 'param_count':2,'seed':1, 'ftype':'linear', 'evar':1}\n",
    "linear_dict_to_add_list=[(f'datagen_dict:{key}',val) for key,val in datagen_dict.items()]\n",
    "print(linear_dict_to_add_list)\n",
    "\n",
    "test.add_dict('model_save_linear',linear_dict_to_add_list,overwrite=0,verbose=0)\n",
    "test.print_model_save(filename=\"model_save_linear-add_dict\")\n",
    "\n",
    "\n",
    "datagen_dict={'train_n':60,'n':200, 'param_count':2,'seed':1, 'ftype':'quadratic', 'evar':1}\n",
    "quadratic_dict_to_add_list=[(f'datagen_dict:{key}',val) for key,val in datagen_dict.items()]\n",
    "print(quadratic_dict_to_add_list)\n",
    "\n",
    "test.add_dict('model_save_quadratic',quadratic_dict_to_add_list,overwrite=0,verbose=0)\n",
    "test.print_model_save(filename=\"model_save_quadratic-add_dict\")'''"
   ]
  },
  {
   "cell_type": "code",
   "execution_count": null,
   "metadata": {},
   "outputs": [],
   "source": [
    "#test.print_model_save(filename=\"condensed_model_save\")\n"
   ]
  },
  {
   "cell_type": "code",
   "execution_count": null,
   "metadata": {},
   "outputs": [],
   "source": [
    "'''\n",
    "#print(os.getcwd())\n",
    "#try:test.open_condense_resave('model_save',verbose=0)\n",
    "#except:pass\n",
    "try:test.open_condense_resave('condensed_model_save',verbose=0)\n",
    "except:pass'''"
   ]
  },
  {
   "cell_type": "code",
   "execution_count": null,
   "metadata": {},
   "outputs": [],
   "source": [
    "'''from os import getcwd\n",
    "thisdir=getcwd()\n",
    "test.merge_and_condense_saved_models(merge_directory=thisdir,save_directory=thisdir,condense=1,verbose=1)'''"
   ]
  },
  {
   "cell_type": "code",
   "execution_count": null,
   "metadata": {
    "collapsed": false,
    "jupyter": {
     "outputs_hidden": false
    },
    "pycharm": {
     "is_executing": false,
     "name": "#%%\n"
    }
   },
   "outputs": [],
   "source": [
    "\n"
   ]
  },
  {
   "cell_type": "markdown",
   "metadata": {
    "pycharm": {
     "name": "#%% md\n"
    }
   },
   "source": [
    "#-----------------Calibrate/Optimize--------"
   ]
  },
  {
   "cell_type": "code",
   "execution_count": null,
   "metadata": {
    "collapsed": false,
    "jupyter": {
     "outputs_hidden": false
    },
    "pycharm": {
     "is_executing": false,
     "name": "#%%\n"
    }
   },
   "outputs": [],
   "source": []
  },
  {
   "cell_type": "code",
   "execution_count": null,
   "metadata": {},
   "outputs": [],
   "source": [
    "'''import myreg\n",
    "x=test.train_x\n",
    "y=test.train_y\n",
    "xfull=np.concatenate([np.ones([x.shape[0],1]),x],axis=1)\n",
    "just_linreg=myreg.reg(y,xfull)\n",
    "just_linreg.myreg()\n",
    "print('linreg_mse:',just_linreg.mse)'''"
   ]
  },
  {
   "cell_type": "code",
   "execution_count": null,
   "metadata": {},
   "outputs": [],
   "source": []
  },
  {
   "cell_type": "code",
   "execution_count": null,
   "metadata": {},
   "outputs": [],
   "source": [
    "from bokeh.io import show, output_notebook#,curdoc,save, output_file\n",
    "from bokeh.plotting import figure\n",
    "#from bokeh.models import ColumnDataSource, Range1d, BBoxTileSource\n",
    "#from bokeh.layouts import row\n",
    "output_notebook()"
   ]
  },
  {
   "cell_type": "code",
   "execution_count": null,
   "metadata": {},
   "outputs": [],
   "source": [
    "#xgrid=np.linspace(1,n,n)\n",
    "x=quad_misspec.train_x\n",
    "y=quad_misspec.train_y\n",
    "\n",
    "\n",
    "xgrid=x[:,0]\n",
    "yhat=quad_misspec.optimize_obj.yhat_un_std\n",
    "p=figure(title='y and yhat', plot_width=900, plot_height=500)\n",
    "p.xaxis.axis_label = 'observations'\n",
    "p.scatter(xgrid,y,size=10,color='blue',alpha=0.4,legend='y')\n",
    "#p.line(xgrid,precip,color='blue',alpha=0.6,legend='precipitation')\n",
    "p.scatter(xgrid,yhat,size=5,color='green',alpha=0.9,legend='yhat')\n",
    "p.circle(xgrid,just_linreg.yhat,color='red',legend='just lin reg yhat')\n",
    "p.line(xgrid,np.mean(y))\n",
    "p.legend.location = \"top_left\"\n",
    "#p.yaxis.visible=False\n",
    "show(p)"
   ]
  },
  {
   "cell_type": "code",
   "execution_count": null,
   "metadata": {},
   "outputs": [],
   "source": [
    "print(yhat)\n",
    "print(y)"
   ]
  },
  {
   "cell_type": "code",
   "execution_count": null,
   "metadata": {},
   "outputs": [],
   "source": []
  },
  {
   "cell_type": "code",
   "execution_count": null,
   "metadata": {},
   "outputs": [],
   "source": [
    "\n",
    "ypredict=optimized_Ndiff_kernel.predict_tool(xvalidate,optimized_Ndiff_kernel.fixed_or_free_paramdict,modeldict1)\n",
    "prediction_err=yvalidate-ypredict\n",
    "prediction_mse=np.mean(prediction_err**2)"
   ]
  },
  {
   "cell_type": "code",
   "execution_count": null,
   "metadata": {},
   "outputs": [],
   "source": [
    "np.ma.count_masked(yhat)"
   ]
  },
  {
   "cell_type": "code",
   "execution_count": null,
   "metadata": {},
   "outputs": [],
   "source": []
  },
  {
   "cell_type": "markdown",
   "metadata": {},
   "source": [
    "## class toolcompare(object):"
   ]
  }
 ],
 "metadata": {
  "kernelspec": {
   "display_name": "Python 3",
   "language": "python",
   "name": "python3"
  },
  "language_info": {
   "codemirror_mode": {
    "name": "ipython",
    "version": 3
   },
   "file_extension": ".py",
   "mimetype": "text/x-python",
   "name": "python",
   "nbconvert_exporter": "python",
   "pygments_lexer": "ipython3",
   "version": "3.7.4"
  },
  "pycharm": {
   "stem_cell": {
    "cell_type": "raw",
    "metadata": {
     "collapsed": false
    },
    "source": []
   }
  }
 },
 "nbformat": 4,
 "nbformat_minor": 4
}
