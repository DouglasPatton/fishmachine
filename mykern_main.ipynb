{
 "cells": [
  {
   "cell_type": "markdown",
   "metadata": {},
   "source": [
    "### kernel density estimation and kernel regression for prediction\n",
    "This notebook is my first attempt to write down the ddiff and dddiff models that I have been working on"
   ]
  },
  {
   "cell_type": "markdown",
   "metadata": {},
   "source": [
    "mixed recursive/iterative approach (rather than vectorized approach that is harder to generalize\n",
    "- create separate submodules for KDE and KDreg\n",
    "    - develop a system for storing differenced but unweighted data and the appropriate mask to lessen memory usage. \n",
    "        -1's or 0's depending on i/j/k/l/.... values\n",
    "    - figure out the deepest level requested by the user and levels that are less deep are just slices of the deeper model. \n",
    "        -scout out the tree to build the differenced dataset. \n",
    "          \n",
    "        \n",
    " plot and compare\n",
    "on synthetic data, 1, 2, 3+ mixed distributions\n",
    "1d - Ndiff vs gaussian kernel vs kernel_tunneling\n",
    "2d -  \n",
    "\n",
    "\n",
    "multidimensional x problem\n",
    "e.g., parameter treatment\n",
    "\"product kernel approach\" vs l2 \"el two\" (radial basis?)distance "
   ]
  },
  {
   "cell_type": "markdown",
   "metadata": {},
   "source": [
    "#### generate a simple linear dataset y=xb+e\n",
    "##### store validation data from same dataset too"
   ]
  },
  {
   "cell_type": "markdown",
   "metadata": {
    "pycharm": {
     "name": "#%% md\n"
    }
   },
   "source": [
    "### create modeldict\n",
    "- 'Ndiff_type': refers to the mathematical form of Ndiff\n",
    "  - 'product'-Ndiff1 multiplied by Ndiff2\n",
    "  - 'recursive'-Ndiff1's bw is Ndiff 2\n",
    "- max_bw_Ndiff: is the depth of Ndiffs applied in estimating the bandwidth.\n",
    "- 'normalize_Ndiffwtsum':\n",
    "  - 'across' means sum across own level of kernelized-Ndiffs and divide by that sum (CDF approach)\n",
    "  - 'own_n' means for (n+k)diff where n+K=max_bw_Ndiff\n",
    "- Ndiff_bw_kern:\n",
    "  - rbfkern means use the radial basis function kernel\n",
    "  - 'product' means use product kernel like as in liu and yang eq1. \n",
    "- 'regression_model':\n",
    "  - 'NW' means use nadaraya-watson kernel regression\n",
    "  - 'full_logit' means local logit with all variables entering linearly\n",
    "  - 'rbf_logit' means local logit with 1 parameters: scaled l2 norm centered on zero \n",
    " (globally or by i?). Is this a new idea?\n",
    "- outer_x_bw_form: if x is separated into blocks of rvars that are combined within a block using rbf kernel, \n",
    "  - 'one_for_all' - use same hx bw for all blocks\n",
    "  - 'one_per_block' - each block or rvars gets an hx\n",
    "- ykern_grid\n",
    "  - if int, then create int evnely spaced values from -3 to 3 (standard normal middle ~99%)\n",
    "  - 'no' means use original data points (self is masked when predicting self)\n",
    "- xkern_grid\n",
    "  - much like ykern_grid, but used less frequently since x's are typically pre-specified\n",
    "- product_kern_norm: when multiplying kernels across random variables, this parameter determines if each random variable has its kernels normalized before the product or not\n",
    "  - 'self' means each random variable has its kernels divided by the sum of kernels across the nout axis (the number of possibile values y is averaged over, whose probabilities sum to 1)\n",
    "  - 'own_n' means same as self, but divided by count of non-masked items in second to last, nout lenght dimension\n",
    "  - 'none' means no normalization prior to taking products across rvar kernels\n",
    "- hyper_param_form_dict is a nested dictionary\n",
    "  - Ndiff_exponent is the exponent wrapped around typically a sum of kernels for each Ndiff level \n",
    "after level 1 (i.e., (i-j) or centered, obvious/conventional level.)\n",
    "  - x_bandscale is the parameter specific to each variable (each x in X) used for prediction (y)\n",
    "  - Ndiff_depth_bw is used as the kernel's bandwidth (h) at each level of Ndiff including at level 1 \n",
    "  - outer_x_bw vanilla bandwidth for the rbf or product kernel\n",
    "  - outer_y_bw vanilla bandwidth for y"
   ]
  },
  {
   "cell_type": "code",
   "execution_count": 1,
   "metadata": {},
   "outputs": [],
   "source": [
    "import kernelcompare as kc\n",
    "#from importlib import reload\n",
    "test=kc.KernelCompare()"
   ]
  },
  {
   "cell_type": "code",
   "execution_count": 2,
   "metadata": {},
   "outputs": [],
   "source": [
    "#test.run_kernel_list()"
   ]
  },
  {
   "cell_type": "code",
   "execution_count": 3,
   "metadata": {},
   "outputs": [],
   "source": [
    "Ndiff_type_variations=('modeldict:Ndiff_type',['recursive','product'])\n",
    "max_bw_Ndiff_variations=('modeldict:max_bw_Ndiff',[2])\n",
    "Ndiff_start_variations=('modeldict:Ndiff_start',[0])\n",
    "\n",
    "product_kern_norm_variations=('modeldict:product_kern_norm',['self','own_n'])#include None too?\n",
    "normalize_Ndiffwtsum_variations=('modeldict:normalize_Ndiffwtsum',['own_n','across'])\n",
    "optdict_variation_list=[Ndiff_type_variations,max_bw_Ndiff_variations,Ndiff_start_variations]\n",
    "\n"
   ]
  },
  {
   "cell_type": "code",
   "execution_count": 4,
   "metadata": {},
   "outputs": [],
   "source": [
    "#a reminder of the options:\n",
    "#datagen_dict={'train_n':60,'n':200, 'param_count':param_count,'seed':1, 'ftype':'linear', 'evar':1}\n",
    "#datagen_variation_list=[test.build_quadratic_datagen_dict_override()] \n",
    "\n",
    "train_n_variations=('train_n',[30])#so I don't crash my 10 year old laptop at home\n",
    "#train_n_variations=('train_n:',[30,45,60])\n",
    "ftype_variations=('ftype',['linear,quadratic'])\n",
    "param_count_variations=('param_count',[1,2])\n",
    "#need to add block capability to datagen so we can repeat optimization with new training data.\n",
    "\n",
    "datagen_variation_list=[train_n_variations,ftype_variations,param_count_variations]\n",
    "\n"
   ]
  },
  {
   "cell_type": "code",
   "execution_count": null,
   "metadata": {},
   "outputs": [],
   "source": [
    "\n",
    "#print(os.getcwd())\n",
    "try:test.open_condense_resave('model_save',verbose=0)\n",
    "except:pass\n",
    "try:test.open_condense_resave('condensed_model_save',verbose=0)\n",
    "except:pass"
   ]
  },
  {
   "cell_type": "code",
   "execution_count": null,
   "metadata": {},
   "outputs": [
    {
     "name": "stdout",
     "output_type": "stream",
     "text": [
      "here ['model_save']\n"
     ]
    }
   ],
   "source": [
    "from os import getcwd\n",
    "thisdir=getcwd()\n",
    "test.merge_and_condense_saved_models(merge_directory=thisdir,save_directory=thisdir,condense=1,verbose=0)"
   ]
  },
  {
   "cell_type": "code",
   "execution_count": null,
   "metadata": {},
   "outputs": [
    {
     "name": "stdout",
     "output_type": "stream",
     "text": [
      "len(datagen_dict_list):24\n",
      "len(testrun)576\n",
      "testrun[0]{'optimizedict': {'opt_settings_dict': {'method': 'Nelder-Mead', 'options': {'xatol': 0.01, 'fatol': 0.1, 'adaptive': True}, 'help_start': 1, 'partial_match': 1}, 'hyper_param_dict': {'Ndiff_exponent': array([0.3, 0.3]), 'x_bandscale': array([1., 1.]), 'outer_x_bw': array([2.7]), 'outer_y_bw': array([2.2]), 'Ndiff_depth_bw': array([0.5, 0.5]), 'y_bandscale': array([1.5])}, 'modeldict': {'Ndiff_type': 'recursive', 'param_count': 2, 'Ndiff_start': 1, 'max_bw_Ndiff': 2, 'normalize_Ndiffwtsum': 'own_n', 'xkern_grid': 'no', 'ykern_grid': 61, 'outer_kern': 'gaussian', 'Ndiff_bw_kern': 'rbfkern', 'outer_x_bw_form': 'one_for_all', 'regression_model': 'NW', 'product_kern_norm': 'self', 'hyper_param_form_dict': {'Ndiff_exponent': 'free', 'x_bandscale': 'non-neg', 'Ndiff_depth_bw': 'non-neg', 'outer_x_bw': 'non-neg', 'outer_y_bw': 'non-neg', 'y_bandscale': 'non-neg'}}}, 'datagen_dict': {'train_n': 30, 'n': 200, 'param_count': 2, 'seed': 1, 'ftype': 'linear', 'evar': 1}}\n",
      "testrun[-1]{'optimizedict': {'opt_settings_dict': {'method': 'Nelder-Mead', 'options': {'xatol': 0.01, 'fatol': 0.1, 'adaptive': True}, 'help_start': 1, 'partial_match': 1}, 'hyper_param_dict': {'Ndiff_exponent': array([0.3, 0.3]), 'x_bandscale': array([1., 1.]), 'outer_x_bw': array([2.7]), 'outer_y_bw': array([2.2]), 'Ndiff_depth_bw': array([0.5, 0.5]), 'y_bandscale': array([1.5])}, 'modeldict': {'Ndiff_type': 'recursive', 'param_count': 2, 'Ndiff_start': 0, 'max_bw_Ndiff': 2, 'normalize_Ndiffwtsum': 'own_n', 'xkern_grid': 'no', 'ykern_grid': 61, 'outer_kern': 'gaussian', 'Ndiff_bw_kern': 'rbfkern', 'outer_x_bw_form': 'one_for_all', 'regression_model': 'NW', 'product_kern_norm': 'self', 'hyper_param_form_dict': {'Ndiff_exponent': 'free', 'x_bandscale': 'non-neg', 'Ndiff_depth_bw': 'non-neg', 'outer_x_bw': 'non-neg', 'outer_y_bw': 'non-neg', 'y_bandscale': 'non-neg'}}}, 'datagen_dict': {'train_n': 30, 'n': 200, 'param_count': 2, 'seed': 1, 'ftype': 'linear,quadratic', 'evar': 1}}\n"
     ]
    }
   ],
   "source": [
    "testrun=test.prep_model_list(optdict_variation_list=optdict_variation_list,datagen_variation_list=datagen_variation_list)\n",
    "print(f'len(testrun){len(testrun)}')\n",
    "print(f'testrun[0]{testrun[0]}')\n",
    "print(f'testrun[-1]{testrun[-1]}')"
   ]
  },
  {
   "cell_type": "code",
   "execution_count": null,
   "metadata": {
    "pycharm": {
     "is_executing": false,
     "name": "#%%\n"
    }
   },
   "outputs": [
    {
     "name": "stdout",
     "output_type": "stream",
     "text": [
      "~~~~~~~run number:0`~~~~~~~\n",
      "a_rundict{'optimizedict': {'opt_settings_dict': {'method': 'Nelder-Mead', 'options': {'xatol': 0.01, 'fatol': 0.1, 'adaptive': True}, 'help_start': 1, 'partial_match': 1}, 'hyper_param_dict': {'Ndiff_exponent': array([0.3, 0.3]), 'x_bandscale': array([1., 1.]), 'outer_x_bw': array([2.7]), 'outer_y_bw': array([2.2]), 'Ndiff_depth_bw': array([0.5, 0.5]), 'y_bandscale': array([1.5])}, 'modeldict': {'Ndiff_type': 'recursive', 'param_count': 2, 'Ndiff_start': 1, 'max_bw_Ndiff': 2, 'normalize_Ndiffwtsum': 'own_n', 'xkern_grid': 'no', 'ykern_grid': 61, 'outer_kern': 'gaussian', 'Ndiff_bw_kern': 'rbfkern', 'outer_x_bw_form': 'one_for_all', 'regression_model': 'NW', 'product_kern_norm': 'self', 'hyper_param_form_dict': {'Ndiff_exponent': 'free', 'x_bandscale': 'non-neg', 'Ndiff_depth_bw': 'non-neg', 'outer_x_bw': 'non-neg', 'outer_y_bw': 'non-neg', 'y_bandscale': 'non-neg'}}}, 'datagen_dict': {'train_n': 30, 'n': 200, 'param_count': 2, 'seed': 1, 'ftype': 'linear', 'evar': 1}}\n",
      "in saved_filename:condensed_model_save, len(doubledict_list):1,len(saved_dict_list):1\n",
      "\n",
      "optimization dict with lowest mse:25.637612811928175, n:30was last saved20191117-160630\n",
      "best_dict:{'mse': 25.637612811928175, 'xdata': array([[-2.5563435 , -3.64593724],\n",
      "       [ 0.23081526, -6.10307739],\n",
      "       [ 1.98962353, -3.0224138 ],\n",
      "       [-0.86192181, -1.99874075],\n",
      "       [ 1.42421587, -5.62028142],\n",
      "       [-2.14483441, -2.26810871],\n",
      "       [ 0.76753888, -3.69978253],\n",
      "       [-1.84485642, -3.25571684],\n",
      "       [-1.41557251, -0.33436957],\n",
      "       [-3.70123835,  0.78944742],\n",
      "       [ 0.30318144, -0.49501132],\n",
      "       [ 0.3017119 , -2.86745572],\n",
      "       [-1.74578045, -3.37153887],\n",
      "       [-2.03577616, -0.43928907],\n",
      "       [-2.8833215 , -2.29350705],\n",
      "       [-2.8743454 , -3.19041128],\n",
      "       [-2.84249226, -1.5253292 ],\n",
      "       [-3.7346207 , -1.0311686 ],\n",
      "       [ 1.81960435, -0.01591168],\n",
      "       [-1.8836711 , -3.27525793],\n",
      "       [-2.99431659,  1.8849092 ],\n",
      "       [-1.39838449, -2.77399129],\n",
      "       [-1.11816903,  2.70051027],\n",
      "       [-1.2596821 , -0.26559378],\n",
      "       [-0.89965936, -2.20449969],\n",
      "       [-3.7850364 , -2.19868544],\n",
      "       [-1.91778847, -0.32675362],\n",
      "       [ 0.17796683,  0.36220416],\n",
      "       [-0.92882535,  0.27028233],\n",
      "       [-3.00879588,  1.00573631]]), 'ydata': array([-24.62107866, -32.92393465, -12.57809272, -11.62982371,\n",
      "       -31.01572349, -16.72848994, -18.21200149, -20.11983952,\n",
      "        -3.11909872,   1.39056333,   1.39654418, -14.661963  ,\n",
      "       -24.13429711,  -6.48485309, -18.30554416, -21.77531739,\n",
      "       -12.52668742, -13.75050084,   5.31497281, -19.8055284 ,\n",
      "         6.94601735, -18.19068636,  18.02134768,  -2.05951734,\n",
      "       -13.50547398, -18.4120183 ,  -3.77893391,   4.10001635,\n",
      "         2.9724996 ,   3.1325279 ]), 'params': {'Ndiff_exponent': {'fixed_or_free': 'free', 'const': 'free', 'location_idx': (0, 2)}, 'x_bandscale': {'fixed_or_free': 'free', 'const': 'non-neg', 'location_idx': (2, 4)}, 'Ndiff_depth_bw': {'fixed_or_free': 'free', 'const': 'non-neg', 'location_idx': (4, 6)}, 'outer_x_bw': {'fixed_or_free': 'free', 'const': 'non-neg', 'location_idx': (6, 7)}, 'outer_y_bw': {'fixed_or_free': 'free', 'const': 'non-neg', 'location_idx': (7, 8)}, 'y_bandscale': {'fixed_or_free': 'free', 'const': 'non-neg', 'location_idx': (8, 9)}, 'free_params': array([0.30553269, 0.30553269, 1.01844231, 1.01844231, 0.49550373,\n",
      "       0.50922116, 2.55146091, 2.16680384, 1.52766347]), 'fixed_params': array([], dtype=float64)}, 'modeldict': {'Ndiff_type': 'recursive', 'param_count': 2, 'Ndiff_start': 1, 'max_bw_Ndiff': 2, 'normalize_Ndiffwtsum': 'own_n', 'xkern_grid': 'no', 'ykern_grid': 61, 'outer_kern': 'gaussian', 'Ndiff_bw_kern': 'rbfkern', 'outer_x_bw_form': 'one_for_all', 'regression_model': 'NW', 'product_kern_norm': 'self', 'hyper_param_form_dict': {'Ndiff_exponent': 'free', 'x_bandscale': 'non-neg', 'Ndiff_depth_bw': 'non-neg', 'outer_x_bw': 'non-neg', 'outer_y_bw': 'non-neg', 'y_bandscale': 'non-neg'}}, 'when_saved': '20191117-160630', 'datagen_dict': {'train_n': 30, 'n': 200, 'param_count': 2, 'seed': 1, 'ftype': 'linear', 'evar': 1}}\n",
      "overriding start parameters with saved parameters\n",
      "param_valdict:{'Ndiff_exponent': array([0.30553269, 0.30553269]), 'x_bandscale': array([1.01844231, 1.01844231]), 'outer_x_bw': array([2.55146091]), 'outer_y_bw': array([2.16680384]), 'Ndiff_depth_bw': array([0.49550373, 0.50922116]), 'y_bandscale': array([1.52766347])}\n",
      "setup_fixed_or_free_paramdict:{'Ndiff_exponent': {'fixed_or_free': 'free', 'const': 'free', 'location_idx': (0, 2)}, 'x_bandscale': {'fixed_or_free': 'free', 'const': 'non-neg', 'location_idx': (2, 4)}, 'Ndiff_depth_bw': {'fixed_or_free': 'free', 'const': 'non-neg', 'location_idx': (4, 6)}, 'outer_x_bw': {'fixed_or_free': 'free', 'const': 'non-neg', 'location_idx': (6, 7)}, 'outer_y_bw': {'fixed_or_free': 'free', 'const': 'non-neg', 'location_idx': (7, 8)}, 'y_bandscale': {'fixed_or_free': 'free', 'const': 'non-neg', 'location_idx': (8, 9)}, 'free_params': 'outside', 'fixed_params': array([], dtype=float64)}\n",
      "modeldict:{'Ndiff_type': 'recursive', 'param_count': 2, 'Ndiff_start': 1, 'max_bw_Ndiff': 2, 'normalize_Ndiffwtsum': 'own_n', 'xkern_grid': 'no', 'ykern_grid': 61, 'outer_kern': 'gaussian', 'Ndiff_bw_kern': 'rbfkern', 'outer_x_bw_form': 'one_for_all', 'regression_model': 'NW', 'product_kern_norm': 'self', 'hyper_param_form_dict': {'Ndiff_exponent': 'free', 'x_bandscale': 'non-neg', 'Ndiff_depth_bw': 'non-neg', 'outer_x_bw': 'non-neg', 'outer_y_bw': 'non-neg', 'y_bandscale': 'non-neg'}}\n",
      "saved to model_save at about 20191117-160641 with mse=25.637612811928175\n",
      "saved to model_save at about 20191117-160646 with mse=24.564957788473023\n",
      "save_interval changed to 8\n",
      "saved to model_save at about 20191117-160719 with mse=24.564957788473023\n",
      "saved to model_save at about 20191117-160803 with mse=24.564957788473023\n",
      "saved to model_save at about 20191117-160846 with mse=24.802234381589887\n",
      "saved to model_save at about 20191117-160929 with mse=24.763811172987435\n",
      "saved to model_save at about 20191117-161012 with mse=24.763811172987435\n",
      "saved to model_save at about 20191117-161055 with mse=24.73212377254908\n",
      "saved to model_save at about 20191117-161138 with mse=24.45989089441336\n",
      "saved to model_save at about 20191117-161221 with mse=24.45989089441336\n",
      "saved to model_save at about 20191117-161304 with mse=24.686859436919782\n",
      "saved to model_save at about 20191117-161347 with mse=24.686859436919782\n",
      "saved to model_save at about 20191117-161429 with mse=24.740777611842542\n",
      "saved to model_save at about 20191117-161512 with mse=24.417270037703158\n",
      "saved to model_save at about 20191117-161555 with mse=24.417270037703158\n",
      "saved to model_save at about 20191117-161638 with mse=24.037969848308787\n",
      "saved to model_save at about 20191117-161721 with mse=24.037969848308787\n",
      "saved to model_save at about 20191117-161804 with mse=22.643955311975223\n",
      "saved to model_save at about 20191117-161847 with mse=22.643955311975223\n",
      "saved to model_save at about 20191117-161930 with mse=23.84291113054963\n",
      "saved to model_save at about 20191117-162013 with mse=22.688279725812396\n",
      "saved to model_save at about 20191117-162055 with mse=22.6825229183536\n",
      "saved to model_save at about 20191117-162138 with mse=22.6825229183536\n",
      "saved to model_save at about 20191117-162221 with mse=22.67757838477284\n",
      "saved to model_save at about 20191117-162304 with mse=22.67757838477284\n",
      "saved to model_save at about 20191117-162346 with mse=23.82027603115903\n",
      "saved to model_save at about 20191117-162429 with mse=22.549814474551724\n",
      "saved to model_save at about 20191117-162512 with mse=22.549814474551724\n",
      "saved to model_save at about 20191117-162555 with mse=22.555691708946526\n",
      "saved to model_save at about 20191117-162638 with mse=22.5545994694324\n",
      "saved to model_save at about 20191117-162721 with mse=22.55372045564267\n",
      "saved to model_save at about 20191117-162803 with mse=22.553011803461864\n",
      "saved to model_save at about 20191117-162846 with mse=22.553011803461864\n",
      "saved to model_save at about 20191117-162929 with mse=22.552439397838228\n",
      "saved to model_save at about 20191117-163012 with mse=22.551976077078887\n",
      "saved to model_save at about 20191117-163055 with mse=22.538653532297754\n",
      "saved to model_save at about 20191117-163138 with mse=22.538653532297754\n",
      "saved to model_save at about 20191117-163159 with mse=22.58487094087126\n",
      "saved to final_model_save at about 20191117-163159 with mse=22.538653532297754\n",
      "lastparamdict:{'Ndiff_exponent': {'fixed_or_free': 'free', 'const': 'free', 'location_idx': (0, 2)}, 'x_bandscale': {'fixed_or_free': 'free', 'const': 'non-neg', 'location_idx': (2, 4)}, 'Ndiff_depth_bw': {'fixed_or_free': 'free', 'const': 'non-neg', 'location_idx': (4, 6)}, 'outer_x_bw': {'fixed_or_free': 'free', 'const': 'non-neg', 'location_idx': (6, 7)}, 'outer_y_bw': {'fixed_or_free': 'free', 'const': 'non-neg', 'location_idx': (7, 8)}, 'y_bandscale': {'fixed_or_free': 'free', 'const': 'non-neg', 'location_idx': (8, 9)}, 'free_params': array([0.31855843, 0.30279459, 1.02626507, 1.00213848, 0.49816389,\n",
      "       0.51673239, 2.51374727, 2.16349147, 1.53427705]), 'fixed_params': array([], dtype=float64)}\n",
      "here ['model_save', 'condensed_model_save', 'final_model_save']\n",
      "~~~~~~~run number:11`~~~~~~~\n",
      "a_rundict{'optimizedict': {'opt_settings_dict': {'method': 'Nelder-Mead', 'options': {'xatol': 0.01, 'fatol': 0.1, 'adaptive': True}, 'help_start': 1, 'partial_match': 1}, 'hyper_param_dict': {'Ndiff_exponent': array([0.30553269, 0.30553269]), 'x_bandscale': array([1.01844231, 1.01844231]), 'outer_x_bw': array([2.55146091]), 'outer_y_bw': array([2.16680384]), 'Ndiff_depth_bw': array([0.49550373, 0.50922116]), 'y_bandscale': array([1.52766347])}, 'modeldict': {'Ndiff_type': 'recursive', 'param_count': 2, 'Ndiff_start': 1, 'max_bw_Ndiff': 2, 'normalize_Ndiffwtsum': 'own_n', 'xkern_grid': 'no', 'ykern_grid': 61, 'outer_kern': 'gaussian', 'Ndiff_bw_kern': 'rbfkern', 'outer_x_bw_form': 'one_for_all', 'regression_model': 'NW', 'product_kern_norm': 'self', 'hyper_param_form_dict': {'Ndiff_exponent': 'free', 'x_bandscale': 'non-neg', 'Ndiff_depth_bw': 'non-neg', 'outer_x_bw': 'non-neg', 'outer_y_bw': 'non-neg', 'y_bandscale': 'non-neg'}}}, 'datagen_dict': {'train_n': 30, 'n': 200, 'param_count': 2, 'seed': 1, 'ftype': 'linear', 'evar': 1}}\n",
      "in saved_filename:condensed_model_save, len(doubledict_list):10,len(saved_dict_list):10\n",
      "\n",
      "optimization dict with lowest mse:22.538653532297754, n:30was last saved20191117-163138\n",
      "best_dict:{'mse': 22.538653532297754, 'xdata': array([[-2.5563435 , -3.64593724],\n",
      "       [ 0.23081526, -6.10307739],\n",
      "       [ 1.98962353, -3.0224138 ],\n",
      "       [-0.86192181, -1.99874075],\n",
      "       [ 1.42421587, -5.62028142],\n",
      "       [-2.14483441, -2.26810871],\n",
      "       [ 0.76753888, -3.69978253],\n",
      "       [-1.84485642, -3.25571684],\n",
      "       [-1.41557251, -0.33436957],\n",
      "       [-3.70123835,  0.78944742],\n",
      "       [ 0.30318144, -0.49501132],\n",
      "       [ 0.3017119 , -2.86745572],\n",
      "       [-1.74578045, -3.37153887],\n",
      "       [-2.03577616, -0.43928907],\n",
      "       [-2.8833215 , -2.29350705],\n",
      "       [-2.8743454 , -3.19041128],\n",
      "       [-2.84249226, -1.5253292 ],\n",
      "       [-3.7346207 , -1.0311686 ],\n",
      "       [ 1.81960435, -0.01591168],\n",
      "       [-1.8836711 , -3.27525793],\n",
      "       [-2.99431659,  1.8849092 ],\n",
      "       [-1.39838449, -2.77399129],\n",
      "       [-1.11816903,  2.70051027],\n",
      "       [-1.2596821 , -0.26559378],\n",
      "       [-0.89965936, -2.20449969],\n",
      "       [-3.7850364 , -2.19868544],\n",
      "       [-1.91778847, -0.32675362],\n",
      "       [ 0.17796683,  0.36220416],\n",
      "       [-0.92882535,  0.27028233],\n",
      "       [-3.00879588,  1.00573631]]), 'ydata': array([-24.62107866, -32.92393465, -12.57809272, -11.62982371,\n",
      "       -31.01572349, -16.72848994, -18.21200149, -20.11983952,\n",
      "        -3.11909872,   1.39056333,   1.39654418, -14.661963  ,\n",
      "       -24.13429711,  -6.48485309, -18.30554416, -21.77531739,\n",
      "       -12.52668742, -13.75050084,   5.31497281, -19.8055284 ,\n",
      "         6.94601735, -18.19068636,  18.02134768,  -2.05951734,\n",
      "       -13.50547398, -18.4120183 ,  -3.77893391,   4.10001635,\n",
      "         2.9724996 ,   3.1325279 ]), 'params': {'Ndiff_exponent': {'fixed_or_free': 'free', 'const': 'free', 'location_idx': (0, 2)}, 'x_bandscale': {'fixed_or_free': 'free', 'const': 'non-neg', 'location_idx': (2, 4)}, 'Ndiff_depth_bw': {'fixed_or_free': 'free', 'const': 'non-neg', 'location_idx': (4, 6)}, 'outer_x_bw': {'fixed_or_free': 'free', 'const': 'non-neg', 'location_idx': (6, 7)}, 'outer_y_bw': {'fixed_or_free': 'free', 'const': 'non-neg', 'location_idx': (7, 8)}, 'y_bandscale': {'fixed_or_free': 'free', 'const': 'non-neg', 'location_idx': (8, 9)}, 'free_params': array([0.31852   , 0.30304266, 1.02538219, 1.00462692, 0.49758683,\n",
      "       0.51690413, 2.51597933, 2.16172092, 1.53233869]), 'fixed_params': array([], dtype=float64)}, 'modeldict': {'Ndiff_type': 'recursive', 'param_count': 2, 'Ndiff_start': 1, 'max_bw_Ndiff': 2, 'normalize_Ndiffwtsum': 'own_n', 'xkern_grid': 'no', 'ykern_grid': 61, 'outer_kern': 'gaussian', 'Ndiff_bw_kern': 'rbfkern', 'outer_x_bw_form': 'one_for_all', 'regression_model': 'NW', 'product_kern_norm': 'self', 'hyper_param_form_dict': {'Ndiff_exponent': 'free', 'x_bandscale': 'non-neg', 'Ndiff_depth_bw': 'non-neg', 'outer_x_bw': 'non-neg', 'outer_y_bw': 'non-neg', 'y_bandscale': 'non-neg'}}, 'when_saved': '20191117-163138', 'datagen_dict': {'train_n': 30, 'n': 200, 'param_count': 2, 'seed': 1, 'ftype': 'linear', 'evar': 1}}\n",
      "overriding start parameters with saved parameters\n",
      "param_valdict:{'Ndiff_exponent': array([0.31852   , 0.30304266]), 'x_bandscale': array([1.02538219, 1.00462692]), 'outer_x_bw': array([2.51597933]), 'outer_y_bw': array([2.16172092]), 'Ndiff_depth_bw': array([0.49758683, 0.51690413]), 'y_bandscale': array([1.53233869])}\n",
      "setup_fixed_or_free_paramdict:{'Ndiff_exponent': {'fixed_or_free': 'free', 'const': 'free', 'location_idx': (0, 2)}, 'x_bandscale': {'fixed_or_free': 'free', 'const': 'non-neg', 'location_idx': (2, 4)}, 'Ndiff_depth_bw': {'fixed_or_free': 'free', 'const': 'non-neg', 'location_idx': (4, 6)}, 'outer_x_bw': {'fixed_or_free': 'free', 'const': 'non-neg', 'location_idx': (6, 7)}, 'outer_y_bw': {'fixed_or_free': 'free', 'const': 'non-neg', 'location_idx': (7, 8)}, 'y_bandscale': {'fixed_or_free': 'free', 'const': 'non-neg', 'location_idx': (8, 9)}, 'free_params': 'outside', 'fixed_params': array([], dtype=float64)}\n",
      "modeldict:{'Ndiff_type': 'recursive', 'param_count': 2, 'Ndiff_start': 1, 'max_bw_Ndiff': 2, 'normalize_Ndiffwtsum': 'own_n', 'xkern_grid': 'no', 'ykern_grid': 61, 'outer_kern': 'gaussian', 'Ndiff_bw_kern': 'rbfkern', 'outer_x_bw_form': 'one_for_all', 'regression_model': 'NW', 'product_kern_norm': 'self', 'hyper_param_form_dict': {'Ndiff_exponent': 'free', 'x_bandscale': 'non-neg', 'Ndiff_depth_bw': 'non-neg', 'outer_x_bw': 'non-neg', 'outer_y_bw': 'non-neg', 'y_bandscale': 'non-neg'}}\n",
      "saved to model_save at about 20191117-163204 with mse=22.538653532297754\n",
      "saved to model_save at about 20191117-163210 with mse=22.538653532297754\n",
      "save_interval changed to 9\n",
      "saved to model_save at about 20191117-163247 with mse=22.538653532297754\n",
      "saved to model_save at about 20191117-163335 with mse=22.538653532297754\n",
      "saved to model_save at about 20191117-163423 with mse=24.451365762885718\n",
      "saved to model_save at about 20191117-163512 with mse=22.538653532297754\n",
      "saved to model_save at about 20191117-163600 with mse=22.538653532297754\n",
      "saved to model_save at about 20191117-163649 with mse=22.538653532297754\n",
      "saved to model_save at about 20191117-163740 with mse=22.538653532297754\n",
      "saved to model_save at about 20191117-163830 with mse=22.538653532297754\n",
      "saved to model_save at about 20191117-163919 with mse=22.538653532297754\n",
      "saved to model_save at about 20191117-164007 with mse=22.538653532297754\n",
      "saved to model_save at about 20191117-164055 with mse=22.538653532297754\n",
      "saved to model_save at about 20191117-164143 with mse=22.538653532297754\n",
      "saved to model_save at about 20191117-164232 with mse=22.510569391483205\n",
      "saved to model_save at about 20191117-164320 with mse=22.510569391483205\n",
      "saved to model_save at about 20191117-164408 with mse=22.52274902477558\n",
      "saved to model_save at about 20191117-164457 with mse=22.49205135474007\n",
      "saved to model_save at about 20191117-164545 with mse=22.49205135474007\n",
      "saved to model_save at about 20191117-164633 with mse=22.484445809015075\n",
      "saved to model_save at about 20191117-164725 with mse=22.47281191125445\n",
      "saved to model_save at about 20191117-164814 with mse=22.468184880718745\n",
      "saved to model_save at about 20191117-164902 with mse=22.460777090475037\n",
      "saved to model_save at about 20191117-164952 with mse=22.458044641354675\n",
      "saved to model_save at about 20191117-165041 with mse=22.458044641354675\n",
      "saved to model_save at about 20191117-165129 with mse=22.453262717614788\n",
      "saved to model_save at about 20191117-165219 with mse=22.4517101478033\n",
      "saved to model_save at about 20191117-165307 with mse=22.45098578744319\n",
      "saved to model_save at about 20191117-165355 with mse=22.386125062079586\n",
      "saved to model_save at about 20191117-165444 with mse=22.379081592016224\n",
      "saved to model_save at about 20191117-165532 with mse=22.320460543886067\n",
      "saved to model_save at about 20191117-165620 with mse=22.272006143552037\n",
      "saved to model_save at about 20191117-165709 with mse=22.2685684173688\n",
      "saved to model_save at about 20191117-165757 with mse=22.247249141016237\n",
      "saved to model_save at about 20191117-165845 with mse=22.2338934174348\n",
      "saved to model_save at about 20191117-165934 with mse=22.2293218147238\n",
      "saved to model_save at about 20191117-170022 with mse=22.2293218147238\n",
      "saved to model_save at about 20191117-170110 with mse=22.224572163463947\n",
      "saved to model_save at about 20191117-170148 with mse=23.43072897751744\n",
      "saved to final_model_save at about 20191117-170148 with mse=22.222765942432762\n",
      "lastparamdict:{'Ndiff_exponent': {'fixed_or_free': 'free', 'const': 'free', 'location_idx': (0, 2)}, 'x_bandscale': {'fixed_or_free': 'free', 'const': 'non-neg', 'location_idx': (2, 4)}, 'Ndiff_depth_bw': {'fixed_or_free': 'free', 'const': 'non-neg', 'location_idx': (4, 6)}, 'outer_x_bw': {'fixed_or_free': 'free', 'const': 'non-neg', 'location_idx': (6, 7)}, 'outer_y_bw': {'fixed_or_free': 'free', 'const': 'non-neg', 'location_idx': (7, 8)}, 'y_bandscale': {'fixed_or_free': 'free', 'const': 'non-neg', 'location_idx': (8, 9)}, 'free_params': array([0.32273547, 0.30334382, 1.02679185, 1.00974866, 0.50270449,\n",
      "       0.51909987, 2.46160439, 2.18434855, 1.51880206]), 'fixed_params': array([], dtype=float64)}\n",
      "here ['model_save', 'condensed_model_save', 'final_model_save']\n",
      "~~~~~~~run number:22`~~~~~~~\n",
      "a_rundict{'optimizedict': {'opt_settings_dict': {'method': 'Nelder-Mead', 'options': {'xatol': 0.01, 'fatol': 0.1, 'adaptive': True}, 'help_start': 1, 'partial_match': 1}, 'hyper_param_dict': {'Ndiff_exponent': array([0.31852   , 0.30304266]), 'x_bandscale': array([1.02538219, 1.00462692]), 'outer_x_bw': array([2.51597933]), 'outer_y_bw': array([2.16172092]), 'Ndiff_depth_bw': array([0.49758683, 0.51690413]), 'y_bandscale': array([1.53233869])}, 'modeldict': {'Ndiff_type': 'product', 'param_count': 2, 'Ndiff_start': 0, 'max_bw_Ndiff': 2, 'normalize_Ndiffwtsum': 'own_n', 'xkern_grid': 'no', 'ykern_grid': 61, 'outer_kern': 'gaussian', 'Ndiff_bw_kern': 'rbfkern', 'outer_x_bw_form': 'one_for_all', 'regression_model': 'NW', 'product_kern_norm': 'self', 'hyper_param_form_dict': {'Ndiff_exponent': 'free', 'x_bandscale': 'non-neg', 'Ndiff_depth_bw': 'non-neg', 'outer_x_bw': 'non-neg', 'outer_y_bw': 'non-neg', 'y_bandscale': 'non-neg'}}}, 'datagen_dict': {'train_n': 30, 'n': 200, 'param_count': 2, 'seed': 1, 'ftype': 'linear', 'evar': 1}}\n",
      "in saved_filename:condensed_model_save, len(doubledict_list):29,len(saved_dict_list):29\n",
      "--------------------------------help_start is triggered---------------------------\n",
      "--------------help_start with partial match triggered----------------\n",
      "--------------no matching models found----------\n",
      "param_valdict:{'Ndiff_exponent': array([0.31852   , 0.30304266]), 'x_bandscale': array([1.02538219, 1.00462692]), 'outer_x_bw': array([2.51597933]), 'outer_y_bw': array([2.16172092]), 'Ndiff_depth_bw': array([0.49758683, 0.51690413]), 'y_bandscale': array([1.53233869])}\n",
      "setup_fixed_or_free_paramdict:{'Ndiff_exponent': {'fixed_or_free': 'free', 'const': 'free', 'location_idx': (0, 2)}, 'x_bandscale': {'fixed_or_free': 'free', 'const': 'non-neg', 'location_idx': (2, 4)}, 'Ndiff_depth_bw': {'fixed_or_free': 'free', 'const': 'non-neg', 'location_idx': (4, 6)}, 'outer_x_bw': {'fixed_or_free': 'free', 'const': 'non-neg', 'location_idx': (6, 7)}, 'outer_y_bw': {'fixed_or_free': 'free', 'const': 'non-neg', 'location_idx': (7, 8)}, 'y_bandscale': {'fixed_or_free': 'free', 'const': 'non-neg', 'location_idx': (8, 9)}, 'free_params': 'outside', 'fixed_params': array([], dtype=float64)}\n",
      "modeldict:{'Ndiff_type': 'product', 'param_count': 2, 'Ndiff_start': 0, 'max_bw_Ndiff': 2, 'normalize_Ndiffwtsum': 'own_n', 'xkern_grid': 'no', 'ykern_grid': 61, 'outer_kern': 'gaussian', 'Ndiff_bw_kern': 'rbfkern', 'outer_x_bw_form': 'one_for_all', 'regression_model': 'NW', 'product_kern_norm': 'self', 'hyper_param_form_dict': {'Ndiff_exponent': 'free', 'x_bandscale': 'non-neg', 'Ndiff_depth_bw': 'non-neg', 'outer_x_bw': 'non-neg', 'outer_y_bw': 'non-neg', 'y_bandscale': 'non-neg'}}\n",
      "~~~~~~~run number:33`~~~~~~~\n",
      "a_rundict{'optimizedict': {'opt_settings_dict': {'method': 'Nelder-Mead', 'options': {'xatol': 0.01, 'fatol': 0.1, 'adaptive': True}, 'help_start': 1, 'partial_match': 1}, 'hyper_param_dict': {'Ndiff_exponent': array([0.3, 0.3]), 'x_bandscale': array([1., 1.]), 'outer_x_bw': array([2.7]), 'outer_y_bw': array([2.2]), 'Ndiff_depth_bw': array([0.5, 0.5]), 'y_bandscale': array([1.5])}, 'modeldict': {'Ndiff_type': 'product', 'param_count': 2, 'Ndiff_start': 0, 'max_bw_Ndiff': 2, 'normalize_Ndiffwtsum': 'own_n', 'xkern_grid': 'no', 'ykern_grid': 61, 'outer_kern': 'gaussian', 'Ndiff_bw_kern': 'rbfkern', 'outer_x_bw_form': 'one_for_all', 'regression_model': 'NW', 'product_kern_norm': 'self', 'hyper_param_form_dict': {'Ndiff_exponent': 'free', 'x_bandscale': 'non-neg', 'Ndiff_depth_bw': 'non-neg', 'outer_x_bw': 'non-neg', 'outer_y_bw': 'non-neg', 'y_bandscale': 'non-neg'}}}, 'datagen_dict': {'train_n': 30, 'n': 200, 'param_count': 2, 'seed': 1, 'ftype': 'linear,quadratic', 'evar': 1}}\n",
      "in saved_filename:condensed_model_save, len(doubledict_list):29,len(saved_dict_list):29\n",
      "--------------------------------help_start is triggered---------------------------\n",
      "--------------help_start with partial match triggered----------------\n",
      "--------------no matching models found----------\n",
      "param_valdict:{'Ndiff_exponent': array([0.3, 0.3]), 'x_bandscale': array([1., 1.]), 'outer_x_bw': array([2.7]), 'outer_y_bw': array([2.2]), 'Ndiff_depth_bw': array([0.5, 0.5]), 'y_bandscale': array([1.5])}\n",
      "setup_fixed_or_free_paramdict:{'Ndiff_exponent': {'fixed_or_free': 'free', 'const': 'free', 'location_idx': (0, 2)}, 'x_bandscale': {'fixed_or_free': 'free', 'const': 'non-neg', 'location_idx': (2, 4)}, 'Ndiff_depth_bw': {'fixed_or_free': 'free', 'const': 'non-neg', 'location_idx': (4, 6)}, 'outer_x_bw': {'fixed_or_free': 'free', 'const': 'non-neg', 'location_idx': (6, 7)}, 'outer_y_bw': {'fixed_or_free': 'free', 'const': 'non-neg', 'location_idx': (7, 8)}, 'y_bandscale': {'fixed_or_free': 'free', 'const': 'non-neg', 'location_idx': (8, 9)}, 'free_params': 'outside', 'fixed_params': array([], dtype=float64)}\n",
      "modeldict:{'Ndiff_type': 'product', 'param_count': 2, 'Ndiff_start': 0, 'max_bw_Ndiff': 2, 'normalize_Ndiffwtsum': 'own_n', 'xkern_grid': 'no', 'ykern_grid': 61, 'outer_kern': 'gaussian', 'Ndiff_bw_kern': 'rbfkern', 'outer_x_bw_form': 'one_for_all', 'regression_model': 'NW', 'product_kern_norm': 'self', 'hyper_param_form_dict': {'Ndiff_exponent': 'free', 'x_bandscale': 'non-neg', 'Ndiff_depth_bw': 'non-neg', 'outer_x_bw': 'non-neg', 'outer_y_bw': 'non-neg', 'y_bandscale': 'non-neg'}}\n",
      "~~~~~~~run number:44`~~~~~~~\n",
      "a_rundict{'optimizedict': {'opt_settings_dict': {'method': 'Nelder-Mead', 'options': {'xatol': 0.01, 'fatol': 0.1, 'adaptive': True}, 'help_start': 1, 'partial_match': 1}, 'hyper_param_dict': {'Ndiff_exponent': array([0.3, 0.3]), 'x_bandscale': array([1., 1.]), 'outer_x_bw': array([2.7]), 'outer_y_bw': array([2.2]), 'Ndiff_depth_bw': array([0.5, 0.5]), 'y_bandscale': array([1.5])}, 'modeldict': {'Ndiff_type': 'product', 'param_count': 2, 'Ndiff_start': 0, 'max_bw_Ndiff': 2, 'normalize_Ndiffwtsum': 'own_n', 'xkern_grid': 'no', 'ykern_grid': 61, 'outer_kern': 'gaussian', 'Ndiff_bw_kern': 'rbfkern', 'outer_x_bw_form': 'one_for_all', 'regression_model': 'NW', 'product_kern_norm': 'self', 'hyper_param_form_dict': {'Ndiff_exponent': 'free', 'x_bandscale': 'non-neg', 'Ndiff_depth_bw': 'non-neg', 'outer_x_bw': 'non-neg', 'outer_y_bw': 'non-neg', 'y_bandscale': 'non-neg'}}}, 'datagen_dict': {'train_n': 30, 'n': 200, 'param_count': 2, 'seed': 1, 'ftype': 'linear,quadratic', 'evar': 1}}\n",
      "in saved_filename:condensed_model_save, len(doubledict_list):29,len(saved_dict_list):29\n",
      "--------------------------------help_start is triggered---------------------------\n",
      "--------------help_start with partial match triggered----------------\n",
      "--------------no matching models found----------\n",
      "param_valdict:{'Ndiff_exponent': array([0.3, 0.3]), 'x_bandscale': array([1., 1.]), 'outer_x_bw': array([2.7]), 'outer_y_bw': array([2.2]), 'Ndiff_depth_bw': array([0.5, 0.5]), 'y_bandscale': array([1.5])}\n",
      "setup_fixed_or_free_paramdict:{'Ndiff_exponent': {'fixed_or_free': 'free', 'const': 'free', 'location_idx': (0, 2)}, 'x_bandscale': {'fixed_or_free': 'free', 'const': 'non-neg', 'location_idx': (2, 4)}, 'Ndiff_depth_bw': {'fixed_or_free': 'free', 'const': 'non-neg', 'location_idx': (4, 6)}, 'outer_x_bw': {'fixed_or_free': 'free', 'const': 'non-neg', 'location_idx': (6, 7)}, 'outer_y_bw': {'fixed_or_free': 'free', 'const': 'non-neg', 'location_idx': (7, 8)}, 'y_bandscale': {'fixed_or_free': 'free', 'const': 'non-neg', 'location_idx': (8, 9)}, 'free_params': 'outside', 'fixed_params': array([], dtype=float64)}\n",
      "modeldict:{'Ndiff_type': 'product', 'param_count': 2, 'Ndiff_start': 0, 'max_bw_Ndiff': 2, 'normalize_Ndiffwtsum': 'own_n', 'xkern_grid': 'no', 'ykern_grid': 61, 'outer_kern': 'gaussian', 'Ndiff_bw_kern': 'rbfkern', 'outer_x_bw_form': 'one_for_all', 'regression_model': 'NW', 'product_kern_norm': 'self', 'hyper_param_form_dict': {'Ndiff_exponent': 'free', 'x_bandscale': 'non-neg', 'Ndiff_depth_bw': 'non-neg', 'outer_x_bw': 'non-neg', 'outer_y_bw': 'non-neg', 'y_bandscale': 'non-neg'}}\n",
      "~~~~~~~run number:55`~~~~~~~\n",
      "a_rundict{'optimizedict': {'opt_settings_dict': {'method': 'Nelder-Mead', 'options': {'xatol': 0.01, 'fatol': 0.1, 'adaptive': True}, 'help_start': 1, 'partial_match': 1}, 'hyper_param_dict': {'Ndiff_exponent': array([0.3, 0.3]), 'x_bandscale': array([1.]), 'outer_x_bw': array([2.7]), 'outer_y_bw': array([2.2]), 'Ndiff_depth_bw': array([0.5, 0.5]), 'y_bandscale': array([1.5])}, 'modeldict': {'Ndiff_type': 'product', 'param_count': 1, 'Ndiff_start': 0, 'max_bw_Ndiff': 2, 'normalize_Ndiffwtsum': 'own_n', 'xkern_grid': 'no', 'ykern_grid': 61, 'outer_kern': 'gaussian', 'Ndiff_bw_kern': 'rbfkern', 'outer_x_bw_form': 'one_for_all', 'regression_model': 'NW', 'product_kern_norm': 'self', 'hyper_param_form_dict': {'Ndiff_exponent': 'free', 'x_bandscale': 'non-neg', 'Ndiff_depth_bw': 'non-neg', 'outer_x_bw': 'non-neg', 'outer_y_bw': 'non-neg', 'y_bandscale': 'non-neg'}}}, 'datagen_dict': {'train_n': 30, 'n': 200, 'param_count': 1, 'seed': 1, 'ftype': 'linear,quadratic', 'evar': 1}}\n",
      "in saved_filename:condensed_model_save, len(doubledict_list):29,len(saved_dict_list):29\n",
      "--------------------------------help_start is triggered---------------------------\n",
      "--------------help_start with partial match triggered----------------\n",
      "--------------no matching models found----------\n",
      "param_valdict:{'Ndiff_exponent': array([0.3, 0.3]), 'x_bandscale': array([1.]), 'outer_x_bw': array([2.7]), 'outer_y_bw': array([2.2]), 'Ndiff_depth_bw': array([0.5, 0.5]), 'y_bandscale': array([1.5])}\n",
      "setup_fixed_or_free_paramdict:{'Ndiff_exponent': {'fixed_or_free': 'free', 'const': 'free', 'location_idx': (0, 2)}, 'x_bandscale': {'fixed_or_free': 'free', 'const': 'non-neg', 'location_idx': (2, 3)}, 'Ndiff_depth_bw': {'fixed_or_free': 'free', 'const': 'non-neg', 'location_idx': (3, 5)}, 'outer_x_bw': {'fixed_or_free': 'free', 'const': 'non-neg', 'location_idx': (5, 6)}, 'outer_y_bw': {'fixed_or_free': 'free', 'const': 'non-neg', 'location_idx': (6, 7)}, 'y_bandscale': {'fixed_or_free': 'free', 'const': 'non-neg', 'location_idx': (7, 8)}, 'free_params': 'outside', 'fixed_params': array([], dtype=float64)}\n",
      "modeldict:{'Ndiff_type': 'product', 'param_count': 1, 'Ndiff_start': 0, 'max_bw_Ndiff': 2, 'normalize_Ndiffwtsum': 'own_n', 'xkern_grid': 'no', 'ykern_grid': 61, 'outer_kern': 'gaussian', 'Ndiff_bw_kern': 'rbfkern', 'outer_x_bw_form': 'one_for_all', 'regression_model': 'NW', 'product_kern_norm': 'self', 'hyper_param_form_dict': {'Ndiff_exponent': 'free', 'x_bandscale': 'non-neg', 'Ndiff_depth_bw': 'non-neg', 'outer_x_bw': 'non-neg', 'outer_y_bw': 'non-neg', 'y_bandscale': 'non-neg'}}\n",
      "~~~~~~~run number:66`~~~~~~~\n",
      "a_rundict{'optimizedict': {'opt_settings_dict': {'method': 'Nelder-Mead', 'options': {'xatol': 0.01, 'fatol': 0.1, 'adaptive': True}, 'help_start': 1, 'partial_match': 1}, 'hyper_param_dict': {'Ndiff_exponent': array([0.3, 0.3]), 'x_bandscale': array([1.]), 'outer_x_bw': array([2.7]), 'outer_y_bw': array([2.2]), 'Ndiff_depth_bw': array([0.5, 0.5]), 'y_bandscale': array([1.5])}, 'modeldict': {'Ndiff_type': 'recursive', 'param_count': 1, 'Ndiff_start': 0, 'max_bw_Ndiff': 2, 'normalize_Ndiffwtsum': 'own_n', 'xkern_grid': 'no', 'ykern_grid': 61, 'outer_kern': 'gaussian', 'Ndiff_bw_kern': 'rbfkern', 'outer_x_bw_form': 'one_for_all', 'regression_model': 'NW', 'product_kern_norm': 'self', 'hyper_param_form_dict': {'Ndiff_exponent': 'free', 'x_bandscale': 'non-neg', 'Ndiff_depth_bw': 'non-neg', 'outer_x_bw': 'non-neg', 'outer_y_bw': 'non-neg', 'y_bandscale': 'non-neg'}}}, 'datagen_dict': {'train_n': 30, 'n': 200, 'param_count': 1, 'seed': 1, 'ftype': 'linear,quadratic', 'evar': 1}}\n",
      "in saved_filename:condensed_model_save, len(doubledict_list):29,len(saved_dict_list):29\n",
      "--------------------------------help_start is triggered---------------------------\n",
      "--------------help_start with partial match triggered----------------\n",
      "--------------no matching models found----------\n",
      "param_valdict:{'Ndiff_exponent': array([0.3, 0.3]), 'x_bandscale': array([1.]), 'outer_x_bw': array([2.7]), 'outer_y_bw': array([2.2]), 'Ndiff_depth_bw': array([0.5, 0.5]), 'y_bandscale': array([1.5])}\n",
      "setup_fixed_or_free_paramdict:{'Ndiff_exponent': {'fixed_or_free': 'free', 'const': 'free', 'location_idx': (0, 2)}, 'x_bandscale': {'fixed_or_free': 'free', 'const': 'non-neg', 'location_idx': (2, 3)}, 'Ndiff_depth_bw': {'fixed_or_free': 'free', 'const': 'non-neg', 'location_idx': (3, 5)}, 'outer_x_bw': {'fixed_or_free': 'free', 'const': 'non-neg', 'location_idx': (5, 6)}, 'outer_y_bw': {'fixed_or_free': 'free', 'const': 'non-neg', 'location_idx': (6, 7)}, 'y_bandscale': {'fixed_or_free': 'free', 'const': 'non-neg', 'location_idx': (7, 8)}, 'free_params': 'outside', 'fixed_params': array([], dtype=float64)}\n",
      "modeldict:{'Ndiff_type': 'recursive', 'param_count': 1, 'Ndiff_start': 0, 'max_bw_Ndiff': 2, 'normalize_Ndiffwtsum': 'own_n', 'xkern_grid': 'no', 'ykern_grid': 61, 'outer_kern': 'gaussian', 'Ndiff_bw_kern': 'rbfkern', 'outer_x_bw_form': 'one_for_all', 'regression_model': 'NW', 'product_kern_norm': 'self', 'hyper_param_form_dict': {'Ndiff_exponent': 'free', 'x_bandscale': 'non-neg', 'Ndiff_depth_bw': 'non-neg', 'outer_x_bw': 'non-neg', 'outer_y_bw': 'non-neg', 'y_bandscale': 'non-neg'}}\n",
      "~~~~~~~run number:77`~~~~~~~\n",
      "a_rundict{'optimizedict': {'opt_settings_dict': {'method': 'Nelder-Mead', 'options': {'xatol': 0.01, 'fatol': 0.1, 'adaptive': True}, 'help_start': 1, 'partial_match': 1}, 'hyper_param_dict': {'Ndiff_exponent': array([0.3, 0.3]), 'x_bandscale': array([1.]), 'outer_x_bw': array([2.7]), 'outer_y_bw': array([2.2]), 'Ndiff_depth_bw': array([0.5, 0.5]), 'y_bandscale': array([1.5])}, 'modeldict': {'Ndiff_type': 'product', 'param_count': 1, 'Ndiff_start': 1, 'max_bw_Ndiff': 2, 'normalize_Ndiffwtsum': 'own_n', 'xkern_grid': 'no', 'ykern_grid': 61, 'outer_kern': 'gaussian', 'Ndiff_bw_kern': 'rbfkern', 'outer_x_bw_form': 'one_for_all', 'regression_model': 'NW', 'product_kern_norm': 'self', 'hyper_param_form_dict': {'Ndiff_exponent': 'free', 'x_bandscale': 'non-neg', 'Ndiff_depth_bw': 'non-neg', 'outer_x_bw': 'non-neg', 'outer_y_bw': 'non-neg', 'y_bandscale': 'non-neg'}}}, 'datagen_dict': {'train_n': 30, 'n': 200, 'param_count': 1, 'seed': 1, 'ftype': 'linear', 'evar': 1}}\n",
      "in saved_filename:condensed_model_save, len(doubledict_list):29,len(saved_dict_list):29\n",
      "--------------------------------help_start is triggered---------------------------\n",
      "--------------help_start with partial match triggered----------------\n",
      "--------------no matching models found----------\n",
      "param_valdict:{'Ndiff_exponent': array([0.3, 0.3]), 'x_bandscale': array([1.]), 'outer_x_bw': array([2.7]), 'outer_y_bw': array([2.2]), 'Ndiff_depth_bw': array([0.5, 0.5]), 'y_bandscale': array([1.5])}\n",
      "setup_fixed_or_free_paramdict:{'Ndiff_exponent': {'fixed_or_free': 'free', 'const': 'free', 'location_idx': (0, 2)}, 'x_bandscale': {'fixed_or_free': 'free', 'const': 'non-neg', 'location_idx': (2, 3)}, 'Ndiff_depth_bw': {'fixed_or_free': 'free', 'const': 'non-neg', 'location_idx': (3, 5)}, 'outer_x_bw': {'fixed_or_free': 'free', 'const': 'non-neg', 'location_idx': (5, 6)}, 'outer_y_bw': {'fixed_or_free': 'free', 'const': 'non-neg', 'location_idx': (6, 7)}, 'y_bandscale': {'fixed_or_free': 'free', 'const': 'non-neg', 'location_idx': (7, 8)}, 'free_params': 'outside', 'fixed_params': array([], dtype=float64)}\n",
      "modeldict:{'Ndiff_type': 'product', 'param_count': 1, 'Ndiff_start': 1, 'max_bw_Ndiff': 2, 'normalize_Ndiffwtsum': 'own_n', 'xkern_grid': 'no', 'ykern_grid': 61, 'outer_kern': 'gaussian', 'Ndiff_bw_kern': 'rbfkern', 'outer_x_bw_form': 'one_for_all', 'regression_model': 'NW', 'product_kern_norm': 'self', 'hyper_param_form_dict': {'Ndiff_exponent': 'free', 'x_bandscale': 'non-neg', 'Ndiff_depth_bw': 'non-neg', 'outer_x_bw': 'non-neg', 'outer_y_bw': 'non-neg', 'y_bandscale': 'non-neg'}}\n",
      "saved to model_save at about 20191117-170154 with mse=198.0465905731154\n",
      "saved to model_save at about 20191117-170200 with mse=198.0465905731154\n",
      "save_interval changed to 9\n",
      "saved to model_save at about 20191117-170238 with mse=161.05313904582496\n",
      "saved to model_save at about 20191117-170328 with mse=121.74858544508871\n",
      "saved to model_save at about 20191117-170418 with mse=110.9487396313269\n",
      "saved to model_save at about 20191117-170508 with mse=108.52068989209064\n",
      "saved to model_save at about 20191117-170558 with mse=103.96180565563373\n",
      "saved to model_save at about 20191117-170648 with mse=99.23046376779801\n",
      "saved to model_save at about 20191117-170737 with mse=98.57522050644538\n",
      "saved to model_save at about 20191117-170829 with mse=88.65301871999527\n"
     ]
    }
   ],
   "source": [
    "runlist=[2,3]\n",
    "#a_rundict=testrun[100]#this produced the Ndiff_exponent error for recursive Ndiff\n",
    "for idx in range(0,300,11):\n",
    "    print(f'~~~~~~~run number:{idx}`~~~~~~~')\n",
    "    a_rundict=testrun[idx]\n",
    "    print(f'a_rundict{a_rundict}')\n",
    "    optimizedict=a_rundict['optimizedict']\n",
    "    datagen_dict=a_rundict['datagen_dict']\n",
    "\n",
    "    try:\n",
    "        test.do_monte_opt(optimizedict,datagen_dict,force_start_params=0)\n",
    "        test.open_condense_resave('model_save',verbose=0)\n",
    "        test.merge_and_condense_saved_models(merge_directory=None,save_directory=None,condense=None,verbose=None)\n",
    "    except:pass\n"
   ]
  },
  {
   "cell_type": "code",
   "execution_count": null,
   "metadata": {
    "collapsed": false,
    "jupyter": {
     "outputs_hidden": false
    },
    "pycharm": {
     "is_executing": false,
     "name": "#%%\n"
    }
   },
   "outputs": [],
   "source": [
    "\n"
   ]
  },
  {
   "cell_type": "markdown",
   "metadata": {
    "pycharm": {
     "name": "#%% md\n"
    }
   },
   "source": [
    "#-----------------Calibrate/Optimize--------"
   ]
  },
  {
   "cell_type": "code",
   "execution_count": null,
   "metadata": {
    "collapsed": false,
    "jupyter": {
     "outputs_hidden": false
    },
    "pycharm": {
     "is_executing": false,
     "name": "#%%\n"
    }
   },
   "outputs": [],
   "source": []
  },
  {
   "cell_type": "code",
   "execution_count": null,
   "metadata": {},
   "outputs": [],
   "source": [
    "'''import myreg\n",
    "x=test.train_x\n",
    "y=test.train_y\n",
    "xfull=np.concatenate([np.ones([x.shape[0],1]),x],axis=1)\n",
    "just_linreg=myreg.reg(y,xfull)\n",
    "just_linreg.myreg()\n",
    "print('linreg_mse:',just_linreg.mse)'''"
   ]
  },
  {
   "cell_type": "code",
   "execution_count": null,
   "metadata": {},
   "outputs": [],
   "source": []
  },
  {
   "cell_type": "code",
   "execution_count": null,
   "metadata": {},
   "outputs": [],
   "source": [
    "from bokeh.io import show, output_notebook#,curdoc,save, output_file\n",
    "from bokeh.plotting import figure\n",
    "#from bokeh.models import ColumnDataSource, Range1d, BBoxTileSource\n",
    "#from bokeh.layouts import row\n",
    "output_notebook()"
   ]
  },
  {
   "cell_type": "code",
   "execution_count": null,
   "metadata": {},
   "outputs": [],
   "source": [
    "#xgrid=np.linspace(1,n,n)\n",
    "x=quad_misspec.train_x\n",
    "y=quad_misspec.train_y\n",
    "\n",
    "\n",
    "xgrid=x[:,0]\n",
    "yhat=quad_misspec.optimize_obj.yhat_un_std\n",
    "p=figure(title='y and yhat', plot_width=900, plot_height=500)\n",
    "p.xaxis.axis_label = 'observations'\n",
    "p.scatter(xgrid,y,size=10,color='blue',alpha=0.4,legend='y')\n",
    "#p.line(xgrid,precip,color='blue',alpha=0.6,legend='precipitation')\n",
    "p.scatter(xgrid,yhat,size=5,color='green',alpha=0.9,legend='yhat')\n",
    "p.circle(xgrid,just_linreg.yhat,color='red',legend='just lin reg yhat')\n",
    "p.line(xgrid,np.mean(y))\n",
    "p.legend.location = \"top_left\"\n",
    "#p.yaxis.visible=False\n",
    "show(p)"
   ]
  },
  {
   "cell_type": "code",
   "execution_count": null,
   "metadata": {},
   "outputs": [],
   "source": [
    "print(yhat)\n",
    "print(y)"
   ]
  },
  {
   "cell_type": "code",
   "execution_count": null,
   "metadata": {},
   "outputs": [],
   "source": []
  },
  {
   "cell_type": "code",
   "execution_count": null,
   "metadata": {},
   "outputs": [],
   "source": [
    "\n",
    "ypredict=optimized_Ndiff_kernel.predict_tool(xvalidate,optimized_Ndiff_kernel.fixed_or_free_paramdict,modeldict1)\n",
    "prediction_err=yvalidate-ypredict\n",
    "prediction_mse=np.mean(prediction_err**2)"
   ]
  },
  {
   "cell_type": "code",
   "execution_count": null,
   "metadata": {},
   "outputs": [],
   "source": [
    "np.ma.count_masked(yhat)"
   ]
  },
  {
   "cell_type": "code",
   "execution_count": null,
   "metadata": {},
   "outputs": [],
   "source": []
  },
  {
   "cell_type": "markdown",
   "metadata": {},
   "source": [
    "## class toolcompare(object):"
   ]
  }
 ],
 "metadata": {
  "kernelspec": {
   "display_name": "Python 3",
   "language": "python",
   "name": "python3"
  },
  "language_info": {
   "codemirror_mode": {
    "name": "ipython",
    "version": 3
   },
   "file_extension": ".py",
   "mimetype": "text/x-python",
   "name": "python",
   "nbconvert_exporter": "python",
   "pygments_lexer": "ipython3",
   "version": "3.7.1"
  },
  "pycharm": {
   "stem_cell": {
    "cell_type": "raw",
    "metadata": {
     "collapsed": false
    },
    "source": []
   }
  }
 },
 "nbformat": 4,
 "nbformat_minor": 4
}
