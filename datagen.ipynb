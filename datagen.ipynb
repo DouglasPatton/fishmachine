{
 "cells": [
  {
   "cell_type": "code",
   "execution_count": 1,
   "metadata": {},
   "outputs": [],
   "source": [
    "import datagen as dg\n",
    "import numpy as np\n",
    "from pisces_data_huc12 import PiscesDataTool as pdt\n",
    "import traceback"
   ]
  },
  {
   "cell_type": "code",
   "execution_count": 2,
   "metadata": {},
   "outputs": [],
   "source": [
    "species_list=pdt().returnspecieslist()"
   ]
  },
  {
   "cell_type": "code",
   "execution_count": 3,
   "metadata": {},
   "outputs": [],
   "source": [
    "datagen_dict=dict(\n",
    "            source='Pisces',\n",
    "            species=0, # set in data_setup\n",
    "            data_split=dict(\n",
    "                test_share=0.1,\n",
    "                cv=dict(n_splits=10,n_repeats=2,strategy=None),# e.g., 'balanced-HUC8'\n",
    "            ),\n",
    "            drop_vars=[],\n",
    "            loc_vars=['HUC12'],\n",
    "            )"
   ]
  },
  {
   "cell_type": "code",
   "execution_count": null,
   "metadata": {},
   "outputs": [
    {
     "name": "stdout",
     "output_type": "stream",
     "text": [
      "opening /home/dp/gits/kernelkernel/data_tool/specieslistfiles with length:7 and type:<class 'tuple'>\n",
      "Traceback (most recent call last):\n",
      "  File \"<ipython-input-4-39876a9339d0>\", line 5, in <module>\n",
      "    if  len(data_obj.X_train)!=len(data_obj.y_train):\n",
      "AttributeError: 'dataGenerator' object has no attribute 'X_train'\n",
      "\n",
      "opening /home/dp/gits/kernelkernel/data_tool/specieslistfiles with length:7 and type:<class 'tuple'>\n",
      "Traceback (most recent call last):\n",
      "  File \"<ipython-input-4-39876a9339d0>\", line 5, in <module>\n",
      "    if  len(data_obj.X_train)!=len(data_obj.y_train):\n",
      "AttributeError: 'dataGenerator' object has no attribute 'X_train'\n",
      "\n",
      "opening /home/dp/gits/kernelkernel/data_tool/specieslistfiles with length:7 and type:<class 'tuple'>\n",
      "Traceback (most recent call last):\n",
      "  File \"<ipython-input-4-39876a9339d0>\", line 5, in <module>\n",
      "    if  len(data_obj.X_train)!=len(data_obj.y_train):\n",
      "AttributeError: 'dataGenerator' object has no attribute 'X_train'\n",
      "\n",
      "opening /home/dp/gits/kernelkernel/data_tool/specieslistfiles with length:7 and type:<class 'tuple'>\n",
      "Traceback (most recent call last):\n",
      "  File \"<ipython-input-4-39876a9339d0>\", line 5, in <module>\n",
      "    if  len(data_obj.X_train)!=len(data_obj.y_train):\n",
      "AttributeError: 'dataGenerator' object has no attribute 'X_train'\n",
      "\n",
      "opening /home/dp/gits/kernelkernel/data_tool/specieslistfiles with length:7 and type:<class 'tuple'>\n",
      "Traceback (most recent call last):\n",
      "  File \"<ipython-input-4-39876a9339d0>\", line 5, in <module>\n",
      "    if  len(data_obj.X_train)!=len(data_obj.y_train):\n",
      "AttributeError: 'dataGenerator' object has no attribute 'X_train'\n",
      "\n",
      "opening /home/dp/gits/kernelkernel/data_tool/specieslistfiles with length:7 and type:<class 'tuple'>\n",
      "Traceback (most recent call last):\n",
      "  File \"<ipython-input-4-39876a9339d0>\", line 5, in <module>\n",
      "    if  len(data_obj.X_train)!=len(data_obj.y_train):\n",
      "AttributeError: 'dataGenerator' object has no attribute 'X_train'\n",
      "\n",
      "opening /home/dp/gits/kernelkernel/data_tool/specieslistfiles with length:7 and type:<class 'tuple'>\n",
      "Traceback (most recent call last):\n",
      "  File \"<ipython-input-4-39876a9339d0>\", line 5, in <module>\n",
      "    if  len(data_obj.X_train)!=len(data_obj.y_train):\n",
      "AttributeError: 'dataGenerator' object has no attribute 'X_train'\n",
      "\n",
      "opening /home/dp/gits/kernelkernel/data_tool/specieslistfiles with length:7 and type:<class 'tuple'>\n",
      "Traceback (most recent call last):\n",
      "  File \"<ipython-input-4-39876a9339d0>\", line 5, in <module>\n",
      "    if  len(data_obj.X_train)!=len(data_obj.y_train):\n",
      "AttributeError: 'dataGenerator' object has no attribute 'X_train'\n",
      "\n",
      "opening /home/dp/gits/kernelkernel/data_tool/specieslistfiles with length:7 and type:<class 'tuple'>\n",
      "Traceback (most recent call last):\n",
      "  File \"<ipython-input-4-39876a9339d0>\", line 5, in <module>\n",
      "    if  len(data_obj.X_train)!=len(data_obj.y_train):\n",
      "AttributeError: 'dataGenerator' object has no attribute 'X_train'\n",
      "\n",
      "opening /home/dp/gits/kernelkernel/data_tool/specieslistfiles with length:7 and type:<class 'tuple'>\n",
      "Traceback (most recent call last):\n",
      "  File \"<ipython-input-4-39876a9339d0>\", line 5, in <module>\n",
      "    if  len(data_obj.X_train)!=len(data_obj.y_train):\n",
      "AttributeError: 'dataGenerator' object has no attribute 'X_train'\n",
      "\n",
      "opening /home/dp/gits/kernelkernel/data_tool/specieslistfiles with length:7 and type:<class 'tuple'>\n",
      "Traceback (most recent call last):\n",
      "  File \"<ipython-input-4-39876a9339d0>\", line 5, in <module>\n",
      "    if  len(data_obj.X_train)!=len(data_obj.y_train):\n",
      "AttributeError: 'dataGenerator' object has no attribute 'X_train'\n",
      "\n",
      "opening /home/dp/gits/kernelkernel/data_tool/specieslistfiles with length:7 and type:<class 'tuple'>\n",
      "Traceback (most recent call last):\n",
      "  File \"<ipython-input-4-39876a9339d0>\", line 5, in <module>\n",
      "    if  len(data_obj.X_train)!=len(data_obj.y_train):\n",
      "AttributeError: 'dataGenerator' object has no attribute 'X_train'\n",
      "\n",
      "opening /home/dp/gits/kernelkernel/data_tool/specieslistfiles with length:7 and type:<class 'tuple'>\n",
      "Traceback (most recent call last):\n",
      "  File \"<ipython-input-4-39876a9339d0>\", line 5, in <module>\n",
      "    if  len(data_obj.X_train)!=len(data_obj.y_train):\n",
      "AttributeError: 'dataGenerator' object has no attribute 'X_train'\n",
      "\n"
     ]
    }
   ],
   "source": [
    "for spec in species_list:\n",
    "    try:\n",
    "        datagen_dict['species']=spec\n",
    "        data_obj=dg.dataGenerator(datagen_dict)\n",
    "        if  len(data_obj.X_train)!=len(data_obj.y_train):\n",
    "            print(f'spec has len(X_train):{len(data_obj.X_train)}, len(y_train):{len(data_obj.y_train)}')\n",
    "    except:\n",
    "        print(traceback.format_exc())"
   ]
  },
  {
   "cell_type": "code",
   "execution_count": null,
   "metadata": {},
   "outputs": [],
   "source": [
    "#data_dict=data_obj.retrievespeciesdata(species_idx=0)\n",
    "data_dict=data_obj.retrievespeciesdata(species_name='catostomus insignis')"
   ]
  },
  {
   "cell_type": "code",
   "execution_count": null,
   "metadata": {},
   "outputs": [],
   "source": [
    "cols=data_dict.columns\n",
    "col_convert={}\n",
    "for col in cols:\n",
    "    if data_dict[col].dtype=='object':\n",
    "        col_convert[col]='float64'\n",
    "data_dict2=data_dict.astype(col_convert)\n",
    "for col in cols:\n",
    "    if data_dict2[col].dtype=='object':\n",
    "        print(col)\n",
    "        "
   ]
  },
  {
   "cell_type": "code",
   "execution_count": null,
   "metadata": {},
   "outputs": [],
   "source": [
    "data_dict.loc[:,'HUC12']"
   ]
  },
  {
   "cell_type": "code",
   "execution_count": null,
   "metadata": {},
   "outputs": [],
   "source": []
  },
  {
   "cell_type": "code",
   "execution_count": null,
   "metadata": {},
   "outputs": [],
   "source": [
    "data_obj.gen_piscesdata01()"
   ]
  },
  {
   "cell_type": "code",
   "execution_count": null,
   "metadata": {},
   "outputs": [],
   "source": [
    "data_obj.speciesdata"
   ]
  },
  {
   "cell_type": "code",
   "execution_count": null,
   "metadata": {},
   "outputs": [],
   "source": [
    "dataarray=np.array(data_obj.speciesdata)\n",
    "#depvar=\n",
    "np.mean(dataarray[:,0])"
   ]
  },
  {
   "cell_type": "code",
   "execution_count": null,
   "metadata": {},
   "outputs": [],
   "source": [
    "print(dataarray[1:40,:])"
   ]
  },
  {
   "cell_type": "code",
   "execution_count": null,
   "metadata": {},
   "outputs": [],
   "source": []
  }
 ],
 "metadata": {
  "kernelspec": {
   "display_name": "Python 3",
   "language": "python",
   "name": "python3"
  },
  "language_info": {
   "codemirror_mode": {
    "name": "ipython",
    "version": 3
   },
   "file_extension": ".py",
   "mimetype": "text/x-python",
   "name": "python",
   "nbconvert_exporter": "python",
   "pygments_lexer": "ipython3",
   "version": "3.8.2"
  }
 },
 "nbformat": 4,
 "nbformat_minor": 4
}
