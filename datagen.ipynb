{
 "cells": [
  {
   "cell_type": "code",
   "execution_count": 1,
   "metadata": {},
   "outputs": [],
   "source": [
    "import datagen as dg\n",
    "import numpy as np"
   ]
  },
  {
   "cell_type": "code",
   "execution_count": 2,
   "metadata": {},
   "outputs": [],
   "source": [
    "datagen_dict={'source':'pisces','species':0}"
   ]
  },
  {
   "cell_type": "code",
   "execution_count": 3,
   "metadata": {},
   "outputs": [
    {
     "name": "stdout",
     "output_type": "stream",
     "text": [
      "streamcat data directory: /home/dp/gits/kernelkernel/../sc_data\n"
     ]
    }
   ],
   "source": [
    "data_obj=dg.datagen(datagen_dict)"
   ]
  },
  {
   "cell_type": "code",
   "execution_count": 5,
   "metadata": {},
   "outputs": [],
   "source": [
    "data_dict=data_obj.retrievespeciesdata(species_idx=0)"
   ]
  },
  {
   "cell_type": "code",
   "execution_count": 7,
   "metadata": {},
   "outputs": [
    {
     "data": {
      "text/plain": [
       "array([[1, '10003816.A', '15030104', ..., '15030104000074',\n",
       "        '150301041107', 0.0],\n",
       "       [1, '10010626.A', '15030104', ..., '15030104003309',\n",
       "        '150301041203', 0.0],\n",
       "       [0, '10080314.A', '5120109', ..., '05120109000022',\n",
       "        '051201090806', '0.0'],\n",
       "       ...,\n",
       "       [0, '20275095.A', '18090102', ..., '18090102000742',\n",
       "        '180901020401', '0.0'],\n",
       "       [0, '20265507.A', '18090103', ..., '18090103000036',\n",
       "        '180901030106', '0.0'],\n",
       "       [0, '20267041.A', '18090103', ..., '18090103000652',\n",
       "        '180901030108', '0.0']], dtype=object)"
      ]
     },
     "execution_count": 7,
     "metadata": {},
     "output_type": "execute_result"
    }
   ],
   "source": [
    "data_dict"
   ]
  },
  {
   "cell_type": "code",
   "execution_count": null,
   "metadata": {},
   "outputs": [],
   "source": []
  },
  {
   "cell_type": "code",
   "execution_count": null,
   "metadata": {},
   "outputs": [],
   "source": [
    "data_obj.gen_piscesdata01()"
   ]
  },
  {
   "cell_type": "code",
   "execution_count": null,
   "metadata": {},
   "outputs": [],
   "source": [
    "data_obj.speciesdata"
   ]
  },
  {
   "cell_type": "code",
   "execution_count": null,
   "metadata": {},
   "outputs": [],
   "source": [
    "dataarray=np.array(data_obj.speciesdata)\n",
    "#depvar=\n",
    "np.mean(dataarray[:,0])"
   ]
  },
  {
   "cell_type": "code",
   "execution_count": null,
   "metadata": {},
   "outputs": [],
   "source": [
    "print(dataarray[1:40,:])"
   ]
  },
  {
   "cell_type": "code",
   "execution_count": null,
   "metadata": {},
   "outputs": [],
   "source": []
  }
 ],
 "metadata": {
  "kernelspec": {
   "display_name": "Python 3",
   "language": "python",
   "name": "python3"
  },
  "language_info": {
   "codemirror_mode": {
    "name": "ipython",
    "version": 3
   },
   "file_extension": ".py",
   "mimetype": "text/x-python",
   "name": "python",
   "nbconvert_exporter": "python",
   "pygments_lexer": "ipython3",
   "version": "3.8.2"
  }
 },
 "nbformat": 4,
 "nbformat_minor": 4
}
