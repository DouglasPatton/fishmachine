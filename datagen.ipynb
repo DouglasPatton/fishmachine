{
 "cells": [
  {
   "cell_type": "code",
   "execution_count": 1,
   "metadata": {},
   "outputs": [],
   "source": [
    "import datagen as dg\n",
    "import numpy as np"
   ]
  },
  {
   "cell_type": "code",
   "execution_count": 2,
   "metadata": {},
   "outputs": [],
   "source": [
    "datagen_dict=dict(\n",
    "            source='Pisces',\n",
    "            species=0, # set in data_setup\n",
    "            data_split=dict(\n",
    "                test_share=0.1,\n",
    "                cv=dict(n_splits=10,n_repeats=2,strategy=None),# e.g., 'balanced-HUC8'\n",
    "            ),\n",
    "            drop_vars=[],\n",
    "            loc_vars=['HUC12'],\n",
    "            )"
   ]
  },
  {
   "cell_type": "code",
   "execution_count": 3,
   "metadata": {},
   "outputs": [
    {
     "name": "stdout",
     "output_type": "stream",
     "text": [
      "streamcat data directory: /home/dp/gits/kernelkernel/../sc_data\n",
      "opening /home/dp/gits/kernelkernel/data_tool/specieslistfiles with length:7 and type:<class 'tuple'>\n"
     ]
    }
   ],
   "source": [
    "data_obj=dg.dataGenerator(datagen_dict)"
   ]
  },
  {
   "cell_type": "code",
   "execution_count": 4,
   "metadata": {},
   "outputs": [],
   "source": [
    "#data_dict=data_obj.retrievespeciesdata(species_idx=0)\n",
    "data_dict=data_obj.retrievespeciesdata(species_name='catostomus insignis')"
   ]
  },
  {
   "cell_type": "code",
   "execution_count": 5,
   "metadata": {},
   "outputs": [],
   "source": [
    "cols=data_dict.columns\n",
    "col_convert={}\n",
    "for col in cols:\n",
    "    if data_dict[col].dtype=='object':\n",
    "        col_convert[col]='float64'\n",
    "data_dict2=data_dict.astype(col_convert)\n",
    "for col in cols:\n",
    "    if data_dict2[col].dtype=='object':\n",
    "        print(col)\n",
    "        "
   ]
  },
  {
   "cell_type": "code",
   "execution_count": 6,
   "metadata": {},
   "outputs": [
    {
     "data": {
      "text/plain": [
       "20435246    150602030108\n",
       "20435258    150602030108\n",
       "20435284    150602030104\n",
       "20435320    150602030110\n",
       "20435378    150602030301\n",
       "20436506    150602030206\n",
       "20437386    150602030405\n",
       "20438416    150602030409\n",
       "20451324    150602020404\n",
       "20453946    150602020706\n",
       "20454224    150602020615\n",
       "20493383    150601010102\n",
       "20493453    150601010102\n",
       "20495043    150601010104\n",
       "20495087    150601010109\n",
       "21322721    150400050302\n",
       "21323859    150400050309\n",
       "21324283    150400050309\n",
       "21327929    150400050408\n",
       "21331049    150400050505\n",
       "21331223    150400050712\n",
       "21351925    150400040504\n",
       "21354987    150400040705\n",
       "21357181    150400040905\n",
       "21357599    150400040710\n",
       "21397197    150302020104\n",
       "3077713     150400020811\n",
       "3078075     150400020710\n",
       "20773710    130600080705\n",
       "21389162    150302030505\n",
       "21274486    150501000303\n",
       "15932661    150502020706\n",
       "15932827    150502020608\n",
       "15934865    150502020604\n",
       "22437550    150601030302\n",
       "22438418    150601030302\n",
       "22440330    150601030407\n",
       "22440718    150601030802\n",
       "22440818    150601030408\n",
       "22441494    150601030904\n",
       "22442058    150601030905\n",
       "22428340    150601050206\n",
       "22428506    150601050205\n",
       "22428768    150601050310\n",
       "20478484    150601060307\n",
       "20414616    150701020402\n",
       "Name: HUC12, dtype: object"
      ]
     },
     "execution_count": 6,
     "metadata": {},
     "output_type": "execute_result"
    }
   ],
   "source": [
    "data_dict.loc[:,'HUC12']"
   ]
  },
  {
   "cell_type": "code",
   "execution_count": null,
   "metadata": {},
   "outputs": [],
   "source": []
  },
  {
   "cell_type": "code",
   "execution_count": 7,
   "metadata": {},
   "outputs": [
    {
     "ename": "AttributeError",
     "evalue": "'dataGenerator' object has no attribute 'gen_piscesdata01'",
     "output_type": "error",
     "traceback": [
      "\u001b[0;31m---------------------------------------------------------------------------\u001b[0m",
      "\u001b[0;31mAttributeError\u001b[0m                            Traceback (most recent call last)",
      "\u001b[0;32m<ipython-input-7-ac511ce3c0de>\u001b[0m in \u001b[0;36m<module>\u001b[0;34m\u001b[0m\n\u001b[0;32m----> 1\u001b[0;31m \u001b[0mdata_obj\u001b[0m\u001b[0;34m.\u001b[0m\u001b[0mgen_piscesdata01\u001b[0m\u001b[0;34m(\u001b[0m\u001b[0;34m)\u001b[0m\u001b[0;34m\u001b[0m\u001b[0;34m\u001b[0m\u001b[0m\n\u001b[0m",
      "\u001b[0;31mAttributeError\u001b[0m: 'dataGenerator' object has no attribute 'gen_piscesdata01'"
     ]
    }
   ],
   "source": [
    "data_obj.gen_piscesdata01()"
   ]
  },
  {
   "cell_type": "code",
   "execution_count": null,
   "metadata": {},
   "outputs": [],
   "source": [
    "data_obj.speciesdata"
   ]
  },
  {
   "cell_type": "code",
   "execution_count": null,
   "metadata": {},
   "outputs": [],
   "source": [
    "dataarray=np.array(data_obj.speciesdata)\n",
    "#depvar=\n",
    "np.mean(dataarray[:,0])"
   ]
  },
  {
   "cell_type": "code",
   "execution_count": null,
   "metadata": {},
   "outputs": [],
   "source": [
    "print(dataarray[1:40,:])"
   ]
  },
  {
   "cell_type": "code",
   "execution_count": null,
   "metadata": {},
   "outputs": [],
   "source": []
  }
 ],
 "metadata": {
  "kernelspec": {
   "display_name": "Python 3",
   "language": "python",
   "name": "python3"
  },
  "language_info": {
   "codemirror_mode": {
    "name": "ipython",
    "version": 3
   },
   "file_extension": ".py",
   "mimetype": "text/x-python",
   "name": "python",
   "nbconvert_exporter": "python",
   "pygments_lexer": "ipython3",
   "version": "3.8.2"
  }
 },
 "nbformat": 4,
 "nbformat_minor": 4
}
