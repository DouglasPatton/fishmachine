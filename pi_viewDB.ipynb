{
 "cells": [
  {
   "cell_type": "code",
   "execution_count": 1,
   "metadata": {},
   "outputs": [],
   "source": [
    "from pi_db_tool import DBTool"
   ]
  },
  {
   "cell_type": "code",
   "execution_count": 2,
   "metadata": {},
   "outputs": [],
   "source": [
    "dbt=DBTool()"
   ]
  },
  {
   "cell_type": "code",
   "execution_count": 4,
   "metadata": {},
   "outputs": [],
   "source": [
    "results_dict=dbt.resultsDBdict()"
   ]
  },
  {
   "cell_type": "code",
   "execution_count": 5,
   "metadata": {},
   "outputs": [],
   "source": [
    "gen_dict=dbt.genDBdict()"
   ]
  },
  {
   "cell_type": "code",
   "execution_count": 6,
   "metadata": {},
   "outputs": [
    {
     "name": "stdout",
     "output_type": "stream",
     "text": [
      "96\n"
     ]
    }
   ],
   "source": [
    "print(len(results_dict))"
   ]
  },
  {
   "cell_type": "code",
   "execution_count": 7,
   "metadata": {},
   "outputs": [
    {
     "name": "stdout",
     "output_type": "stream",
     "text": [
      "2260\n"
     ]
    }
   ],
   "source": [
    "print(len(gen_dict))"
   ]
  },
  {
   "cell_type": "code",
   "execution_count": 9,
   "metadata": {},
   "outputs": [
    {
     "name": "stdout",
     "output_type": "stream",
     "text": [
      "937e753565733315dba9ba409ed6fcbd\n",
      "3297b16a7b9216153b732300facda7f6\n",
      "f5f05637c07902e3ae4921c3b0290838\n",
      "4450eaca890c58527c7379c0ecf998f0\n",
      "ff5af421df49227af3110e4a419db91c\n",
      "d4b572480a836c1a828df53afd50ec59\n",
      "6f47d3367cb51b6dfbeb999106b85eae\n",
      "487123c2fb130c28f82c1a75022b9134\n",
      "c6e1f365625b41af6def7622fef24cef\n",
      "d432d8f0c0c9c98007497bbc2a0ca87b\n",
      "60affaa23aabe4ae9e3f26578c655675\n",
      "2359e7288889678ad5f274a172c9f3b1\n",
      "1ed790bb01200797519d37c5215d1106\n",
      "250147ada51ad2256272f71245daa59b\n",
      "e3f0cd80ed9543b1afc10b6f146a8cb6\n",
      "1fdc43ff238701ee89cf7fabc8a61e43\n",
      "af548532b941c546c4f2af4ec6f5db16\n",
      "8ffd6999be6bf2b876fc2c191a41162c\n",
      "67fd3438c4314e60ddd50d6f81379645\n",
      "f9d8816c06007a69e4f60e22316ae222\n",
      "74901925598b462b518287666e9a355d\n",
      "a16076b0504346fd4a3bfa61990ad858\n",
      "184a7645d04376add795c352a9039235\n",
      "7bab2ee16704dc068f0f3af76d24683d\n",
      "024b481e1bbdc1311e5a0b793723d695\n",
      "b8dcaea93b076765341621b53e58ccf8\n",
      "a7e36d8cc18d803ae5304c2906b8d4b1\n",
      "8ade8d65d987ee48e8ac6e6d1d7b1110\n",
      "f411734351d066ee69929178eebc4119\n",
      "6edfdf7f42111078ef79eafd827a59e6\n",
      "7023c295b1a92357c93f05d41ccc9ac2\n",
      "7ddaa2a97283bc729a0372108d8a0878\n",
      "2ac5fa54782367a0d85d7cd1c81c24a6\n",
      "2366bc8f47535be186ccfcea9a66e64c\n",
      "c04853b5b891914bfb83ddfe7d6192b2\n",
      "95672a702b1cc56afecbb74d2a9ebefe\n",
      "c98ec1382a8b1cfc356daae627a0a45c\n",
      "8a37e7dde3e4c287d703b1e8eaa02a3b\n",
      "a92e6f79ae18b756774fd7076773ee1e\n",
      "954cb0ea246823ae6aa583254afa63aa\n",
      "c7661998164d4f68d37d143ecf886059\n",
      "84c2bb84819ac3e2fd044f94a9114b08\n",
      "7b563549d504de84264acbee70c887f8\n",
      "1f6fb9b3982e13469c21c010d88efca3\n",
      "dee8117296134c8bc71f40e0c03b218e\n",
      "fc6f353d6eb4462ac5b149a2acb3c9e5\n",
      "4e9762a380eef09b2e45af5f9ae9a7f0\n",
      "fef4903e3dfafce6d92a96de64f2ab68\n",
      "75e0e17448fb5debe0097601f8f0c1d2\n",
      "eda12070ae24c3b22b2f814a1d74762c\n",
      "635bffc63b59949a759c5d1d3d66fbaf\n",
      "a5df11df9518b20189a1686bb227d34b\n",
      "89a118aaa99a92f788c773dbe8e5d888\n",
      "4f9904d5dc873bb276da2aa601ff6bb1\n",
      "b1e49e698c444a6fbf762fff25ed22e2\n",
      "80661e5f6736793dd817bcb437d6a77d\n",
      "239fab78d4814f0d90d46809b1c159bc\n",
      "28a3bd9f6ab54a7e3ac56d17c48b4fee\n",
      "2984e990da0f64dba5fd8197ba9baa2c\n",
      "979b960e2014218b35278f4737b24c66\n",
      "68ce1e1fad8d6358098cc1f8e4ed7a4b\n",
      "31c5301972f785669c20d44db4d16822\n",
      "37168fbfa4335e1fad2a5f7db24fecc0\n",
      "e6128c640b1f247cfbd179e25cf89b3b\n",
      "4f054d586ebd4236431c20e9723101b8\n",
      "d44857c977258f96d80f0424ca15ad4e\n",
      "6e03692070538dbbf9cb523f69fc4bdc\n",
      "00430065189427e9f28de3c69f6ee3ee\n",
      "648357851597978364dd334ca1996c16\n",
      "6f56c60e088951c262e21e2df9425385\n",
      "52635e57f785218dee4401ffde57bb05\n",
      "9c24b80170d75ea102c8001a37c70552\n",
      "bf91a5f97b5ed887b1a425548416ad2b\n",
      "886666331349f6ca71762a6b1129ef78\n",
      "ec4445f58ad32c8573eb0eefa503c3ae\n",
      "4b613f15db4de85564bc43d9d1439231\n",
      "de2120004cf6426871f0299bdfed396f\n",
      "f60fc6d4a7e84597cc15aa4a551b49fb\n",
      "5db9bc052562edae21ac7ce04f4a6cc1\n",
      "2f5cee72abe22c06d6ecae7c1e5669f0\n",
      "8ecd4e27675b4037818125117a599774\n",
      "24c77988f8f67cbe355d40f3aef8cfd3\n",
      "5e1288865429e124d9c4ea14261b44db\n",
      "80c247bf89c72cb6d32d859bfa15fd89\n",
      "3f2ac3971b0edccd3eea8bd817315630\n",
      "c71506699352937d63e38ad1d1d329f5\n",
      "108761248402d7a8d2793c98aefce852\n",
      "fb8dc3b817c4d3a7104f2b326d6da5df\n",
      "596f1eaab2485347c0ba7c12d537d51e\n",
      "163b3bde0087c0d91fd2244f6f331ab3\n",
      "b28a962095a5f4d5e083db9e327f51b0\n",
      "4e94bda20b1a50046fdce515d8d371f9\n",
      "b0e06434c7e6eadf9c46ddf0f4e8ab2c\n",
      "633716bde659a7bc8bee4eed0c2826f1\n",
      "da57138711b673dd79aad416cc742bb9\n",
      "1c946f06267c64f450dd648498805461\n"
     ]
    }
   ],
   "source": [
    "for key in results_dict.keys():\n",
    "    \n",
    "    try:\n",
    "        r=results_dict[key]\n",
    "        print(r)\n",
    "    except:\n",
    "        print(key)"
   ]
  },
  {
   "cell_type": "code",
   "execution_count": null,
   "metadata": {},
   "outputs": [],
   "source": []
  }
 ],
 "metadata": {
  "kernelspec": {
   "display_name": "Python 3",
   "language": "python",
   "name": "python3"
  },
  "language_info": {
   "codemirror_mode": {
    "name": "ipython",
    "version": 3
   },
   "file_extension": ".py",
   "mimetype": "text/x-python",
   "name": "python",
   "nbconvert_exporter": "python",
   "pygments_lexer": "ipython3",
   "version": "3.8.2"
  }
 },
 "nbformat": 4,
 "nbformat_minor": 4
}
