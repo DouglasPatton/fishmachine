{
 "cells": [
  {
   "cell_type": "code",
   "execution_count": 1,
   "metadata": {},
   "outputs": [],
   "source": [
    "from pi_results import PiResults"
   ]
  },
  {
   "cell_type": "code",
   "execution_count": 2,
   "metadata": {},
   "outputs": [],
   "source": [
    "pr=PiResults()"
   ]
  },
  {
   "cell_type": "code",
   "execution_count": null,
   "metadata": {},
   "outputs": [],
   "source": []
  },
  {
   "cell_type": "code",
   "execution_count": 3,
   "metadata": {},
   "outputs": [
    {
     "name": "stdout",
     "output_type": "stream",
     "text": [
      "4.4675090252707585% \n",
      "8.98014440433213% \n",
      "13.492779783393502% \n",
      "18.005415162454874% \n",
      "22.518050541516246% \n",
      "27.030685920577618% \n",
      "31.54332129963899% \n",
      "36.05595667870036% \n",
      "40.568592057761734% \n",
      "45.081227436823106% \n",
      "49.59386281588448% \n",
      "54.10649819494585% \n",
      "58.61913357400722% \n",
      "63.131768953068594% \n",
      "67.64440433212997% \n",
      "72.15703971119133% \n",
      "76.66967509025271% \n",
      "81.18231046931407% \n",
      "85.69494584837545% \n",
      "90.20758122743682% \n",
      "94.7202166064982% \n",
      "99.23285198555956% \n"
     ]
    }
   ],
   "source": [
    "pr.build_species_estimator_prediction_dict(rebuild=0)"
   ]
  },
  {
   "cell_type": "code",
   "execution_count": null,
   "metadata": {},
   "outputs": [],
   "source": []
  },
  {
   "cell_type": "code",
   "execution_count": null,
   "metadata": {},
   "outputs": [],
   "source": []
  },
  {
   "cell_type": "code",
   "execution_count": null,
   "metadata": {},
   "outputs": [],
   "source": []
  },
  {
   "cell_type": "code",
   "execution_count": null,
   "metadata": {},
   "outputs": [],
   "source": []
  },
  {
   "cell_type": "code",
   "execution_count": null,
   "metadata": {},
   "outputs": [],
   "source": []
  }
 ],
 "metadata": {
  "kernelspec": {
   "display_name": "Python 3",
   "language": "python",
   "name": "python3"
  },
  "language_info": {
   "codemirror_mode": {
    "name": "ipython",
    "version": 3
   },
   "file_extension": ".py",
   "mimetype": "text/x-python",
   "name": "python",
   "nbconvert_exporter": "python",
   "pygments_lexer": "ipython3",
   "version": "3.8.2"
  }
 },
 "nbformat": 4,
 "nbformat_minor": 4
}
