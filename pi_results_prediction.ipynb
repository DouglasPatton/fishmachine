{
 "cells": [
  {
   "cell_type": "code",
   "execution_count": 1,
   "metadata": {},
   "outputs": [],
   "source": [
    "from pi_results import PiResults"
   ]
  },
  {
   "cell_type": "code",
   "execution_count": 2,
   "metadata": {},
   "outputs": [],
   "source": [
    "import numpy as np\n",
    "import pandas as pd"
   ]
  },
  {
   "cell_type": "code",
   "execution_count": 3,
   "metadata": {},
   "outputs": [],
   "source": [
    "pr=PiResults()\n"
   ]
  },
  {
   "cell_type": "code",
   "execution_count": 4,
   "metadata": {},
   "outputs": [],
   "source": [
    "#dghashdict=pr.build_dghash_hash_id_dict(rebuild=1)"
   ]
  },
  {
   "cell_type": "code",
   "execution_count": 6,
   "metadata": {},
   "outputs": [],
   "source": [
    "#list(dghashdict.items())"
   ]
  },
  {
   "cell_type": "code",
   "execution_count": 7,
   "metadata": {},
   "outputs": [],
   "source": [
    "agg_df=pr.build_aggregate_predictions_by_species(rebuild=1)\n"
   ]
  },
  {
   "cell_type": "code",
   "execution_count": 8,
   "metadata": {},
   "outputs": [
    {
     "data": {
      "text/plain": [
       "(783493, 3)"
      ]
     },
     "execution_count": 8,
     "metadata": {},
     "output_type": "execute_result"
    }
   ],
   "source": [
    "agg_df.shape"
   ]
  },
  {
   "cell_type": "code",
   "execution_count": 9,
   "metadata": {},
   "outputs": [],
   "source": [
    "#y=agg_df.loc[:,'y']"
   ]
  },
  {
   "cell_type": "code",
   "execution_count": 10,
   "metadata": {},
   "outputs": [],
   "source": [
    "yhat=agg_df.drop('y_train',level='estimator').loc[:,agg_df.columns!='y']"
   ]
  },
  {
   "cell_type": "code",
   "execution_count": 11,
   "metadata": {},
   "outputs": [],
   "source": [
    "y=agg_df.xs('y_train',level='estimator').loc[:,['y']]"
   ]
  },
  {
   "cell_type": "code",
   "execution_count": 12,
   "metadata": {},
   "outputs": [
    {
     "data": {
      "text/plain": [
       "Index    3186641\n",
       "y        1958280\n",
       "dtype: int64"
      ]
     },
     "execution_count": 12,
     "metadata": {},
     "output_type": "execute_result"
    }
   ],
   "source": [
    "y.memory_usage()"
   ]
  },
  {
   "cell_type": "code",
   "execution_count": 13,
   "metadata": {},
   "outputs": [],
   "source": [
    "y_a,yhat_a= y.align(yhat,axis=0)"
   ]
  },
  {
   "cell_type": "code",
   "execution_count": 14,
   "metadata": {},
   "outputs": [
    {
     "data": {
      "text/html": [
       "<div>\n",
       "<style scoped>\n",
       "    .dataframe tbody tr th:only-of-type {\n",
       "        vertical-align: middle;\n",
       "    }\n",
       "\n",
       "    .dataframe tbody tr th {\n",
       "        vertical-align: top;\n",
       "    }\n",
       "\n",
       "    .dataframe thead th {\n",
       "        text-align: right;\n",
       "    }\n",
       "</style>\n",
       "<table border=\"1\" class=\"dataframe\">\n",
       "  <thead>\n",
       "    <tr style=\"text-align: right;\">\n",
       "      <th></th>\n",
       "      <th></th>\n",
       "      <th></th>\n",
       "      <th></th>\n",
       "      <th>yhat_0</th>\n",
       "      <th>yhat_1</th>\n",
       "    </tr>\n",
       "    <tr>\n",
       "      <th>species</th>\n",
       "      <th>HUC12</th>\n",
       "      <th>COMID</th>\n",
       "      <th>estimator</th>\n",
       "      <th></th>\n",
       "      <th></th>\n",
       "    </tr>\n",
       "  </thead>\n",
       "  <tbody>\n",
       "    <tr>\n",
       "      <th rowspan=\"5\" valign=\"top\">ameiurus melas</th>\n",
       "      <th rowspan=\"2\" valign=\"top\">010802010501</th>\n",
       "      <th rowspan=\"2\" valign=\"top\">6778513</th>\n",
       "      <th>logistic-reg</th>\n",
       "      <td>-0.0</td>\n",
       "      <td>-0.0</td>\n",
       "    </tr>\n",
       "    <tr>\n",
       "      <th>linear-svc</th>\n",
       "      <td>-0.0</td>\n",
       "      <td>-0.0</td>\n",
       "    </tr>\n",
       "    <tr>\n",
       "      <th rowspan=\"2\" valign=\"top\">010802010503</th>\n",
       "      <th rowspan=\"2\" valign=\"top\">6778573</th>\n",
       "      <th>logistic-reg</th>\n",
       "      <td>-1.0</td>\n",
       "      <td>-0.0</td>\n",
       "    </tr>\n",
       "    <tr>\n",
       "      <th>linear-svc</th>\n",
       "      <td>-0.0</td>\n",
       "      <td>-0.0</td>\n",
       "    </tr>\n",
       "    <tr>\n",
       "      <th>010802010602</th>\n",
       "      <th>6778961</th>\n",
       "      <th>logistic-reg</th>\n",
       "      <td>-1.0</td>\n",
       "      <td>-0.0</td>\n",
       "    </tr>\n",
       "    <tr>\n",
       "      <th>...</th>\n",
       "      <th>...</th>\n",
       "      <th>...</th>\n",
       "      <th>...</th>\n",
       "      <td>...</td>\n",
       "      <td>...</td>\n",
       "    </tr>\n",
       "    <tr>\n",
       "      <th rowspan=\"5\" valign=\"top\">zzzno fish</th>\n",
       "      <th rowspan=\"5\" valign=\"top\">181002010205</th>\n",
       "      <th rowspan=\"5\" valign=\"top\">22592131</th>\n",
       "      <th>logistic-reg</th>\n",
       "      <td>-0.0</td>\n",
       "      <td>-0.0</td>\n",
       "    </tr>\n",
       "    <tr>\n",
       "      <th>linear-svc</th>\n",
       "      <td>1.0</td>\n",
       "      <td>-0.0</td>\n",
       "    </tr>\n",
       "    <tr>\n",
       "      <th>rbf-svc</th>\n",
       "      <td>1.0</td>\n",
       "      <td>-0.0</td>\n",
       "    </tr>\n",
       "    <tr>\n",
       "      <th>gradient-boosting-classifier</th>\n",
       "      <td>1.0</td>\n",
       "      <td>-0.0</td>\n",
       "    </tr>\n",
       "    <tr>\n",
       "      <th>hist-gradient-boosting-classifier</th>\n",
       "      <td>1.0</td>\n",
       "      <td>-0.0</td>\n",
       "    </tr>\n",
       "  </tbody>\n",
       "</table>\n",
       "<p>538962 rows × 2 columns</p>\n",
       "</div>"
      ],
      "text/plain": [
       "                                                                        yhat_0  \\\n",
       "species        HUC12        COMID    estimator                                   \n",
       "ameiurus melas 010802010501 6778513  logistic-reg                         -0.0   \n",
       "                                     linear-svc                           -0.0   \n",
       "               010802010503 6778573  logistic-reg                         -1.0   \n",
       "                                     linear-svc                           -0.0   \n",
       "               010802010602 6778961  logistic-reg                         -1.0   \n",
       "...                                                                        ...   \n",
       "zzzno fish     181002010205 22592131 logistic-reg                         -0.0   \n",
       "                                     linear-svc                            1.0   \n",
       "                                     rbf-svc                               1.0   \n",
       "                                     gradient-boosting-classifier          1.0   \n",
       "                                     hist-gradient-boosting-classifier     1.0   \n",
       "\n",
       "                                                                        yhat_1  \n",
       "species        HUC12        COMID    estimator                                  \n",
       "ameiurus melas 010802010501 6778513  logistic-reg                         -0.0  \n",
       "                                     linear-svc                           -0.0  \n",
       "               010802010503 6778573  logistic-reg                         -0.0  \n",
       "                                     linear-svc                           -0.0  \n",
       "               010802010602 6778961  logistic-reg                         -0.0  \n",
       "...                                                                        ...  \n",
       "zzzno fish     181002010205 22592131 logistic-reg                         -0.0  \n",
       "                                     linear-svc                           -0.0  \n",
       "                                     rbf-svc                              -0.0  \n",
       "                                     gradient-boosting-classifier         -0.0  \n",
       "                                     hist-gradient-boosting-classifier    -0.0  \n",
       "\n",
       "[538962 rows x 2 columns]"
      ]
     },
     "execution_count": 14,
     "metadata": {},
     "output_type": "execute_result"
    }
   ],
   "source": [
    "diff=-1*yhat_a.sub(y_a['y'],axis=0)\n"
   ]
  },
  {
   "cell_type": "code",
   "execution_count": 34,
   "metadata": {},
   "outputs": [],
   "source": [
    "diff1huc12=diff.mean(axis=1).mean(level='HUC12')#.mean(level='estimator')#.mean(level='comid').mean(level='species')"
   ]
  },
  {
   "cell_type": "code",
   "execution_count": 35,
   "metadata": {},
   "outputs": [
    {
     "data": {
      "text/plain": [
       "HUC12\n",
       "010802010501    0.000000\n",
       "010802010503    0.033333\n",
       "010802010602   -0.200000\n",
       "010802010702   -0.100000\n",
       "010802040402   -0.029412\n",
       "                  ...   \n",
       "170402170604   -0.750000\n",
       "170402180402   -1.000000\n",
       "170402180403   -1.000000\n",
       "020801110204    0.100000\n",
       "181002010205    0.400000\n",
       "Length: 11832, dtype: float64"
      ]
     },
     "execution_count": 35,
     "metadata": {},
     "output_type": "execute_result"
    }
   ],
   "source": [
    "diff1huc12"
   ]
  },
  {
   "cell_type": "code",
   "execution_count": 25,
   "metadata": {},
   "outputs": [
    {
     "data": {
      "text/plain": [
       "species         HUC12         COMID     estimator                        \n",
       "ameiurus melas  010802010501  6778513   logistic-reg                         0.0\n",
       "                                        linear-svc                           0.0\n",
       "                010802010503  6778573   logistic-reg                        -0.5\n",
       "                                        linear-svc                           0.0\n",
       "                010802010602  6778961   logistic-reg                        -0.5\n",
       "                                                                            ... \n",
       "zzzno fish      181002010205  22592131  logistic-reg                         0.0\n",
       "                                        linear-svc                           0.5\n",
       "                                        rbf-svc                              0.5\n",
       "                                        gradient-boosting-classifier         0.5\n",
       "                                        hist-gradient-boosting-classifier    0.5\n",
       "Length: 538962, dtype: float64"
      ]
     },
     "execution_count": 25,
     "metadata": {},
     "output_type": "execute_result"
    }
   ],
   "source": [
    "diff"
   ]
  },
  {
   "cell_type": "code",
   "execution_count": null,
   "metadata": {},
   "outputs": [],
   "source": [
    "print(y_a,yhat_a,diff)"
   ]
  },
  {
   "cell_type": "code",
   "execution_count": null,
   "metadata": {},
   "outputs": [],
   "source": [
    "'''yhat=agg_df.drop('y_train',level='estimator').loc[:,agg_df.columns!='y'].mean(axis=1)\n",
    "yhat_mean=pd.DataFrame(yhat,columns=['yhat'])\n",
    "yhat_mean'''"
   ]
  },
  {
   "cell_type": "code",
   "execution_count": null,
   "metadata": {},
   "outputs": [],
   "source": []
  },
  {
   "cell_type": "code",
   "execution_count": null,
   "metadata": {},
   "outputs": [],
   "source": []
  }
 ],
 "metadata": {
  "kernelspec": {
   "display_name": "Python 3",
   "language": "python",
   "name": "python3"
  },
  "language_info": {
   "codemirror_mode": {
    "name": "ipython",
    "version": 3
   },
   "file_extension": ".py",
   "mimetype": "text/x-python",
   "name": "python",
   "nbconvert_exporter": "python",
   "pygments_lexer": "ipython3",
   "version": "3.8.2"
  }
 },
 "nbformat": 4,
 "nbformat_minor": 4
}
